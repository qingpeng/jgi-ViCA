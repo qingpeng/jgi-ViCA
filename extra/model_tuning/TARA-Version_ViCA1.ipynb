{
 "cells": [
  {
   "cell_type": "code",
   "execution_count": 1,
   "metadata": {
    "collapsed": true
   },
   "outputs": [],
   "source": [
    "%matplotlib inline"
   ]
  },
  {
   "cell_type": "code",
   "execution_count": 2,
   "metadata": {
    "collapsed": true
   },
   "outputs": [],
   "source": [
    "import pandas as pd\n",
    "import numpy as np\n",
    "import matplotlib.pyplot as plt"
   ]
  },
  {
   "cell_type": "code",
   "execution_count": 3,
   "metadata": {
    "collapsed": true
   },
   "outputs": [],
   "source": [
    "\n",
    "from sklearn.datasets import load_svmlight_file\n",
    "from sklearn.externals import joblib\n",
    "import argparse\n",
    "from sklearn.metrics import average_precision_score\n",
    "from sklearn.metrics import confusion_matrix, precision_recall_curve\n",
    "from sklearn.metrics import classification_report"
   ]
  },
  {
   "cell_type": "code",
   "execution_count": 4,
   "metadata": {},
   "outputs": [],
   "source": [
    "result = pd.read_csv('/Users/qingpeng/Documents/all_2k_prediction.out.label.prediction_combined',sep=' ',header=None,names=['name','length','probability','prediction','vfam','pfam','diamond','label',\n",
    "                                                                                       'score_euk_non_euk','pred_euk_non_euk','score_non_euk_virus','pred_non_euk_virus',\n",
    "                                                                                      'score_virus_non_virus','pred_virus_non_virus'])"
   ]
  },
  {
   "cell_type": "code",
   "execution_count": 5,
   "metadata": {},
   "outputs": [
    {
     "data": {
      "text/plain": [
       "213723"
      ]
     },
     "execution_count": 5,
     "metadata": {},
     "output_type": "execute_result"
    }
   ],
   "source": [
    "len(result)"
   ]
  },
  {
   "cell_type": "code",
   "execution_count": 6,
   "metadata": {},
   "outputs": [
    {
     "data": {
      "text/plain": [
       "6913"
      ]
     },
     "execution_count": 6,
     "metadata": {},
     "output_type": "execute_result"
    }
   ],
   "source": [
    "len(result[result.label==1.0])"
   ]
  },
  {
   "cell_type": "markdown",
   "metadata": {},
   "source": [
    "### Formular to calcuate hybrid probability score from score from old model and euk/non-euk model"
   ]
  },
  {
   "cell_type": "code",
   "execution_count": 7,
   "metadata": {
    "collapsed": true
   },
   "outputs": [],
   "source": [
    "result[\"hybrid_probability\"] = (result[\"score_euk_non_euk\"] * result[\"probability\"])**0.5"
   ]
  },
  {
   "cell_type": "code",
   "execution_count": 8,
   "metadata": {
    "collapsed": true
   },
   "outputs": [],
   "source": [
    "result[\"hybrid_prediction\"] = (result.hybrid_probability >0.5)"
   ]
  },
  {
   "cell_type": "code",
   "execution_count": 9,
   "metadata": {
    "scrolled": true
   },
   "outputs": [
    {
     "data": {
      "text/html": [
       "<div>\n",
       "<style>\n",
       "    .dataframe thead tr:only-child th {\n",
       "        text-align: right;\n",
       "    }\n",
       "\n",
       "    .dataframe thead th {\n",
       "        text-align: left;\n",
       "    }\n",
       "\n",
       "    .dataframe tbody tr th {\n",
       "        vertical-align: top;\n",
       "    }\n",
       "</style>\n",
       "<table border=\"1\" class=\"dataframe\">\n",
       "  <thead>\n",
       "    <tr style=\"text-align: right;\">\n",
       "      <th></th>\n",
       "      <th>name</th>\n",
       "      <th>length</th>\n",
       "      <th>probability</th>\n",
       "      <th>prediction</th>\n",
       "      <th>vfam</th>\n",
       "      <th>pfam</th>\n",
       "      <th>diamond</th>\n",
       "      <th>label</th>\n",
       "      <th>score_euk_non_euk</th>\n",
       "      <th>pred_euk_non_euk</th>\n",
       "      <th>score_non_euk_virus</th>\n",
       "      <th>pred_non_euk_virus</th>\n",
       "      <th>score_virus_non_virus</th>\n",
       "      <th>pred_virus_non_virus</th>\n",
       "      <th>hybrid_probability</th>\n",
       "      <th>hybrid_prediction</th>\n",
       "    </tr>\n",
       "  </thead>\n",
       "  <tbody>\n",
       "    <tr>\n",
       "      <th>0</th>\n",
       "      <td>NODE_1_length_91451_cov_163.114_g0_i0</td>\n",
       "      <td>91451</td>\n",
       "      <td>0.000375</td>\n",
       "      <td>0.0</td>\n",
       "      <td>0.0</td>\n",
       "      <td>0.0</td>\n",
       "      <td>0.0</td>\n",
       "      <td>0.0</td>\n",
       "      <td>0.000025</td>\n",
       "      <td>0.0</td>\n",
       "      <td>0.996004</td>\n",
       "      <td>1.0</td>\n",
       "      <td>0.001954</td>\n",
       "      <td>0.0</td>\n",
       "      <td>0.000097</td>\n",
       "      <td>False</td>\n",
       "    </tr>\n",
       "    <tr>\n",
       "      <th>1</th>\n",
       "      <td>NODE_2_length_74096_cov_303.895_g1_i0</td>\n",
       "      <td>74096</td>\n",
       "      <td>0.000088</td>\n",
       "      <td>0.0</td>\n",
       "      <td>0.0</td>\n",
       "      <td>0.0</td>\n",
       "      <td>0.0</td>\n",
       "      <td>0.0</td>\n",
       "      <td>0.000012</td>\n",
       "      <td>0.0</td>\n",
       "      <td>0.995278</td>\n",
       "      <td>1.0</td>\n",
       "      <td>0.000529</td>\n",
       "      <td>0.0</td>\n",
       "      <td>0.000032</td>\n",
       "      <td>False</td>\n",
       "    </tr>\n",
       "    <tr>\n",
       "      <th>2</th>\n",
       "      <td>NODE_3_length_66420_cov_268.59_g1_i1</td>\n",
       "      <td>66420</td>\n",
       "      <td>0.000041</td>\n",
       "      <td>0.0</td>\n",
       "      <td>0.0</td>\n",
       "      <td>0.0</td>\n",
       "      <td>0.0</td>\n",
       "      <td>0.0</td>\n",
       "      <td>0.000009</td>\n",
       "      <td>0.0</td>\n",
       "      <td>0.996629</td>\n",
       "      <td>1.0</td>\n",
       "      <td>0.000761</td>\n",
       "      <td>0.0</td>\n",
       "      <td>0.000019</td>\n",
       "      <td>False</td>\n",
       "    </tr>\n",
       "    <tr>\n",
       "      <th>3</th>\n",
       "      <td>NODE_4_length_61338_cov_317.585_g2_i0</td>\n",
       "      <td>61338</td>\n",
       "      <td>0.000056</td>\n",
       "      <td>0.0</td>\n",
       "      <td>0.0</td>\n",
       "      <td>0.0</td>\n",
       "      <td>0.0</td>\n",
       "      <td>0.0</td>\n",
       "      <td>0.000008</td>\n",
       "      <td>0.0</td>\n",
       "      <td>0.991967</td>\n",
       "      <td>1.0</td>\n",
       "      <td>0.000477</td>\n",
       "      <td>0.0</td>\n",
       "      <td>0.000021</td>\n",
       "      <td>False</td>\n",
       "    </tr>\n",
       "    <tr>\n",
       "      <th>4</th>\n",
       "      <td>NODE_5_length_59036_cov_197.701_g0_i1</td>\n",
       "      <td>59036</td>\n",
       "      <td>0.000040</td>\n",
       "      <td>0.0</td>\n",
       "      <td>0.0</td>\n",
       "      <td>0.0</td>\n",
       "      <td>0.0</td>\n",
       "      <td>0.0</td>\n",
       "      <td>0.000008</td>\n",
       "      <td>0.0</td>\n",
       "      <td>0.990354</td>\n",
       "      <td>1.0</td>\n",
       "      <td>0.000617</td>\n",
       "      <td>0.0</td>\n",
       "      <td>0.000018</td>\n",
       "      <td>False</td>\n",
       "    </tr>\n",
       "  </tbody>\n",
       "</table>\n",
       "</div>"
      ],
      "text/plain": [
       "                                    name  length  probability  prediction  \\\n",
       "0  NODE_1_length_91451_cov_163.114_g0_i0   91451     0.000375         0.0   \n",
       "1  NODE_2_length_74096_cov_303.895_g1_i0   74096     0.000088         0.0   \n",
       "2   NODE_3_length_66420_cov_268.59_g1_i1   66420     0.000041         0.0   \n",
       "3  NODE_4_length_61338_cov_317.585_g2_i0   61338     0.000056         0.0   \n",
       "4  NODE_5_length_59036_cov_197.701_g0_i1   59036     0.000040         0.0   \n",
       "\n",
       "   vfam  pfam  diamond  label  score_euk_non_euk  pred_euk_non_euk  \\\n",
       "0   0.0   0.0      0.0    0.0           0.000025               0.0   \n",
       "1   0.0   0.0      0.0    0.0           0.000012               0.0   \n",
       "2   0.0   0.0      0.0    0.0           0.000009               0.0   \n",
       "3   0.0   0.0      0.0    0.0           0.000008               0.0   \n",
       "4   0.0   0.0      0.0    0.0           0.000008               0.0   \n",
       "\n",
       "   score_non_euk_virus  pred_non_euk_virus  score_virus_non_virus  \\\n",
       "0             0.996004                 1.0               0.001954   \n",
       "1             0.995278                 1.0               0.000529   \n",
       "2             0.996629                 1.0               0.000761   \n",
       "3             0.991967                 1.0               0.000477   \n",
       "4             0.990354                 1.0               0.000617   \n",
       "\n",
       "   pred_virus_non_virus  hybrid_probability  hybrid_prediction  \n",
       "0                   0.0            0.000097              False  \n",
       "1                   0.0            0.000032              False  \n",
       "2                   0.0            0.000019              False  \n",
       "3                   0.0            0.000021              False  \n",
       "4                   0.0            0.000018              False  "
      ]
     },
     "execution_count": 9,
     "metadata": {},
     "output_type": "execute_result"
    }
   ],
   "source": [
    "result.head()"
   ]
  },
  {
   "cell_type": "code",
   "execution_count": 11,
   "metadata": {},
   "outputs": [],
   "source": [
    "### Using MEGAN annotation to check model performance \n",
    "\n",
    "\n",
    "from ete2 import NCBITaxa\n",
    "ncbi = NCBITaxa()\n",
    "def get_top_label(tax_id):\n",
    "    lineage = ncbi.get_lineage(tax_id)\n",
    "    for i in lineage:\n",
    "        if i == 2759:\n",
    "            return \"Eukaryota\"\n",
    "        elif i == 10239:\n",
    "            return \"Virus\"\n",
    "        elif i == 2157:\n",
    "            return \"Archaea\"\n",
    "        elif i == 2:\n",
    "            return \"Bacteria\"\n",
    "        elif i == 12884:\n",
    "            return \"Viroids\"\n",
    "        elif i == 28384:\n",
    "            return \"other\"\n",
    "        elif i == 12908:\n",
    "            return \"unclassified\"\n",
    "    else:\n",
    "        return \"N/A\"\n",
    "\n",
    "def get_ranks(tax_id):\n",
    "    ranks = ncbi.get_rank([tax_id])\n",
    "    try:\n",
    "        return ranks.values()[0]\n",
    "    except:\n",
    "        return tax_id\n",
    "    \n",
    "def get_name(tax_id):\n",
    "    ranks = ncbi.get_taxid_translator([tax_id])\n",
    "    try:\n",
    "        return ranks.values()[0]\n",
    "    except:\n",
    "        return tax_id\n",
    "\n",
    "# get MEGAN annotation results\n",
    "\n",
    "megan_annot = pd.read_csv('./Micromonas/all_2k_contigs.fa.diamond-ex-all_tax_ID.txt',sep='\\t',header=None,names=['name','tax_id'])\n",
    "\n",
    "megan_annot['rank'] = megan_annot['tax_id'].apply(get_ranks)\n",
    "megan_annot['tax_name']= megan_annot['tax_id'].apply(get_name)\n",
    "megan_annot['top_label']= megan_annot['tax_id'].apply(get_top_label)\n"
   ]
  },
  {
   "cell_type": "code",
   "execution_count": 12,
   "metadata": {},
   "outputs": [],
   "source": [
    "ranks = ncbi.get_lineage(186616)"
   ]
  },
  {
   "cell_type": "code",
   "execution_count": 13,
   "metadata": {},
   "outputs": [
    {
     "data": {
      "text/plain": [
       "[1, 10239, 186616]"
      ]
     },
     "execution_count": 13,
     "metadata": {},
     "output_type": "execute_result"
    }
   ],
   "source": [
    "ranks"
   ]
  },
  {
   "cell_type": "code",
   "execution_count": 14,
   "metadata": {},
   "outputs": [
    {
     "data": {
      "text/html": [
       "<div>\n",
       "<style>\n",
       "    .dataframe thead tr:only-child th {\n",
       "        text-align: right;\n",
       "    }\n",
       "\n",
       "    .dataframe thead th {\n",
       "        text-align: left;\n",
       "    }\n",
       "\n",
       "    .dataframe tbody tr th {\n",
       "        vertical-align: top;\n",
       "    }\n",
       "</style>\n",
       "<table border=\"1\" class=\"dataframe\">\n",
       "  <thead>\n",
       "    <tr style=\"text-align: right;\">\n",
       "      <th></th>\n",
       "      <th>name</th>\n",
       "      <th>tax_id</th>\n",
       "      <th>rank</th>\n",
       "      <th>tax_name</th>\n",
       "      <th>top_label</th>\n",
       "    </tr>\n",
       "  </thead>\n",
       "  <tbody>\n",
       "    <tr>\n",
       "      <th>0</th>\n",
       "      <td>NODE_646_length_5889_cov_28.079_g448_i0</td>\n",
       "      <td>1</td>\n",
       "      <td>no rank</td>\n",
       "      <td>root</td>\n",
       "      <td>N/A</td>\n",
       "    </tr>\n",
       "    <tr>\n",
       "      <th>1</th>\n",
       "      <td>NODE_667_length_5857_cov_28.2491_g448_i1</td>\n",
       "      <td>1</td>\n",
       "      <td>no rank</td>\n",
       "      <td>root</td>\n",
       "      <td>N/A</td>\n",
       "    </tr>\n",
       "    <tr>\n",
       "      <th>2</th>\n",
       "      <td>NODE_671_length_5843_cov_18.2623_g465_i0</td>\n",
       "      <td>1</td>\n",
       "      <td>no rank</td>\n",
       "      <td>root</td>\n",
       "      <td>N/A</td>\n",
       "    </tr>\n",
       "    <tr>\n",
       "      <th>3</th>\n",
       "      <td>NODE_806_length_5513_cov_46.199_g556_i0</td>\n",
       "      <td>1</td>\n",
       "      <td>no rank</td>\n",
       "      <td>root</td>\n",
       "      <td>N/A</td>\n",
       "    </tr>\n",
       "    <tr>\n",
       "      <th>4</th>\n",
       "      <td>NODE_807_length_5513_cov_37.6629_g556_i1</td>\n",
       "      <td>1</td>\n",
       "      <td>no rank</td>\n",
       "      <td>root</td>\n",
       "      <td>N/A</td>\n",
       "    </tr>\n",
       "  </tbody>\n",
       "</table>\n",
       "</div>"
      ],
      "text/plain": [
       "                                       name  tax_id     rank tax_name  \\\n",
       "0   NODE_646_length_5889_cov_28.079_g448_i0       1  no rank     root   \n",
       "1  NODE_667_length_5857_cov_28.2491_g448_i1       1  no rank     root   \n",
       "2  NODE_671_length_5843_cov_18.2623_g465_i0       1  no rank     root   \n",
       "3   NODE_806_length_5513_cov_46.199_g556_i0       1  no rank     root   \n",
       "4  NODE_807_length_5513_cov_37.6629_g556_i1       1  no rank     root   \n",
       "\n",
       "  top_label  \n",
       "0       N/A  \n",
       "1       N/A  \n",
       "2       N/A  \n",
       "3       N/A  \n",
       "4       N/A  "
      ]
     },
     "execution_count": 14,
     "metadata": {},
     "output_type": "execute_result"
    }
   ],
   "source": [
    "megan_annot.head()"
   ]
  },
  {
   "cell_type": "code",
   "execution_count": 15,
   "metadata": {},
   "outputs": [
    {
     "data": {
      "text/plain": [
       "208302"
      ]
     },
     "execution_count": 15,
     "metadata": {},
     "output_type": "execute_result"
    }
   ],
   "source": [
    "len(megan_annot)"
   ]
  },
  {
   "cell_type": "code",
   "execution_count": 16,
   "metadata": {
    "collapsed": true
   },
   "outputs": [],
   "source": [
    "new_table = pd.merge(result,megan_annot, on=['name'])"
   ]
  },
  {
   "cell_type": "markdown",
   "metadata": {},
   "source": [
    "### 7041 contigs as ground-truth virus-related, with hits to virus-related domains, or annotated as virus by MEGAN based on BlastX/Diamond alignment"
   ]
  },
  {
   "cell_type": "code",
   "execution_count": 17,
   "metadata": {},
   "outputs": [
    {
     "data": {
      "text/plain": [
       "7041"
      ]
     },
     "execution_count": 17,
     "metadata": {},
     "output_type": "execute_result"
    }
   ],
   "source": [
    "len(new_table[new_table.label==1.0])"
   ]
  },
  {
   "cell_type": "markdown",
   "metadata": {},
   "source": [
    "### 208302 contigs with length >=2k, in TARA\n"
   ]
  },
  {
   "cell_type": "code",
   "execution_count": 18,
   "metadata": {},
   "outputs": [
    {
     "data": {
      "text/plain": [
       "208302"
      ]
     },
     "execution_count": 18,
     "metadata": {},
     "output_type": "execute_result"
    }
   ],
   "source": [
    "len(new_table)"
   ]
  },
  {
   "cell_type": "code",
   "execution_count": 19,
   "metadata": {},
   "outputs": [
    {
     "data": {
      "text/html": [
       "<div>\n",
       "<style>\n",
       "    .dataframe thead tr:only-child th {\n",
       "        text-align: right;\n",
       "    }\n",
       "\n",
       "    .dataframe thead th {\n",
       "        text-align: left;\n",
       "    }\n",
       "\n",
       "    .dataframe tbody tr th {\n",
       "        vertical-align: top;\n",
       "    }\n",
       "</style>\n",
       "<table border=\"1\" class=\"dataframe\">\n",
       "  <thead>\n",
       "    <tr style=\"text-align: right;\">\n",
       "      <th></th>\n",
       "      <th>name</th>\n",
       "      <th>length</th>\n",
       "      <th>probability</th>\n",
       "      <th>prediction</th>\n",
       "      <th>vfam</th>\n",
       "      <th>pfam</th>\n",
       "      <th>diamond</th>\n",
       "      <th>label</th>\n",
       "      <th>score_euk_non_euk</th>\n",
       "      <th>pred_euk_non_euk</th>\n",
       "      <th>score_non_euk_virus</th>\n",
       "      <th>pred_non_euk_virus</th>\n",
       "      <th>score_virus_non_virus</th>\n",
       "      <th>pred_virus_non_virus</th>\n",
       "      <th>hybrid_probability</th>\n",
       "      <th>hybrid_prediction</th>\n",
       "      <th>tax_id</th>\n",
       "      <th>rank</th>\n",
       "      <th>tax_name</th>\n",
       "      <th>top_label</th>\n",
       "    </tr>\n",
       "  </thead>\n",
       "  <tbody>\n",
       "    <tr>\n",
       "      <th>0</th>\n",
       "      <td>NODE_1_length_91451_cov_163.114_g0_i0</td>\n",
       "      <td>91451</td>\n",
       "      <td>0.000375</td>\n",
       "      <td>0.0</td>\n",
       "      <td>0.0</td>\n",
       "      <td>0.0</td>\n",
       "      <td>0.0</td>\n",
       "      <td>0.0</td>\n",
       "      <td>0.000025</td>\n",
       "      <td>0.0</td>\n",
       "      <td>0.996004</td>\n",
       "      <td>1.0</td>\n",
       "      <td>0.001954</td>\n",
       "      <td>0.0</td>\n",
       "      <td>0.000097</td>\n",
       "      <td>False</td>\n",
       "      <td>1236</td>\n",
       "      <td>class</td>\n",
       "      <td>Gammaproteobacteria</td>\n",
       "      <td>Bacteria</td>\n",
       "    </tr>\n",
       "    <tr>\n",
       "      <th>1</th>\n",
       "      <td>NODE_2_length_74096_cov_303.895_g1_i0</td>\n",
       "      <td>74096</td>\n",
       "      <td>0.000088</td>\n",
       "      <td>0.0</td>\n",
       "      <td>0.0</td>\n",
       "      <td>0.0</td>\n",
       "      <td>0.0</td>\n",
       "      <td>0.0</td>\n",
       "      <td>0.000012</td>\n",
       "      <td>0.0</td>\n",
       "      <td>0.995278</td>\n",
       "      <td>1.0</td>\n",
       "      <td>0.000529</td>\n",
       "      <td>0.0</td>\n",
       "      <td>0.000032</td>\n",
       "      <td>False</td>\n",
       "      <td>254161</td>\n",
       "      <td>species</td>\n",
       "      <td>Pseudomonas pachastrellae</td>\n",
       "      <td>Bacteria</td>\n",
       "    </tr>\n",
       "    <tr>\n",
       "      <th>2</th>\n",
       "      <td>NODE_3_length_66420_cov_268.59_g1_i1</td>\n",
       "      <td>66420</td>\n",
       "      <td>0.000041</td>\n",
       "      <td>0.0</td>\n",
       "      <td>0.0</td>\n",
       "      <td>0.0</td>\n",
       "      <td>0.0</td>\n",
       "      <td>0.0</td>\n",
       "      <td>0.000009</td>\n",
       "      <td>0.0</td>\n",
       "      <td>0.996629</td>\n",
       "      <td>1.0</td>\n",
       "      <td>0.000761</td>\n",
       "      <td>0.0</td>\n",
       "      <td>0.000019</td>\n",
       "      <td>False</td>\n",
       "      <td>254161</td>\n",
       "      <td>species</td>\n",
       "      <td>Pseudomonas pachastrellae</td>\n",
       "      <td>Bacteria</td>\n",
       "    </tr>\n",
       "    <tr>\n",
       "      <th>3</th>\n",
       "      <td>NODE_4_length_61338_cov_317.585_g2_i0</td>\n",
       "      <td>61338</td>\n",
       "      <td>0.000056</td>\n",
       "      <td>0.0</td>\n",
       "      <td>0.0</td>\n",
       "      <td>0.0</td>\n",
       "      <td>0.0</td>\n",
       "      <td>0.0</td>\n",
       "      <td>0.000008</td>\n",
       "      <td>0.0</td>\n",
       "      <td>0.991967</td>\n",
       "      <td>1.0</td>\n",
       "      <td>0.000477</td>\n",
       "      <td>0.0</td>\n",
       "      <td>0.000021</td>\n",
       "      <td>False</td>\n",
       "      <td>286</td>\n",
       "      <td>genus</td>\n",
       "      <td>Pseudomonas</td>\n",
       "      <td>Bacteria</td>\n",
       "    </tr>\n",
       "    <tr>\n",
       "      <th>4</th>\n",
       "      <td>NODE_5_length_59036_cov_197.701_g0_i1</td>\n",
       "      <td>59036</td>\n",
       "      <td>0.000040</td>\n",
       "      <td>0.0</td>\n",
       "      <td>0.0</td>\n",
       "      <td>0.0</td>\n",
       "      <td>0.0</td>\n",
       "      <td>0.0</td>\n",
       "      <td>0.000008</td>\n",
       "      <td>0.0</td>\n",
       "      <td>0.990354</td>\n",
       "      <td>1.0</td>\n",
       "      <td>0.000617</td>\n",
       "      <td>0.0</td>\n",
       "      <td>0.000018</td>\n",
       "      <td>False</td>\n",
       "      <td>286</td>\n",
       "      <td>genus</td>\n",
       "      <td>Pseudomonas</td>\n",
       "      <td>Bacteria</td>\n",
       "    </tr>\n",
       "  </tbody>\n",
       "</table>\n",
       "</div>"
      ],
      "text/plain": [
       "                                    name  length  probability  prediction  \\\n",
       "0  NODE_1_length_91451_cov_163.114_g0_i0   91451     0.000375         0.0   \n",
       "1  NODE_2_length_74096_cov_303.895_g1_i0   74096     0.000088         0.0   \n",
       "2   NODE_3_length_66420_cov_268.59_g1_i1   66420     0.000041         0.0   \n",
       "3  NODE_4_length_61338_cov_317.585_g2_i0   61338     0.000056         0.0   \n",
       "4  NODE_5_length_59036_cov_197.701_g0_i1   59036     0.000040         0.0   \n",
       "\n",
       "   vfam  pfam  diamond  label  score_euk_non_euk  pred_euk_non_euk  \\\n",
       "0   0.0   0.0      0.0    0.0           0.000025               0.0   \n",
       "1   0.0   0.0      0.0    0.0           0.000012               0.0   \n",
       "2   0.0   0.0      0.0    0.0           0.000009               0.0   \n",
       "3   0.0   0.0      0.0    0.0           0.000008               0.0   \n",
       "4   0.0   0.0      0.0    0.0           0.000008               0.0   \n",
       "\n",
       "   score_non_euk_virus  pred_non_euk_virus  score_virus_non_virus  \\\n",
       "0             0.996004                 1.0               0.001954   \n",
       "1             0.995278                 1.0               0.000529   \n",
       "2             0.996629                 1.0               0.000761   \n",
       "3             0.991967                 1.0               0.000477   \n",
       "4             0.990354                 1.0               0.000617   \n",
       "\n",
       "   pred_virus_non_virus  hybrid_probability  hybrid_prediction  tax_id  \\\n",
       "0                   0.0            0.000097              False    1236   \n",
       "1                   0.0            0.000032              False  254161   \n",
       "2                   0.0            0.000019              False  254161   \n",
       "3                   0.0            0.000021              False     286   \n",
       "4                   0.0            0.000018              False     286   \n",
       "\n",
       "      rank                   tax_name top_label  \n",
       "0    class        Gammaproteobacteria  Bacteria  \n",
       "1  species  Pseudomonas pachastrellae  Bacteria  \n",
       "2  species  Pseudomonas pachastrellae  Bacteria  \n",
       "3    genus                Pseudomonas  Bacteria  \n",
       "4    genus                Pseudomonas  Bacteria  "
      ]
     },
     "execution_count": 19,
     "metadata": {},
     "output_type": "execute_result"
    }
   ],
   "source": [
    "new_table.head()"
   ]
  },
  {
   "cell_type": "code",
   "execution_count": 20,
   "metadata": {
    "collapsed": true
   },
   "outputs": [],
   "source": [
    "new_table[\"non_euk_label\"] = (new_table.top_label!='Eukaryota')"
   ]
  },
  {
   "cell_type": "code",
   "execution_count": 21,
   "metadata": {
    "collapsed": true
   },
   "outputs": [],
   "source": [
    "new_table[\"micromonas_label\"] = (new_table.tax_name=='Micromonas') |(new_table.tax_name=='Micromonas pusilla CCMP1545')|(\n",
    "        new_table.tax_name=='Micromonas commoda')\n"
   ]
  },
  {
   "cell_type": "markdown",
   "metadata": {},
   "source": [
    "#### \"no rank\" does not equal \"no annotation\""
   ]
  },
  {
   "cell_type": "code",
   "execution_count": 22,
   "metadata": {},
   "outputs": [],
   "source": [
    "def convert_top_label(top_label):\n",
    "    if top_label == 'N/A':\n",
    "        return 'no annotation'\n",
    "    else:\n",
    "        return 'with annotation'"
   ]
  },
  {
   "cell_type": "code",
   "execution_count": 23,
   "metadata": {},
   "outputs": [],
   "source": [
    "new_table['annotation_label'] = new_table['top_label'].map(convert_top_label)"
   ]
  },
  {
   "cell_type": "code",
   "execution_count": 24,
   "metadata": {
    "collapsed": true
   },
   "outputs": [],
   "source": [
    "groupby_top_label = new_table.groupby('top_label')"
   ]
  },
  {
   "cell_type": "code",
   "execution_count": 25,
   "metadata": {},
   "outputs": [
    {
     "data": {
      "text/html": [
       "<div>\n",
       "<style>\n",
       "    .dataframe thead tr:only-child th {\n",
       "        text-align: right;\n",
       "    }\n",
       "\n",
       "    .dataframe thead th {\n",
       "        text-align: left;\n",
       "    }\n",
       "\n",
       "    .dataframe tbody tr th {\n",
       "        vertical-align: top;\n",
       "    }\n",
       "</style>\n",
       "<table border=\"1\" class=\"dataframe\">\n",
       "  <thead>\n",
       "    <tr>\n",
       "      <th></th>\n",
       "      <th colspan=\"8\" halign=\"left\">diamond</th>\n",
       "      <th colspan=\"2\" halign=\"left\">hybrid_probability</th>\n",
       "      <th>...</th>\n",
       "      <th colspan=\"2\" halign=\"left\">tax_id</th>\n",
       "      <th colspan=\"8\" halign=\"left\">vfam</th>\n",
       "    </tr>\n",
       "    <tr>\n",
       "      <th></th>\n",
       "      <th>count</th>\n",
       "      <th>mean</th>\n",
       "      <th>std</th>\n",
       "      <th>min</th>\n",
       "      <th>25%</th>\n",
       "      <th>50%</th>\n",
       "      <th>75%</th>\n",
       "      <th>max</th>\n",
       "      <th>count</th>\n",
       "      <th>mean</th>\n",
       "      <th>...</th>\n",
       "      <th>75%</th>\n",
       "      <th>max</th>\n",
       "      <th>count</th>\n",
       "      <th>mean</th>\n",
       "      <th>std</th>\n",
       "      <th>min</th>\n",
       "      <th>25%</th>\n",
       "      <th>50%</th>\n",
       "      <th>75%</th>\n",
       "      <th>max</th>\n",
       "    </tr>\n",
       "    <tr>\n",
       "      <th>top_label</th>\n",
       "      <th></th>\n",
       "      <th></th>\n",
       "      <th></th>\n",
       "      <th></th>\n",
       "      <th></th>\n",
       "      <th></th>\n",
       "      <th></th>\n",
       "      <th></th>\n",
       "      <th></th>\n",
       "      <th></th>\n",
       "      <th></th>\n",
       "      <th></th>\n",
       "      <th></th>\n",
       "      <th></th>\n",
       "      <th></th>\n",
       "      <th></th>\n",
       "      <th></th>\n",
       "      <th></th>\n",
       "      <th></th>\n",
       "      <th></th>\n",
       "      <th></th>\n",
       "    </tr>\n",
       "  </thead>\n",
       "  <tbody>\n",
       "    <tr>\n",
       "      <th>Archaea</th>\n",
       "      <td>5122.0</td>\n",
       "      <td>0.0</td>\n",
       "      <td>0.0</td>\n",
       "      <td>0.0</td>\n",
       "      <td>0.0</td>\n",
       "      <td>0.0</td>\n",
       "      <td>0.0</td>\n",
       "      <td>0.0</td>\n",
       "      <td>5122.0</td>\n",
       "      <td>0.512848</td>\n",
       "      <td>...</td>\n",
       "      <td>928852.0</td>\n",
       "      <td>1802371.0</td>\n",
       "      <td>5122.0</td>\n",
       "      <td>0.000390</td>\n",
       "      <td>0.019758</td>\n",
       "      <td>0.0</td>\n",
       "      <td>0.0</td>\n",
       "      <td>0.0</td>\n",
       "      <td>0.0</td>\n",
       "      <td>1.0</td>\n",
       "    </tr>\n",
       "    <tr>\n",
       "      <th>Bacteria</th>\n",
       "      <td>144895.0</td>\n",
       "      <td>0.0</td>\n",
       "      <td>0.0</td>\n",
       "      <td>0.0</td>\n",
       "      <td>0.0</td>\n",
       "      <td>0.0</td>\n",
       "      <td>0.0</td>\n",
       "      <td>0.0</td>\n",
       "      <td>144895.0</td>\n",
       "      <td>0.197942</td>\n",
       "      <td>...</td>\n",
       "      <td>254161.0</td>\n",
       "      <td>1904754.0</td>\n",
       "      <td>144895.0</td>\n",
       "      <td>0.000228</td>\n",
       "      <td>0.015090</td>\n",
       "      <td>0.0</td>\n",
       "      <td>0.0</td>\n",
       "      <td>0.0</td>\n",
       "      <td>0.0</td>\n",
       "      <td>1.0</td>\n",
       "    </tr>\n",
       "    <tr>\n",
       "      <th>Eukaryota</th>\n",
       "      <td>40920.0</td>\n",
       "      <td>0.0</td>\n",
       "      <td>0.0</td>\n",
       "      <td>0.0</td>\n",
       "      <td>0.0</td>\n",
       "      <td>0.0</td>\n",
       "      <td>0.0</td>\n",
       "      <td>0.0</td>\n",
       "      <td>40920.0</td>\n",
       "      <td>0.328757</td>\n",
       "      <td>...</td>\n",
       "      <td>296587.0</td>\n",
       "      <td>1720309.0</td>\n",
       "      <td>40920.0</td>\n",
       "      <td>0.000806</td>\n",
       "      <td>0.028387</td>\n",
       "      <td>0.0</td>\n",
       "      <td>0.0</td>\n",
       "      <td>0.0</td>\n",
       "      <td>0.0</td>\n",
       "      <td>1.0</td>\n",
       "    </tr>\n",
       "    <tr>\n",
       "      <th>N/A</th>\n",
       "      <td>10559.0</td>\n",
       "      <td>0.0</td>\n",
       "      <td>0.0</td>\n",
       "      <td>0.0</td>\n",
       "      <td>0.0</td>\n",
       "      <td>0.0</td>\n",
       "      <td>0.0</td>\n",
       "      <td>0.0</td>\n",
       "      <td>10559.0</td>\n",
       "      <td>0.330749</td>\n",
       "      <td>...</td>\n",
       "      <td>131567.0</td>\n",
       "      <td>171193.0</td>\n",
       "      <td>10559.0</td>\n",
       "      <td>0.002368</td>\n",
       "      <td>0.048603</td>\n",
       "      <td>0.0</td>\n",
       "      <td>0.0</td>\n",
       "      <td>0.0</td>\n",
       "      <td>0.0</td>\n",
       "      <td>1.0</td>\n",
       "    </tr>\n",
       "    <tr>\n",
       "      <th>Virus</th>\n",
       "      <td>6619.0</td>\n",
       "      <td>1.0</td>\n",
       "      <td>0.0</td>\n",
       "      <td>1.0</td>\n",
       "      <td>1.0</td>\n",
       "      <td>1.0</td>\n",
       "      <td>1.0</td>\n",
       "      <td>1.0</td>\n",
       "      <td>6619.0</td>\n",
       "      <td>0.572819</td>\n",
       "      <td>...</td>\n",
       "      <td>1407671.0</td>\n",
       "      <td>1880590.0</td>\n",
       "      <td>6619.0</td>\n",
       "      <td>0.001662</td>\n",
       "      <td>0.040735</td>\n",
       "      <td>0.0</td>\n",
       "      <td>0.0</td>\n",
       "      <td>0.0</td>\n",
       "      <td>0.0</td>\n",
       "      <td>1.0</td>\n",
       "    </tr>\n",
       "    <tr>\n",
       "      <th>unclassified</th>\n",
       "      <td>187.0</td>\n",
       "      <td>0.0</td>\n",
       "      <td>0.0</td>\n",
       "      <td>0.0</td>\n",
       "      <td>0.0</td>\n",
       "      <td>0.0</td>\n",
       "      <td>0.0</td>\n",
       "      <td>0.0</td>\n",
       "      <td>187.0</td>\n",
       "      <td>0.267134</td>\n",
       "      <td>...</td>\n",
       "      <td>455537.0</td>\n",
       "      <td>743646.0</td>\n",
       "      <td>187.0</td>\n",
       "      <td>0.000000</td>\n",
       "      <td>0.000000</td>\n",
       "      <td>0.0</td>\n",
       "      <td>0.0</td>\n",
       "      <td>0.0</td>\n",
       "      <td>0.0</td>\n",
       "      <td>0.0</td>\n",
       "    </tr>\n",
       "  </tbody>\n",
       "</table>\n",
       "<p>6 rows × 120 columns</p>\n",
       "</div>"
      ],
      "text/plain": [
       "               diamond                                    hybrid_probability  \\\n",
       "                 count mean  std  min  25%  50%  75%  max              count   \n",
       "top_label                                                                      \n",
       "Archaea         5122.0  0.0  0.0  0.0  0.0  0.0  0.0  0.0             5122.0   \n",
       "Bacteria      144895.0  0.0  0.0  0.0  0.0  0.0  0.0  0.0           144895.0   \n",
       "Eukaryota      40920.0  0.0  0.0  0.0  0.0  0.0  0.0  0.0            40920.0   \n",
       "N/A            10559.0  0.0  0.0  0.0  0.0  0.0  0.0  0.0            10559.0   \n",
       "Virus           6619.0  1.0  0.0  1.0  1.0  1.0  1.0  1.0             6619.0   \n",
       "unclassified     187.0  0.0  0.0  0.0  0.0  0.0  0.0  0.0              187.0   \n",
       "\n",
       "                       ...      tax_id                 vfam            \\\n",
       "                  mean ...         75%        max     count      mean   \n",
       "top_label              ...                                              \n",
       "Archaea       0.512848 ...    928852.0  1802371.0    5122.0  0.000390   \n",
       "Bacteria      0.197942 ...    254161.0  1904754.0  144895.0  0.000228   \n",
       "Eukaryota     0.328757 ...    296587.0  1720309.0   40920.0  0.000806   \n",
       "N/A           0.330749 ...    131567.0   171193.0   10559.0  0.002368   \n",
       "Virus         0.572819 ...   1407671.0  1880590.0    6619.0  0.001662   \n",
       "unclassified  0.267134 ...    455537.0   743646.0     187.0  0.000000   \n",
       "\n",
       "                                                 \n",
       "                   std  min  25%  50%  75%  max  \n",
       "top_label                                        \n",
       "Archaea       0.019758  0.0  0.0  0.0  0.0  1.0  \n",
       "Bacteria      0.015090  0.0  0.0  0.0  0.0  1.0  \n",
       "Eukaryota     0.028387  0.0  0.0  0.0  0.0  1.0  \n",
       "N/A           0.048603  0.0  0.0  0.0  0.0  1.0  \n",
       "Virus         0.040735  0.0  0.0  0.0  0.0  1.0  \n",
       "unclassified  0.000000  0.0  0.0  0.0  0.0  0.0  \n",
       "\n",
       "[6 rows x 120 columns]"
      ]
     },
     "execution_count": 25,
     "metadata": {},
     "output_type": "execute_result"
    }
   ],
   "source": [
    "groupby_top_label.describe()"
   ]
  },
  {
   "cell_type": "code",
   "execution_count": 26,
   "metadata": {},
   "outputs": [
    {
     "data": {
      "text/html": [
       "<div>\n",
       "<style>\n",
       "    .dataframe thead tr:only-child th {\n",
       "        text-align: right;\n",
       "    }\n",
       "\n",
       "    .dataframe thead th {\n",
       "        text-align: left;\n",
       "    }\n",
       "\n",
       "    .dataframe tbody tr th {\n",
       "        vertical-align: top;\n",
       "    }\n",
       "</style>\n",
       "<table border=\"1\" class=\"dataframe\">\n",
       "  <thead>\n",
       "    <tr style=\"text-align: right;\">\n",
       "      <th></th>\n",
       "      <th>name</th>\n",
       "      <th>length</th>\n",
       "      <th>probability</th>\n",
       "      <th>prediction</th>\n",
       "      <th>vfam</th>\n",
       "      <th>pfam</th>\n",
       "      <th>diamond</th>\n",
       "      <th>label</th>\n",
       "      <th>score_euk_non_euk</th>\n",
       "      <th>pred_euk_non_euk</th>\n",
       "      <th>...</th>\n",
       "      <th>pred_virus_non_virus</th>\n",
       "      <th>hybrid_probability</th>\n",
       "      <th>hybrid_prediction</th>\n",
       "      <th>tax_id</th>\n",
       "      <th>rank</th>\n",
       "      <th>tax_name</th>\n",
       "      <th>top_label</th>\n",
       "      <th>non_euk_label</th>\n",
       "      <th>micromonas_label</th>\n",
       "      <th>annotation_label</th>\n",
       "    </tr>\n",
       "  </thead>\n",
       "  <tbody>\n",
       "    <tr>\n",
       "      <th>208297</th>\n",
       "      <td>NODE_24_length_2077_cov_446.169_g16_i1</td>\n",
       "      <td>2077</td>\n",
       "      <td>6.905139e-22</td>\n",
       "      <td>0.0</td>\n",
       "      <td>0.0</td>\n",
       "      <td>0.0</td>\n",
       "      <td>0.0</td>\n",
       "      <td>0.0</td>\n",
       "      <td>0.999649</td>\n",
       "      <td>1.0</td>\n",
       "      <td>...</td>\n",
       "      <td>0.0</td>\n",
       "      <td>2.627301e-11</td>\n",
       "      <td>False</td>\n",
       "      <td>2</td>\n",
       "      <td>superkingdom</td>\n",
       "      <td>Bacteria</td>\n",
       "      <td>Bacteria</td>\n",
       "      <td>True</td>\n",
       "      <td>False</td>\n",
       "      <td>with annotation</td>\n",
       "    </tr>\n",
       "    <tr>\n",
       "      <th>208298</th>\n",
       "      <td>NODE_25_length_2052_cov_125.315_g17_i0</td>\n",
       "      <td>2052</td>\n",
       "      <td>3.904817e-01</td>\n",
       "      <td>0.0</td>\n",
       "      <td>0.0</td>\n",
       "      <td>0.0</td>\n",
       "      <td>0.0</td>\n",
       "      <td>0.0</td>\n",
       "      <td>0.987839</td>\n",
       "      <td>1.0</td>\n",
       "      <td>...</td>\n",
       "      <td>0.0</td>\n",
       "      <td>6.210742e-01</td>\n",
       "      <td>True</td>\n",
       "      <td>1768207</td>\n",
       "      <td>species</td>\n",
       "      <td>uncultured bacterium EIL80E09</td>\n",
       "      <td>Bacteria</td>\n",
       "      <td>True</td>\n",
       "      <td>False</td>\n",
       "      <td>with annotation</td>\n",
       "    </tr>\n",
       "    <tr>\n",
       "      <th>208299</th>\n",
       "      <td>NODE_26_length_2034_cov_1097.97_g18_i0</td>\n",
       "      <td>2034</td>\n",
       "      <td>1.245392e-04</td>\n",
       "      <td>0.0</td>\n",
       "      <td>0.0</td>\n",
       "      <td>0.0</td>\n",
       "      <td>0.0</td>\n",
       "      <td>0.0</td>\n",
       "      <td>0.995742</td>\n",
       "      <td>1.0</td>\n",
       "      <td>...</td>\n",
       "      <td>0.0</td>\n",
       "      <td>1.113593e-02</td>\n",
       "      <td>False</td>\n",
       "      <td>131567</td>\n",
       "      <td>no rank</td>\n",
       "      <td>cellular organisms</td>\n",
       "      <td>N/A</td>\n",
       "      <td>True</td>\n",
       "      <td>False</td>\n",
       "      <td>no annotation</td>\n",
       "    </tr>\n",
       "    <tr>\n",
       "      <th>208300</th>\n",
       "      <td>NODE_27_length_2033_cov_751.767_g14_i1</td>\n",
       "      <td>2033</td>\n",
       "      <td>8.587221e-01</td>\n",
       "      <td>1.0</td>\n",
       "      <td>0.0</td>\n",
       "      <td>0.0</td>\n",
       "      <td>0.0</td>\n",
       "      <td>0.0</td>\n",
       "      <td>0.929210</td>\n",
       "      <td>1.0</td>\n",
       "      <td>...</td>\n",
       "      <td>0.0</td>\n",
       "      <td>8.932712e-01</td>\n",
       "      <td>True</td>\n",
       "      <td>1236</td>\n",
       "      <td>class</td>\n",
       "      <td>Gammaproteobacteria</td>\n",
       "      <td>Bacteria</td>\n",
       "      <td>True</td>\n",
       "      <td>False</td>\n",
       "      <td>with annotation</td>\n",
       "    </tr>\n",
       "    <tr>\n",
       "      <th>208301</th>\n",
       "      <td>NODE_29_length_2005_cov_131.118_g20_i0</td>\n",
       "      <td>2005</td>\n",
       "      <td>8.275892e-01</td>\n",
       "      <td>1.0</td>\n",
       "      <td>0.0</td>\n",
       "      <td>0.0</td>\n",
       "      <td>0.0</td>\n",
       "      <td>0.0</td>\n",
       "      <td>0.994023</td>\n",
       "      <td>1.0</td>\n",
       "      <td>...</td>\n",
       "      <td>1.0</td>\n",
       "      <td>9.069967e-01</td>\n",
       "      <td>True</td>\n",
       "      <td>1236</td>\n",
       "      <td>class</td>\n",
       "      <td>Gammaproteobacteria</td>\n",
       "      <td>Bacteria</td>\n",
       "      <td>True</td>\n",
       "      <td>False</td>\n",
       "      <td>with annotation</td>\n",
       "    </tr>\n",
       "  </tbody>\n",
       "</table>\n",
       "<p>5 rows × 23 columns</p>\n",
       "</div>"
      ],
      "text/plain": [
       "                                          name  length   probability  \\\n",
       "208297  NODE_24_length_2077_cov_446.169_g16_i1    2077  6.905139e-22   \n",
       "208298  NODE_25_length_2052_cov_125.315_g17_i0    2052  3.904817e-01   \n",
       "208299  NODE_26_length_2034_cov_1097.97_g18_i0    2034  1.245392e-04   \n",
       "208300  NODE_27_length_2033_cov_751.767_g14_i1    2033  8.587221e-01   \n",
       "208301  NODE_29_length_2005_cov_131.118_g20_i0    2005  8.275892e-01   \n",
       "\n",
       "        prediction  vfam  pfam  diamond  label  score_euk_non_euk  \\\n",
       "208297         0.0   0.0   0.0      0.0    0.0           0.999649   \n",
       "208298         0.0   0.0   0.0      0.0    0.0           0.987839   \n",
       "208299         0.0   0.0   0.0      0.0    0.0           0.995742   \n",
       "208300         1.0   0.0   0.0      0.0    0.0           0.929210   \n",
       "208301         1.0   0.0   0.0      0.0    0.0           0.994023   \n",
       "\n",
       "        pred_euk_non_euk       ...         pred_virus_non_virus  \\\n",
       "208297               1.0       ...                          0.0   \n",
       "208298               1.0       ...                          0.0   \n",
       "208299               1.0       ...                          0.0   \n",
       "208300               1.0       ...                          0.0   \n",
       "208301               1.0       ...                          1.0   \n",
       "\n",
       "        hybrid_probability  hybrid_prediction   tax_id          rank  \\\n",
       "208297        2.627301e-11              False        2  superkingdom   \n",
       "208298        6.210742e-01               True  1768207       species   \n",
       "208299        1.113593e-02              False   131567       no rank   \n",
       "208300        8.932712e-01               True     1236         class   \n",
       "208301        9.069967e-01               True     1236         class   \n",
       "\n",
       "                             tax_name  top_label non_euk_label  \\\n",
       "208297                       Bacteria   Bacteria          True   \n",
       "208298  uncultured bacterium EIL80E09   Bacteria          True   \n",
       "208299             cellular organisms        N/A          True   \n",
       "208300            Gammaproteobacteria   Bacteria          True   \n",
       "208301            Gammaproteobacteria   Bacteria          True   \n",
       "\n",
       "       micromonas_label annotation_label  \n",
       "208297            False  with annotation  \n",
       "208298            False  with annotation  \n",
       "208299            False    no annotation  \n",
       "208300            False  with annotation  \n",
       "208301            False  with annotation  \n",
       "\n",
       "[5 rows x 23 columns]"
      ]
     },
     "execution_count": 26,
     "metadata": {},
     "output_type": "execute_result"
    }
   ],
   "source": [
    "new_table.tail()"
   ]
  },
  {
   "cell_type": "markdown",
   "metadata": {},
   "source": [
    "### Split the TARA contigs into 3 categories\n",
    "\n",
    "- \"Virus\" has virus-related domain hits or annotated as \"virus\" by MEGAN\n",
    "- \"Non-virus\" , no virus-related domain hits, annotated as some non-virus taxonomical group by MEGAN \n",
    "- \"Unknown\",  no virus-related domain hits, not annotated into any taxonomical group by MEGAN, top_label as \"N/A\""
   ]
  },
  {
   "cell_type": "markdown",
   "metadata": {},
   "source": [
    "#### subsample \"non-virus\" and \"unknown\" to have same number of \"Virus\" contigs - 6913"
   ]
  },
  {
   "cell_type": "code",
   "execution_count": 27,
   "metadata": {},
   "outputs": [
    {
     "name": "stderr",
     "output_type": "stream",
     "text": [
      "/anaconda/lib/python2.7/site-packages/ipykernel/__main__.py:2: UserWarning: Boolean Series key will be reindexed to match DataFrame index.\n",
      "  from ipykernel import kernelapp as app\n",
      "/anaconda/lib/python2.7/site-packages/ipykernel/__main__.py:8: UserWarning: Boolean Series key will be reindexed to match DataFrame index.\n"
     ]
    }
   ],
   "source": [
    "# \"non-virus\" data frame... non-virus and with annotation by MEGAN\n",
    "df_nonvirus = new_table[new_table.label==0.0][new_table['annotation_label']== 'with annotation']\n",
    "df_nonvirus_subsample = df_nonvirus.sample(n=7041, replace=False)\n",
    "df_nonvirus_subsample.to_csv('df_nonvirus_subsample.csv')\n",
    "\n",
    "# \"Unknown\" data frame... and without annotation by MEGAN\n",
    "\n",
    "df_unknown = new_table[new_table.label==0.0][new_table['annotation_label']== 'no annotation']\n",
    "df_unknown_subsample = df_unknown.sample(n=7041, replace=False)\n",
    "df_unknown_subsample.to_csv('df_unknown_subsample.csv')\n",
    "\n",
    "### \"Virus\" contigs...  has pfam hits or annotated as \"virus\" by MEGAN\n",
    "df_virus = new_table[new_table.label==1.0]\n",
    "df_virus.to_csv('df_virus.csv')\n",
    "\n"
   ]
  },
  {
   "cell_type": "code",
   "execution_count": 28,
   "metadata": {
    "collapsed": true
   },
   "outputs": [],
   "source": [
    "def get_category(df):\n",
    "    if df.label == 0.0:\n",
    "        if df.annotation_label == 'with annotation':\n",
    "            return 'nonvirus'\n",
    "        else:\n",
    "            return 'unknown'\n",
    "    else:\n",
    "        return 'virus'"
   ]
  },
  {
   "cell_type": "code",
   "execution_count": 29,
   "metadata": {},
   "outputs": [],
   "source": [
    "new_table['category'] = new_table.apply(get_category, axis=1)"
   ]
  },
  {
   "cell_type": "code",
   "execution_count": 30,
   "metadata": {},
   "outputs": [
    {
     "data": {
      "text/html": [
       "<div>\n",
       "<style>\n",
       "    .dataframe thead tr:only-child th {\n",
       "        text-align: right;\n",
       "    }\n",
       "\n",
       "    .dataframe thead th {\n",
       "        text-align: left;\n",
       "    }\n",
       "\n",
       "    .dataframe tbody tr th {\n",
       "        vertical-align: top;\n",
       "    }\n",
       "</style>\n",
       "<table border=\"1\" class=\"dataframe\">\n",
       "  <thead>\n",
       "    <tr>\n",
       "      <th></th>\n",
       "      <th colspan=\"8\" halign=\"left\">diamond</th>\n",
       "      <th colspan=\"2\" halign=\"left\">hybrid_probability</th>\n",
       "      <th>...</th>\n",
       "      <th colspan=\"2\" halign=\"left\">tax_id</th>\n",
       "      <th colspan=\"8\" halign=\"left\">vfam</th>\n",
       "    </tr>\n",
       "    <tr>\n",
       "      <th></th>\n",
       "      <th>count</th>\n",
       "      <th>mean</th>\n",
       "      <th>std</th>\n",
       "      <th>min</th>\n",
       "      <th>25%</th>\n",
       "      <th>50%</th>\n",
       "      <th>75%</th>\n",
       "      <th>max</th>\n",
       "      <th>count</th>\n",
       "      <th>mean</th>\n",
       "      <th>...</th>\n",
       "      <th>75%</th>\n",
       "      <th>max</th>\n",
       "      <th>count</th>\n",
       "      <th>mean</th>\n",
       "      <th>std</th>\n",
       "      <th>min</th>\n",
       "      <th>25%</th>\n",
       "      <th>50%</th>\n",
       "      <th>75%</th>\n",
       "      <th>max</th>\n",
       "    </tr>\n",
       "    <tr>\n",
       "      <th>category</th>\n",
       "      <th></th>\n",
       "      <th></th>\n",
       "      <th></th>\n",
       "      <th></th>\n",
       "      <th></th>\n",
       "      <th></th>\n",
       "      <th></th>\n",
       "      <th></th>\n",
       "      <th></th>\n",
       "      <th></th>\n",
       "      <th></th>\n",
       "      <th></th>\n",
       "      <th></th>\n",
       "      <th></th>\n",
       "      <th></th>\n",
       "      <th></th>\n",
       "      <th></th>\n",
       "      <th></th>\n",
       "      <th></th>\n",
       "      <th></th>\n",
       "      <th></th>\n",
       "    </tr>\n",
       "  </thead>\n",
       "  <tbody>\n",
       "    <tr>\n",
       "      <th>nonvirus</th>\n",
       "      <td>191023.0</td>\n",
       "      <td>0.000000</td>\n",
       "      <td>0.000000</td>\n",
       "      <td>0.0</td>\n",
       "      <td>0.0</td>\n",
       "      <td>0.0</td>\n",
       "      <td>0.0</td>\n",
       "      <td>0.0</td>\n",
       "      <td>191023.0</td>\n",
       "      <td>0.234406</td>\n",
       "      <td>...</td>\n",
       "      <td>296587.0</td>\n",
       "      <td>1904754.0</td>\n",
       "      <td>191023.0</td>\n",
       "      <td>0.000000</td>\n",
       "      <td>0.000000</td>\n",
       "      <td>0.0</td>\n",
       "      <td>0.0</td>\n",
       "      <td>0.0</td>\n",
       "      <td>0.0</td>\n",
       "      <td>0.0</td>\n",
       "    </tr>\n",
       "    <tr>\n",
       "      <th>unknown</th>\n",
       "      <td>10238.0</td>\n",
       "      <td>0.000000</td>\n",
       "      <td>0.000000</td>\n",
       "      <td>0.0</td>\n",
       "      <td>0.0</td>\n",
       "      <td>0.0</td>\n",
       "      <td>0.0</td>\n",
       "      <td>0.0</td>\n",
       "      <td>10238.0</td>\n",
       "      <td>0.315338</td>\n",
       "      <td>...</td>\n",
       "      <td>131567.0</td>\n",
       "      <td>171193.0</td>\n",
       "      <td>10238.0</td>\n",
       "      <td>0.000000</td>\n",
       "      <td>0.000000</td>\n",
       "      <td>0.0</td>\n",
       "      <td>0.0</td>\n",
       "      <td>0.0</td>\n",
       "      <td>0.0</td>\n",
       "      <td>0.0</td>\n",
       "    </tr>\n",
       "    <tr>\n",
       "      <th>virus</th>\n",
       "      <td>7041.0</td>\n",
       "      <td>0.940065</td>\n",
       "      <td>0.237383</td>\n",
       "      <td>0.0</td>\n",
       "      <td>1.0</td>\n",
       "      <td>1.0</td>\n",
       "      <td>1.0</td>\n",
       "      <td>1.0</td>\n",
       "      <td>7041.0</td>\n",
       "      <td>0.580693</td>\n",
       "      <td>...</td>\n",
       "      <td>1407671.0</td>\n",
       "      <td>1880590.0</td>\n",
       "      <td>7041.0</td>\n",
       "      <td>0.014771</td>\n",
       "      <td>0.120642</td>\n",
       "      <td>0.0</td>\n",
       "      <td>0.0</td>\n",
       "      <td>0.0</td>\n",
       "      <td>0.0</td>\n",
       "      <td>1.0</td>\n",
       "    </tr>\n",
       "  </tbody>\n",
       "</table>\n",
       "<p>3 rows × 120 columns</p>\n",
       "</div>"
      ],
      "text/plain": [
       "           diamond                                               \\\n",
       "             count      mean       std  min  25%  50%  75%  max   \n",
       "category                                                          \n",
       "nonvirus  191023.0  0.000000  0.000000  0.0  0.0  0.0  0.0  0.0   \n",
       "unknown    10238.0  0.000000  0.000000  0.0  0.0  0.0  0.0  0.0   \n",
       "virus       7041.0  0.940065  0.237383  0.0  1.0  1.0  1.0  1.0   \n",
       "\n",
       "         hybrid_probability           ...      tax_id                 vfam  \\\n",
       "                      count      mean ...         75%        max     count   \n",
       "category                              ...                                    \n",
       "nonvirus           191023.0  0.234406 ...    296587.0  1904754.0  191023.0   \n",
       "unknown             10238.0  0.315338 ...    131567.0   171193.0   10238.0   \n",
       "virus                7041.0  0.580693 ...   1407671.0  1880590.0    7041.0   \n",
       "\n",
       "                                                       \n",
       "              mean       std  min  25%  50%  75%  max  \n",
       "category                                               \n",
       "nonvirus  0.000000  0.000000  0.0  0.0  0.0  0.0  0.0  \n",
       "unknown   0.000000  0.000000  0.0  0.0  0.0  0.0  0.0  \n",
       "virus     0.014771  0.120642  0.0  0.0  0.0  0.0  1.0  \n",
       "\n",
       "[3 rows x 120 columns]"
      ]
     },
     "execution_count": 30,
     "metadata": {},
     "output_type": "execute_result"
    }
   ],
   "source": [
    "new_table.groupby('category').describe()\n"
   ]
  },
  {
   "cell_type": "markdown",
   "metadata": {},
   "source": [
    "#### subsample \"non-euk\" to have same number of \"euk\" contigs, for evaluating euk/non-euk model"
   ]
  },
  {
   "cell_type": "code",
   "execution_count": 31,
   "metadata": {},
   "outputs": [
    {
     "name": "stderr",
     "output_type": "stream",
     "text": [
      "/anaconda/lib/python2.7/site-packages/ipykernel/__main__.py:2: UserWarning: Boolean Series key will be reindexed to match DataFrame index.\n",
      "  from ipykernel import kernelapp as app\n"
     ]
    }
   ],
   "source": [
    "# \"non-euk\" data frame... non-virus and with annotation by MEGAN\n",
    "df_euk = new_table[new_table.non_euk_label==False][new_table['annotation_label']== 'with annotation']"
   ]
  },
  {
   "cell_type": "code",
   "execution_count": 32,
   "metadata": {},
   "outputs": [
    {
     "data": {
      "text/plain": [
       "40920"
      ]
     },
     "execution_count": 32,
     "metadata": {},
     "output_type": "execute_result"
    }
   ],
   "source": [
    "len(df_euk)"
   ]
  },
  {
   "cell_type": "code",
   "execution_count": 33,
   "metadata": {},
   "outputs": [
    {
     "data": {
      "text/html": [
       "<div>\n",
       "<style>\n",
       "    .dataframe thead tr:only-child th {\n",
       "        text-align: right;\n",
       "    }\n",
       "\n",
       "    .dataframe thead th {\n",
       "        text-align: left;\n",
       "    }\n",
       "\n",
       "    .dataframe tbody tr th {\n",
       "        vertical-align: top;\n",
       "    }\n",
       "</style>\n",
       "<table border=\"1\" class=\"dataframe\">\n",
       "  <thead>\n",
       "    <tr style=\"text-align: right;\">\n",
       "      <th></th>\n",
       "      <th>name</th>\n",
       "      <th>length</th>\n",
       "      <th>probability</th>\n",
       "      <th>prediction</th>\n",
       "      <th>vfam</th>\n",
       "      <th>pfam</th>\n",
       "      <th>diamond</th>\n",
       "      <th>label</th>\n",
       "      <th>score_euk_non_euk</th>\n",
       "      <th>pred_euk_non_euk</th>\n",
       "      <th>...</th>\n",
       "      <th>hybrid_probability</th>\n",
       "      <th>hybrid_prediction</th>\n",
       "      <th>tax_id</th>\n",
       "      <th>rank</th>\n",
       "      <th>tax_name</th>\n",
       "      <th>top_label</th>\n",
       "      <th>non_euk_label</th>\n",
       "      <th>micromonas_label</th>\n",
       "      <th>annotation_label</th>\n",
       "      <th>category</th>\n",
       "    </tr>\n",
       "  </thead>\n",
       "  <tbody>\n",
       "    <tr>\n",
       "      <th>268</th>\n",
       "      <td>NODE_269_length_13662_cov_37.4019_g165_i0</td>\n",
       "      <td>13662</td>\n",
       "      <td>1.000000</td>\n",
       "      <td>1.0</td>\n",
       "      <td>0.0</td>\n",
       "      <td>0.0</td>\n",
       "      <td>0.0</td>\n",
       "      <td>0.0</td>\n",
       "      <td>0.618436</td>\n",
       "      <td>1.0</td>\n",
       "      <td>...</td>\n",
       "      <td>0.786407</td>\n",
       "      <td>True</td>\n",
       "      <td>75058</td>\n",
       "      <td>species</td>\n",
       "      <td>Bodo saltans</td>\n",
       "      <td>Eukaryota</td>\n",
       "      <td>False</td>\n",
       "      <td>False</td>\n",
       "      <td>with annotation</td>\n",
       "      <td>nonvirus</td>\n",
       "    </tr>\n",
       "    <tr>\n",
       "      <th>326</th>\n",
       "      <td>NODE_327_length_11643_cov_43.6716_g200_i0</td>\n",
       "      <td>11643</td>\n",
       "      <td>0.000126</td>\n",
       "      <td>0.0</td>\n",
       "      <td>0.0</td>\n",
       "      <td>0.0</td>\n",
       "      <td>0.0</td>\n",
       "      <td>0.0</td>\n",
       "      <td>0.011231</td>\n",
       "      <td>0.0</td>\n",
       "      <td>...</td>\n",
       "      <td>0.001189</td>\n",
       "      <td>False</td>\n",
       "      <td>33154</td>\n",
       "      <td>no rank</td>\n",
       "      <td>Opisthokonta</td>\n",
       "      <td>Eukaryota</td>\n",
       "      <td>False</td>\n",
       "      <td>False</td>\n",
       "      <td>with annotation</td>\n",
       "      <td>nonvirus</td>\n",
       "    </tr>\n",
       "    <tr>\n",
       "      <th>348</th>\n",
       "      <td>NODE_349_length_11091_cov_73.7458_g215_i0</td>\n",
       "      <td>11091</td>\n",
       "      <td>0.000057</td>\n",
       "      <td>0.0</td>\n",
       "      <td>0.0</td>\n",
       "      <td>0.0</td>\n",
       "      <td>0.0</td>\n",
       "      <td>0.0</td>\n",
       "      <td>0.045895</td>\n",
       "      <td>0.0</td>\n",
       "      <td>...</td>\n",
       "      <td>0.001613</td>\n",
       "      <td>False</td>\n",
       "      <td>1245745</td>\n",
       "      <td>no rank</td>\n",
       "      <td>Beauveria bassiana D1-5</td>\n",
       "      <td>Eukaryota</td>\n",
       "      <td>False</td>\n",
       "      <td>False</td>\n",
       "      <td>with annotation</td>\n",
       "      <td>nonvirus</td>\n",
       "    </tr>\n",
       "    <tr>\n",
       "      <th>517</th>\n",
       "      <td>NODE_518_length_8292_cov_38.7037_g335_i0</td>\n",
       "      <td>8292</td>\n",
       "      <td>0.002875</td>\n",
       "      <td>0.0</td>\n",
       "      <td>0.0</td>\n",
       "      <td>0.0</td>\n",
       "      <td>0.0</td>\n",
       "      <td>0.0</td>\n",
       "      <td>0.000803</td>\n",
       "      <td>0.0</td>\n",
       "      <td>...</td>\n",
       "      <td>0.001519</td>\n",
       "      <td>False</td>\n",
       "      <td>1245745</td>\n",
       "      <td>no rank</td>\n",
       "      <td>Beauveria bassiana D1-5</td>\n",
       "      <td>Eukaryota</td>\n",
       "      <td>False</td>\n",
       "      <td>False</td>\n",
       "      <td>with annotation</td>\n",
       "      <td>nonvirus</td>\n",
       "    </tr>\n",
       "    <tr>\n",
       "      <th>522</th>\n",
       "      <td>NODE_523_length_8242_cov_224.933_g340_i0</td>\n",
       "      <td>8242</td>\n",
       "      <td>0.000006</td>\n",
       "      <td>0.0</td>\n",
       "      <td>0.0</td>\n",
       "      <td>0.0</td>\n",
       "      <td>0.0</td>\n",
       "      <td>0.0</td>\n",
       "      <td>0.022461</td>\n",
       "      <td>0.0</td>\n",
       "      <td>...</td>\n",
       "      <td>0.000363</td>\n",
       "      <td>False</td>\n",
       "      <td>1245745</td>\n",
       "      <td>no rank</td>\n",
       "      <td>Beauveria bassiana D1-5</td>\n",
       "      <td>Eukaryota</td>\n",
       "      <td>False</td>\n",
       "      <td>False</td>\n",
       "      <td>with annotation</td>\n",
       "      <td>nonvirus</td>\n",
       "    </tr>\n",
       "  </tbody>\n",
       "</table>\n",
       "<p>5 rows × 24 columns</p>\n",
       "</div>"
      ],
      "text/plain": [
       "                                          name  length  probability  \\\n",
       "268  NODE_269_length_13662_cov_37.4019_g165_i0   13662     1.000000   \n",
       "326  NODE_327_length_11643_cov_43.6716_g200_i0   11643     0.000126   \n",
       "348  NODE_349_length_11091_cov_73.7458_g215_i0   11091     0.000057   \n",
       "517   NODE_518_length_8292_cov_38.7037_g335_i0    8292     0.002875   \n",
       "522   NODE_523_length_8242_cov_224.933_g340_i0    8242     0.000006   \n",
       "\n",
       "     prediction  vfam  pfam  diamond  label  score_euk_non_euk  \\\n",
       "268         1.0   0.0   0.0      0.0    0.0           0.618436   \n",
       "326         0.0   0.0   0.0      0.0    0.0           0.011231   \n",
       "348         0.0   0.0   0.0      0.0    0.0           0.045895   \n",
       "517         0.0   0.0   0.0      0.0    0.0           0.000803   \n",
       "522         0.0   0.0   0.0      0.0    0.0           0.022461   \n",
       "\n",
       "     pred_euk_non_euk    ...     hybrid_probability  hybrid_prediction  \\\n",
       "268               1.0    ...               0.786407               True   \n",
       "326               0.0    ...               0.001189              False   \n",
       "348               0.0    ...               0.001613              False   \n",
       "517               0.0    ...               0.001519              False   \n",
       "522               0.0    ...               0.000363              False   \n",
       "\n",
       "      tax_id     rank                 tax_name  top_label  non_euk_label  \\\n",
       "268    75058  species             Bodo saltans  Eukaryota          False   \n",
       "326    33154  no rank             Opisthokonta  Eukaryota          False   \n",
       "348  1245745  no rank  Beauveria bassiana D1-5  Eukaryota          False   \n",
       "517  1245745  no rank  Beauveria bassiana D1-5  Eukaryota          False   \n",
       "522  1245745  no rank  Beauveria bassiana D1-5  Eukaryota          False   \n",
       "\n",
       "    micromonas_label annotation_label  category  \n",
       "268            False  with annotation  nonvirus  \n",
       "326            False  with annotation  nonvirus  \n",
       "348            False  with annotation  nonvirus  \n",
       "517            False  with annotation  nonvirus  \n",
       "522            False  with annotation  nonvirus  \n",
       "\n",
       "[5 rows x 24 columns]"
      ]
     },
     "execution_count": 33,
     "metadata": {},
     "output_type": "execute_result"
    }
   ],
   "source": [
    "df_euk.head()"
   ]
  },
  {
   "cell_type": "code",
   "execution_count": 34,
   "metadata": {},
   "outputs": [
    {
     "name": "stderr",
     "output_type": "stream",
     "text": [
      "/anaconda/lib/python2.7/site-packages/ipykernel/__main__.py:1: UserWarning: Boolean Series key will be reindexed to match DataFrame index.\n",
      "  if __name__ == '__main__':\n"
     ]
    }
   ],
   "source": [
    "df_noneuk = new_table[new_table.non_euk_label==True][new_table['annotation_label']== 'with annotation']"
   ]
  },
  {
   "cell_type": "code",
   "execution_count": 35,
   "metadata": {},
   "outputs": [
    {
     "data": {
      "text/plain": [
       "156823"
      ]
     },
     "execution_count": 35,
     "metadata": {},
     "output_type": "execute_result"
    }
   ],
   "source": [
    "len(df_noneuk)"
   ]
  },
  {
   "cell_type": "code",
   "execution_count": 36,
   "metadata": {
    "collapsed": true
   },
   "outputs": [],
   "source": [
    "df_noneuk_subsample = df_noneuk.sample(n=40920, replace=False)"
   ]
  },
  {
   "cell_type": "code",
   "execution_count": 37,
   "metadata": {},
   "outputs": [
    {
     "data": {
      "text/html": [
       "<div>\n",
       "<style>\n",
       "    .dataframe thead tr:only-child th {\n",
       "        text-align: right;\n",
       "    }\n",
       "\n",
       "    .dataframe thead th {\n",
       "        text-align: left;\n",
       "    }\n",
       "\n",
       "    .dataframe tbody tr th {\n",
       "        vertical-align: top;\n",
       "    }\n",
       "</style>\n",
       "<table border=\"1\" class=\"dataframe\">\n",
       "  <thead>\n",
       "    <tr style=\"text-align: right;\">\n",
       "      <th></th>\n",
       "      <th>name</th>\n",
       "      <th>length</th>\n",
       "      <th>probability</th>\n",
       "      <th>prediction</th>\n",
       "      <th>vfam</th>\n",
       "      <th>pfam</th>\n",
       "      <th>diamond</th>\n",
       "      <th>label</th>\n",
       "      <th>score_euk_non_euk</th>\n",
       "      <th>pred_euk_non_euk</th>\n",
       "      <th>...</th>\n",
       "      <th>pred_virus_non_virus</th>\n",
       "      <th>hybrid_probability</th>\n",
       "      <th>hybrid_prediction</th>\n",
       "      <th>tax_id</th>\n",
       "      <th>rank</th>\n",
       "      <th>tax_name</th>\n",
       "      <th>top_label</th>\n",
       "      <th>non_euk_label</th>\n",
       "      <th>micromonas_label</th>\n",
       "      <th>annotation_label</th>\n",
       "    </tr>\n",
       "  </thead>\n",
       "  <tbody>\n",
       "    <tr>\n",
       "      <th>1187</th>\n",
       "      <td>NODE_1190_length_4867_cov_31.1845_g863_i0</td>\n",
       "      <td>4867</td>\n",
       "      <td>0.003411</td>\n",
       "      <td>0.0</td>\n",
       "      <td>1.0</td>\n",
       "      <td>0.0</td>\n",
       "      <td>0.0</td>\n",
       "      <td>1.0</td>\n",
       "      <td>0.053115</td>\n",
       "      <td>0.0</td>\n",
       "      <td>...</td>\n",
       "      <td>0.0</td>\n",
       "      <td>0.013460</td>\n",
       "      <td>False</td>\n",
       "      <td>286</td>\n",
       "      <td>genus</td>\n",
       "      <td>Pseudomonas</td>\n",
       "      <td>Bacteria</td>\n",
       "      <td>True</td>\n",
       "      <td>False</td>\n",
       "      <td>with annotation</td>\n",
       "    </tr>\n",
       "    <tr>\n",
       "      <th>1385</th>\n",
       "      <td>NODE_1388_length_4479_cov_77.7475_g1017_i0</td>\n",
       "      <td>4479</td>\n",
       "      <td>0.995234</td>\n",
       "      <td>1.0</td>\n",
       "      <td>0.0</td>\n",
       "      <td>1.0</td>\n",
       "      <td>1.0</td>\n",
       "      <td>1.0</td>\n",
       "      <td>0.974094</td>\n",
       "      <td>1.0</td>\n",
       "      <td>...</td>\n",
       "      <td>0.0</td>\n",
       "      <td>0.984607</td>\n",
       "      <td>True</td>\n",
       "      <td>186616</td>\n",
       "      <td>no rank</td>\n",
       "      <td>environmental samples</td>\n",
       "      <td>Virus</td>\n",
       "      <td>True</td>\n",
       "      <td>False</td>\n",
       "      <td>with annotation</td>\n",
       "    </tr>\n",
       "    <tr>\n",
       "      <th>1698</th>\n",
       "      <td>NODE_1702_length_3955_cov_32.4023_g1269_i0</td>\n",
       "      <td>3955</td>\n",
       "      <td>0.094340</td>\n",
       "      <td>0.0</td>\n",
       "      <td>0.0</td>\n",
       "      <td>1.0</td>\n",
       "      <td>1.0</td>\n",
       "      <td>1.0</td>\n",
       "      <td>0.792640</td>\n",
       "      <td>1.0</td>\n",
       "      <td>...</td>\n",
       "      <td>0.0</td>\n",
       "      <td>0.273456</td>\n",
       "      <td>False</td>\n",
       "      <td>196896</td>\n",
       "      <td>no rank</td>\n",
       "      <td>unclassified Myoviridae</td>\n",
       "      <td>Virus</td>\n",
       "      <td>True</td>\n",
       "      <td>False</td>\n",
       "      <td>with annotation</td>\n",
       "    </tr>\n",
       "    <tr>\n",
       "      <th>1728</th>\n",
       "      <td>NODE_1732_length_3910_cov_62.4519_g1295_i0</td>\n",
       "      <td>3910</td>\n",
       "      <td>0.985221</td>\n",
       "      <td>1.0</td>\n",
       "      <td>0.0</td>\n",
       "      <td>1.0</td>\n",
       "      <td>1.0</td>\n",
       "      <td>1.0</td>\n",
       "      <td>0.960621</td>\n",
       "      <td>1.0</td>\n",
       "      <td>...</td>\n",
       "      <td>0.0</td>\n",
       "      <td>0.972844</td>\n",
       "      <td>True</td>\n",
       "      <td>196896</td>\n",
       "      <td>no rank</td>\n",
       "      <td>unclassified Myoviridae</td>\n",
       "      <td>Virus</td>\n",
       "      <td>True</td>\n",
       "      <td>False</td>\n",
       "      <td>with annotation</td>\n",
       "    </tr>\n",
       "    <tr>\n",
       "      <th>1748</th>\n",
       "      <td>NODE_1752_length_3882_cov_14.5733_g1313_i0</td>\n",
       "      <td>3882</td>\n",
       "      <td>0.355353</td>\n",
       "      <td>0.0</td>\n",
       "      <td>0.0</td>\n",
       "      <td>1.0</td>\n",
       "      <td>1.0</td>\n",
       "      <td>1.0</td>\n",
       "      <td>0.603147</td>\n",
       "      <td>1.0</td>\n",
       "      <td>...</td>\n",
       "      <td>0.0</td>\n",
       "      <td>0.462958</td>\n",
       "      <td>False</td>\n",
       "      <td>439488</td>\n",
       "      <td>no rank</td>\n",
       "      <td>ssRNA viruses</td>\n",
       "      <td>Virus</td>\n",
       "      <td>True</td>\n",
       "      <td>False</td>\n",
       "      <td>with annotation</td>\n",
       "    </tr>\n",
       "  </tbody>\n",
       "</table>\n",
       "<p>5 rows × 23 columns</p>\n",
       "</div>"
      ],
      "text/plain": [
       "                                            name  length  probability  \\\n",
       "1187   NODE_1190_length_4867_cov_31.1845_g863_i0    4867     0.003411   \n",
       "1385  NODE_1388_length_4479_cov_77.7475_g1017_i0    4479     0.995234   \n",
       "1698  NODE_1702_length_3955_cov_32.4023_g1269_i0    3955     0.094340   \n",
       "1728  NODE_1732_length_3910_cov_62.4519_g1295_i0    3910     0.985221   \n",
       "1748  NODE_1752_length_3882_cov_14.5733_g1313_i0    3882     0.355353   \n",
       "\n",
       "      prediction  vfam  pfam  diamond  label  score_euk_non_euk  \\\n",
       "1187         0.0   1.0   0.0      0.0    1.0           0.053115   \n",
       "1385         1.0   0.0   1.0      1.0    1.0           0.974094   \n",
       "1698         0.0   0.0   1.0      1.0    1.0           0.792640   \n",
       "1728         1.0   0.0   1.0      1.0    1.0           0.960621   \n",
       "1748         0.0   0.0   1.0      1.0    1.0           0.603147   \n",
       "\n",
       "      pred_euk_non_euk       ...         pred_virus_non_virus  \\\n",
       "1187               0.0       ...                          0.0   \n",
       "1385               1.0       ...                          0.0   \n",
       "1698               1.0       ...                          0.0   \n",
       "1728               1.0       ...                          0.0   \n",
       "1748               1.0       ...                          0.0   \n",
       "\n",
       "      hybrid_probability  hybrid_prediction  tax_id     rank  \\\n",
       "1187            0.013460              False     286    genus   \n",
       "1385            0.984607               True  186616  no rank   \n",
       "1698            0.273456              False  196896  no rank   \n",
       "1728            0.972844               True  196896  no rank   \n",
       "1748            0.462958              False  439488  no rank   \n",
       "\n",
       "                     tax_name  top_label non_euk_label micromonas_label  \\\n",
       "1187              Pseudomonas   Bacteria          True            False   \n",
       "1385    environmental samples      Virus          True            False   \n",
       "1698  unclassified Myoviridae      Virus          True            False   \n",
       "1728  unclassified Myoviridae      Virus          True            False   \n",
       "1748            ssRNA viruses      Virus          True            False   \n",
       "\n",
       "     annotation_label  \n",
       "1187  with annotation  \n",
       "1385  with annotation  \n",
       "1698  with annotation  \n",
       "1728  with annotation  \n",
       "1748  with annotation  \n",
       "\n",
       "[5 rows x 23 columns]"
      ]
     },
     "execution_count": 37,
     "metadata": {},
     "output_type": "execute_result"
    }
   ],
   "source": [
    "df_virus.head()"
   ]
  },
  {
   "cell_type": "code",
   "execution_count": 38,
   "metadata": {
    "collapsed": true
   },
   "outputs": [],
   "source": [
    "df_micromonus = new_table[new_table.micromonas_label==True]"
   ]
  },
  {
   "cell_type": "code",
   "execution_count": 39,
   "metadata": {},
   "outputs": [
    {
     "data": {
      "text/plain": [
       "9586"
      ]
     },
     "execution_count": 39,
     "metadata": {},
     "output_type": "execute_result"
    }
   ],
   "source": [
    "len(df_micromonus)"
   ]
  },
  {
   "cell_type": "code",
   "execution_count": 40,
   "metadata": {
    "collapsed": true
   },
   "outputs": [],
   "source": [
    "df_micromonus.to_csv(\"Micromonas_table.csv\")"
   ]
  },
  {
   "cell_type": "code",
   "execution_count": 41,
   "metadata": {},
   "outputs": [
    {
     "data": {
      "text/html": [
       "<div>\n",
       "<style>\n",
       "    .dataframe thead tr:only-child th {\n",
       "        text-align: right;\n",
       "    }\n",
       "\n",
       "    .dataframe thead th {\n",
       "        text-align: left;\n",
       "    }\n",
       "\n",
       "    .dataframe tbody tr th {\n",
       "        vertical-align: top;\n",
       "    }\n",
       "</style>\n",
       "<table border=\"1\" class=\"dataframe\">\n",
       "  <thead>\n",
       "    <tr style=\"text-align: right;\">\n",
       "      <th></th>\n",
       "      <th>name</th>\n",
       "      <th>length</th>\n",
       "      <th>probability</th>\n",
       "      <th>prediction</th>\n",
       "      <th>vfam</th>\n",
       "      <th>pfam</th>\n",
       "      <th>diamond</th>\n",
       "      <th>label</th>\n",
       "      <th>score_euk_non_euk</th>\n",
       "      <th>pred_euk_non_euk</th>\n",
       "      <th>...</th>\n",
       "      <th>pred_virus_non_virus</th>\n",
       "      <th>hybrid_probability</th>\n",
       "      <th>hybrid_prediction</th>\n",
       "      <th>tax_id</th>\n",
       "      <th>rank</th>\n",
       "      <th>tax_name</th>\n",
       "      <th>top_label</th>\n",
       "      <th>non_euk_label</th>\n",
       "      <th>micromonas_label</th>\n",
       "      <th>annotation_label</th>\n",
       "    </tr>\n",
       "  </thead>\n",
       "  <tbody>\n",
       "    <tr>\n",
       "      <th>0</th>\n",
       "      <td>NODE_1_length_91451_cov_163.114_g0_i0</td>\n",
       "      <td>91451</td>\n",
       "      <td>0.000375</td>\n",
       "      <td>0.0</td>\n",
       "      <td>0.0</td>\n",
       "      <td>0.0</td>\n",
       "      <td>0.0</td>\n",
       "      <td>0.0</td>\n",
       "      <td>0.000025</td>\n",
       "      <td>0.0</td>\n",
       "      <td>...</td>\n",
       "      <td>0.0</td>\n",
       "      <td>0.000097</td>\n",
       "      <td>False</td>\n",
       "      <td>1236</td>\n",
       "      <td>class</td>\n",
       "      <td>Gammaproteobacteria</td>\n",
       "      <td>Bacteria</td>\n",
       "      <td>True</td>\n",
       "      <td>False</td>\n",
       "      <td>with annotation</td>\n",
       "    </tr>\n",
       "    <tr>\n",
       "      <th>1</th>\n",
       "      <td>NODE_2_length_74096_cov_303.895_g1_i0</td>\n",
       "      <td>74096</td>\n",
       "      <td>0.000088</td>\n",
       "      <td>0.0</td>\n",
       "      <td>0.0</td>\n",
       "      <td>0.0</td>\n",
       "      <td>0.0</td>\n",
       "      <td>0.0</td>\n",
       "      <td>0.000012</td>\n",
       "      <td>0.0</td>\n",
       "      <td>...</td>\n",
       "      <td>0.0</td>\n",
       "      <td>0.000032</td>\n",
       "      <td>False</td>\n",
       "      <td>254161</td>\n",
       "      <td>species</td>\n",
       "      <td>Pseudomonas pachastrellae</td>\n",
       "      <td>Bacteria</td>\n",
       "      <td>True</td>\n",
       "      <td>False</td>\n",
       "      <td>with annotation</td>\n",
       "    </tr>\n",
       "    <tr>\n",
       "      <th>2</th>\n",
       "      <td>NODE_3_length_66420_cov_268.59_g1_i1</td>\n",
       "      <td>66420</td>\n",
       "      <td>0.000041</td>\n",
       "      <td>0.0</td>\n",
       "      <td>0.0</td>\n",
       "      <td>0.0</td>\n",
       "      <td>0.0</td>\n",
       "      <td>0.0</td>\n",
       "      <td>0.000009</td>\n",
       "      <td>0.0</td>\n",
       "      <td>...</td>\n",
       "      <td>0.0</td>\n",
       "      <td>0.000019</td>\n",
       "      <td>False</td>\n",
       "      <td>254161</td>\n",
       "      <td>species</td>\n",
       "      <td>Pseudomonas pachastrellae</td>\n",
       "      <td>Bacteria</td>\n",
       "      <td>True</td>\n",
       "      <td>False</td>\n",
       "      <td>with annotation</td>\n",
       "    </tr>\n",
       "    <tr>\n",
       "      <th>3</th>\n",
       "      <td>NODE_4_length_61338_cov_317.585_g2_i0</td>\n",
       "      <td>61338</td>\n",
       "      <td>0.000056</td>\n",
       "      <td>0.0</td>\n",
       "      <td>0.0</td>\n",
       "      <td>0.0</td>\n",
       "      <td>0.0</td>\n",
       "      <td>0.0</td>\n",
       "      <td>0.000008</td>\n",
       "      <td>0.0</td>\n",
       "      <td>...</td>\n",
       "      <td>0.0</td>\n",
       "      <td>0.000021</td>\n",
       "      <td>False</td>\n",
       "      <td>286</td>\n",
       "      <td>genus</td>\n",
       "      <td>Pseudomonas</td>\n",
       "      <td>Bacteria</td>\n",
       "      <td>True</td>\n",
       "      <td>False</td>\n",
       "      <td>with annotation</td>\n",
       "    </tr>\n",
       "    <tr>\n",
       "      <th>4</th>\n",
       "      <td>NODE_5_length_59036_cov_197.701_g0_i1</td>\n",
       "      <td>59036</td>\n",
       "      <td>0.000040</td>\n",
       "      <td>0.0</td>\n",
       "      <td>0.0</td>\n",
       "      <td>0.0</td>\n",
       "      <td>0.0</td>\n",
       "      <td>0.0</td>\n",
       "      <td>0.000008</td>\n",
       "      <td>0.0</td>\n",
       "      <td>...</td>\n",
       "      <td>0.0</td>\n",
       "      <td>0.000018</td>\n",
       "      <td>False</td>\n",
       "      <td>286</td>\n",
       "      <td>genus</td>\n",
       "      <td>Pseudomonas</td>\n",
       "      <td>Bacteria</td>\n",
       "      <td>True</td>\n",
       "      <td>False</td>\n",
       "      <td>with annotation</td>\n",
       "    </tr>\n",
       "  </tbody>\n",
       "</table>\n",
       "<p>5 rows × 23 columns</p>\n",
       "</div>"
      ],
      "text/plain": [
       "                                    name  length  probability  prediction  \\\n",
       "0  NODE_1_length_91451_cov_163.114_g0_i0   91451     0.000375         0.0   \n",
       "1  NODE_2_length_74096_cov_303.895_g1_i0   74096     0.000088         0.0   \n",
       "2   NODE_3_length_66420_cov_268.59_g1_i1   66420     0.000041         0.0   \n",
       "3  NODE_4_length_61338_cov_317.585_g2_i0   61338     0.000056         0.0   \n",
       "4  NODE_5_length_59036_cov_197.701_g0_i1   59036     0.000040         0.0   \n",
       "\n",
       "   vfam  pfam  diamond  label  score_euk_non_euk  pred_euk_non_euk  \\\n",
       "0   0.0   0.0      0.0    0.0           0.000025               0.0   \n",
       "1   0.0   0.0      0.0    0.0           0.000012               0.0   \n",
       "2   0.0   0.0      0.0    0.0           0.000009               0.0   \n",
       "3   0.0   0.0      0.0    0.0           0.000008               0.0   \n",
       "4   0.0   0.0      0.0    0.0           0.000008               0.0   \n",
       "\n",
       "        ...         pred_virus_non_virus  hybrid_probability  \\\n",
       "0       ...                          0.0            0.000097   \n",
       "1       ...                          0.0            0.000032   \n",
       "2       ...                          0.0            0.000019   \n",
       "3       ...                          0.0            0.000021   \n",
       "4       ...                          0.0            0.000018   \n",
       "\n",
       "   hybrid_prediction  tax_id     rank                   tax_name  top_label  \\\n",
       "0              False    1236    class        Gammaproteobacteria   Bacteria   \n",
       "1              False  254161  species  Pseudomonas pachastrellae   Bacteria   \n",
       "2              False  254161  species  Pseudomonas pachastrellae   Bacteria   \n",
       "3              False     286    genus                Pseudomonas   Bacteria   \n",
       "4              False     286    genus                Pseudomonas   Bacteria   \n",
       "\n",
       "  non_euk_label micromonas_label annotation_label  \n",
       "0          True            False  with annotation  \n",
       "1          True            False  with annotation  \n",
       "2          True            False  with annotation  \n",
       "3          True            False  with annotation  \n",
       "4          True            False  with annotation  \n",
       "\n",
       "[5 rows x 23 columns]"
      ]
     },
     "execution_count": 41,
     "metadata": {},
     "output_type": "execute_result"
    }
   ],
   "source": [
    "df_nonvirus.head()"
   ]
  },
  {
   "cell_type": "code",
   "execution_count": 165,
   "metadata": {},
   "outputs": [
    {
     "data": {
      "text/plain": [
       "<matplotlib.text.Text at 0x14890d390>"
      ]
     },
     "execution_count": 165,
     "metadata": {},
     "output_type": "execute_result"
    },
    {
     "data": {
      "image/png": "[encoded data removed]",
      "text/plain": [
       "<matplotlib.figure.Figure at 0x142dd4450>"
      ]
     },
     "metadata": {},
     "output_type": "display_data"
    }
   ],
   "source": [
    "fig = plt.figure(figsize=(16,9))\n",
    "ax0 = fig.add_subplot(111)\n",
    "n_bins = 30\n",
    "#colors = ['red', 'blue', 'grey']\n",
    "x_multi = [new_table.probability]\n",
    "ax0.hist(x_multi, n_bins, histtype='bar',  label=['non-virus'\n",
    "                                                  ],\n",
    "         )\n",
    "ax0.set_title('All TARA contigs >2K bps, model v1.0',fontsize=24)\n",
    "ax0.set_xlabel('score',fontsize=24)\n",
    "ax0.tick_params(labelsize=20)\n",
    "ax0.set_ylabel('number of contigs',fontsize=24)\n"
   ]
  },
  {
   "cell_type": "code",
   "execution_count": 164,
   "metadata": {},
   "outputs": [
    {
     "data": {
      "text/plain": [
       "<matplotlib.legend.Legend at 0x1477ca610>"
      ]
     },
     "execution_count": 164,
     "metadata": {},
     "output_type": "execute_result"
    },
    {
     "data": {
      "image/png": "[encoded data removed]",
      "text/plain": [
       "<matplotlib.figure.Figure at 0x144d36b10>"
      ]
     },
     "metadata": {},
     "output_type": "display_data"
    }
   ],
   "source": [
    "fig = plt.figure(figsize=(16,9))\n",
    "ax0 = fig.add_subplot(111)\n",
    "n_bins = 10\n",
    "#colors = ['red', 'blue', 'grey']\n",
    "x_multi = [df_nonvirus.probability,df_virus.probability,\n",
    "           df_unknown.probability]\n",
    "ax0.hist(x_multi, n_bins, histtype='bar',  label=['non-virus',\n",
    "                                                  'virus',\n",
    "                                                  'unknown'],\n",
    "         color=['grey', 'goldenrod', 'green'])\n",
    "ax0.set_title('All TARA contigs >2K bps, model v1.0',fontsize=24)\n",
    "ax0.set_xlabel('score',fontsize=24)\n",
    "ax0.tick_params(labelsize=20)\n",
    "ax0.set_ylabel('number of contigs',fontsize=24)\n",
    "ax0.legend(prop={'size': 24})"
   ]
  },
  {
   "cell_type": "code",
   "execution_count": 175,
   "metadata": {},
   "outputs": [
    {
     "data": {
      "text/plain": [
       "<matplotlib.legend.Legend at 0x14a6256d0>"
      ]
     },
     "execution_count": 175,
     "metadata": {},
     "output_type": "execute_result"
    },
    {
     "data": {
      "image/png": "[encoded data removed]",
      "text/plain": [
       "<matplotlib.figure.Figure at 0x14a9129d0>"
      ]
     },
     "metadata": {},
     "output_type": "display_data"
    }
   ],
   "source": [
    "fig = plt.figure(figsize=(16,9))\n",
    "ax0 = fig.add_subplot(111)\n",
    "n_bins = 10\n",
    "#colors = ['red', 'blue', 'grey']\n",
    "x_multi = [df_nonvirus.hybrid_probability,df_virus.hybrid_probability,\n",
    "           df_unknown.hybrid_probability]\n",
    "ax0.hist(x_multi, n_bins, histtype='bar',  label=['non-virus',\n",
    "                                                  'virus',\n",
    "                                                  'unknown'],\n",
    "         color=['grey', 'goldenrod', 'green'])\n",
    "ax0.set_title('All TARA contigs >2K bps, model v2.0',fontsize=24)\n",
    "ax0.set_xlabel('score',fontsize=24)\n",
    "ax0.tick_params(labelsize=20)\n",
    "ax0.set_ylabel('number of contigs',fontsize=24)\n",
    "ax0.legend(prop={'size': 24})"
   ]
  },
  {
   "cell_type": "code",
   "execution_count": 171,
   "metadata": {},
   "outputs": [
    {
     "data": {
      "text/plain": [
       "<matplotlib.legend.Legend at 0x149c73110>"
      ]
     },
     "execution_count": 171,
     "metadata": {},
     "output_type": "execute_result"
    },
    {
     "data": {
      "image/png": "[encoded data removed]",
      "text/plain": [
       "<matplotlib.figure.Figure at 0x1488b5f50>"
      ]
     },
     "metadata": {},
     "output_type": "display_data"
    }
   ],
   "source": [
    "fig = plt.figure(figsize=(16,9))\n",
    "ax0 = fig.add_subplot(111)\n",
    "n_bins = 100\n",
    "#colors = ['red', 'blue', 'grey']\n",
    "x_multi = [df_nonvirus.probability]\n",
    "ax0.hist(x_multi, n_bins, histtype='bar',  label=[\n",
    "                                                  'non-virus'],\n",
    "         color=['grey'])\n",
    "ax0.set_title('\"nonvirus\" TARA contigs >2K bps, model v1.0',fontsize=24)\n",
    "ax0.set_xlabel('score',fontsize=24)\n",
    "ax0.tick_params(labelsize=20)\n",
    "ax0.set_ylabel('number of contigs',fontsize=24)\n",
    "ax0.legend(prop={'size': 24})"
   ]
  },
  {
   "cell_type": "code",
   "execution_count": 169,
   "metadata": {},
   "outputs": [
    {
     "data": {
      "text/plain": [
       "<matplotlib.legend.Legend at 0x1498f5e10>"
      ]
     },
     "execution_count": 169,
     "metadata": {},
     "output_type": "execute_result"
    },
    {
     "data": {
      "image/png": "[encoded data removed]",
      "text/plain": [
       "<matplotlib.figure.Figure at 0x1485119d0>"
      ]
     },
     "metadata": {},
     "output_type": "display_data"
    }
   ],
   "source": [
    "fig = plt.figure(figsize=(16,9))\n",
    "ax0 = fig.add_subplot(111)\n",
    "n_bins = 20\n",
    "#colors = ['red', 'blue', 'grey']\n",
    "x_multi = [df_virus.probability]\n",
    "ax0.hist(x_multi, n_bins, histtype='bar',  label=[\n",
    "                                                  'virus'],\n",
    "         color=['goldenrod'])\n",
    "ax0.set_title('\"virus\" TARA contigs >2K bps, model v1.0',fontsize=24)\n",
    "ax0.set_xlabel('score',fontsize=24)\n",
    "ax0.tick_params(labelsize=20)\n",
    "ax0.set_ylabel('number of contigs',fontsize=24)\n",
    "ax0.legend(prop={'size': 24})"
   ]
  },
  {
   "cell_type": "markdown",
   "metadata": {},
   "source": [
    "### Check the Precision-recall curve of old model and hybrid model"
   ]
  },
  {
   "cell_type": "markdown",
   "metadata": {},
   "source": [
    "#### Check the distribution of probability of same number of \"virus\", \"non-virus\", 'unknown\" contigs"
   ]
  },
  {
   "cell_type": "markdown",
   "metadata": {},
   "source": [
    "#### Balanced data, same number of \"virus\" and \"non-virus\" contigs"
   ]
  },
  {
   "cell_type": "code",
   "execution_count": 163,
   "metadata": {},
   "outputs": [
    {
     "data": {
      "text/plain": [
       "<matplotlib.legend.Legend at 0x147655390>"
      ]
     },
     "execution_count": 163,
     "metadata": {},
     "output_type": "execute_result"
    },
    {
     "data": {
      "image/png": "[encoded data removed]",
      "text/plain": [
       "<matplotlib.figure.Figure at 0x1392cd090>"
      ]
     },
     "metadata": {},
     "output_type": "display_data"
    }
   ],
   "source": [
    "fig = plt.figure(figsize=(16,9))\n",
    "ax0 = fig.add_subplot(111)\n",
    "n_bins = 10\n",
    "#colors = ['red', 'blue', 'grey']\n",
    "x_multi = [df_nonvirus_subsample.hybrid_probability,df_virus.hybrid_probability, df_unknown_subsample.hybrid_probability ]\n",
    "ax0.hist(x_multi, n_bins, histtype='bar',  label=['non-virus','virus','unknown'],color=['grey', 'goldenrod', 'green'])\n",
    "ax0.set_title('On balanced subsets of TARA contigs, model v2.0',fontsize=24)\n",
    "ax0.set_xlabel('score',fontsize=24)\n",
    "ax0.tick_params(labelsize=20)\n",
    "ax0.set_ylabel('number of contigs',fontsize=24)\n",
    "ax0.legend(prop={'size': 24})"
   ]
  },
  {
   "cell_type": "code",
   "execution_count": 162,
   "metadata": {},
   "outputs": [
    {
     "data": {
      "text/plain": [
       "<matplotlib.legend.Legend at 0x14742f210>"
      ]
     },
     "execution_count": 162,
     "metadata": {},
     "output_type": "execute_result"
    },
    {
     "data": {
      "image/png": "[encoded data removed]",
      "text/plain": [
       "<matplotlib.figure.Figure at 0x140bb3d10>"
      ]
     },
     "metadata": {},
     "output_type": "display_data"
    }
   ],
   "source": [
    "fig = plt.figure(figsize=(16,9))\n",
    "ax0 = fig.add_subplot(111)\n",
    "n_bins = 10\n",
    "#colors = ['red', 'blue', 'grey']\n",
    "x_multi = [df_nonvirus_subsample.probability,df_virus.probability,\n",
    "           df_unknown_subsample.probability]\n",
    "ax0.hist(x_multi, n_bins, histtype='bar',  label=['non-virus',\n",
    "                                                  'virus',\n",
    "                                                  'unknown'],\n",
    "         color=['grey', 'goldenrod', 'green'])\n",
    "ax0.set_title('On balanced subsets of TARA contigs, model v1.0',fontsize=24)\n",
    "ax0.set_xlabel('score',fontsize=24)\n",
    "ax0.tick_params(labelsize=20)\n",
    "ax0.set_ylabel('number of contigs',fontsize=24)\n",
    "ax0.legend(prop={'size': 24})"
   ]
  },
  {
   "cell_type": "code",
   "execution_count": 176,
   "metadata": {},
   "outputs": [
    {
     "data": {
      "text/plain": [
       "<matplotlib.legend.Legend at 0x14a8a7ed0>"
      ]
     },
     "execution_count": 176,
     "metadata": {},
     "output_type": "execute_result"
    },
    {
     "data": {
      "image/png": "[encoded data removed]",
      "text/plain": [
       "<matplotlib.figure.Figure at 0x14aabed50>"
      ]
     },
     "metadata": {},
     "output_type": "display_data"
    }
   ],
   "source": [
    "fig = plt.figure(figsize=(16,9))\n",
    "ax0 = fig.add_subplot(111)\n",
    "n_bins = 10\n",
    "#colors = ['red', 'blue', 'grey']\n",
    "x_multi = [df_nonvirus.probability,df_nonvirus.hybrid_probability,df_virus.probability,\n",
    "           df_virus.hybrid_probability,df_unknown.probability,df_unknown.hybrid_probability ]\n",
    "ax0.hist(x_multi, n_bins, histtype='bar',  label=['non-virus-model_v1.0','non-virus-model_v2.0',\n",
    "                                                  'virus-model_v1.0','virus-model_v2.0',\n",
    "                                                  'unknown-model_v1.0','unknown-model_v2.0'],\n",
    "         color=['lightgrey','grey', 'wheat','goldenrod', 'lightgreen','green'])\n",
    "ax0.set_title('All TARA contigs >2K bps',fontsize=24)\n",
    "ax0.set_xlabel('score',fontsize=24)\n",
    "ax0.set_ylabel('number of contigs',fontsize=24)\n",
    "ax0.tick_params(labelsize=20)\n",
    "ax0.legend(prop={'size': 24})"
   ]
  },
  {
   "cell_type": "code",
   "execution_count": 161,
   "metadata": {},
   "outputs": [
    {
     "data": {
      "text/plain": [
       "<matplotlib.legend.Legend at 0x147424fd0>"
      ]
     },
     "execution_count": 161,
     "metadata": {},
     "output_type": "execute_result"
    },
    {
     "data": {
      "image/png": "[encoded data removed]",
      "text/plain": [
       "<matplotlib.figure.Figure at 0x140bce850>"
      ]
     },
     "metadata": {},
     "output_type": "display_data"
    }
   ],
   "source": [
    "fig = plt.figure(figsize=(16,9))\n",
    "ax0 = fig.add_subplot(111)\n",
    "n_bins = 10\n",
    "#colors = ['red', 'blue', 'grey']\n",
    "x_multi = [df_nonvirus_subsample.probability,df_nonvirus_subsample.hybrid_probability,df_virus.probability,\n",
    "           df_virus.hybrid_probability,df_unknown_subsample.probability,df_unknown_subsample.hybrid_probability ]\n",
    "ax0.hist(x_multi, n_bins, histtype='bar',  label=['non-virus-model_v1.0','non-virus-model_v2.0',\n",
    "                                                  'virus-model_v1.0','virus-model_v2.0',\n",
    "                                                  'unknown-model_v1.0','unknown-model_v2.0'],\n",
    "         color=['lightgrey','grey', 'wheat','goldenrod', 'lightgreen','green'])\n",
    "ax0.set_title('On balanced subsets of TARA contigs',fontsize=24)\n",
    "ax0.set_xlabel('score',fontsize=24)\n",
    "ax0.set_ylabel('number of contigs',fontsize=24)\n",
    "ax0.tick_params(labelsize=20)\n",
    "ax0.legend(prop={'size': 24})"
   ]
  },
  {
   "cell_type": "code",
   "execution_count": 55,
   "metadata": {
    "collapsed": true
   },
   "outputs": [],
   "source": [
    "balaced_virus_nonvirus = pd.concat([df_virus,df_nonvirus_subsample])\n",
    "balaced_matrix_virus_nonvirus_hybrid = confusion_matrix(balaced_virus_nonvirus.label, balaced_virus_nonvirus.hybrid_prediction)\n",
    "auprc_balaced_virus_nonvirus_hybrid = average_precision_score(balaced_virus_nonvirus.label, balaced_virus_nonvirus.hybrid_probability)\n",
    "precision_balaced_virus_nonvirus_hybrid, recall_balaced_virus_nonvirus_hybrid, thresholds_balaced_virus_nonvirus_hybrid = precision_recall_curve(\n",
    "    balaced_virus_nonvirus.label, balaced_virus_nonvirus.hybrid_probability)\n",
    "\n",
    "balaced_matrix_virus_nonvirus_old = confusion_matrix(balaced_virus_nonvirus.label, balaced_virus_nonvirus.prediction)\n",
    "auprc_balaced_virus_nonvirus_old = average_precision_score(balaced_virus_nonvirus.label, balaced_virus_nonvirus.probability)\n",
    "precision_balaced_virus_nonvirus_old, recall_balaced_virus_nonvirus_old, thresholds_balaced_virus_nonvirus_old = precision_recall_curve(\n",
    "    balaced_virus_nonvirus.label, balaced_virus_nonvirus.probability)\n",
    "\n",
    "\n",
    "        "
   ]
  },
  {
   "cell_type": "code",
   "execution_count": 56,
   "metadata": {},
   "outputs": [
    {
     "data": {
      "text/html": [
       "<div>\n",
       "<style>\n",
       "    .dataframe thead tr:only-child th {\n",
       "        text-align: right;\n",
       "    }\n",
       "\n",
       "    .dataframe thead th {\n",
       "        text-align: left;\n",
       "    }\n",
       "\n",
       "    .dataframe tbody tr th {\n",
       "        vertical-align: top;\n",
       "    }\n",
       "</style>\n",
       "<table border=\"1\" class=\"dataframe\">\n",
       "  <thead>\n",
       "    <tr style=\"text-align: right;\">\n",
       "      <th></th>\n",
       "      <th>name</th>\n",
       "      <th>length</th>\n",
       "      <th>probability</th>\n",
       "      <th>prediction</th>\n",
       "      <th>vfam</th>\n",
       "      <th>pfam</th>\n",
       "      <th>diamond</th>\n",
       "      <th>label</th>\n",
       "      <th>score_euk_non_euk</th>\n",
       "      <th>pred_euk_non_euk</th>\n",
       "      <th>...</th>\n",
       "      <th>pred_virus_non_virus</th>\n",
       "      <th>hybrid_probability</th>\n",
       "      <th>hybrid_prediction</th>\n",
       "      <th>tax_id</th>\n",
       "      <th>rank</th>\n",
       "      <th>tax_name</th>\n",
       "      <th>top_label</th>\n",
       "      <th>non_euk_label</th>\n",
       "      <th>micromonas_label</th>\n",
       "      <th>annotation_label</th>\n",
       "    </tr>\n",
       "  </thead>\n",
       "  <tbody>\n",
       "    <tr>\n",
       "      <th>1187</th>\n",
       "      <td>NODE_1190_length_4867_cov_31.1845_g863_i0</td>\n",
       "      <td>4867</td>\n",
       "      <td>0.003411</td>\n",
       "      <td>0.0</td>\n",
       "      <td>1.0</td>\n",
       "      <td>0.0</td>\n",
       "      <td>0.0</td>\n",
       "      <td>1.0</td>\n",
       "      <td>0.053115</td>\n",
       "      <td>0.0</td>\n",
       "      <td>...</td>\n",
       "      <td>0.0</td>\n",
       "      <td>0.013460</td>\n",
       "      <td>False</td>\n",
       "      <td>286</td>\n",
       "      <td>genus</td>\n",
       "      <td>Pseudomonas</td>\n",
       "      <td>Bacteria</td>\n",
       "      <td>True</td>\n",
       "      <td>False</td>\n",
       "      <td>with annotation</td>\n",
       "    </tr>\n",
       "    <tr>\n",
       "      <th>1385</th>\n",
       "      <td>NODE_1388_length_4479_cov_77.7475_g1017_i0</td>\n",
       "      <td>4479</td>\n",
       "      <td>0.995234</td>\n",
       "      <td>1.0</td>\n",
       "      <td>0.0</td>\n",
       "      <td>1.0</td>\n",
       "      <td>1.0</td>\n",
       "      <td>1.0</td>\n",
       "      <td>0.974094</td>\n",
       "      <td>1.0</td>\n",
       "      <td>...</td>\n",
       "      <td>0.0</td>\n",
       "      <td>0.984607</td>\n",
       "      <td>True</td>\n",
       "      <td>186616</td>\n",
       "      <td>no rank</td>\n",
       "      <td>environmental samples</td>\n",
       "      <td>Virus</td>\n",
       "      <td>True</td>\n",
       "      <td>False</td>\n",
       "      <td>with annotation</td>\n",
       "    </tr>\n",
       "    <tr>\n",
       "      <th>1698</th>\n",
       "      <td>NODE_1702_length_3955_cov_32.4023_g1269_i0</td>\n",
       "      <td>3955</td>\n",
       "      <td>0.094340</td>\n",
       "      <td>0.0</td>\n",
       "      <td>0.0</td>\n",
       "      <td>1.0</td>\n",
       "      <td>1.0</td>\n",
       "      <td>1.0</td>\n",
       "      <td>0.792640</td>\n",
       "      <td>1.0</td>\n",
       "      <td>...</td>\n",
       "      <td>0.0</td>\n",
       "      <td>0.273456</td>\n",
       "      <td>False</td>\n",
       "      <td>196896</td>\n",
       "      <td>no rank</td>\n",
       "      <td>unclassified Myoviridae</td>\n",
       "      <td>Virus</td>\n",
       "      <td>True</td>\n",
       "      <td>False</td>\n",
       "      <td>with annotation</td>\n",
       "    </tr>\n",
       "    <tr>\n",
       "      <th>1728</th>\n",
       "      <td>NODE_1732_length_3910_cov_62.4519_g1295_i0</td>\n",
       "      <td>3910</td>\n",
       "      <td>0.985221</td>\n",
       "      <td>1.0</td>\n",
       "      <td>0.0</td>\n",
       "      <td>1.0</td>\n",
       "      <td>1.0</td>\n",
       "      <td>1.0</td>\n",
       "      <td>0.960621</td>\n",
       "      <td>1.0</td>\n",
       "      <td>...</td>\n",
       "      <td>0.0</td>\n",
       "      <td>0.972844</td>\n",
       "      <td>True</td>\n",
       "      <td>196896</td>\n",
       "      <td>no rank</td>\n",
       "      <td>unclassified Myoviridae</td>\n",
       "      <td>Virus</td>\n",
       "      <td>True</td>\n",
       "      <td>False</td>\n",
       "      <td>with annotation</td>\n",
       "    </tr>\n",
       "    <tr>\n",
       "      <th>1748</th>\n",
       "      <td>NODE_1752_length_3882_cov_14.5733_g1313_i0</td>\n",
       "      <td>3882</td>\n",
       "      <td>0.355353</td>\n",
       "      <td>0.0</td>\n",
       "      <td>0.0</td>\n",
       "      <td>1.0</td>\n",
       "      <td>1.0</td>\n",
       "      <td>1.0</td>\n",
       "      <td>0.603147</td>\n",
       "      <td>1.0</td>\n",
       "      <td>...</td>\n",
       "      <td>0.0</td>\n",
       "      <td>0.462958</td>\n",
       "      <td>False</td>\n",
       "      <td>439488</td>\n",
       "      <td>no rank</td>\n",
       "      <td>ssRNA viruses</td>\n",
       "      <td>Virus</td>\n",
       "      <td>True</td>\n",
       "      <td>False</td>\n",
       "      <td>with annotation</td>\n",
       "    </tr>\n",
       "  </tbody>\n",
       "</table>\n",
       "<p>5 rows × 23 columns</p>\n",
       "</div>"
      ],
      "text/plain": [
       "                                            name  length  probability  \\\n",
       "1187   NODE_1190_length_4867_cov_31.1845_g863_i0    4867     0.003411   \n",
       "1385  NODE_1388_length_4479_cov_77.7475_g1017_i0    4479     0.995234   \n",
       "1698  NODE_1702_length_3955_cov_32.4023_g1269_i0    3955     0.094340   \n",
       "1728  NODE_1732_length_3910_cov_62.4519_g1295_i0    3910     0.985221   \n",
       "1748  NODE_1752_length_3882_cov_14.5733_g1313_i0    3882     0.355353   \n",
       "\n",
       "      prediction  vfam  pfam  diamond  label  score_euk_non_euk  \\\n",
       "1187         0.0   1.0   0.0      0.0    1.0           0.053115   \n",
       "1385         1.0   0.0   1.0      1.0    1.0           0.974094   \n",
       "1698         0.0   0.0   1.0      1.0    1.0           0.792640   \n",
       "1728         1.0   0.0   1.0      1.0    1.0           0.960621   \n",
       "1748         0.0   0.0   1.0      1.0    1.0           0.603147   \n",
       "\n",
       "      pred_euk_non_euk       ...         pred_virus_non_virus  \\\n",
       "1187               0.0       ...                          0.0   \n",
       "1385               1.0       ...                          0.0   \n",
       "1698               1.0       ...                          0.0   \n",
       "1728               1.0       ...                          0.0   \n",
       "1748               1.0       ...                          0.0   \n",
       "\n",
       "      hybrid_probability  hybrid_prediction  tax_id     rank  \\\n",
       "1187            0.013460              False     286    genus   \n",
       "1385            0.984607               True  186616  no rank   \n",
       "1698            0.273456              False  196896  no rank   \n",
       "1728            0.972844               True  196896  no rank   \n",
       "1748            0.462958              False  439488  no rank   \n",
       "\n",
       "                     tax_name  top_label non_euk_label micromonas_label  \\\n",
       "1187              Pseudomonas   Bacteria          True            False   \n",
       "1385    environmental samples      Virus          True            False   \n",
       "1698  unclassified Myoviridae      Virus          True            False   \n",
       "1728  unclassified Myoviridae      Virus          True            False   \n",
       "1748            ssRNA viruses      Virus          True            False   \n",
       "\n",
       "     annotation_label  \n",
       "1187  with annotation  \n",
       "1385  with annotation  \n",
       "1698  with annotation  \n",
       "1728  with annotation  \n",
       "1748  with annotation  \n",
       "\n",
       "[5 rows x 23 columns]"
      ]
     },
     "execution_count": 56,
     "metadata": {},
     "output_type": "execute_result"
    }
   ],
   "source": [
    "balaced_virus_nonvirus.head()"
   ]
  },
  {
   "cell_type": "code",
   "execution_count": 57,
   "metadata": {},
   "outputs": [
    {
     "data": {
      "text/plain": [
       "array([[5415, 1626],\n",
       "       [2865, 4176]])"
      ]
     },
     "execution_count": 57,
     "metadata": {},
     "output_type": "execute_result"
    }
   ],
   "source": [
    "balaced_matrix_virus_nonvirus_hybrid"
   ]
  },
  {
   "cell_type": "code",
   "execution_count": 58,
   "metadata": {},
   "outputs": [
    {
     "data": {
      "text/plain": [
       "array([[4931, 2110],\n",
       "       [1534, 5507]])"
      ]
     },
     "execution_count": 58,
     "metadata": {},
     "output_type": "execute_result"
    }
   ],
   "source": [
    "balaced_matrix_virus_nonvirus_old"
   ]
  },
  {
   "cell_type": "code",
   "execution_count": 167,
   "metadata": {},
   "outputs": [
    {
     "data": {
      "text/plain": [
       "<matplotlib.legend.Legend at 0x148a70590>"
      ]
     },
     "execution_count": 167,
     "metadata": {},
     "output_type": "execute_result"
    },
    {
     "data": {
      "image/png": "[encoded data removed]",
      "text/plain": [
       "<matplotlib.figure.Figure at 0x14715a3d0>"
      ]
     },
     "metadata": {},
     "output_type": "display_data"
    }
   ],
   "source": [
    "        lw = 2\n",
    "        plt.figure(figsize=(16, 9), dpi=80)\n",
    "        plt.clf()\n",
    "        plt.plot(recall_balaced_virus_nonvirus_hybrid, precision_balaced_virus_nonvirus_hybrid, lw=lw, \n",
    "                 label='model v2.0, AUC={0:0.4f}'.format(auprc_balaced_virus_nonvirus_hybrid))\n",
    "        plt.plot(recall_balaced_virus_nonvirus_old, precision_balaced_virus_nonvirus_old, lw=lw, \n",
    "                 label='model v1.0, AUC={0:0.4f}'.format(auprc_balaced_virus_nonvirus_old))\n",
    "\n",
    "        plt.xlabel('Recall',fontsize=24)\n",
    "        plt.ylabel('Precision',fontsize=24)\n",
    "        plt.ylim([0.0, 1.05])\n",
    "        plt.xlim([0.0, 1.0])\n",
    "        plt.tick_params(labelsize=20)\n",
    "        plt.title('balanced virus/non-virus, 7041 contigs',fontsize=24)\n",
    "        plt.legend(loc=\"lower right\",fontsize=24)"
   ]
  },
  {
   "cell_type": "markdown",
   "metadata": {},
   "source": [
    "\n",
    "\n",
    "#### using all TARA contigs - imbalanced"
   ]
  },
  {
   "cell_type": "code",
   "execution_count": 60,
   "metadata": {},
   "outputs": [
    {
     "data": {
      "text/html": [
       "<div>\n",
       "<style>\n",
       "    .dataframe thead tr:only-child th {\n",
       "        text-align: right;\n",
       "    }\n",
       "\n",
       "    .dataframe thead th {\n",
       "        text-align: left;\n",
       "    }\n",
       "\n",
       "    .dataframe tbody tr th {\n",
       "        vertical-align: top;\n",
       "    }\n",
       "</style>\n",
       "<table border=\"1\" class=\"dataframe\">\n",
       "  <thead>\n",
       "    <tr style=\"text-align: right;\">\n",
       "      <th></th>\n",
       "      <th>name</th>\n",
       "      <th>length</th>\n",
       "      <th>probability</th>\n",
       "      <th>prediction</th>\n",
       "      <th>vfam</th>\n",
       "      <th>pfam</th>\n",
       "      <th>diamond</th>\n",
       "      <th>label</th>\n",
       "      <th>score_euk_non_euk</th>\n",
       "      <th>pred_euk_non_euk</th>\n",
       "      <th>...</th>\n",
       "      <th>pred_virus_non_virus</th>\n",
       "      <th>hybrid_probability</th>\n",
       "      <th>hybrid_prediction</th>\n",
       "      <th>tax_id</th>\n",
       "      <th>rank</th>\n",
       "      <th>tax_name</th>\n",
       "      <th>top_label</th>\n",
       "      <th>non_euk_label</th>\n",
       "      <th>micromonas_label</th>\n",
       "      <th>annotation_label</th>\n",
       "    </tr>\n",
       "  </thead>\n",
       "  <tbody>\n",
       "    <tr>\n",
       "      <th>1187</th>\n",
       "      <td>NODE_1190_length_4867_cov_31.1845_g863_i0</td>\n",
       "      <td>4867</td>\n",
       "      <td>0.003411</td>\n",
       "      <td>0.0</td>\n",
       "      <td>1.0</td>\n",
       "      <td>0.0</td>\n",
       "      <td>0.0</td>\n",
       "      <td>1.0</td>\n",
       "      <td>0.053115</td>\n",
       "      <td>0.0</td>\n",
       "      <td>...</td>\n",
       "      <td>0.0</td>\n",
       "      <td>0.013460</td>\n",
       "      <td>False</td>\n",
       "      <td>286</td>\n",
       "      <td>genus</td>\n",
       "      <td>Pseudomonas</td>\n",
       "      <td>Bacteria</td>\n",
       "      <td>True</td>\n",
       "      <td>False</td>\n",
       "      <td>with annotation</td>\n",
       "    </tr>\n",
       "    <tr>\n",
       "      <th>1385</th>\n",
       "      <td>NODE_1388_length_4479_cov_77.7475_g1017_i0</td>\n",
       "      <td>4479</td>\n",
       "      <td>0.995234</td>\n",
       "      <td>1.0</td>\n",
       "      <td>0.0</td>\n",
       "      <td>1.0</td>\n",
       "      <td>1.0</td>\n",
       "      <td>1.0</td>\n",
       "      <td>0.974094</td>\n",
       "      <td>1.0</td>\n",
       "      <td>...</td>\n",
       "      <td>0.0</td>\n",
       "      <td>0.984607</td>\n",
       "      <td>True</td>\n",
       "      <td>186616</td>\n",
       "      <td>no rank</td>\n",
       "      <td>environmental samples</td>\n",
       "      <td>Virus</td>\n",
       "      <td>True</td>\n",
       "      <td>False</td>\n",
       "      <td>with annotation</td>\n",
       "    </tr>\n",
       "    <tr>\n",
       "      <th>1698</th>\n",
       "      <td>NODE_1702_length_3955_cov_32.4023_g1269_i0</td>\n",
       "      <td>3955</td>\n",
       "      <td>0.094340</td>\n",
       "      <td>0.0</td>\n",
       "      <td>0.0</td>\n",
       "      <td>1.0</td>\n",
       "      <td>1.0</td>\n",
       "      <td>1.0</td>\n",
       "      <td>0.792640</td>\n",
       "      <td>1.0</td>\n",
       "      <td>...</td>\n",
       "      <td>0.0</td>\n",
       "      <td>0.273456</td>\n",
       "      <td>False</td>\n",
       "      <td>196896</td>\n",
       "      <td>no rank</td>\n",
       "      <td>unclassified Myoviridae</td>\n",
       "      <td>Virus</td>\n",
       "      <td>True</td>\n",
       "      <td>False</td>\n",
       "      <td>with annotation</td>\n",
       "    </tr>\n",
       "    <tr>\n",
       "      <th>1728</th>\n",
       "      <td>NODE_1732_length_3910_cov_62.4519_g1295_i0</td>\n",
       "      <td>3910</td>\n",
       "      <td>0.985221</td>\n",
       "      <td>1.0</td>\n",
       "      <td>0.0</td>\n",
       "      <td>1.0</td>\n",
       "      <td>1.0</td>\n",
       "      <td>1.0</td>\n",
       "      <td>0.960621</td>\n",
       "      <td>1.0</td>\n",
       "      <td>...</td>\n",
       "      <td>0.0</td>\n",
       "      <td>0.972844</td>\n",
       "      <td>True</td>\n",
       "      <td>196896</td>\n",
       "      <td>no rank</td>\n",
       "      <td>unclassified Myoviridae</td>\n",
       "      <td>Virus</td>\n",
       "      <td>True</td>\n",
       "      <td>False</td>\n",
       "      <td>with annotation</td>\n",
       "    </tr>\n",
       "    <tr>\n",
       "      <th>1748</th>\n",
       "      <td>NODE_1752_length_3882_cov_14.5733_g1313_i0</td>\n",
       "      <td>3882</td>\n",
       "      <td>0.355353</td>\n",
       "      <td>0.0</td>\n",
       "      <td>0.0</td>\n",
       "      <td>1.0</td>\n",
       "      <td>1.0</td>\n",
       "      <td>1.0</td>\n",
       "      <td>0.603147</td>\n",
       "      <td>1.0</td>\n",
       "      <td>...</td>\n",
       "      <td>0.0</td>\n",
       "      <td>0.462958</td>\n",
       "      <td>False</td>\n",
       "      <td>439488</td>\n",
       "      <td>no rank</td>\n",
       "      <td>ssRNA viruses</td>\n",
       "      <td>Virus</td>\n",
       "      <td>True</td>\n",
       "      <td>False</td>\n",
       "      <td>with annotation</td>\n",
       "    </tr>\n",
       "  </tbody>\n",
       "</table>\n",
       "<p>5 rows × 23 columns</p>\n",
       "</div>"
      ],
      "text/plain": [
       "                                            name  length  probability  \\\n",
       "1187   NODE_1190_length_4867_cov_31.1845_g863_i0    4867     0.003411   \n",
       "1385  NODE_1388_length_4479_cov_77.7475_g1017_i0    4479     0.995234   \n",
       "1698  NODE_1702_length_3955_cov_32.4023_g1269_i0    3955     0.094340   \n",
       "1728  NODE_1732_length_3910_cov_62.4519_g1295_i0    3910     0.985221   \n",
       "1748  NODE_1752_length_3882_cov_14.5733_g1313_i0    3882     0.355353   \n",
       "\n",
       "      prediction  vfam  pfam  diamond  label  score_euk_non_euk  \\\n",
       "1187         0.0   1.0   0.0      0.0    1.0           0.053115   \n",
       "1385         1.0   0.0   1.0      1.0    1.0           0.974094   \n",
       "1698         0.0   0.0   1.0      1.0    1.0           0.792640   \n",
       "1728         1.0   0.0   1.0      1.0    1.0           0.960621   \n",
       "1748         0.0   0.0   1.0      1.0    1.0           0.603147   \n",
       "\n",
       "      pred_euk_non_euk       ...         pred_virus_non_virus  \\\n",
       "1187               0.0       ...                          0.0   \n",
       "1385               1.0       ...                          0.0   \n",
       "1698               1.0       ...                          0.0   \n",
       "1728               1.0       ...                          0.0   \n",
       "1748               1.0       ...                          0.0   \n",
       "\n",
       "      hybrid_probability  hybrid_prediction  tax_id     rank  \\\n",
       "1187            0.013460              False     286    genus   \n",
       "1385            0.984607               True  186616  no rank   \n",
       "1698            0.273456              False  196896  no rank   \n",
       "1728            0.972844               True  196896  no rank   \n",
       "1748            0.462958              False  439488  no rank   \n",
       "\n",
       "                     tax_name  top_label non_euk_label micromonas_label  \\\n",
       "1187              Pseudomonas   Bacteria          True            False   \n",
       "1385    environmental samples      Virus          True            False   \n",
       "1698  unclassified Myoviridae      Virus          True            False   \n",
       "1728  unclassified Myoviridae      Virus          True            False   \n",
       "1748            ssRNA viruses      Virus          True            False   \n",
       "\n",
       "     annotation_label  \n",
       "1187  with annotation  \n",
       "1385  with annotation  \n",
       "1698  with annotation  \n",
       "1728  with annotation  \n",
       "1748  with annotation  \n",
       "\n",
       "[5 rows x 23 columns]"
      ]
     },
     "execution_count": 60,
     "metadata": {},
     "output_type": "execute_result"
    }
   ],
   "source": [
    "df_virus.head()"
   ]
  },
  {
   "cell_type": "code",
   "execution_count": 61,
   "metadata": {},
   "outputs": [],
   "source": [
    "\n",
    "imbalaced_virus_nonvirus = pd.concat([df_virus,df_nonvirus])\n",
    "imbalaced_matrix_virus_nonvirus_hybrid = confusion_matrix(imbalaced_virus_nonvirus.label, imbalaced_virus_nonvirus.hybrid_prediction)\n",
    "auprc_imbalaced_virus_nonvirus_hybrid = average_precision_score(imbalaced_virus_nonvirus.label, imbalaced_virus_nonvirus.hybrid_probability)\n",
    "precision_imbalaced_virus_nonvirus_hybrid, recall_imbalaced_virus_nonvirus_hybrid, thresholds_imbalaced_virus_nonvirus_hybrid = precision_recall_curve(\n",
    "    imbalaced_virus_nonvirus.label, imbalaced_virus_nonvirus.hybrid_probability)\n",
    "\n",
    "imbalaced_matrix_virus_nonvirus_old = confusion_matrix(imbalaced_virus_nonvirus.label, imbalaced_virus_nonvirus.prediction)\n",
    "auprc_imbalaced_virus_nonvirus_old = average_precision_score(imbalaced_virus_nonvirus.label, imbalaced_virus_nonvirus.probability)\n",
    "precision_imbalaced_virus_nonvirus_old, recall_imbalaced_virus_nonvirus_old, thresholds_imbalaced_virus_nonvirus_old = precision_recall_curve(\n",
    "    imbalaced_virus_nonvirus.label, imbalaced_virus_nonvirus.probability)\n",
    "\n",
    "\n",
    "        \n",
    "    "
   ]
  },
  {
   "cell_type": "code",
   "execution_count": 62,
   "metadata": {},
   "outputs": [
    {
     "data": {
      "text/html": [
       "<div>\n",
       "<style>\n",
       "    .dataframe thead tr:only-child th {\n",
       "        text-align: right;\n",
       "    }\n",
       "\n",
       "    .dataframe thead th {\n",
       "        text-align: left;\n",
       "    }\n",
       "\n",
       "    .dataframe tbody tr th {\n",
       "        vertical-align: top;\n",
       "    }\n",
       "</style>\n",
       "<table border=\"1\" class=\"dataframe\">\n",
       "  <thead>\n",
       "    <tr style=\"text-align: right;\">\n",
       "      <th></th>\n",
       "      <th>name</th>\n",
       "      <th>length</th>\n",
       "      <th>probability</th>\n",
       "      <th>prediction</th>\n",
       "      <th>vfam</th>\n",
       "      <th>pfam</th>\n",
       "      <th>diamond</th>\n",
       "      <th>label</th>\n",
       "      <th>score_euk_non_euk</th>\n",
       "      <th>pred_euk_non_euk</th>\n",
       "      <th>...</th>\n",
       "      <th>pred_virus_non_virus</th>\n",
       "      <th>hybrid_probability</th>\n",
       "      <th>hybrid_prediction</th>\n",
       "      <th>tax_id</th>\n",
       "      <th>rank</th>\n",
       "      <th>tax_name</th>\n",
       "      <th>top_label</th>\n",
       "      <th>non_euk_label</th>\n",
       "      <th>micromonas_label</th>\n",
       "      <th>annotation_label</th>\n",
       "    </tr>\n",
       "  </thead>\n",
       "  <tbody>\n",
       "    <tr>\n",
       "      <th>1187</th>\n",
       "      <td>NODE_1190_length_4867_cov_31.1845_g863_i0</td>\n",
       "      <td>4867</td>\n",
       "      <td>0.003411</td>\n",
       "      <td>0.0</td>\n",
       "      <td>1.0</td>\n",
       "      <td>0.0</td>\n",
       "      <td>0.0</td>\n",
       "      <td>1.0</td>\n",
       "      <td>0.053115</td>\n",
       "      <td>0.0</td>\n",
       "      <td>...</td>\n",
       "      <td>0.0</td>\n",
       "      <td>0.013460</td>\n",
       "      <td>False</td>\n",
       "      <td>286</td>\n",
       "      <td>genus</td>\n",
       "      <td>Pseudomonas</td>\n",
       "      <td>Bacteria</td>\n",
       "      <td>True</td>\n",
       "      <td>False</td>\n",
       "      <td>with annotation</td>\n",
       "    </tr>\n",
       "    <tr>\n",
       "      <th>1385</th>\n",
       "      <td>NODE_1388_length_4479_cov_77.7475_g1017_i0</td>\n",
       "      <td>4479</td>\n",
       "      <td>0.995234</td>\n",
       "      <td>1.0</td>\n",
       "      <td>0.0</td>\n",
       "      <td>1.0</td>\n",
       "      <td>1.0</td>\n",
       "      <td>1.0</td>\n",
       "      <td>0.974094</td>\n",
       "      <td>1.0</td>\n",
       "      <td>...</td>\n",
       "      <td>0.0</td>\n",
       "      <td>0.984607</td>\n",
       "      <td>True</td>\n",
       "      <td>186616</td>\n",
       "      <td>no rank</td>\n",
       "      <td>environmental samples</td>\n",
       "      <td>Virus</td>\n",
       "      <td>True</td>\n",
       "      <td>False</td>\n",
       "      <td>with annotation</td>\n",
       "    </tr>\n",
       "    <tr>\n",
       "      <th>1698</th>\n",
       "      <td>NODE_1702_length_3955_cov_32.4023_g1269_i0</td>\n",
       "      <td>3955</td>\n",
       "      <td>0.094340</td>\n",
       "      <td>0.0</td>\n",
       "      <td>0.0</td>\n",
       "      <td>1.0</td>\n",
       "      <td>1.0</td>\n",
       "      <td>1.0</td>\n",
       "      <td>0.792640</td>\n",
       "      <td>1.0</td>\n",
       "      <td>...</td>\n",
       "      <td>0.0</td>\n",
       "      <td>0.273456</td>\n",
       "      <td>False</td>\n",
       "      <td>196896</td>\n",
       "      <td>no rank</td>\n",
       "      <td>unclassified Myoviridae</td>\n",
       "      <td>Virus</td>\n",
       "      <td>True</td>\n",
       "      <td>False</td>\n",
       "      <td>with annotation</td>\n",
       "    </tr>\n",
       "    <tr>\n",
       "      <th>1728</th>\n",
       "      <td>NODE_1732_length_3910_cov_62.4519_g1295_i0</td>\n",
       "      <td>3910</td>\n",
       "      <td>0.985221</td>\n",
       "      <td>1.0</td>\n",
       "      <td>0.0</td>\n",
       "      <td>1.0</td>\n",
       "      <td>1.0</td>\n",
       "      <td>1.0</td>\n",
       "      <td>0.960621</td>\n",
       "      <td>1.0</td>\n",
       "      <td>...</td>\n",
       "      <td>0.0</td>\n",
       "      <td>0.972844</td>\n",
       "      <td>True</td>\n",
       "      <td>196896</td>\n",
       "      <td>no rank</td>\n",
       "      <td>unclassified Myoviridae</td>\n",
       "      <td>Virus</td>\n",
       "      <td>True</td>\n",
       "      <td>False</td>\n",
       "      <td>with annotation</td>\n",
       "    </tr>\n",
       "    <tr>\n",
       "      <th>1748</th>\n",
       "      <td>NODE_1752_length_3882_cov_14.5733_g1313_i0</td>\n",
       "      <td>3882</td>\n",
       "      <td>0.355353</td>\n",
       "      <td>0.0</td>\n",
       "      <td>0.0</td>\n",
       "      <td>1.0</td>\n",
       "      <td>1.0</td>\n",
       "      <td>1.0</td>\n",
       "      <td>0.603147</td>\n",
       "      <td>1.0</td>\n",
       "      <td>...</td>\n",
       "      <td>0.0</td>\n",
       "      <td>0.462958</td>\n",
       "      <td>False</td>\n",
       "      <td>439488</td>\n",
       "      <td>no rank</td>\n",
       "      <td>ssRNA viruses</td>\n",
       "      <td>Virus</td>\n",
       "      <td>True</td>\n",
       "      <td>False</td>\n",
       "      <td>with annotation</td>\n",
       "    </tr>\n",
       "  </tbody>\n",
       "</table>\n",
       "<p>5 rows × 23 columns</p>\n",
       "</div>"
      ],
      "text/plain": [
       "                                            name  length  probability  \\\n",
       "1187   NODE_1190_length_4867_cov_31.1845_g863_i0    4867     0.003411   \n",
       "1385  NODE_1388_length_4479_cov_77.7475_g1017_i0    4479     0.995234   \n",
       "1698  NODE_1702_length_3955_cov_32.4023_g1269_i0    3955     0.094340   \n",
       "1728  NODE_1732_length_3910_cov_62.4519_g1295_i0    3910     0.985221   \n",
       "1748  NODE_1752_length_3882_cov_14.5733_g1313_i0    3882     0.355353   \n",
       "\n",
       "      prediction  vfam  pfam  diamond  label  score_euk_non_euk  \\\n",
       "1187         0.0   1.0   0.0      0.0    1.0           0.053115   \n",
       "1385         1.0   0.0   1.0      1.0    1.0           0.974094   \n",
       "1698         0.0   0.0   1.0      1.0    1.0           0.792640   \n",
       "1728         1.0   0.0   1.0      1.0    1.0           0.960621   \n",
       "1748         0.0   0.0   1.0      1.0    1.0           0.603147   \n",
       "\n",
       "      pred_euk_non_euk       ...         pred_virus_non_virus  \\\n",
       "1187               0.0       ...                          0.0   \n",
       "1385               1.0       ...                          0.0   \n",
       "1698               1.0       ...                          0.0   \n",
       "1728               1.0       ...                          0.0   \n",
       "1748               1.0       ...                          0.0   \n",
       "\n",
       "      hybrid_probability  hybrid_prediction  tax_id     rank  \\\n",
       "1187            0.013460              False     286    genus   \n",
       "1385            0.984607               True  186616  no rank   \n",
       "1698            0.273456              False  196896  no rank   \n",
       "1728            0.972844               True  196896  no rank   \n",
       "1748            0.462958              False  439488  no rank   \n",
       "\n",
       "                     tax_name  top_label non_euk_label micromonas_label  \\\n",
       "1187              Pseudomonas   Bacteria          True            False   \n",
       "1385    environmental samples      Virus          True            False   \n",
       "1698  unclassified Myoviridae      Virus          True            False   \n",
       "1728  unclassified Myoviridae      Virus          True            False   \n",
       "1748            ssRNA viruses      Virus          True            False   \n",
       "\n",
       "     annotation_label  \n",
       "1187  with annotation  \n",
       "1385  with annotation  \n",
       "1698  with annotation  \n",
       "1728  with annotation  \n",
       "1748  with annotation  \n",
       "\n",
       "[5 rows x 23 columns]"
      ]
     },
     "execution_count": 62,
     "metadata": {},
     "output_type": "execute_result"
    }
   ],
   "source": [
    "imbalaced_virus_nonvirus.head()"
   ]
  },
  {
   "cell_type": "code",
   "execution_count": 63,
   "metadata": {},
   "outputs": [
    {
     "data": {
      "text/plain": [
       "array([[146072,  44951],\n",
       "       [  2865,   4176]])"
      ]
     },
     "execution_count": 63,
     "metadata": {},
     "output_type": "execute_result"
    }
   ],
   "source": [
    "imbalaced_matrix_virus_nonvirus_hybrid"
   ]
  },
  {
   "cell_type": "code",
   "execution_count": 64,
   "metadata": {},
   "outputs": [
    {
     "data": {
      "text/plain": [
       "array([[131866,  59157],\n",
       "       [  1534,   5507]])"
      ]
     },
     "execution_count": 64,
     "metadata": {},
     "output_type": "execute_result"
    }
   ],
   "source": [
    "imbalaced_matrix_virus_nonvirus_old"
   ]
  },
  {
   "cell_type": "code",
   "execution_count": 65,
   "metadata": {},
   "outputs": [
    {
     "data": {
      "text/plain": [
       "<matplotlib.legend.Legend at 0x10fe7fc10>"
      ]
     },
     "execution_count": 65,
     "metadata": {},
     "output_type": "execute_result"
    },
    {
     "data": {
      "image/png": "[encoded data removed]",
      "text/plain": [
       "<matplotlib.figure.Figure at 0x12feb7690>"
      ]
     },
     "metadata": {},
     "output_type": "display_data"
    }
   ],
   "source": [
    "        lw = 2\n",
    "        plt.figure(figsize=(6, 4), dpi=80)\n",
    "        plt.clf()\n",
    "        plt.plot(recall_imbalaced_virus_nonvirus_hybrid, precision_imbalaced_virus_nonvirus_hybrid, lw=lw, \n",
    "                 label='hybrid model, AUC={0:0.4f}'.format(auprc_imbalaced_virus_nonvirus_hybrid))\n",
    "        plt.plot(recall_imbalaced_virus_nonvirus_old, precision_imbalaced_virus_nonvirus_old, lw=lw, \n",
    "                 label='old model, AUC={0:0.4f}'.format(auprc_imbalaced_virus_nonvirus_old))\n",
    "\n",
    "        plt.xlabel('Recall')\n",
    "        plt.ylabel('Precision')\n",
    "        plt.ylim([0.0, 1.05])\n",
    "        plt.xlim([0.0, 1.0])\n",
    "        plt.title('imbalanced virus/non-virus, 7041:191023 contigs')\n",
    "        plt.legend(loc=\"upper right\")\n"
   ]
  },
  {
   "cell_type": "markdown",
   "metadata": {},
   "source": [
    "### Check the performance of the Euk/non-euk model"
   ]
  },
  {
   "cell_type": "code",
   "execution_count": 66,
   "metadata": {
    "collapsed": true
   },
   "outputs": [],
   "source": [
    "imbalaced_euk_noneuk = pd.concat([df_euk,df_noneuk])"
   ]
  },
  {
   "cell_type": "code",
   "execution_count": 67,
   "metadata": {
    "collapsed": true
   },
   "outputs": [],
   "source": [
    "balaced_euk_noneuk = pd.concat([df_euk,df_noneuk_subsample])"
   ]
  },
  {
   "cell_type": "code",
   "execution_count": 68,
   "metadata": {},
   "outputs": [],
   "source": [
    "matrix_euk_non_euk_imbalanced = confusion_matrix(imbalaced_euk_noneuk.non_euk_label, imbalaced_euk_noneuk.pred_euk_non_euk)"
   ]
  },
  {
   "cell_type": "code",
   "execution_count": 69,
   "metadata": {},
   "outputs": [
    {
     "data": {
      "text/plain": [
       "array([[23114, 17806],\n",
       "       [78591, 78232]])"
      ]
     },
     "execution_count": 69,
     "metadata": {},
     "output_type": "execute_result"
    }
   ],
   "source": [
    "matrix_euk_non_euk_imbalanced"
   ]
  },
  {
   "cell_type": "code",
   "execution_count": 70,
   "metadata": {
    "collapsed": true
   },
   "outputs": [],
   "source": [
    "matrix_euk_non_euk_balanced = confusion_matrix(balaced_euk_noneuk.non_euk_label, balaced_euk_noneuk.pred_euk_non_euk)"
   ]
  },
  {
   "cell_type": "code",
   "execution_count": 71,
   "metadata": {},
   "outputs": [
    {
     "data": {
      "text/plain": [
       "array([[23114, 17806],\n",
       "       [20394, 20526]])"
      ]
     },
     "execution_count": 71,
     "metadata": {},
     "output_type": "execute_result"
    }
   ],
   "source": [
    "matrix_euk_non_euk_balanced"
   ]
  },
  {
   "cell_type": "code",
   "execution_count": 72,
   "metadata": {
    "collapsed": true
   },
   "outputs": [],
   "source": [
    "auprc_euk_imbalanced = average_precision_score(imbalaced_euk_noneuk.non_euk_label, imbalaced_euk_noneuk.score_euk_non_euk)"
   ]
  },
  {
   "cell_type": "code",
   "execution_count": 73,
   "metadata": {
    "collapsed": true
   },
   "outputs": [],
   "source": [
    "auprc_euk_balanced = average_precision_score(balaced_euk_noneuk.non_euk_label, balaced_euk_noneuk.score_euk_non_euk)"
   ]
  },
  {
   "cell_type": "code",
   "execution_count": 74,
   "metadata": {},
   "outputs": [
    {
     "data": {
      "text/plain": [
       "0.49113063826830622"
      ]
     },
     "execution_count": 74,
     "metadata": {},
     "output_type": "execute_result"
    }
   ],
   "source": [
    "auprc_euk_balanced"
   ]
  },
  {
   "cell_type": "code",
   "execution_count": 75,
   "metadata": {},
   "outputs": [
    {
     "data": {
      "text/plain": [
       "0.49113063826830622"
      ]
     },
     "execution_count": 75,
     "metadata": {},
     "output_type": "execute_result"
    }
   ],
   "source": [
    "auprc_euk_balanced"
   ]
  },
  {
   "cell_type": "code",
   "execution_count": 76,
   "metadata": {
    "collapsed": true
   },
   "outputs": [],
   "source": [
    "precision_euk_imbalanced, recall_euk_imbalanced, thresholds_euk_imbalanced = precision_recall_curve(imbalaced_euk_noneuk.non_euk_label, imbalaced_euk_noneuk.score_euk_non_euk)"
   ]
  },
  {
   "cell_type": "code",
   "execution_count": 77,
   "metadata": {
    "collapsed": true
   },
   "outputs": [],
   "source": [
    "precision_euk_balanced, recall_euk_balanced, thresholds_euk_balanced = precision_recall_curve(balaced_euk_noneuk.non_euk_label, balaced_euk_noneuk.score_euk_non_euk)"
   ]
  },
  {
   "cell_type": "code",
   "execution_count": 78,
   "metadata": {},
   "outputs": [
    {
     "data": {
      "text/plain": [
       "<matplotlib.legend.Legend at 0x10fe891d0>"
      ]
     },
     "execution_count": 78,
     "metadata": {},
     "output_type": "execute_result"
    },
    {
     "data": {
      "image/png": "[encoded data removed]",
      "text/plain": [
       "<matplotlib.figure.Figure at 0x130b3e810>"
      ]
     },
     "metadata": {},
     "output_type": "display_data"
    }
   ],
   "source": [
    "        lw = 2\n",
    "        plt.figure(figsize=(6, 4), dpi=80)\n",
    "        plt.clf()\n",
    "        plt.plot(recall_euk_imbalanced, precision_euk_imbalanced, lw=lw, color='red',\n",
    "                 label='euk/non-euk model, AUC={0:0.4f}'.format(auprc_euk_imbalanced))\n",
    "\n",
    "        plt.xlabel('Recall')\n",
    "        plt.ylabel('Precision')\n",
    "        plt.ylim([0.0, 1.05])\n",
    "        plt.xlim([0.0, 1.0])\n",
    "        plt.title('euk/non-euk model, imbalanced data')\n",
    "        plt.legend(loc=\"upper right\")\n",
    "\n"
   ]
  },
  {
   "cell_type": "code",
   "execution_count": 79,
   "metadata": {},
   "outputs": [
    {
     "data": {
      "text/plain": [
       "<matplotlib.legend.Legend at 0x1338510d0>"
      ]
     },
     "execution_count": 79,
     "metadata": {},
     "output_type": "execute_result"
    },
    {
     "data": {
      "image/png": "[encoded data removed]",
      "text/plain": [
       "<matplotlib.figure.Figure at 0x129f87e50>"
      ]
     },
     "metadata": {},
     "output_type": "display_data"
    }
   ],
   "source": [
    "        lw = 2\n",
    "        plt.figure(figsize=(6, 4), dpi=80)\n",
    "        plt.clf()\n",
    "        plt.plot(recall_euk_balanced, precision_euk_balanced, lw=lw, color='red',\n",
    "                 label='euk/non-euk model, AUC={0:0.4f}'.format(auprc_euk_balanced))\n",
    "\n",
    "        plt.xlabel('Recall')\n",
    "        plt.ylabel('Precision')\n",
    "        plt.ylim([0.0, 1.05])\n",
    "        plt.xlim([0.0, 1.0])\n",
    "        plt.title('euk/non-euk model, balanced data')\n",
    "        plt.legend(loc=\"upper right\")\n",
    "\n"
   ]
  },
  {
   "cell_type": "markdown",
   "metadata": {},
   "source": [
    "#### Euk/non-Euk itself does not perform very well using the MEGA annotation as ground truth"
   ]
  },
  {
   "cell_type": "markdown",
   "metadata": {},
   "source": [
    "#### it's still possible, the euk/non-euk works for some family......"
   ]
  },
  {
   "cell_type": "code",
   "execution_count": 80,
   "metadata": {},
   "outputs": [
    {
     "data": {
      "text/plain": [
       "<matplotlib.axes._subplots.AxesSubplot at 0x136b72550>"
      ]
     },
     "execution_count": 80,
     "metadata": {},
     "output_type": "execute_result"
    },
    {
     "data": {
      "image/png": "[encoded data removed]",
      "text/plain": [
       "<matplotlib.figure.Figure at 0x131ed3490>"
      ]
     },
     "metadata": {},
     "output_type": "display_data"
    }
   ],
   "source": [
    "new_table[new_table.top_label=='Eukaryota'].score_euk_non_euk.plot.hist(bins=50, title='euk/non-euk model, for Eukaryota related contigs')"
   ]
  },
  {
   "cell_type": "code",
   "execution_count": 81,
   "metadata": {},
   "outputs": [
    {
     "name": "stderr",
     "output_type": "stream",
     "text": [
      "/anaconda/lib/python2.7/site-packages/ipykernel/__main__.py:1: UserWarning: Boolean Series key will be reindexed to match DataFrame index.\n",
      "  if __name__ == '__main__':\n"
     ]
    },
    {
     "data": {
      "text/plain": [
       "<matplotlib.axes._subplots.AxesSubplot at 0x131ede750>"
      ]
     },
     "execution_count": 81,
     "metadata": {},
     "output_type": "execute_result"
    },
    {
     "data": {
      "image/png": "[encoded data removed]",
      "text/plain": [
       "<matplotlib.figure.Figure at 0x1374d65d0>"
      ]
     },
     "metadata": {},
     "output_type": "display_data"
    }
   ],
   "source": [
    "new_table[new_table.top_label!='Eukaryota'][new_table.annotation_label=='with annotation'].score_euk_non_euk.plot.hist(bins=50, title='euk/non-euk model, for non-Eukaryota related contigs')"
   ]
  },
  {
   "cell_type": "markdown",
   "metadata": {},
   "source": [
    "#### This means removing low euk/non-euk score contigs, will not remove many real virus"
   ]
  },
  {
   "cell_type": "code",
   "execution_count": 82,
   "metadata": {},
   "outputs": [
    {
     "data": {
      "text/plain": [
       "<matplotlib.axes._subplots.AxesSubplot at 0x1374edb90>"
      ]
     },
     "execution_count": 82,
     "metadata": {},
     "output_type": "execute_result"
    },
    {
     "data": {
      "image/png": "[encoded data removed]",
      "text/plain": [
       "<matplotlib.figure.Figure at 0x134f05250>"
      ]
     },
     "metadata": {},
     "output_type": "display_data"
    }
   ],
   "source": [
    "new_table[new_table.label==1].score_euk_non_euk.plot.hist(bins=50, title='euk/non-euk model, for Virus related contigs')"
   ]
  },
  {
   "cell_type": "code",
   "execution_count": 83,
   "metadata": {},
   "outputs": [
    {
     "name": "stderr",
     "output_type": "stream",
     "text": [
      "/anaconda/lib/python2.7/site-packages/ipykernel/__main__.py:1: UserWarning: Boolean Series key will be reindexed to match DataFrame index.\n",
      "  if __name__ == '__main__':\n"
     ]
    },
    {
     "data": {
      "text/plain": [
       "<matplotlib.axes._subplots.AxesSubplot at 0x1375f5390>"
      ]
     },
     "execution_count": 83,
     "metadata": {},
     "output_type": "execute_result"
    },
    {
     "data": {
      "image/png": "[encoded data removed]",
      "text/plain": [
       "<matplotlib.figure.Figure at 0x1371d91d0>"
      ]
     },
     "metadata": {},
     "output_type": "display_data"
    }
   ],
   "source": [
    "new_table[new_table.label==0][new_table.annotation_label=='with annotation'].score_euk_non_euk.plot.hist(bins=50, title='euk/non-euk model, for Non-Virus related contigs')"
   ]
  },
  {
   "cell_type": "code",
   "execution_count": 84,
   "metadata": {},
   "outputs": [
    {
     "data": {
      "text/plain": [
       "34939"
      ]
     },
     "execution_count": 84,
     "metadata": {},
     "output_type": "execute_result"
    }
   ],
   "source": [
    "len(new_table[new_table.probability>=0.9])"
   ]
  },
  {
   "cell_type": "code",
   "execution_count": 85,
   "metadata": {},
   "outputs": [
    {
     "name": "stderr",
     "output_type": "stream",
     "text": [
      "/anaconda/lib/python2.7/site-packages/ipykernel/__main__.py:1: UserWarning: Boolean Series key will be reindexed to match DataFrame index.\n",
      "  if __name__ == '__main__':\n"
     ]
    },
    {
     "data": {
      "text/plain": [
       "3882"
      ]
     },
     "execution_count": 85,
     "metadata": {},
     "output_type": "execute_result"
    }
   ],
   "source": [
    "len(new_table[new_table.probability>=0.9][new_table.label==1.0])"
   ]
  },
  {
   "cell_type": "code",
   "execution_count": 86,
   "metadata": {},
   "outputs": [
    {
     "name": "stderr",
     "output_type": "stream",
     "text": [
      "/anaconda/lib/python2.7/site-packages/ipykernel/__main__.py:1: UserWarning: Boolean Series key will be reindexed to match DataFrame index.\n",
      "  if __name__ == '__main__':\n"
     ]
    },
    {
     "data": {
      "text/plain": [
       "31057"
      ]
     },
     "execution_count": 86,
     "metadata": {},
     "output_type": "execute_result"
    }
   ],
   "source": [
    "len(new_table[new_table.probability>=0.9][new_table.label==0.0])"
   ]
  },
  {
   "cell_type": "code",
   "execution_count": 87,
   "metadata": {},
   "outputs": [
    {
     "data": {
      "text/plain": [
       "111998"
      ]
     },
     "execution_count": 87,
     "metadata": {},
     "output_type": "execute_result"
    }
   ],
   "source": [
    "len(new_table[new_table.probability<=0.1])"
   ]
  },
  {
   "cell_type": "code",
   "execution_count": 88,
   "metadata": {},
   "outputs": [
    {
     "name": "stderr",
     "output_type": "stream",
     "text": [
      "/anaconda/lib/python2.7/site-packages/ipykernel/__main__.py:1: UserWarning: Boolean Series key will be reindexed to match DataFrame index.\n",
      "  if __name__ == '__main__':\n"
     ]
    },
    {
     "data": {
      "text/plain": [
       "558"
      ]
     },
     "execution_count": 88,
     "metadata": {},
     "output_type": "execute_result"
    }
   ],
   "source": [
    "len(new_table[new_table.probability<=0.1][new_table.label==1.0])"
   ]
  },
  {
   "cell_type": "code",
   "execution_count": 89,
   "metadata": {},
   "outputs": [
    {
     "name": "stderr",
     "output_type": "stream",
     "text": [
      "/anaconda/lib/python2.7/site-packages/ipykernel/__main__.py:1: UserWarning: Boolean Series key will be reindexed to match DataFrame index.\n",
      "  if __name__ == '__main__':\n"
     ]
    },
    {
     "data": {
      "text/plain": [
       "111440"
      ]
     },
     "execution_count": 89,
     "metadata": {},
     "output_type": "execute_result"
    }
   ],
   "source": [
    "len(new_table[new_table.probability<=0.1][new_table.label==0.0])"
   ]
  },
  {
   "cell_type": "code",
   "execution_count": 90,
   "metadata": {
    "scrolled": false
   },
   "outputs": [
    {
     "data": {
      "text/plain": [
       "<matplotlib.axes._subplots.AxesSubplot at 0x136feb050>"
      ]
     },
     "execution_count": 90,
     "metadata": {},
     "output_type": "execute_result"
    },
    {
     "data": {
      "image/png": "[encoded data removed]",
      "text/plain": [
       "<matplotlib.figure.Figure at 0x1375f51d0>"
      ]
     },
     "metadata": {},
     "output_type": "display_data"
    }
   ],
   "source": [
    "new_table[new_table.label==1.0].probability.plot.hist(bins=50, title = 'old model, virus-related TARA contigs')"
   ]
  },
  {
   "cell_type": "code",
   "execution_count": 91,
   "metadata": {},
   "outputs": [
    {
     "name": "stderr",
     "output_type": "stream",
     "text": [
      "/anaconda/lib/python2.7/site-packages/ipykernel/__main__.py:1: UserWarning: Boolean Series key will be reindexed to match DataFrame index.\n",
      "  if __name__ == '__main__':\n"
     ]
    },
    {
     "data": {
      "text/plain": [
       "<matplotlib.text.Text at 0x134e90a90>"
      ]
     },
     "execution_count": 91,
     "metadata": {},
     "output_type": "execute_result"
    },
    {
     "data": {
      "image/png": "[encoded data removed]",
      "text/plain": [
       "<matplotlib.figure.Figure at 0x136e8cc90>"
      ]
     },
     "metadata": {},
     "output_type": "display_data"
    }
   ],
   "source": [
    "ax = new_table[new_table.label==0.0][new_table.annotation_label=='with annotation'].probability.plot.hist(bins=50, title = 'old model, non-virus TARA contigs')\n",
    "ax.set_xlabel(\"probability\")"
   ]
  },
  {
   "cell_type": "code",
   "execution_count": 92,
   "metadata": {
    "scrolled": true
   },
   "outputs": [
    {
     "name": "stderr",
     "output_type": "stream",
     "text": [
      "/anaconda/lib/python2.7/site-packages/ipykernel/__main__.py:1: UserWarning: Boolean Series key will be reindexed to match DataFrame index.\n",
      "  if __name__ == '__main__':\n"
     ]
    },
    {
     "data": {
      "text/plain": [
       "<matplotlib.axes._subplots.AxesSubplot at 0x137a8f690>"
      ]
     },
     "execution_count": 92,
     "metadata": {},
     "output_type": "execute_result"
    },
    {
     "data": {
      "image/png": "[encoded data removed]",
      "text/plain": [
       "<matplotlib.figure.Figure at 0x138b23290>"
      ]
     },
     "metadata": {},
     "output_type": "display_data"
    }
   ],
   "source": [
    "new_table[new_table.label==0.0][new_table.annotation_label!='with annotation'].probability.plot.hist(bins=50, title = 'old model, unknown TARA contigs')"
   ]
  },
  {
   "cell_type": "code",
   "execution_count": 93,
   "metadata": {},
   "outputs": [
    {
     "data": {
      "text/plain": [
       "<matplotlib.axes._subplots.AxesSubplot at 0x139635610>"
      ]
     },
     "execution_count": 93,
     "metadata": {},
     "output_type": "execute_result"
    },
    {
     "data": {
      "image/png": "[encoded data removed]",
      "text/plain": [
       "<matplotlib.figure.Figure at 0x139553610>"
      ]
     },
     "metadata": {},
     "output_type": "display_data"
    }
   ],
   "source": [
    "new_table[new_table.label==1.0].hybrid_probability.plot.hist(bins=50, title = 'hybrid model, virus-related TARA contigs')"
   ]
  },
  {
   "cell_type": "code",
   "execution_count": 94,
   "metadata": {},
   "outputs": [
    {
     "name": "stderr",
     "output_type": "stream",
     "text": [
      "/anaconda/lib/python2.7/site-packages/ipykernel/__main__.py:1: UserWarning: Boolean Series key will be reindexed to match DataFrame index.\n",
      "  if __name__ == '__main__':\n"
     ]
    },
    {
     "data": {
      "text/plain": [
       "<matplotlib.axes._subplots.AxesSubplot at 0x136d7d510>"
      ]
     },
     "execution_count": 94,
     "metadata": {},
     "output_type": "execute_result"
    },
    {
     "data": {
      "image/png": "[encoded data removed]",
      "text/plain": [
       "<matplotlib.figure.Figure at 0x135f1f910>"
      ]
     },
     "metadata": {},
     "output_type": "display_data"
    }
   ],
   "source": [
    "new_table[new_table.label==0.0][new_table.annotation_label=='with annotation'].hybrid_probability.plot.hist(bins=50, title = 'hybrid model, non-virus-related TARA contigs')"
   ]
  },
  {
   "cell_type": "code",
   "execution_count": 95,
   "metadata": {},
   "outputs": [
    {
     "name": "stderr",
     "output_type": "stream",
     "text": [
      "/anaconda/lib/python2.7/site-packages/ipykernel/__main__.py:1: UserWarning: Boolean Series key will be reindexed to match DataFrame index.\n",
      "  if __name__ == '__main__':\n"
     ]
    },
    {
     "data": {
      "text/plain": [
       "<matplotlib.axes._subplots.AxesSubplot at 0x135f342d0>"
      ]
     },
     "execution_count": 95,
     "metadata": {},
     "output_type": "execute_result"
    },
    {
     "data": {
      "image/png": "[encoded data removed]",
      "text/plain": [
       "<matplotlib.figure.Figure at 0x138b2e110>"
      ]
     },
     "metadata": {},
     "output_type": "display_data"
    }
   ],
   "source": [
    "new_table[new_table.label==0.0][new_table.annotation_label!='with annotation'].hybrid_probability.plot.hist(bins=50, title = 'hybrid model, unknown TARA contigs')"
   ]
  },
  {
   "cell_type": "markdown",
   "metadata": {},
   "source": [
    "### Check the micromous -related contigs"
   ]
  },
  {
   "cell_type": "markdown",
   "metadata": {},
   "source": [
    "#### most of micromonas contigs has lower euk/non-euk score, prone to be euk...."
   ]
  },
  {
   "cell_type": "code",
   "execution_count": 174,
   "metadata": {},
   "outputs": [
    {
     "data": {
      "text/plain": [
       "<matplotlib.axes._subplots.AxesSubplot at 0x14a7a6310>"
      ]
     },
     "execution_count": 174,
     "metadata": {},
     "output_type": "execute_result"
    },
    {
     "data": {
      "image/png": "[encoded data removed]",
      "text/plain": [
       "<matplotlib.figure.Figure at 0x14a74e750>"
      ]
     },
     "metadata": {},
     "output_type": "display_data"
    }
   ],
   "source": [
    "df_micromonus.score_euk_non_euk.plot.hist(bins=50, title = 'model euk/non-euk, Micromonas-related TARA contigs')"
   ]
  },
  {
   "cell_type": "code",
   "execution_count": 172,
   "metadata": {},
   "outputs": [
    {
     "data": {
      "text/plain": [
       "<matplotlib.axes._subplots.AxesSubplot at 0x142abd3d0>"
      ]
     },
     "execution_count": 172,
     "metadata": {},
     "output_type": "execute_result"
    },
    {
     "data": {
      "image/png": "[encoded data removed]",
      "text/plain": [
       "<matplotlib.figure.Figure at 0x142a6fb10>"
      ]
     },
     "metadata": {},
     "output_type": "display_data"
    }
   ],
   "source": [
    "df_micromonus.hybrid_probability.plot.hist(bins=50, title = 'model v2.0, Micromonas-related TARA contigs')"
   ]
  },
  {
   "cell_type": "code",
   "execution_count": 173,
   "metadata": {},
   "outputs": [
    {
     "data": {
      "text/plain": [
       "<matplotlib.axes._subplots.AxesSubplot at 0x14a6708d0>"
      ]
     },
     "execution_count": 173,
     "metadata": {},
     "output_type": "execute_result"
    },
    {
     "data": {
      "image/png": "[encoded data removed]",
      "text/plain": [
       "<matplotlib.figure.Figure at 0x14a685c10>"
      ]
     },
     "metadata": {},
     "output_type": "display_data"
    }
   ],
   "source": [
    "df_micromonus.probability.plot.hist(bins=50, title = 'model v1.0, Micromonas-related TARA contigs')"
   ]
  },
  {
   "cell_type": "code",
   "execution_count": 99,
   "metadata": {
    "collapsed": true
   },
   "outputs": [],
   "source": [
    "sub_table = new_table.loc[:,['probability','hybrid_probability','label','tax_id','rank','tax_name']]"
   ]
  },
  {
   "cell_type": "code",
   "execution_count": 100,
   "metadata": {},
   "outputs": [
    {
     "data": {
      "text/html": [
       "<div>\n",
       "<style>\n",
       "    .dataframe thead tr:only-child th {\n",
       "        text-align: right;\n",
       "    }\n",
       "\n",
       "    .dataframe thead th {\n",
       "        text-align: left;\n",
       "    }\n",
       "\n",
       "    .dataframe tbody tr th {\n",
       "        vertical-align: top;\n",
       "    }\n",
       "</style>\n",
       "<table border=\"1\" class=\"dataframe\">\n",
       "  <thead>\n",
       "    <tr style=\"text-align: right;\">\n",
       "      <th></th>\n",
       "      <th>probability</th>\n",
       "      <th>hybrid_probability</th>\n",
       "      <th>label</th>\n",
       "      <th>tax_id</th>\n",
       "      <th>rank</th>\n",
       "      <th>tax_name</th>\n",
       "    </tr>\n",
       "  </thead>\n",
       "  <tbody>\n",
       "    <tr>\n",
       "      <th>0</th>\n",
       "      <td>0.000375</td>\n",
       "      <td>0.000097</td>\n",
       "      <td>0.0</td>\n",
       "      <td>1236</td>\n",
       "      <td>class</td>\n",
       "      <td>Gammaproteobacteria</td>\n",
       "    </tr>\n",
       "    <tr>\n",
       "      <th>1</th>\n",
       "      <td>0.000088</td>\n",
       "      <td>0.000032</td>\n",
       "      <td>0.0</td>\n",
       "      <td>254161</td>\n",
       "      <td>species</td>\n",
       "      <td>Pseudomonas pachastrellae</td>\n",
       "    </tr>\n",
       "    <tr>\n",
       "      <th>2</th>\n",
       "      <td>0.000041</td>\n",
       "      <td>0.000019</td>\n",
       "      <td>0.0</td>\n",
       "      <td>254161</td>\n",
       "      <td>species</td>\n",
       "      <td>Pseudomonas pachastrellae</td>\n",
       "    </tr>\n",
       "    <tr>\n",
       "      <th>3</th>\n",
       "      <td>0.000056</td>\n",
       "      <td>0.000021</td>\n",
       "      <td>0.0</td>\n",
       "      <td>286</td>\n",
       "      <td>genus</td>\n",
       "      <td>Pseudomonas</td>\n",
       "    </tr>\n",
       "    <tr>\n",
       "      <th>4</th>\n",
       "      <td>0.000040</td>\n",
       "      <td>0.000018</td>\n",
       "      <td>0.0</td>\n",
       "      <td>286</td>\n",
       "      <td>genus</td>\n",
       "      <td>Pseudomonas</td>\n",
       "    </tr>\n",
       "  </tbody>\n",
       "</table>\n",
       "</div>"
      ],
      "text/plain": [
       "   probability  hybrid_probability  label  tax_id     rank  \\\n",
       "0     0.000375            0.000097    0.0    1236    class   \n",
       "1     0.000088            0.000032    0.0  254161  species   \n",
       "2     0.000041            0.000019    0.0  254161  species   \n",
       "3     0.000056            0.000021    0.0     286    genus   \n",
       "4     0.000040            0.000018    0.0     286    genus   \n",
       "\n",
       "                    tax_name  \n",
       "0        Gammaproteobacteria  \n",
       "1  Pseudomonas pachastrellae  \n",
       "2  Pseudomonas pachastrellae  \n",
       "3                Pseudomonas  \n",
       "4                Pseudomonas  "
      ]
     },
     "execution_count": 100,
     "metadata": {},
     "output_type": "execute_result"
    }
   ],
   "source": [
    "sub_table.head()"
   ]
  },
  {
   "cell_type": "code",
   "execution_count": 101,
   "metadata": {},
   "outputs": [],
   "source": [
    "grouped = sub_table.groupby(['label'])"
   ]
  },
  {
   "cell_type": "code",
   "execution_count": 102,
   "metadata": {
    "collapsed": true
   },
   "outputs": [],
   "source": [
    "import pandas"
   ]
  },
  {
   "cell_type": "code",
   "execution_count": 103,
   "metadata": {
    "collapsed": true
   },
   "outputs": [],
   "source": [
    "grouped_category = new_table.groupby('category')"
   ]
  },
  {
   "cell_type": "code",
   "execution_count": 104,
   "metadata": {
    "collapsed": true
   },
   "outputs": [],
   "source": [
    "boxplot_data_old = [new_table[new_table.category=='virus'].probability,new_table[new_table.category=='nonvirus'].probability,\n",
    "               new_table[new_table.category=='unknown'].probability]"
   ]
  },
  {
   "cell_type": "code",
   "execution_count": 105,
   "metadata": {},
   "outputs": [
    {
     "data": {
      "image/png": "[encoded data removed]",
      "text/plain": [
       "<matplotlib.figure.Figure at 0x138d362d0>"
      ]
     },
     "metadata": {},
     "output_type": "display_data"
    }
   ],
   "source": [
    "plt.figure()\n",
    "label_list = ['virus','non-virus','unknown']\n",
    "plt.boxplot(boxplot_data_old,labels = label_list)\n",
    "plt.title('old model')\n",
    "plt.ylabel('probability')\n",
    "plt.show()"
   ]
  },
  {
   "cell_type": "code",
   "execution_count": 106,
   "metadata": {
    "collapsed": true
   },
   "outputs": [],
   "source": [
    "boxplot_data_hybrid = [new_table[new_table.category=='virus'].hybrid_probability,new_table[new_table.category=='nonvirus'].hybrid_probability,\n",
    "               new_table[new_table.category=='unknown'].hybrid_probability]"
   ]
  },
  {
   "cell_type": "code",
   "execution_count": 139,
   "metadata": {},
   "outputs": [
    {
     "data": {
      "image/png": "[encoded data removed]",
      "text/plain": [
       "<matplotlib.figure.Figure at 0x13903e190>"
      ]
     },
     "metadata": {},
     "output_type": "display_data"
    }
   ],
   "source": [
    "colors = ['goldenrod', 'grey', 'green']\n",
    "\n",
    "\n",
    "\n",
    "fig = plt.figure(figsize=(12,12))\n",
    "ax0 = fig.add_subplot(111)\n",
    "\n",
    "label_list = ['virus','non-virus','unknown']\n",
    "bplot1 = ax0.boxplot(boxplot_data_hybrid,labels = label_list,patch_artist=True)\n",
    "ax0.set_title('On balanced subsets of TARA transcriptome',fontsize=24)\n",
    "ax0.set_ylabel('Score',fontsize=24)\n",
    "\n",
    "\n",
    "\n",
    "for patch, color in zip(bplot1['boxes'], colors):\n",
    "    patch.set_facecolor(color)\n",
    "plt.show()"
   ]
  },
  {
   "cell_type": "code",
   "execution_count": 108,
   "metadata": {},
   "outputs": [],
   "source": [
    "predict_nonvirus = sub_table.groupby(['label']).get_group(0.0)"
   ]
  },
  {
   "cell_type": "code",
   "execution_count": 109,
   "metadata": {},
   "outputs": [
    {
     "data": {
      "text/html": [
       "<div>\n",
       "<style>\n",
       "    .dataframe thead tr:only-child th {\n",
       "        text-align: right;\n",
       "    }\n",
       "\n",
       "    .dataframe thead th {\n",
       "        text-align: left;\n",
       "    }\n",
       "\n",
       "    .dataframe tbody tr th {\n",
       "        vertical-align: top;\n",
       "    }\n",
       "</style>\n",
       "<table border=\"1\" class=\"dataframe\">\n",
       "  <thead>\n",
       "    <tr style=\"text-align: right;\">\n",
       "      <th></th>\n",
       "      <th>probability</th>\n",
       "      <th>hybrid_probability</th>\n",
       "      <th>label</th>\n",
       "      <th>tax_id</th>\n",
       "      <th>rank</th>\n",
       "      <th>tax_name</th>\n",
       "    </tr>\n",
       "  </thead>\n",
       "  <tbody>\n",
       "    <tr>\n",
       "      <th>0</th>\n",
       "      <td>0.000375</td>\n",
       "      <td>0.000097</td>\n",
       "      <td>0.0</td>\n",
       "      <td>1236</td>\n",
       "      <td>class</td>\n",
       "      <td>Gammaproteobacteria</td>\n",
       "    </tr>\n",
       "    <tr>\n",
       "      <th>1</th>\n",
       "      <td>0.000088</td>\n",
       "      <td>0.000032</td>\n",
       "      <td>0.0</td>\n",
       "      <td>254161</td>\n",
       "      <td>species</td>\n",
       "      <td>Pseudomonas pachastrellae</td>\n",
       "    </tr>\n",
       "    <tr>\n",
       "      <th>2</th>\n",
       "      <td>0.000041</td>\n",
       "      <td>0.000019</td>\n",
       "      <td>0.0</td>\n",
       "      <td>254161</td>\n",
       "      <td>species</td>\n",
       "      <td>Pseudomonas pachastrellae</td>\n",
       "    </tr>\n",
       "    <tr>\n",
       "      <th>3</th>\n",
       "      <td>0.000056</td>\n",
       "      <td>0.000021</td>\n",
       "      <td>0.0</td>\n",
       "      <td>286</td>\n",
       "      <td>genus</td>\n",
       "      <td>Pseudomonas</td>\n",
       "    </tr>\n",
       "    <tr>\n",
       "      <th>4</th>\n",
       "      <td>0.000040</td>\n",
       "      <td>0.000018</td>\n",
       "      <td>0.0</td>\n",
       "      <td>286</td>\n",
       "      <td>genus</td>\n",
       "      <td>Pseudomonas</td>\n",
       "    </tr>\n",
       "  </tbody>\n",
       "</table>\n",
       "</div>"
      ],
      "text/plain": [
       "   probability  hybrid_probability  label  tax_id     rank  \\\n",
       "0     0.000375            0.000097    0.0    1236    class   \n",
       "1     0.000088            0.000032    0.0  254161  species   \n",
       "2     0.000041            0.000019    0.0  254161  species   \n",
       "3     0.000056            0.000021    0.0     286    genus   \n",
       "4     0.000040            0.000018    0.0     286    genus   \n",
       "\n",
       "                    tax_name  \n",
       "0        Gammaproteobacteria  \n",
       "1  Pseudomonas pachastrellae  \n",
       "2  Pseudomonas pachastrellae  \n",
       "3                Pseudomonas  \n",
       "4                Pseudomonas  "
      ]
     },
     "execution_count": 109,
     "metadata": {},
     "output_type": "execute_result"
    }
   ],
   "source": [
    "predict_nonvirus.head()"
   ]
  },
  {
   "cell_type": "code",
   "execution_count": 110,
   "metadata": {},
   "outputs": [
    {
     "data": {
      "text/html": [
       "<div>\n",
       "<style>\n",
       "    .dataframe thead tr:only-child th {\n",
       "        text-align: right;\n",
       "    }\n",
       "\n",
       "    .dataframe thead th {\n",
       "        text-align: left;\n",
       "    }\n",
       "\n",
       "    .dataframe tbody tr th {\n",
       "        vertical-align: top;\n",
       "    }\n",
       "</style>\n",
       "<table border=\"1\" class=\"dataframe\">\n",
       "  <thead>\n",
       "    <tr style=\"text-align: right;\">\n",
       "      <th></th>\n",
       "      <th>probability</th>\n",
       "      <th>hybrid_probability</th>\n",
       "      <th>label</th>\n",
       "      <th>tax_id</th>\n",
       "    </tr>\n",
       "  </thead>\n",
       "  <tbody>\n",
       "    <tr>\n",
       "      <th>count</th>\n",
       "      <td>19360.000000</td>\n",
       "      <td>19360.000000</td>\n",
       "      <td>19360.0</td>\n",
       "      <td>1.936000e+04</td>\n",
       "    </tr>\n",
       "    <tr>\n",
       "      <th>mean</th>\n",
       "      <td>0.998376</td>\n",
       "      <td>0.379285</td>\n",
       "      <td>0.0</td>\n",
       "      <td>3.044789e+05</td>\n",
       "    </tr>\n",
       "    <tr>\n",
       "      <th>std</th>\n",
       "      <td>0.002465</td>\n",
       "      <td>0.379769</td>\n",
       "      <td>0.0</td>\n",
       "      <td>4.887216e+05</td>\n",
       "    </tr>\n",
       "    <tr>\n",
       "      <th>min</th>\n",
       "      <td>0.990001</td>\n",
       "      <td>0.000009</td>\n",
       "      <td>0.0</td>\n",
       "      <td>-2.000000e+00</td>\n",
       "    </tr>\n",
       "    <tr>\n",
       "      <th>25%</th>\n",
       "      <td>0.997727</td>\n",
       "      <td>0.037893</td>\n",
       "      <td>0.0</td>\n",
       "      <td>5.653000e+03</td>\n",
       "    </tr>\n",
       "    <tr>\n",
       "      <th>50%</th>\n",
       "      <td>0.999668</td>\n",
       "      <td>0.205307</td>\n",
       "      <td>0.0</td>\n",
       "      <td>5.750600e+04</td>\n",
       "    </tr>\n",
       "    <tr>\n",
       "      <th>75%</th>\n",
       "      <td>0.999984</td>\n",
       "      <td>0.778857</td>\n",
       "      <td>0.0</td>\n",
       "      <td>2.965870e+05</td>\n",
       "    </tr>\n",
       "    <tr>\n",
       "      <th>max</th>\n",
       "      <td>1.000000</td>\n",
       "      <td>1.000000</td>\n",
       "      <td>0.0</td>\n",
       "      <td>1.904754e+06</td>\n",
       "    </tr>\n",
       "  </tbody>\n",
       "</table>\n",
       "</div>"
      ],
      "text/plain": [
       "        probability  hybrid_probability    label        tax_id\n",
       "count  19360.000000        19360.000000  19360.0  1.936000e+04\n",
       "mean       0.998376            0.379285      0.0  3.044789e+05\n",
       "std        0.002465            0.379769      0.0  4.887216e+05\n",
       "min        0.990001            0.000009      0.0 -2.000000e+00\n",
       "25%        0.997727            0.037893      0.0  5.653000e+03\n",
       "50%        0.999668            0.205307      0.0  5.750600e+04\n",
       "75%        0.999984            0.778857      0.0  2.965870e+05\n",
       "max        1.000000            1.000000      0.0  1.904754e+06"
      ]
     },
     "execution_count": 110,
     "metadata": {},
     "output_type": "execute_result"
    }
   ],
   "source": [
    "predict_nonvirus[predict_nonvirus.probability>0.99].describe()"
   ]
  },
  {
   "cell_type": "code",
   "execution_count": 111,
   "metadata": {
    "collapsed": true
   },
   "outputs": [],
   "source": [
    "grouped = predict_nonvirus.loc[:,['probability','hybrid_probability','rank']].groupby(['rank'])"
   ]
  },
  {
   "cell_type": "code",
   "execution_count": 112,
   "metadata": {
    "collapsed": true
   },
   "outputs": [],
   "source": [
    "predict_nonvirus_rank = predict_nonvirus.loc[:,['probability','hybrid_probability','rank']]"
   ]
  },
  {
   "cell_type": "code",
   "execution_count": 113,
   "metadata": {
    "collapsed": true
   },
   "outputs": [],
   "source": [
    "def convert_rank(rank):\n",
    "    if rank == 'no rank':\n",
    "        return 'no rank'\n",
    "    else:\n",
    "        return 'rank'\n",
    "    "
   ]
  },
  {
   "cell_type": "code",
   "execution_count": null,
   "metadata": {
    "collapsed": true
   },
   "outputs": [],
   "source": []
  },
  {
   "cell_type": "code",
   "execution_count": 114,
   "metadata": {
    "collapsed": true
   },
   "outputs": [],
   "source": [
    "predict_nonvirus_rank['no_rank'] = predict_nonvirus_rank['rank'].map(convert_rank)"
   ]
  },
  {
   "cell_type": "code",
   "execution_count": 115,
   "metadata": {},
   "outputs": [
    {
     "data": {
      "text/html": [
       "<div>\n",
       "<style>\n",
       "    .dataframe thead tr:only-child th {\n",
       "        text-align: right;\n",
       "    }\n",
       "\n",
       "    .dataframe thead th {\n",
       "        text-align: left;\n",
       "    }\n",
       "\n",
       "    .dataframe tbody tr th {\n",
       "        vertical-align: top;\n",
       "    }\n",
       "</style>\n",
       "<table border=\"1\" class=\"dataframe\">\n",
       "  <thead>\n",
       "    <tr style=\"text-align: right;\">\n",
       "      <th></th>\n",
       "      <th>probability</th>\n",
       "      <th>hybrid_probability</th>\n",
       "      <th>rank</th>\n",
       "      <th>no_rank</th>\n",
       "    </tr>\n",
       "  </thead>\n",
       "  <tbody>\n",
       "    <tr>\n",
       "      <th>0</th>\n",
       "      <td>0.000375</td>\n",
       "      <td>0.000097</td>\n",
       "      <td>class</td>\n",
       "      <td>rank</td>\n",
       "    </tr>\n",
       "    <tr>\n",
       "      <th>1</th>\n",
       "      <td>0.000088</td>\n",
       "      <td>0.000032</td>\n",
       "      <td>species</td>\n",
       "      <td>rank</td>\n",
       "    </tr>\n",
       "    <tr>\n",
       "      <th>2</th>\n",
       "      <td>0.000041</td>\n",
       "      <td>0.000019</td>\n",
       "      <td>species</td>\n",
       "      <td>rank</td>\n",
       "    </tr>\n",
       "    <tr>\n",
       "      <th>3</th>\n",
       "      <td>0.000056</td>\n",
       "      <td>0.000021</td>\n",
       "      <td>genus</td>\n",
       "      <td>rank</td>\n",
       "    </tr>\n",
       "    <tr>\n",
       "      <th>4</th>\n",
       "      <td>0.000040</td>\n",
       "      <td>0.000018</td>\n",
       "      <td>genus</td>\n",
       "      <td>rank</td>\n",
       "    </tr>\n",
       "  </tbody>\n",
       "</table>\n",
       "</div>"
      ],
      "text/plain": [
       "   probability  hybrid_probability     rank no_rank\n",
       "0     0.000375            0.000097    class    rank\n",
       "1     0.000088            0.000032  species    rank\n",
       "2     0.000041            0.000019  species    rank\n",
       "3     0.000056            0.000021    genus    rank\n",
       "4     0.000040            0.000018    genus    rank"
      ]
     },
     "execution_count": 115,
     "metadata": {},
     "output_type": "execute_result"
    }
   ],
   "source": [
    "predict_nonvirus_rank.head()"
   ]
  },
  {
   "cell_type": "code",
   "execution_count": 116,
   "metadata": {},
   "outputs": [],
   "source": [
    "predict_nonvirus_rank_subset = predict_nonvirus_rank[(predict_nonvirus_rank['rank'] =='class') | (predict_nonvirus_rank['rank'] =='family') | (predict_nonvirus_rank['rank'] =='genus')\\\n",
    "                      | (predict_nonvirus_rank['rank'] =='kingdom')| (predict_nonvirus_rank['rank'] =='no rank')| (predict_nonvirus_rank['rank'] =='order')\\\n",
    "                      | (predict_nonvirus_rank['rank'] =='phylum')| (predict_nonvirus_rank['rank'] =='species')| (predict_nonvirus_rank['rank'] =='superkingdom')]\n"
   ]
  },
  {
   "cell_type": "code",
   "execution_count": 117,
   "metadata": {
    "collapsed": true
   },
   "outputs": [],
   "source": [
    "predict_nonvirus_rank_grouped = predict_nonvirus_rank.groupby(['no_rank'])"
   ]
  },
  {
   "cell_type": "code",
   "execution_count": 118,
   "metadata": {},
   "outputs": [
    {
     "data": {
      "text/html": [
       "<div>\n",
       "<style>\n",
       "    .dataframe thead tr:only-child th {\n",
       "        text-align: right;\n",
       "    }\n",
       "\n",
       "    .dataframe thead th {\n",
       "        text-align: left;\n",
       "    }\n",
       "\n",
       "    .dataframe tbody tr th {\n",
       "        vertical-align: top;\n",
       "    }\n",
       "</style>\n",
       "<table border=\"1\" class=\"dataframe\">\n",
       "  <thead>\n",
       "    <tr>\n",
       "      <th></th>\n",
       "      <th colspan=\"8\" halign=\"left\">hybrid_probability</th>\n",
       "      <th colspan=\"8\" halign=\"left\">probability</th>\n",
       "    </tr>\n",
       "    <tr>\n",
       "      <th></th>\n",
       "      <th>count</th>\n",
       "      <th>mean</th>\n",
       "      <th>std</th>\n",
       "      <th>min</th>\n",
       "      <th>25%</th>\n",
       "      <th>50%</th>\n",
       "      <th>75%</th>\n",
       "      <th>max</th>\n",
       "      <th>count</th>\n",
       "      <th>mean</th>\n",
       "      <th>std</th>\n",
       "      <th>min</th>\n",
       "      <th>25%</th>\n",
       "      <th>50%</th>\n",
       "      <th>75%</th>\n",
       "      <th>max</th>\n",
       "    </tr>\n",
       "    <tr>\n",
       "      <th>no_rank</th>\n",
       "      <th></th>\n",
       "      <th></th>\n",
       "      <th></th>\n",
       "      <th></th>\n",
       "      <th></th>\n",
       "      <th></th>\n",
       "      <th></th>\n",
       "      <th></th>\n",
       "      <th></th>\n",
       "      <th></th>\n",
       "      <th></th>\n",
       "      <th></th>\n",
       "      <th></th>\n",
       "      <th></th>\n",
       "      <th></th>\n",
       "      <th></th>\n",
       "    </tr>\n",
       "  </thead>\n",
       "  <tbody>\n",
       "    <tr>\n",
       "      <th>no rank</th>\n",
       "      <td>35717.0</td>\n",
       "      <td>0.291535</td>\n",
       "      <td>0.360786</td>\n",
       "      <td>5.826176e-16</td>\n",
       "      <td>0.004860</td>\n",
       "      <td>0.059424</td>\n",
       "      <td>0.653988</td>\n",
       "      <td>1.0</td>\n",
       "      <td>35717.0</td>\n",
       "      <td>0.401543</td>\n",
       "      <td>0.414239</td>\n",
       "      <td>6.163252e-27</td>\n",
       "      <td>0.000631</td>\n",
       "      <td>0.232523</td>\n",
       "      <td>0.851715</td>\n",
       "      <td>1.0</td>\n",
       "    </tr>\n",
       "    <tr>\n",
       "      <th>rank</th>\n",
       "      <td>165544.0</td>\n",
       "      <td>0.227086</td>\n",
       "      <td>0.320774</td>\n",
       "      <td>1.114855e-20</td>\n",
       "      <td>0.002081</td>\n",
       "      <td>0.031430</td>\n",
       "      <td>0.420127</td>\n",
       "      <td>1.0</td>\n",
       "      <td>165544.0</td>\n",
       "      <td>0.287961</td>\n",
       "      <td>0.377806</td>\n",
       "      <td>1.608784e-40</td>\n",
       "      <td>0.000074</td>\n",
       "      <td>0.016476</td>\n",
       "      <td>0.611738</td>\n",
       "      <td>1.0</td>\n",
       "    </tr>\n",
       "  </tbody>\n",
       "</table>\n",
       "</div>"
      ],
      "text/plain": [
       "        hybrid_probability                                              \\\n",
       "                     count      mean       std           min       25%   \n",
       "no_rank                                                                  \n",
       "no rank            35717.0  0.291535  0.360786  5.826176e-16  0.004860   \n",
       "rank              165544.0  0.227086  0.320774  1.114855e-20  0.002081   \n",
       "\n",
       "                                 probability                      \\\n",
       "              50%       75%  max       count      mean       std   \n",
       "no_rank                                                            \n",
       "no rank  0.059424  0.653988  1.0     35717.0  0.401543  0.414239   \n",
       "rank     0.031430  0.420127  1.0    165544.0  0.287961  0.377806   \n",
       "\n",
       "                                                          \n",
       "                  min       25%       50%       75%  max  \n",
       "no_rank                                                   \n",
       "no rank  6.163252e-27  0.000631  0.232523  0.851715  1.0  \n",
       "rank     1.608784e-40  0.000074  0.016476  0.611738  1.0  "
      ]
     },
     "execution_count": 118,
     "metadata": {},
     "output_type": "execute_result"
    }
   ],
   "source": [
    "predict_nonvirus_rank_grouped.describe()"
   ]
  },
  {
   "cell_type": "code",
   "execution_count": 119,
   "metadata": {},
   "outputs": [
    {
     "data": {
      "text/plain": [
       "no rank         Axes(0.1,0.15;0.363636x0.75)\n",
       "rank       Axes(0.536364,0.15;0.363636x0.75)\n",
       "dtype: object"
      ]
     },
     "execution_count": 119,
     "metadata": {},
     "output_type": "execute_result"
    },
    {
     "data": {
      "image/png": "[encoded data removed]",
      "text/plain": [
       "<matplotlib.figure.Figure at 0x138c1c690>"
      ]
     },
     "metadata": {},
     "output_type": "display_data"
    }
   ],
   "source": [
    "predict_nonvirus_rank_grouped.boxplot(column=['hybrid_probability'])"
   ]
  },
  {
   "cell_type": "code",
   "execution_count": 120,
   "metadata": {},
   "outputs": [
    {
     "data": {
      "text/plain": [
       "no rank         Axes(0.1,0.15;0.363636x0.75)\n",
       "rank       Axes(0.536364,0.15;0.363636x0.75)\n",
       "dtype: object"
      ]
     },
     "execution_count": 120,
     "metadata": {},
     "output_type": "execute_result"
    },
    {
     "data": {
      "image/png": "[encoded data removed]",
      "text/plain": [
       "<matplotlib.figure.Figure at 0x138cfe2d0>"
      ]
     },
     "metadata": {},
     "output_type": "display_data"
    }
   ],
   "source": [
    "predict_nonvirus_rank_grouped.boxplot(column=['probability'])"
   ]
  },
  {
   "cell_type": "code",
   "execution_count": 121,
   "metadata": {},
   "outputs": [
    {
     "data": {
      "text/plain": [
       "0.08227745872218234"
      ]
     },
     "execution_count": 121,
     "metadata": {},
     "output_type": "execute_result"
    }
   ],
   "source": [
    "9169.0/111440"
   ]
  },
  {
   "cell_type": "code",
   "execution_count": 122,
   "metadata": {},
   "outputs": [],
   "source": [
    "tax_name_count_99 = predict_nonvirus[predict_nonvirus.probability>0.99].groupby('tax_name').size().reset_index()"
   ]
  },
  {
   "cell_type": "code",
   "execution_count": 123,
   "metadata": {},
   "outputs": [],
   "source": [
    "tax_name_count_99['percent_99'] = tax_name_count_99[0].apply(lambda x: 100*x/float(tax_name_count_99.sum()))"
   ]
  },
  {
   "cell_type": "code",
   "execution_count": 124,
   "metadata": {},
   "outputs": [
    {
     "data": {
      "text/html": [
       "<div>\n",
       "<style>\n",
       "    .dataframe thead tr:only-child th {\n",
       "        text-align: right;\n",
       "    }\n",
       "\n",
       "    .dataframe thead th {\n",
       "        text-align: left;\n",
       "    }\n",
       "\n",
       "    .dataframe tbody tr th {\n",
       "        vertical-align: top;\n",
       "    }\n",
       "</style>\n",
       "<table border=\"1\" class=\"dataframe\">\n",
       "  <thead>\n",
       "    <tr style=\"text-align: right;\">\n",
       "      <th></th>\n",
       "      <th>tax_name</th>\n",
       "      <th>0</th>\n",
       "      <th>percent_99</th>\n",
       "    </tr>\n",
       "  </thead>\n",
       "  <tbody>\n",
       "    <tr>\n",
       "      <th>0</th>\n",
       "      <td>-2</td>\n",
       "      <td>59</td>\n",
       "      <td>0.304752</td>\n",
       "    </tr>\n",
       "    <tr>\n",
       "      <th>1</th>\n",
       "      <td>Acanthamoeba castellanii str. Neff</td>\n",
       "      <td>4</td>\n",
       "      <td>0.020661</td>\n",
       "    </tr>\n",
       "    <tr>\n",
       "      <th>2</th>\n",
       "      <td>Acidimicrobiia</td>\n",
       "      <td>1</td>\n",
       "      <td>0.005165</td>\n",
       "    </tr>\n",
       "    <tr>\n",
       "      <th>3</th>\n",
       "      <td>Acidithiobacillales bacterium SG8_45</td>\n",
       "      <td>4</td>\n",
       "      <td>0.020661</td>\n",
       "    </tr>\n",
       "    <tr>\n",
       "      <th>4</th>\n",
       "      <td>Acinetobacter</td>\n",
       "      <td>8</td>\n",
       "      <td>0.041322</td>\n",
       "    </tr>\n",
       "  </tbody>\n",
       "</table>\n",
       "</div>"
      ],
      "text/plain": [
       "                               tax_name   0  percent_99\n",
       "0                                    -2  59    0.304752\n",
       "1    Acanthamoeba castellanii str. Neff   4    0.020661\n",
       "2                        Acidimicrobiia   1    0.005165\n",
       "3  Acidithiobacillales bacterium SG8_45   4    0.020661\n",
       "4                         Acinetobacter   8    0.041322"
      ]
     },
     "execution_count": 124,
     "metadata": {},
     "output_type": "execute_result"
    }
   ],
   "source": [
    "tax_name_count_99.head()"
   ]
  },
  {
   "cell_type": "code",
   "execution_count": 125,
   "metadata": {
    "collapsed": true
   },
   "outputs": [],
   "source": [
    "tax_name_count_01 = predict_nonvirus[predict_nonvirus.probability<0.01].groupby('tax_name').size().reset_index()"
   ]
  },
  {
   "cell_type": "code",
   "execution_count": 126,
   "metadata": {
    "collapsed": true
   },
   "outputs": [],
   "source": [
    "tax_name_count_01['percent_01'] = tax_name_count_01[0].apply(lambda x: 100*x/float(tax_name_count_01.sum()))"
   ]
  },
  {
   "cell_type": "code",
   "execution_count": 127,
   "metadata": {},
   "outputs": [
    {
     "data": {
      "text/html": [
       "<div>\n",
       "<style>\n",
       "    .dataframe thead tr:only-child th {\n",
       "        text-align: right;\n",
       "    }\n",
       "\n",
       "    .dataframe thead th {\n",
       "        text-align: left;\n",
       "    }\n",
       "\n",
       "    .dataframe tbody tr th {\n",
       "        vertical-align: top;\n",
       "    }\n",
       "</style>\n",
       "<table border=\"1\" class=\"dataframe\">\n",
       "  <thead>\n",
       "    <tr style=\"text-align: right;\">\n",
       "      <th></th>\n",
       "      <th>tax_name</th>\n",
       "      <th>0</th>\n",
       "      <th>percent_01</th>\n",
       "    </tr>\n",
       "  </thead>\n",
       "  <tbody>\n",
       "    <tr>\n",
       "      <th>0</th>\n",
       "      <td>-2</td>\n",
       "      <td>30</td>\n",
       "      <td>0.032458</td>\n",
       "    </tr>\n",
       "    <tr>\n",
       "      <th>1</th>\n",
       "      <td>Acanthamoeba castellanii</td>\n",
       "      <td>1</td>\n",
       "      <td>0.001082</td>\n",
       "    </tr>\n",
       "    <tr>\n",
       "      <th>2</th>\n",
       "      <td>Acidimicrobiia</td>\n",
       "      <td>1</td>\n",
       "      <td>0.001082</td>\n",
       "    </tr>\n",
       "    <tr>\n",
       "      <th>3</th>\n",
       "      <td>Acidobacteria</td>\n",
       "      <td>7</td>\n",
       "      <td>0.007574</td>\n",
       "    </tr>\n",
       "    <tr>\n",
       "      <th>4</th>\n",
       "      <td>Acinetobacter</td>\n",
       "      <td>920</td>\n",
       "      <td>0.995380</td>\n",
       "    </tr>\n",
       "  </tbody>\n",
       "</table>\n",
       "</div>"
      ],
      "text/plain": [
       "                   tax_name    0  percent_01\n",
       "0                        -2   30    0.032458\n",
       "1  Acanthamoeba castellanii    1    0.001082\n",
       "2            Acidimicrobiia    1    0.001082\n",
       "3             Acidobacteria    7    0.007574\n",
       "4             Acinetobacter  920    0.995380"
      ]
     },
     "execution_count": 127,
     "metadata": {},
     "output_type": "execute_result"
    }
   ],
   "source": [
    "tax_name_count_01.head()\n"
   ]
  },
  {
   "cell_type": "code",
   "execution_count": 128,
   "metadata": {
    "collapsed": true
   },
   "outputs": [],
   "source": [
    "tax_name = pd.merge(tax_name_count_99,tax_name_count_01,how='inner',on=['tax_name'])"
   ]
  },
  {
   "cell_type": "code",
   "execution_count": 129,
   "metadata": {},
   "outputs": [
    {
     "data": {
      "text/html": [
       "<div>\n",
       "<style>\n",
       "    .dataframe thead tr:only-child th {\n",
       "        text-align: right;\n",
       "    }\n",
       "\n",
       "    .dataframe thead th {\n",
       "        text-align: left;\n",
       "    }\n",
       "\n",
       "    .dataframe tbody tr th {\n",
       "        vertical-align: top;\n",
       "    }\n",
       "</style>\n",
       "<table border=\"1\" class=\"dataframe\">\n",
       "  <thead>\n",
       "    <tr style=\"text-align: right;\">\n",
       "      <th></th>\n",
       "      <th>tax_name</th>\n",
       "      <th>0_x</th>\n",
       "      <th>percent_99</th>\n",
       "      <th>0_y</th>\n",
       "      <th>percent_01</th>\n",
       "    </tr>\n",
       "  </thead>\n",
       "  <tbody>\n",
       "    <tr>\n",
       "      <th>0</th>\n",
       "      <td>-2</td>\n",
       "      <td>59</td>\n",
       "      <td>0.304752</td>\n",
       "      <td>30</td>\n",
       "      <td>0.032458</td>\n",
       "    </tr>\n",
       "    <tr>\n",
       "      <th>1</th>\n",
       "      <td>Acidimicrobiia</td>\n",
       "      <td>1</td>\n",
       "      <td>0.005165</td>\n",
       "      <td>1</td>\n",
       "      <td>0.001082</td>\n",
       "    </tr>\n",
       "    <tr>\n",
       "      <th>2</th>\n",
       "      <td>Acinetobacter</td>\n",
       "      <td>8</td>\n",
       "      <td>0.041322</td>\n",
       "      <td>920</td>\n",
       "      <td>0.995380</td>\n",
       "    </tr>\n",
       "    <tr>\n",
       "      <th>3</th>\n",
       "      <td>Actiniaria</td>\n",
       "      <td>6</td>\n",
       "      <td>0.030992</td>\n",
       "      <td>1</td>\n",
       "      <td>0.001082</td>\n",
       "    </tr>\n",
       "    <tr>\n",
       "      <th>4</th>\n",
       "      <td>Actinobacteria</td>\n",
       "      <td>42</td>\n",
       "      <td>0.216942</td>\n",
       "      <td>178</td>\n",
       "      <td>0.192584</td>\n",
       "    </tr>\n",
       "  </tbody>\n",
       "</table>\n",
       "</div>"
      ],
      "text/plain": [
       "         tax_name  0_x  percent_99  0_y  percent_01\n",
       "0              -2   59    0.304752   30    0.032458\n",
       "1  Acidimicrobiia    1    0.005165    1    0.001082\n",
       "2   Acinetobacter    8    0.041322  920    0.995380\n",
       "3      Actiniaria    6    0.030992    1    0.001082\n",
       "4  Actinobacteria   42    0.216942  178    0.192584"
      ]
     },
     "execution_count": 129,
     "metadata": {},
     "output_type": "execute_result"
    }
   ],
   "source": [
    "tax_name.head()"
   ]
  },
  {
   "cell_type": "code",
   "execution_count": 130,
   "metadata": {},
   "outputs": [],
   "source": [
    "tax_name['increase'] = tax_name.apply(lambda x:x['percent_99']/x['percent_01'], axis=1)"
   ]
  },
  {
   "cell_type": "code",
   "execution_count": 131,
   "metadata": {},
   "outputs": [
    {
     "data": {
      "text/html": [
       "<div>\n",
       "<style>\n",
       "    .dataframe thead tr:only-child th {\n",
       "        text-align: right;\n",
       "    }\n",
       "\n",
       "    .dataframe thead th {\n",
       "        text-align: left;\n",
       "    }\n",
       "\n",
       "    .dataframe tbody tr th {\n",
       "        vertical-align: top;\n",
       "    }\n",
       "</style>\n",
       "<table border=\"1\" class=\"dataframe\">\n",
       "  <thead>\n",
       "    <tr style=\"text-align: right;\">\n",
       "      <th></th>\n",
       "      <th>tax_name</th>\n",
       "      <th>0_x</th>\n",
       "      <th>percent_99</th>\n",
       "      <th>0_y</th>\n",
       "      <th>percent_01</th>\n",
       "      <th>increase</th>\n",
       "    </tr>\n",
       "  </thead>\n",
       "  <tbody>\n",
       "    <tr>\n",
       "      <th>324</th>\n",
       "      <td>Rhodobacterales bacterium HTCC2255</td>\n",
       "      <td>2</td>\n",
       "      <td>0.010331</td>\n",
       "      <td>1225</td>\n",
       "      <td>1.325370</td>\n",
       "      <td>0.007794</td>\n",
       "    </tr>\n",
       "    <tr>\n",
       "      <th>322</th>\n",
       "      <td>Rhodobacteraceae bacterium SB2</td>\n",
       "      <td>1</td>\n",
       "      <td>0.005165</td>\n",
       "      <td>310</td>\n",
       "      <td>0.335400</td>\n",
       "      <td>0.015400</td>\n",
       "    </tr>\n",
       "    <tr>\n",
       "      <th>444</th>\n",
       "      <td>unclassified Methylophilales</td>\n",
       "      <td>1</td>\n",
       "      <td>0.005165</td>\n",
       "      <td>249</td>\n",
       "      <td>0.269402</td>\n",
       "      <td>0.019173</td>\n",
       "    </tr>\n",
       "    <tr>\n",
       "      <th>251</th>\n",
       "      <td>Oceanospirillales</td>\n",
       "      <td>2</td>\n",
       "      <td>0.010331</td>\n",
       "      <td>366</td>\n",
       "      <td>0.395988</td>\n",
       "      <td>0.026088</td>\n",
       "    </tr>\n",
       "    <tr>\n",
       "      <th>292</th>\n",
       "      <td>Porticoccaceae</td>\n",
       "      <td>1</td>\n",
       "      <td>0.005165</td>\n",
       "      <td>181</td>\n",
       "      <td>0.195830</td>\n",
       "      <td>0.026376</td>\n",
       "    </tr>\n",
       "    <tr>\n",
       "      <th>370</th>\n",
       "      <td>Synechococcales</td>\n",
       "      <td>2</td>\n",
       "      <td>0.010331</td>\n",
       "      <td>362</td>\n",
       "      <td>0.391660</td>\n",
       "      <td>0.026376</td>\n",
       "    </tr>\n",
       "    <tr>\n",
       "      <th>388</th>\n",
       "      <td>Verrucomicrobia</td>\n",
       "      <td>2</td>\n",
       "      <td>0.010331</td>\n",
       "      <td>345</td>\n",
       "      <td>0.373268</td>\n",
       "      <td>0.027676</td>\n",
       "    </tr>\n",
       "    <tr>\n",
       "      <th>323</th>\n",
       "      <td>Rhodobacterales</td>\n",
       "      <td>4</td>\n",
       "      <td>0.020661</td>\n",
       "      <td>659</td>\n",
       "      <td>0.712995</td>\n",
       "      <td>0.028978</td>\n",
       "    </tr>\n",
       "    <tr>\n",
       "      <th>81</th>\n",
       "      <td>Candidatus Thioglobus singularis</td>\n",
       "      <td>7</td>\n",
       "      <td>0.036157</td>\n",
       "      <td>1100</td>\n",
       "      <td>1.190128</td>\n",
       "      <td>0.030381</td>\n",
       "    </tr>\n",
       "    <tr>\n",
       "      <th>330</th>\n",
       "      <td>SAR116 cluster</td>\n",
       "      <td>1</td>\n",
       "      <td>0.005165</td>\n",
       "      <td>145</td>\n",
       "      <td>0.156881</td>\n",
       "      <td>0.032925</td>\n",
       "    </tr>\n",
       "    <tr>\n",
       "      <th>440</th>\n",
       "      <td>unclassified Gammaproteobacteria</td>\n",
       "      <td>3</td>\n",
       "      <td>0.015496</td>\n",
       "      <td>416</td>\n",
       "      <td>0.450085</td>\n",
       "      <td>0.034429</td>\n",
       "    </tr>\n",
       "    <tr>\n",
       "      <th>287</th>\n",
       "      <td>Planktomarina temperata</td>\n",
       "      <td>6</td>\n",
       "      <td>0.030992</td>\n",
       "      <td>732</td>\n",
       "      <td>0.791976</td>\n",
       "      <td>0.039132</td>\n",
       "    </tr>\n",
       "    <tr>\n",
       "      <th>293</th>\n",
       "      <td>Porticoccus hydrocarbonoclasticus</td>\n",
       "      <td>1</td>\n",
       "      <td>0.005165</td>\n",
       "      <td>118</td>\n",
       "      <td>0.127668</td>\n",
       "      <td>0.040459</td>\n",
       "    </tr>\n",
       "    <tr>\n",
       "      <th>2</th>\n",
       "      <td>Acinetobacter</td>\n",
       "      <td>8</td>\n",
       "      <td>0.041322</td>\n",
       "      <td>920</td>\n",
       "      <td>0.995380</td>\n",
       "      <td>0.041514</td>\n",
       "    </tr>\n",
       "    <tr>\n",
       "      <th>371</th>\n",
       "      <td>Synechococcus</td>\n",
       "      <td>8</td>\n",
       "      <td>0.041322</td>\n",
       "      <td>871</td>\n",
       "      <td>0.942365</td>\n",
       "      <td>0.043850</td>\n",
       "    </tr>\n",
       "    <tr>\n",
       "      <th>255</th>\n",
       "      <td>Oleispira antarctica</td>\n",
       "      <td>1</td>\n",
       "      <td>0.005165</td>\n",
       "      <td>98</td>\n",
       "      <td>0.106030</td>\n",
       "      <td>0.048716</td>\n",
       "    </tr>\n",
       "    <tr>\n",
       "      <th>201</th>\n",
       "      <td>Limnobacter sp. MED105</td>\n",
       "      <td>1</td>\n",
       "      <td>0.005165</td>\n",
       "      <td>93</td>\n",
       "      <td>0.100620</td>\n",
       "      <td>0.051335</td>\n",
       "    </tr>\n",
       "    <tr>\n",
       "      <th>160</th>\n",
       "      <td>Formosa</td>\n",
       "      <td>1</td>\n",
       "      <td>0.005165</td>\n",
       "      <td>90</td>\n",
       "      <td>0.097374</td>\n",
       "      <td>0.053046</td>\n",
       "    </tr>\n",
       "    <tr>\n",
       "      <th>306</th>\n",
       "      <td>Pseudomonadales</td>\n",
       "      <td>17</td>\n",
       "      <td>0.087810</td>\n",
       "      <td>1513</td>\n",
       "      <td>1.636968</td>\n",
       "      <td>0.053642</td>\n",
       "    </tr>\n",
       "    <tr>\n",
       "      <th>244</th>\n",
       "      <td>OM182 bacterium BACL3 MAG-120507-bin80</td>\n",
       "      <td>1</td>\n",
       "      <td>0.005165</td>\n",
       "      <td>76</td>\n",
       "      <td>0.082227</td>\n",
       "      <td>0.062817</td>\n",
       "    </tr>\n",
       "    <tr>\n",
       "      <th>310</th>\n",
       "      <td>Pseudomonas aestusnigri</td>\n",
       "      <td>6</td>\n",
       "      <td>0.030992</td>\n",
       "      <td>449</td>\n",
       "      <td>0.485789</td>\n",
       "      <td>0.063797</td>\n",
       "    </tr>\n",
       "    <tr>\n",
       "      <th>103</th>\n",
       "      <td>Cobetia</td>\n",
       "      <td>8</td>\n",
       "      <td>0.041322</td>\n",
       "      <td>591</td>\n",
       "      <td>0.639424</td>\n",
       "      <td>0.064624</td>\n",
       "    </tr>\n",
       "    <tr>\n",
       "      <th>340</th>\n",
       "      <td>SAR92 clade</td>\n",
       "      <td>2</td>\n",
       "      <td>0.010331</td>\n",
       "      <td>131</td>\n",
       "      <td>0.141733</td>\n",
       "      <td>0.072887</td>\n",
       "    </tr>\n",
       "    <tr>\n",
       "      <th>194</th>\n",
       "      <td>Leeuwenhoekiella blandensis</td>\n",
       "      <td>1</td>\n",
       "      <td>0.005165</td>\n",
       "      <td>64</td>\n",
       "      <td>0.069244</td>\n",
       "      <td>0.074596</td>\n",
       "    </tr>\n",
       "    <tr>\n",
       "      <th>14</th>\n",
       "      <td>Alteromonas lipolytica</td>\n",
       "      <td>8</td>\n",
       "      <td>0.041322</td>\n",
       "      <td>496</td>\n",
       "      <td>0.536640</td>\n",
       "      <td>0.077002</td>\n",
       "    </tr>\n",
       "    <tr>\n",
       "      <th>447</th>\n",
       "      <td>unclassified Porticoccaceae</td>\n",
       "      <td>53</td>\n",
       "      <td>0.273760</td>\n",
       "      <td>3208</td>\n",
       "      <td>3.470847</td>\n",
       "      <td>0.078874</td>\n",
       "    </tr>\n",
       "    <tr>\n",
       "      <th>7</th>\n",
       "      <td>Algoriphagus ornithinivorans</td>\n",
       "      <td>6</td>\n",
       "      <td>0.030992</td>\n",
       "      <td>362</td>\n",
       "      <td>0.391660</td>\n",
       "      <td>0.079129</td>\n",
       "    </tr>\n",
       "    <tr>\n",
       "      <th>339</th>\n",
       "      <td>SAR92 bacterium BACL26 MAG-121220-bin70</td>\n",
       "      <td>11</td>\n",
       "      <td>0.056818</td>\n",
       "      <td>620</td>\n",
       "      <td>0.670800</td>\n",
       "      <td>0.084702</td>\n",
       "    </tr>\n",
       "    <tr>\n",
       "      <th>363</th>\n",
       "      <td>Spongiibacter tropicus</td>\n",
       "      <td>1</td>\n",
       "      <td>0.005165</td>\n",
       "      <td>56</td>\n",
       "      <td>0.060588</td>\n",
       "      <td>0.085252</td>\n",
       "    </tr>\n",
       "    <tr>\n",
       "      <th>362</th>\n",
       "      <td>Spongiibacter</td>\n",
       "      <td>1</td>\n",
       "      <td>0.005165</td>\n",
       "      <td>53</td>\n",
       "      <td>0.057343</td>\n",
       "      <td>0.090078</td>\n",
       "    </tr>\n",
       "    <tr>\n",
       "      <th>...</th>\n",
       "      <td>...</td>\n",
       "      <td>...</td>\n",
       "      <td>...</td>\n",
       "      <td>...</td>\n",
       "      <td>...</td>\n",
       "      <td>...</td>\n",
       "    </tr>\n",
       "    <tr>\n",
       "      <th>210</th>\n",
       "      <td>Mamiellales</td>\n",
       "      <td>751</td>\n",
       "      <td>3.879132</td>\n",
       "      <td>145</td>\n",
       "      <td>0.156881</td>\n",
       "      <td>24.726659</td>\n",
       "    </tr>\n",
       "    <tr>\n",
       "      <th>198</th>\n",
       "      <td>Lewinella</td>\n",
       "      <td>16</td>\n",
       "      <td>0.082645</td>\n",
       "      <td>3</td>\n",
       "      <td>0.003246</td>\n",
       "      <td>25.461983</td>\n",
       "    </tr>\n",
       "    <tr>\n",
       "      <th>68</th>\n",
       "      <td>Candidatus Entotheonella sp. TSY2</td>\n",
       "      <td>28</td>\n",
       "      <td>0.144628</td>\n",
       "      <td>5</td>\n",
       "      <td>0.005410</td>\n",
       "      <td>26.735083</td>\n",
       "    </tr>\n",
       "    <tr>\n",
       "      <th>3</th>\n",
       "      <td>Actiniaria</td>\n",
       "      <td>6</td>\n",
       "      <td>0.030992</td>\n",
       "      <td>1</td>\n",
       "      <td>0.001082</td>\n",
       "      <td>28.644731</td>\n",
       "    </tr>\n",
       "    <tr>\n",
       "      <th>25</th>\n",
       "      <td>Aureimonas</td>\n",
       "      <td>6</td>\n",
       "      <td>0.030992</td>\n",
       "      <td>1</td>\n",
       "      <td>0.001082</td>\n",
       "      <td>28.644731</td>\n",
       "    </tr>\n",
       "    <tr>\n",
       "      <th>374</th>\n",
       "      <td>Thalassiosira oceanica</td>\n",
       "      <td>12</td>\n",
       "      <td>0.061983</td>\n",
       "      <td>2</td>\n",
       "      <td>0.002164</td>\n",
       "      <td>28.644731</td>\n",
       "    </tr>\n",
       "    <tr>\n",
       "      <th>102</th>\n",
       "      <td>Cnidaria</td>\n",
       "      <td>6</td>\n",
       "      <td>0.030992</td>\n",
       "      <td>1</td>\n",
       "      <td>0.001082</td>\n",
       "      <td>28.644731</td>\n",
       "    </tr>\n",
       "    <tr>\n",
       "      <th>270</th>\n",
       "      <td>Paenibacillus</td>\n",
       "      <td>6</td>\n",
       "      <td>0.030992</td>\n",
       "      <td>1</td>\n",
       "      <td>0.001082</td>\n",
       "      <td>28.644731</td>\n",
       "    </tr>\n",
       "    <tr>\n",
       "      <th>232</th>\n",
       "      <td>Neoptera</td>\n",
       "      <td>7</td>\n",
       "      <td>0.036157</td>\n",
       "      <td>1</td>\n",
       "      <td>0.001082</td>\n",
       "      <td>33.418853</td>\n",
       "    </tr>\n",
       "    <tr>\n",
       "      <th>276</th>\n",
       "      <td>Pelagibacteraceae bacterium ETNP-OMZ-SAG-A6</td>\n",
       "      <td>120</td>\n",
       "      <td>0.619835</td>\n",
       "      <td>17</td>\n",
       "      <td>0.018393</td>\n",
       "      <td>33.699684</td>\n",
       "    </tr>\n",
       "    <tr>\n",
       "      <th>435</th>\n",
       "      <td>unclassified Chloroflexi (miscellaneous)</td>\n",
       "      <td>37</td>\n",
       "      <td>0.191116</td>\n",
       "      <td>5</td>\n",
       "      <td>0.005410</td>\n",
       "      <td>35.328502</td>\n",
       "    </tr>\n",
       "    <tr>\n",
       "      <th>381</th>\n",
       "      <td>Thermomicrobia</td>\n",
       "      <td>23</td>\n",
       "      <td>0.118802</td>\n",
       "      <td>3</td>\n",
       "      <td>0.003246</td>\n",
       "      <td>36.601601</td>\n",
       "    </tr>\n",
       "    <tr>\n",
       "      <th>62</th>\n",
       "      <td>Candidatus Aquiluna sp. UB-MaderosW2red</td>\n",
       "      <td>16</td>\n",
       "      <td>0.082645</td>\n",
       "      <td>2</td>\n",
       "      <td>0.002164</td>\n",
       "      <td>38.192975</td>\n",
       "    </tr>\n",
       "    <tr>\n",
       "      <th>386</th>\n",
       "      <td>Trypanosomatidae</td>\n",
       "      <td>24</td>\n",
       "      <td>0.123967</td>\n",
       "      <td>3</td>\n",
       "      <td>0.003246</td>\n",
       "      <td>38.192975</td>\n",
       "    </tr>\n",
       "    <tr>\n",
       "      <th>101</th>\n",
       "      <td>Clupeocephala</td>\n",
       "      <td>8</td>\n",
       "      <td>0.041322</td>\n",
       "      <td>1</td>\n",
       "      <td>0.001082</td>\n",
       "      <td>38.192975</td>\n",
       "    </tr>\n",
       "    <tr>\n",
       "      <th>51</th>\n",
       "      <td>Bodo saltans</td>\n",
       "      <td>91</td>\n",
       "      <td>0.470041</td>\n",
       "      <td>11</td>\n",
       "      <td>0.011901</td>\n",
       "      <td>39.495008</td>\n",
       "    </tr>\n",
       "    <tr>\n",
       "      <th>66</th>\n",
       "      <td>Candidatus Entotheonella</td>\n",
       "      <td>34</td>\n",
       "      <td>0.175620</td>\n",
       "      <td>4</td>\n",
       "      <td>0.004328</td>\n",
       "      <td>40.580036</td>\n",
       "    </tr>\n",
       "    <tr>\n",
       "      <th>129</th>\n",
       "      <td>Deuterostomia</td>\n",
       "      <td>18</td>\n",
       "      <td>0.092975</td>\n",
       "      <td>2</td>\n",
       "      <td>0.002164</td>\n",
       "      <td>42.967097</td>\n",
       "    </tr>\n",
       "    <tr>\n",
       "      <th>379</th>\n",
       "      <td>Thaumarchaeota</td>\n",
       "      <td>45</td>\n",
       "      <td>0.232438</td>\n",
       "      <td>5</td>\n",
       "      <td>0.005410</td>\n",
       "      <td>42.967097</td>\n",
       "    </tr>\n",
       "    <tr>\n",
       "      <th>261</th>\n",
       "      <td>Ostreococcus</td>\n",
       "      <td>247</td>\n",
       "      <td>1.275826</td>\n",
       "      <td>27</td>\n",
       "      <td>0.029212</td>\n",
       "      <td>43.674374</td>\n",
       "    </tr>\n",
       "    <tr>\n",
       "      <th>262</th>\n",
       "      <td>Ostreococcus lucimarinus CCE9901</td>\n",
       "      <td>232</td>\n",
       "      <td>1.198347</td>\n",
       "      <td>23</td>\n",
       "      <td>0.024885</td>\n",
       "      <td>48.156360</td>\n",
       "    </tr>\n",
       "    <tr>\n",
       "      <th>225</th>\n",
       "      <td>Micromonas commoda</td>\n",
       "      <td>1948</td>\n",
       "      <td>10.061983</td>\n",
       "      <td>185</td>\n",
       "      <td>0.200158</td>\n",
       "      <td>50.270213</td>\n",
       "    </tr>\n",
       "    <tr>\n",
       "      <th>67</th>\n",
       "      <td>Candidatus Entotheonella sp. TSY1</td>\n",
       "      <td>118</td>\n",
       "      <td>0.609504</td>\n",
       "      <td>10</td>\n",
       "      <td>0.010819</td>\n",
       "      <td>56.334638</td>\n",
       "    </tr>\n",
       "    <tr>\n",
       "      <th>344</th>\n",
       "      <td>Salpingoeca rosetta</td>\n",
       "      <td>25</td>\n",
       "      <td>0.129132</td>\n",
       "      <td>2</td>\n",
       "      <td>0.002164</td>\n",
       "      <td>59.676524</td>\n",
       "    </tr>\n",
       "    <tr>\n",
       "      <th>125</th>\n",
       "      <td>Dehalococcoidia</td>\n",
       "      <td>16</td>\n",
       "      <td>0.082645</td>\n",
       "      <td>1</td>\n",
       "      <td>0.001082</td>\n",
       "      <td>76.385950</td>\n",
       "    </tr>\n",
       "    <tr>\n",
       "      <th>224</th>\n",
       "      <td>Micromonas</td>\n",
       "      <td>1950</td>\n",
       "      <td>10.072314</td>\n",
       "      <td>108</td>\n",
       "      <td>0.116849</td>\n",
       "      <td>86.199423</td>\n",
       "    </tr>\n",
       "    <tr>\n",
       "      <th>226</th>\n",
       "      <td>Micromonas pusilla CCMP1545</td>\n",
       "      <td>593</td>\n",
       "      <td>3.063017</td>\n",
       "      <td>30</td>\n",
       "      <td>0.032458</td>\n",
       "      <td>94.368476</td>\n",
       "    </tr>\n",
       "    <tr>\n",
       "      <th>461</th>\n",
       "      <td>uncultured bacterium HF4000_05M23</td>\n",
       "      <td>90</td>\n",
       "      <td>0.464876</td>\n",
       "      <td>4</td>\n",
       "      <td>0.004328</td>\n",
       "      <td>107.417743</td>\n",
       "    </tr>\n",
       "    <tr>\n",
       "      <th>395</th>\n",
       "      <td>Vitrella brassicaformis CCMP3155</td>\n",
       "      <td>889</td>\n",
       "      <td>4.591942</td>\n",
       "      <td>15</td>\n",
       "      <td>0.016229</td>\n",
       "      <td>282.946291</td>\n",
       "    </tr>\n",
       "    <tr>\n",
       "      <th>193</th>\n",
       "      <td>Kinetoplastida</td>\n",
       "      <td>97</td>\n",
       "      <td>0.501033</td>\n",
       "      <td>1</td>\n",
       "      <td>0.001082</td>\n",
       "      <td>463.089824</td>\n",
       "    </tr>\n",
       "  </tbody>\n",
       "</table>\n",
       "<p>467 rows × 6 columns</p>\n",
       "</div>"
      ],
      "text/plain": [
       "                                        tax_name   0_x  percent_99   0_y  \\\n",
       "324           Rhodobacterales bacterium HTCC2255     2    0.010331  1225   \n",
       "322               Rhodobacteraceae bacterium SB2     1    0.005165   310   \n",
       "444                 unclassified Methylophilales     1    0.005165   249   \n",
       "251                            Oceanospirillales     2    0.010331   366   \n",
       "292                               Porticoccaceae     1    0.005165   181   \n",
       "370                              Synechococcales     2    0.010331   362   \n",
       "388                              Verrucomicrobia     2    0.010331   345   \n",
       "323                              Rhodobacterales     4    0.020661   659   \n",
       "81              Candidatus Thioglobus singularis     7    0.036157  1100   \n",
       "330                               SAR116 cluster     1    0.005165   145   \n",
       "440             unclassified Gammaproteobacteria     3    0.015496   416   \n",
       "287                      Planktomarina temperata     6    0.030992   732   \n",
       "293            Porticoccus hydrocarbonoclasticus     1    0.005165   118   \n",
       "2                                  Acinetobacter     8    0.041322   920   \n",
       "371                                Synechococcus     8    0.041322   871   \n",
       "255                         Oleispira antarctica     1    0.005165    98   \n",
       "201                       Limnobacter sp. MED105     1    0.005165    93   \n",
       "160                                      Formosa     1    0.005165    90   \n",
       "306                              Pseudomonadales    17    0.087810  1513   \n",
       "244       OM182 bacterium BACL3 MAG-120507-bin80     1    0.005165    76   \n",
       "310                      Pseudomonas aestusnigri     6    0.030992   449   \n",
       "103                                      Cobetia     8    0.041322   591   \n",
       "340                                  SAR92 clade     2    0.010331   131   \n",
       "194                  Leeuwenhoekiella blandensis     1    0.005165    64   \n",
       "14                        Alteromonas lipolytica     8    0.041322   496   \n",
       "447                  unclassified Porticoccaceae    53    0.273760  3208   \n",
       "7                   Algoriphagus ornithinivorans     6    0.030992   362   \n",
       "339      SAR92 bacterium BACL26 MAG-121220-bin70    11    0.056818   620   \n",
       "363                       Spongiibacter tropicus     1    0.005165    56   \n",
       "362                                Spongiibacter     1    0.005165    53   \n",
       "..                                           ...   ...         ...   ...   \n",
       "210                                  Mamiellales   751    3.879132   145   \n",
       "198                                    Lewinella    16    0.082645     3   \n",
       "68             Candidatus Entotheonella sp. TSY2    28    0.144628     5   \n",
       "3                                     Actiniaria     6    0.030992     1   \n",
       "25                                    Aureimonas     6    0.030992     1   \n",
       "374                       Thalassiosira oceanica    12    0.061983     2   \n",
       "102                                     Cnidaria     6    0.030992     1   \n",
       "270                                Paenibacillus     6    0.030992     1   \n",
       "232                                     Neoptera     7    0.036157     1   \n",
       "276  Pelagibacteraceae bacterium ETNP-OMZ-SAG-A6   120    0.619835    17   \n",
       "435     unclassified Chloroflexi (miscellaneous)    37    0.191116     5   \n",
       "381                               Thermomicrobia    23    0.118802     3   \n",
       "62       Candidatus Aquiluna sp. UB-MaderosW2red    16    0.082645     2   \n",
       "386                             Trypanosomatidae    24    0.123967     3   \n",
       "101                                Clupeocephala     8    0.041322     1   \n",
       "51                                  Bodo saltans    91    0.470041    11   \n",
       "66                      Candidatus Entotheonella    34    0.175620     4   \n",
       "129                                Deuterostomia    18    0.092975     2   \n",
       "379                               Thaumarchaeota    45    0.232438     5   \n",
       "261                                 Ostreococcus   247    1.275826    27   \n",
       "262             Ostreococcus lucimarinus CCE9901   232    1.198347    23   \n",
       "225                           Micromonas commoda  1948   10.061983   185   \n",
       "67             Candidatus Entotheonella sp. TSY1   118    0.609504    10   \n",
       "344                          Salpingoeca rosetta    25    0.129132     2   \n",
       "125                              Dehalococcoidia    16    0.082645     1   \n",
       "224                                   Micromonas  1950   10.072314   108   \n",
       "226                  Micromonas pusilla CCMP1545   593    3.063017    30   \n",
       "461            uncultured bacterium HF4000_05M23    90    0.464876     4   \n",
       "395             Vitrella brassicaformis CCMP3155   889    4.591942    15   \n",
       "193                               Kinetoplastida    97    0.501033     1   \n",
       "\n",
       "     percent_01    increase  \n",
       "324    1.325370    0.007794  \n",
       "322    0.335400    0.015400  \n",
       "444    0.269402    0.019173  \n",
       "251    0.395988    0.026088  \n",
       "292    0.195830    0.026376  \n",
       "370    0.391660    0.026376  \n",
       "388    0.373268    0.027676  \n",
       "323    0.712995    0.028978  \n",
       "81     1.190128    0.030381  \n",
       "330    0.156881    0.032925  \n",
       "440    0.450085    0.034429  \n",
       "287    0.791976    0.039132  \n",
       "293    0.127668    0.040459  \n",
       "2      0.995380    0.041514  \n",
       "371    0.942365    0.043850  \n",
       "255    0.106030    0.048716  \n",
       "201    0.100620    0.051335  \n",
       "160    0.097374    0.053046  \n",
       "306    1.636968    0.053642  \n",
       "244    0.082227    0.062817  \n",
       "310    0.485789    0.063797  \n",
       "103    0.639424    0.064624  \n",
       "340    0.141733    0.072887  \n",
       "194    0.069244    0.074596  \n",
       "14     0.536640    0.077002  \n",
       "447    3.470847    0.078874  \n",
       "7      0.391660    0.079129  \n",
       "339    0.670800    0.084702  \n",
       "363    0.060588    0.085252  \n",
       "362    0.057343    0.090078  \n",
       "..          ...         ...  \n",
       "210    0.156881   24.726659  \n",
       "198    0.003246   25.461983  \n",
       "68     0.005410   26.735083  \n",
       "3      0.001082   28.644731  \n",
       "25     0.001082   28.644731  \n",
       "374    0.002164   28.644731  \n",
       "102    0.001082   28.644731  \n",
       "270    0.001082   28.644731  \n",
       "232    0.001082   33.418853  \n",
       "276    0.018393   33.699684  \n",
       "435    0.005410   35.328502  \n",
       "381    0.003246   36.601601  \n",
       "62     0.002164   38.192975  \n",
       "386    0.003246   38.192975  \n",
       "101    0.001082   38.192975  \n",
       "51     0.011901   39.495008  \n",
       "66     0.004328   40.580036  \n",
       "129    0.002164   42.967097  \n",
       "379    0.005410   42.967097  \n",
       "261    0.029212   43.674374  \n",
       "262    0.024885   48.156360  \n",
       "225    0.200158   50.270213  \n",
       "67     0.010819   56.334638  \n",
       "344    0.002164   59.676524  \n",
       "125    0.001082   76.385950  \n",
       "224    0.116849   86.199423  \n",
       "226    0.032458   94.368476  \n",
       "461    0.004328  107.417743  \n",
       "395    0.016229  282.946291  \n",
       "193    0.001082  463.089824  \n",
       "\n",
       "[467 rows x 6 columns]"
      ]
     },
     "execution_count": 131,
     "metadata": {},
     "output_type": "execute_result"
    }
   ],
   "source": [
    "tax_name.sort_values(by='increase')"
   ]
  },
  {
   "cell_type": "code",
   "execution_count": 132,
   "metadata": {},
   "outputs": [
    {
     "data": {
      "text/html": [
       "<div>\n",
       "<style>\n",
       "    .dataframe thead tr:only-child th {\n",
       "        text-align: right;\n",
       "    }\n",
       "\n",
       "    .dataframe thead th {\n",
       "        text-align: left;\n",
       "    }\n",
       "\n",
       "    .dataframe tbody tr th {\n",
       "        vertical-align: top;\n",
       "    }\n",
       "</style>\n",
       "<table border=\"1\" class=\"dataframe\">\n",
       "  <thead>\n",
       "    <tr style=\"text-align: right;\">\n",
       "      <th></th>\n",
       "      <th>tax_name</th>\n",
       "      <th>0_x</th>\n",
       "      <th>percent_99</th>\n",
       "      <th>0_y</th>\n",
       "      <th>percent_01</th>\n",
       "      <th>increase</th>\n",
       "    </tr>\n",
       "  </thead>\n",
       "  <tbody>\n",
       "    <tr>\n",
       "      <th>91</th>\n",
       "      <td>Chlorophyceae</td>\n",
       "      <td>1</td>\n",
       "      <td>0.005165</td>\n",
       "      <td>1</td>\n",
       "      <td>0.001082</td>\n",
       "      <td>4.774122</td>\n",
       "    </tr>\n",
       "    <tr>\n",
       "      <th>362</th>\n",
       "      <td>Spongiibacter</td>\n",
       "      <td>1</td>\n",
       "      <td>0.005165</td>\n",
       "      <td>53</td>\n",
       "      <td>0.057343</td>\n",
       "      <td>0.090078</td>\n",
       "    </tr>\n",
       "    <tr>\n",
       "      <th>120</th>\n",
       "      <td>Cycloclasticus</td>\n",
       "      <td>1</td>\n",
       "      <td>0.005165</td>\n",
       "      <td>23</td>\n",
       "      <td>0.024885</td>\n",
       "      <td>0.207571</td>\n",
       "    </tr>\n",
       "    <tr>\n",
       "      <th>221</th>\n",
       "      <td>Microbacteriaceae bacterium BACL25 MAG-120322-...</td>\n",
       "      <td>1</td>\n",
       "      <td>0.005165</td>\n",
       "      <td>12</td>\n",
       "      <td>0.012983</td>\n",
       "      <td>0.397843</td>\n",
       "    </tr>\n",
       "    <tr>\n",
       "      <th>115</th>\n",
       "      <td>Cryomorphaceae bacterium BACL22 MAG-120619-bin32</td>\n",
       "      <td>1</td>\n",
       "      <td>0.005165</td>\n",
       "      <td>20</td>\n",
       "      <td>0.021639</td>\n",
       "      <td>0.238706</td>\n",
       "    </tr>\n",
       "    <tr>\n",
       "      <th>465</th>\n",
       "      <td>uncultured marine microorganism HF4000_ANIW141I9</td>\n",
       "      <td>1</td>\n",
       "      <td>0.005165</td>\n",
       "      <td>2</td>\n",
       "      <td>0.002164</td>\n",
       "      <td>2.387061</td>\n",
       "    </tr>\n",
       "    <tr>\n",
       "      <th>104</th>\n",
       "      <td>Colwellia</td>\n",
       "      <td>1</td>\n",
       "      <td>0.005165</td>\n",
       "      <td>7</td>\n",
       "      <td>0.007574</td>\n",
       "      <td>0.682017</td>\n",
       "    </tr>\n",
       "    <tr>\n",
       "      <th>236</th>\n",
       "      <td>Nitrosopumilales</td>\n",
       "      <td>1</td>\n",
       "      <td>0.005165</td>\n",
       "      <td>4</td>\n",
       "      <td>0.004328</td>\n",
       "      <td>1.193530</td>\n",
       "    </tr>\n",
       "    <tr>\n",
       "      <th>349</th>\n",
       "      <td>Schizophora</td>\n",
       "      <td>1</td>\n",
       "      <td>0.005165</td>\n",
       "      <td>13</td>\n",
       "      <td>0.014065</td>\n",
       "      <td>0.367240</td>\n",
       "    </tr>\n",
       "    <tr>\n",
       "      <th>96</th>\n",
       "      <td>Chromatiales bacterium (ex Bugula neritina AB1)</td>\n",
       "      <td>1</td>\n",
       "      <td>0.005165</td>\n",
       "      <td>27</td>\n",
       "      <td>0.029212</td>\n",
       "      <td>0.176819</td>\n",
       "    </tr>\n",
       "    <tr>\n",
       "      <th>238</th>\n",
       "      <td>Nitrospina gracilis</td>\n",
       "      <td>1</td>\n",
       "      <td>0.005165</td>\n",
       "      <td>31</td>\n",
       "      <td>0.033540</td>\n",
       "      <td>0.154004</td>\n",
       "    </tr>\n",
       "    <tr>\n",
       "      <th>242</th>\n",
       "      <td>Nitrospirae</td>\n",
       "      <td>1</td>\n",
       "      <td>0.005165</td>\n",
       "      <td>19</td>\n",
       "      <td>0.020557</td>\n",
       "      <td>0.251270</td>\n",
       "    </tr>\n",
       "    <tr>\n",
       "      <th>363</th>\n",
       "      <td>Spongiibacter tropicus</td>\n",
       "      <td>1</td>\n",
       "      <td>0.005165</td>\n",
       "      <td>56</td>\n",
       "      <td>0.060588</td>\n",
       "      <td>0.085252</td>\n",
       "    </tr>\n",
       "    <tr>\n",
       "      <th>87</th>\n",
       "      <td>Cetartiodactyla</td>\n",
       "      <td>1</td>\n",
       "      <td>0.005165</td>\n",
       "      <td>1</td>\n",
       "      <td>0.001082</td>\n",
       "      <td>4.774122</td>\n",
       "    </tr>\n",
       "    <tr>\n",
       "      <th>348</th>\n",
       "      <td>Sarcopterygii</td>\n",
       "      <td>1</td>\n",
       "      <td>0.005165</td>\n",
       "      <td>1</td>\n",
       "      <td>0.001082</td>\n",
       "      <td>4.774122</td>\n",
       "    </tr>\n",
       "    <tr>\n",
       "      <th>246</th>\n",
       "      <td>OM182 bacterium BACL3 MAG-120924-bin41</td>\n",
       "      <td>1</td>\n",
       "      <td>0.005165</td>\n",
       "      <td>8</td>\n",
       "      <td>0.008655</td>\n",
       "      <td>0.596765</td>\n",
       "    </tr>\n",
       "    <tr>\n",
       "      <th>80</th>\n",
       "      <td>Candidatus Thioglobus</td>\n",
       "      <td>1</td>\n",
       "      <td>0.005165</td>\n",
       "      <td>27</td>\n",
       "      <td>0.029212</td>\n",
       "      <td>0.176819</td>\n",
       "    </tr>\n",
       "    <tr>\n",
       "      <th>79</th>\n",
       "      <td>Candidatus Thiodiazotropha endolucinida</td>\n",
       "      <td>1</td>\n",
       "      <td>0.005165</td>\n",
       "      <td>15</td>\n",
       "      <td>0.016229</td>\n",
       "      <td>0.318275</td>\n",
       "    </tr>\n",
       "    <tr>\n",
       "      <th>78</th>\n",
       "      <td>Candidatus Thalassoarchaea marina</td>\n",
       "      <td>1</td>\n",
       "      <td>0.005165</td>\n",
       "      <td>11</td>\n",
       "      <td>0.011901</td>\n",
       "      <td>0.434011</td>\n",
       "    </tr>\n",
       "    <tr>\n",
       "      <th>425</th>\n",
       "      <td>unclassified Actinobacteria (class)</td>\n",
       "      <td>1</td>\n",
       "      <td>0.005165</td>\n",
       "      <td>3</td>\n",
       "      <td>0.003246</td>\n",
       "      <td>1.591374</td>\n",
       "    </tr>\n",
       "    <tr>\n",
       "      <th>72</th>\n",
       "      <td>Candidatus Pelagibacter</td>\n",
       "      <td>1</td>\n",
       "      <td>0.005165</td>\n",
       "      <td>38</td>\n",
       "      <td>0.041114</td>\n",
       "      <td>0.125635</td>\n",
       "    </tr>\n",
       "    <tr>\n",
       "      <th>343</th>\n",
       "      <td>Salmonella enterica subsp. enterica serovar Mo...</td>\n",
       "      <td>1</td>\n",
       "      <td>0.005165</td>\n",
       "      <td>17</td>\n",
       "      <td>0.018393</td>\n",
       "      <td>0.280831</td>\n",
       "    </tr>\n",
       "    <tr>\n",
       "      <th>342</th>\n",
       "      <td>Salinisphaera</td>\n",
       "      <td>1</td>\n",
       "      <td>0.005165</td>\n",
       "      <td>20</td>\n",
       "      <td>0.021639</td>\n",
       "      <td>0.238706</td>\n",
       "    </tr>\n",
       "    <tr>\n",
       "      <th>255</th>\n",
       "      <td>Oleispira antarctica</td>\n",
       "      <td>1</td>\n",
       "      <td>0.005165</td>\n",
       "      <td>98</td>\n",
       "      <td>0.106030</td>\n",
       "      <td>0.048716</td>\n",
       "    </tr>\n",
       "    <tr>\n",
       "      <th>429</th>\n",
       "      <td>unclassified Bacteria (miscellaneous)</td>\n",
       "      <td>1</td>\n",
       "      <td>0.005165</td>\n",
       "      <td>6</td>\n",
       "      <td>0.006492</td>\n",
       "      <td>0.795687</td>\n",
       "    </tr>\n",
       "    <tr>\n",
       "      <th>244</th>\n",
       "      <td>OM182 bacterium BACL3 MAG-120507-bin80</td>\n",
       "      <td>1</td>\n",
       "      <td>0.005165</td>\n",
       "      <td>76</td>\n",
       "      <td>0.082227</td>\n",
       "      <td>0.062817</td>\n",
       "    </tr>\n",
       "    <tr>\n",
       "      <th>413</th>\n",
       "      <td>marine actinobacterium MedAcidi-G2A</td>\n",
       "      <td>1</td>\n",
       "      <td>0.005165</td>\n",
       "      <td>12</td>\n",
       "      <td>0.012983</td>\n",
       "      <td>0.397843</td>\n",
       "    </tr>\n",
       "    <tr>\n",
       "      <th>128</th>\n",
       "      <td>Desulfovibrionaceae</td>\n",
       "      <td>1</td>\n",
       "      <td>0.005165</td>\n",
       "      <td>10</td>\n",
       "      <td>0.010819</td>\n",
       "      <td>0.477412</td>\n",
       "    </tr>\n",
       "    <tr>\n",
       "      <th>411</th>\n",
       "      <td>gamma proteobacterium IMCC3088</td>\n",
       "      <td>1</td>\n",
       "      <td>0.005165</td>\n",
       "      <td>6</td>\n",
       "      <td>0.006492</td>\n",
       "      <td>0.795687</td>\n",
       "    </tr>\n",
       "    <tr>\n",
       "      <th>180</th>\n",
       "      <td>Hirschia</td>\n",
       "      <td>1</td>\n",
       "      <td>0.005165</td>\n",
       "      <td>14</td>\n",
       "      <td>0.015147</td>\n",
       "      <td>0.341009</td>\n",
       "    </tr>\n",
       "    <tr>\n",
       "      <th>...</th>\n",
       "      <td>...</td>\n",
       "      <td>...</td>\n",
       "      <td>...</td>\n",
       "      <td>...</td>\n",
       "      <td>...</td>\n",
       "      <td>...</td>\n",
       "    </tr>\n",
       "    <tr>\n",
       "      <th>193</th>\n",
       "      <td>Kinetoplastida</td>\n",
       "      <td>97</td>\n",
       "      <td>0.501033</td>\n",
       "      <td>1</td>\n",
       "      <td>0.001082</td>\n",
       "      <td>463.089824</td>\n",
       "    </tr>\n",
       "    <tr>\n",
       "      <th>177</th>\n",
       "      <td>Haptophyceae</td>\n",
       "      <td>105</td>\n",
       "      <td>0.542355</td>\n",
       "      <td>277</td>\n",
       "      <td>0.299696</td>\n",
       "      <td>1.809685</td>\n",
       "    </tr>\n",
       "    <tr>\n",
       "      <th>15</th>\n",
       "      <td>Alteromonas macleodii</td>\n",
       "      <td>106</td>\n",
       "      <td>0.547521</td>\n",
       "      <td>145</td>\n",
       "      <td>0.156881</td>\n",
       "      <td>3.490048</td>\n",
       "    </tr>\n",
       "    <tr>\n",
       "      <th>67</th>\n",
       "      <td>Candidatus Entotheonella sp. TSY1</td>\n",
       "      <td>118</td>\n",
       "      <td>0.609504</td>\n",
       "      <td>10</td>\n",
       "      <td>0.010819</td>\n",
       "      <td>56.334638</td>\n",
       "    </tr>\n",
       "    <tr>\n",
       "      <th>276</th>\n",
       "      <td>Pelagibacteraceae bacterium ETNP-OMZ-SAG-A6</td>\n",
       "      <td>120</td>\n",
       "      <td>0.619835</td>\n",
       "      <td>17</td>\n",
       "      <td>0.018393</td>\n",
       "      <td>33.699684</td>\n",
       "    </tr>\n",
       "    <tr>\n",
       "      <th>155</th>\n",
       "      <td>Flavobacteriaceae</td>\n",
       "      <td>123</td>\n",
       "      <td>0.635331</td>\n",
       "      <td>1614</td>\n",
       "      <td>1.746243</td>\n",
       "      <td>0.363827</td>\n",
       "    </tr>\n",
       "    <tr>\n",
       "      <th>99</th>\n",
       "      <td>Chrysochromulina sp. CCMP291</td>\n",
       "      <td>125</td>\n",
       "      <td>0.645661</td>\n",
       "      <td>103</td>\n",
       "      <td>0.111439</td>\n",
       "      <td>5.793837</td>\n",
       "    </tr>\n",
       "    <tr>\n",
       "      <th>137</th>\n",
       "      <td>Emiliania huxleyi CCMP1516</td>\n",
       "      <td>133</td>\n",
       "      <td>0.686983</td>\n",
       "      <td>84</td>\n",
       "      <td>0.090883</td>\n",
       "      <td>7.559026</td>\n",
       "    </tr>\n",
       "    <tr>\n",
       "      <th>263</th>\n",
       "      <td>Ostreococcus tauri</td>\n",
       "      <td>155</td>\n",
       "      <td>0.800620</td>\n",
       "      <td>68</td>\n",
       "      <td>0.073572</td>\n",
       "      <td>10.882190</td>\n",
       "    </tr>\n",
       "    <tr>\n",
       "      <th>405</th>\n",
       "      <td>environmental samples</td>\n",
       "      <td>161</td>\n",
       "      <td>0.831612</td>\n",
       "      <td>372</td>\n",
       "      <td>0.402480</td>\n",
       "      <td>2.066219</td>\n",
       "    </tr>\n",
       "    <tr>\n",
       "      <th>394</th>\n",
       "      <td>Viridiplantae</td>\n",
       "      <td>198</td>\n",
       "      <td>1.022727</td>\n",
       "      <td>225</td>\n",
       "      <td>0.243435</td>\n",
       "      <td>4.201227</td>\n",
       "    </tr>\n",
       "    <tr>\n",
       "      <th>37</th>\n",
       "      <td>Bacteroidetes</td>\n",
       "      <td>215</td>\n",
       "      <td>1.110537</td>\n",
       "      <td>3360</td>\n",
       "      <td>3.635301</td>\n",
       "      <td>0.305487</td>\n",
       "    </tr>\n",
       "    <tr>\n",
       "      <th>267</th>\n",
       "      <td>Oxytricha trifallax</td>\n",
       "      <td>220</td>\n",
       "      <td>1.136364</td>\n",
       "      <td>318</td>\n",
       "      <td>0.344055</td>\n",
       "      <td>3.302852</td>\n",
       "    </tr>\n",
       "    <tr>\n",
       "      <th>262</th>\n",
       "      <td>Ostreococcus lucimarinus CCE9901</td>\n",
       "      <td>232</td>\n",
       "      <td>1.198347</td>\n",
       "      <td>23</td>\n",
       "      <td>0.024885</td>\n",
       "      <td>48.156360</td>\n",
       "    </tr>\n",
       "    <tr>\n",
       "      <th>463</th>\n",
       "      <td>uncultured marine group II euryarchaeote</td>\n",
       "      <td>235</td>\n",
       "      <td>1.213843</td>\n",
       "      <td>292</td>\n",
       "      <td>0.315925</td>\n",
       "      <td>3.842187</td>\n",
       "    </tr>\n",
       "    <tr>\n",
       "      <th>261</th>\n",
       "      <td>Ostreococcus</td>\n",
       "      <td>247</td>\n",
       "      <td>1.275826</td>\n",
       "      <td>27</td>\n",
       "      <td>0.029212</td>\n",
       "      <td>43.674374</td>\n",
       "    </tr>\n",
       "    <tr>\n",
       "      <th>298</th>\n",
       "      <td>Proteobacteria</td>\n",
       "      <td>312</td>\n",
       "      <td>1.611570</td>\n",
       "      <td>3574</td>\n",
       "      <td>3.866835</td>\n",
       "      <td>0.416767</td>\n",
       "    </tr>\n",
       "    <tr>\n",
       "      <th>404</th>\n",
       "      <td>cellular organisms</td>\n",
       "      <td>349</td>\n",
       "      <td>1.802686</td>\n",
       "      <td>2782</td>\n",
       "      <td>3.009943</td>\n",
       "      <td>0.598910</td>\n",
       "    </tr>\n",
       "    <tr>\n",
       "      <th>165</th>\n",
       "      <td>Gammaproteobacteria</td>\n",
       "      <td>364</td>\n",
       "      <td>1.880165</td>\n",
       "      <td>8771</td>\n",
       "      <td>9.489651</td>\n",
       "      <td>0.198128</td>\n",
       "    </tr>\n",
       "    <tr>\n",
       "      <th>42</th>\n",
       "      <td>Bathycoccus prasinos</td>\n",
       "      <td>374</td>\n",
       "      <td>1.931818</td>\n",
       "      <td>163</td>\n",
       "      <td>0.176355</td>\n",
       "      <td>10.954120</td>\n",
       "    </tr>\n",
       "    <tr>\n",
       "      <th>11</th>\n",
       "      <td>Alteromonas</td>\n",
       "      <td>440</td>\n",
       "      <td>2.272727</td>\n",
       "      <td>2111</td>\n",
       "      <td>2.283965</td>\n",
       "      <td>0.995080</td>\n",
       "    </tr>\n",
       "    <tr>\n",
       "      <th>226</th>\n",
       "      <td>Micromonas pusilla CCMP1545</td>\n",
       "      <td>593</td>\n",
       "      <td>3.063017</td>\n",
       "      <td>30</td>\n",
       "      <td>0.032458</td>\n",
       "      <td>94.368476</td>\n",
       "    </tr>\n",
       "    <tr>\n",
       "      <th>144</th>\n",
       "      <td>Eukaryota</td>\n",
       "      <td>606</td>\n",
       "      <td>3.130165</td>\n",
       "      <td>2894</td>\n",
       "      <td>3.131120</td>\n",
       "      <td>0.999695</td>\n",
       "    </tr>\n",
       "    <tr>\n",
       "      <th>210</th>\n",
       "      <td>Mamiellales</td>\n",
       "      <td>751</td>\n",
       "      <td>3.879132</td>\n",
       "      <td>145</td>\n",
       "      <td>0.156881</td>\n",
       "      <td>24.726659</td>\n",
       "    </tr>\n",
       "    <tr>\n",
       "      <th>395</th>\n",
       "      <td>Vitrella brassicaformis CCMP3155</td>\n",
       "      <td>889</td>\n",
       "      <td>4.591942</td>\n",
       "      <td>15</td>\n",
       "      <td>0.016229</td>\n",
       "      <td>282.946291</td>\n",
       "    </tr>\n",
       "    <tr>\n",
       "      <th>268</th>\n",
       "      <td>Oxytrichidae</td>\n",
       "      <td>904</td>\n",
       "      <td>4.669421</td>\n",
       "      <td>627</td>\n",
       "      <td>0.678373</td>\n",
       "      <td>6.883263</td>\n",
       "    </tr>\n",
       "    <tr>\n",
       "      <th>33</th>\n",
       "      <td>Bacteria</td>\n",
       "      <td>970</td>\n",
       "      <td>5.010331</td>\n",
       "      <td>7468</td>\n",
       "      <td>8.079890</td>\n",
       "      <td>0.620099</td>\n",
       "    </tr>\n",
       "    <tr>\n",
       "      <th>420</th>\n",
       "      <td>root</td>\n",
       "      <td>1144</td>\n",
       "      <td>5.909091</td>\n",
       "      <td>786</td>\n",
       "      <td>0.850401</td>\n",
       "      <td>6.948595</td>\n",
       "    </tr>\n",
       "    <tr>\n",
       "      <th>225</th>\n",
       "      <td>Micromonas commoda</td>\n",
       "      <td>1948</td>\n",
       "      <td>10.061983</td>\n",
       "      <td>185</td>\n",
       "      <td>0.200158</td>\n",
       "      <td>50.270213</td>\n",
       "    </tr>\n",
       "    <tr>\n",
       "      <th>224</th>\n",
       "      <td>Micromonas</td>\n",
       "      <td>1950</td>\n",
       "      <td>10.072314</td>\n",
       "      <td>108</td>\n",
       "      <td>0.116849</td>\n",
       "      <td>86.199423</td>\n",
       "    </tr>\n",
       "  </tbody>\n",
       "</table>\n",
       "<p>467 rows × 6 columns</p>\n",
       "</div>"
      ],
      "text/plain": [
       "                                              tax_name   0_x  percent_99  \\\n",
       "91                                       Chlorophyceae     1    0.005165   \n",
       "362                                      Spongiibacter     1    0.005165   \n",
       "120                                     Cycloclasticus     1    0.005165   \n",
       "221  Microbacteriaceae bacterium BACL25 MAG-120322-...     1    0.005165   \n",
       "115   Cryomorphaceae bacterium BACL22 MAG-120619-bin32     1    0.005165   \n",
       "465   uncultured marine microorganism HF4000_ANIW141I9     1    0.005165   \n",
       "104                                          Colwellia     1    0.005165   \n",
       "236                                   Nitrosopumilales     1    0.005165   \n",
       "349                                        Schizophora     1    0.005165   \n",
       "96     Chromatiales bacterium (ex Bugula neritina AB1)     1    0.005165   \n",
       "238                                Nitrospina gracilis     1    0.005165   \n",
       "242                                        Nitrospirae     1    0.005165   \n",
       "363                             Spongiibacter tropicus     1    0.005165   \n",
       "87                                     Cetartiodactyla     1    0.005165   \n",
       "348                                      Sarcopterygii     1    0.005165   \n",
       "246             OM182 bacterium BACL3 MAG-120924-bin41     1    0.005165   \n",
       "80                               Candidatus Thioglobus     1    0.005165   \n",
       "79             Candidatus Thiodiazotropha endolucinida     1    0.005165   \n",
       "78                   Candidatus Thalassoarchaea marina     1    0.005165   \n",
       "425                unclassified Actinobacteria (class)     1    0.005165   \n",
       "72                             Candidatus Pelagibacter     1    0.005165   \n",
       "343  Salmonella enterica subsp. enterica serovar Mo...     1    0.005165   \n",
       "342                                      Salinisphaera     1    0.005165   \n",
       "255                               Oleispira antarctica     1    0.005165   \n",
       "429              unclassified Bacteria (miscellaneous)     1    0.005165   \n",
       "244             OM182 bacterium BACL3 MAG-120507-bin80     1    0.005165   \n",
       "413                marine actinobacterium MedAcidi-G2A     1    0.005165   \n",
       "128                                Desulfovibrionaceae     1    0.005165   \n",
       "411                     gamma proteobacterium IMCC3088     1    0.005165   \n",
       "180                                           Hirschia     1    0.005165   \n",
       "..                                                 ...   ...         ...   \n",
       "193                                     Kinetoplastida    97    0.501033   \n",
       "177                                       Haptophyceae   105    0.542355   \n",
       "15                               Alteromonas macleodii   106    0.547521   \n",
       "67                   Candidatus Entotheonella sp. TSY1   118    0.609504   \n",
       "276        Pelagibacteraceae bacterium ETNP-OMZ-SAG-A6   120    0.619835   \n",
       "155                                  Flavobacteriaceae   123    0.635331   \n",
       "99                        Chrysochromulina sp. CCMP291   125    0.645661   \n",
       "137                         Emiliania huxleyi CCMP1516   133    0.686983   \n",
       "263                                 Ostreococcus tauri   155    0.800620   \n",
       "405                              environmental samples   161    0.831612   \n",
       "394                                      Viridiplantae   198    1.022727   \n",
       "37                                       Bacteroidetes   215    1.110537   \n",
       "267                                Oxytricha trifallax   220    1.136364   \n",
       "262                   Ostreococcus lucimarinus CCE9901   232    1.198347   \n",
       "463           uncultured marine group II euryarchaeote   235    1.213843   \n",
       "261                                       Ostreococcus   247    1.275826   \n",
       "298                                     Proteobacteria   312    1.611570   \n",
       "404                                 cellular organisms   349    1.802686   \n",
       "165                                Gammaproteobacteria   364    1.880165   \n",
       "42                                Bathycoccus prasinos   374    1.931818   \n",
       "11                                         Alteromonas   440    2.272727   \n",
       "226                        Micromonas pusilla CCMP1545   593    3.063017   \n",
       "144                                          Eukaryota   606    3.130165   \n",
       "210                                        Mamiellales   751    3.879132   \n",
       "395                   Vitrella brassicaformis CCMP3155   889    4.591942   \n",
       "268                                       Oxytrichidae   904    4.669421   \n",
       "33                                            Bacteria   970    5.010331   \n",
       "420                                               root  1144    5.909091   \n",
       "225                                 Micromonas commoda  1948   10.061983   \n",
       "224                                         Micromonas  1950   10.072314   \n",
       "\n",
       "      0_y  percent_01    increase  \n",
       "91      1    0.001082    4.774122  \n",
       "362    53    0.057343    0.090078  \n",
       "120    23    0.024885    0.207571  \n",
       "221    12    0.012983    0.397843  \n",
       "115    20    0.021639    0.238706  \n",
       "465     2    0.002164    2.387061  \n",
       "104     7    0.007574    0.682017  \n",
       "236     4    0.004328    1.193530  \n",
       "349    13    0.014065    0.367240  \n",
       "96     27    0.029212    0.176819  \n",
       "238    31    0.033540    0.154004  \n",
       "242    19    0.020557    0.251270  \n",
       "363    56    0.060588    0.085252  \n",
       "87      1    0.001082    4.774122  \n",
       "348     1    0.001082    4.774122  \n",
       "246     8    0.008655    0.596765  \n",
       "80     27    0.029212    0.176819  \n",
       "79     15    0.016229    0.318275  \n",
       "78     11    0.011901    0.434011  \n",
       "425     3    0.003246    1.591374  \n",
       "72     38    0.041114    0.125635  \n",
       "343    17    0.018393    0.280831  \n",
       "342    20    0.021639    0.238706  \n",
       "255    98    0.106030    0.048716  \n",
       "429     6    0.006492    0.795687  \n",
       "244    76    0.082227    0.062817  \n",
       "413    12    0.012983    0.397843  \n",
       "128    10    0.010819    0.477412  \n",
       "411     6    0.006492    0.795687  \n",
       "180    14    0.015147    0.341009  \n",
       "..    ...         ...         ...  \n",
       "193     1    0.001082  463.089824  \n",
       "177   277    0.299696    1.809685  \n",
       "15    145    0.156881    3.490048  \n",
       "67     10    0.010819   56.334638  \n",
       "276    17    0.018393   33.699684  \n",
       "155  1614    1.746243    0.363827  \n",
       "99    103    0.111439    5.793837  \n",
       "137    84    0.090883    7.559026  \n",
       "263    68    0.073572   10.882190  \n",
       "405   372    0.402480    2.066219  \n",
       "394   225    0.243435    4.201227  \n",
       "37   3360    3.635301    0.305487  \n",
       "267   318    0.344055    3.302852  \n",
       "262    23    0.024885   48.156360  \n",
       "463   292    0.315925    3.842187  \n",
       "261    27    0.029212   43.674374  \n",
       "298  3574    3.866835    0.416767  \n",
       "404  2782    3.009943    0.598910  \n",
       "165  8771    9.489651    0.198128  \n",
       "42    163    0.176355   10.954120  \n",
       "11   2111    2.283965    0.995080  \n",
       "226    30    0.032458   94.368476  \n",
       "144  2894    3.131120    0.999695  \n",
       "210   145    0.156881   24.726659  \n",
       "395    15    0.016229  282.946291  \n",
       "268   627    0.678373    6.883263  \n",
       "33   7468    8.079890    0.620099  \n",
       "420   786    0.850401    6.948595  \n",
       "225   185    0.200158   50.270213  \n",
       "224   108    0.116849   86.199423  \n",
       "\n",
       "[467 rows x 6 columns]"
      ]
     },
     "execution_count": 132,
     "metadata": {},
     "output_type": "execute_result"
    }
   ],
   "source": [
    "tax_name.sort_values(by='percent_99')"
   ]
  },
  {
   "cell_type": "code",
   "execution_count": 133,
   "metadata": {},
   "outputs": [
    {
     "data": {
      "text/plain": [
       "0.05109959107447597"
      ]
     },
     "execution_count": 133,
     "metadata": {},
     "output_type": "execute_result"
    }
   ],
   "source": [
    "1587.0/31057"
   ]
  },
  {
   "cell_type": "code",
   "execution_count": 134,
   "metadata": {},
   "outputs": [
    {
     "data": {
      "text/plain": [
       "tax_id\n",
       "-2           128\n",
       " 1          1744\n",
       " 2          1587\n",
       " 22           15\n",
       " 29           16\n",
       " 85            6\n",
       " 126          11\n",
       " 137           1\n",
       " 146           2\n",
       " 226         731\n",
       " 237          12\n",
       " 286         178\n",
       " 287           5\n",
       " 316          13\n",
       " 356          43\n",
       " 444           4\n",
       " 469          17\n",
       " 506           1\n",
       " 520           6\n",
       " 531           5\n",
       " 543           5\n",
       " 562          14\n",
       " 641           9\n",
       " 657          15\n",
       " 662          20\n",
       " 766           6\n",
       " 838          11\n",
       " 933           4\n",
       " 958           8\n",
       " 963          12\n",
       "            ... \n",
       " 1783270      39\n",
       " 1783272      52\n",
       " 1783276       6\n",
       " 1794811      37\n",
       " 1797909       9\n",
       " 1798416       7\n",
       " 1798559       4\n",
       " 1802260       7\n",
       " 1802339       1\n",
       " 1802371      18\n",
       " 1805240       9\n",
       " 1812810       9\n",
       " 1813033       3\n",
       " 1817868      27\n",
       " 1822214       3\n",
       " 1822215       3\n",
       " 1822250     124\n",
       " 1822263       7\n",
       " 1853229       5\n",
       " 1853230      13\n",
       " 1853232       2\n",
       " 1855377      17\n",
       " 1856405      16\n",
       " 1868282       1\n",
       " 1873462      16\n",
       " 1890424       8\n",
       " 1890450       9\n",
       " 1891197       6\n",
       " 1891202     144\n",
       " 1904754       2\n",
       "Length: 594, dtype: int64"
      ]
     },
     "execution_count": 134,
     "metadata": {},
     "output_type": "execute_result"
    }
   ],
   "source": [
    "predict_nonvirus[predict_nonvirus.probability>0.9].groupby('tax_id').size()"
   ]
  },
  {
   "cell_type": "code",
   "execution_count": 135,
   "metadata": {},
   "outputs": [
    {
     "data": {
      "text/plain": [
       "rank\n",
       "-2                   128\n",
       "class               1224\n",
       "family              2846\n",
       "genus               4805\n",
       "infraclass            31\n",
       "infraorder             1\n",
       "kingdom              330\n",
       "no rank             7837\n",
       "order               1775\n",
       "phylum              1642\n",
       "species             7654\n",
       "species group         13\n",
       "species subgroup       1\n",
       "subclass              49\n",
       "subfamily              4\n",
       "subkingdom             5\n",
       "suborder              20\n",
       "subphylum             47\n",
       "superclass             2\n",
       "superkingdom        2624\n",
       "superorder            19\n",
       "dtype: int64"
      ]
     },
     "execution_count": 135,
     "metadata": {},
     "output_type": "execute_result"
    }
   ],
   "source": [
    "predict_nonvirus[predict_nonvirus.probability>0.9].groupby('rank').size()"
   ]
  },
  {
   "cell_type": "code",
   "execution_count": 136,
   "metadata": {},
   "outputs": [
    {
     "data": {
      "text/plain": [
       "rank\n",
       "-2                     45\n",
       "171193                  4\n",
       "class               16530\n",
       "family              11575\n",
       "genus               16066\n",
       "infraclass              9\n",
       "infraorder              1\n",
       "kingdom               280\n",
       "no rank             16472\n",
       "order                7921\n",
       "phylum               9990\n",
       "species             19646\n",
       "species group          94\n",
       "species subgroup        2\n",
       "subclass               44\n",
       "subfamily             109\n",
       "subkingdom              1\n",
       "suborder                5\n",
       "subphylum              50\n",
       "subspecies             10\n",
       "superclass              1\n",
       "superfamily             1\n",
       "superkingdom        12575\n",
       "superorder              9\n",
       "dtype: int64"
      ]
     },
     "execution_count": 136,
     "metadata": {},
     "output_type": "execute_result"
    }
   ],
   "source": [
    "predict_nonvirus[predict_nonvirus.probability<0.1].groupby('rank').size()"
   ]
  },
  {
   "cell_type": "code",
   "execution_count": 137,
   "metadata": {
    "collapsed": true
   },
   "outputs": [],
   "source": [
    "predict_virus = sub_table.groupby(['label']).get_group(1.0)"
   ]
  },
  {
   "cell_type": "code",
   "execution_count": 138,
   "metadata": {},
   "outputs": [
    {
     "ename": "IOError",
     "evalue": "File /Users/qingpeng/shred.fa.score does not exist",
     "output_type": "error",
     "traceback": [
      "\u001b[0;31m---------------------------------------------------------------------------\u001b[0m",
      "\u001b[0;31mIOError\u001b[0m                                   Traceback (most recent call last)",
      "\u001b[0;32m<ipython-input-138-7b7d6359a428>\u001b[0m in \u001b[0;36m<module>\u001b[0;34m()\u001b[0m\n\u001b[0;32m----> 1\u001b[0;31m \u001b[0mresult\u001b[0m \u001b[0;34m=\u001b[0m \u001b[0mpd\u001b[0m\u001b[0;34m.\u001b[0m\u001b[0mread_csv\u001b[0m\u001b[0;34m(\u001b[0m\u001b[0;34m'/Users/qingpeng/shred.fa.score'\u001b[0m\u001b[0;34m,\u001b[0m\u001b[0msep\u001b[0m\u001b[0;34m=\u001b[0m\u001b[0;34m' '\u001b[0m\u001b[0;34m,\u001b[0m\u001b[0mheader\u001b[0m\u001b[0;34m=\u001b[0m\u001b[0mNone\u001b[0m\u001b[0;34m,\u001b[0m\u001b[0mnames\u001b[0m\u001b[0;34m=\u001b[0m\u001b[0;34m[\u001b[0m\u001b[0;34m'probability'\u001b[0m\u001b[0;34m,\u001b[0m\u001b[0;34m'prediction'\u001b[0m\u001b[0;34m]\u001b[0m\u001b[0;34m)\u001b[0m\u001b[0;34m\u001b[0m\u001b[0m\n\u001b[0m",
      "\u001b[0;32m//anaconda/lib/python2.7/site-packages/pandas/io/parsers.pyc\u001b[0m in \u001b[0;36mparser_f\u001b[0;34m(filepath_or_buffer, sep, delimiter, header, names, index_col, usecols, squeeze, prefix, mangle_dupe_cols, dtype, engine, converters, true_values, false_values, skipinitialspace, skiprows, nrows, na_values, keep_default_na, na_filter, verbose, skip_blank_lines, parse_dates, infer_datetime_format, keep_date_col, date_parser, dayfirst, iterator, chunksize, compression, thousands, decimal, lineterminator, quotechar, quoting, escapechar, comment, encoding, dialect, tupleize_cols, error_bad_lines, warn_bad_lines, skipfooter, skip_footer, doublequote, delim_whitespace, as_recarray, compact_ints, use_unsigned, low_memory, buffer_lines, memory_map, float_precision)\u001b[0m\n\u001b[1;32m    653\u001b[0m                     skip_blank_lines=skip_blank_lines)\n\u001b[1;32m    654\u001b[0m \u001b[0;34m\u001b[0m\u001b[0m\n\u001b[0;32m--> 655\u001b[0;31m         \u001b[0;32mreturn\u001b[0m \u001b[0m_read\u001b[0m\u001b[0;34m(\u001b[0m\u001b[0mfilepath_or_buffer\u001b[0m\u001b[0;34m,\u001b[0m \u001b[0mkwds\u001b[0m\u001b[0;34m)\u001b[0m\u001b[0;34m\u001b[0m\u001b[0m\n\u001b[0m\u001b[1;32m    656\u001b[0m \u001b[0;34m\u001b[0m\u001b[0m\n\u001b[1;32m    657\u001b[0m     \u001b[0mparser_f\u001b[0m\u001b[0;34m.\u001b[0m\u001b[0m__name__\u001b[0m \u001b[0;34m=\u001b[0m \u001b[0mname\u001b[0m\u001b[0;34m\u001b[0m\u001b[0m\n",
      "\u001b[0;32m//anaconda/lib/python2.7/site-packages/pandas/io/parsers.pyc\u001b[0m in \u001b[0;36m_read\u001b[0;34m(filepath_or_buffer, kwds)\u001b[0m\n\u001b[1;32m    403\u001b[0m \u001b[0;34m\u001b[0m\u001b[0m\n\u001b[1;32m    404\u001b[0m     \u001b[0;31m# Create the parser.\u001b[0m\u001b[0;34m\u001b[0m\u001b[0;34m\u001b[0m\u001b[0m\n\u001b[0;32m--> 405\u001b[0;31m     \u001b[0mparser\u001b[0m \u001b[0;34m=\u001b[0m \u001b[0mTextFileReader\u001b[0m\u001b[0;34m(\u001b[0m\u001b[0mfilepath_or_buffer\u001b[0m\u001b[0;34m,\u001b[0m \u001b[0;34m**\u001b[0m\u001b[0mkwds\u001b[0m\u001b[0;34m)\u001b[0m\u001b[0;34m\u001b[0m\u001b[0m\n\u001b[0m\u001b[1;32m    406\u001b[0m \u001b[0;34m\u001b[0m\u001b[0m\n\u001b[1;32m    407\u001b[0m     \u001b[0;32mif\u001b[0m \u001b[0mchunksize\u001b[0m \u001b[0;32mor\u001b[0m \u001b[0miterator\u001b[0m\u001b[0;34m:\u001b[0m\u001b[0;34m\u001b[0m\u001b[0m\n",
      "\u001b[0;32m//anaconda/lib/python2.7/site-packages/pandas/io/parsers.pyc\u001b[0m in \u001b[0;36m__init__\u001b[0;34m(self, f, engine, **kwds)\u001b[0m\n\u001b[1;32m    760\u001b[0m             \u001b[0mself\u001b[0m\u001b[0;34m.\u001b[0m\u001b[0moptions\u001b[0m\u001b[0;34m[\u001b[0m\u001b[0;34m'has_index_names'\u001b[0m\u001b[0;34m]\u001b[0m \u001b[0;34m=\u001b[0m \u001b[0mkwds\u001b[0m\u001b[0;34m[\u001b[0m\u001b[0;34m'has_index_names'\u001b[0m\u001b[0;34m]\u001b[0m\u001b[0;34m\u001b[0m\u001b[0m\n\u001b[1;32m    761\u001b[0m \u001b[0;34m\u001b[0m\u001b[0m\n\u001b[0;32m--> 762\u001b[0;31m         \u001b[0mself\u001b[0m\u001b[0;34m.\u001b[0m\u001b[0m_make_engine\u001b[0m\u001b[0;34m(\u001b[0m\u001b[0mself\u001b[0m\u001b[0;34m.\u001b[0m\u001b[0mengine\u001b[0m\u001b[0;34m)\u001b[0m\u001b[0;34m\u001b[0m\u001b[0m\n\u001b[0m\u001b[1;32m    763\u001b[0m \u001b[0;34m\u001b[0m\u001b[0m\n\u001b[1;32m    764\u001b[0m     \u001b[0;32mdef\u001b[0m \u001b[0mclose\u001b[0m\u001b[0;34m(\u001b[0m\u001b[0mself\u001b[0m\u001b[0;34m)\u001b[0m\u001b[0;34m:\u001b[0m\u001b[0;34m\u001b[0m\u001b[0m\n",
      "\u001b[0;32m//anaconda/lib/python2.7/site-packages/pandas/io/parsers.pyc\u001b[0m in \u001b[0;36m_make_engine\u001b[0;34m(self, engine)\u001b[0m\n\u001b[1;32m    964\u001b[0m     \u001b[0;32mdef\u001b[0m \u001b[0m_make_engine\u001b[0m\u001b[0;34m(\u001b[0m\u001b[0mself\u001b[0m\u001b[0;34m,\u001b[0m \u001b[0mengine\u001b[0m\u001b[0;34m=\u001b[0m\u001b[0;34m'c'\u001b[0m\u001b[0;34m)\u001b[0m\u001b[0;34m:\u001b[0m\u001b[0;34m\u001b[0m\u001b[0m\n\u001b[1;32m    965\u001b[0m         \u001b[0;32mif\u001b[0m \u001b[0mengine\u001b[0m \u001b[0;34m==\u001b[0m \u001b[0;34m'c'\u001b[0m\u001b[0;34m:\u001b[0m\u001b[0;34m\u001b[0m\u001b[0m\n\u001b[0;32m--> 966\u001b[0;31m             \u001b[0mself\u001b[0m\u001b[0;34m.\u001b[0m\u001b[0m_engine\u001b[0m \u001b[0;34m=\u001b[0m \u001b[0mCParserWrapper\u001b[0m\u001b[0;34m(\u001b[0m\u001b[0mself\u001b[0m\u001b[0;34m.\u001b[0m\u001b[0mf\u001b[0m\u001b[0;34m,\u001b[0m \u001b[0;34m**\u001b[0m\u001b[0mself\u001b[0m\u001b[0;34m.\u001b[0m\u001b[0moptions\u001b[0m\u001b[0;34m)\u001b[0m\u001b[0;34m\u001b[0m\u001b[0m\n\u001b[0m\u001b[1;32m    967\u001b[0m         \u001b[0;32melse\u001b[0m\u001b[0;34m:\u001b[0m\u001b[0;34m\u001b[0m\u001b[0m\n\u001b[1;32m    968\u001b[0m             \u001b[0;32mif\u001b[0m \u001b[0mengine\u001b[0m \u001b[0;34m==\u001b[0m \u001b[0;34m'python'\u001b[0m\u001b[0;34m:\u001b[0m\u001b[0;34m\u001b[0m\u001b[0m\n",
      "\u001b[0;32m//anaconda/lib/python2.7/site-packages/pandas/io/parsers.pyc\u001b[0m in \u001b[0;36m__init__\u001b[0;34m(self, src, **kwds)\u001b[0m\n\u001b[1;32m   1580\u001b[0m         \u001b[0mkwds\u001b[0m\u001b[0;34m[\u001b[0m\u001b[0;34m'allow_leading_cols'\u001b[0m\u001b[0;34m]\u001b[0m \u001b[0;34m=\u001b[0m \u001b[0mself\u001b[0m\u001b[0;34m.\u001b[0m\u001b[0mindex_col\u001b[0m \u001b[0;32mis\u001b[0m \u001b[0;32mnot\u001b[0m \u001b[0mFalse\u001b[0m\u001b[0;34m\u001b[0m\u001b[0m\n\u001b[1;32m   1581\u001b[0m \u001b[0;34m\u001b[0m\u001b[0m\n\u001b[0;32m-> 1582\u001b[0;31m         \u001b[0mself\u001b[0m\u001b[0;34m.\u001b[0m\u001b[0m_reader\u001b[0m \u001b[0;34m=\u001b[0m \u001b[0mparsers\u001b[0m\u001b[0;34m.\u001b[0m\u001b[0mTextReader\u001b[0m\u001b[0;34m(\u001b[0m\u001b[0msrc\u001b[0m\u001b[0;34m,\u001b[0m \u001b[0;34m**\u001b[0m\u001b[0mkwds\u001b[0m\u001b[0;34m)\u001b[0m\u001b[0;34m\u001b[0m\u001b[0m\n\u001b[0m\u001b[1;32m   1583\u001b[0m \u001b[0;34m\u001b[0m\u001b[0m\n\u001b[1;32m   1584\u001b[0m         \u001b[0;31m# XXX\u001b[0m\u001b[0;34m\u001b[0m\u001b[0;34m\u001b[0m\u001b[0m\n",
      "\u001b[0;32mpandas/_libs/parsers.pyx\u001b[0m in \u001b[0;36mpandas._libs.parsers.TextReader.__cinit__ (pandas/_libs/parsers.c:4209)\u001b[0;34m()\u001b[0m\n",
      "\u001b[0;32mpandas/_libs/parsers.pyx\u001b[0m in \u001b[0;36mpandas._libs.parsers.TextReader._setup_parser_source (pandas/_libs/parsers.c:8873)\u001b[0;34m()\u001b[0m\n",
      "\u001b[0;31mIOError\u001b[0m: File /Users/qingpeng/shred.fa.score does not exist"
     ]
    }
   ],
   "source": [
    "result = pd.read_csv('/Users/qingpeng/shred.fa.score',sep=' ',header=None,names=['probability','prediction'])"
   ]
  },
  {
   "cell_type": "code",
   "execution_count": null,
   "metadata": {},
   "outputs": [],
   "source": [
    "result"
   ]
  },
  {
   "cell_type": "code",
   "execution_count": null,
   "metadata": {},
   "outputs": [],
   "source": [
    "result.probability.plot.hist(bins=100)"
   ]
  },
  {
   "cell_type": "code",
   "execution_count": null,
   "metadata": {
    "collapsed": true
   },
   "outputs": [],
   "source": []
  }
 ],
 "metadata": {
  "kernelspec": {
   "display_name": "Python 2",
   "language": "python",
   "name": "python2"
  },
  "language_info": {
   "codemirror_mode": {
    "name": "ipython",
    "version": 2
   },
   "file_extension": ".py",
   "mimetype": "text/x-python",
   "name": "python",
   "nbconvert_exporter": "python",
   "pygments_lexer": "ipython2",
   "version": "2.7.12"
  }
 },
 "nbformat": 4,
 "nbformat_minor": 1
}
