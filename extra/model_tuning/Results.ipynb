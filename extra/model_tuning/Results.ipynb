{
 "cells": [
  {
   "cell_type": "markdown",
   "metadata": {},
   "source": [
    "## Training Model using Developer datasets\n",
    "\n",
    "Using scikit-learn...\n",
    "\n",
    "with Pfam, sparse... no median\n",
    "\n",
    "without Pfam, sparse... scaler to median ,to  see difference...\n",
    "\n"
   ]
  },
  {
   "cell_type": "markdown",
   "metadata": {},
   "source": [
    "## Training model using all datasets\n",
    "\n",
    "### Purpose\n",
    "- generate model to ship with package\n",
    "- decide if we want to keep pfam/vfam features\n"
   ]
  },
  {
   "cell_type": "markdown",
   "metadata": {},
   "source": [
    "### tried Spark Mllib\n",
    "\n",
    "Couldn't finish due to memory usage issue.\n",
    "\n",
    "Tried StandardScaler, does not improve."
   ]
  },
  {
   "cell_type": "markdown",
   "metadata": {},
   "source": [
    "### Tried Scikit-learn\n",
    "\n",
    "without standardscaler... "
   ]
  },
  {
   "cell_type": "markdown",
   "metadata": {},
   "source": [
    "```\n",
    "scikit_without_pfam.qsub\n",
    "scikit_without_pfam_debug.qsub\n",
    "```\n",
    "\n",
    "previously, all use standardscaler.. try this using scikit learn.\n",
    "\n",
    "Then to see the performance\n",
    "\n",
    "and compare the parameters between MLlib and scikit learn\n",
    "\n",
    "\n",
    "#### with \"weight\" option off\n",
    "\n",
    "```\n",
    "  852  python ~/Github/jgi-ViCA/scripts/sklearn_evaluate_model.py ../../testing.vect.0_1 all_segment.fasta.vect.family.training.svmlib.no4.0_1_scikit_model all_segment.fasta.vect.family.training.svmlib.no4.0_1_scikit_model.evaluation_report\n",
    "  853  python ~/Github/jgi-ViCA/scripts/sklearn_evaluate_model.py ../../testing.vect all_segment.fasta.vect.family.training.svmlib.no4_scikit_model all_segment.fasta.vect.family.training.svmlib.no4_scikit_model_evaluate_report\n",
    "  ```\n",
    "\n",
    "With Pfam:\n",
    "```\n",
    "auprc=0.927696899665\n",
    "confusion_matrix:\n",
    "4983 17\n",
    "3280 1720\n",
    "```\n",
    "\n",
    "Without Pfam:\n",
    "```\n",
    "auprc=0.50460773337\n",
    "confusion_matrix:\n",
    "5000 0\n",
    "5000 0\n",
    "```\n",
    "\n",
    "\n",
    "#### with \"weight\" option on\n",
    "With Pfam:\n",
    "```\n",
    "auprc=0.936991747843\n",
    "confusion_matrix:\n",
    "3850 1150\n",
    "561 4439\n",
    "```\n",
    "\n",
    "Without Pfam:\n",
    "```\n",
    "auprc=0.578419200156\n",
    "confusion_matrix:\n",
    "2167 2833\n",
    "2317 2683\n",
    "```\n",
    "\n",
    "\n",
    "\n"
   ]
  },
  {
   "cell_type": "markdown",
   "metadata": {},
   "source": [
    "## Try scikit learn using StandardScaler, as Spark, to compare"
   ]
  },
  {
   "cell_type": "code",
   "execution_count": null,
   "metadata": {
    "collapsed": true
   },
   "outputs": [],
   "source": []
  }
 ],
 "metadata": {
  "kernelspec": {
   "display_name": "Python 2",
   "language": "python",
   "name": "python2"
  },
  "language_info": {
   "codemirror_mode": {
    "name": "ipython",
    "version": 2
   },
   "file_extension": ".py",
   "mimetype": "text/x-python",
   "name": "python",
   "nbconvert_exporter": "python",
   "pygments_lexer": "ipython2",
   "version": "2.7.12"
  }
 },
 "nbformat": 4,
 "nbformat_minor": 0
}
