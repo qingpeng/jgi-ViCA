{
 "cells": [
  {
   "cell_type": "code",
   "execution_count": 1,
   "metadata": {
    "collapsed": true
   },
   "outputs": [],
   "source": [
    "%matplotlib inline"
   ]
  },
  {
   "cell_type": "code",
   "execution_count": 2,
   "metadata": {
    "collapsed": true
   },
   "outputs": [],
   "source": [
    "import pandas as pd\n",
    "import numpy as np\n",
    "import matplotlib.pyplot as plt"
   ]
  },
  {
   "cell_type": "code",
   "execution_count": 43,
   "metadata": {
    "collapsed": true
   },
   "outputs": [],
   "source": [
    "\n",
    "from sklearn.datasets import load_svmlight_file\n",
    "from sklearn.externals import joblib\n",
    "import argparse\n",
    "from sklearn.metrics import average_precision_score\n",
    "from sklearn.metrics import confusion_matrix, precision_recall_curve\n",
    "from sklearn.metrics import classification_report"
   ]
  },
  {
   "cell_type": "code",
   "execution_count": 3,
   "metadata": {
    "collapsed": false
   },
   "outputs": [],
   "source": [
    "result = pd.read_csv('/global/projectb/scratch/qpzhang/TARA/Libsvm/all_2k_prediction.out.label.prediction_combined',sep=' ',header=None,names=['name','length','probability','prediction','vfam','pfam','diamond','label',\n",
    "                                                                                       'score_euk_non_euk','pred_euk_non_euk','score_non_euk_virus','pred_non_euk_virus',\n",
    "                                                                                      'score_virus_non_virus','pred_virus_non_virus'])"
   ]
  },
  {
   "cell_type": "code",
   "execution_count": 4,
   "metadata": {
    "collapsed": false
   },
   "outputs": [
    {
     "data": {
      "text/plain": [
       "213723"
      ]
     },
     "execution_count": 4,
     "metadata": {},
     "output_type": "execute_result"
    }
   ],
   "source": [
    "len(result)"
   ]
  },
  {
   "cell_type": "code",
   "execution_count": 5,
   "metadata": {
    "collapsed": false
   },
   "outputs": [
    {
     "data": {
      "text/plain": [
       "6913"
      ]
     },
     "execution_count": 5,
     "metadata": {},
     "output_type": "execute_result"
    }
   ],
   "source": [
    "len(result[result.label==1.0])"
   ]
  },
  {
   "cell_type": "markdown",
   "metadata": {},
   "source": [
    "### Formular to calcuate hybrid probability score from score from old model and euk/non-euk model"
   ]
  },
  {
   "cell_type": "code",
   "execution_count": 6,
   "metadata": {
    "collapsed": true
   },
   "outputs": [],
   "source": [
    "result[\"hybrid_probability\"] = (result[\"score_euk_non_euk\"] * result[\"probability\"])**0.5"
   ]
  },
  {
   "cell_type": "code",
   "execution_count": 7,
   "metadata": {
    "collapsed": true
   },
   "outputs": [],
   "source": [
    "result[\"hybrid_prediction\"] = (result.hybrid_probability >0.5)"
   ]
  },
  {
   "cell_type": "code",
   "execution_count": 8,
   "metadata": {
    "collapsed": false,
    "scrolled": true
   },
   "outputs": [
    {
     "data": {
      "text/html": [
       "<div>\n",
       "<table border=\"1\" class=\"dataframe\">\n",
       "  <thead>\n",
       "    <tr style=\"text-align: right;\">\n",
       "      <th></th>\n",
       "      <th>name</th>\n",
       "      <th>length</th>\n",
       "      <th>probability</th>\n",
       "      <th>prediction</th>\n",
       "      <th>vfam</th>\n",
       "      <th>pfam</th>\n",
       "      <th>diamond</th>\n",
       "      <th>label</th>\n",
       "      <th>score_euk_non_euk</th>\n",
       "      <th>pred_euk_non_euk</th>\n",
       "      <th>score_non_euk_virus</th>\n",
       "      <th>pred_non_euk_virus</th>\n",
       "      <th>score_virus_non_virus</th>\n",
       "      <th>pred_virus_non_virus</th>\n",
       "      <th>hybrid_probability</th>\n",
       "      <th>hybrid_prediction</th>\n",
       "    </tr>\n",
       "  </thead>\n",
       "  <tbody>\n",
       "    <tr>\n",
       "      <th>0</th>\n",
       "      <td>NODE_1_length_91451_cov_163.114_g0_i0</td>\n",
       "      <td>91451</td>\n",
       "      <td>0.000375</td>\n",
       "      <td>0.0</td>\n",
       "      <td>0.0</td>\n",
       "      <td>0.0</td>\n",
       "      <td>0.0</td>\n",
       "      <td>0.0</td>\n",
       "      <td>0.000025</td>\n",
       "      <td>0.0</td>\n",
       "      <td>0.996004</td>\n",
       "      <td>1.0</td>\n",
       "      <td>0.001954</td>\n",
       "      <td>0.0</td>\n",
       "      <td>0.000097</td>\n",
       "      <td>False</td>\n",
       "    </tr>\n",
       "    <tr>\n",
       "      <th>1</th>\n",
       "      <td>NODE_2_length_74096_cov_303.895_g1_i0</td>\n",
       "      <td>74096</td>\n",
       "      <td>0.000088</td>\n",
       "      <td>0.0</td>\n",
       "      <td>0.0</td>\n",
       "      <td>0.0</td>\n",
       "      <td>0.0</td>\n",
       "      <td>0.0</td>\n",
       "      <td>0.000012</td>\n",
       "      <td>0.0</td>\n",
       "      <td>0.995278</td>\n",
       "      <td>1.0</td>\n",
       "      <td>0.000529</td>\n",
       "      <td>0.0</td>\n",
       "      <td>0.000032</td>\n",
       "      <td>False</td>\n",
       "    </tr>\n",
       "    <tr>\n",
       "      <th>2</th>\n",
       "      <td>NODE_3_length_66420_cov_268.59_g1_i1</td>\n",
       "      <td>66420</td>\n",
       "      <td>0.000041</td>\n",
       "      <td>0.0</td>\n",
       "      <td>0.0</td>\n",
       "      <td>0.0</td>\n",
       "      <td>0.0</td>\n",
       "      <td>0.0</td>\n",
       "      <td>0.000009</td>\n",
       "      <td>0.0</td>\n",
       "      <td>0.996629</td>\n",
       "      <td>1.0</td>\n",
       "      <td>0.000761</td>\n",
       "      <td>0.0</td>\n",
       "      <td>0.000019</td>\n",
       "      <td>False</td>\n",
       "    </tr>\n",
       "    <tr>\n",
       "      <th>3</th>\n",
       "      <td>NODE_4_length_61338_cov_317.585_g2_i0</td>\n",
       "      <td>61338</td>\n",
       "      <td>0.000056</td>\n",
       "      <td>0.0</td>\n",
       "      <td>0.0</td>\n",
       "      <td>0.0</td>\n",
       "      <td>0.0</td>\n",
       "      <td>0.0</td>\n",
       "      <td>0.000008</td>\n",
       "      <td>0.0</td>\n",
       "      <td>0.991967</td>\n",
       "      <td>1.0</td>\n",
       "      <td>0.000477</td>\n",
       "      <td>0.0</td>\n",
       "      <td>0.000021</td>\n",
       "      <td>False</td>\n",
       "    </tr>\n",
       "    <tr>\n",
       "      <th>4</th>\n",
       "      <td>NODE_5_length_59036_cov_197.701_g0_i1</td>\n",
       "      <td>59036</td>\n",
       "      <td>0.000040</td>\n",
       "      <td>0.0</td>\n",
       "      <td>0.0</td>\n",
       "      <td>0.0</td>\n",
       "      <td>0.0</td>\n",
       "      <td>0.0</td>\n",
       "      <td>0.000008</td>\n",
       "      <td>0.0</td>\n",
       "      <td>0.990354</td>\n",
       "      <td>1.0</td>\n",
       "      <td>0.000617</td>\n",
       "      <td>0.0</td>\n",
       "      <td>0.000018</td>\n",
       "      <td>False</td>\n",
       "    </tr>\n",
       "  </tbody>\n",
       "</table>\n",
       "</div>"
      ],
      "text/plain": [
       "                                    name  length  probability  prediction  \\\n",
       "0  NODE_1_length_91451_cov_163.114_g0_i0   91451     0.000375         0.0   \n",
       "1  NODE_2_length_74096_cov_303.895_g1_i0   74096     0.000088         0.0   \n",
       "2   NODE_3_length_66420_cov_268.59_g1_i1   66420     0.000041         0.0   \n",
       "3  NODE_4_length_61338_cov_317.585_g2_i0   61338     0.000056         0.0   \n",
       "4  NODE_5_length_59036_cov_197.701_g0_i1   59036     0.000040         0.0   \n",
       "\n",
       "   vfam  pfam  diamond  label  score_euk_non_euk  pred_euk_non_euk  \\\n",
       "0   0.0   0.0      0.0    0.0           0.000025               0.0   \n",
       "1   0.0   0.0      0.0    0.0           0.000012               0.0   \n",
       "2   0.0   0.0      0.0    0.0           0.000009               0.0   \n",
       "3   0.0   0.0      0.0    0.0           0.000008               0.0   \n",
       "4   0.0   0.0      0.0    0.0           0.000008               0.0   \n",
       "\n",
       "   score_non_euk_virus  pred_non_euk_virus  score_virus_non_virus  \\\n",
       "0             0.996004                 1.0               0.001954   \n",
       "1             0.995278                 1.0               0.000529   \n",
       "2             0.996629                 1.0               0.000761   \n",
       "3             0.991967                 1.0               0.000477   \n",
       "4             0.990354                 1.0               0.000617   \n",
       "\n",
       "   pred_virus_non_virus  hybrid_probability hybrid_prediction  \n",
       "0                   0.0            0.000097             False  \n",
       "1                   0.0            0.000032             False  \n",
       "2                   0.0            0.000019             False  \n",
       "3                   0.0            0.000021             False  \n",
       "4                   0.0            0.000018             False  "
      ]
     },
     "execution_count": 8,
     "metadata": {},
     "output_type": "execute_result"
    }
   ],
   "source": [
    "result.head()"
   ]
  },
  {
   "cell_type": "code",
   "execution_count": 9,
   "metadata": {
    "collapsed": false
   },
   "outputs": [],
   "source": [
    "### Using MEGAN annotation to check model performance \n",
    "\n",
    "\n",
    "from ete2 import NCBITaxa\n",
    "ncbi = NCBITaxa()\n",
    "def get_top_label(tax_id):\n",
    "    lineage = ncbi.get_lineage(tax_id)\n",
    "    for i in lineage:\n",
    "        if i == 2759:\n",
    "            return \"Eukaryota\"\n",
    "        elif i == 10239:\n",
    "            return \"Virus\"\n",
    "        elif i == 2157:\n",
    "            return \"Archaea\"\n",
    "        elif i == 2:\n",
    "            return \"Bacteria\"\n",
    "        elif i == 12884:\n",
    "            return \"Viroids\"\n",
    "        elif i == 28384:\n",
    "            return \"other\"\n",
    "        elif i == 12908:\n",
    "            return \"unclassified\"\n",
    "    else:\n",
    "        return \"N/A\"\n",
    "\n",
    "def get_ranks(tax_id):\n",
    "    ranks = ncbi.get_rank([tax_id])\n",
    "    try:\n",
    "        return ranks.values()[0]\n",
    "    except:\n",
    "        return tax_id\n",
    "    \n",
    "def get_name(tax_id):\n",
    "    ranks = ncbi.get_taxid_translator([tax_id])\n",
    "    try:\n",
    "        return ranks.values()[0]\n",
    "    except:\n",
    "        return tax_id\n",
    "\n",
    "# get MEGAN annotation results\n",
    "\n",
    "megan_annot = pd.read_csv('/global/homes/q/qpzhang/Github/jgi-ViCA/extra/model_tuning/Micromonas/all_2k_contigs.fa.diamond-ex-all_tax_ID.txt',sep='\\t',header=None,names=['name','tax_id'])\n",
    "\n",
    "megan_annot['rank'] = megan_annot['tax_id'].apply(get_ranks)\n",
    "megan_annot['tax_name']= megan_annot['tax_id'].apply(get_name)\n",
    "megan_annot['top_label']= megan_annot['tax_id'].apply(get_top_label)\n"
   ]
  },
  {
   "cell_type": "code",
   "execution_count": 121,
   "metadata": {
    "collapsed": false
   },
   "outputs": [],
   "source": [
    "ranks = ncbi.get_lineage(186616)"
   ]
  },
  {
   "cell_type": "code",
   "execution_count": 122,
   "metadata": {
    "collapsed": false
   },
   "outputs": [
    {
     "data": {
      "text/plain": [
       "[1, 10239, 186616]"
      ]
     },
     "execution_count": 122,
     "metadata": {},
     "output_type": "execute_result"
    }
   ],
   "source": [
    "ranks"
   ]
  },
  {
   "cell_type": "code",
   "execution_count": 143,
   "metadata": {
    "collapsed": false
   },
   "outputs": [
    {
     "data": {
      "text/html": [
       "<div>\n",
       "<table border=\"1\" class=\"dataframe\">\n",
       "  <thead>\n",
       "    <tr style=\"text-align: right;\">\n",
       "      <th></th>\n",
       "      <th>name</th>\n",
       "      <th>tax_id</th>\n",
       "      <th>rank</th>\n",
       "      <th>tax_name</th>\n",
       "      <th>top_label</th>\n",
       "    </tr>\n",
       "  </thead>\n",
       "  <tbody>\n",
       "    <tr>\n",
       "      <th>0</th>\n",
       "      <td>NODE_646_length_5889_cov_28.079_g448_i0</td>\n",
       "      <td>1</td>\n",
       "      <td>no rank</td>\n",
       "      <td>root</td>\n",
       "      <td>N/A</td>\n",
       "    </tr>\n",
       "    <tr>\n",
       "      <th>1</th>\n",
       "      <td>NODE_667_length_5857_cov_28.2491_g448_i1</td>\n",
       "      <td>1</td>\n",
       "      <td>no rank</td>\n",
       "      <td>root</td>\n",
       "      <td>N/A</td>\n",
       "    </tr>\n",
       "    <tr>\n",
       "      <th>2</th>\n",
       "      <td>NODE_671_length_5843_cov_18.2623_g465_i0</td>\n",
       "      <td>1</td>\n",
       "      <td>no rank</td>\n",
       "      <td>root</td>\n",
       "      <td>N/A</td>\n",
       "    </tr>\n",
       "    <tr>\n",
       "      <th>3</th>\n",
       "      <td>NODE_806_length_5513_cov_46.199_g556_i0</td>\n",
       "      <td>1</td>\n",
       "      <td>no rank</td>\n",
       "      <td>root</td>\n",
       "      <td>N/A</td>\n",
       "    </tr>\n",
       "    <tr>\n",
       "      <th>4</th>\n",
       "      <td>NODE_807_length_5513_cov_37.6629_g556_i1</td>\n",
       "      <td>1</td>\n",
       "      <td>no rank</td>\n",
       "      <td>root</td>\n",
       "      <td>N/A</td>\n",
       "    </tr>\n",
       "  </tbody>\n",
       "</table>\n",
       "</div>"
      ],
      "text/plain": [
       "                                       name  tax_id     rank tax_name  \\\n",
       "0   NODE_646_length_5889_cov_28.079_g448_i0       1  no rank     root   \n",
       "1  NODE_667_length_5857_cov_28.2491_g448_i1       1  no rank     root   \n",
       "2  NODE_671_length_5843_cov_18.2623_g465_i0       1  no rank     root   \n",
       "3   NODE_806_length_5513_cov_46.199_g556_i0       1  no rank     root   \n",
       "4  NODE_807_length_5513_cov_37.6629_g556_i1       1  no rank     root   \n",
       "\n",
       "  top_label  \n",
       "0       N/A  \n",
       "1       N/A  \n",
       "2       N/A  \n",
       "3       N/A  \n",
       "4       N/A  "
      ]
     },
     "execution_count": 143,
     "metadata": {},
     "output_type": "execute_result"
    }
   ],
   "source": [
    "megan_annot.head()"
   ]
  },
  {
   "cell_type": "code",
   "execution_count": 145,
   "metadata": {
    "collapsed": false
   },
   "outputs": [
    {
     "data": {
      "text/plain": [
       "208302"
      ]
     },
     "execution_count": 145,
     "metadata": {},
     "output_type": "execute_result"
    }
   ],
   "source": [
    "len(megan_annot)"
   ]
  },
  {
   "cell_type": "code",
   "execution_count": 129,
   "metadata": {
    "collapsed": true
   },
   "outputs": [],
   "source": [
    "new_table = pd.merge(result,megan_annot, on=['name'])"
   ]
  },
  {
   "cell_type": "markdown",
   "metadata": {},
   "source": [
    "### 7041 contigs as ground-truth virus-related, with hits to virus-related domains, or annotated as virus by MEGAN based on BlastX/Diamond alignment"
   ]
  },
  {
   "cell_type": "code",
   "execution_count": 142,
   "metadata": {
    "collapsed": false
   },
   "outputs": [
    {
     "data": {
      "text/plain": [
       "7041"
      ]
     },
     "execution_count": 142,
     "metadata": {},
     "output_type": "execute_result"
    }
   ],
   "source": [
    "len(new_table[new_table.label==1.0])"
   ]
  },
  {
   "cell_type": "markdown",
   "metadata": {},
   "source": [
    "### 208302 contigs with length >=2k, in TARA\n"
   ]
  },
  {
   "cell_type": "code",
   "execution_count": 144,
   "metadata": {
    "collapsed": false
   },
   "outputs": [
    {
     "data": {
      "text/plain": [
       "208302"
      ]
     },
     "execution_count": 144,
     "metadata": {},
     "output_type": "execute_result"
    }
   ],
   "source": [
    "len(new_table)"
   ]
  },
  {
   "cell_type": "code",
   "execution_count": 130,
   "metadata": {
    "collapsed": false
   },
   "outputs": [
    {
     "data": {
      "text/html": [
       "<div>\n",
       "<table border=\"1\" class=\"dataframe\">\n",
       "  <thead>\n",
       "    <tr style=\"text-align: right;\">\n",
       "      <th></th>\n",
       "      <th>name</th>\n",
       "      <th>length</th>\n",
       "      <th>probability</th>\n",
       "      <th>prediction</th>\n",
       "      <th>vfam</th>\n",
       "      <th>pfam</th>\n",
       "      <th>diamond</th>\n",
       "      <th>label</th>\n",
       "      <th>score_euk_non_euk</th>\n",
       "      <th>pred_euk_non_euk</th>\n",
       "      <th>score_non_euk_virus</th>\n",
       "      <th>pred_non_euk_virus</th>\n",
       "      <th>score_virus_non_virus</th>\n",
       "      <th>pred_virus_non_virus</th>\n",
       "      <th>hybrid_probability</th>\n",
       "      <th>hybrid_prediction</th>\n",
       "      <th>tax_id</th>\n",
       "      <th>rank</th>\n",
       "      <th>tax_name</th>\n",
       "      <th>top_label</th>\n",
       "    </tr>\n",
       "  </thead>\n",
       "  <tbody>\n",
       "    <tr>\n",
       "      <th>0</th>\n",
       "      <td>NODE_1_length_91451_cov_163.114_g0_i0</td>\n",
       "      <td>91451</td>\n",
       "      <td>0.000375</td>\n",
       "      <td>0.0</td>\n",
       "      <td>0.0</td>\n",
       "      <td>0.0</td>\n",
       "      <td>0.0</td>\n",
       "      <td>0.0</td>\n",
       "      <td>0.000025</td>\n",
       "      <td>0.0</td>\n",
       "      <td>0.996004</td>\n",
       "      <td>1.0</td>\n",
       "      <td>0.001954</td>\n",
       "      <td>0.0</td>\n",
       "      <td>0.000097</td>\n",
       "      <td>False</td>\n",
       "      <td>1236</td>\n",
       "      <td>class</td>\n",
       "      <td>Gammaproteobacteria</td>\n",
       "      <td>Bacteria</td>\n",
       "    </tr>\n",
       "    <tr>\n",
       "      <th>1</th>\n",
       "      <td>NODE_2_length_74096_cov_303.895_g1_i0</td>\n",
       "      <td>74096</td>\n",
       "      <td>0.000088</td>\n",
       "      <td>0.0</td>\n",
       "      <td>0.0</td>\n",
       "      <td>0.0</td>\n",
       "      <td>0.0</td>\n",
       "      <td>0.0</td>\n",
       "      <td>0.000012</td>\n",
       "      <td>0.0</td>\n",
       "      <td>0.995278</td>\n",
       "      <td>1.0</td>\n",
       "      <td>0.000529</td>\n",
       "      <td>0.0</td>\n",
       "      <td>0.000032</td>\n",
       "      <td>False</td>\n",
       "      <td>254161</td>\n",
       "      <td>species</td>\n",
       "      <td>Pseudomonas pachastrellae</td>\n",
       "      <td>Bacteria</td>\n",
       "    </tr>\n",
       "    <tr>\n",
       "      <th>2</th>\n",
       "      <td>NODE_3_length_66420_cov_268.59_g1_i1</td>\n",
       "      <td>66420</td>\n",
       "      <td>0.000041</td>\n",
       "      <td>0.0</td>\n",
       "      <td>0.0</td>\n",
       "      <td>0.0</td>\n",
       "      <td>0.0</td>\n",
       "      <td>0.0</td>\n",
       "      <td>0.000009</td>\n",
       "      <td>0.0</td>\n",
       "      <td>0.996629</td>\n",
       "      <td>1.0</td>\n",
       "      <td>0.000761</td>\n",
       "      <td>0.0</td>\n",
       "      <td>0.000019</td>\n",
       "      <td>False</td>\n",
       "      <td>254161</td>\n",
       "      <td>species</td>\n",
       "      <td>Pseudomonas pachastrellae</td>\n",
       "      <td>Bacteria</td>\n",
       "    </tr>\n",
       "    <tr>\n",
       "      <th>3</th>\n",
       "      <td>NODE_4_length_61338_cov_317.585_g2_i0</td>\n",
       "      <td>61338</td>\n",
       "      <td>0.000056</td>\n",
       "      <td>0.0</td>\n",
       "      <td>0.0</td>\n",
       "      <td>0.0</td>\n",
       "      <td>0.0</td>\n",
       "      <td>0.0</td>\n",
       "      <td>0.000008</td>\n",
       "      <td>0.0</td>\n",
       "      <td>0.991967</td>\n",
       "      <td>1.0</td>\n",
       "      <td>0.000477</td>\n",
       "      <td>0.0</td>\n",
       "      <td>0.000021</td>\n",
       "      <td>False</td>\n",
       "      <td>286</td>\n",
       "      <td>genus</td>\n",
       "      <td>Pseudomonas</td>\n",
       "      <td>Bacteria</td>\n",
       "    </tr>\n",
       "    <tr>\n",
       "      <th>4</th>\n",
       "      <td>NODE_5_length_59036_cov_197.701_g0_i1</td>\n",
       "      <td>59036</td>\n",
       "      <td>0.000040</td>\n",
       "      <td>0.0</td>\n",
       "      <td>0.0</td>\n",
       "      <td>0.0</td>\n",
       "      <td>0.0</td>\n",
       "      <td>0.0</td>\n",
       "      <td>0.000008</td>\n",
       "      <td>0.0</td>\n",
       "      <td>0.990354</td>\n",
       "      <td>1.0</td>\n",
       "      <td>0.000617</td>\n",
       "      <td>0.0</td>\n",
       "      <td>0.000018</td>\n",
       "      <td>False</td>\n",
       "      <td>286</td>\n",
       "      <td>genus</td>\n",
       "      <td>Pseudomonas</td>\n",
       "      <td>Bacteria</td>\n",
       "    </tr>\n",
       "  </tbody>\n",
       "</table>\n",
       "</div>"
      ],
      "text/plain": [
       "                                    name  length  probability  prediction  \\\n",
       "0  NODE_1_length_91451_cov_163.114_g0_i0   91451     0.000375         0.0   \n",
       "1  NODE_2_length_74096_cov_303.895_g1_i0   74096     0.000088         0.0   \n",
       "2   NODE_3_length_66420_cov_268.59_g1_i1   66420     0.000041         0.0   \n",
       "3  NODE_4_length_61338_cov_317.585_g2_i0   61338     0.000056         0.0   \n",
       "4  NODE_5_length_59036_cov_197.701_g0_i1   59036     0.000040         0.0   \n",
       "\n",
       "   vfam  pfam  diamond  label  score_euk_non_euk  pred_euk_non_euk  \\\n",
       "0   0.0   0.0      0.0    0.0           0.000025               0.0   \n",
       "1   0.0   0.0      0.0    0.0           0.000012               0.0   \n",
       "2   0.0   0.0      0.0    0.0           0.000009               0.0   \n",
       "3   0.0   0.0      0.0    0.0           0.000008               0.0   \n",
       "4   0.0   0.0      0.0    0.0           0.000008               0.0   \n",
       "\n",
       "   score_non_euk_virus  pred_non_euk_virus  score_virus_non_virus  \\\n",
       "0             0.996004                 1.0               0.001954   \n",
       "1             0.995278                 1.0               0.000529   \n",
       "2             0.996629                 1.0               0.000761   \n",
       "3             0.991967                 1.0               0.000477   \n",
       "4             0.990354                 1.0               0.000617   \n",
       "\n",
       "   pred_virus_non_virus  hybrid_probability hybrid_prediction  tax_id  \\\n",
       "0                   0.0            0.000097             False    1236   \n",
       "1                   0.0            0.000032             False  254161   \n",
       "2                   0.0            0.000019             False  254161   \n",
       "3                   0.0            0.000021             False     286   \n",
       "4                   0.0            0.000018             False     286   \n",
       "\n",
       "      rank                   tax_name top_label  \n",
       "0    class        Gammaproteobacteria  Bacteria  \n",
       "1  species  Pseudomonas pachastrellae  Bacteria  \n",
       "2  species  Pseudomonas pachastrellae  Bacteria  \n",
       "3    genus                Pseudomonas  Bacteria  \n",
       "4    genus                Pseudomonas  Bacteria  "
      ]
     },
     "execution_count": 130,
     "metadata": {},
     "output_type": "execute_result"
    }
   ],
   "source": [
    "new_table.head()"
   ]
  },
  {
   "cell_type": "code",
   "execution_count": 131,
   "metadata": {
    "collapsed": true
   },
   "outputs": [],
   "source": [
    "new_table[\"non_euk_label\"] = (new_table.top_label!='Eukaryota')"
   ]
  },
  {
   "cell_type": "code",
   "execution_count": 132,
   "metadata": {
    "collapsed": true
   },
   "outputs": [],
   "source": [
    "new_table[\"micromonas_label\"] = (new_table.tax_name=='Micromonas') |(new_table.tax_name=='Micromonas pusilla CCMP1545')|(\n",
    "        new_table.tax_name=='Micromonas commoda')\n"
   ]
  },
  {
   "cell_type": "markdown",
   "metadata": {},
   "source": [
    "#### \"no rank\" does not equal \"no annotation\""
   ]
  },
  {
   "cell_type": "code",
   "execution_count": 133,
   "metadata": {
    "collapsed": false
   },
   "outputs": [],
   "source": [
    "def convert_top_label(top_label):\n",
    "    if top_label == 'N/A':\n",
    "        return 'no annotation'\n",
    "    else:\n",
    "        return 'with annotation'"
   ]
  },
  {
   "cell_type": "code",
   "execution_count": 134,
   "metadata": {
    "collapsed": false
   },
   "outputs": [],
   "source": [
    "new_table['annotation_label'] = new_table['top_label'].map(convert_top_label)"
   ]
  },
  {
   "cell_type": "code",
   "execution_count": 135,
   "metadata": {
    "collapsed": true
   },
   "outputs": [],
   "source": [
    "groupby_top_label = new_table.groupby('top_label')"
   ]
  },
  {
   "cell_type": "code",
   "execution_count": 136,
   "metadata": {
    "collapsed": false
   },
   "outputs": [
    {
     "data": {
      "text/html": [
       "<div>\n",
       "<table border=\"1\" class=\"dataframe\">\n",
       "  <thead>\n",
       "    <tr style=\"text-align: right;\">\n",
       "      <th></th>\n",
       "      <th></th>\n",
       "      <th>diamond</th>\n",
       "      <th>hybrid_probability</th>\n",
       "      <th>label</th>\n",
       "      <th>length</th>\n",
       "      <th>pfam</th>\n",
       "      <th>pred_euk_non_euk</th>\n",
       "      <th>pred_non_euk_virus</th>\n",
       "      <th>pred_virus_non_virus</th>\n",
       "      <th>prediction</th>\n",
       "      <th>probability</th>\n",
       "      <th>score_euk_non_euk</th>\n",
       "      <th>score_non_euk_virus</th>\n",
       "      <th>score_virus_non_virus</th>\n",
       "      <th>tax_id</th>\n",
       "      <th>vfam</th>\n",
       "    </tr>\n",
       "    <tr>\n",
       "      <th>top_label</th>\n",
       "      <th></th>\n",
       "      <th></th>\n",
       "      <th></th>\n",
       "      <th></th>\n",
       "      <th></th>\n",
       "      <th></th>\n",
       "      <th></th>\n",
       "      <th></th>\n",
       "      <th></th>\n",
       "      <th></th>\n",
       "      <th></th>\n",
       "      <th></th>\n",
       "      <th></th>\n",
       "      <th></th>\n",
       "      <th></th>\n",
       "      <th></th>\n",
       "    </tr>\n",
       "  </thead>\n",
       "  <tbody>\n",
       "    <tr>\n",
       "      <th rowspan=\"8\" valign=\"top\">Archaea</th>\n",
       "      <th>count</th>\n",
       "      <td>5122.0</td>\n",
       "      <td>5.122000e+03</td>\n",
       "      <td>5122.000000</td>\n",
       "      <td>5122.000000</td>\n",
       "      <td>5122.000000</td>\n",
       "      <td>5122.000000</td>\n",
       "      <td>5122.000000</td>\n",
       "      <td>5122.000000</td>\n",
       "      <td>5122.000000</td>\n",
       "      <td>5.122000e+03</td>\n",
       "      <td>5.122000e+03</td>\n",
       "      <td>5.122000e+03</td>\n",
       "      <td>5.122000e+03</td>\n",
       "      <td>5.122000e+03</td>\n",
       "      <td>5122.000000</td>\n",
       "    </tr>\n",
       "    <tr>\n",
       "      <th>mean</th>\n",
       "      <td>0.0</td>\n",
       "      <td>5.128478e-01</td>\n",
       "      <td>0.000390</td>\n",
       "      <td>3188.901991</td>\n",
       "      <td>0.000000</td>\n",
       "      <td>0.629637</td>\n",
       "      <td>0.451972</td>\n",
       "      <td>0.012495</td>\n",
       "      <td>0.665560</td>\n",
       "      <td>5.971113e-01</td>\n",
       "      <td>6.212226e-01</td>\n",
       "      <td>4.571700e-01</td>\n",
       "      <td>5.325124e-02</td>\n",
       "      <td>5.743020e+05</td>\n",
       "      <td>0.000390</td>\n",
       "    </tr>\n",
       "    <tr>\n",
       "      <th>std</th>\n",
       "      <td>0.0</td>\n",
       "      <td>3.832601e-01</td>\n",
       "      <td>0.019758</td>\n",
       "      <td>1552.633979</td>\n",
       "      <td>0.000000</td>\n",
       "      <td>0.482949</td>\n",
       "      <td>0.497737</td>\n",
       "      <td>0.111092</td>\n",
       "      <td>0.471840</td>\n",
       "      <td>3.822884e-01</td>\n",
       "      <td>3.994500e-01</td>\n",
       "      <td>3.385060e-01</td>\n",
       "      <td>1.087024e-01</td>\n",
       "      <td>6.184834e+05</td>\n",
       "      <td>0.019758</td>\n",
       "    </tr>\n",
       "    <tr>\n",
       "      <th>min</th>\n",
       "      <td>0.0</td>\n",
       "      <td>6.821435e-09</td>\n",
       "      <td>0.000000</td>\n",
       "      <td>2000.000000</td>\n",
       "      <td>0.000000</td>\n",
       "      <td>0.000000</td>\n",
       "      <td>0.000000</td>\n",
       "      <td>0.000000</td>\n",
       "      <td>0.000000</td>\n",
       "      <td>9.257371e-15</td>\n",
       "      <td>9.892127e-09</td>\n",
       "      <td>9.850046e-06</td>\n",
       "      <td>2.864073e-10</td>\n",
       "      <td>2.157000e+03</td>\n",
       "      <td>0.000000</td>\n",
       "    </tr>\n",
       "    <tr>\n",
       "      <th>25%</th>\n",
       "      <td>0.0</td>\n",
       "      <td>6.874364e-02</td>\n",
       "      <td>0.000000</td>\n",
       "      <td>2261.000000</td>\n",
       "      <td>0.000000</td>\n",
       "      <td>0.000000</td>\n",
       "      <td>0.000000</td>\n",
       "      <td>0.000000</td>\n",
       "      <td>0.000000</td>\n",
       "      <td>1.352331e-01</td>\n",
       "      <td>1.687111e-01</td>\n",
       "      <td>1.190713e-01</td>\n",
       "      <td>2.625598e-04</td>\n",
       "      <td>6.835900e+04</td>\n",
       "      <td>0.000000</td>\n",
       "    </tr>\n",
       "    <tr>\n",
       "      <th>50%</th>\n",
       "      <td>0.0</td>\n",
       "      <td>6.282226e-01</td>\n",
       "      <td>0.000000</td>\n",
       "      <td>2675.000000</td>\n",
       "      <td>0.000000</td>\n",
       "      <td>1.000000</td>\n",
       "      <td>0.000000</td>\n",
       "      <td>0.000000</td>\n",
       "      <td>1.000000</td>\n",
       "      <td>7.615862e-01</td>\n",
       "      <td>8.303721e-01</td>\n",
       "      <td>4.315353e-01</td>\n",
       "      <td>6.194406e-03</td>\n",
       "      <td>2.748540e+05</td>\n",
       "      <td>0.000000</td>\n",
       "    </tr>\n",
       "    <tr>\n",
       "      <th>75%</th>\n",
       "      <td>0.0</td>\n",
       "      <td>8.893215e-01</td>\n",
       "      <td>0.000000</td>\n",
       "      <td>3464.250000</td>\n",
       "      <td>0.000000</td>\n",
       "      <td>1.000000</td>\n",
       "      <td>1.000000</td>\n",
       "      <td>0.000000</td>\n",
       "      <td>1.000000</td>\n",
       "      <td>9.215214e-01</td>\n",
       "      <td>9.883666e-01</td>\n",
       "      <td>7.745058e-01</td>\n",
       "      <td>5.093282e-02</td>\n",
       "      <td>9.288520e+05</td>\n",
       "      <td>0.000000</td>\n",
       "    </tr>\n",
       "    <tr>\n",
       "      <th>max</th>\n",
       "      <td>0.0</td>\n",
       "      <td>9.998971e-01</td>\n",
       "      <td>1.000000</td>\n",
       "      <td>16612.000000</td>\n",
       "      <td>0.000000</td>\n",
       "      <td>1.000000</td>\n",
       "      <td>1.000000</td>\n",
       "      <td>1.000000</td>\n",
       "      <td>1.000000</td>\n",
       "      <td>1.000000e+00</td>\n",
       "      <td>9.999996e-01</td>\n",
       "      <td>9.999697e-01</td>\n",
       "      <td>9.911804e-01</td>\n",
       "      <td>1.802371e+06</td>\n",
       "      <td>1.000000</td>\n",
       "    </tr>\n",
       "    <tr>\n",
       "      <th rowspan=\"8\" valign=\"top\">Bacteria</th>\n",
       "      <th>count</th>\n",
       "      <td>144895.0</td>\n",
       "      <td>1.448950e+05</td>\n",
       "      <td>144895.000000</td>\n",
       "      <td>144895.000000</td>\n",
       "      <td>144895.000000</td>\n",
       "      <td>144895.000000</td>\n",
       "      <td>144895.000000</td>\n",
       "      <td>144895.000000</td>\n",
       "      <td>144895.000000</td>\n",
       "      <td>1.448950e+05</td>\n",
       "      <td>1.448950e+05</td>\n",
       "      <td>1.448950e+05</td>\n",
       "      <td>1.448950e+05</td>\n",
       "      <td>1.448950e+05</td>\n",
       "      <td>144895.000000</td>\n",
       "    </tr>\n",
       "    <tr>\n",
       "      <th>mean</th>\n",
       "      <td>0.0</td>\n",
       "      <td>1.979416e-01</td>\n",
       "      <td>0.000414</td>\n",
       "      <td>3451.312654</td>\n",
       "      <td>0.000186</td>\n",
       "      <td>0.488788</td>\n",
       "      <td>0.509044</td>\n",
       "      <td>0.026109</td>\n",
       "      <td>0.197170</td>\n",
       "      <td>2.035482e-01</td>\n",
       "      <td>4.894840e-01</td>\n",
       "      <td>5.059232e-01</td>\n",
       "      <td>5.549878e-02</td>\n",
       "      <td>3.527066e+05</td>\n",
       "      <td>0.000228</td>\n",
       "    </tr>\n",
       "    <tr>\n",
       "      <th>std</th>\n",
       "      <td>0.0</td>\n",
       "      <td>3.017972e-01</td>\n",
       "      <td>0.020345</td>\n",
       "      <td>2515.448973</td>\n",
       "      <td>0.013649</td>\n",
       "      <td>0.499876</td>\n",
       "      <td>0.499920</td>\n",
       "      <td>0.159459</td>\n",
       "      <td>0.397863</td>\n",
       "      <td>3.216476e-01</td>\n",
       "      <td>4.172175e-01</td>\n",
       "      <td>3.770643e-01</td>\n",
       "      <td>1.333060e-01</td>\n",
       "      <td>5.962967e+05</td>\n",
       "      <td>0.015090</td>\n",
       "    </tr>\n",
       "    <tr>\n",
       "      <th>min</th>\n",
       "      <td>0.0</td>\n",
       "      <td>5.722615e-18</td>\n",
       "      <td>0.000000</td>\n",
       "      <td>2000.000000</td>\n",
       "      <td>0.000000</td>\n",
       "      <td>0.000000</td>\n",
       "      <td>0.000000</td>\n",
       "      <td>0.000000</td>\n",
       "      <td>0.000000</td>\n",
       "      <td>4.886458e-34</td>\n",
       "      <td>1.536595e-09</td>\n",
       "      <td>2.994483e-09</td>\n",
       "      <td>4.409549e-10</td>\n",
       "      <td>2.000000e+00</td>\n",
       "      <td>0.000000</td>\n",
       "    </tr>\n",
       "    <tr>\n",
       "      <th>25%</th>\n",
       "      <td>0.0</td>\n",
       "      <td>1.464836e-03</td>\n",
       "      <td>0.000000</td>\n",
       "      <td>2279.000000</td>\n",
       "      <td>0.000000</td>\n",
       "      <td>0.000000</td>\n",
       "      <td>0.000000</td>\n",
       "      <td>0.000000</td>\n",
       "      <td>0.000000</td>\n",
       "      <td>3.721085e-05</td>\n",
       "      <td>3.039330e-02</td>\n",
       "      <td>1.021266e-01</td>\n",
       "      <td>4.599308e-04</td>\n",
       "      <td>1.129000e+03</td>\n",
       "      <td>0.000000</td>\n",
       "    </tr>\n",
       "    <tr>\n",
       "      <th>50%</th>\n",
       "      <td>0.0</td>\n",
       "      <td>1.998048e-02</td>\n",
       "      <td>0.000000</td>\n",
       "      <td>2733.000000</td>\n",
       "      <td>0.000000</td>\n",
       "      <td>0.000000</td>\n",
       "      <td>1.000000</td>\n",
       "      <td>0.000000</td>\n",
       "      <td>0.000000</td>\n",
       "      <td>3.751021e-03</td>\n",
       "      <td>4.653301e-01</td>\n",
       "      <td>5.178132e-01</td>\n",
       "      <td>3.838881e-03</td>\n",
       "      <td>4.847900e+04</td>\n",
       "      <td>0.000000</td>\n",
       "    </tr>\n",
       "    <tr>\n",
       "      <th>75%</th>\n",
       "      <td>0.0</td>\n",
       "      <td>3.109101e-01</td>\n",
       "      <td>0.000000</td>\n",
       "      <td>3648.000000</td>\n",
       "      <td>0.000000</td>\n",
       "      <td>1.000000</td>\n",
       "      <td>1.000000</td>\n",
       "      <td>0.000000</td>\n",
       "      <td>0.000000</td>\n",
       "      <td>3.502763e-01</td>\n",
       "      <td>9.602091e-01</td>\n",
       "      <td>9.010699e-01</td>\n",
       "      <td>3.364476e-02</td>\n",
       "      <td>2.541610e+05</td>\n",
       "      <td>0.000000</td>\n",
       "    </tr>\n",
       "    <tr>\n",
       "      <th>max</th>\n",
       "      <td>0.0</td>\n",
       "      <td>1.000000e+00</td>\n",
       "      <td>1.000000</td>\n",
       "      <td>91451.000000</td>\n",
       "      <td>1.000000</td>\n",
       "      <td>1.000000</td>\n",
       "      <td>1.000000</td>\n",
       "      <td>1.000000</td>\n",
       "      <td>1.000000</td>\n",
       "      <td>1.000000e+00</td>\n",
       "      <td>1.000000e+00</td>\n",
       "      <td>1.000000e+00</td>\n",
       "      <td>9.997515e-01</td>\n",
       "      <td>1.904754e+06</td>\n",
       "      <td>1.000000</td>\n",
       "    </tr>\n",
       "    <tr>\n",
       "      <th rowspan=\"8\" valign=\"top\">Eukaryota</th>\n",
       "      <th>count</th>\n",
       "      <td>40920.0</td>\n",
       "      <td>4.092000e+04</td>\n",
       "      <td>40920.000000</td>\n",
       "      <td>40920.000000</td>\n",
       "      <td>40920.000000</td>\n",
       "      <td>40920.000000</td>\n",
       "      <td>40920.000000</td>\n",
       "      <td>40920.000000</td>\n",
       "      <td>40920.000000</td>\n",
       "      <td>4.092000e+04</td>\n",
       "      <td>4.092000e+04</td>\n",
       "      <td>4.092000e+04</td>\n",
       "      <td>4.092000e+04</td>\n",
       "      <td>4.092000e+04</td>\n",
       "      <td>40920.000000</td>\n",
       "    </tr>\n",
       "    <tr>\n",
       "      <th>mean</th>\n",
       "      <td>0.0</td>\n",
       "      <td>3.287573e-01</td>\n",
       "      <td>0.000953</td>\n",
       "      <td>3134.605279</td>\n",
       "      <td>0.000147</td>\n",
       "      <td>0.435142</td>\n",
       "      <td>0.612243</td>\n",
       "      <td>0.105108</td>\n",
       "      <td>0.664150</td>\n",
       "      <td>6.171013e-01</td>\n",
       "      <td>4.417002e-01</td>\n",
       "      <td>6.200975e-01</td>\n",
       "      <td>1.364629e-01</td>\n",
       "      <td>2.618114e+05</td>\n",
       "      <td>0.000806</td>\n",
       "    </tr>\n",
       "    <tr>\n",
       "      <th>std</th>\n",
       "      <td>0.0</td>\n",
       "      <td>3.660269e-01</td>\n",
       "      <td>0.030858</td>\n",
       "      <td>1718.277021</td>\n",
       "      <td>0.012108</td>\n",
       "      <td>0.495782</td>\n",
       "      <td>0.487245</td>\n",
       "      <td>0.306696</td>\n",
       "      <td>0.472293</td>\n",
       "      <td>4.008131e-01</td>\n",
       "      <td>4.433005e-01</td>\n",
       "      <td>3.820406e-01</td>\n",
       "      <td>2.457559e-01</td>\n",
       "      <td>4.094175e+05</td>\n",
       "      <td>0.028387</td>\n",
       "    </tr>\n",
       "    <tr>\n",
       "      <th>min</th>\n",
       "      <td>0.0</td>\n",
       "      <td>1.114855e-20</td>\n",
       "      <td>0.000000</td>\n",
       "      <td>2000.000000</td>\n",
       "      <td>0.000000</td>\n",
       "      <td>0.000000</td>\n",
       "      <td>0.000000</td>\n",
       "      <td>0.000000</td>\n",
       "      <td>0.000000</td>\n",
       "      <td>1.608784e-40</td>\n",
       "      <td>6.446008e-12</td>\n",
       "      <td>2.588272e-06</td>\n",
       "      <td>5.811040e-12</td>\n",
       "      <td>2.759000e+03</td>\n",
       "      <td>0.000000</td>\n",
       "    </tr>\n",
       "    <tr>\n",
       "      <th>25%</th>\n",
       "      <td>0.0</td>\n",
       "      <td>1.110216e-02</td>\n",
       "      <td>0.000000</td>\n",
       "      <td>2217.000000</td>\n",
       "      <td>0.000000</td>\n",
       "      <td>0.000000</td>\n",
       "      <td>0.000000</td>\n",
       "      <td>0.000000</td>\n",
       "      <td>0.000000</td>\n",
       "      <td>1.260121e-01</td>\n",
       "      <td>4.715501e-03</td>\n",
       "      <td>2.114181e-01</td>\n",
       "      <td>9.145377e-04</td>\n",
       "      <td>1.379200e+04</td>\n",
       "      <td>0.000000</td>\n",
       "    </tr>\n",
       "    <tr>\n",
       "      <th>50%</th>\n",
       "      <td>0.0</td>\n",
       "      <td>1.182544e-01</td>\n",
       "      <td>0.000000</td>\n",
       "      <td>2585.000000</td>\n",
       "      <td>0.000000</td>\n",
       "      <td>0.000000</td>\n",
       "      <td>1.000000</td>\n",
       "      <td>0.000000</td>\n",
       "      <td>1.000000</td>\n",
       "      <td>7.832100e-01</td>\n",
       "      <td>2.269422e-01</td>\n",
       "      <td>7.707933e-01</td>\n",
       "      <td>1.734109e-02</td>\n",
       "      <td>5.440900e+04</td>\n",
       "      <td>0.000000</td>\n",
       "    </tr>\n",
       "    <tr>\n",
       "      <th>75%</th>\n",
       "      <td>0.0</td>\n",
       "      <td>7.442389e-01</td>\n",
       "      <td>0.000000</td>\n",
       "      <td>3363.000000</td>\n",
       "      <td>0.000000</td>\n",
       "      <td>1.000000</td>\n",
       "      <td>1.000000</td>\n",
       "      <td>0.000000</td>\n",
       "      <td>1.000000</td>\n",
       "      <td>9.930793e-01</td>\n",
       "      <td>9.857943e-01</td>\n",
       "      <td>9.921137e-01</td>\n",
       "      <td>1.290319e-01</td>\n",
       "      <td>2.965870e+05</td>\n",
       "      <td>0.000000</td>\n",
       "    </tr>\n",
       "    <tr>\n",
       "      <th>max</th>\n",
       "      <td>0.0</td>\n",
       "      <td>9.999869e-01</td>\n",
       "      <td>1.000000</td>\n",
       "      <td>47047.000000</td>\n",
       "      <td>1.000000</td>\n",
       "      <td>1.000000</td>\n",
       "      <td>1.000000</td>\n",
       "      <td>1.000000</td>\n",
       "      <td>1.000000</td>\n",
       "      <td>1.000000e+00</td>\n",
       "      <td>1.000000e+00</td>\n",
       "      <td>1.000000e+00</td>\n",
       "      <td>9.998867e-01</td>\n",
       "      <td>1.720309e+06</td>\n",
       "      <td>1.000000</td>\n",
       "    </tr>\n",
       "    <tr>\n",
       "      <th rowspan=\"8\" valign=\"top\">N/A</th>\n",
       "      <th>count</th>\n",
       "      <td>10559.0</td>\n",
       "      <td>1.055900e+04</td>\n",
       "      <td>10559.000000</td>\n",
       "      <td>10559.000000</td>\n",
       "      <td>10559.000000</td>\n",
       "      <td>10559.000000</td>\n",
       "      <td>10559.000000</td>\n",
       "      <td>10559.000000</td>\n",
       "      <td>10559.000000</td>\n",
       "      <td>1.055900e+04</td>\n",
       "      <td>1.055900e+04</td>\n",
       "      <td>1.055900e+04</td>\n",
       "      <td>1.055900e+04</td>\n",
       "      <td>1.055900e+04</td>\n",
       "      <td>10559.000000</td>\n",
       "    </tr>\n",
       "    <tr>\n",
       "      <th>mean</th>\n",
       "      <td>0.0</td>\n",
       "      <td>3.307489e-01</td>\n",
       "      <td>0.030401</td>\n",
       "      <td>3402.967800</td>\n",
       "      <td>0.028222</td>\n",
       "      <td>0.537361</td>\n",
       "      <td>0.500616</td>\n",
       "      <td>0.036935</td>\n",
       "      <td>0.439057</td>\n",
       "      <td>4.234125e-01</td>\n",
       "      <td>5.375196e-01</td>\n",
       "      <td>4.940867e-01</td>\n",
       "      <td>6.581093e-02</td>\n",
       "      <td>6.730184e+04</td>\n",
       "      <td>0.002368</td>\n",
       "    </tr>\n",
       "    <tr>\n",
       "      <th>std</th>\n",
       "      <td>0.0</td>\n",
       "      <td>3.704749e-01</td>\n",
       "      <td>0.171695</td>\n",
       "      <td>2098.404863</td>\n",
       "      <td>0.165615</td>\n",
       "      <td>0.498626</td>\n",
       "      <td>0.500023</td>\n",
       "      <td>0.188612</td>\n",
       "      <td>0.496296</td>\n",
       "      <td>4.213043e-01</td>\n",
       "      <td>4.221819e-01</td>\n",
       "      <td>3.702154e-01</td>\n",
       "      <td>1.531926e-01</td>\n",
       "      <td>6.587120e+04</td>\n",
       "      <td>0.048603</td>\n",
       "    </tr>\n",
       "    <tr>\n",
       "      <th>min</th>\n",
       "      <td>0.0</td>\n",
       "      <td>2.642447e-13</td>\n",
       "      <td>0.000000</td>\n",
       "      <td>2000.000000</td>\n",
       "      <td>0.000000</td>\n",
       "      <td>0.000000</td>\n",
       "      <td>0.000000</td>\n",
       "      <td>0.000000</td>\n",
       "      <td>0.000000</td>\n",
       "      <td>1.479479e-24</td>\n",
       "      <td>1.925903e-11</td>\n",
       "      <td>8.665538e-06</td>\n",
       "      <td>5.348955e-09</td>\n",
       "      <td>-2.000000e+00</td>\n",
       "      <td>0.000000</td>\n",
       "    </tr>\n",
       "    <tr>\n",
       "      <th>25%</th>\n",
       "      <td>0.0</td>\n",
       "      <td>9.108044e-03</td>\n",
       "      <td>0.000000</td>\n",
       "      <td>2294.000000</td>\n",
       "      <td>0.000000</td>\n",
       "      <td>0.000000</td>\n",
       "      <td>0.000000</td>\n",
       "      <td>0.000000</td>\n",
       "      <td>0.000000</td>\n",
       "      <td>9.809237e-04</td>\n",
       "      <td>4.576285e-02</td>\n",
       "      <td>1.010640e-01</td>\n",
       "      <td>4.130022e-04</td>\n",
       "      <td>1.000000e+00</td>\n",
       "      <td>0.000000</td>\n",
       "    </tr>\n",
       "    <tr>\n",
       "      <th>50%</th>\n",
       "      <td>0.0</td>\n",
       "      <td>1.191866e-01</td>\n",
       "      <td>0.000000</td>\n",
       "      <td>2743.000000</td>\n",
       "      <td>0.000000</td>\n",
       "      <td>1.000000</td>\n",
       "      <td>1.000000</td>\n",
       "      <td>0.000000</td>\n",
       "      <td>0.000000</td>\n",
       "      <td>2.838910e-01</td>\n",
       "      <td>6.294412e-01</td>\n",
       "      <td>5.006632e-01</td>\n",
       "      <td>3.991317e-03</td>\n",
       "      <td>1.315670e+05</td>\n",
       "      <td>0.000000</td>\n",
       "    </tr>\n",
       "    <tr>\n",
       "      <th>75%</th>\n",
       "      <td>0.0</td>\n",
       "      <td>7.060062e-01</td>\n",
       "      <td>0.000000</td>\n",
       "      <td>3606.000000</td>\n",
       "      <td>0.000000</td>\n",
       "      <td>1.000000</td>\n",
       "      <td>1.000000</td>\n",
       "      <td>0.000000</td>\n",
       "      <td>1.000000</td>\n",
       "      <td>9.155219e-01</td>\n",
       "      <td>9.822328e-01</td>\n",
       "      <td>8.710514e-01</td>\n",
       "      <td>4.047236e-02</td>\n",
       "      <td>1.315670e+05</td>\n",
       "      <td>0.000000</td>\n",
       "    </tr>\n",
       "    <tr>\n",
       "      <th>max</th>\n",
       "      <td>0.0</td>\n",
       "      <td>9.999993e-01</td>\n",
       "      <td>1.000000</td>\n",
       "      <td>31542.000000</td>\n",
       "      <td>1.000000</td>\n",
       "      <td>1.000000</td>\n",
       "      <td>1.000000</td>\n",
       "      <td>1.000000</td>\n",
       "      <td>1.000000</td>\n",
       "      <td>1.000000e+00</td>\n",
       "      <td>1.000000e+00</td>\n",
       "      <td>9.999993e-01</td>\n",
       "      <td>9.952776e-01</td>\n",
       "      <td>1.711930e+05</td>\n",
       "      <td>1.000000</td>\n",
       "    </tr>\n",
       "    <tr>\n",
       "      <th rowspan=\"8\" valign=\"top\">Virus</th>\n",
       "      <th>count</th>\n",
       "      <td>6619.0</td>\n",
       "      <td>6.619000e+03</td>\n",
       "      <td>6619.000000</td>\n",
       "      <td>6619.000000</td>\n",
       "      <td>6619.000000</td>\n",
       "      <td>6619.000000</td>\n",
       "      <td>6619.000000</td>\n",
       "      <td>6619.000000</td>\n",
       "      <td>6619.000000</td>\n",
       "      <td>6.619000e+03</td>\n",
       "      <td>6.619000e+03</td>\n",
       "      <td>6.619000e+03</td>\n",
       "      <td>6.619000e+03</td>\n",
       "      <td>6.619000e+03</td>\n",
       "      <td>6619.000000</td>\n",
       "    </tr>\n",
       "    <tr>\n",
       "      <th>mean</th>\n",
       "      <td>1.0</td>\n",
       "      <td>5.728191e-01</td>\n",
       "      <td>1.000000</td>\n",
       "      <td>3312.285693</td>\n",
       "      <td>0.156821</td>\n",
       "      <td>0.617465</td>\n",
       "      <td>0.308959</td>\n",
       "      <td>0.015410</td>\n",
       "      <td>0.780934</td>\n",
       "      <td>7.540287e-01</td>\n",
       "      <td>6.060572e-01</td>\n",
       "      <td>3.348951e-01</td>\n",
       "      <td>3.871948e-02</td>\n",
       "      <td>5.945655e+05</td>\n",
       "      <td>0.001662</td>\n",
       "    </tr>\n",
       "    <tr>\n",
       "      <th>std</th>\n",
       "      <td>0.0</td>\n",
       "      <td>3.503369e-01</td>\n",
       "      <td>0.000000</td>\n",
       "      <td>1849.195939</td>\n",
       "      <td>0.363660</td>\n",
       "      <td>0.486043</td>\n",
       "      <td>0.462099</td>\n",
       "      <td>0.123187</td>\n",
       "      <td>0.413645</td>\n",
       "      <td>3.223286e-01</td>\n",
       "      <td>4.015435e-01</td>\n",
       "      <td>3.356060e-01</td>\n",
       "      <td>1.070080e-01</td>\n",
       "      <td>6.666584e+05</td>\n",
       "      <td>0.040735</td>\n",
       "    </tr>\n",
       "    <tr>\n",
       "      <th>min</th>\n",
       "      <td>1.0</td>\n",
       "      <td>1.032876e-05</td>\n",
       "      <td>1.000000</td>\n",
       "      <td>2000.000000</td>\n",
       "      <td>0.000000</td>\n",
       "      <td>0.000000</td>\n",
       "      <td>0.000000</td>\n",
       "      <td>0.000000</td>\n",
       "      <td>0.000000</td>\n",
       "      <td>1.068096e-10</td>\n",
       "      <td>6.454847e-07</td>\n",
       "      <td>1.169350e-05</td>\n",
       "      <td>2.493190e-08</td>\n",
       "      <td>1.023900e+04</td>\n",
       "      <td>0.000000</td>\n",
       "    </tr>\n",
       "    <tr>\n",
       "      <th>25%</th>\n",
       "      <td>1.0</td>\n",
       "      <td>2.260243e-01</td>\n",
       "      <td>1.000000</td>\n",
       "      <td>2310.500000</td>\n",
       "      <td>0.000000</td>\n",
       "      <td>0.000000</td>\n",
       "      <td>0.000000</td>\n",
       "      <td>0.000000</td>\n",
       "      <td>1.000000</td>\n",
       "      <td>5.716192e-01</td>\n",
       "      <td>1.408197e-01</td>\n",
       "      <td>3.283099e-02</td>\n",
       "      <td>1.450272e-04</td>\n",
       "      <td>1.233300e+04</td>\n",
       "      <td>0.000000</td>\n",
       "    </tr>\n",
       "    <tr>\n",
       "      <th>50%</th>\n",
       "      <td>1.0</td>\n",
       "      <td>6.408295e-01</td>\n",
       "      <td>1.000000</td>\n",
       "      <td>2777.000000</td>\n",
       "      <td>0.000000</td>\n",
       "      <td>1.000000</td>\n",
       "      <td>0.000000</td>\n",
       "      <td>0.000000</td>\n",
       "      <td>1.000000</td>\n",
       "      <td>9.448538e-01</td>\n",
       "      <td>7.982789e-01</td>\n",
       "      <td>1.950457e-01</td>\n",
       "      <td>1.279507e-03</td>\n",
       "      <td>1.968960e+05</td>\n",
       "      <td>0.000000</td>\n",
       "    </tr>\n",
       "    <tr>\n",
       "      <th>75%</th>\n",
       "      <td>1.0</td>\n",
       "      <td>9.219542e-01</td>\n",
       "      <td>1.000000</td>\n",
       "      <td>3680.000000</td>\n",
       "      <td>0.000000</td>\n",
       "      <td>1.000000</td>\n",
       "      <td>1.000000</td>\n",
       "      <td>0.000000</td>\n",
       "      <td>1.000000</td>\n",
       "      <td>9.982360e-01</td>\n",
       "      <td>9.870911e-01</td>\n",
       "      <td>6.208244e-01</td>\n",
       "      <td>1.515337e-02</td>\n",
       "      <td>1.407671e+06</td>\n",
       "      <td>0.000000</td>\n",
       "    </tr>\n",
       "    <tr>\n",
       "      <th>max</th>\n",
       "      <td>1.0</td>\n",
       "      <td>9.999990e-01</td>\n",
       "      <td>1.000000</td>\n",
       "      <td>41610.000000</td>\n",
       "      <td>1.000000</td>\n",
       "      <td>1.000000</td>\n",
       "      <td>1.000000</td>\n",
       "      <td>1.000000</td>\n",
       "      <td>1.000000</td>\n",
       "      <td>1.000000e+00</td>\n",
       "      <td>1.000000e+00</td>\n",
       "      <td>9.999249e-01</td>\n",
       "      <td>9.897234e-01</td>\n",
       "      <td>1.880590e+06</td>\n",
       "      <td>1.000000</td>\n",
       "    </tr>\n",
       "    <tr>\n",
       "      <th rowspan=\"8\" valign=\"top\">unclassified</th>\n",
       "      <th>count</th>\n",
       "      <td>187.0</td>\n",
       "      <td>1.870000e+02</td>\n",
       "      <td>187.000000</td>\n",
       "      <td>187.000000</td>\n",
       "      <td>187.000000</td>\n",
       "      <td>187.000000</td>\n",
       "      <td>187.000000</td>\n",
       "      <td>187.000000</td>\n",
       "      <td>187.000000</td>\n",
       "      <td>1.870000e+02</td>\n",
       "      <td>1.870000e+02</td>\n",
       "      <td>1.870000e+02</td>\n",
       "      <td>1.870000e+02</td>\n",
       "      <td>1.870000e+02</td>\n",
       "      <td>187.000000</td>\n",
       "    </tr>\n",
       "    <tr>\n",
       "      <th>mean</th>\n",
       "      <td>0.0</td>\n",
       "      <td>2.671339e-01</td>\n",
       "      <td>0.000000</td>\n",
       "      <td>2961.951872</td>\n",
       "      <td>0.000000</td>\n",
       "      <td>0.518717</td>\n",
       "      <td>0.352941</td>\n",
       "      <td>0.032086</td>\n",
       "      <td>0.315508</td>\n",
       "      <td>3.097574e-01</td>\n",
       "      <td>5.207534e-01</td>\n",
       "      <td>3.838985e-01</td>\n",
       "      <td>5.836672e-02</td>\n",
       "      <td>3.407826e+05</td>\n",
       "      <td>0.000000</td>\n",
       "    </tr>\n",
       "    <tr>\n",
       "      <th>std</th>\n",
       "      <td>0.0</td>\n",
       "      <td>3.182292e-01</td>\n",
       "      <td>0.000000</td>\n",
       "      <td>931.958357</td>\n",
       "      <td>0.000000</td>\n",
       "      <td>0.500991</td>\n",
       "      <td>0.479168</td>\n",
       "      <td>0.176700</td>\n",
       "      <td>0.465965</td>\n",
       "      <td>3.552735e-01</td>\n",
       "      <td>4.220120e-01</td>\n",
       "      <td>3.357943e-01</td>\n",
       "      <td>1.419063e-01</td>\n",
       "      <td>2.361086e+05</td>\n",
       "      <td>0.000000</td>\n",
       "    </tr>\n",
       "    <tr>\n",
       "      <th>min</th>\n",
       "      <td>0.0</td>\n",
       "      <td>9.755417e-08</td>\n",
       "      <td>0.000000</td>\n",
       "      <td>2001.000000</td>\n",
       "      <td>0.000000</td>\n",
       "      <td>0.000000</td>\n",
       "      <td>0.000000</td>\n",
       "      <td>0.000000</td>\n",
       "      <td>0.000000</td>\n",
       "      <td>4.023632e-14</td>\n",
       "      <td>1.308754e-05</td>\n",
       "      <td>2.606354e-04</td>\n",
       "      <td>1.910933e-07</td>\n",
       "      <td>8.149000e+04</td>\n",
       "      <td>0.000000</td>\n",
       "    </tr>\n",
       "    <tr>\n",
       "      <th>25%</th>\n",
       "      <td>0.0</td>\n",
       "      <td>1.151117e-02</td>\n",
       "      <td>0.000000</td>\n",
       "      <td>2207.000000</td>\n",
       "      <td>0.000000</td>\n",
       "      <td>0.000000</td>\n",
       "      <td>0.000000</td>\n",
       "      <td>0.000000</td>\n",
       "      <td>0.000000</td>\n",
       "      <td>1.192433e-03</td>\n",
       "      <td>5.560194e-02</td>\n",
       "      <td>8.763744e-02</td>\n",
       "      <td>2.163193e-04</td>\n",
       "      <td>1.516590e+05</td>\n",
       "      <td>0.000000</td>\n",
       "    </tr>\n",
       "    <tr>\n",
       "      <th>50%</th>\n",
       "      <td>0.0</td>\n",
       "      <td>1.116000e-01</td>\n",
       "      <td>0.000000</td>\n",
       "      <td>2721.000000</td>\n",
       "      <td>0.000000</td>\n",
       "      <td>1.000000</td>\n",
       "      <td>0.000000</td>\n",
       "      <td>0.000000</td>\n",
       "      <td>0.000000</td>\n",
       "      <td>9.972145e-02</td>\n",
       "      <td>5.270764e-01</td>\n",
       "      <td>2.510244e-01</td>\n",
       "      <td>1.832341e-03</td>\n",
       "      <td>4.555010e+05</td>\n",
       "      <td>0.000000</td>\n",
       "    </tr>\n",
       "    <tr>\n",
       "      <th>75%</th>\n",
       "      <td>0.0</td>\n",
       "      <td>5.208594e-01</td>\n",
       "      <td>0.000000</td>\n",
       "      <td>3410.500000</td>\n",
       "      <td>0.000000</td>\n",
       "      <td>1.000000</td>\n",
       "      <td>1.000000</td>\n",
       "      <td>0.000000</td>\n",
       "      <td>1.000000</td>\n",
       "      <td>5.996457e-01</td>\n",
       "      <td>9.758633e-01</td>\n",
       "      <td>6.747583e-01</td>\n",
       "      <td>1.985246e-02</td>\n",
       "      <td>4.555370e+05</td>\n",
       "      <td>0.000000</td>\n",
       "    </tr>\n",
       "    <tr>\n",
       "      <th>max</th>\n",
       "      <td>0.0</td>\n",
       "      <td>9.915869e-01</td>\n",
       "      <td>0.000000</td>\n",
       "      <td>7342.000000</td>\n",
       "      <td>0.000000</td>\n",
       "      <td>1.000000</td>\n",
       "      <td>1.000000</td>\n",
       "      <td>1.000000</td>\n",
       "      <td>1.000000</td>\n",
       "      <td>9.999999e-01</td>\n",
       "      <td>9.999920e-01</td>\n",
       "      <td>9.979570e-01</td>\n",
       "      <td>7.243552e-01</td>\n",
       "      <td>7.436460e+05</td>\n",
       "      <td>0.000000</td>\n",
       "    </tr>\n",
       "  </tbody>\n",
       "</table>\n",
       "</div>"
      ],
      "text/plain": [
       "                     diamond  hybrid_probability          label  \\\n",
       "top_label                                                         \n",
       "Archaea      count    5122.0        5.122000e+03    5122.000000   \n",
       "             mean        0.0        5.128478e-01       0.000390   \n",
       "             std         0.0        3.832601e-01       0.019758   \n",
       "             min         0.0        6.821435e-09       0.000000   \n",
       "             25%         0.0        6.874364e-02       0.000000   \n",
       "             50%         0.0        6.282226e-01       0.000000   \n",
       "             75%         0.0        8.893215e-01       0.000000   \n",
       "             max         0.0        9.998971e-01       1.000000   \n",
       "Bacteria     count  144895.0        1.448950e+05  144895.000000   \n",
       "             mean        0.0        1.979416e-01       0.000414   \n",
       "             std         0.0        3.017972e-01       0.020345   \n",
       "             min         0.0        5.722615e-18       0.000000   \n",
       "             25%         0.0        1.464836e-03       0.000000   \n",
       "             50%         0.0        1.998048e-02       0.000000   \n",
       "             75%         0.0        3.109101e-01       0.000000   \n",
       "             max         0.0        1.000000e+00       1.000000   \n",
       "Eukaryota    count   40920.0        4.092000e+04   40920.000000   \n",
       "             mean        0.0        3.287573e-01       0.000953   \n",
       "             std         0.0        3.660269e-01       0.030858   \n",
       "             min         0.0        1.114855e-20       0.000000   \n",
       "             25%         0.0        1.110216e-02       0.000000   \n",
       "             50%         0.0        1.182544e-01       0.000000   \n",
       "             75%         0.0        7.442389e-01       0.000000   \n",
       "             max         0.0        9.999869e-01       1.000000   \n",
       "N/A          count   10559.0        1.055900e+04   10559.000000   \n",
       "             mean        0.0        3.307489e-01       0.030401   \n",
       "             std         0.0        3.704749e-01       0.171695   \n",
       "             min         0.0        2.642447e-13       0.000000   \n",
       "             25%         0.0        9.108044e-03       0.000000   \n",
       "             50%         0.0        1.191866e-01       0.000000   \n",
       "             75%         0.0        7.060062e-01       0.000000   \n",
       "             max         0.0        9.999993e-01       1.000000   \n",
       "Virus        count    6619.0        6.619000e+03    6619.000000   \n",
       "             mean        1.0        5.728191e-01       1.000000   \n",
       "             std         0.0        3.503369e-01       0.000000   \n",
       "             min         1.0        1.032876e-05       1.000000   \n",
       "             25%         1.0        2.260243e-01       1.000000   \n",
       "             50%         1.0        6.408295e-01       1.000000   \n",
       "             75%         1.0        9.219542e-01       1.000000   \n",
       "             max         1.0        9.999990e-01       1.000000   \n",
       "unclassified count     187.0        1.870000e+02     187.000000   \n",
       "             mean        0.0        2.671339e-01       0.000000   \n",
       "             std         0.0        3.182292e-01       0.000000   \n",
       "             min         0.0        9.755417e-08       0.000000   \n",
       "             25%         0.0        1.151117e-02       0.000000   \n",
       "             50%         0.0        1.116000e-01       0.000000   \n",
       "             75%         0.0        5.208594e-01       0.000000   \n",
       "             max         0.0        9.915869e-01       0.000000   \n",
       "\n",
       "                           length           pfam  pred_euk_non_euk  \\\n",
       "top_label                                                            \n",
       "Archaea      count    5122.000000    5122.000000       5122.000000   \n",
       "             mean     3188.901991       0.000000          0.629637   \n",
       "             std      1552.633979       0.000000          0.482949   \n",
       "             min      2000.000000       0.000000          0.000000   \n",
       "             25%      2261.000000       0.000000          0.000000   \n",
       "             50%      2675.000000       0.000000          1.000000   \n",
       "             75%      3464.250000       0.000000          1.000000   \n",
       "             max     16612.000000       0.000000          1.000000   \n",
       "Bacteria     count  144895.000000  144895.000000     144895.000000   \n",
       "             mean     3451.312654       0.000186          0.488788   \n",
       "             std      2515.448973       0.013649          0.499876   \n",
       "             min      2000.000000       0.000000          0.000000   \n",
       "             25%      2279.000000       0.000000          0.000000   \n",
       "             50%      2733.000000       0.000000          0.000000   \n",
       "             75%      3648.000000       0.000000          1.000000   \n",
       "             max     91451.000000       1.000000          1.000000   \n",
       "Eukaryota    count   40920.000000   40920.000000      40920.000000   \n",
       "             mean     3134.605279       0.000147          0.435142   \n",
       "             std      1718.277021       0.012108          0.495782   \n",
       "             min      2000.000000       0.000000          0.000000   \n",
       "             25%      2217.000000       0.000000          0.000000   \n",
       "             50%      2585.000000       0.000000          0.000000   \n",
       "             75%      3363.000000       0.000000          1.000000   \n",
       "             max     47047.000000       1.000000          1.000000   \n",
       "N/A          count   10559.000000   10559.000000      10559.000000   \n",
       "             mean     3402.967800       0.028222          0.537361   \n",
       "             std      2098.404863       0.165615          0.498626   \n",
       "             min      2000.000000       0.000000          0.000000   \n",
       "             25%      2294.000000       0.000000          0.000000   \n",
       "             50%      2743.000000       0.000000          1.000000   \n",
       "             75%      3606.000000       0.000000          1.000000   \n",
       "             max     31542.000000       1.000000          1.000000   \n",
       "Virus        count    6619.000000    6619.000000       6619.000000   \n",
       "             mean     3312.285693       0.156821          0.617465   \n",
       "             std      1849.195939       0.363660          0.486043   \n",
       "             min      2000.000000       0.000000          0.000000   \n",
       "             25%      2310.500000       0.000000          0.000000   \n",
       "             50%      2777.000000       0.000000          1.000000   \n",
       "             75%      3680.000000       0.000000          1.000000   \n",
       "             max     41610.000000       1.000000          1.000000   \n",
       "unclassified count     187.000000     187.000000        187.000000   \n",
       "             mean     2961.951872       0.000000          0.518717   \n",
       "             std       931.958357       0.000000          0.500991   \n",
       "             min      2001.000000       0.000000          0.000000   \n",
       "             25%      2207.000000       0.000000          0.000000   \n",
       "             50%      2721.000000       0.000000          1.000000   \n",
       "             75%      3410.500000       0.000000          1.000000   \n",
       "             max      7342.000000       0.000000          1.000000   \n",
       "\n",
       "                    pred_non_euk_virus  pred_virus_non_virus     prediction  \\\n",
       "top_label                                                                     \n",
       "Archaea      count         5122.000000           5122.000000    5122.000000   \n",
       "             mean             0.451972              0.012495       0.665560   \n",
       "             std              0.497737              0.111092       0.471840   \n",
       "             min              0.000000              0.000000       0.000000   \n",
       "             25%              0.000000              0.000000       0.000000   \n",
       "             50%              0.000000              0.000000       1.000000   \n",
       "             75%              1.000000              0.000000       1.000000   \n",
       "             max              1.000000              1.000000       1.000000   \n",
       "Bacteria     count       144895.000000         144895.000000  144895.000000   \n",
       "             mean             0.509044              0.026109       0.197170   \n",
       "             std              0.499920              0.159459       0.397863   \n",
       "             min              0.000000              0.000000       0.000000   \n",
       "             25%              0.000000              0.000000       0.000000   \n",
       "             50%              1.000000              0.000000       0.000000   \n",
       "             75%              1.000000              0.000000       0.000000   \n",
       "             max              1.000000              1.000000       1.000000   \n",
       "Eukaryota    count        40920.000000          40920.000000   40920.000000   \n",
       "             mean             0.612243              0.105108       0.664150   \n",
       "             std              0.487245              0.306696       0.472293   \n",
       "             min              0.000000              0.000000       0.000000   \n",
       "             25%              0.000000              0.000000       0.000000   \n",
       "             50%              1.000000              0.000000       1.000000   \n",
       "             75%              1.000000              0.000000       1.000000   \n",
       "             max              1.000000              1.000000       1.000000   \n",
       "N/A          count        10559.000000          10559.000000   10559.000000   \n",
       "             mean             0.500616              0.036935       0.439057   \n",
       "             std              0.500023              0.188612       0.496296   \n",
       "             min              0.000000              0.000000       0.000000   \n",
       "             25%              0.000000              0.000000       0.000000   \n",
       "             50%              1.000000              0.000000       0.000000   \n",
       "             75%              1.000000              0.000000       1.000000   \n",
       "             max              1.000000              1.000000       1.000000   \n",
       "Virus        count         6619.000000           6619.000000    6619.000000   \n",
       "             mean             0.308959              0.015410       0.780934   \n",
       "             std              0.462099              0.123187       0.413645   \n",
       "             min              0.000000              0.000000       0.000000   \n",
       "             25%              0.000000              0.000000       1.000000   \n",
       "             50%              0.000000              0.000000       1.000000   \n",
       "             75%              1.000000              0.000000       1.000000   \n",
       "             max              1.000000              1.000000       1.000000   \n",
       "unclassified count          187.000000            187.000000     187.000000   \n",
       "             mean             0.352941              0.032086       0.315508   \n",
       "             std              0.479168              0.176700       0.465965   \n",
       "             min              0.000000              0.000000       0.000000   \n",
       "             25%              0.000000              0.000000       0.000000   \n",
       "             50%              0.000000              0.000000       0.000000   \n",
       "             75%              1.000000              0.000000       1.000000   \n",
       "             max              1.000000              1.000000       1.000000   \n",
       "\n",
       "                     probability  score_euk_non_euk  score_non_euk_virus  \\\n",
       "top_label                                                                  \n",
       "Archaea      count  5.122000e+03       5.122000e+03         5.122000e+03   \n",
       "             mean   5.971113e-01       6.212226e-01         4.571700e-01   \n",
       "             std    3.822884e-01       3.994500e-01         3.385060e-01   \n",
       "             min    9.257371e-15       9.892127e-09         9.850046e-06   \n",
       "             25%    1.352331e-01       1.687111e-01         1.190713e-01   \n",
       "             50%    7.615862e-01       8.303721e-01         4.315353e-01   \n",
       "             75%    9.215214e-01       9.883666e-01         7.745058e-01   \n",
       "             max    1.000000e+00       9.999996e-01         9.999697e-01   \n",
       "Bacteria     count  1.448950e+05       1.448950e+05         1.448950e+05   \n",
       "             mean   2.035482e-01       4.894840e-01         5.059232e-01   \n",
       "             std    3.216476e-01       4.172175e-01         3.770643e-01   \n",
       "             min    4.886458e-34       1.536595e-09         2.994483e-09   \n",
       "             25%    3.721085e-05       3.039330e-02         1.021266e-01   \n",
       "             50%    3.751021e-03       4.653301e-01         5.178132e-01   \n",
       "             75%    3.502763e-01       9.602091e-01         9.010699e-01   \n",
       "             max    1.000000e+00       1.000000e+00         1.000000e+00   \n",
       "Eukaryota    count  4.092000e+04       4.092000e+04         4.092000e+04   \n",
       "             mean   6.171013e-01       4.417002e-01         6.200975e-01   \n",
       "             std    4.008131e-01       4.433005e-01         3.820406e-01   \n",
       "             min    1.608784e-40       6.446008e-12         2.588272e-06   \n",
       "             25%    1.260121e-01       4.715501e-03         2.114181e-01   \n",
       "             50%    7.832100e-01       2.269422e-01         7.707933e-01   \n",
       "             75%    9.930793e-01       9.857943e-01         9.921137e-01   \n",
       "             max    1.000000e+00       1.000000e+00         1.000000e+00   \n",
       "N/A          count  1.055900e+04       1.055900e+04         1.055900e+04   \n",
       "             mean   4.234125e-01       5.375196e-01         4.940867e-01   \n",
       "             std    4.213043e-01       4.221819e-01         3.702154e-01   \n",
       "             min    1.479479e-24       1.925903e-11         8.665538e-06   \n",
       "             25%    9.809237e-04       4.576285e-02         1.010640e-01   \n",
       "             50%    2.838910e-01       6.294412e-01         5.006632e-01   \n",
       "             75%    9.155219e-01       9.822328e-01         8.710514e-01   \n",
       "             max    1.000000e+00       1.000000e+00         9.999993e-01   \n",
       "Virus        count  6.619000e+03       6.619000e+03         6.619000e+03   \n",
       "             mean   7.540287e-01       6.060572e-01         3.348951e-01   \n",
       "             std    3.223286e-01       4.015435e-01         3.356060e-01   \n",
       "             min    1.068096e-10       6.454847e-07         1.169350e-05   \n",
       "             25%    5.716192e-01       1.408197e-01         3.283099e-02   \n",
       "             50%    9.448538e-01       7.982789e-01         1.950457e-01   \n",
       "             75%    9.982360e-01       9.870911e-01         6.208244e-01   \n",
       "             max    1.000000e+00       1.000000e+00         9.999249e-01   \n",
       "unclassified count  1.870000e+02       1.870000e+02         1.870000e+02   \n",
       "             mean   3.097574e-01       5.207534e-01         3.838985e-01   \n",
       "             std    3.552735e-01       4.220120e-01         3.357943e-01   \n",
       "             min    4.023632e-14       1.308754e-05         2.606354e-04   \n",
       "             25%    1.192433e-03       5.560194e-02         8.763744e-02   \n",
       "             50%    9.972145e-02       5.270764e-01         2.510244e-01   \n",
       "             75%    5.996457e-01       9.758633e-01         6.747583e-01   \n",
       "             max    9.999999e-01       9.999920e-01         9.979570e-01   \n",
       "\n",
       "                    score_virus_non_virus        tax_id           vfam  \n",
       "top_label                                                               \n",
       "Archaea      count           5.122000e+03  5.122000e+03    5122.000000  \n",
       "             mean            5.325124e-02  5.743020e+05       0.000390  \n",
       "             std             1.087024e-01  6.184834e+05       0.019758  \n",
       "             min             2.864073e-10  2.157000e+03       0.000000  \n",
       "             25%             2.625598e-04  6.835900e+04       0.000000  \n",
       "             50%             6.194406e-03  2.748540e+05       0.000000  \n",
       "             75%             5.093282e-02  9.288520e+05       0.000000  \n",
       "             max             9.911804e-01  1.802371e+06       1.000000  \n",
       "Bacteria     count           1.448950e+05  1.448950e+05  144895.000000  \n",
       "             mean            5.549878e-02  3.527066e+05       0.000228  \n",
       "             std             1.333060e-01  5.962967e+05       0.015090  \n",
       "             min             4.409549e-10  2.000000e+00       0.000000  \n",
       "             25%             4.599308e-04  1.129000e+03       0.000000  \n",
       "             50%             3.838881e-03  4.847900e+04       0.000000  \n",
       "             75%             3.364476e-02  2.541610e+05       0.000000  \n",
       "             max             9.997515e-01  1.904754e+06       1.000000  \n",
       "Eukaryota    count           4.092000e+04  4.092000e+04   40920.000000  \n",
       "             mean            1.364629e-01  2.618114e+05       0.000806  \n",
       "             std             2.457559e-01  4.094175e+05       0.028387  \n",
       "             min             5.811040e-12  2.759000e+03       0.000000  \n",
       "             25%             9.145377e-04  1.379200e+04       0.000000  \n",
       "             50%             1.734109e-02  5.440900e+04       0.000000  \n",
       "             75%             1.290319e-01  2.965870e+05       0.000000  \n",
       "             max             9.998867e-01  1.720309e+06       1.000000  \n",
       "N/A          count           1.055900e+04  1.055900e+04   10559.000000  \n",
       "             mean            6.581093e-02  6.730184e+04       0.002368  \n",
       "             std             1.531926e-01  6.587120e+04       0.048603  \n",
       "             min             5.348955e-09 -2.000000e+00       0.000000  \n",
       "             25%             4.130022e-04  1.000000e+00       0.000000  \n",
       "             50%             3.991317e-03  1.315670e+05       0.000000  \n",
       "             75%             4.047236e-02  1.315670e+05       0.000000  \n",
       "             max             9.952776e-01  1.711930e+05       1.000000  \n",
       "Virus        count           6.619000e+03  6.619000e+03    6619.000000  \n",
       "             mean            3.871948e-02  5.945655e+05       0.001662  \n",
       "             std             1.070080e-01  6.666584e+05       0.040735  \n",
       "             min             2.493190e-08  1.023900e+04       0.000000  \n",
       "             25%             1.450272e-04  1.233300e+04       0.000000  \n",
       "             50%             1.279507e-03  1.968960e+05       0.000000  \n",
       "             75%             1.515337e-02  1.407671e+06       0.000000  \n",
       "             max             9.897234e-01  1.880590e+06       1.000000  \n",
       "unclassified count           1.870000e+02  1.870000e+02     187.000000  \n",
       "             mean            5.836672e-02  3.407826e+05       0.000000  \n",
       "             std             1.419063e-01  2.361086e+05       0.000000  \n",
       "             min             1.910933e-07  8.149000e+04       0.000000  \n",
       "             25%             2.163193e-04  1.516590e+05       0.000000  \n",
       "             50%             1.832341e-03  4.555010e+05       0.000000  \n",
       "             75%             1.985246e-02  4.555370e+05       0.000000  \n",
       "             max             7.243552e-01  7.436460e+05       0.000000  "
      ]
     },
     "execution_count": 136,
     "metadata": {},
     "output_type": "execute_result"
    }
   ],
   "source": [
    "groupby_top_label.describe()"
   ]
  },
  {
   "cell_type": "code",
   "execution_count": 137,
   "metadata": {
    "collapsed": false
   },
   "outputs": [
    {
     "data": {
      "text/html": [
       "<div>\n",
       "<table border=\"1\" class=\"dataframe\">\n",
       "  <thead>\n",
       "    <tr style=\"text-align: right;\">\n",
       "      <th></th>\n",
       "      <th>name</th>\n",
       "      <th>length</th>\n",
       "      <th>probability</th>\n",
       "      <th>prediction</th>\n",
       "      <th>vfam</th>\n",
       "      <th>pfam</th>\n",
       "      <th>diamond</th>\n",
       "      <th>label</th>\n",
       "      <th>score_euk_non_euk</th>\n",
       "      <th>pred_euk_non_euk</th>\n",
       "      <th>...</th>\n",
       "      <th>pred_virus_non_virus</th>\n",
       "      <th>hybrid_probability</th>\n",
       "      <th>hybrid_prediction</th>\n",
       "      <th>tax_id</th>\n",
       "      <th>rank</th>\n",
       "      <th>tax_name</th>\n",
       "      <th>top_label</th>\n",
       "      <th>non_euk_label</th>\n",
       "      <th>micromonas_label</th>\n",
       "      <th>annotation_label</th>\n",
       "    </tr>\n",
       "  </thead>\n",
       "  <tbody>\n",
       "    <tr>\n",
       "      <th>208297</th>\n",
       "      <td>NODE_24_length_2077_cov_446.169_g16_i1</td>\n",
       "      <td>2077</td>\n",
       "      <td>6.905139e-22</td>\n",
       "      <td>0.0</td>\n",
       "      <td>0.0</td>\n",
       "      <td>0.0</td>\n",
       "      <td>0.0</td>\n",
       "      <td>0.0</td>\n",
       "      <td>0.999649</td>\n",
       "      <td>1.0</td>\n",
       "      <td>...</td>\n",
       "      <td>0.0</td>\n",
       "      <td>2.627301e-11</td>\n",
       "      <td>False</td>\n",
       "      <td>2</td>\n",
       "      <td>superkingdom</td>\n",
       "      <td>Bacteria</td>\n",
       "      <td>Bacteria</td>\n",
       "      <td>True</td>\n",
       "      <td>False</td>\n",
       "      <td>with annotation</td>\n",
       "    </tr>\n",
       "    <tr>\n",
       "      <th>208298</th>\n",
       "      <td>NODE_25_length_2052_cov_125.315_g17_i0</td>\n",
       "      <td>2052</td>\n",
       "      <td>3.904817e-01</td>\n",
       "      <td>0.0</td>\n",
       "      <td>0.0</td>\n",
       "      <td>0.0</td>\n",
       "      <td>0.0</td>\n",
       "      <td>0.0</td>\n",
       "      <td>0.987839</td>\n",
       "      <td>1.0</td>\n",
       "      <td>...</td>\n",
       "      <td>0.0</td>\n",
       "      <td>6.210742e-01</td>\n",
       "      <td>True</td>\n",
       "      <td>1768207</td>\n",
       "      <td>species</td>\n",
       "      <td>uncultured bacterium EIL80E09</td>\n",
       "      <td>Bacteria</td>\n",
       "      <td>True</td>\n",
       "      <td>False</td>\n",
       "      <td>with annotation</td>\n",
       "    </tr>\n",
       "    <tr>\n",
       "      <th>208299</th>\n",
       "      <td>NODE_26_length_2034_cov_1097.97_g18_i0</td>\n",
       "      <td>2034</td>\n",
       "      <td>1.245392e-04</td>\n",
       "      <td>0.0</td>\n",
       "      <td>0.0</td>\n",
       "      <td>0.0</td>\n",
       "      <td>0.0</td>\n",
       "      <td>0.0</td>\n",
       "      <td>0.995742</td>\n",
       "      <td>1.0</td>\n",
       "      <td>...</td>\n",
       "      <td>0.0</td>\n",
       "      <td>1.113593e-02</td>\n",
       "      <td>False</td>\n",
       "      <td>131567</td>\n",
       "      <td>no rank</td>\n",
       "      <td>cellular organisms</td>\n",
       "      <td>N/A</td>\n",
       "      <td>True</td>\n",
       "      <td>False</td>\n",
       "      <td>no annotation</td>\n",
       "    </tr>\n",
       "    <tr>\n",
       "      <th>208300</th>\n",
       "      <td>NODE_27_length_2033_cov_751.767_g14_i1</td>\n",
       "      <td>2033</td>\n",
       "      <td>8.587221e-01</td>\n",
       "      <td>1.0</td>\n",
       "      <td>0.0</td>\n",
       "      <td>0.0</td>\n",
       "      <td>0.0</td>\n",
       "      <td>0.0</td>\n",
       "      <td>0.929210</td>\n",
       "      <td>1.0</td>\n",
       "      <td>...</td>\n",
       "      <td>0.0</td>\n",
       "      <td>8.932712e-01</td>\n",
       "      <td>True</td>\n",
       "      <td>1236</td>\n",
       "      <td>class</td>\n",
       "      <td>Gammaproteobacteria</td>\n",
       "      <td>Bacteria</td>\n",
       "      <td>True</td>\n",
       "      <td>False</td>\n",
       "      <td>with annotation</td>\n",
       "    </tr>\n",
       "    <tr>\n",
       "      <th>208301</th>\n",
       "      <td>NODE_29_length_2005_cov_131.118_g20_i0</td>\n",
       "      <td>2005</td>\n",
       "      <td>8.275892e-01</td>\n",
       "      <td>1.0</td>\n",
       "      <td>0.0</td>\n",
       "      <td>0.0</td>\n",
       "      <td>0.0</td>\n",
       "      <td>0.0</td>\n",
       "      <td>0.994023</td>\n",
       "      <td>1.0</td>\n",
       "      <td>...</td>\n",
       "      <td>1.0</td>\n",
       "      <td>9.069967e-01</td>\n",
       "      <td>True</td>\n",
       "      <td>1236</td>\n",
       "      <td>class</td>\n",
       "      <td>Gammaproteobacteria</td>\n",
       "      <td>Bacteria</td>\n",
       "      <td>True</td>\n",
       "      <td>False</td>\n",
       "      <td>with annotation</td>\n",
       "    </tr>\n",
       "  </tbody>\n",
       "</table>\n",
       "<p>5 rows × 23 columns</p>\n",
       "</div>"
      ],
      "text/plain": [
       "                                          name  length   probability  \\\n",
       "208297  NODE_24_length_2077_cov_446.169_g16_i1    2077  6.905139e-22   \n",
       "208298  NODE_25_length_2052_cov_125.315_g17_i0    2052  3.904817e-01   \n",
       "208299  NODE_26_length_2034_cov_1097.97_g18_i0    2034  1.245392e-04   \n",
       "208300  NODE_27_length_2033_cov_751.767_g14_i1    2033  8.587221e-01   \n",
       "208301  NODE_29_length_2005_cov_131.118_g20_i0    2005  8.275892e-01   \n",
       "\n",
       "        prediction  vfam  pfam  diamond  label  score_euk_non_euk  \\\n",
       "208297         0.0   0.0   0.0      0.0    0.0           0.999649   \n",
       "208298         0.0   0.0   0.0      0.0    0.0           0.987839   \n",
       "208299         0.0   0.0   0.0      0.0    0.0           0.995742   \n",
       "208300         1.0   0.0   0.0      0.0    0.0           0.929210   \n",
       "208301         1.0   0.0   0.0      0.0    0.0           0.994023   \n",
       "\n",
       "        pred_euk_non_euk       ...         pred_virus_non_virus  \\\n",
       "208297               1.0       ...                          0.0   \n",
       "208298               1.0       ...                          0.0   \n",
       "208299               1.0       ...                          0.0   \n",
       "208300               1.0       ...                          0.0   \n",
       "208301               1.0       ...                          1.0   \n",
       "\n",
       "        hybrid_probability  hybrid_prediction   tax_id          rank  \\\n",
       "208297        2.627301e-11              False        2  superkingdom   \n",
       "208298        6.210742e-01               True  1768207       species   \n",
       "208299        1.113593e-02              False   131567       no rank   \n",
       "208300        8.932712e-01               True     1236         class   \n",
       "208301        9.069967e-01               True     1236         class   \n",
       "\n",
       "                             tax_name  top_label non_euk_label  \\\n",
       "208297                       Bacteria   Bacteria          True   \n",
       "208298  uncultured bacterium EIL80E09   Bacteria          True   \n",
       "208299             cellular organisms        N/A          True   \n",
       "208300            Gammaproteobacteria   Bacteria          True   \n",
       "208301            Gammaproteobacteria   Bacteria          True   \n",
       "\n",
       "       micromonas_label annotation_label  \n",
       "208297            False  with annotation  \n",
       "208298            False  with annotation  \n",
       "208299            False    no annotation  \n",
       "208300            False  with annotation  \n",
       "208301            False  with annotation  \n",
       "\n",
       "[5 rows x 23 columns]"
      ]
     },
     "execution_count": 137,
     "metadata": {},
     "output_type": "execute_result"
    }
   ],
   "source": [
    "new_table.tail()"
   ]
  },
  {
   "cell_type": "markdown",
   "metadata": {},
   "source": [
    "### Split the TARA contigs into 3 categories\n",
    "\n",
    "- \"Virus\" has virus-related domain hits or annotated as \"virus\" by MEGAN\n",
    "- \"Non-virus\" , no virus-related domain hits, annotated as some non-virus taxonomical group by MEGAN \n",
    "- \"Unknown\",  no virus-related domain hits, not annotated into any taxonomical group by MEGAN, top_label as \"N/A\""
   ]
  },
  {
   "cell_type": "markdown",
   "metadata": {},
   "source": [
    "#### subsample \"non-virus\" and \"unknown\" to have same number of \"Virus\" contigs - 6913"
   ]
  },
  {
   "cell_type": "code",
   "execution_count": 146,
   "metadata": {
    "collapsed": false
   },
   "outputs": [
    {
     "name": "stderr",
     "output_type": "stream",
     "text": [
      "/global/u2/q/qpzhang/anaconda/lib/python2.7/site-packages/ipykernel/__main__.py:2: UserWarning: Boolean Series key will be reindexed to match DataFrame index.\n",
      "  from ipykernel import kernelapp as app\n",
      "/global/u2/q/qpzhang/anaconda/lib/python2.7/site-packages/ipykernel/__main__.py:8: UserWarning: Boolean Series key will be reindexed to match DataFrame index.\n"
     ]
    }
   ],
   "source": [
    "# \"non-virus\" data frame... non-virus and with annotation by MEGAN\n",
    "df_nonvirus = new_table[new_table.label==0.0][new_table['annotation_label']== 'with annotation']\n",
    "df_nonvirus_subsample = df_nonvirus.sample(n=7041, replace=False)\n",
    "df_nonvirus_subsample.to_csv('df_nonvirus_subsample.csv')\n",
    "\n",
    "# \"Unknown\" data frame... and without annotation by MEGAN\n",
    "\n",
    "df_unknown = new_table[new_table.label==0.0][new_table['annotation_label']== 'no annotation']\n",
    "df_unknown_subsample = df_unknown.sample(n=7041, replace=False)\n",
    "df_unknown_subsample.to_csv('df_unknown_subsample.csv')\n",
    "\n",
    "### \"Virus\" contigs...  has pfam hits or annotated as \"virus\" by MEGAN\n",
    "df_virus = new_table[new_table.label==1.0]\n",
    "df_virus.to_csv('df_virus.csv')\n",
    "\n"
   ]
  },
  {
   "cell_type": "code",
   "execution_count": 255,
   "metadata": {
    "collapsed": true
   },
   "outputs": [],
   "source": [
    "def get_category(df):\n",
    "    if df.label == 0.0:\n",
    "        if df.annotation_label == 'with annotation':\n",
    "            return 'nonvirus'\n",
    "        else:\n",
    "            return 'unknown'\n",
    "    else:\n",
    "        return 'virus'"
   ]
  },
  {
   "cell_type": "code",
   "execution_count": 258,
   "metadata": {
    "collapsed": false
   },
   "outputs": [],
   "source": [
    "new_table['category'] = new_table.apply(get_category, axis=1)"
   ]
  },
  {
   "cell_type": "code",
   "execution_count": 261,
   "metadata": {
    "collapsed": false
   },
   "outputs": [
    {
     "data": {
      "text/html": [
       "<div>\n",
       "<table border=\"1\" class=\"dataframe\">\n",
       "  <thead>\n",
       "    <tr style=\"text-align: right;\">\n",
       "      <th></th>\n",
       "      <th></th>\n",
       "      <th>diamond</th>\n",
       "      <th>hybrid_probability</th>\n",
       "      <th>label</th>\n",
       "      <th>length</th>\n",
       "      <th>pfam</th>\n",
       "      <th>pred_euk_non_euk</th>\n",
       "      <th>pred_non_euk_virus</th>\n",
       "      <th>pred_virus_non_virus</th>\n",
       "      <th>prediction</th>\n",
       "      <th>probability</th>\n",
       "      <th>score_euk_non_euk</th>\n",
       "      <th>score_non_euk_virus</th>\n",
       "      <th>score_virus_non_virus</th>\n",
       "      <th>tax_id</th>\n",
       "      <th>vfam</th>\n",
       "    </tr>\n",
       "    <tr>\n",
       "      <th>category</th>\n",
       "      <th></th>\n",
       "      <th></th>\n",
       "      <th></th>\n",
       "      <th></th>\n",
       "      <th></th>\n",
       "      <th></th>\n",
       "      <th></th>\n",
       "      <th></th>\n",
       "      <th></th>\n",
       "      <th></th>\n",
       "      <th></th>\n",
       "      <th></th>\n",
       "      <th></th>\n",
       "      <th></th>\n",
       "      <th></th>\n",
       "      <th></th>\n",
       "    </tr>\n",
       "  </thead>\n",
       "  <tbody>\n",
       "    <tr>\n",
       "      <th rowspan=\"8\" valign=\"top\">nonvirus</th>\n",
       "      <th>count</th>\n",
       "      <td>191023.000000</td>\n",
       "      <td>1.910230e+05</td>\n",
       "      <td>191023.0</td>\n",
       "      <td>191023.000000</td>\n",
       "      <td>191023.000000</td>\n",
       "      <td>191023.000000</td>\n",
       "      <td>191023.000000</td>\n",
       "      <td>191023.000000</td>\n",
       "      <td>191023.000000</td>\n",
       "      <td>1.910230e+05</td>\n",
       "      <td>1.910230e+05</td>\n",
       "      <td>1.910230e+05</td>\n",
       "      <td>1.910230e+05</td>\n",
       "      <td>1.910230e+05</td>\n",
       "      <td>191023.000000</td>\n",
       "    </tr>\n",
       "    <tr>\n",
       "      <th>mean</th>\n",
       "      <td>0.000000</td>\n",
       "      <td>2.344065e-01</td>\n",
       "      <td>0.0</td>\n",
       "      <td>3376.167823</td>\n",
       "      <td>0.000000</td>\n",
       "      <td>0.481141</td>\n",
       "      <td>0.529496</td>\n",
       "      <td>0.042681</td>\n",
       "      <td>0.309685</td>\n",
       "      <td>3.026108e-01</td>\n",
       "      <td>4.828409e-01</td>\n",
       "      <td>5.289622e-01</td>\n",
       "      <td>7.279002e-02</td>\n",
       "      <td>3.390372e+05</td>\n",
       "      <td>0.000000</td>\n",
       "    </tr>\n",
       "    <tr>\n",
       "      <th>std</th>\n",
       "      <td>0.000000</td>\n",
       "      <td>3.267217e-01</td>\n",
       "      <td>0.0</td>\n",
       "      <td>2348.303005</td>\n",
       "      <td>0.000000</td>\n",
       "      <td>0.499646</td>\n",
       "      <td>0.499131</td>\n",
       "      <td>0.202137</td>\n",
       "      <td>0.462365</td>\n",
       "      <td>3.843955e-01</td>\n",
       "      <td>4.235415e-01</td>\n",
       "      <td>3.801944e-01</td>\n",
       "      <td>1.668901e-01</td>\n",
       "      <td>5.643439e+05</td>\n",
       "      <td>0.000000</td>\n",
       "    </tr>\n",
       "    <tr>\n",
       "      <th>min</th>\n",
       "      <td>0.000000</td>\n",
       "      <td>1.114855e-20</td>\n",
       "      <td>0.0</td>\n",
       "      <td>2000.000000</td>\n",
       "      <td>0.000000</td>\n",
       "      <td>0.000000</td>\n",
       "      <td>0.000000</td>\n",
       "      <td>0.000000</td>\n",
       "      <td>0.000000</td>\n",
       "      <td>1.608784e-40</td>\n",
       "      <td>6.446008e-12</td>\n",
       "      <td>2.994483e-09</td>\n",
       "      <td>5.811040e-12</td>\n",
       "      <td>2.000000e+00</td>\n",
       "      <td>0.000000</td>\n",
       "    </tr>\n",
       "    <tr>\n",
       "      <th>25%</th>\n",
       "      <td>0.000000</td>\n",
       "      <td>2.322295e-03</td>\n",
       "      <td>0.0</td>\n",
       "      <td>2263.000000</td>\n",
       "      <td>0.000000</td>\n",
       "      <td>0.000000</td>\n",
       "      <td>0.000000</td>\n",
       "      <td>0.000000</td>\n",
       "      <td>0.000000</td>\n",
       "      <td>9.718292e-05</td>\n",
       "      <td>2.175063e-02</td>\n",
       "      <td>1.217820e-01</td>\n",
       "      <td>4.966606e-04</td>\n",
       "      <td>1.236000e+03</td>\n",
       "      <td>0.000000</td>\n",
       "    </tr>\n",
       "    <tr>\n",
       "      <th>50%</th>\n",
       "      <td>0.000000</td>\n",
       "      <td>3.324407e-02</td>\n",
       "      <td>0.0</td>\n",
       "      <td>2699.000000</td>\n",
       "      <td>0.000000</td>\n",
       "      <td>0.000000</td>\n",
       "      <td>1.000000</td>\n",
       "      <td>0.000000</td>\n",
       "      <td>0.000000</td>\n",
       "      <td>2.257309e-02</td>\n",
       "      <td>4.367637e-01</td>\n",
       "      <td>5.619826e-01</td>\n",
       "      <td>5.172906e-03</td>\n",
       "      <td>4.954600e+04</td>\n",
       "      <td>0.000000</td>\n",
       "    </tr>\n",
       "    <tr>\n",
       "      <th>75%</th>\n",
       "      <td>0.000000</td>\n",
       "      <td>4.495385e-01</td>\n",
       "      <td>0.0</td>\n",
       "      <td>3579.000000</td>\n",
       "      <td>0.000000</td>\n",
       "      <td>1.000000</td>\n",
       "      <td>1.000000</td>\n",
       "      <td>0.000000</td>\n",
       "      <td>1.000000</td>\n",
       "      <td>6.558244e-01</td>\n",
       "      <td>9.672531e-01</td>\n",
       "      <td>9.305919e-01</td>\n",
       "      <td>4.792010e-02</td>\n",
       "      <td>2.965870e+05</td>\n",
       "      <td>0.000000</td>\n",
       "    </tr>\n",
       "    <tr>\n",
       "      <th>max</th>\n",
       "      <td>0.000000</td>\n",
       "      <td>1.000000e+00</td>\n",
       "      <td>0.0</td>\n",
       "      <td>91451.000000</td>\n",
       "      <td>0.000000</td>\n",
       "      <td>1.000000</td>\n",
       "      <td>1.000000</td>\n",
       "      <td>1.000000</td>\n",
       "      <td>1.000000</td>\n",
       "      <td>1.000000e+00</td>\n",
       "      <td>1.000000e+00</td>\n",
       "      <td>1.000000e+00</td>\n",
       "      <td>9.998867e-01</td>\n",
       "      <td>1.904754e+06</td>\n",
       "      <td>0.000000</td>\n",
       "    </tr>\n",
       "    <tr>\n",
       "      <th rowspan=\"8\" valign=\"top\">unknown</th>\n",
       "      <th>count</th>\n",
       "      <td>10238.000000</td>\n",
       "      <td>1.023800e+04</td>\n",
       "      <td>10238.0</td>\n",
       "      <td>10238.000000</td>\n",
       "      <td>10238.000000</td>\n",
       "      <td>10238.000000</td>\n",
       "      <td>10238.000000</td>\n",
       "      <td>10238.000000</td>\n",
       "      <td>10238.000000</td>\n",
       "      <td>1.023800e+04</td>\n",
       "      <td>1.023800e+04</td>\n",
       "      <td>1.023800e+04</td>\n",
       "      <td>1.023800e+04</td>\n",
       "      <td>1.023800e+04</td>\n",
       "      <td>10238.000000</td>\n",
       "    </tr>\n",
       "    <tr>\n",
       "      <th>mean</th>\n",
       "      <td>0.000000</td>\n",
       "      <td>3.153384e-01</td>\n",
       "      <td>0.0</td>\n",
       "      <td>3420.347529</td>\n",
       "      <td>0.000000</td>\n",
       "      <td>0.525982</td>\n",
       "      <td>0.514065</td>\n",
       "      <td>0.037703</td>\n",
       "      <td>0.425376</td>\n",
       "      <td>4.108722e-01</td>\n",
       "      <td>5.266088e-01</td>\n",
       "      <td>5.062035e-01</td>\n",
       "      <td>6.722813e-02</td>\n",
       "      <td>6.938628e+04</td>\n",
       "      <td>0.000000</td>\n",
       "    </tr>\n",
       "    <tr>\n",
       "      <th>std</th>\n",
       "      <td>0.000000</td>\n",
       "      <td>3.631525e-01</td>\n",
       "      <td>0.0</td>\n",
       "      <td>2125.034870</td>\n",
       "      <td>0.000000</td>\n",
       "      <td>0.499349</td>\n",
       "      <td>0.499827</td>\n",
       "      <td>0.190486</td>\n",
       "      <td>0.494424</td>\n",
       "      <td>4.190371e-01</td>\n",
       "      <td>4.221528e-01</td>\n",
       "      <td>3.676817e-01</td>\n",
       "      <td>1.542490e-01</td>\n",
       "      <td>6.579345e+04</td>\n",
       "      <td>0.000000</td>\n",
       "    </tr>\n",
       "    <tr>\n",
       "      <th>min</th>\n",
       "      <td>0.000000</td>\n",
       "      <td>2.642447e-13</td>\n",
       "      <td>0.0</td>\n",
       "      <td>2000.000000</td>\n",
       "      <td>0.000000</td>\n",
       "      <td>0.000000</td>\n",
       "      <td>0.000000</td>\n",
       "      <td>0.000000</td>\n",
       "      <td>0.000000</td>\n",
       "      <td>1.479479e-24</td>\n",
       "      <td>1.925903e-11</td>\n",
       "      <td>8.665538e-06</td>\n",
       "      <td>5.348955e-09</td>\n",
       "      <td>-2.000000e+00</td>\n",
       "      <td>0.000000</td>\n",
       "    </tr>\n",
       "    <tr>\n",
       "      <th>25%</th>\n",
       "      <td>0.000000</td>\n",
       "      <td>8.071159e-03</td>\n",
       "      <td>0.0</td>\n",
       "      <td>2288.250000</td>\n",
       "      <td>0.000000</td>\n",
       "      <td>0.000000</td>\n",
       "      <td>0.000000</td>\n",
       "      <td>0.000000</td>\n",
       "      <td>0.000000</td>\n",
       "      <td>8.628066e-04</td>\n",
       "      <td>4.056350e-02</td>\n",
       "      <td>1.192573e-01</td>\n",
       "      <td>4.469467e-04</td>\n",
       "      <td>1.000000e+00</td>\n",
       "      <td>0.000000</td>\n",
       "    </tr>\n",
       "    <tr>\n",
       "      <th>50%</th>\n",
       "      <td>0.000000</td>\n",
       "      <td>1.009942e-01</td>\n",
       "      <td>0.0</td>\n",
       "      <td>2735.000000</td>\n",
       "      <td>0.000000</td>\n",
       "      <td>1.000000</td>\n",
       "      <td>1.000000</td>\n",
       "      <td>0.000000</td>\n",
       "      <td>0.000000</td>\n",
       "      <td>2.439133e-01</td>\n",
       "      <td>5.843205e-01</td>\n",
       "      <td>5.238094e-01</td>\n",
       "      <td>4.352570e-03</td>\n",
       "      <td>1.315670e+05</td>\n",
       "      <td>0.000000</td>\n",
       "    </tr>\n",
       "    <tr>\n",
       "      <th>75%</th>\n",
       "      <td>0.000000</td>\n",
       "      <td>6.623834e-01</td>\n",
       "      <td>0.0</td>\n",
       "      <td>3663.750000</td>\n",
       "      <td>0.000000</td>\n",
       "      <td>1.000000</td>\n",
       "      <td>1.000000</td>\n",
       "      <td>0.000000</td>\n",
       "      <td>1.000000</td>\n",
       "      <td>8.941688e-01</td>\n",
       "      <td>9.785865e-01</td>\n",
       "      <td>8.774776e-01</td>\n",
       "      <td>4.303093e-02</td>\n",
       "      <td>1.315670e+05</td>\n",
       "      <td>0.000000</td>\n",
       "    </tr>\n",
       "    <tr>\n",
       "      <th>max</th>\n",
       "      <td>0.000000</td>\n",
       "      <td>9.999993e-01</td>\n",
       "      <td>0.0</td>\n",
       "      <td>31542.000000</td>\n",
       "      <td>0.000000</td>\n",
       "      <td>1.000000</td>\n",
       "      <td>1.000000</td>\n",
       "      <td>1.000000</td>\n",
       "      <td>1.000000</td>\n",
       "      <td>1.000000e+00</td>\n",
       "      <td>1.000000e+00</td>\n",
       "      <td>9.999993e-01</td>\n",
       "      <td>9.952776e-01</td>\n",
       "      <td>1.711930e+05</td>\n",
       "      <td>0.000000</td>\n",
       "    </tr>\n",
       "    <tr>\n",
       "      <th rowspan=\"8\" valign=\"top\">virus</th>\n",
       "      <th>count</th>\n",
       "      <td>7041.000000</td>\n",
       "      <td>7.041000e+03</td>\n",
       "      <td>7041.0</td>\n",
       "      <td>7041.000000</td>\n",
       "      <td>7041.000000</td>\n",
       "      <td>7041.000000</td>\n",
       "      <td>7041.000000</td>\n",
       "      <td>7041.000000</td>\n",
       "      <td>7041.000000</td>\n",
       "      <td>7.041000e+03</td>\n",
       "      <td>7.041000e+03</td>\n",
       "      <td>7.041000e+03</td>\n",
       "      <td>7.041000e+03</td>\n",
       "      <td>7.041000e+03</td>\n",
       "      <td>7041.000000</td>\n",
       "    </tr>\n",
       "    <tr>\n",
       "      <th>mean</th>\n",
       "      <td>0.940065</td>\n",
       "      <td>5.806933e-01</td>\n",
       "      <td>1.0</td>\n",
       "      <td>3287.341003</td>\n",
       "      <td>0.194433</td>\n",
       "      <td>0.627468</td>\n",
       "      <td>0.300241</td>\n",
       "      <td>0.015197</td>\n",
       "      <td>0.782133</td>\n",
       "      <td>7.542705e-01</td>\n",
       "      <td>6.163139e-01</td>\n",
       "      <td>3.267756e-01</td>\n",
       "      <td>3.800008e-02</td>\n",
       "      <td>5.675094e+05</td>\n",
       "      <td>0.014771</td>\n",
       "    </tr>\n",
       "    <tr>\n",
       "      <th>std</th>\n",
       "      <td>0.237383</td>\n",
       "      <td>3.514497e-01</td>\n",
       "      <td>0.0</td>\n",
       "      <td>1807.757937</td>\n",
       "      <td>0.395791</td>\n",
       "      <td>0.483513</td>\n",
       "      <td>0.458395</td>\n",
       "      <td>0.122343</td>\n",
       "      <td>0.412826</td>\n",
       "      <td>3.229911e-01</td>\n",
       "      <td>4.009598e-01</td>\n",
       "      <td>3.357460e-01</td>\n",
       "      <td>1.069962e-01</td>\n",
       "      <td>6.644340e+05</td>\n",
       "      <td>0.120642</td>\n",
       "    </tr>\n",
       "    <tr>\n",
       "      <th>min</th>\n",
       "      <td>0.000000</td>\n",
       "      <td>1.422982e-06</td>\n",
       "      <td>1.0</td>\n",
       "      <td>2000.000000</td>\n",
       "      <td>0.000000</td>\n",
       "      <td>0.000000</td>\n",
       "      <td>0.000000</td>\n",
       "      <td>0.000000</td>\n",
       "      <td>0.000000</td>\n",
       "      <td>1.067368e-10</td>\n",
       "      <td>6.454847e-07</td>\n",
       "      <td>1.169350e-05</td>\n",
       "      <td>2.493190e-08</td>\n",
       "      <td>-2.000000e+00</td>\n",
       "      <td>0.000000</td>\n",
       "    </tr>\n",
       "    <tr>\n",
       "      <th>25%</th>\n",
       "      <td>1.000000</td>\n",
       "      <td>2.307722e-01</td>\n",
       "      <td>1.0</td>\n",
       "      <td>2316.000000</td>\n",
       "      <td>0.000000</td>\n",
       "      <td>0.000000</td>\n",
       "      <td>0.000000</td>\n",
       "      <td>0.000000</td>\n",
       "      <td>1.000000</td>\n",
       "      <td>5.696865e-01</td>\n",
       "      <td>1.522336e-01</td>\n",
       "      <td>2.841752e-02</td>\n",
       "      <td>1.417346e-04</td>\n",
       "      <td>1.023900e+04</td>\n",
       "      <td>0.000000</td>\n",
       "    </tr>\n",
       "    <tr>\n",
       "      <th>50%</th>\n",
       "      <td>1.000000</td>\n",
       "      <td>6.551387e-01</td>\n",
       "      <td>1.0</td>\n",
       "      <td>2786.000000</td>\n",
       "      <td>0.000000</td>\n",
       "      <td>1.000000</td>\n",
       "      <td>0.000000</td>\n",
       "      <td>0.000000</td>\n",
       "      <td>1.000000</td>\n",
       "      <td>9.473064e-01</td>\n",
       "      <td>8.239797e-01</td>\n",
       "      <td>1.829086e-01</td>\n",
       "      <td>1.207770e-03</td>\n",
       "      <td>1.968960e+05</td>\n",
       "      <td>0.000000</td>\n",
       "    </tr>\n",
       "    <tr>\n",
       "      <th>75%</th>\n",
       "      <td>1.000000</td>\n",
       "      <td>9.304319e-01</td>\n",
       "      <td>1.0</td>\n",
       "      <td>3608.000000</td>\n",
       "      <td>0.000000</td>\n",
       "      <td>1.000000</td>\n",
       "      <td>1.000000</td>\n",
       "      <td>0.000000</td>\n",
       "      <td>1.000000</td>\n",
       "      <td>9.981627e-01</td>\n",
       "      <td>9.895347e-01</td>\n",
       "      <td>6.067313e-01</td>\n",
       "      <td>1.418235e-02</td>\n",
       "      <td>1.407671e+06</td>\n",
       "      <td>0.000000</td>\n",
       "    </tr>\n",
       "    <tr>\n",
       "      <th>max</th>\n",
       "      <td>1.000000</td>\n",
       "      <td>9.999990e-01</td>\n",
       "      <td>1.0</td>\n",
       "      <td>41610.000000</td>\n",
       "      <td>1.000000</td>\n",
       "      <td>1.000000</td>\n",
       "      <td>1.000000</td>\n",
       "      <td>1.000000</td>\n",
       "      <td>1.000000</td>\n",
       "      <td>1.000000e+00</td>\n",
       "      <td>1.000000e+00</td>\n",
       "      <td>9.999625e-01</td>\n",
       "      <td>9.897234e-01</td>\n",
       "      <td>1.880590e+06</td>\n",
       "      <td>1.000000</td>\n",
       "    </tr>\n",
       "  </tbody>\n",
       "</table>\n",
       "</div>"
      ],
      "text/plain": [
       "                      diamond  hybrid_probability     label         length  \\\n",
       "category                                                                     \n",
       "nonvirus count  191023.000000        1.910230e+05  191023.0  191023.000000   \n",
       "         mean        0.000000        2.344065e-01       0.0    3376.167823   \n",
       "         std         0.000000        3.267217e-01       0.0    2348.303005   \n",
       "         min         0.000000        1.114855e-20       0.0    2000.000000   \n",
       "         25%         0.000000        2.322295e-03       0.0    2263.000000   \n",
       "         50%         0.000000        3.324407e-02       0.0    2699.000000   \n",
       "         75%         0.000000        4.495385e-01       0.0    3579.000000   \n",
       "         max         0.000000        1.000000e+00       0.0   91451.000000   \n",
       "unknown  count   10238.000000        1.023800e+04   10238.0   10238.000000   \n",
       "         mean        0.000000        3.153384e-01       0.0    3420.347529   \n",
       "         std         0.000000        3.631525e-01       0.0    2125.034870   \n",
       "         min         0.000000        2.642447e-13       0.0    2000.000000   \n",
       "         25%         0.000000        8.071159e-03       0.0    2288.250000   \n",
       "         50%         0.000000        1.009942e-01       0.0    2735.000000   \n",
       "         75%         0.000000        6.623834e-01       0.0    3663.750000   \n",
       "         max         0.000000        9.999993e-01       0.0   31542.000000   \n",
       "virus    count    7041.000000        7.041000e+03    7041.0    7041.000000   \n",
       "         mean        0.940065        5.806933e-01       1.0    3287.341003   \n",
       "         std         0.237383        3.514497e-01       0.0    1807.757937   \n",
       "         min         0.000000        1.422982e-06       1.0    2000.000000   \n",
       "         25%         1.000000        2.307722e-01       1.0    2316.000000   \n",
       "         50%         1.000000        6.551387e-01       1.0    2786.000000   \n",
       "         75%         1.000000        9.304319e-01       1.0    3608.000000   \n",
       "         max         1.000000        9.999990e-01       1.0   41610.000000   \n",
       "\n",
       "                         pfam  pred_euk_non_euk  pred_non_euk_virus  \\\n",
       "category                                                              \n",
       "nonvirus count  191023.000000     191023.000000       191023.000000   \n",
       "         mean        0.000000          0.481141            0.529496   \n",
       "         std         0.000000          0.499646            0.499131   \n",
       "         min         0.000000          0.000000            0.000000   \n",
       "         25%         0.000000          0.000000            0.000000   \n",
       "         50%         0.000000          0.000000            1.000000   \n",
       "         75%         0.000000          1.000000            1.000000   \n",
       "         max         0.000000          1.000000            1.000000   \n",
       "unknown  count   10238.000000      10238.000000        10238.000000   \n",
       "         mean        0.000000          0.525982            0.514065   \n",
       "         std         0.000000          0.499349            0.499827   \n",
       "         min         0.000000          0.000000            0.000000   \n",
       "         25%         0.000000          0.000000            0.000000   \n",
       "         50%         0.000000          1.000000            1.000000   \n",
       "         75%         0.000000          1.000000            1.000000   \n",
       "         max         0.000000          1.000000            1.000000   \n",
       "virus    count    7041.000000       7041.000000         7041.000000   \n",
       "         mean        0.194433          0.627468            0.300241   \n",
       "         std         0.395791          0.483513            0.458395   \n",
       "         min         0.000000          0.000000            0.000000   \n",
       "         25%         0.000000          0.000000            0.000000   \n",
       "         50%         0.000000          1.000000            0.000000   \n",
       "         75%         0.000000          1.000000            1.000000   \n",
       "         max         1.000000          1.000000            1.000000   \n",
       "\n",
       "                pred_virus_non_virus     prediction   probability  \\\n",
       "category                                                            \n",
       "nonvirus count         191023.000000  191023.000000  1.910230e+05   \n",
       "         mean               0.042681       0.309685  3.026108e-01   \n",
       "         std                0.202137       0.462365  3.843955e-01   \n",
       "         min                0.000000       0.000000  1.608784e-40   \n",
       "         25%                0.000000       0.000000  9.718292e-05   \n",
       "         50%                0.000000       0.000000  2.257309e-02   \n",
       "         75%                0.000000       1.000000  6.558244e-01   \n",
       "         max                1.000000       1.000000  1.000000e+00   \n",
       "unknown  count          10238.000000   10238.000000  1.023800e+04   \n",
       "         mean               0.037703       0.425376  4.108722e-01   \n",
       "         std                0.190486       0.494424  4.190371e-01   \n",
       "         min                0.000000       0.000000  1.479479e-24   \n",
       "         25%                0.000000       0.000000  8.628066e-04   \n",
       "         50%                0.000000       0.000000  2.439133e-01   \n",
       "         75%                0.000000       1.000000  8.941688e-01   \n",
       "         max                1.000000       1.000000  1.000000e+00   \n",
       "virus    count           7041.000000    7041.000000  7.041000e+03   \n",
       "         mean               0.015197       0.782133  7.542705e-01   \n",
       "         std                0.122343       0.412826  3.229911e-01   \n",
       "         min                0.000000       0.000000  1.067368e-10   \n",
       "         25%                0.000000       1.000000  5.696865e-01   \n",
       "         50%                0.000000       1.000000  9.473064e-01   \n",
       "         75%                0.000000       1.000000  9.981627e-01   \n",
       "         max                1.000000       1.000000  1.000000e+00   \n",
       "\n",
       "                score_euk_non_euk  score_non_euk_virus  score_virus_non_virus  \\\n",
       "category                                                                        \n",
       "nonvirus count       1.910230e+05         1.910230e+05           1.910230e+05   \n",
       "         mean        4.828409e-01         5.289622e-01           7.279002e-02   \n",
       "         std         4.235415e-01         3.801944e-01           1.668901e-01   \n",
       "         min         6.446008e-12         2.994483e-09           5.811040e-12   \n",
       "         25%         2.175063e-02         1.217820e-01           4.966606e-04   \n",
       "         50%         4.367637e-01         5.619826e-01           5.172906e-03   \n",
       "         75%         9.672531e-01         9.305919e-01           4.792010e-02   \n",
       "         max         1.000000e+00         1.000000e+00           9.998867e-01   \n",
       "unknown  count       1.023800e+04         1.023800e+04           1.023800e+04   \n",
       "         mean        5.266088e-01         5.062035e-01           6.722813e-02   \n",
       "         std         4.221528e-01         3.676817e-01           1.542490e-01   \n",
       "         min         1.925903e-11         8.665538e-06           5.348955e-09   \n",
       "         25%         4.056350e-02         1.192573e-01           4.469467e-04   \n",
       "         50%         5.843205e-01         5.238094e-01           4.352570e-03   \n",
       "         75%         9.785865e-01         8.774776e-01           4.303093e-02   \n",
       "         max         1.000000e+00         9.999993e-01           9.952776e-01   \n",
       "virus    count       7.041000e+03         7.041000e+03           7.041000e+03   \n",
       "         mean        6.163139e-01         3.267756e-01           3.800008e-02   \n",
       "         std         4.009598e-01         3.357460e-01           1.069962e-01   \n",
       "         min         6.454847e-07         1.169350e-05           2.493190e-08   \n",
       "         25%         1.522336e-01         2.841752e-02           1.417346e-04   \n",
       "         50%         8.239797e-01         1.829086e-01           1.207770e-03   \n",
       "         75%         9.895347e-01         6.067313e-01           1.418235e-02   \n",
       "         max         1.000000e+00         9.999625e-01           9.897234e-01   \n",
       "\n",
       "                      tax_id           vfam  \n",
       "category                                     \n",
       "nonvirus count  1.910230e+05  191023.000000  \n",
       "         mean   3.390372e+05       0.000000  \n",
       "         std    5.643439e+05       0.000000  \n",
       "         min    2.000000e+00       0.000000  \n",
       "         25%    1.236000e+03       0.000000  \n",
       "         50%    4.954600e+04       0.000000  \n",
       "         75%    2.965870e+05       0.000000  \n",
       "         max    1.904754e+06       0.000000  \n",
       "unknown  count  1.023800e+04   10238.000000  \n",
       "         mean   6.938628e+04       0.000000  \n",
       "         std    6.579345e+04       0.000000  \n",
       "         min   -2.000000e+00       0.000000  \n",
       "         25%    1.000000e+00       0.000000  \n",
       "         50%    1.315670e+05       0.000000  \n",
       "         75%    1.315670e+05       0.000000  \n",
       "         max    1.711930e+05       0.000000  \n",
       "virus    count  7.041000e+03    7041.000000  \n",
       "         mean   5.675094e+05       0.014771  \n",
       "         std    6.644340e+05       0.120642  \n",
       "         min   -2.000000e+00       0.000000  \n",
       "         25%    1.023900e+04       0.000000  \n",
       "         50%    1.968960e+05       0.000000  \n",
       "         75%    1.407671e+06       0.000000  \n",
       "         max    1.880590e+06       1.000000  "
      ]
     },
     "execution_count": 261,
     "metadata": {},
     "output_type": "execute_result"
    }
   ],
   "source": [
    "new_table.groupby('category').describe()\n"
   ]
  },
  {
   "cell_type": "markdown",
   "metadata": {},
   "source": [
    "#### subsample \"non-euk\" to have same number of \"euk\" contigs, for evaluating euk/non-euk model"
   ]
  },
  {
   "cell_type": "code",
   "execution_count": 190,
   "metadata": {
    "collapsed": false
   },
   "outputs": [
    {
     "name": "stderr",
     "output_type": "stream",
     "text": [
      "/global/u2/q/qpzhang/anaconda/lib/python2.7/site-packages/ipykernel/__main__.py:2: UserWarning: Boolean Series key will be reindexed to match DataFrame index.\n",
      "  from ipykernel import kernelapp as app\n"
     ]
    }
   ],
   "source": [
    "# \"non-euk\" data frame... non-virus and with annotation by MEGAN\n",
    "df_euk = new_table[new_table.non_euk_label==False][new_table['annotation_label']== 'with annotation']"
   ]
  },
  {
   "cell_type": "code",
   "execution_count": 191,
   "metadata": {
    "collapsed": false
   },
   "outputs": [
    {
     "data": {
      "text/plain": [
       "40920"
      ]
     },
     "execution_count": 191,
     "metadata": {},
     "output_type": "execute_result"
    }
   ],
   "source": [
    "len(df_euk)"
   ]
  },
  {
   "cell_type": "code",
   "execution_count": 183,
   "metadata": {
    "collapsed": false
   },
   "outputs": [
    {
     "data": {
      "text/html": [
       "<div>\n",
       "<table border=\"1\" class=\"dataframe\">\n",
       "  <thead>\n",
       "    <tr style=\"text-align: right;\">\n",
       "      <th></th>\n",
       "      <th>name</th>\n",
       "      <th>length</th>\n",
       "      <th>probability</th>\n",
       "      <th>prediction</th>\n",
       "      <th>vfam</th>\n",
       "      <th>pfam</th>\n",
       "      <th>diamond</th>\n",
       "      <th>label</th>\n",
       "      <th>score_euk_non_euk</th>\n",
       "      <th>pred_euk_non_euk</th>\n",
       "      <th>...</th>\n",
       "      <th>pred_virus_non_virus</th>\n",
       "      <th>hybrid_probability</th>\n",
       "      <th>hybrid_prediction</th>\n",
       "      <th>tax_id</th>\n",
       "      <th>rank</th>\n",
       "      <th>tax_name</th>\n",
       "      <th>top_label</th>\n",
       "      <th>non_euk_label</th>\n",
       "      <th>micromonas_label</th>\n",
       "      <th>annotation_label</th>\n",
       "    </tr>\n",
       "  </thead>\n",
       "  <tbody>\n",
       "    <tr>\n",
       "      <th>268</th>\n",
       "      <td>NODE_269_length_13662_cov_37.4019_g165_i0</td>\n",
       "      <td>13662</td>\n",
       "      <td>1.000000</td>\n",
       "      <td>1.0</td>\n",
       "      <td>0.0</td>\n",
       "      <td>0.0</td>\n",
       "      <td>0.0</td>\n",
       "      <td>0.0</td>\n",
       "      <td>0.618436</td>\n",
       "      <td>1.0</td>\n",
       "      <td>...</td>\n",
       "      <td>1.0</td>\n",
       "      <td>0.786407</td>\n",
       "      <td>True</td>\n",
       "      <td>75058</td>\n",
       "      <td>species</td>\n",
       "      <td>Bodo saltans</td>\n",
       "      <td>Eukaryota</td>\n",
       "      <td>False</td>\n",
       "      <td>False</td>\n",
       "      <td>with annotation</td>\n",
       "    </tr>\n",
       "    <tr>\n",
       "      <th>326</th>\n",
       "      <td>NODE_327_length_11643_cov_43.6716_g200_i0</td>\n",
       "      <td>11643</td>\n",
       "      <td>0.000126</td>\n",
       "      <td>0.0</td>\n",
       "      <td>0.0</td>\n",
       "      <td>0.0</td>\n",
       "      <td>0.0</td>\n",
       "      <td>0.0</td>\n",
       "      <td>0.011231</td>\n",
       "      <td>0.0</td>\n",
       "      <td>...</td>\n",
       "      <td>0.0</td>\n",
       "      <td>0.001189</td>\n",
       "      <td>False</td>\n",
       "      <td>33154</td>\n",
       "      <td>no rank</td>\n",
       "      <td>Opisthokonta</td>\n",
       "      <td>Eukaryota</td>\n",
       "      <td>False</td>\n",
       "      <td>False</td>\n",
       "      <td>with annotation</td>\n",
       "    </tr>\n",
       "    <tr>\n",
       "      <th>348</th>\n",
       "      <td>NODE_349_length_11091_cov_73.7458_g215_i0</td>\n",
       "      <td>11091</td>\n",
       "      <td>0.000057</td>\n",
       "      <td>0.0</td>\n",
       "      <td>0.0</td>\n",
       "      <td>0.0</td>\n",
       "      <td>0.0</td>\n",
       "      <td>0.0</td>\n",
       "      <td>0.045895</td>\n",
       "      <td>0.0</td>\n",
       "      <td>...</td>\n",
       "      <td>0.0</td>\n",
       "      <td>0.001613</td>\n",
       "      <td>False</td>\n",
       "      <td>1245745</td>\n",
       "      <td>no rank</td>\n",
       "      <td>Beauveria bassiana D1-5</td>\n",
       "      <td>Eukaryota</td>\n",
       "      <td>False</td>\n",
       "      <td>False</td>\n",
       "      <td>with annotation</td>\n",
       "    </tr>\n",
       "    <tr>\n",
       "      <th>517</th>\n",
       "      <td>NODE_518_length_8292_cov_38.7037_g335_i0</td>\n",
       "      <td>8292</td>\n",
       "      <td>0.002875</td>\n",
       "      <td>0.0</td>\n",
       "      <td>0.0</td>\n",
       "      <td>0.0</td>\n",
       "      <td>0.0</td>\n",
       "      <td>0.0</td>\n",
       "      <td>0.000803</td>\n",
       "      <td>0.0</td>\n",
       "      <td>...</td>\n",
       "      <td>0.0</td>\n",
       "      <td>0.001519</td>\n",
       "      <td>False</td>\n",
       "      <td>1245745</td>\n",
       "      <td>no rank</td>\n",
       "      <td>Beauveria bassiana D1-5</td>\n",
       "      <td>Eukaryota</td>\n",
       "      <td>False</td>\n",
       "      <td>False</td>\n",
       "      <td>with annotation</td>\n",
       "    </tr>\n",
       "    <tr>\n",
       "      <th>522</th>\n",
       "      <td>NODE_523_length_8242_cov_224.933_g340_i0</td>\n",
       "      <td>8242</td>\n",
       "      <td>0.000006</td>\n",
       "      <td>0.0</td>\n",
       "      <td>0.0</td>\n",
       "      <td>0.0</td>\n",
       "      <td>0.0</td>\n",
       "      <td>0.0</td>\n",
       "      <td>0.022461</td>\n",
       "      <td>0.0</td>\n",
       "      <td>...</td>\n",
       "      <td>0.0</td>\n",
       "      <td>0.000363</td>\n",
       "      <td>False</td>\n",
       "      <td>1245745</td>\n",
       "      <td>no rank</td>\n",
       "      <td>Beauveria bassiana D1-5</td>\n",
       "      <td>Eukaryota</td>\n",
       "      <td>False</td>\n",
       "      <td>False</td>\n",
       "      <td>with annotation</td>\n",
       "    </tr>\n",
       "  </tbody>\n",
       "</table>\n",
       "<p>5 rows × 23 columns</p>\n",
       "</div>"
      ],
      "text/plain": [
       "                                          name  length  probability  \\\n",
       "268  NODE_269_length_13662_cov_37.4019_g165_i0   13662     1.000000   \n",
       "326  NODE_327_length_11643_cov_43.6716_g200_i0   11643     0.000126   \n",
       "348  NODE_349_length_11091_cov_73.7458_g215_i0   11091     0.000057   \n",
       "517   NODE_518_length_8292_cov_38.7037_g335_i0    8292     0.002875   \n",
       "522   NODE_523_length_8242_cov_224.933_g340_i0    8242     0.000006   \n",
       "\n",
       "     prediction  vfam  pfam  diamond  label  score_euk_non_euk  \\\n",
       "268         1.0   0.0   0.0      0.0    0.0           0.618436   \n",
       "326         0.0   0.0   0.0      0.0    0.0           0.011231   \n",
       "348         0.0   0.0   0.0      0.0    0.0           0.045895   \n",
       "517         0.0   0.0   0.0      0.0    0.0           0.000803   \n",
       "522         0.0   0.0   0.0      0.0    0.0           0.022461   \n",
       "\n",
       "     pred_euk_non_euk       ...         pred_virus_non_virus  \\\n",
       "268               1.0       ...                          1.0   \n",
       "326               0.0       ...                          0.0   \n",
       "348               0.0       ...                          0.0   \n",
       "517               0.0       ...                          0.0   \n",
       "522               0.0       ...                          0.0   \n",
       "\n",
       "     hybrid_probability  hybrid_prediction   tax_id     rank  \\\n",
       "268            0.786407               True    75058  species   \n",
       "326            0.001189              False    33154  no rank   \n",
       "348            0.001613              False  1245745  no rank   \n",
       "517            0.001519              False  1245745  no rank   \n",
       "522            0.000363              False  1245745  no rank   \n",
       "\n",
       "                    tax_name  top_label non_euk_label micromonas_label  \\\n",
       "268             Bodo saltans  Eukaryota         False            False   \n",
       "326             Opisthokonta  Eukaryota         False            False   \n",
       "348  Beauveria bassiana D1-5  Eukaryota         False            False   \n",
       "517  Beauveria bassiana D1-5  Eukaryota         False            False   \n",
       "522  Beauveria bassiana D1-5  Eukaryota         False            False   \n",
       "\n",
       "    annotation_label  \n",
       "268  with annotation  \n",
       "326  with annotation  \n",
       "348  with annotation  \n",
       "517  with annotation  \n",
       "522  with annotation  \n",
       "\n",
       "[5 rows x 23 columns]"
      ]
     },
     "execution_count": 183,
     "metadata": {},
     "output_type": "execute_result"
    }
   ],
   "source": [
    "df_euk.head()"
   ]
  },
  {
   "cell_type": "code",
   "execution_count": 192,
   "metadata": {
    "collapsed": false
   },
   "outputs": [
    {
     "name": "stderr",
     "output_type": "stream",
     "text": [
      "/global/u2/q/qpzhang/anaconda/lib/python2.7/site-packages/ipykernel/__main__.py:1: UserWarning: Boolean Series key will be reindexed to match DataFrame index.\n",
      "  if __name__ == '__main__':\n"
     ]
    }
   ],
   "source": [
    "df_noneuk = new_table[new_table.non_euk_label==True][new_table['annotation_label']== 'with annotation']"
   ]
  },
  {
   "cell_type": "code",
   "execution_count": 193,
   "metadata": {
    "collapsed": false
   },
   "outputs": [
    {
     "data": {
      "text/plain": [
       "156823"
      ]
     },
     "execution_count": 193,
     "metadata": {},
     "output_type": "execute_result"
    }
   ],
   "source": [
    "len(df_noneuk)"
   ]
  },
  {
   "cell_type": "code",
   "execution_count": 204,
   "metadata": {
    "collapsed": true
   },
   "outputs": [],
   "source": [
    "df_noneuk_subsample = df_noneuk.sample(n=40920, replace=False)"
   ]
  },
  {
   "cell_type": "code",
   "execution_count": 150,
   "metadata": {
    "collapsed": false
   },
   "outputs": [
    {
     "data": {
      "text/html": [
       "<div>\n",
       "<table border=\"1\" class=\"dataframe\">\n",
       "  <thead>\n",
       "    <tr style=\"text-align: right;\">\n",
       "      <th></th>\n",
       "      <th>name</th>\n",
       "      <th>length</th>\n",
       "      <th>probability</th>\n",
       "      <th>prediction</th>\n",
       "      <th>vfam</th>\n",
       "      <th>pfam</th>\n",
       "      <th>diamond</th>\n",
       "      <th>label</th>\n",
       "      <th>score_euk_non_euk</th>\n",
       "      <th>pred_euk_non_euk</th>\n",
       "      <th>...</th>\n",
       "      <th>pred_virus_non_virus</th>\n",
       "      <th>hybrid_probability</th>\n",
       "      <th>hybrid_prediction</th>\n",
       "      <th>tax_id</th>\n",
       "      <th>rank</th>\n",
       "      <th>tax_name</th>\n",
       "      <th>top_label</th>\n",
       "      <th>non_euk_label</th>\n",
       "      <th>micromonas_label</th>\n",
       "      <th>annotation_label</th>\n",
       "    </tr>\n",
       "  </thead>\n",
       "  <tbody>\n",
       "    <tr>\n",
       "      <th>1187</th>\n",
       "      <td>NODE_1190_length_4867_cov_31.1845_g863_i0</td>\n",
       "      <td>4867</td>\n",
       "      <td>0.003411</td>\n",
       "      <td>0.0</td>\n",
       "      <td>1.0</td>\n",
       "      <td>0.0</td>\n",
       "      <td>0.0</td>\n",
       "      <td>1.0</td>\n",
       "      <td>0.053115</td>\n",
       "      <td>0.0</td>\n",
       "      <td>...</td>\n",
       "      <td>0.0</td>\n",
       "      <td>0.013460</td>\n",
       "      <td>False</td>\n",
       "      <td>286</td>\n",
       "      <td>genus</td>\n",
       "      <td>Pseudomonas</td>\n",
       "      <td>Bacteria</td>\n",
       "      <td>True</td>\n",
       "      <td>False</td>\n",
       "      <td>with annotation</td>\n",
       "    </tr>\n",
       "    <tr>\n",
       "      <th>1385</th>\n",
       "      <td>NODE_1388_length_4479_cov_77.7475_g1017_i0</td>\n",
       "      <td>4479</td>\n",
       "      <td>0.995234</td>\n",
       "      <td>1.0</td>\n",
       "      <td>0.0</td>\n",
       "      <td>1.0</td>\n",
       "      <td>1.0</td>\n",
       "      <td>1.0</td>\n",
       "      <td>0.974094</td>\n",
       "      <td>1.0</td>\n",
       "      <td>...</td>\n",
       "      <td>0.0</td>\n",
       "      <td>0.984607</td>\n",
       "      <td>True</td>\n",
       "      <td>186616</td>\n",
       "      <td>no rank</td>\n",
       "      <td>environmental samples</td>\n",
       "      <td>Virus</td>\n",
       "      <td>True</td>\n",
       "      <td>False</td>\n",
       "      <td>with annotation</td>\n",
       "    </tr>\n",
       "    <tr>\n",
       "      <th>1698</th>\n",
       "      <td>NODE_1702_length_3955_cov_32.4023_g1269_i0</td>\n",
       "      <td>3955</td>\n",
       "      <td>0.094340</td>\n",
       "      <td>0.0</td>\n",
       "      <td>0.0</td>\n",
       "      <td>1.0</td>\n",
       "      <td>1.0</td>\n",
       "      <td>1.0</td>\n",
       "      <td>0.792640</td>\n",
       "      <td>1.0</td>\n",
       "      <td>...</td>\n",
       "      <td>0.0</td>\n",
       "      <td>0.273456</td>\n",
       "      <td>False</td>\n",
       "      <td>196896</td>\n",
       "      <td>no rank</td>\n",
       "      <td>unclassified Myoviridae</td>\n",
       "      <td>Virus</td>\n",
       "      <td>True</td>\n",
       "      <td>False</td>\n",
       "      <td>with annotation</td>\n",
       "    </tr>\n",
       "    <tr>\n",
       "      <th>1728</th>\n",
       "      <td>NODE_1732_length_3910_cov_62.4519_g1295_i0</td>\n",
       "      <td>3910</td>\n",
       "      <td>0.985221</td>\n",
       "      <td>1.0</td>\n",
       "      <td>0.0</td>\n",
       "      <td>1.0</td>\n",
       "      <td>1.0</td>\n",
       "      <td>1.0</td>\n",
       "      <td>0.960621</td>\n",
       "      <td>1.0</td>\n",
       "      <td>...</td>\n",
       "      <td>0.0</td>\n",
       "      <td>0.972844</td>\n",
       "      <td>True</td>\n",
       "      <td>196896</td>\n",
       "      <td>no rank</td>\n",
       "      <td>unclassified Myoviridae</td>\n",
       "      <td>Virus</td>\n",
       "      <td>True</td>\n",
       "      <td>False</td>\n",
       "      <td>with annotation</td>\n",
       "    </tr>\n",
       "    <tr>\n",
       "      <th>1748</th>\n",
       "      <td>NODE_1752_length_3882_cov_14.5733_g1313_i0</td>\n",
       "      <td>3882</td>\n",
       "      <td>0.355353</td>\n",
       "      <td>0.0</td>\n",
       "      <td>0.0</td>\n",
       "      <td>1.0</td>\n",
       "      <td>1.0</td>\n",
       "      <td>1.0</td>\n",
       "      <td>0.603147</td>\n",
       "      <td>1.0</td>\n",
       "      <td>...</td>\n",
       "      <td>0.0</td>\n",
       "      <td>0.462958</td>\n",
       "      <td>False</td>\n",
       "      <td>439488</td>\n",
       "      <td>no rank</td>\n",
       "      <td>ssRNA viruses</td>\n",
       "      <td>Virus</td>\n",
       "      <td>True</td>\n",
       "      <td>False</td>\n",
       "      <td>with annotation</td>\n",
       "    </tr>\n",
       "  </tbody>\n",
       "</table>\n",
       "<p>5 rows × 23 columns</p>\n",
       "</div>"
      ],
      "text/plain": [
       "                                            name  length  probability  \\\n",
       "1187   NODE_1190_length_4867_cov_31.1845_g863_i0    4867     0.003411   \n",
       "1385  NODE_1388_length_4479_cov_77.7475_g1017_i0    4479     0.995234   \n",
       "1698  NODE_1702_length_3955_cov_32.4023_g1269_i0    3955     0.094340   \n",
       "1728  NODE_1732_length_3910_cov_62.4519_g1295_i0    3910     0.985221   \n",
       "1748  NODE_1752_length_3882_cov_14.5733_g1313_i0    3882     0.355353   \n",
       "\n",
       "      prediction  vfam  pfam  diamond  label  score_euk_non_euk  \\\n",
       "1187         0.0   1.0   0.0      0.0    1.0           0.053115   \n",
       "1385         1.0   0.0   1.0      1.0    1.0           0.974094   \n",
       "1698         0.0   0.0   1.0      1.0    1.0           0.792640   \n",
       "1728         1.0   0.0   1.0      1.0    1.0           0.960621   \n",
       "1748         0.0   0.0   1.0      1.0    1.0           0.603147   \n",
       "\n",
       "      pred_euk_non_euk       ...         pred_virus_non_virus  \\\n",
       "1187               0.0       ...                          0.0   \n",
       "1385               1.0       ...                          0.0   \n",
       "1698               1.0       ...                          0.0   \n",
       "1728               1.0       ...                          0.0   \n",
       "1748               1.0       ...                          0.0   \n",
       "\n",
       "      hybrid_probability  hybrid_prediction  tax_id     rank  \\\n",
       "1187            0.013460              False     286    genus   \n",
       "1385            0.984607               True  186616  no rank   \n",
       "1698            0.273456              False  196896  no rank   \n",
       "1728            0.972844               True  196896  no rank   \n",
       "1748            0.462958              False  439488  no rank   \n",
       "\n",
       "                     tax_name  top_label non_euk_label micromonas_label  \\\n",
       "1187              Pseudomonas   Bacteria          True            False   \n",
       "1385    environmental samples      Virus          True            False   \n",
       "1698  unclassified Myoviridae      Virus          True            False   \n",
       "1728  unclassified Myoviridae      Virus          True            False   \n",
       "1748            ssRNA viruses      Virus          True            False   \n",
       "\n",
       "     annotation_label  \n",
       "1187  with annotation  \n",
       "1385  with annotation  \n",
       "1698  with annotation  \n",
       "1728  with annotation  \n",
       "1748  with annotation  \n",
       "\n",
       "[5 rows x 23 columns]"
      ]
     },
     "execution_count": 150,
     "metadata": {},
     "output_type": "execute_result"
    }
   ],
   "source": [
    "df_virus.head()"
   ]
  },
  {
   "cell_type": "code",
   "execution_count": 246,
   "metadata": {
    "collapsed": true
   },
   "outputs": [],
   "source": [
    "df_micromonus = new_table[new_table.micromonas_label==True]"
   ]
  },
  {
   "cell_type": "code",
   "execution_count": 247,
   "metadata": {
    "collapsed": false
   },
   "outputs": [
    {
     "data": {
      "text/plain": [
       "9586"
      ]
     },
     "execution_count": 247,
     "metadata": {},
     "output_type": "execute_result"
    }
   ],
   "source": [
    "len(df_micromonus)"
   ]
  },
  {
   "cell_type": "code",
   "execution_count": 248,
   "metadata": {
    "collapsed": true
   },
   "outputs": [],
   "source": [
    "df_micromonus.to_csv(\"Micromonas_table.csv\")"
   ]
  },
  {
   "cell_type": "code",
   "execution_count": 151,
   "metadata": {
    "collapsed": false
   },
   "outputs": [
    {
     "data": {
      "text/html": [
       "<div>\n",
       "<table border=\"1\" class=\"dataframe\">\n",
       "  <thead>\n",
       "    <tr style=\"text-align: right;\">\n",
       "      <th></th>\n",
       "      <th>name</th>\n",
       "      <th>length</th>\n",
       "      <th>probability</th>\n",
       "      <th>prediction</th>\n",
       "      <th>vfam</th>\n",
       "      <th>pfam</th>\n",
       "      <th>diamond</th>\n",
       "      <th>label</th>\n",
       "      <th>score_euk_non_euk</th>\n",
       "      <th>pred_euk_non_euk</th>\n",
       "      <th>...</th>\n",
       "      <th>pred_virus_non_virus</th>\n",
       "      <th>hybrid_probability</th>\n",
       "      <th>hybrid_prediction</th>\n",
       "      <th>tax_id</th>\n",
       "      <th>rank</th>\n",
       "      <th>tax_name</th>\n",
       "      <th>top_label</th>\n",
       "      <th>non_euk_label</th>\n",
       "      <th>micromonas_label</th>\n",
       "      <th>annotation_label</th>\n",
       "    </tr>\n",
       "  </thead>\n",
       "  <tbody>\n",
       "    <tr>\n",
       "      <th>0</th>\n",
       "      <td>NODE_1_length_91451_cov_163.114_g0_i0</td>\n",
       "      <td>91451</td>\n",
       "      <td>0.000375</td>\n",
       "      <td>0.0</td>\n",
       "      <td>0.0</td>\n",
       "      <td>0.0</td>\n",
       "      <td>0.0</td>\n",
       "      <td>0.0</td>\n",
       "      <td>0.000025</td>\n",
       "      <td>0.0</td>\n",
       "      <td>...</td>\n",
       "      <td>0.0</td>\n",
       "      <td>0.000097</td>\n",
       "      <td>False</td>\n",
       "      <td>1236</td>\n",
       "      <td>class</td>\n",
       "      <td>Gammaproteobacteria</td>\n",
       "      <td>Bacteria</td>\n",
       "      <td>True</td>\n",
       "      <td>False</td>\n",
       "      <td>with annotation</td>\n",
       "    </tr>\n",
       "    <tr>\n",
       "      <th>1</th>\n",
       "      <td>NODE_2_length_74096_cov_303.895_g1_i0</td>\n",
       "      <td>74096</td>\n",
       "      <td>0.000088</td>\n",
       "      <td>0.0</td>\n",
       "      <td>0.0</td>\n",
       "      <td>0.0</td>\n",
       "      <td>0.0</td>\n",
       "      <td>0.0</td>\n",
       "      <td>0.000012</td>\n",
       "      <td>0.0</td>\n",
       "      <td>...</td>\n",
       "      <td>0.0</td>\n",
       "      <td>0.000032</td>\n",
       "      <td>False</td>\n",
       "      <td>254161</td>\n",
       "      <td>species</td>\n",
       "      <td>Pseudomonas pachastrellae</td>\n",
       "      <td>Bacteria</td>\n",
       "      <td>True</td>\n",
       "      <td>False</td>\n",
       "      <td>with annotation</td>\n",
       "    </tr>\n",
       "    <tr>\n",
       "      <th>2</th>\n",
       "      <td>NODE_3_length_66420_cov_268.59_g1_i1</td>\n",
       "      <td>66420</td>\n",
       "      <td>0.000041</td>\n",
       "      <td>0.0</td>\n",
       "      <td>0.0</td>\n",
       "      <td>0.0</td>\n",
       "      <td>0.0</td>\n",
       "      <td>0.0</td>\n",
       "      <td>0.000009</td>\n",
       "      <td>0.0</td>\n",
       "      <td>...</td>\n",
       "      <td>0.0</td>\n",
       "      <td>0.000019</td>\n",
       "      <td>False</td>\n",
       "      <td>254161</td>\n",
       "      <td>species</td>\n",
       "      <td>Pseudomonas pachastrellae</td>\n",
       "      <td>Bacteria</td>\n",
       "      <td>True</td>\n",
       "      <td>False</td>\n",
       "      <td>with annotation</td>\n",
       "    </tr>\n",
       "    <tr>\n",
       "      <th>3</th>\n",
       "      <td>NODE_4_length_61338_cov_317.585_g2_i0</td>\n",
       "      <td>61338</td>\n",
       "      <td>0.000056</td>\n",
       "      <td>0.0</td>\n",
       "      <td>0.0</td>\n",
       "      <td>0.0</td>\n",
       "      <td>0.0</td>\n",
       "      <td>0.0</td>\n",
       "      <td>0.000008</td>\n",
       "      <td>0.0</td>\n",
       "      <td>...</td>\n",
       "      <td>0.0</td>\n",
       "      <td>0.000021</td>\n",
       "      <td>False</td>\n",
       "      <td>286</td>\n",
       "      <td>genus</td>\n",
       "      <td>Pseudomonas</td>\n",
       "      <td>Bacteria</td>\n",
       "      <td>True</td>\n",
       "      <td>False</td>\n",
       "      <td>with annotation</td>\n",
       "    </tr>\n",
       "    <tr>\n",
       "      <th>4</th>\n",
       "      <td>NODE_5_length_59036_cov_197.701_g0_i1</td>\n",
       "      <td>59036</td>\n",
       "      <td>0.000040</td>\n",
       "      <td>0.0</td>\n",
       "      <td>0.0</td>\n",
       "      <td>0.0</td>\n",
       "      <td>0.0</td>\n",
       "      <td>0.0</td>\n",
       "      <td>0.000008</td>\n",
       "      <td>0.0</td>\n",
       "      <td>...</td>\n",
       "      <td>0.0</td>\n",
       "      <td>0.000018</td>\n",
       "      <td>False</td>\n",
       "      <td>286</td>\n",
       "      <td>genus</td>\n",
       "      <td>Pseudomonas</td>\n",
       "      <td>Bacteria</td>\n",
       "      <td>True</td>\n",
       "      <td>False</td>\n",
       "      <td>with annotation</td>\n",
       "    </tr>\n",
       "  </tbody>\n",
       "</table>\n",
       "<p>5 rows × 23 columns</p>\n",
       "</div>"
      ],
      "text/plain": [
       "                                    name  length  probability  prediction  \\\n",
       "0  NODE_1_length_91451_cov_163.114_g0_i0   91451     0.000375         0.0   \n",
       "1  NODE_2_length_74096_cov_303.895_g1_i0   74096     0.000088         0.0   \n",
       "2   NODE_3_length_66420_cov_268.59_g1_i1   66420     0.000041         0.0   \n",
       "3  NODE_4_length_61338_cov_317.585_g2_i0   61338     0.000056         0.0   \n",
       "4  NODE_5_length_59036_cov_197.701_g0_i1   59036     0.000040         0.0   \n",
       "\n",
       "   vfam  pfam  diamond  label  score_euk_non_euk  pred_euk_non_euk  \\\n",
       "0   0.0   0.0      0.0    0.0           0.000025               0.0   \n",
       "1   0.0   0.0      0.0    0.0           0.000012               0.0   \n",
       "2   0.0   0.0      0.0    0.0           0.000009               0.0   \n",
       "3   0.0   0.0      0.0    0.0           0.000008               0.0   \n",
       "4   0.0   0.0      0.0    0.0           0.000008               0.0   \n",
       "\n",
       "        ...         pred_virus_non_virus  hybrid_probability  \\\n",
       "0       ...                          0.0            0.000097   \n",
       "1       ...                          0.0            0.000032   \n",
       "2       ...                          0.0            0.000019   \n",
       "3       ...                          0.0            0.000021   \n",
       "4       ...                          0.0            0.000018   \n",
       "\n",
       "   hybrid_prediction  tax_id     rank                   tax_name  top_label  \\\n",
       "0              False    1236    class        Gammaproteobacteria   Bacteria   \n",
       "1              False  254161  species  Pseudomonas pachastrellae   Bacteria   \n",
       "2              False  254161  species  Pseudomonas pachastrellae   Bacteria   \n",
       "3              False     286    genus                Pseudomonas   Bacteria   \n",
       "4              False     286    genus                Pseudomonas   Bacteria   \n",
       "\n",
       "  non_euk_label micromonas_label annotation_label  \n",
       "0          True            False  with annotation  \n",
       "1          True            False  with annotation  \n",
       "2          True            False  with annotation  \n",
       "3          True            False  with annotation  \n",
       "4          True            False  with annotation  \n",
       "\n",
       "[5 rows x 23 columns]"
      ]
     },
     "execution_count": 151,
     "metadata": {},
     "output_type": "execute_result"
    }
   ],
   "source": [
    "df_nonvirus.head()"
   ]
  },
  {
   "cell_type": "markdown",
   "metadata": {},
   "source": [
    "### Check the Precision-recall curve of old model and hybrid model"
   ]
  },
  {
   "cell_type": "markdown",
   "metadata": {},
   "source": [
    "#### Check the distribution of probability of same number of \"virus\", \"non-virus\", 'unknown\" contigs"
   ]
  },
  {
   "cell_type": "markdown",
   "metadata": {},
   "source": [
    "#### Balanced data, same number of \"virus\" and \"non-virus\" contigs"
   ]
  },
  {
   "cell_type": "code",
   "execution_count": 335,
   "metadata": {
    "collapsed": false
   },
   "outputs": [
    {
     "data": {
      "text/plain": [
       "<matplotlib.legend.Legend at 0x2ba8276cc9d0>"
      ]
     },
     "execution_count": 335,
     "metadata": {},
     "output_type": "execute_result"
    },
    {
     "data": {
      "image/png": "[encoded data removed]",
      "text/plain": [
       "<matplotlib.figure.Figure at 0x2ba8260534d0>"
      ]
     },
     "metadata": {},
     "output_type": "display_data"
    }
   ],
   "source": [
    "fig = plt.figure(figsize=(16,9))\n",
    "ax0 = fig.add_subplot(111)\n",
    "n_bins = 10\n",
    "#colors = ['red', 'blue', 'grey']\n",
    "x_multi = [df_nonvirus_subsample.hybrid_probability,df_virus.hybrid_probability, df_unknown_subsample.hybrid_probability ]\n",
    "ax0.hist(x_multi, n_bins, histtype='bar',  label=['non-virus','virus','unknown'],color=['grey', 'orange', 'green'])\n",
    "ax0.set_title('On balanced subsets of TARA transcriptome',fontsize=24)\n",
    "ax0.set_xlabel('probability',fontsize=24)\n",
    "ax0.set_ylabel('number of contigs',fontsize=24)\n",
    "ax0.legend(prop={'size': 24})"
   ]
  },
  {
   "cell_type": "code",
   "execution_count": 321,
   "metadata": {
    "collapsed": false
   },
   "outputs": [
    {
     "data": {
      "text/plain": [
       "<matplotlib.legend.Legend at 0x2ba8284e3890>"
      ]
     },
     "execution_count": 321,
     "metadata": {},
     "output_type": "execute_result"
    },
    {
     "data": {
      "image/png": "[encoded data removed]",
      "text/plain": [
       "<matplotlib.figure.Figure at 0x2ba82825e110>"
      ]
     },
     "metadata": {},
     "output_type": "display_data"
    }
   ],
   "source": [
    "fig, axes = plt.subplots(nrows=1, ncols=1)\n",
    "ax0 = axes\n",
    "n_bins = 10\n",
    "\n",
    "x_multi = [df_nonvirus_subsample.probability,df_virus.probability, df_unknown_subsample.probability ]\n",
    "ax0.hist(x_multi, n_bins, histtype='bar',  label=['non-virus','virus','unknown'],color = ['pink', 'lightblue', 'lightgreen'])\n",
    "ax0.set_title('old model')\n",
    "ax0.set_xlabel('probability')\n",
    "ax0.set_ylabel('number of contigs')\n",
    "ax0.legend(prop={'size': 10})"
   ]
  },
  {
   "cell_type": "code",
   "execution_count": 156,
   "metadata": {
    "collapsed": true
   },
   "outputs": [],
   "source": [
    "balaced_virus_nonvirus = pd.concat([df_virus,df_nonvirus_subsample])\n",
    "balaced_matrix_virus_nonvirus_hybrid = confusion_matrix(balaced_virus_nonvirus.label, balaced_virus_nonvirus.hybrid_prediction)\n",
    "auprc_balaced_virus_nonvirus_hybrid = average_precision_score(balaced_virus_nonvirus.label, balaced_virus_nonvirus.hybrid_probability)\n",
    "precision_balaced_virus_nonvirus_hybrid, recall_balaced_virus_nonvirus_hybrid, thresholds_balaced_virus_nonvirus_hybrid = precision_recall_curve(\n",
    "    balaced_virus_nonvirus.label, balaced_virus_nonvirus.hybrid_probability)\n",
    "\n",
    "balaced_matrix_virus_nonvirus_old = confusion_matrix(balaced_virus_nonvirus.label, balaced_virus_nonvirus.prediction)\n",
    "auprc_balaced_virus_nonvirus_old = average_precision_score(balaced_virus_nonvirus.label, balaced_virus_nonvirus.probability)\n",
    "precision_balaced_virus_nonvirus_old, recall_balaced_virus_nonvirus_old, thresholds_balaced_virus_nonvirus_old = precision_recall_curve(\n",
    "    balaced_virus_nonvirus.label, balaced_virus_nonvirus.probability)\n",
    "\n",
    "\n",
    "        "
   ]
  },
  {
   "cell_type": "code",
   "execution_count": 157,
   "metadata": {
    "collapsed": false
   },
   "outputs": [
    {
     "data": {
      "text/html": [
       "<div>\n",
       "<table border=\"1\" class=\"dataframe\">\n",
       "  <thead>\n",
       "    <tr style=\"text-align: right;\">\n",
       "      <th></th>\n",
       "      <th>name</th>\n",
       "      <th>length</th>\n",
       "      <th>probability</th>\n",
       "      <th>prediction</th>\n",
       "      <th>vfam</th>\n",
       "      <th>pfam</th>\n",
       "      <th>diamond</th>\n",
       "      <th>label</th>\n",
       "      <th>score_euk_non_euk</th>\n",
       "      <th>pred_euk_non_euk</th>\n",
       "      <th>...</th>\n",
       "      <th>pred_virus_non_virus</th>\n",
       "      <th>hybrid_probability</th>\n",
       "      <th>hybrid_prediction</th>\n",
       "      <th>tax_id</th>\n",
       "      <th>rank</th>\n",
       "      <th>tax_name</th>\n",
       "      <th>top_label</th>\n",
       "      <th>non_euk_label</th>\n",
       "      <th>micromonas_label</th>\n",
       "      <th>annotation_label</th>\n",
       "    </tr>\n",
       "  </thead>\n",
       "  <tbody>\n",
       "    <tr>\n",
       "      <th>1187</th>\n",
       "      <td>NODE_1190_length_4867_cov_31.1845_g863_i0</td>\n",
       "      <td>4867</td>\n",
       "      <td>0.003411</td>\n",
       "      <td>0.0</td>\n",
       "      <td>1.0</td>\n",
       "      <td>0.0</td>\n",
       "      <td>0.0</td>\n",
       "      <td>1.0</td>\n",
       "      <td>0.053115</td>\n",
       "      <td>0.0</td>\n",
       "      <td>...</td>\n",
       "      <td>0.0</td>\n",
       "      <td>0.013460</td>\n",
       "      <td>False</td>\n",
       "      <td>286</td>\n",
       "      <td>genus</td>\n",
       "      <td>Pseudomonas</td>\n",
       "      <td>Bacteria</td>\n",
       "      <td>True</td>\n",
       "      <td>False</td>\n",
       "      <td>with annotation</td>\n",
       "    </tr>\n",
       "    <tr>\n",
       "      <th>1385</th>\n",
       "      <td>NODE_1388_length_4479_cov_77.7475_g1017_i0</td>\n",
       "      <td>4479</td>\n",
       "      <td>0.995234</td>\n",
       "      <td>1.0</td>\n",
       "      <td>0.0</td>\n",
       "      <td>1.0</td>\n",
       "      <td>1.0</td>\n",
       "      <td>1.0</td>\n",
       "      <td>0.974094</td>\n",
       "      <td>1.0</td>\n",
       "      <td>...</td>\n",
       "      <td>0.0</td>\n",
       "      <td>0.984607</td>\n",
       "      <td>True</td>\n",
       "      <td>186616</td>\n",
       "      <td>no rank</td>\n",
       "      <td>environmental samples</td>\n",
       "      <td>Virus</td>\n",
       "      <td>True</td>\n",
       "      <td>False</td>\n",
       "      <td>with annotation</td>\n",
       "    </tr>\n",
       "    <tr>\n",
       "      <th>1698</th>\n",
       "      <td>NODE_1702_length_3955_cov_32.4023_g1269_i0</td>\n",
       "      <td>3955</td>\n",
       "      <td>0.094340</td>\n",
       "      <td>0.0</td>\n",
       "      <td>0.0</td>\n",
       "      <td>1.0</td>\n",
       "      <td>1.0</td>\n",
       "      <td>1.0</td>\n",
       "      <td>0.792640</td>\n",
       "      <td>1.0</td>\n",
       "      <td>...</td>\n",
       "      <td>0.0</td>\n",
       "      <td>0.273456</td>\n",
       "      <td>False</td>\n",
       "      <td>196896</td>\n",
       "      <td>no rank</td>\n",
       "      <td>unclassified Myoviridae</td>\n",
       "      <td>Virus</td>\n",
       "      <td>True</td>\n",
       "      <td>False</td>\n",
       "      <td>with annotation</td>\n",
       "    </tr>\n",
       "    <tr>\n",
       "      <th>1728</th>\n",
       "      <td>NODE_1732_length_3910_cov_62.4519_g1295_i0</td>\n",
       "      <td>3910</td>\n",
       "      <td>0.985221</td>\n",
       "      <td>1.0</td>\n",
       "      <td>0.0</td>\n",
       "      <td>1.0</td>\n",
       "      <td>1.0</td>\n",
       "      <td>1.0</td>\n",
       "      <td>0.960621</td>\n",
       "      <td>1.0</td>\n",
       "      <td>...</td>\n",
       "      <td>0.0</td>\n",
       "      <td>0.972844</td>\n",
       "      <td>True</td>\n",
       "      <td>196896</td>\n",
       "      <td>no rank</td>\n",
       "      <td>unclassified Myoviridae</td>\n",
       "      <td>Virus</td>\n",
       "      <td>True</td>\n",
       "      <td>False</td>\n",
       "      <td>with annotation</td>\n",
       "    </tr>\n",
       "    <tr>\n",
       "      <th>1748</th>\n",
       "      <td>NODE_1752_length_3882_cov_14.5733_g1313_i0</td>\n",
       "      <td>3882</td>\n",
       "      <td>0.355353</td>\n",
       "      <td>0.0</td>\n",
       "      <td>0.0</td>\n",
       "      <td>1.0</td>\n",
       "      <td>1.0</td>\n",
       "      <td>1.0</td>\n",
       "      <td>0.603147</td>\n",
       "      <td>1.0</td>\n",
       "      <td>...</td>\n",
       "      <td>0.0</td>\n",
       "      <td>0.462958</td>\n",
       "      <td>False</td>\n",
       "      <td>439488</td>\n",
       "      <td>no rank</td>\n",
       "      <td>ssRNA viruses</td>\n",
       "      <td>Virus</td>\n",
       "      <td>True</td>\n",
       "      <td>False</td>\n",
       "      <td>with annotation</td>\n",
       "    </tr>\n",
       "  </tbody>\n",
       "</table>\n",
       "<p>5 rows × 23 columns</p>\n",
       "</div>"
      ],
      "text/plain": [
       "                                            name  length  probability  \\\n",
       "1187   NODE_1190_length_4867_cov_31.1845_g863_i0    4867     0.003411   \n",
       "1385  NODE_1388_length_4479_cov_77.7475_g1017_i0    4479     0.995234   \n",
       "1698  NODE_1702_length_3955_cov_32.4023_g1269_i0    3955     0.094340   \n",
       "1728  NODE_1732_length_3910_cov_62.4519_g1295_i0    3910     0.985221   \n",
       "1748  NODE_1752_length_3882_cov_14.5733_g1313_i0    3882     0.355353   \n",
       "\n",
       "      prediction  vfam  pfam  diamond  label  score_euk_non_euk  \\\n",
       "1187         0.0   1.0   0.0      0.0    1.0           0.053115   \n",
       "1385         1.0   0.0   1.0      1.0    1.0           0.974094   \n",
       "1698         0.0   0.0   1.0      1.0    1.0           0.792640   \n",
       "1728         1.0   0.0   1.0      1.0    1.0           0.960621   \n",
       "1748         0.0   0.0   1.0      1.0    1.0           0.603147   \n",
       "\n",
       "      pred_euk_non_euk       ...         pred_virus_non_virus  \\\n",
       "1187               0.0       ...                          0.0   \n",
       "1385               1.0       ...                          0.0   \n",
       "1698               1.0       ...                          0.0   \n",
       "1728               1.0       ...                          0.0   \n",
       "1748               1.0       ...                          0.0   \n",
       "\n",
       "      hybrid_probability  hybrid_prediction  tax_id     rank  \\\n",
       "1187            0.013460              False     286    genus   \n",
       "1385            0.984607               True  186616  no rank   \n",
       "1698            0.273456              False  196896  no rank   \n",
       "1728            0.972844               True  196896  no rank   \n",
       "1748            0.462958              False  439488  no rank   \n",
       "\n",
       "                     tax_name  top_label non_euk_label micromonas_label  \\\n",
       "1187              Pseudomonas   Bacteria          True            False   \n",
       "1385    environmental samples      Virus          True            False   \n",
       "1698  unclassified Myoviridae      Virus          True            False   \n",
       "1728  unclassified Myoviridae      Virus          True            False   \n",
       "1748            ssRNA viruses      Virus          True            False   \n",
       "\n",
       "     annotation_label  \n",
       "1187  with annotation  \n",
       "1385  with annotation  \n",
       "1698  with annotation  \n",
       "1728  with annotation  \n",
       "1748  with annotation  \n",
       "\n",
       "[5 rows x 23 columns]"
      ]
     },
     "execution_count": 157,
     "metadata": {},
     "output_type": "execute_result"
    }
   ],
   "source": [
    "balaced_virus_nonvirus.head()"
   ]
  },
  {
   "cell_type": "code",
   "execution_count": 162,
   "metadata": {
    "collapsed": false
   },
   "outputs": [
    {
     "data": {
      "text/plain": [
       "array([[5361, 1680],\n",
       "       [2865, 4176]])"
      ]
     },
     "execution_count": 162,
     "metadata": {},
     "output_type": "execute_result"
    }
   ],
   "source": [
    "balaced_matrix_virus_nonvirus_hybrid"
   ]
  },
  {
   "cell_type": "code",
   "execution_count": 163,
   "metadata": {
    "collapsed": false
   },
   "outputs": [
    {
     "data": {
      "text/plain": [
       "array([[4799, 2242],\n",
       "       [1534, 5507]])"
      ]
     },
     "execution_count": 163,
     "metadata": {},
     "output_type": "execute_result"
    }
   ],
   "source": [
    "balaced_matrix_virus_nonvirus_old"
   ]
  },
  {
   "cell_type": "code",
   "execution_count": 338,
   "metadata": {
    "collapsed": false
   },
   "outputs": [
    {
     "data": {
      "text/plain": [
       "<matplotlib.legend.Legend at 0x2ba828b5cd10>"
      ]
     },
     "execution_count": 338,
     "metadata": {},
     "output_type": "execute_result"
    },
    {
     "data": {
      "image/png": "[encoded data removed]",
      "text/plain": [
       "<matplotlib.figure.Figure at 0x2ba827bd4750>"
      ]
     },
     "metadata": {},
     "output_type": "display_data"
    }
   ],
   "source": [
    "        lw = 2\n",
    "        plt.figure(figsize=(16, 9), dpi=80)\n",
    "        plt.clf()\n",
    "        plt.plot(recall_balaced_virus_nonvirus_hybrid, precision_balaced_virus_nonvirus_hybrid, lw=lw, \n",
    "                 label='hybrid model, AUC={0:0.4f}'.format(auprc_balaced_virus_nonvirus_hybrid))\n",
    "        plt.plot(recall_balaced_virus_nonvirus_old, precision_balaced_virus_nonvirus_old, lw=lw, \n",
    "                 label='old model, AUC={0:0.4f}'.format(auprc_balaced_virus_nonvirus_old))\n",
    "\n",
    "        plt.xlabel('Recall',fontsize=24)\n",
    "        plt.ylabel('Precision',fontsize=24)\n",
    "        plt.ylim([0.0, 1.05])\n",
    "        plt.xlim([0.0, 1.0])\n",
    "        plt.title('balanced virus/non-virus, 7041 contigs',fontsize=24)\n",
    "        plt.legend(loc=\"lower right\",fontsize=24)"
   ]
  },
  {
   "cell_type": "markdown",
   "metadata": {},
   "source": [
    "\n",
    "\n",
    "#### using all TARA contigs - imbalanced"
   ]
  },
  {
   "cell_type": "code",
   "execution_count": 164,
   "metadata": {
    "collapsed": false
   },
   "outputs": [
    {
     "data": {
      "text/html": [
       "<div>\n",
       "<table border=\"1\" class=\"dataframe\">\n",
       "  <thead>\n",
       "    <tr style=\"text-align: right;\">\n",
       "      <th></th>\n",
       "      <th>name</th>\n",
       "      <th>length</th>\n",
       "      <th>probability</th>\n",
       "      <th>prediction</th>\n",
       "      <th>vfam</th>\n",
       "      <th>pfam</th>\n",
       "      <th>diamond</th>\n",
       "      <th>label</th>\n",
       "      <th>score_euk_non_euk</th>\n",
       "      <th>pred_euk_non_euk</th>\n",
       "      <th>...</th>\n",
       "      <th>pred_virus_non_virus</th>\n",
       "      <th>hybrid_probability</th>\n",
       "      <th>hybrid_prediction</th>\n",
       "      <th>tax_id</th>\n",
       "      <th>rank</th>\n",
       "      <th>tax_name</th>\n",
       "      <th>top_label</th>\n",
       "      <th>non_euk_label</th>\n",
       "      <th>micromonas_label</th>\n",
       "      <th>annotation_label</th>\n",
       "    </tr>\n",
       "  </thead>\n",
       "  <tbody>\n",
       "    <tr>\n",
       "      <th>1187</th>\n",
       "      <td>NODE_1190_length_4867_cov_31.1845_g863_i0</td>\n",
       "      <td>4867</td>\n",
       "      <td>0.003411</td>\n",
       "      <td>0.0</td>\n",
       "      <td>1.0</td>\n",
       "      <td>0.0</td>\n",
       "      <td>0.0</td>\n",
       "      <td>1.0</td>\n",
       "      <td>0.053115</td>\n",
       "      <td>0.0</td>\n",
       "      <td>...</td>\n",
       "      <td>0.0</td>\n",
       "      <td>0.013460</td>\n",
       "      <td>False</td>\n",
       "      <td>286</td>\n",
       "      <td>genus</td>\n",
       "      <td>Pseudomonas</td>\n",
       "      <td>Bacteria</td>\n",
       "      <td>True</td>\n",
       "      <td>False</td>\n",
       "      <td>with annotation</td>\n",
       "    </tr>\n",
       "    <tr>\n",
       "      <th>1385</th>\n",
       "      <td>NODE_1388_length_4479_cov_77.7475_g1017_i0</td>\n",
       "      <td>4479</td>\n",
       "      <td>0.995234</td>\n",
       "      <td>1.0</td>\n",
       "      <td>0.0</td>\n",
       "      <td>1.0</td>\n",
       "      <td>1.0</td>\n",
       "      <td>1.0</td>\n",
       "      <td>0.974094</td>\n",
       "      <td>1.0</td>\n",
       "      <td>...</td>\n",
       "      <td>0.0</td>\n",
       "      <td>0.984607</td>\n",
       "      <td>True</td>\n",
       "      <td>186616</td>\n",
       "      <td>no rank</td>\n",
       "      <td>environmental samples</td>\n",
       "      <td>Virus</td>\n",
       "      <td>True</td>\n",
       "      <td>False</td>\n",
       "      <td>with annotation</td>\n",
       "    </tr>\n",
       "    <tr>\n",
       "      <th>1698</th>\n",
       "      <td>NODE_1702_length_3955_cov_32.4023_g1269_i0</td>\n",
       "      <td>3955</td>\n",
       "      <td>0.094340</td>\n",
       "      <td>0.0</td>\n",
       "      <td>0.0</td>\n",
       "      <td>1.0</td>\n",
       "      <td>1.0</td>\n",
       "      <td>1.0</td>\n",
       "      <td>0.792640</td>\n",
       "      <td>1.0</td>\n",
       "      <td>...</td>\n",
       "      <td>0.0</td>\n",
       "      <td>0.273456</td>\n",
       "      <td>False</td>\n",
       "      <td>196896</td>\n",
       "      <td>no rank</td>\n",
       "      <td>unclassified Myoviridae</td>\n",
       "      <td>Virus</td>\n",
       "      <td>True</td>\n",
       "      <td>False</td>\n",
       "      <td>with annotation</td>\n",
       "    </tr>\n",
       "    <tr>\n",
       "      <th>1728</th>\n",
       "      <td>NODE_1732_length_3910_cov_62.4519_g1295_i0</td>\n",
       "      <td>3910</td>\n",
       "      <td>0.985221</td>\n",
       "      <td>1.0</td>\n",
       "      <td>0.0</td>\n",
       "      <td>1.0</td>\n",
       "      <td>1.0</td>\n",
       "      <td>1.0</td>\n",
       "      <td>0.960621</td>\n",
       "      <td>1.0</td>\n",
       "      <td>...</td>\n",
       "      <td>0.0</td>\n",
       "      <td>0.972844</td>\n",
       "      <td>True</td>\n",
       "      <td>196896</td>\n",
       "      <td>no rank</td>\n",
       "      <td>unclassified Myoviridae</td>\n",
       "      <td>Virus</td>\n",
       "      <td>True</td>\n",
       "      <td>False</td>\n",
       "      <td>with annotation</td>\n",
       "    </tr>\n",
       "    <tr>\n",
       "      <th>1748</th>\n",
       "      <td>NODE_1752_length_3882_cov_14.5733_g1313_i0</td>\n",
       "      <td>3882</td>\n",
       "      <td>0.355353</td>\n",
       "      <td>0.0</td>\n",
       "      <td>0.0</td>\n",
       "      <td>1.0</td>\n",
       "      <td>1.0</td>\n",
       "      <td>1.0</td>\n",
       "      <td>0.603147</td>\n",
       "      <td>1.0</td>\n",
       "      <td>...</td>\n",
       "      <td>0.0</td>\n",
       "      <td>0.462958</td>\n",
       "      <td>False</td>\n",
       "      <td>439488</td>\n",
       "      <td>no rank</td>\n",
       "      <td>ssRNA viruses</td>\n",
       "      <td>Virus</td>\n",
       "      <td>True</td>\n",
       "      <td>False</td>\n",
       "      <td>with annotation</td>\n",
       "    </tr>\n",
       "  </tbody>\n",
       "</table>\n",
       "<p>5 rows × 23 columns</p>\n",
       "</div>"
      ],
      "text/plain": [
       "                                            name  length  probability  \\\n",
       "1187   NODE_1190_length_4867_cov_31.1845_g863_i0    4867     0.003411   \n",
       "1385  NODE_1388_length_4479_cov_77.7475_g1017_i0    4479     0.995234   \n",
       "1698  NODE_1702_length_3955_cov_32.4023_g1269_i0    3955     0.094340   \n",
       "1728  NODE_1732_length_3910_cov_62.4519_g1295_i0    3910     0.985221   \n",
       "1748  NODE_1752_length_3882_cov_14.5733_g1313_i0    3882     0.355353   \n",
       "\n",
       "      prediction  vfam  pfam  diamond  label  score_euk_non_euk  \\\n",
       "1187         0.0   1.0   0.0      0.0    1.0           0.053115   \n",
       "1385         1.0   0.0   1.0      1.0    1.0           0.974094   \n",
       "1698         0.0   0.0   1.0      1.0    1.0           0.792640   \n",
       "1728         1.0   0.0   1.0      1.0    1.0           0.960621   \n",
       "1748         0.0   0.0   1.0      1.0    1.0           0.603147   \n",
       "\n",
       "      pred_euk_non_euk       ...         pred_virus_non_virus  \\\n",
       "1187               0.0       ...                          0.0   \n",
       "1385               1.0       ...                          0.0   \n",
       "1698               1.0       ...                          0.0   \n",
       "1728               1.0       ...                          0.0   \n",
       "1748               1.0       ...                          0.0   \n",
       "\n",
       "      hybrid_probability  hybrid_prediction  tax_id     rank  \\\n",
       "1187            0.013460              False     286    genus   \n",
       "1385            0.984607               True  186616  no rank   \n",
       "1698            0.273456              False  196896  no rank   \n",
       "1728            0.972844               True  196896  no rank   \n",
       "1748            0.462958              False  439488  no rank   \n",
       "\n",
       "                     tax_name  top_label non_euk_label micromonas_label  \\\n",
       "1187              Pseudomonas   Bacteria          True            False   \n",
       "1385    environmental samples      Virus          True            False   \n",
       "1698  unclassified Myoviridae      Virus          True            False   \n",
       "1728  unclassified Myoviridae      Virus          True            False   \n",
       "1748            ssRNA viruses      Virus          True            False   \n",
       "\n",
       "     annotation_label  \n",
       "1187  with annotation  \n",
       "1385  with annotation  \n",
       "1698  with annotation  \n",
       "1728  with annotation  \n",
       "1748  with annotation  \n",
       "\n",
       "[5 rows x 23 columns]"
      ]
     },
     "execution_count": 164,
     "metadata": {},
     "output_type": "execute_result"
    }
   ],
   "source": [
    "df_virus.head()"
   ]
  },
  {
   "cell_type": "code",
   "execution_count": 165,
   "metadata": {
    "collapsed": false
   },
   "outputs": [],
   "source": [
    "\n",
    "imbalaced_virus_nonvirus = pd.concat([df_virus,df_nonvirus])\n",
    "imbalaced_matrix_virus_nonvirus_hybrid = confusion_matrix(imbalaced_virus_nonvirus.label, imbalaced_virus_nonvirus.hybrid_prediction)\n",
    "auprc_imbalaced_virus_nonvirus_hybrid = average_precision_score(imbalaced_virus_nonvirus.label, imbalaced_virus_nonvirus.hybrid_probability)\n",
    "precision_imbalaced_virus_nonvirus_hybrid, recall_imbalaced_virus_nonvirus_hybrid, thresholds_imbalaced_virus_nonvirus_hybrid = precision_recall_curve(\n",
    "    imbalaced_virus_nonvirus.label, imbalaced_virus_nonvirus.hybrid_probability)\n",
    "\n",
    "imbalaced_matrix_virus_nonvirus_old = confusion_matrix(imbalaced_virus_nonvirus.label, imbalaced_virus_nonvirus.prediction)\n",
    "auprc_imbalaced_virus_nonvirus_old = average_precision_score(imbalaced_virus_nonvirus.label, imbalaced_virus_nonvirus.probability)\n",
    "precision_imbalaced_virus_nonvirus_old, recall_imbalaced_virus_nonvirus_old, thresholds_imbalaced_virus_nonvirus_old = precision_recall_curve(\n",
    "    imbalaced_virus_nonvirus.label, imbalaced_virus_nonvirus.probability)\n",
    "\n",
    "\n",
    "        \n",
    "    "
   ]
  },
  {
   "cell_type": "code",
   "execution_count": 166,
   "metadata": {
    "collapsed": false
   },
   "outputs": [
    {
     "data": {
      "text/html": [
       "<div>\n",
       "<table border=\"1\" class=\"dataframe\">\n",
       "  <thead>\n",
       "    <tr style=\"text-align: right;\">\n",
       "      <th></th>\n",
       "      <th>name</th>\n",
       "      <th>length</th>\n",
       "      <th>probability</th>\n",
       "      <th>prediction</th>\n",
       "      <th>vfam</th>\n",
       "      <th>pfam</th>\n",
       "      <th>diamond</th>\n",
       "      <th>label</th>\n",
       "      <th>score_euk_non_euk</th>\n",
       "      <th>pred_euk_non_euk</th>\n",
       "      <th>...</th>\n",
       "      <th>pred_virus_non_virus</th>\n",
       "      <th>hybrid_probability</th>\n",
       "      <th>hybrid_prediction</th>\n",
       "      <th>tax_id</th>\n",
       "      <th>rank</th>\n",
       "      <th>tax_name</th>\n",
       "      <th>top_label</th>\n",
       "      <th>non_euk_label</th>\n",
       "      <th>micromonas_label</th>\n",
       "      <th>annotation_label</th>\n",
       "    </tr>\n",
       "  </thead>\n",
       "  <tbody>\n",
       "    <tr>\n",
       "      <th>1187</th>\n",
       "      <td>NODE_1190_length_4867_cov_31.1845_g863_i0</td>\n",
       "      <td>4867</td>\n",
       "      <td>0.003411</td>\n",
       "      <td>0.0</td>\n",
       "      <td>1.0</td>\n",
       "      <td>0.0</td>\n",
       "      <td>0.0</td>\n",
       "      <td>1.0</td>\n",
       "      <td>0.053115</td>\n",
       "      <td>0.0</td>\n",
       "      <td>...</td>\n",
       "      <td>0.0</td>\n",
       "      <td>0.013460</td>\n",
       "      <td>False</td>\n",
       "      <td>286</td>\n",
       "      <td>genus</td>\n",
       "      <td>Pseudomonas</td>\n",
       "      <td>Bacteria</td>\n",
       "      <td>True</td>\n",
       "      <td>False</td>\n",
       "      <td>with annotation</td>\n",
       "    </tr>\n",
       "    <tr>\n",
       "      <th>1385</th>\n",
       "      <td>NODE_1388_length_4479_cov_77.7475_g1017_i0</td>\n",
       "      <td>4479</td>\n",
       "      <td>0.995234</td>\n",
       "      <td>1.0</td>\n",
       "      <td>0.0</td>\n",
       "      <td>1.0</td>\n",
       "      <td>1.0</td>\n",
       "      <td>1.0</td>\n",
       "      <td>0.974094</td>\n",
       "      <td>1.0</td>\n",
       "      <td>...</td>\n",
       "      <td>0.0</td>\n",
       "      <td>0.984607</td>\n",
       "      <td>True</td>\n",
       "      <td>186616</td>\n",
       "      <td>no rank</td>\n",
       "      <td>environmental samples</td>\n",
       "      <td>Virus</td>\n",
       "      <td>True</td>\n",
       "      <td>False</td>\n",
       "      <td>with annotation</td>\n",
       "    </tr>\n",
       "    <tr>\n",
       "      <th>1698</th>\n",
       "      <td>NODE_1702_length_3955_cov_32.4023_g1269_i0</td>\n",
       "      <td>3955</td>\n",
       "      <td>0.094340</td>\n",
       "      <td>0.0</td>\n",
       "      <td>0.0</td>\n",
       "      <td>1.0</td>\n",
       "      <td>1.0</td>\n",
       "      <td>1.0</td>\n",
       "      <td>0.792640</td>\n",
       "      <td>1.0</td>\n",
       "      <td>...</td>\n",
       "      <td>0.0</td>\n",
       "      <td>0.273456</td>\n",
       "      <td>False</td>\n",
       "      <td>196896</td>\n",
       "      <td>no rank</td>\n",
       "      <td>unclassified Myoviridae</td>\n",
       "      <td>Virus</td>\n",
       "      <td>True</td>\n",
       "      <td>False</td>\n",
       "      <td>with annotation</td>\n",
       "    </tr>\n",
       "    <tr>\n",
       "      <th>1728</th>\n",
       "      <td>NODE_1732_length_3910_cov_62.4519_g1295_i0</td>\n",
       "      <td>3910</td>\n",
       "      <td>0.985221</td>\n",
       "      <td>1.0</td>\n",
       "      <td>0.0</td>\n",
       "      <td>1.0</td>\n",
       "      <td>1.0</td>\n",
       "      <td>1.0</td>\n",
       "      <td>0.960621</td>\n",
       "      <td>1.0</td>\n",
       "      <td>...</td>\n",
       "      <td>0.0</td>\n",
       "      <td>0.972844</td>\n",
       "      <td>True</td>\n",
       "      <td>196896</td>\n",
       "      <td>no rank</td>\n",
       "      <td>unclassified Myoviridae</td>\n",
       "      <td>Virus</td>\n",
       "      <td>True</td>\n",
       "      <td>False</td>\n",
       "      <td>with annotation</td>\n",
       "    </tr>\n",
       "    <tr>\n",
       "      <th>1748</th>\n",
       "      <td>NODE_1752_length_3882_cov_14.5733_g1313_i0</td>\n",
       "      <td>3882</td>\n",
       "      <td>0.355353</td>\n",
       "      <td>0.0</td>\n",
       "      <td>0.0</td>\n",
       "      <td>1.0</td>\n",
       "      <td>1.0</td>\n",
       "      <td>1.0</td>\n",
       "      <td>0.603147</td>\n",
       "      <td>1.0</td>\n",
       "      <td>...</td>\n",
       "      <td>0.0</td>\n",
       "      <td>0.462958</td>\n",
       "      <td>False</td>\n",
       "      <td>439488</td>\n",
       "      <td>no rank</td>\n",
       "      <td>ssRNA viruses</td>\n",
       "      <td>Virus</td>\n",
       "      <td>True</td>\n",
       "      <td>False</td>\n",
       "      <td>with annotation</td>\n",
       "    </tr>\n",
       "  </tbody>\n",
       "</table>\n",
       "<p>5 rows × 23 columns</p>\n",
       "</div>"
      ],
      "text/plain": [
       "                                            name  length  probability  \\\n",
       "1187   NODE_1190_length_4867_cov_31.1845_g863_i0    4867     0.003411   \n",
       "1385  NODE_1388_length_4479_cov_77.7475_g1017_i0    4479     0.995234   \n",
       "1698  NODE_1702_length_3955_cov_32.4023_g1269_i0    3955     0.094340   \n",
       "1728  NODE_1732_length_3910_cov_62.4519_g1295_i0    3910     0.985221   \n",
       "1748  NODE_1752_length_3882_cov_14.5733_g1313_i0    3882     0.355353   \n",
       "\n",
       "      prediction  vfam  pfam  diamond  label  score_euk_non_euk  \\\n",
       "1187         0.0   1.0   0.0      0.0    1.0           0.053115   \n",
       "1385         1.0   0.0   1.0      1.0    1.0           0.974094   \n",
       "1698         0.0   0.0   1.0      1.0    1.0           0.792640   \n",
       "1728         1.0   0.0   1.0      1.0    1.0           0.960621   \n",
       "1748         0.0   0.0   1.0      1.0    1.0           0.603147   \n",
       "\n",
       "      pred_euk_non_euk       ...         pred_virus_non_virus  \\\n",
       "1187               0.0       ...                          0.0   \n",
       "1385               1.0       ...                          0.0   \n",
       "1698               1.0       ...                          0.0   \n",
       "1728               1.0       ...                          0.0   \n",
       "1748               1.0       ...                          0.0   \n",
       "\n",
       "      hybrid_probability  hybrid_prediction  tax_id     rank  \\\n",
       "1187            0.013460              False     286    genus   \n",
       "1385            0.984607               True  186616  no rank   \n",
       "1698            0.273456              False  196896  no rank   \n",
       "1728            0.972844               True  196896  no rank   \n",
       "1748            0.462958              False  439488  no rank   \n",
       "\n",
       "                     tax_name  top_label non_euk_label micromonas_label  \\\n",
       "1187              Pseudomonas   Bacteria          True            False   \n",
       "1385    environmental samples      Virus          True            False   \n",
       "1698  unclassified Myoviridae      Virus          True            False   \n",
       "1728  unclassified Myoviridae      Virus          True            False   \n",
       "1748            ssRNA viruses      Virus          True            False   \n",
       "\n",
       "     annotation_label  \n",
       "1187  with annotation  \n",
       "1385  with annotation  \n",
       "1698  with annotation  \n",
       "1728  with annotation  \n",
       "1748  with annotation  \n",
       "\n",
       "[5 rows x 23 columns]"
      ]
     },
     "execution_count": 166,
     "metadata": {},
     "output_type": "execute_result"
    }
   ],
   "source": [
    "imbalaced_virus_nonvirus.head()"
   ]
  },
  {
   "cell_type": "code",
   "execution_count": 167,
   "metadata": {
    "collapsed": false
   },
   "outputs": [
    {
     "data": {
      "text/plain": [
       "array([[146072,  44951],\n",
       "       [  2865,   4176]])"
      ]
     },
     "execution_count": 167,
     "metadata": {},
     "output_type": "execute_result"
    }
   ],
   "source": [
    "imbalaced_matrix_virus_nonvirus_hybrid"
   ]
  },
  {
   "cell_type": "code",
   "execution_count": 168,
   "metadata": {
    "collapsed": false
   },
   "outputs": [
    {
     "data": {
      "text/plain": [
       "array([[131866,  59157],\n",
       "       [  1534,   5507]])"
      ]
     },
     "execution_count": 168,
     "metadata": {},
     "output_type": "execute_result"
    }
   ],
   "source": [
    "imbalaced_matrix_virus_nonvirus_old"
   ]
  },
  {
   "cell_type": "code",
   "execution_count": 171,
   "metadata": {
    "collapsed": false
   },
   "outputs": [
    {
     "data": {
      "text/plain": [
       "<matplotlib.legend.Legend at 0x2ba81dafad10>"
      ]
     },
     "execution_count": 171,
     "metadata": {},
     "output_type": "execute_result"
    },
    {
     "data": {
      "image/png": "[encoded data removed]",
      "text/plain": [
       "<matplotlib.figure.Figure at 0x2ba81d9d8a50>"
      ]
     },
     "metadata": {},
     "output_type": "display_data"
    }
   ],
   "source": [
    "        lw = 2\n",
    "        plt.figure(figsize=(6, 4), dpi=80)\n",
    "        plt.clf()\n",
    "        plt.plot(recall_imbalaced_virus_nonvirus_hybrid, precision_imbalaced_virus_nonvirus_hybrid, lw=lw, \n",
    "                 label='hybrid model, AUC={0:0.4f}'.format(auprc_imbalaced_virus_nonvirus_hybrid))\n",
    "        plt.plot(recall_imbalaced_virus_nonvirus_old, precision_imbalaced_virus_nonvirus_old, lw=lw, \n",
    "                 label='old model, AUC={0:0.4f}'.format(auprc_imbalaced_virus_nonvirus_old))\n",
    "\n",
    "        plt.xlabel('Recall')\n",
    "        plt.ylabel('Precision')\n",
    "        plt.ylim([0.0, 1.05])\n",
    "        plt.xlim([0.0, 1.0])\n",
    "        plt.title('imbalanced virus/non-virus, 7041:191023 contigs')\n",
    "        plt.legend(loc=\"upper right\")\n"
   ]
  },
  {
   "cell_type": "markdown",
   "metadata": {},
   "source": [
    "### Check the performance of the Euk/non-euk model"
   ]
  },
  {
   "cell_type": "code",
   "execution_count": 205,
   "metadata": {
    "collapsed": true
   },
   "outputs": [],
   "source": [
    "imbalaced_euk_noneuk = pd.concat([df_euk,df_noneuk])"
   ]
  },
  {
   "cell_type": "code",
   "execution_count": 206,
   "metadata": {
    "collapsed": true
   },
   "outputs": [],
   "source": [
    "balaced_euk_noneuk = pd.concat([df_euk,df_noneuk_subsample])"
   ]
  },
  {
   "cell_type": "code",
   "execution_count": 210,
   "metadata": {
    "collapsed": false
   },
   "outputs": [],
   "source": [
    "matrix_euk_non_euk_imbalanced = confusion_matrix(imbalaced_euk_noneuk.non_euk_label, imbalaced_euk_noneuk.pred_euk_non_euk)"
   ]
  },
  {
   "cell_type": "code",
   "execution_count": 211,
   "metadata": {
    "collapsed": false
   },
   "outputs": [
    {
     "data": {
      "text/plain": [
       "array([[23114, 17806],\n",
       "       [78591, 78232]])"
      ]
     },
     "execution_count": 211,
     "metadata": {},
     "output_type": "execute_result"
    }
   ],
   "source": [
    "matrix_euk_non_euk_imbalanced"
   ]
  },
  {
   "cell_type": "code",
   "execution_count": 212,
   "metadata": {
    "collapsed": true
   },
   "outputs": [],
   "source": [
    "matrix_euk_non_euk_balanced = confusion_matrix(balaced_euk_noneuk.non_euk_label, balaced_euk_noneuk.pred_euk_non_euk)"
   ]
  },
  {
   "cell_type": "code",
   "execution_count": 213,
   "metadata": {
    "collapsed": false
   },
   "outputs": [
    {
     "data": {
      "text/plain": [
       "array([[23114, 17806],\n",
       "       [20501, 20419]])"
      ]
     },
     "execution_count": 213,
     "metadata": {},
     "output_type": "execute_result"
    }
   ],
   "source": [
    "matrix_euk_non_euk_balanced"
   ]
  },
  {
   "cell_type": "code",
   "execution_count": 218,
   "metadata": {
    "collapsed": true
   },
   "outputs": [],
   "source": [
    "auprc_euk_imbalanced = average_precision_score(imbalaced_euk_noneuk.non_euk_label, imbalaced_euk_noneuk.score_euk_non_euk)"
   ]
  },
  {
   "cell_type": "code",
   "execution_count": 214,
   "metadata": {
    "collapsed": true
   },
   "outputs": [],
   "source": [
    "auprc_euk_balanced = average_precision_score(balaced_euk_noneuk.non_euk_label, balaced_euk_noneuk.score_euk_non_euk)"
   ]
  },
  {
   "cell_type": "code",
   "execution_count": 215,
   "metadata": {
    "collapsed": false
   },
   "outputs": [
    {
     "data": {
      "text/plain": [
       "0.49098866035330868"
      ]
     },
     "execution_count": 215,
     "metadata": {},
     "output_type": "execute_result"
    }
   ],
   "source": [
    "auprc_euk_balanced"
   ]
  },
  {
   "cell_type": "code",
   "execution_count": 179,
   "metadata": {
    "collapsed": false
   },
   "outputs": [
    {
     "data": {
      "text/plain": [
       "0.89867674729120406"
      ]
     },
     "execution_count": 179,
     "metadata": {},
     "output_type": "execute_result"
    }
   ],
   "source": [
    "auprc_euk_balanced"
   ]
  },
  {
   "cell_type": "code",
   "execution_count": 219,
   "metadata": {
    "collapsed": true
   },
   "outputs": [],
   "source": [
    "precision_euk_imbalanced, recall_euk_imbalanced, thresholds_euk_imbalanced = precision_recall_curve(imbalaced_euk_noneuk.non_euk_label, imbalaced_euk_noneuk.score_euk_non_euk)"
   ]
  },
  {
   "cell_type": "code",
   "execution_count": 216,
   "metadata": {
    "collapsed": true
   },
   "outputs": [],
   "source": [
    "precision_euk_balanced, recall_euk_balanced, thresholds_euk_balanced = precision_recall_curve(balaced_euk_noneuk.non_euk_label, balaced_euk_noneuk.score_euk_non_euk)"
   ]
  },
  {
   "cell_type": "code",
   "execution_count": 221,
   "metadata": {
    "collapsed": false
   },
   "outputs": [
    {
     "data": {
      "text/plain": [
       "<matplotlib.legend.Legend at 0x2ba81dea39d0>"
      ]
     },
     "execution_count": 221,
     "metadata": {},
     "output_type": "execute_result"
    },
    {
     "data": {
      "image/png": "[encoded data removed]",
      "text/plain": [
       "<matplotlib.figure.Figure at 0x2ba81dd8e550>"
      ]
     },
     "metadata": {},
     "output_type": "display_data"
    }
   ],
   "source": [
    "        lw = 2\n",
    "        plt.figure(figsize=(6, 4), dpi=80)\n",
    "        plt.clf()\n",
    "        plt.plot(recall_euk_imbalanced, precision_euk_imbalanced, lw=lw, color='red',\n",
    "                 label='euk/non-euk model, AUC={0:0.4f}'.format(auprc_euk_imbalanced))\n",
    "\n",
    "        plt.xlabel('Recall')\n",
    "        plt.ylabel('Precision')\n",
    "        plt.ylim([0.0, 1.05])\n",
    "        plt.xlim([0.0, 1.0])\n",
    "        plt.title('euk/non-euk model, imbalanced data')\n",
    "        plt.legend(loc=\"upper right\")\n",
    "\n"
   ]
  },
  {
   "cell_type": "code",
   "execution_count": 222,
   "metadata": {
    "collapsed": false
   },
   "outputs": [
    {
     "data": {
      "text/plain": [
       "<matplotlib.legend.Legend at 0x2ba81df54a90>"
      ]
     },
     "execution_count": 222,
     "metadata": {},
     "output_type": "execute_result"
    },
    {
     "data": {
      "image/png": "[encoded data removed]",
      "text/plain": [
       "<matplotlib.figure.Figure at 0x2ba81ded2dd0>"
      ]
     },
     "metadata": {},
     "output_type": "display_data"
    }
   ],
   "source": [
    "        lw = 2\n",
    "        plt.figure(figsize=(6, 4), dpi=80)\n",
    "        plt.clf()\n",
    "        plt.plot(recall_euk_balanced, precision_euk_balanced, lw=lw, color='red',\n",
    "                 label='euk/non-euk model, AUC={0:0.4f}'.format(auprc_euk_balanced))\n",
    "\n",
    "        plt.xlabel('Recall')\n",
    "        plt.ylabel('Precision')\n",
    "        plt.ylim([0.0, 1.05])\n",
    "        plt.xlim([0.0, 1.0])\n",
    "        plt.title('euk/non-euk model, balanced data')\n",
    "        plt.legend(loc=\"upper right\")\n",
    "\n"
   ]
  },
  {
   "cell_type": "markdown",
   "metadata": {},
   "source": [
    "#### Euk/non-Euk itself does not perform very well using the MEGA annotation as ground truth"
   ]
  },
  {
   "cell_type": "markdown",
   "metadata": {},
   "source": [
    "#### it's still possible, the euk/non-euk works for some family......"
   ]
  },
  {
   "cell_type": "code",
   "execution_count": 285,
   "metadata": {
    "collapsed": false
   },
   "outputs": [
    {
     "data": {
      "text/plain": [
       "<matplotlib.axes._subplots.AxesSubplot at 0x2ba82637bb90>"
      ]
     },
     "execution_count": 285,
     "metadata": {},
     "output_type": "execute_result"
    },
    {
     "data": {
      "image/png": "[encoded data removed]",
      "text/plain": [
       "<matplotlib.figure.Figure at 0x2ba826510110>"
      ]
     },
     "metadata": {},
     "output_type": "display_data"
    }
   ],
   "source": [
    "new_table[new_table.top_label=='Eukaryota'].score_euk_non_euk.plot.hist(bins=50, title='euk/non-euk model, for Eukaryota related contigs')"
   ]
  },
  {
   "cell_type": "code",
   "execution_count": 286,
   "metadata": {
    "collapsed": false
   },
   "outputs": [
    {
     "name": "stderr",
     "output_type": "stream",
     "text": [
      "/global/u2/q/qpzhang/anaconda/lib/python2.7/site-packages/ipykernel/__main__.py:1: UserWarning: Boolean Series key will be reindexed to match DataFrame index.\n",
      "  if __name__ == '__main__':\n"
     ]
    },
    {
     "data": {
      "text/plain": [
       "<matplotlib.axes._subplots.AxesSubplot at 0x2ba825d5ca90>"
      ]
     },
     "execution_count": 286,
     "metadata": {},
     "output_type": "execute_result"
    },
    {
     "data": {
      "image/png": "[encoded data removed]",
      "text/plain": [
       "<matplotlib.figure.Figure at 0x2ba825d88cd0>"
      ]
     },
     "metadata": {},
     "output_type": "display_data"
    }
   ],
   "source": [
    "new_table[new_table.top_label!='Eukaryota'][new_table.annotation_label=='with annotation'].score_euk_non_euk.plot.hist(bins=50, title='euk/non-euk model, for non-Eukaryota related contigs')"
   ]
  },
  {
   "cell_type": "markdown",
   "metadata": {},
   "source": [
    "#### This means removing low euk/non-euk score contigs, will not remove many real virus"
   ]
  },
  {
   "cell_type": "code",
   "execution_count": 287,
   "metadata": {
    "collapsed": false
   },
   "outputs": [
    {
     "data": {
      "text/plain": [
       "<matplotlib.axes._subplots.AxesSubplot at 0x2ba825b00550>"
      ]
     },
     "execution_count": 287,
     "metadata": {},
     "output_type": "execute_result"
    },
    {
     "data": {
      "image/png": "[encoded data removed]",
      "text/plain": [
       "<matplotlib.figure.Figure at 0x2ba825c74f50>"
      ]
     },
     "metadata": {},
     "output_type": "display_data"
    }
   ],
   "source": [
    "new_table[new_table.label==1].score_euk_non_euk.plot.hist(bins=50, title='euk/non-euk model, for Virus related contigs')"
   ]
  },
  {
   "cell_type": "code",
   "execution_count": 288,
   "metadata": {
    "collapsed": false
   },
   "outputs": [
    {
     "name": "stderr",
     "output_type": "stream",
     "text": [
      "/global/u2/q/qpzhang/anaconda/lib/python2.7/site-packages/ipykernel/__main__.py:1: UserWarning: Boolean Series key will be reindexed to match DataFrame index.\n",
      "  if __name__ == '__main__':\n"
     ]
    },
    {
     "data": {
      "text/plain": [
       "<matplotlib.axes._subplots.AxesSubplot at 0x2ba824c4ca90>"
      ]
     },
     "execution_count": 288,
     "metadata": {},
     "output_type": "execute_result"
    },
    {
     "data": {
      "image/png": "[encoded data removed]",
      "text/plain": [
       "<matplotlib.figure.Figure at 0x2ba8253454d0>"
      ]
     },
     "metadata": {},
     "output_type": "display_data"
    }
   ],
   "source": [
    "new_table[new_table.label==0][new_table.annotation_label=='with annotation'].score_euk_non_euk.plot.hist(bins=50, title='euk/non-euk model, for Non-Virus related contigs')"
   ]
  },
  {
   "cell_type": "code",
   "execution_count": 230,
   "metadata": {
    "collapsed": false
   },
   "outputs": [
    {
     "data": {
      "text/plain": [
       "34939"
      ]
     },
     "execution_count": 230,
     "metadata": {},
     "output_type": "execute_result"
    }
   ],
   "source": [
    "len(new_table[new_table.probability>=0.9])"
   ]
  },
  {
   "cell_type": "code",
   "execution_count": 231,
   "metadata": {
    "collapsed": false
   },
   "outputs": [
    {
     "name": "stderr",
     "output_type": "stream",
     "text": [
      "/global/u2/q/qpzhang/anaconda/lib/python2.7/site-packages/ipykernel/__main__.py:1: UserWarning: Boolean Series key will be reindexed to match DataFrame index.\n",
      "  if __name__ == '__main__':\n"
     ]
    },
    {
     "data": {
      "text/plain": [
       "3882"
      ]
     },
     "execution_count": 231,
     "metadata": {},
     "output_type": "execute_result"
    }
   ],
   "source": [
    "len(new_table[new_table.probability>=0.9][new_table.label==1.0])"
   ]
  },
  {
   "cell_type": "code",
   "execution_count": 232,
   "metadata": {
    "collapsed": false
   },
   "outputs": [
    {
     "name": "stderr",
     "output_type": "stream",
     "text": [
      "/global/u2/q/qpzhang/anaconda/lib/python2.7/site-packages/ipykernel/__main__.py:1: UserWarning: Boolean Series key will be reindexed to match DataFrame index.\n",
      "  if __name__ == '__main__':\n"
     ]
    },
    {
     "data": {
      "text/plain": [
       "31057"
      ]
     },
     "execution_count": 232,
     "metadata": {},
     "output_type": "execute_result"
    }
   ],
   "source": [
    "len(new_table[new_table.probability>=0.9][new_table.label==0.0])"
   ]
  },
  {
   "cell_type": "code",
   "execution_count": 233,
   "metadata": {
    "collapsed": false
   },
   "outputs": [
    {
     "data": {
      "text/plain": [
       "111998"
      ]
     },
     "execution_count": 233,
     "metadata": {},
     "output_type": "execute_result"
    }
   ],
   "source": [
    "len(new_table[new_table.probability<=0.1])"
   ]
  },
  {
   "cell_type": "code",
   "execution_count": 234,
   "metadata": {
    "collapsed": false
   },
   "outputs": [
    {
     "name": "stderr",
     "output_type": "stream",
     "text": [
      "/global/u2/q/qpzhang/anaconda/lib/python2.7/site-packages/ipykernel/__main__.py:1: UserWarning: Boolean Series key will be reindexed to match DataFrame index.\n",
      "  if __name__ == '__main__':\n"
     ]
    },
    {
     "data": {
      "text/plain": [
       "558"
      ]
     },
     "execution_count": 234,
     "metadata": {},
     "output_type": "execute_result"
    }
   ],
   "source": [
    "len(new_table[new_table.probability<=0.1][new_table.label==1.0])"
   ]
  },
  {
   "cell_type": "code",
   "execution_count": 235,
   "metadata": {
    "collapsed": false
   },
   "outputs": [
    {
     "name": "stderr",
     "output_type": "stream",
     "text": [
      "/global/u2/q/qpzhang/anaconda/lib/python2.7/site-packages/ipykernel/__main__.py:1: UserWarning: Boolean Series key will be reindexed to match DataFrame index.\n",
      "  if __name__ == '__main__':\n"
     ]
    },
    {
     "data": {
      "text/plain": [
       "111440"
      ]
     },
     "execution_count": 235,
     "metadata": {},
     "output_type": "execute_result"
    }
   ],
   "source": [
    "len(new_table[new_table.probability<=0.1][new_table.label==0.0])"
   ]
  },
  {
   "cell_type": "code",
   "execution_count": 236,
   "metadata": {
    "collapsed": false,
    "scrolled": false
   },
   "outputs": [
    {
     "data": {
      "text/plain": [
       "<matplotlib.axes._subplots.AxesSubplot at 0x2ba81e9bfe50>"
      ]
     },
     "execution_count": 236,
     "metadata": {},
     "output_type": "execute_result"
    },
    {
     "data": {
      "image/png": "[encoded data removed]",
      "text/plain": [
       "<matplotlib.figure.Figure at 0x2ba81e8bde10>"
      ]
     },
     "metadata": {},
     "output_type": "display_data"
    }
   ],
   "source": [
    "new_table[new_table.label==1.0].probability.plot.hist(bins=50, title = 'old model, virus-related TARA contigs')"
   ]
  },
  {
   "cell_type": "code",
   "execution_count": 281,
   "metadata": {
    "collapsed": false
   },
   "outputs": [
    {
     "name": "stderr",
     "output_type": "stream",
     "text": [
      "/global/u2/q/qpzhang/anaconda/lib/python2.7/site-packages/ipykernel/__main__.py:1: UserWarning: Boolean Series key will be reindexed to match DataFrame index.\n",
      "  if __name__ == '__main__':\n"
     ]
    },
    {
     "data": {
      "text/plain": [
       "<matplotlib.text.Text at 0x2ba826024a50>"
      ]
     },
     "execution_count": 281,
     "metadata": {},
     "output_type": "execute_result"
    },
    {
     "data": {
      "image/png": "[encoded data removed]",
      "text/plain": [
       "<matplotlib.figure.Figure at 0x2ba826f6f110>"
      ]
     },
     "metadata": {},
     "output_type": "display_data"
    }
   ],
   "source": [
    "ax = new_table[new_table.label==0.0][new_table.annotation_label=='with annotation'].probability.plot.hist(bins=50, title = 'old model, non-virus TARA contigs')\n",
    "ax.set_xlabel(\"probability\")"
   ]
  },
  {
   "cell_type": "code",
   "execution_count": 241,
   "metadata": {
    "collapsed": false,
    "scrolled": true
   },
   "outputs": [
    {
     "name": "stderr",
     "output_type": "stream",
     "text": [
      "/global/u2/q/qpzhang/anaconda/lib/python2.7/site-packages/ipykernel/__main__.py:1: UserWarning: Boolean Series key will be reindexed to match DataFrame index.\n",
      "  if __name__ == '__main__':\n"
     ]
    },
    {
     "data": {
      "text/plain": [
       "<matplotlib.axes._subplots.AxesSubplot at 0x2ba8237e4250>"
      ]
     },
     "execution_count": 241,
     "metadata": {},
     "output_type": "execute_result"
    },
    {
     "data": {
      "image/png": "[encoded data removed]",
      "text/plain": [
       "<matplotlib.figure.Figure at 0x2ba8239563d0>"
      ]
     },
     "metadata": {},
     "output_type": "display_data"
    }
   ],
   "source": [
    "new_table[new_table.label==0.0][new_table.annotation_label!='with annotation'].probability.plot.hist(bins=50, title = 'old model, unknown TARA contigs')"
   ]
  },
  {
   "cell_type": "code",
   "execution_count": 242,
   "metadata": {
    "collapsed": false
   },
   "outputs": [
    {
     "data": {
      "text/plain": [
       "<matplotlib.axes._subplots.AxesSubplot at 0x2ba8238e2b90>"
      ]
     },
     "execution_count": 242,
     "metadata": {},
     "output_type": "execute_result"
    },
    {
     "data": {
      "image/png": "[encoded data removed]",
      "text/plain": [
       "<matplotlib.figure.Figure at 0x2ba823a54c50>"
      ]
     },
     "metadata": {},
     "output_type": "display_data"
    }
   ],
   "source": [
    "new_table[new_table.label==1.0].hybrid_probability.plot.hist(bins=50, title = 'hybrid model, virus-related TARA contigs')"
   ]
  },
  {
   "cell_type": "code",
   "execution_count": 244,
   "metadata": {
    "collapsed": false
   },
   "outputs": [
    {
     "name": "stderr",
     "output_type": "stream",
     "text": [
      "/global/u2/q/qpzhang/anaconda/lib/python2.7/site-packages/ipykernel/__main__.py:1: UserWarning: Boolean Series key will be reindexed to match DataFrame index.\n",
      "  if __name__ == '__main__':\n"
     ]
    },
    {
     "data": {
      "text/plain": [
       "<matplotlib.axes._subplots.AxesSubplot at 0x2ba823d81190>"
      ]
     },
     "execution_count": 244,
     "metadata": {},
     "output_type": "execute_result"
    },
    {
     "data": {
      "image/png": "[encoded data removed]",
      "text/plain": [
       "<matplotlib.figure.Figure at 0x2ba823e32710>"
      ]
     },
     "metadata": {},
     "output_type": "display_data"
    }
   ],
   "source": [
    "new_table[new_table.label==0.0][new_table.annotation_label=='with annotation'].hybrid_probability.plot.hist(bins=50, title = 'hybrid model, non-virus-related TARA contigs')"
   ]
  },
  {
   "cell_type": "code",
   "execution_count": 282,
   "metadata": {
    "collapsed": false
   },
   "outputs": [
    {
     "name": "stderr",
     "output_type": "stream",
     "text": [
      "/global/u2/q/qpzhang/anaconda/lib/python2.7/site-packages/ipykernel/__main__.py:1: UserWarning: Boolean Series key will be reindexed to match DataFrame index.\n",
      "  if __name__ == '__main__':\n"
     ]
    },
    {
     "data": {
      "text/plain": [
       "<matplotlib.axes._subplots.AxesSubplot at 0x2ba8262e09d0>"
      ]
     },
     "execution_count": 282,
     "metadata": {},
     "output_type": "execute_result"
    },
    {
     "data": {
      "image/png": "[encoded data removed]",
      "text/plain": [
       "<matplotlib.figure.Figure at 0x2ba827135690>"
      ]
     },
     "metadata": {},
     "output_type": "display_data"
    }
   ],
   "source": [
    "new_table[new_table.label==0.0][new_table.annotation_label!='with annotation'].hybrid_probability.plot.hist(bins=50, title = 'hybrid model, unknown TARA contigs')"
   ]
  },
  {
   "cell_type": "markdown",
   "metadata": {},
   "source": [
    "### Check the micromous -related contigs"
   ]
  },
  {
   "cell_type": "markdown",
   "metadata": {},
   "source": [
    "#### most of micromonas contigs has lower euk/non-euk score, prone to be euk...."
   ]
  },
  {
   "cell_type": "code",
   "execution_count": 289,
   "metadata": {
    "collapsed": false
   },
   "outputs": [
    {
     "data": {
      "text/plain": [
       "<matplotlib.axes._subplots.AxesSubplot at 0x2ba8256206d0>"
      ]
     },
     "execution_count": 289,
     "metadata": {},
     "output_type": "execute_result"
    },
    {
     "data": {
      "image/png": "[encoded data removed]",
      "text/plain": [
       "<matplotlib.figure.Figure at 0x2ba8272e63d0>"
      ]
     },
     "metadata": {},
     "output_type": "display_data"
    }
   ],
   "source": [
    "df_micromonus.score_euk_non_euk.plot.hist(bins=50, title = 'micromonus contigs euk/non-euk model')"
   ]
  },
  {
   "cell_type": "code",
   "execution_count": 250,
   "metadata": {
    "collapsed": false
   },
   "outputs": [
    {
     "data": {
      "text/plain": [
       "<matplotlib.axes._subplots.AxesSubplot at 0x2ba824285d10>"
      ]
     },
     "execution_count": 250,
     "metadata": {},
     "output_type": "execute_result"
    },
    {
     "data": {
      "image/png": "[encoded data removed]",
      "text/plain": [
       "<matplotlib.figure.Figure at 0x2ba8242297d0>"
      ]
     },
     "metadata": {},
     "output_type": "display_data"
    }
   ],
   "source": [
    "df_micromonus.hybrid_probability.plot.hist(bins=50, title = 'hybrid model, Micromonas-related TARA contigs')"
   ]
  },
  {
   "cell_type": "code",
   "execution_count": 251,
   "metadata": {
    "collapsed": false
   },
   "outputs": [
    {
     "data": {
      "text/plain": [
       "<matplotlib.axes._subplots.AxesSubplot at 0x2ba8246969d0>"
      ]
     },
     "execution_count": 251,
     "metadata": {},
     "output_type": "execute_result"
    },
    {
     "data": {
      "image/png": "[encoded data removed]",
      "text/plain": [
       "<matplotlib.figure.Figure at 0x2ba82469db10>"
      ]
     },
     "metadata": {},
     "output_type": "display_data"
    }
   ],
   "source": [
    "df_micromonus.probability.plot.hist(bins=50, title = 'old model, Micromonas-related TARA contigs')"
   ]
  },
  {
   "cell_type": "code",
   "execution_count": null,
   "metadata": {
    "collapsed": true
   },
   "outputs": [],
   "source": [
    "sub_table = new_table.loc[:,['probability','hybrid_probability','label','tax_id','rank','tax_name']]"
   ]
  },
  {
   "cell_type": "code",
   "execution_count": null,
   "metadata": {
    "collapsed": false
   },
   "outputs": [],
   "source": [
    "sub_table.head()"
   ]
  },
  {
   "cell_type": "code",
   "execution_count": null,
   "metadata": {
    "collapsed": false
   },
   "outputs": [],
   "source": [
    "grouped = sub_table.groupby(['label'])"
   ]
  },
  {
   "cell_type": "code",
   "execution_count": 264,
   "metadata": {
    "collapsed": true
   },
   "outputs": [],
   "source": [
    "import pandas"
   ]
  },
  {
   "cell_type": "code",
   "execution_count": 262,
   "metadata": {
    "collapsed": true
   },
   "outputs": [],
   "source": [
    "grouped_category = new_table.groupby('category')"
   ]
  },
  {
   "cell_type": "code",
   "execution_count": 269,
   "metadata": {
    "collapsed": true
   },
   "outputs": [],
   "source": [
    "boxplot_data_old = [new_table[new_table.category=='virus'].probability,new_table[new_table.category=='nonvirus'].probability,\n",
    "               new_table[new_table.category=='unknown'].probability]"
   ]
  },
  {
   "cell_type": "code",
   "execution_count": 291,
   "metadata": {
    "collapsed": false
   },
   "outputs": [
    {
     "data": {
      "image/png": "[encoded data removed]",
      "text/plain": [
       "<matplotlib.figure.Figure at 0x2ba82554b390>"
      ]
     },
     "metadata": {},
     "output_type": "display_data"
    }
   ],
   "source": [
    "plt.figure()\n",
    "label_list = ['virus','non-virus','unknown']\n",
    "plt.boxplot(boxplot_data_old,labels = label_list)\n",
    "plt.title('old model')\n",
    "plt.ylabel('probability')\n",
    "plt.show()"
   ]
  },
  {
   "cell_type": "code",
   "execution_count": 271,
   "metadata": {
    "collapsed": true
   },
   "outputs": [],
   "source": [
    "boxplot_data_hybrid = [new_table[new_table.category=='virus'].hybrid_probability,new_table[new_table.category=='nonvirus'].hybrid_probability,\n",
    "               new_table[new_table.category=='unknown'].hybrid_probability]"
   ]
  },
  {
   "cell_type": "code",
   "execution_count": 337,
   "metadata": {
    "collapsed": false
   },
   "outputs": [
    {
     "data": {
      "image/png": "[encoded data removed]",
      "text/plain": [
       "<matplotlib.figure.Figure at 0x2ba8277e00d0>"
      ]
     },
     "metadata": {},
     "output_type": "display_data"
    }
   ],
   "source": [
    "colors = ['orange', 'grey', 'green']\n",
    "\n",
    "\n",
    "\n",
    "fig = plt.figure(figsize=(12,12))\n",
    "ax0 = fig.add_subplot(111)\n",
    "\n",
    "label_list = ['virus','non-virus','unknown']\n",
    "bplot1 = ax0.boxplot(boxplot_data_hybrid,labels = label_list,patch_artist=True)\n",
    "ax0.set_title('On balanced subsets of TARA transcriptome',fontsize=24)\n",
    "ax0.set_ylabel('Score',fontsize=24)\n",
    "\n",
    "\n",
    "\n",
    "for patch, color in zip(bplot1['boxes'], colors):\n",
    "    patch.set_facecolor(color)\n",
    "plt.show()"
   ]
  },
  {
   "cell_type": "code",
   "execution_count": null,
   "metadata": {
    "collapsed": false
   },
   "outputs": [],
   "source": [
    "predict_nonvirus = sub_table.groupby(['label']).get_group(0.0)"
   ]
  },
  {
   "cell_type": "code",
   "execution_count": null,
   "metadata": {
    "collapsed": false
   },
   "outputs": [],
   "source": [
    "predict_nonvirus.head()"
   ]
  },
  {
   "cell_type": "code",
   "execution_count": null,
   "metadata": {
    "collapsed": false
   },
   "outputs": [],
   "source": [
    "predict_nonvirus[predict_nonvirus.probability>0.99].describe()"
   ]
  },
  {
   "cell_type": "code",
   "execution_count": null,
   "metadata": {
    "collapsed": true
   },
   "outputs": [],
   "source": [
    "grouped = predict_nonvirus.loc[:,['probability','hybrid_probability','rank']].groupby(['rank'])"
   ]
  },
  {
   "cell_type": "code",
   "execution_count": null,
   "metadata": {
    "collapsed": true
   },
   "outputs": [],
   "source": [
    "predict_nonvirus_rank = predict_nonvirus.loc[:,['probability','hybrid_probability','rank']]"
   ]
  },
  {
   "cell_type": "code",
   "execution_count": null,
   "metadata": {
    "collapsed": true
   },
   "outputs": [],
   "source": [
    "def convert_rank(rank):\n",
    "    if rank == 'no rank':\n",
    "        return 'no rank'\n",
    "    else:\n",
    "        return 'rank'\n",
    "    "
   ]
  },
  {
   "cell_type": "code",
   "execution_count": null,
   "metadata": {
    "collapsed": true
   },
   "outputs": [],
   "source": []
  },
  {
   "cell_type": "code",
   "execution_count": null,
   "metadata": {
    "collapsed": true
   },
   "outputs": [],
   "source": [
    "predict_nonvirus_rank['no_rank'] = predict_nonvirus_rank['rank'].map(convert_rank)"
   ]
  },
  {
   "cell_type": "code",
   "execution_count": null,
   "metadata": {
    "collapsed": false
   },
   "outputs": [],
   "source": [
    "predict_nonvirus_rank.head()"
   ]
  },
  {
   "cell_type": "code",
   "execution_count": null,
   "metadata": {
    "collapsed": false
   },
   "outputs": [],
   "source": [
    "predict_nonvirus_rank_subset = predict_nonvirus_rank[(predict_nonvirus_rank['rank'] =='class') | (predict_nonvirus_rank['rank'] =='family') | (predict_nonvirus_rank['rank'] =='genus')\\\n",
    "                      | (predict_nonvirus_rank['rank'] =='kingdom')| (predict_nonvirus_rank['rank'] =='no rank')| (predict_nonvirus_rank['rank'] =='order')\\\n",
    "                      | (predict_nonvirus_rank['rank'] =='phylum')| (predict_nonvirus_rank['rank'] =='species')| (predict_nonvirus_rank['rank'] =='superkingdom')]\n"
   ]
  },
  {
   "cell_type": "code",
   "execution_count": null,
   "metadata": {
    "collapsed": true
   },
   "outputs": [],
   "source": [
    "predict_nonvirus_rank_grouped = predict_nonvirus_rank.groupby(['no_rank'])"
   ]
  },
  {
   "cell_type": "code",
   "execution_count": null,
   "metadata": {
    "collapsed": false
   },
   "outputs": [],
   "source": [
    "predict_nonvirus_rank_grouped.describe()"
   ]
  },
  {
   "cell_type": "code",
   "execution_count": null,
   "metadata": {
    "collapsed": false
   },
   "outputs": [],
   "source": [
    "predict_nonvirus_rank_grouped.boxplot(column=['hybrid_probability'])"
   ]
  },
  {
   "cell_type": "code",
   "execution_count": null,
   "metadata": {
    "collapsed": false
   },
   "outputs": [],
   "source": [
    "predict_nonvirus_rank_grouped.boxplot(column=['probability'])"
   ]
  },
  {
   "cell_type": "code",
   "execution_count": null,
   "metadata": {
    "collapsed": false
   },
   "outputs": [],
   "source": [
    "9169.0/111440"
   ]
  },
  {
   "cell_type": "code",
   "execution_count": null,
   "metadata": {
    "collapsed": false
   },
   "outputs": [],
   "source": [
    "tax_name_count_99 = predict_nonvirus[predict_nonvirus.probability>0.99].groupby('tax_name').size().reset_index()"
   ]
  },
  {
   "cell_type": "code",
   "execution_count": null,
   "metadata": {
    "collapsed": false
   },
   "outputs": [],
   "source": [
    "tax_name_count_99['percent_99'] = tax_name_count_99[0].apply(lambda x: 100*x/float(tax_name_count_99.sum()))"
   ]
  },
  {
   "cell_type": "code",
   "execution_count": null,
   "metadata": {
    "collapsed": false
   },
   "outputs": [],
   "source": [
    "tax_name_count_99.head()"
   ]
  },
  {
   "cell_type": "code",
   "execution_count": null,
   "metadata": {
    "collapsed": true
   },
   "outputs": [],
   "source": [
    "tax_name_count_01 = predict_nonvirus[predict_nonvirus.probability<0.01].groupby('tax_name').size().reset_index()"
   ]
  },
  {
   "cell_type": "code",
   "execution_count": null,
   "metadata": {
    "collapsed": true
   },
   "outputs": [],
   "source": [
    "tax_name_count_01['percent_01'] = tax_name_count_01[0].apply(lambda x: 100*x/float(tax_name_count_01.sum()))"
   ]
  },
  {
   "cell_type": "code",
   "execution_count": null,
   "metadata": {
    "collapsed": false
   },
   "outputs": [],
   "source": [
    "tax_name_count_01.head()\n"
   ]
  },
  {
   "cell_type": "code",
   "execution_count": null,
   "metadata": {
    "collapsed": true
   },
   "outputs": [],
   "source": [
    "tax_name = pd.merge(tax_name_count_99,tax_name_count_01,how='inner',on=['tax_name'])"
   ]
  },
  {
   "cell_type": "code",
   "execution_count": null,
   "metadata": {
    "collapsed": false
   },
   "outputs": [],
   "source": [
    "tax_name.head()"
   ]
  },
  {
   "cell_type": "code",
   "execution_count": null,
   "metadata": {
    "collapsed": false
   },
   "outputs": [],
   "source": [
    "tax_name['increase'] = tax_name.apply(lambda x:x['percent_99']/x['percent_01'], axis=1)"
   ]
  },
  {
   "cell_type": "code",
   "execution_count": null,
   "metadata": {
    "collapsed": false
   },
   "outputs": [],
   "source": [
    "tax_name.sort_values(by='increase')"
   ]
  },
  {
   "cell_type": "code",
   "execution_count": null,
   "metadata": {
    "collapsed": false
   },
   "outputs": [],
   "source": [
    "tax_name.sort_values(by='percent_99')"
   ]
  },
  {
   "cell_type": "code",
   "execution_count": null,
   "metadata": {
    "collapsed": false
   },
   "outputs": [],
   "source": [
    "1587.0/31057"
   ]
  },
  {
   "cell_type": "code",
   "execution_count": null,
   "metadata": {
    "collapsed": false
   },
   "outputs": [],
   "source": [
    "predict_nonvirus[predict_nonvirus.probability>0.9].groupby('tax_id').size()"
   ]
  },
  {
   "cell_type": "code",
   "execution_count": null,
   "metadata": {
    "collapsed": false
   },
   "outputs": [],
   "source": [
    "predict_nonvirus[predict_nonvirus.probability>0.9].groupby('rank').size()"
   ]
  },
  {
   "cell_type": "code",
   "execution_count": null,
   "metadata": {
    "collapsed": false
   },
   "outputs": [],
   "source": [
    "predict_nonvirus[predict_nonvirus.probability<0.1].groupby('rank').size()"
   ]
  },
  {
   "cell_type": "code",
   "execution_count": null,
   "metadata": {
    "collapsed": true
   },
   "outputs": [],
   "source": [
    "predict_virus = sub_table.groupby(['label']).get_group(1.0)"
   ]
  },
  {
   "cell_type": "code",
   "execution_count": null,
   "metadata": {
    "collapsed": false
   },
   "outputs": [],
   "source": [
    "result = pd.read_csv('/Users/qingpeng/shred.fa.score',sep=' ',header=None,names=['probability','prediction'])"
   ]
  },
  {
   "cell_type": "code",
   "execution_count": null,
   "metadata": {
    "collapsed": false
   },
   "outputs": [],
   "source": [
    "result"
   ]
  },
  {
   "cell_type": "code",
   "execution_count": null,
   "metadata": {
    "collapsed": false
   },
   "outputs": [],
   "source": [
    "result.probability.plot.hist(bins=100)"
   ]
  },
  {
   "cell_type": "code",
   "execution_count": null,
   "metadata": {
    "collapsed": true
   },
   "outputs": [],
   "source": []
  }
 ],
 "metadata": {
  "kernelspec": {
   "display_name": "Python 2",
   "language": "python",
   "name": "python2"
  },
  "language_info": {
   "codemirror_mode": {
    "name": "ipython",
    "version": 2
   },
   "file_extension": ".py",
   "mimetype": "text/x-python",
   "name": "python",
   "nbconvert_exporter": "python",
   "pygments_lexer": "ipython2",
   "version": "2.7.12"
  }
 },
 "nbformat": 4,
 "nbformat_minor": 0
}
