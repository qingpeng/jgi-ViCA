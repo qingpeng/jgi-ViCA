{
 "cells": [
  {
   "cell_type": "code",
   "execution_count": 1,
   "metadata": {
    "collapsed": true
   },
   "outputs": [],
   "source": [
    "%matplotlib inline"
   ]
  },
  {
   "cell_type": "code",
   "execution_count": 2,
   "metadata": {
    "collapsed": true
   },
   "outputs": [],
   "source": [
    "import pandas as pd\n",
    "import numpy as np\n",
    "import matplotlib.pyplot as plt"
   ]
  },
  {
   "cell_type": "code",
   "execution_count": 4,
   "metadata": {
    "collapsed": false
   },
   "outputs": [],
   "source": [
    "result = pd.read_csv('~/all_2k_prediction.out.label.prediction_combined',sep=' ',header=None,names=['name','length','probability','prediction','vfam','pfam','diamond','label',\n",
    "                                                                                       'score_euk_non_euk','pred_euk_non_euk','score_non_euk_virus','pred_non_euk_virus',\n",
    "                                                                                      'score_virus_non_virus','pred_virus_non_virus'])"
   ]
  },
  {
   "cell_type": "code",
   "execution_count": 5,
   "metadata": {
    "collapsed": false
   },
   "outputs": [
    {
     "data": {
      "text/plain": [
       "213723"
      ]
     },
     "execution_count": 5,
     "metadata": {},
     "output_type": "execute_result"
    }
   ],
   "source": [
    "len(result)"
   ]
  },
  {
   "cell_type": "markdown",
   "metadata": {},
   "source": [
    "### 6913 virus contigs...."
   ]
  },
  {
   "cell_type": "code",
   "execution_count": 115,
   "metadata": {
    "collapsed": false
   },
   "outputs": [
    {
     "data": {
      "text/plain": [
       "6913"
      ]
     },
     "execution_count": 115,
     "metadata": {},
     "output_type": "execute_result"
    }
   ],
   "source": [
    "len(result[result.label==1.0])"
   ]
  },
  {
   "cell_type": "markdown",
   "metadata": {},
   "source": [
    "altogether 213723 >=2K contigs"
   ]
  },
  {
   "cell_type": "code",
   "execution_count": 6,
   "metadata": {
    "collapsed": true
   },
   "outputs": [],
   "source": [
    "result[\"hybrid_probability\"] = (result[\"score_euk_non_euk\"] * result[\"probability\"])**0.5"
   ]
  },
  {
   "cell_type": "code",
   "execution_count": 7,
   "metadata": {
    "collapsed": true
   },
   "outputs": [],
   "source": [
    "result[\"hybrid_prediction\"] = (result.hybrid_probability >0.5)"
   ]
  },
  {
   "cell_type": "code",
   "execution_count": 8,
   "metadata": {
    "collapsed": false
   },
   "outputs": [
    {
     "data": {
      "text/plain": [
       "0          True\n",
       "1          True\n",
       "2          True\n",
       "3          True\n",
       "4          True\n",
       "5          True\n",
       "6          True\n",
       "7          True\n",
       "8          True\n",
       "9          True\n",
       "10         True\n",
       "11         True\n",
       "12         True\n",
       "13         True\n",
       "14         True\n",
       "15         True\n",
       "16         True\n",
       "17         True\n",
       "18         True\n",
       "19         True\n",
       "20         True\n",
       "21         True\n",
       "22         True\n",
       "23         True\n",
       "24         True\n",
       "25         True\n",
       "26         True\n",
       "27         True\n",
       "28         True\n",
       "29         True\n",
       "          ...  \n",
       "213693     True\n",
       "213694     True\n",
       "213695     True\n",
       "213696     True\n",
       "213697     True\n",
       "213698     True\n",
       "213699    False\n",
       "213700    False\n",
       "213701     True\n",
       "213702     True\n",
       "213703    False\n",
       "213704    False\n",
       "213705     True\n",
       "213706    False\n",
       "213707     True\n",
       "213708     True\n",
       "213709    False\n",
       "213710     True\n",
       "213711     True\n",
       "213712     True\n",
       "213713    False\n",
       "213714    False\n",
       "213715    False\n",
       "213716     True\n",
       "213717     True\n",
       "213718    False\n",
       "213719     True\n",
       "213720    False\n",
       "213721    False\n",
       "213722    False\n",
       "Name: hybrid_prediction, dtype: bool"
      ]
     },
     "execution_count": 8,
     "metadata": {},
     "output_type": "execute_result"
    }
   ],
   "source": [
    "result[\"hybrid_prediction\"]==0"
   ]
  },
  {
   "cell_type": "code",
   "execution_count": 9,
   "metadata": {
    "collapsed": false
   },
   "outputs": [
    {
     "data": {
      "text/html": [
       "<div>\n",
       "<table border=\"1\" class=\"dataframe\">\n",
       "  <thead>\n",
       "    <tr style=\"text-align: right;\">\n",
       "      <th></th>\n",
       "      <th>name</th>\n",
       "      <th>length</th>\n",
       "      <th>probability</th>\n",
       "      <th>prediction</th>\n",
       "      <th>vfam</th>\n",
       "      <th>pfam</th>\n",
       "      <th>diamond</th>\n",
       "      <th>label</th>\n",
       "      <th>score_euk_non_euk</th>\n",
       "      <th>pred_euk_non_euk</th>\n",
       "      <th>score_non_euk_virus</th>\n",
       "      <th>pred_non_euk_virus</th>\n",
       "      <th>score_virus_non_virus</th>\n",
       "      <th>pred_virus_non_virus</th>\n",
       "      <th>hybrid_probability</th>\n",
       "      <th>hybrid_prediction</th>\n",
       "    </tr>\n",
       "  </thead>\n",
       "  <tbody>\n",
       "    <tr>\n",
       "      <th>0</th>\n",
       "      <td>NODE_1_length_91451_cov_163.114_g0_i0</td>\n",
       "      <td>91451</td>\n",
       "      <td>0.000375</td>\n",
       "      <td>0.0</td>\n",
       "      <td>0.0</td>\n",
       "      <td>0.0</td>\n",
       "      <td>0.0</td>\n",
       "      <td>0.0</td>\n",
       "      <td>0.000025</td>\n",
       "      <td>0.0</td>\n",
       "      <td>0.996004</td>\n",
       "      <td>1.0</td>\n",
       "      <td>0.001954</td>\n",
       "      <td>0.0</td>\n",
       "      <td>0.000097</td>\n",
       "      <td>False</td>\n",
       "    </tr>\n",
       "    <tr>\n",
       "      <th>1</th>\n",
       "      <td>NODE_2_length_74096_cov_303.895_g1_i0</td>\n",
       "      <td>74096</td>\n",
       "      <td>0.000088</td>\n",
       "      <td>0.0</td>\n",
       "      <td>0.0</td>\n",
       "      <td>0.0</td>\n",
       "      <td>0.0</td>\n",
       "      <td>0.0</td>\n",
       "      <td>0.000012</td>\n",
       "      <td>0.0</td>\n",
       "      <td>0.995278</td>\n",
       "      <td>1.0</td>\n",
       "      <td>0.000529</td>\n",
       "      <td>0.0</td>\n",
       "      <td>0.000032</td>\n",
       "      <td>False</td>\n",
       "    </tr>\n",
       "    <tr>\n",
       "      <th>2</th>\n",
       "      <td>NODE_3_length_66420_cov_268.59_g1_i1</td>\n",
       "      <td>66420</td>\n",
       "      <td>0.000041</td>\n",
       "      <td>0.0</td>\n",
       "      <td>0.0</td>\n",
       "      <td>0.0</td>\n",
       "      <td>0.0</td>\n",
       "      <td>0.0</td>\n",
       "      <td>0.000009</td>\n",
       "      <td>0.0</td>\n",
       "      <td>0.996629</td>\n",
       "      <td>1.0</td>\n",
       "      <td>0.000761</td>\n",
       "      <td>0.0</td>\n",
       "      <td>0.000019</td>\n",
       "      <td>False</td>\n",
       "    </tr>\n",
       "    <tr>\n",
       "      <th>3</th>\n",
       "      <td>NODE_4_length_61338_cov_317.585_g2_i0</td>\n",
       "      <td>61338</td>\n",
       "      <td>0.000056</td>\n",
       "      <td>0.0</td>\n",
       "      <td>0.0</td>\n",
       "      <td>0.0</td>\n",
       "      <td>0.0</td>\n",
       "      <td>0.0</td>\n",
       "      <td>0.000008</td>\n",
       "      <td>0.0</td>\n",
       "      <td>0.991967</td>\n",
       "      <td>1.0</td>\n",
       "      <td>0.000477</td>\n",
       "      <td>0.0</td>\n",
       "      <td>0.000021</td>\n",
       "      <td>False</td>\n",
       "    </tr>\n",
       "    <tr>\n",
       "      <th>4</th>\n",
       "      <td>NODE_5_length_59036_cov_197.701_g0_i1</td>\n",
       "      <td>59036</td>\n",
       "      <td>0.000040</td>\n",
       "      <td>0.0</td>\n",
       "      <td>0.0</td>\n",
       "      <td>0.0</td>\n",
       "      <td>0.0</td>\n",
       "      <td>0.0</td>\n",
       "      <td>0.000008</td>\n",
       "      <td>0.0</td>\n",
       "      <td>0.990354</td>\n",
       "      <td>1.0</td>\n",
       "      <td>0.000617</td>\n",
       "      <td>0.0</td>\n",
       "      <td>0.000018</td>\n",
       "      <td>False</td>\n",
       "    </tr>\n",
       "  </tbody>\n",
       "</table>\n",
       "</div>"
      ],
      "text/plain": [
       "                                    name  length  probability  prediction  \\\n",
       "0  NODE_1_length_91451_cov_163.114_g0_i0   91451     0.000375         0.0   \n",
       "1  NODE_2_length_74096_cov_303.895_g1_i0   74096     0.000088         0.0   \n",
       "2   NODE_3_length_66420_cov_268.59_g1_i1   66420     0.000041         0.0   \n",
       "3  NODE_4_length_61338_cov_317.585_g2_i0   61338     0.000056         0.0   \n",
       "4  NODE_5_length_59036_cov_197.701_g0_i1   59036     0.000040         0.0   \n",
       "\n",
       "   vfam  pfam  diamond  label  score_euk_non_euk  pred_euk_non_euk  \\\n",
       "0   0.0   0.0      0.0    0.0           0.000025               0.0   \n",
       "1   0.0   0.0      0.0    0.0           0.000012               0.0   \n",
       "2   0.0   0.0      0.0    0.0           0.000009               0.0   \n",
       "3   0.0   0.0      0.0    0.0           0.000008               0.0   \n",
       "4   0.0   0.0      0.0    0.0           0.000008               0.0   \n",
       "\n",
       "   score_non_euk_virus  pred_non_euk_virus  score_virus_non_virus  \\\n",
       "0             0.996004                 1.0               0.001954   \n",
       "1             0.995278                 1.0               0.000529   \n",
       "2             0.996629                 1.0               0.000761   \n",
       "3             0.991967                 1.0               0.000477   \n",
       "4             0.990354                 1.0               0.000617   \n",
       "\n",
       "   pred_virus_non_virus  hybrid_probability hybrid_prediction  \n",
       "0                   0.0            0.000097             False  \n",
       "1                   0.0            0.000032             False  \n",
       "2                   0.0            0.000019             False  \n",
       "3                   0.0            0.000021             False  \n",
       "4                   0.0            0.000018             False  "
      ]
     },
     "execution_count": 9,
     "metadata": {},
     "output_type": "execute_result"
    }
   ],
   "source": [
    "result.head()"
   ]
  },
  {
   "cell_type": "code",
   "execution_count": 10,
   "metadata": {
    "collapsed": true
   },
   "outputs": [],
   "source": [
    "\n",
    "from sklearn.datasets import load_svmlight_file\n",
    "from sklearn.externals import joblib\n",
    "import argparse\n",
    "from sklearn.metrics import average_precision_score\n",
    "from sklearn.metrics import confusion_matrix, precision_recall_curve\n",
    "from sklearn.metrics import classification_report"
   ]
  },
  {
   "cell_type": "markdown",
   "metadata": {},
   "source": [
    "### Check the Precision-recall curve of old model and hybrid model"
   ]
  },
  {
   "cell_type": "code",
   "execution_count": 11,
   "metadata": {
    "collapsed": false
   },
   "outputs": [],
   "source": [
    "auprc_old = average_precision_score(result.label, result.probability)\n",
    "auprc_new = average_precision_score(result.label, result.hybrid_probability)"
   ]
  },
  {
   "cell_type": "code",
   "execution_count": 13,
   "metadata": {
    "collapsed": true
   },
   "outputs": [],
   "source": [
    "precision_old, recall_old, thresholds_old = precision_recall_curve(result.label, result.probability)"
   ]
  },
  {
   "cell_type": "code",
   "execution_count": 17,
   "metadata": {
    "collapsed": true
   },
   "outputs": [],
   "source": [
    "precision_new, recall_new, thresholds_new = precision_recall_curve(result.label, result.hybrid_probability)"
   ]
  },
  {
   "cell_type": "code",
   "execution_count": 14,
   "metadata": {
    "collapsed": true
   },
   "outputs": [],
   "source": [
    "precision_old_nonvirus, recall_old_nonvirus, thresholds_old_nonvirus = precision_recall_curve(result.label==0, \n",
    "                                                                                              result.probability==0)"
   ]
  },
  {
   "cell_type": "code",
   "execution_count": 15,
   "metadata": {
    "collapsed": true
   },
   "outputs": [],
   "source": [
    "precision_new_nonvirus, recall_new_nonvirus, thresholds_new_nonvirus = precision_recall_curve(result.label==0, \n",
    "                                                                                              result.hybrid_probability==0)"
   ]
  },
  {
   "cell_type": "code",
   "execution_count": 20,
   "metadata": {
    "collapsed": false
   },
   "outputs": [
    {
     "data": {
      "text/plain": [
       "<matplotlib.legend.Legend at 0x11acf4c50>"
      ]
     },
     "execution_count": 20,
     "metadata": {},
     "output_type": "execute_result"
    },
    {
     "data": {
      "image/png": "[encoded data removed]",
      "text/plain": [
       "<matplotlib.figure.Figure at 0x110c03210>"
      ]
     },
     "metadata": {},
     "output_type": "display_data"
    }
   ],
   "source": [
    "        lw = 2\n",
    "        plt.figure(figsize=(6, 4), dpi=80)\n",
    "        plt.clf()\n",
    "        plt.plot(recall_old, precision_old, lw=lw, color='red',\n",
    "                 label='old model, AUC={0:0.4f}'.format(auprc_old))\n",
    "        plt.plot(recall_new, precision_new, lw=lw, color='blue',\n",
    "                 label='hybrid model, AUC={0:0.4f}'.format(auprc_new))\n",
    "        plt.xlabel('Recall')\n",
    "        plt.ylabel('Precision')\n",
    "        plt.ylim([0.0, 1.05])\n",
    "        plt.xlim([0.0, 1.0])\n",
    "        plt.title('Precision-Recall curve, for virus contigs as positive')\n",
    "        plt.legend(loc=\"upper right\")\n"
   ]
  },
  {
   "cell_type": "code",
   "execution_count": 21,
   "metadata": {
    "collapsed": false
   },
   "outputs": [
    {
     "data": {
      "text/plain": [
       "<matplotlib.legend.Legend at 0x11ac1b890>"
      ]
     },
     "execution_count": 21,
     "metadata": {},
     "output_type": "execute_result"
    },
    {
     "data": {
      "image/png": "[encoded data removed]",
      "text/plain": [
       "<matplotlib.figure.Figure at 0x11ac26290>"
      ]
     },
     "metadata": {},
     "output_type": "display_data"
    }
   ],
   "source": [
    "        lw = 2\n",
    "        plt.figure(figsize=(6, 4), dpi=80)\n",
    "        plt.clf()\n",
    "        plt.plot(recall_old_nonvirus, precision_old_nonvirus, lw=lw, color='red',\n",
    "                 label='old model, AUC={0:0.4f}'.format(auprc_old))\n",
    "        plt.plot(recall_new_nonvirus, precision_new_nonvirus, lw=lw, color='blue',\n",
    "                 label='hybrid model, AUC={0:0.4f}'.format(auprc_new))\n",
    "        plt.xlabel('Recall')\n",
    "        plt.ylabel('Precision')\n",
    "        plt.ylim([0.0, 1.05])\n",
    "        plt.xlim([0.0, 1.0])\n",
    "        plt.title('Precision-Recall curve, for non-virus as positive')\n",
    "        plt.legend(loc=\"lower right\")"
   ]
  },
  {
   "cell_type": "markdown",
   "metadata": {},
   "source": [
    "### Check confusion matrix of new model and hybrid model (cutoff = 0.5)"
   ]
  },
  {
   "cell_type": "code",
   "execution_count": 22,
   "metadata": {
    "collapsed": false
   },
   "outputs": [
    {
     "data": {
      "text/plain": [
       "array([[139347,  67463],\n",
       "       [  1536,   5377]])"
      ]
     },
     "execution_count": 22,
     "metadata": {},
     "output_type": "execute_result"
    }
   ],
   "source": [
    "confusion_matrix(result.label, result.prediction)"
   ]
  },
  {
   "cell_type": "code",
   "execution_count": 23,
   "metadata": {
    "collapsed": false
   },
   "outputs": [
    {
     "data": {
      "text/plain": [
       "array([[155509,  51301],\n",
       "       [  2870,   4043]])"
      ]
     },
     "execution_count": 23,
     "metadata": {},
     "output_type": "execute_result"
    }
   ],
   "source": [
    "confusion_matrix(result.label, result.hybrid_prediction)"
   ]
  },
  {
   "cell_type": "code",
   "execution_count": 24,
   "metadata": {
    "collapsed": false
   },
   "outputs": [
    {
     "name": "stdout",
     "output_type": "stream",
     "text": [
      "             precision    recall  f1-score   support\n",
      "\n",
      "  non-virus       0.99      0.67      0.80    206810\n",
      "      virus       0.07      0.78      0.13      6913\n",
      "\n",
      "avg / total       0.96      0.68      0.78    213723\n",
      "\n"
     ]
    }
   ],
   "source": [
    "print(classification_report(result.label, result.prediction, target_names=['non-virus','virus']))"
   ]
  },
  {
   "cell_type": "code",
   "execution_count": 25,
   "metadata": {
    "collapsed": false
   },
   "outputs": [
    {
     "name": "stdout",
     "output_type": "stream",
     "text": [
      "             precision    recall  f1-score   support\n",
      "\n",
      "  non-virus       0.98      0.75      0.85    206810\n",
      "      virus       0.07      0.58      0.13      6913\n",
      "\n",
      "avg / total       0.95      0.75      0.83    213723\n",
      "\n"
     ]
    }
   ],
   "source": [
    "print(classification_report(result.label, result.hybrid_prediction, target_names=['non-virus','virus']))"
   ]
  },
  {
   "cell_type": "markdown",
   "metadata": {},
   "source": [
    "### Check score distribution of positive/negative contigs from old model and hybrid model"
   ]
  },
  {
   "cell_type": "code",
   "execution_count": null,
   "metadata": {
    "collapsed": true
   },
   "outputs": [],
   "source": []
  },
  {
   "cell_type": "markdown",
   "metadata": {},
   "source": [
    "### Using MEGAN annotation to check model performance "
   ]
  },
  {
   "cell_type": "code",
   "execution_count": 27,
   "metadata": {
    "collapsed": false
   },
   "outputs": [
    {
     "name": "stderr",
     "output_type": "stream",
     "text": [
      "NCBI database not present yet (first time used?)\n",
      "Downloading taxdump.tar.gz from NCBI FTP site...\n",
      "Done. Parsing...\n"
     ]
    },
    {
     "name": "stdout",
     "output_type": "stream",
     "text": [
      "Loading node names...\n",
      "1650855 names loaded.\n",
      "226901 synonyms loaded.\n",
      "Loading nodes...\n",
      "1650855 nodes loaded.\n",
      "Linking nodes...\n",
      "Tree is loaded.\n",
      "Updating database: /Users/qingpeng/.etetoolkit/taxa.sqlite ...\n",
      "1650000 generating entries...   generating entries...   generating entries...      generating entries...                              generating entries...                                                               generating entries...  generating entries...    generating entries...       generating entries...     generating entries...  generating entries...        generating entries...       generating entries...    "
     ]
    },
    {
     "name": "stderr",
     "output_type": "stream",
     "text": [
      "Inserting synonyms:       5000 "
     ]
    },
    {
     "name": "stdout",
     "output_type": "stream",
     "text": [
      "\n",
      "Uploading to /Users/qingpeng/.etetoolkit/taxa.sqlite\n",
      "\n"
     ]
    },
    {
     "name": "stderr",
     "output_type": "stream",
     "text": [
      "Inserting taxid merges:  100000                                             "
     ]
    },
    {
     "name": "stdout",
     "output_type": "stream",
     "text": [
      "\n"
     ]
    },
    {
     "name": "stderr",
     "output_type": "stream",
     "text": [
      "Inserting taxids:        50000        "
     ]
    },
    {
     "name": "stdout",
     "output_type": "stream",
     "text": [
      "\n"
     ]
    },
    {
     "name": "stderr",
     "output_type": "stream",
     "text": [
      "Inserting taxids:       1650000                                                                                                                                                                                                                                                                                                                                      "
     ]
    },
    {
     "name": "stdout",
     "output_type": "stream",
     "text": [
      "\n"
     ]
    }
   ],
   "source": [
    "from ete2 import NCBITaxa\n",
    "ncbi = NCBITaxa()"
   ]
  },
  {
   "cell_type": "code",
   "execution_count": 28,
   "metadata": {
    "collapsed": true
   },
   "outputs": [],
   "source": [
    "def get_top_label(tax_id):\n",
    "    lineage = ncbi.get_lineage(tax_id)\n",
    "    for i in lineage:\n",
    "        if i == 2759:\n",
    "            return \"Eukaryota\"\n",
    "        elif i == 10239:\n",
    "            return \"Virus\"\n",
    "        elif i == 2157:\n",
    "            return \"Archaea\"\n",
    "        elif i == 2:\n",
    "            return \"Bacteria\"\n",
    "        elif i == 12884:\n",
    "            return \"Viroids\"\n",
    "        elif i == 28384:\n",
    "            return \"other\"\n",
    "        elif i == 12908:\n",
    "            return \"unclassified\"\n",
    "    else:\n",
    "        return \"N/A\""
   ]
  },
  {
   "cell_type": "code",
   "execution_count": 29,
   "metadata": {
    "collapsed": true
   },
   "outputs": [],
   "source": [
    "def get_ranks(tax_id):\n",
    "    ranks = ncbi.get_rank([tax_id])\n",
    "    try:\n",
    "        return ranks.values()[0]\n",
    "    except:\n",
    "        return tax_id"
   ]
  },
  {
   "cell_type": "code",
   "execution_count": 30,
   "metadata": {
    "collapsed": true
   },
   "outputs": [],
   "source": [
    "def get_name(tax_id):\n",
    "    ranks = ncbi.get_taxid_translator([tax_id])\n",
    "    try:\n",
    "        return ranks.values()[0]\n",
    "    except:\n",
    "        return tax_id"
   ]
  },
  {
   "cell_type": "code",
   "execution_count": 31,
   "metadata": {
    "collapsed": false
   },
   "outputs": [],
   "source": [
    "megan_annot = pd.read_csv('~/Dropbox/Development/Github/jgi-ViCA/extra/model_tuning/Micromonas/all_2k_contigs.fa.diamond-ex-all_tax_ID.txt',sep='\\t',header=None,names=['name','tax_id'])"
   ]
  },
  {
   "cell_type": "code",
   "execution_count": 32,
   "metadata": {
    "collapsed": false
   },
   "outputs": [],
   "source": [
    "megan_annot['rank'] = megan_annot['tax_id'].apply(get_ranks)"
   ]
  },
  {
   "cell_type": "code",
   "execution_count": 33,
   "metadata": {
    "collapsed": false
   },
   "outputs": [],
   "source": [
    "megan_annot['tax_name']= megan_annot['tax_id'].apply(get_name)"
   ]
  },
  {
   "cell_type": "code",
   "execution_count": 34,
   "metadata": {
    "collapsed": false
   },
   "outputs": [],
   "source": [
    "megan_annot['top_label']= megan_annot['tax_id'].apply(get_top_label)"
   ]
  },
  {
   "cell_type": "code",
   "execution_count": 35,
   "metadata": {
    "collapsed": true
   },
   "outputs": [],
   "source": [
    "new_table = pd.merge(result,megan_annot, on=['name'])"
   ]
  },
  {
   "cell_type": "code",
   "execution_count": 36,
   "metadata": {
    "collapsed": false
   },
   "outputs": [
    {
     "data": {
      "text/html": [
       "<div>\n",
       "<table border=\"1\" class=\"dataframe\">\n",
       "  <thead>\n",
       "    <tr style=\"text-align: right;\">\n",
       "      <th></th>\n",
       "      <th>name</th>\n",
       "      <th>length</th>\n",
       "      <th>probability</th>\n",
       "      <th>prediction</th>\n",
       "      <th>vfam</th>\n",
       "      <th>pfam</th>\n",
       "      <th>diamond</th>\n",
       "      <th>label</th>\n",
       "      <th>score_euk_non_euk</th>\n",
       "      <th>pred_euk_non_euk</th>\n",
       "      <th>score_non_euk_virus</th>\n",
       "      <th>pred_non_euk_virus</th>\n",
       "      <th>score_virus_non_virus</th>\n",
       "      <th>pred_virus_non_virus</th>\n",
       "      <th>hybrid_probability</th>\n",
       "      <th>hybrid_prediction</th>\n",
       "      <th>tax_id</th>\n",
       "      <th>rank</th>\n",
       "      <th>tax_name</th>\n",
       "      <th>top_label</th>\n",
       "    </tr>\n",
       "  </thead>\n",
       "  <tbody>\n",
       "    <tr>\n",
       "      <th>0</th>\n",
       "      <td>NODE_1_length_91451_cov_163.114_g0_i0</td>\n",
       "      <td>91451</td>\n",
       "      <td>0.000375</td>\n",
       "      <td>0.0</td>\n",
       "      <td>0.0</td>\n",
       "      <td>0.0</td>\n",
       "      <td>0.0</td>\n",
       "      <td>0.0</td>\n",
       "      <td>0.000025</td>\n",
       "      <td>0.0</td>\n",
       "      <td>0.996004</td>\n",
       "      <td>1.0</td>\n",
       "      <td>0.001954</td>\n",
       "      <td>0.0</td>\n",
       "      <td>0.000097</td>\n",
       "      <td>False</td>\n",
       "      <td>1236</td>\n",
       "      <td>class</td>\n",
       "      <td>Gammaproteobacteria</td>\n",
       "      <td>Bacteria</td>\n",
       "    </tr>\n",
       "    <tr>\n",
       "      <th>1</th>\n",
       "      <td>NODE_2_length_74096_cov_303.895_g1_i0</td>\n",
       "      <td>74096</td>\n",
       "      <td>0.000088</td>\n",
       "      <td>0.0</td>\n",
       "      <td>0.0</td>\n",
       "      <td>0.0</td>\n",
       "      <td>0.0</td>\n",
       "      <td>0.0</td>\n",
       "      <td>0.000012</td>\n",
       "      <td>0.0</td>\n",
       "      <td>0.995278</td>\n",
       "      <td>1.0</td>\n",
       "      <td>0.000529</td>\n",
       "      <td>0.0</td>\n",
       "      <td>0.000032</td>\n",
       "      <td>False</td>\n",
       "      <td>254161</td>\n",
       "      <td>species</td>\n",
       "      <td>Pseudomonas pachastrellae</td>\n",
       "      <td>Bacteria</td>\n",
       "    </tr>\n",
       "    <tr>\n",
       "      <th>2</th>\n",
       "      <td>NODE_3_length_66420_cov_268.59_g1_i1</td>\n",
       "      <td>66420</td>\n",
       "      <td>0.000041</td>\n",
       "      <td>0.0</td>\n",
       "      <td>0.0</td>\n",
       "      <td>0.0</td>\n",
       "      <td>0.0</td>\n",
       "      <td>0.0</td>\n",
       "      <td>0.000009</td>\n",
       "      <td>0.0</td>\n",
       "      <td>0.996629</td>\n",
       "      <td>1.0</td>\n",
       "      <td>0.000761</td>\n",
       "      <td>0.0</td>\n",
       "      <td>0.000019</td>\n",
       "      <td>False</td>\n",
       "      <td>254161</td>\n",
       "      <td>species</td>\n",
       "      <td>Pseudomonas pachastrellae</td>\n",
       "      <td>Bacteria</td>\n",
       "    </tr>\n",
       "    <tr>\n",
       "      <th>3</th>\n",
       "      <td>NODE_4_length_61338_cov_317.585_g2_i0</td>\n",
       "      <td>61338</td>\n",
       "      <td>0.000056</td>\n",
       "      <td>0.0</td>\n",
       "      <td>0.0</td>\n",
       "      <td>0.0</td>\n",
       "      <td>0.0</td>\n",
       "      <td>0.0</td>\n",
       "      <td>0.000008</td>\n",
       "      <td>0.0</td>\n",
       "      <td>0.991967</td>\n",
       "      <td>1.0</td>\n",
       "      <td>0.000477</td>\n",
       "      <td>0.0</td>\n",
       "      <td>0.000021</td>\n",
       "      <td>False</td>\n",
       "      <td>286</td>\n",
       "      <td>genus</td>\n",
       "      <td>Pseudomonas</td>\n",
       "      <td>Bacteria</td>\n",
       "    </tr>\n",
       "    <tr>\n",
       "      <th>4</th>\n",
       "      <td>NODE_5_length_59036_cov_197.701_g0_i1</td>\n",
       "      <td>59036</td>\n",
       "      <td>0.000040</td>\n",
       "      <td>0.0</td>\n",
       "      <td>0.0</td>\n",
       "      <td>0.0</td>\n",
       "      <td>0.0</td>\n",
       "      <td>0.0</td>\n",
       "      <td>0.000008</td>\n",
       "      <td>0.0</td>\n",
       "      <td>0.990354</td>\n",
       "      <td>1.0</td>\n",
       "      <td>0.000617</td>\n",
       "      <td>0.0</td>\n",
       "      <td>0.000018</td>\n",
       "      <td>False</td>\n",
       "      <td>286</td>\n",
       "      <td>genus</td>\n",
       "      <td>Pseudomonas</td>\n",
       "      <td>Bacteria</td>\n",
       "    </tr>\n",
       "  </tbody>\n",
       "</table>\n",
       "</div>"
      ],
      "text/plain": [
       "                                    name  length  probability  prediction  \\\n",
       "0  NODE_1_length_91451_cov_163.114_g0_i0   91451     0.000375         0.0   \n",
       "1  NODE_2_length_74096_cov_303.895_g1_i0   74096     0.000088         0.0   \n",
       "2   NODE_3_length_66420_cov_268.59_g1_i1   66420     0.000041         0.0   \n",
       "3  NODE_4_length_61338_cov_317.585_g2_i0   61338     0.000056         0.0   \n",
       "4  NODE_5_length_59036_cov_197.701_g0_i1   59036     0.000040         0.0   \n",
       "\n",
       "   vfam  pfam  diamond  label  score_euk_non_euk  pred_euk_non_euk  \\\n",
       "0   0.0   0.0      0.0    0.0           0.000025               0.0   \n",
       "1   0.0   0.0      0.0    0.0           0.000012               0.0   \n",
       "2   0.0   0.0      0.0    0.0           0.000009               0.0   \n",
       "3   0.0   0.0      0.0    0.0           0.000008               0.0   \n",
       "4   0.0   0.0      0.0    0.0           0.000008               0.0   \n",
       "\n",
       "   score_non_euk_virus  pred_non_euk_virus  score_virus_non_virus  \\\n",
       "0             0.996004                 1.0               0.001954   \n",
       "1             0.995278                 1.0               0.000529   \n",
       "2             0.996629                 1.0               0.000761   \n",
       "3             0.991967                 1.0               0.000477   \n",
       "4             0.990354                 1.0               0.000617   \n",
       "\n",
       "   pred_virus_non_virus  hybrid_probability hybrid_prediction  tax_id  \\\n",
       "0                   0.0            0.000097             False    1236   \n",
       "1                   0.0            0.000032             False  254161   \n",
       "2                   0.0            0.000019             False  254161   \n",
       "3                   0.0            0.000021             False     286   \n",
       "4                   0.0            0.000018             False     286   \n",
       "\n",
       "      rank                   tax_name top_label  \n",
       "0    class        Gammaproteobacteria  Bacteria  \n",
       "1  species  Pseudomonas pachastrellae  Bacteria  \n",
       "2  species  Pseudomonas pachastrellae  Bacteria  \n",
       "3    genus                Pseudomonas  Bacteria  \n",
       "4    genus                Pseudomonas  Bacteria  "
      ]
     },
     "execution_count": 36,
     "metadata": {},
     "output_type": "execute_result"
    }
   ],
   "source": [
    "new_table.head()"
   ]
  },
  {
   "cell_type": "code",
   "execution_count": null,
   "metadata": {
    "collapsed": true
   },
   "outputs": [],
   "source": [
    "new_table['no_rank_label'] = predict_nonvirus_rank['rank'].map(convert_rank)"
   ]
  },
  {
   "cell_type": "markdown",
   "metadata": {},
   "source": [
    "### non-virus data frame... non-virus and annotated as something rather than \"no rank\" by MEGAN"
   ]
  },
  {
   "cell_type": "code",
   "execution_count": 141,
   "metadata": {
    "collapsed": false
   },
   "outputs": [
    {
     "name": "stderr",
     "output_type": "stream",
     "text": [
      "/Users/qingpeng/anaconda/lib/python2.7/site-packages/ipykernel/__main__.py:1: UserWarning: Boolean Series key will be reindexed to match DataFrame index.\n",
      "  if __name__ == '__main__':\n"
     ]
    }
   ],
   "source": [
    "df_nonvirus = new_table[new_table.label==0.0][new_table['rank']!= 'no rank']"
   ]
  },
  {
   "cell_type": "code",
   "execution_count": 145,
   "metadata": {
    "collapsed": false
   },
   "outputs": [
    {
     "data": {
      "text/plain": [
       "165965"
      ]
     },
     "execution_count": 145,
     "metadata": {},
     "output_type": "execute_result"
    }
   ],
   "source": [
    "len(df_nonvirus)"
   ]
  },
  {
   "cell_type": "code",
   "execution_count": 146,
   "metadata": {
    "collapsed": true
   },
   "outputs": [],
   "source": [
    "df_nonvirus_subsample = df_nonvirus.sample(n=6913, replace=False)"
   ]
  },
  {
   "cell_type": "code",
   "execution_count": 147,
   "metadata": {
    "collapsed": true
   },
   "outputs": [],
   "source": [
    "df_nonvirus_subsample.to_csv('df_nonvirus_subsample.csv')"
   ]
  },
  {
   "cell_type": "code",
   "execution_count": 160,
   "metadata": {
    "collapsed": false
   },
   "outputs": [
    {
     "data": {
      "text/plain": [
       "<matplotlib.axes._subplots.AxesSubplot at 0x12504e490>"
      ]
     },
     "execution_count": 160,
     "metadata": {},
     "output_type": "execute_result"
    },
    {
     "data": {
      "image/png": "[encoded data removed]",
      "text/plain": [
       "<matplotlib.figure.Figure at 0x11ca87950>"
      ]
     },
     "metadata": {},
     "output_type": "display_data"
    }
   ],
   "source": [
    "df_nonvirus_subsample.hybrid_probability.plot.hist(bins=50)"
   ]
  },
  {
   "cell_type": "markdown",
   "metadata": {},
   "source": [
    "### no-rank data frame... annotated as \"no rank\" by MEGAN"
   ]
  },
  {
   "cell_type": "code",
   "execution_count": 143,
   "metadata": {
    "collapsed": false
   },
   "outputs": [
    {
     "name": "stderr",
     "output_type": "stream",
     "text": [
      "/Users/qingpeng/anaconda/lib/python2.7/site-packages/ipykernel/__main__.py:1: UserWarning: Boolean Series key will be reindexed to match DataFrame index.\n",
      "  if __name__ == '__main__':\n"
     ]
    }
   ],
   "source": [
    "df_no_rank = new_table[new_table.label==0.0][new_table['rank']== 'no rank']"
   ]
  },
  {
   "cell_type": "code",
   "execution_count": 144,
   "metadata": {
    "collapsed": false
   },
   "outputs": [
    {
     "data": {
      "text/plain": [
       "35296"
      ]
     },
     "execution_count": 144,
     "metadata": {},
     "output_type": "execute_result"
    }
   ],
   "source": [
    "len(df_no_rank)"
   ]
  },
  {
   "cell_type": "code",
   "execution_count": 148,
   "metadata": {
    "collapsed": false
   },
   "outputs": [],
   "source": [
    "df_no_rank_subsample = df_no_rank.sample(n=6913, replace=False)"
   ]
  },
  {
   "cell_type": "code",
   "execution_count": 149,
   "metadata": {
    "collapsed": true
   },
   "outputs": [],
   "source": [
    "df_no_rank_subsample.to_csv('df_no_rank_subsample.csv')"
   ]
  },
  {
   "cell_type": "code",
   "execution_count": 159,
   "metadata": {
    "collapsed": false
   },
   "outputs": [
    {
     "data": {
      "text/plain": [
       "<matplotlib.axes._subplots.AxesSubplot at 0x11d3c1e10>"
      ]
     },
     "execution_count": 159,
     "metadata": {},
     "output_type": "execute_result"
    },
    {
     "data": {
      "image/png": "[encoded data removed]",
      "text/plain": [
       "<matplotlib.figure.Figure at 0x12c96d150>"
      ]
     },
     "metadata": {},
     "output_type": "display_data"
    }
   ],
   "source": [
    "df_no_rank_subsample.hybrid_probability.plot.hist(bins=50)"
   ]
  },
  {
   "cell_type": "markdown",
   "metadata": {},
   "source": [
    "### Virus contigs...  has pfam hits or annotated as \"virus\" by MEGAN"
   ]
  },
  {
   "cell_type": "code",
   "execution_count": 154,
   "metadata": {
    "collapsed": true
   },
   "outputs": [],
   "source": [
    "df_virus = result[result.label==1.0]"
   ]
  },
  {
   "cell_type": "code",
   "execution_count": 157,
   "metadata": {
    "collapsed": false
   },
   "outputs": [
    {
     "data": {
      "text/html": [
       "<div>\n",
       "<table border=\"1\" class=\"dataframe\">\n",
       "  <thead>\n",
       "    <tr style=\"text-align: right;\">\n",
       "      <th></th>\n",
       "      <th>name</th>\n",
       "      <th>length</th>\n",
       "      <th>probability</th>\n",
       "      <th>prediction</th>\n",
       "      <th>vfam</th>\n",
       "      <th>pfam</th>\n",
       "      <th>diamond</th>\n",
       "      <th>label</th>\n",
       "      <th>score_euk_non_euk</th>\n",
       "      <th>pred_euk_non_euk</th>\n",
       "      <th>score_non_euk_virus</th>\n",
       "      <th>pred_non_euk_virus</th>\n",
       "      <th>score_virus_non_virus</th>\n",
       "      <th>pred_virus_non_virus</th>\n",
       "      <th>hybrid_probability</th>\n",
       "      <th>hybrid_prediction</th>\n",
       "    </tr>\n",
       "  </thead>\n",
       "  <tbody>\n",
       "    <tr>\n",
       "      <th>1096</th>\n",
       "      <td>NODE_1097_length_5129_cov_20.4539_g781_i0</td>\n",
       "      <td>5129</td>\n",
       "      <td>0.830501</td>\n",
       "      <td>1.0</td>\n",
       "      <td>1.0</td>\n",
       "      <td>0.0</td>\n",
       "      <td>0.0</td>\n",
       "      <td>1.0</td>\n",
       "      <td>0.999996</td>\n",
       "      <td>1.0</td>\n",
       "      <td>0.404406</td>\n",
       "      <td>0.0</td>\n",
       "      <td>0.018131</td>\n",
       "      <td>0.0</td>\n",
       "      <td>0.911316</td>\n",
       "      <td>True</td>\n",
       "    </tr>\n",
       "    <tr>\n",
       "      <th>1189</th>\n",
       "      <td>NODE_1190_length_4867_cov_31.1845_g863_i0</td>\n",
       "      <td>4867</td>\n",
       "      <td>0.003411</td>\n",
       "      <td>0.0</td>\n",
       "      <td>1.0</td>\n",
       "      <td>0.0</td>\n",
       "      <td>0.0</td>\n",
       "      <td>1.0</td>\n",
       "      <td>0.053115</td>\n",
       "      <td>0.0</td>\n",
       "      <td>0.747973</td>\n",
       "      <td>1.0</td>\n",
       "      <td>0.000995</td>\n",
       "      <td>0.0</td>\n",
       "      <td>0.013460</td>\n",
       "      <td>False</td>\n",
       "    </tr>\n",
       "    <tr>\n",
       "      <th>1387</th>\n",
       "      <td>NODE_1388_length_4479_cov_77.7475_g1017_i0</td>\n",
       "      <td>4479</td>\n",
       "      <td>0.995234</td>\n",
       "      <td>1.0</td>\n",
       "      <td>0.0</td>\n",
       "      <td>1.0</td>\n",
       "      <td>1.0</td>\n",
       "      <td>1.0</td>\n",
       "      <td>0.974094</td>\n",
       "      <td>1.0</td>\n",
       "      <td>0.019869</td>\n",
       "      <td>0.0</td>\n",
       "      <td>0.000540</td>\n",
       "      <td>0.0</td>\n",
       "      <td>0.984607</td>\n",
       "      <td>True</td>\n",
       "    </tr>\n",
       "    <tr>\n",
       "      <th>1701</th>\n",
       "      <td>NODE_1702_length_3955_cov_32.4023_g1269_i0</td>\n",
       "      <td>3955</td>\n",
       "      <td>0.094340</td>\n",
       "      <td>0.0</td>\n",
       "      <td>0.0</td>\n",
       "      <td>1.0</td>\n",
       "      <td>1.0</td>\n",
       "      <td>1.0</td>\n",
       "      <td>0.792640</td>\n",
       "      <td>1.0</td>\n",
       "      <td>0.633441</td>\n",
       "      <td>1.0</td>\n",
       "      <td>0.019717</td>\n",
       "      <td>0.0</td>\n",
       "      <td>0.273456</td>\n",
       "      <td>False</td>\n",
       "    </tr>\n",
       "    <tr>\n",
       "      <th>1731</th>\n",
       "      <td>NODE_1732_length_3910_cov_62.4519_g1295_i0</td>\n",
       "      <td>3910</td>\n",
       "      <td>0.985221</td>\n",
       "      <td>1.0</td>\n",
       "      <td>0.0</td>\n",
       "      <td>1.0</td>\n",
       "      <td>1.0</td>\n",
       "      <td>1.0</td>\n",
       "      <td>0.960621</td>\n",
       "      <td>1.0</td>\n",
       "      <td>0.178854</td>\n",
       "      <td>0.0</td>\n",
       "      <td>0.000591</td>\n",
       "      <td>0.0</td>\n",
       "      <td>0.972844</td>\n",
       "      <td>True</td>\n",
       "    </tr>\n",
       "  </tbody>\n",
       "</table>\n",
       "</div>"
      ],
      "text/plain": [
       "                                            name  length  probability  \\\n",
       "1096   NODE_1097_length_5129_cov_20.4539_g781_i0    5129     0.830501   \n",
       "1189   NODE_1190_length_4867_cov_31.1845_g863_i0    4867     0.003411   \n",
       "1387  NODE_1388_length_4479_cov_77.7475_g1017_i0    4479     0.995234   \n",
       "1701  NODE_1702_length_3955_cov_32.4023_g1269_i0    3955     0.094340   \n",
       "1731  NODE_1732_length_3910_cov_62.4519_g1295_i0    3910     0.985221   \n",
       "\n",
       "      prediction  vfam  pfam  diamond  label  score_euk_non_euk  \\\n",
       "1096         1.0   1.0   0.0      0.0    1.0           0.999996   \n",
       "1189         0.0   1.0   0.0      0.0    1.0           0.053115   \n",
       "1387         1.0   0.0   1.0      1.0    1.0           0.974094   \n",
       "1701         0.0   0.0   1.0      1.0    1.0           0.792640   \n",
       "1731         1.0   0.0   1.0      1.0    1.0           0.960621   \n",
       "\n",
       "      pred_euk_non_euk  score_non_euk_virus  pred_non_euk_virus  \\\n",
       "1096               1.0             0.404406                 0.0   \n",
       "1189               0.0             0.747973                 1.0   \n",
       "1387               1.0             0.019869                 0.0   \n",
       "1701               1.0             0.633441                 1.0   \n",
       "1731               1.0             0.178854                 0.0   \n",
       "\n",
       "      score_virus_non_virus  pred_virus_non_virus  hybrid_probability  \\\n",
       "1096               0.018131                   0.0            0.911316   \n",
       "1189               0.000995                   0.0            0.013460   \n",
       "1387               0.000540                   0.0            0.984607   \n",
       "1701               0.019717                   0.0            0.273456   \n",
       "1731               0.000591                   0.0            0.972844   \n",
       "\n",
       "     hybrid_prediction  \n",
       "1096              True  \n",
       "1189             False  \n",
       "1387              True  \n",
       "1701             False  \n",
       "1731              True  "
      ]
     },
     "execution_count": 157,
     "metadata": {},
     "output_type": "execute_result"
    }
   ],
   "source": [
    "df_virus.head()\n"
   ]
  },
  {
   "cell_type": "code",
   "execution_count": 155,
   "metadata": {
    "collapsed": false
   },
   "outputs": [
    {
     "data": {
      "text/plain": [
       "6913"
      ]
     },
     "execution_count": 155,
     "metadata": {},
     "output_type": "execute_result"
    }
   ],
   "source": [
    "len(df_virus)"
   ]
  },
  {
   "cell_type": "code",
   "execution_count": 156,
   "metadata": {
    "collapsed": true
   },
   "outputs": [],
   "source": [
    "df_virus.to_csv('df_virus.csv')"
   ]
  },
  {
   "cell_type": "code",
   "execution_count": 158,
   "metadata": {
    "collapsed": false
   },
   "outputs": [
    {
     "data": {
      "text/plain": [
       "<matplotlib.axes._subplots.AxesSubplot at 0x11e178610>"
      ]
     },
     "execution_count": 158,
     "metadata": {},
     "output_type": "execute_result"
    },
    {
     "data": {
      "image/png": "[encoded data removed]",
      "text/plain": [
       "<matplotlib.figure.Figure at 0x122f9c350>"
      ]
     },
     "metadata": {},
     "output_type": "display_data"
    }
   ],
   "source": [
    "df_virus.hybrid_probability.plot.hist(bins=50)"
   ]
  },
  {
   "cell_type": "code",
   "execution_count": 162,
   "metadata": {
    "collapsed": false
   },
   "outputs": [],
   "source": [
    "balaced_virus_nonvirus = pd.concat([df_virus,df_nonvirus_subsample])"
   ]
  },
  {
   "cell_type": "code",
   "execution_count": 163,
   "metadata": {
    "collapsed": true
   },
   "outputs": [],
   "source": [
    "matrix = confusion_matrix(balaced_virus_nonvirus.label, balaced_virus_nonvirus.hybrid_prediction)"
   ]
  },
  {
   "cell_type": "code",
   "execution_count": 164,
   "metadata": {
    "collapsed": false
   },
   "outputs": [
    {
     "data": {
      "text/plain": [
       "array([[5349, 1564],\n",
       "       [2870, 4043]])"
      ]
     },
     "execution_count": 164,
     "metadata": {},
     "output_type": "execute_result"
    }
   ],
   "source": [
    "matrix"
   ]
  },
  {
   "cell_type": "code",
   "execution_count": 166,
   "metadata": {
    "collapsed": true
   },
   "outputs": [],
   "source": [
    "auprc_balaced_virus_nonvirus = average_precision_score(balaced_virus_nonvirus.label, balaced_virus_nonvirus.hybrid_probability)"
   ]
  },
  {
   "cell_type": "code",
   "execution_count": 167,
   "metadata": {
    "collapsed": false
   },
   "outputs": [
    {
     "data": {
      "text/plain": [
       "0.77060601279976737"
      ]
     },
     "execution_count": 167,
     "metadata": {},
     "output_type": "execute_result"
    }
   ],
   "source": [
    "auprc_balaced_virus_nonvirus"
   ]
  },
  {
   "cell_type": "code",
   "execution_count": 168,
   "metadata": {
    "collapsed": true
   },
   "outputs": [],
   "source": [
    "precision_balaced_virus_nonvirus, recall_balaced_virus_nonvirus, thresholds_balaced_virus_nonvirus = precision_recall_curve(\n",
    "    balaced_virus_nonvirus.label, balaced_virus_nonvirus.hybrid_probability)"
   ]
  },
  {
   "cell_type": "code",
   "execution_count": 169,
   "metadata": {
    "collapsed": false
   },
   "outputs": [
    {
     "data": {
      "text/plain": [
       "<matplotlib.legend.Legend at 0x1285e11d0>"
      ]
     },
     "execution_count": 169,
     "metadata": {},
     "output_type": "execute_result"
    },
    {
     "data": {
      "image/png": "[encoded data removed]",
      "text/plain": [
       "<matplotlib.figure.Figure at 0x12b0ac110>"
      ]
     },
     "metadata": {},
     "output_type": "display_data"
    }
   ],
   "source": [
    "        lw = 2\n",
    "        plt.figure(figsize=(6, 4), dpi=80)\n",
    "        plt.clf()\n",
    "        plt.plot(recall_balaced_virus_nonvirus, precision_balaced_virus_nonvirus, lw=lw, color='red',\n",
    "                 label='hybrid model, balanced virus/non-virus, AUC={0:0.4f}'.format(auprc_balaced_virus_nonvirus))\n",
    "\n",
    "        plt.xlabel('Recall')\n",
    "        plt.ylabel('Precision')\n",
    "        plt.ylim([0.0, 1.05])\n",
    "        plt.xlim([0.0, 1.0])\n",
    "        plt.title('Precision-Recall curve')\n",
    "        plt.legend(loc=\"upper right\")\n",
    "\n",
    "\n"
   ]
  },
  {
   "cell_type": "code",
   "execution_count": 38,
   "metadata": {
    "collapsed": false
   },
   "outputs": [
    {
     "data": {
      "text/plain": [
       "40920"
      ]
     },
     "execution_count": 38,
     "metadata": {},
     "output_type": "execute_result"
    }
   ],
   "source": [
    "len(new_table[new_table.top_label=='Eukaryota'])"
   ]
  },
  {
   "cell_type": "code",
   "execution_count": 39,
   "metadata": {
    "collapsed": false
   },
   "outputs": [
    {
     "data": {
      "text/plain": [
       "6619"
      ]
     },
     "execution_count": 39,
     "metadata": {},
     "output_type": "execute_result"
    }
   ],
   "source": [
    "len(new_table[new_table.top_label=='Virus'])"
   ]
  },
  {
   "cell_type": "code",
   "execution_count": 40,
   "metadata": {
    "collapsed": false
   },
   "outputs": [
    {
     "data": {
      "text/plain": [
       "5122"
      ]
     },
     "execution_count": 40,
     "metadata": {},
     "output_type": "execute_result"
    }
   ],
   "source": [
    "len(new_table[new_table.top_label=='Archaea'])"
   ]
  },
  {
   "cell_type": "code",
   "execution_count": 41,
   "metadata": {
    "collapsed": false
   },
   "outputs": [
    {
     "data": {
      "text/plain": [
       "144150"
      ]
     },
     "execution_count": 41,
     "metadata": {},
     "output_type": "execute_result"
    }
   ],
   "source": [
    "len(new_table[new_table.top_label=='Bacteria'])"
   ]
  },
  {
   "cell_type": "code",
   "execution_count": 42,
   "metadata": {
    "collapsed": false
   },
   "outputs": [
    {
     "data": {
      "text/plain": [
       "0"
      ]
     },
     "execution_count": 42,
     "metadata": {},
     "output_type": "execute_result"
    }
   ],
   "source": [
    "len(new_table[new_table.top_label=='Viroids'])"
   ]
  },
  {
   "cell_type": "code",
   "execution_count": 43,
   "metadata": {
    "collapsed": false
   },
   "outputs": [
    {
     "data": {
      "text/plain": [
       "0"
      ]
     },
     "execution_count": 43,
     "metadata": {},
     "output_type": "execute_result"
    }
   ],
   "source": [
    "len(new_table[new_table.top_label=='other'])"
   ]
  },
  {
   "cell_type": "code",
   "execution_count": 44,
   "metadata": {
    "collapsed": false
   },
   "outputs": [
    {
     "data": {
      "text/plain": [
       "187"
      ]
     },
     "execution_count": 44,
     "metadata": {},
     "output_type": "execute_result"
    }
   ],
   "source": [
    "len(new_table[new_table.top_label=='unclassified'])"
   ]
  },
  {
   "cell_type": "markdown",
   "metadata": {},
   "source": [
    "#### most of the virus labled contigs are from MEGAN/Diamond approach annotation"
   ]
  },
  {
   "cell_type": "code",
   "execution_count": 45,
   "metadata": {
    "collapsed": false
   },
   "outputs": [
    {
     "data": {
      "text/plain": [
       "6619"
      ]
     },
     "execution_count": 45,
     "metadata": {},
     "output_type": "execute_result"
    }
   ],
   "source": [
    "len(new_table[new_table.diamond==1.0])"
   ]
  },
  {
   "cell_type": "code",
   "execution_count": 46,
   "metadata": {
    "collapsed": false
   },
   "outputs": [
    {
     "data": {
      "text/plain": [
       "7041"
      ]
     },
     "execution_count": 46,
     "metadata": {},
     "output_type": "execute_result"
    }
   ],
   "source": [
    "len(new_table[new_table.label==1.0])"
   ]
  },
  {
   "cell_type": "code",
   "execution_count": 47,
   "metadata": {
    "collapsed": false
   },
   "outputs": [
    {
     "data": {
      "text/plain": [
       "104"
      ]
     },
     "execution_count": 47,
     "metadata": {},
     "output_type": "execute_result"
    }
   ],
   "source": [
    "len(new_table[new_table.vfam==1.0])"
   ]
  },
  {
   "cell_type": "code",
   "execution_count": 48,
   "metadata": {
    "collapsed": false
   },
   "outputs": [
    {
     "data": {
      "text/plain": [
       "1369"
      ]
     },
     "execution_count": 48,
     "metadata": {},
     "output_type": "execute_result"
    }
   ],
   "source": [
    "len(new_table[new_table.pfam==1.0])"
   ]
  },
  {
   "cell_type": "markdown",
   "metadata": {},
   "source": [
    "### Check the performance of the Euk/non-euk model"
   ]
  },
  {
   "cell_type": "code",
   "execution_count": 49,
   "metadata": {
    "collapsed": false
   },
   "outputs": [],
   "source": [
    "new_table[\"euk_label\"] = (new_table.top_label!='Eukaryota')"
   ]
  },
  {
   "cell_type": "code",
   "execution_count": 50,
   "metadata": {
    "collapsed": false
   },
   "outputs": [],
   "source": [
    "matrix = confusion_matrix(new_table.euk_label, new_table.pred_euk_non_euk)"
   ]
  },
  {
   "cell_type": "code",
   "execution_count": 51,
   "metadata": {
    "collapsed": false
   },
   "outputs": [
    {
     "data": {
      "text/plain": [
       "array([[23114, 17806],\n",
       "       [83476, 83906]])"
      ]
     },
     "execution_count": 51,
     "metadata": {},
     "output_type": "execute_result"
    }
   ],
   "source": [
    "matrix"
   ]
  },
  {
   "cell_type": "code",
   "execution_count": 52,
   "metadata": {
    "collapsed": true
   },
   "outputs": [],
   "source": [
    "auprc_euk = average_precision_score(new_table.euk_label, new_table.score_euk_non_euk)"
   ]
  },
  {
   "cell_type": "code",
   "execution_count": 53,
   "metadata": {
    "collapsed": false
   },
   "outputs": [
    {
     "data": {
      "text/plain": [
       "0.79372065336807407"
      ]
     },
     "execution_count": 53,
     "metadata": {},
     "output_type": "execute_result"
    }
   ],
   "source": [
    "auprc_euk"
   ]
  },
  {
   "cell_type": "code",
   "execution_count": 54,
   "metadata": {
    "collapsed": true
   },
   "outputs": [],
   "source": [
    "precision_euk, recall_euk, thresholds_euk = precision_recall_curve(new_table.euk_label, new_table.score_euk_non_euk)"
   ]
  },
  {
   "cell_type": "code",
   "execution_count": 55,
   "metadata": {
    "collapsed": false
   },
   "outputs": [
    {
     "data": {
      "text/plain": [
       "<matplotlib.legend.Legend at 0x12a4943d0>"
      ]
     },
     "execution_count": 55,
     "metadata": {},
     "output_type": "execute_result"
    },
    {
     "data": {
      "image/png": "[encoded data removed]",
      "text/plain": [
       "<matplotlib.figure.Figure at 0x11de8aa90>"
      ]
     },
     "metadata": {},
     "output_type": "display_data"
    }
   ],
   "source": [
    "        lw = 2\n",
    "        plt.figure(figsize=(6, 4), dpi=80)\n",
    "        plt.clf()\n",
    "        plt.plot(recall_euk, precision_euk, lw=lw, color='red',\n",
    "                 label='euk/non-euk model, AUC={0:0.4f}'.format(auprc_euk))\n",
    "\n",
    "        plt.xlabel('Recall')\n",
    "        plt.ylabel('Precision')\n",
    "        plt.ylim([0.0, 1.05])\n",
    "        plt.xlim([0.0, 1.0])\n",
    "        plt.title('Precision-Recall curve')\n",
    "        plt.legend(loc=\"upper right\")\n",
    "\n"
   ]
  },
  {
   "cell_type": "markdown",
   "metadata": {},
   "source": [
    "#### Euk/non-Euk itself does not perform very well using the MEGA annotation as ground truth"
   ]
  },
  {
   "cell_type": "markdown",
   "metadata": {},
   "source": [
    "#### it's still possible, the euk/non-euk works for some family......"
   ]
  },
  {
   "cell_type": "code",
   "execution_count": 56,
   "metadata": {
    "collapsed": false
   },
   "outputs": [
    {
     "data": {
      "text/plain": [
       "<matplotlib.axes._subplots.AxesSubplot at 0x12aa5c650>"
      ]
     },
     "execution_count": 56,
     "metadata": {},
     "output_type": "execute_result"
    },
    {
     "data": {
      "image/png": "[encoded data removed]",
      "text/plain": [
       "<matplotlib.figure.Figure at 0x122816590>"
      ]
     },
     "metadata": {},
     "output_type": "display_data"
    }
   ],
   "source": [
    "new_table[new_table.top_label=='Eukaryota'].score_euk_non_euk.plot.hist(bins=50)"
   ]
  },
  {
   "cell_type": "code",
   "execution_count": 57,
   "metadata": {
    "collapsed": false
   },
   "outputs": [
    {
     "data": {
      "text/plain": [
       "<matplotlib.axes._subplots.AxesSubplot at 0x11ad422d0>"
      ]
     },
     "execution_count": 57,
     "metadata": {},
     "output_type": "execute_result"
    },
    {
     "data": {
      "image/png": "[encoded data removed]",
      "text/plain": [
       "<matplotlib.figure.Figure at 0x11cd83710>"
      ]
     },
     "metadata": {},
     "output_type": "display_data"
    }
   ],
   "source": [
    "new_table[new_table.top_label!='Eukaryota'].score_euk_non_euk.plot.hist(bins=50)"
   ]
  },
  {
   "cell_type": "markdown",
   "metadata": {},
   "source": [
    "#### This means removing low euk/non-euk score contigs, will not remove many real virus"
   ]
  },
  {
   "cell_type": "code",
   "execution_count": 58,
   "metadata": {
    "collapsed": false
   },
   "outputs": [
    {
     "data": {
      "text/plain": [
       "<matplotlib.axes._subplots.AxesSubplot at 0x11e408590>"
      ]
     },
     "execution_count": 58,
     "metadata": {},
     "output_type": "execute_result"
    },
    {
     "data": {
      "image/png": "[encoded data removed]",
      "text/plain": [
       "<matplotlib.figure.Figure at 0x123e0f910>"
      ]
     },
     "metadata": {},
     "output_type": "display_data"
    }
   ],
   "source": [
    "new_table[new_table.label==1].score_euk_non_euk.plot.hist(bins=50)"
   ]
  },
  {
   "cell_type": "code",
   "execution_count": 59,
   "metadata": {
    "collapsed": false
   },
   "outputs": [
    {
     "data": {
      "text/plain": [
       "<matplotlib.axes._subplots.AxesSubplot at 0x1357dd9d0>"
      ]
     },
     "execution_count": 59,
     "metadata": {},
     "output_type": "execute_result"
    },
    {
     "data": {
      "image/png": "[encoded data removed]",
      "text/plain": [
       "<matplotlib.figure.Figure at 0x11e13b050>"
      ]
     },
     "metadata": {},
     "output_type": "display_data"
    }
   ],
   "source": [
    "new_table[new_table.label==0].score_euk_non_euk.plot.hist(bins=50)"
   ]
  },
  {
   "cell_type": "code",
   "execution_count": 60,
   "metadata": {
    "collapsed": false
   },
   "outputs": [
    {
     "data": {
      "text/plain": [
       "34939"
      ]
     },
     "execution_count": 60,
     "metadata": {},
     "output_type": "execute_result"
    }
   ],
   "source": [
    "len(new_table[new_table.probability>=0.9])"
   ]
  },
  {
   "cell_type": "code",
   "execution_count": 61,
   "metadata": {
    "collapsed": false
   },
   "outputs": [
    {
     "name": "stderr",
     "output_type": "stream",
     "text": [
      "/Users/qingpeng/anaconda/lib/python2.7/site-packages/ipykernel/__main__.py:1: UserWarning: Boolean Series key will be reindexed to match DataFrame index.\n",
      "  if __name__ == '__main__':\n"
     ]
    },
    {
     "data": {
      "text/plain": [
       "3882"
      ]
     },
     "execution_count": 61,
     "metadata": {},
     "output_type": "execute_result"
    }
   ],
   "source": [
    "len(new_table[new_table.probability>=0.9][new_table.label==1.0])"
   ]
  },
  {
   "cell_type": "code",
   "execution_count": 62,
   "metadata": {
    "collapsed": false
   },
   "outputs": [
    {
     "name": "stderr",
     "output_type": "stream",
     "text": [
      "/Users/qingpeng/anaconda/lib/python2.7/site-packages/ipykernel/__main__.py:1: UserWarning: Boolean Series key will be reindexed to match DataFrame index.\n",
      "  if __name__ == '__main__':\n"
     ]
    },
    {
     "data": {
      "text/plain": [
       "31057"
      ]
     },
     "execution_count": 62,
     "metadata": {},
     "output_type": "execute_result"
    }
   ],
   "source": [
    "len(new_table[new_table.probability>=0.9][new_table.label==0.0])"
   ]
  },
  {
   "cell_type": "code",
   "execution_count": 63,
   "metadata": {
    "collapsed": false
   },
   "outputs": [
    {
     "data": {
      "text/plain": [
       "111998"
      ]
     },
     "execution_count": 63,
     "metadata": {},
     "output_type": "execute_result"
    }
   ],
   "source": [
    "len(new_table[new_table.probability<=0.1])"
   ]
  },
  {
   "cell_type": "code",
   "execution_count": 64,
   "metadata": {
    "collapsed": false
   },
   "outputs": [
    {
     "name": "stderr",
     "output_type": "stream",
     "text": [
      "/Users/qingpeng/anaconda/lib/python2.7/site-packages/ipykernel/__main__.py:1: UserWarning: Boolean Series key will be reindexed to match DataFrame index.\n",
      "  if __name__ == '__main__':\n"
     ]
    },
    {
     "data": {
      "text/plain": [
       "558"
      ]
     },
     "execution_count": 64,
     "metadata": {},
     "output_type": "execute_result"
    }
   ],
   "source": [
    "len(new_table[new_table.probability<=0.1][new_table.label==1.0])"
   ]
  },
  {
   "cell_type": "code",
   "execution_count": 65,
   "metadata": {
    "collapsed": false
   },
   "outputs": [
    {
     "name": "stderr",
     "output_type": "stream",
     "text": [
      "/Users/qingpeng/anaconda/lib/python2.7/site-packages/ipykernel/__main__.py:1: UserWarning: Boolean Series key will be reindexed to match DataFrame index.\n",
      "  if __name__ == '__main__':\n"
     ]
    },
    {
     "data": {
      "text/plain": [
       "111440"
      ]
     },
     "execution_count": 65,
     "metadata": {},
     "output_type": "execute_result"
    }
   ],
   "source": [
    "len(new_table[new_table.probability<=0.1][new_table.label==0.0])"
   ]
  },
  {
   "cell_type": "code",
   "execution_count": 66,
   "metadata": {
    "collapsed": false
   },
   "outputs": [
    {
     "ename": "AttributeError",
     "evalue": "'DataFrame' object has no attribute 'probability_filter_out_euk4'",
     "output_type": "error",
     "traceback": [
      "\u001b[0;31m---------------------------------------------------------------------------\u001b[0m",
      "\u001b[0;31mAttributeError\u001b[0m                            Traceback (most recent call last)",
      "\u001b[0;32m<ipython-input-66-401c79ea32b3>\u001b[0m in \u001b[0;36m<module>\u001b[0;34m()\u001b[0m\n\u001b[0;32m----> 1\u001b[0;31m \u001b[0;32mprint\u001b[0m\u001b[0;34m(\u001b[0m\u001b[0mlen\u001b[0m\u001b[0;34m(\u001b[0m\u001b[0mnew_table\u001b[0m\u001b[0;34m[\u001b[0m\u001b[0mnew_table\u001b[0m\u001b[0;34m.\u001b[0m\u001b[0mprobability_filter_out_euk4\u001b[0m\u001b[0;34m>=\u001b[0m\u001b[0;36m0.9\u001b[0m\u001b[0;34m]\u001b[0m\u001b[0;34m)\u001b[0m\u001b[0;34m)\u001b[0m\u001b[0;34m\u001b[0m\u001b[0m\n\u001b[0m\u001b[1;32m      2\u001b[0m \u001b[0;32mprint\u001b[0m\u001b[0;34m(\u001b[0m\u001b[0mlen\u001b[0m\u001b[0;34m(\u001b[0m\u001b[0mnew_table\u001b[0m\u001b[0;34m[\u001b[0m\u001b[0mnew_table\u001b[0m\u001b[0;34m.\u001b[0m\u001b[0mprobability_filter_out_euk4\u001b[0m\u001b[0;34m>=\u001b[0m\u001b[0;36m0.9\u001b[0m\u001b[0;34m]\u001b[0m\u001b[0;34m[\u001b[0m\u001b[0mnew_table\u001b[0m\u001b[0;34m.\u001b[0m\u001b[0mlabel\u001b[0m\u001b[0;34m==\u001b[0m\u001b[0;36m1.0\u001b[0m\u001b[0;34m]\u001b[0m\u001b[0;34m)\u001b[0m\u001b[0;34m)\u001b[0m\u001b[0;34m\u001b[0m\u001b[0m\n\u001b[1;32m      3\u001b[0m \u001b[0;32mprint\u001b[0m\u001b[0;34m(\u001b[0m\u001b[0mlen\u001b[0m\u001b[0;34m(\u001b[0m\u001b[0mnew_table\u001b[0m\u001b[0;34m[\u001b[0m\u001b[0mnew_table\u001b[0m\u001b[0;34m.\u001b[0m\u001b[0mprobability_filter_out_euk4\u001b[0m\u001b[0;34m>=\u001b[0m\u001b[0;36m0.9\u001b[0m\u001b[0;34m]\u001b[0m\u001b[0;34m[\u001b[0m\u001b[0mnew_table\u001b[0m\u001b[0;34m.\u001b[0m\u001b[0mlabel\u001b[0m\u001b[0;34m==\u001b[0m\u001b[0;36m0.0\u001b[0m\u001b[0;34m]\u001b[0m\u001b[0;34m)\u001b[0m\u001b[0;34m)\u001b[0m\u001b[0;34m\u001b[0m\u001b[0m\n\u001b[1;32m      4\u001b[0m \u001b[0;32mprint\u001b[0m\u001b[0;34m(\u001b[0m\u001b[0mlen\u001b[0m\u001b[0;34m(\u001b[0m\u001b[0mnew_table\u001b[0m\u001b[0;34m[\u001b[0m\u001b[0mnew_table\u001b[0m\u001b[0;34m.\u001b[0m\u001b[0mprobability_filter_out_euk4\u001b[0m\u001b[0;34m<=\u001b[0m\u001b[0;36m0.1\u001b[0m\u001b[0;34m]\u001b[0m\u001b[0;34m)\u001b[0m\u001b[0;34m)\u001b[0m\u001b[0;34m\u001b[0m\u001b[0m\n\u001b[1;32m      5\u001b[0m \u001b[0;32mprint\u001b[0m\u001b[0;34m(\u001b[0m\u001b[0mlen\u001b[0m\u001b[0;34m(\u001b[0m\u001b[0mnew_table\u001b[0m\u001b[0;34m[\u001b[0m\u001b[0mnew_table\u001b[0m\u001b[0;34m.\u001b[0m\u001b[0mprobability_filter_out_euk4\u001b[0m\u001b[0;34m<=\u001b[0m\u001b[0;36m0.1\u001b[0m\u001b[0;34m]\u001b[0m\u001b[0;34m[\u001b[0m\u001b[0mnew_table\u001b[0m\u001b[0;34m.\u001b[0m\u001b[0mlabel\u001b[0m\u001b[0;34m==\u001b[0m\u001b[0;36m1.0\u001b[0m\u001b[0;34m]\u001b[0m\u001b[0;34m)\u001b[0m\u001b[0;34m)\u001b[0m\u001b[0;34m\u001b[0m\u001b[0m\n",
      "\u001b[0;32m/Users/qingpeng/anaconda/lib/python2.7/site-packages/pandas/core/generic.pyc\u001b[0m in \u001b[0;36m__getattr__\u001b[0;34m(self, name)\u001b[0m\n\u001b[1;32m   2742\u001b[0m             \u001b[0;32mif\u001b[0m \u001b[0mname\u001b[0m \u001b[0;32min\u001b[0m \u001b[0mself\u001b[0m\u001b[0;34m.\u001b[0m\u001b[0m_info_axis\u001b[0m\u001b[0;34m:\u001b[0m\u001b[0;34m\u001b[0m\u001b[0m\n\u001b[1;32m   2743\u001b[0m                 \u001b[0;32mreturn\u001b[0m \u001b[0mself\u001b[0m\u001b[0;34m[\u001b[0m\u001b[0mname\u001b[0m\u001b[0;34m]\u001b[0m\u001b[0;34m\u001b[0m\u001b[0m\n\u001b[0;32m-> 2744\u001b[0;31m             \u001b[0;32mreturn\u001b[0m \u001b[0mobject\u001b[0m\u001b[0;34m.\u001b[0m\u001b[0m__getattribute__\u001b[0m\u001b[0;34m(\u001b[0m\u001b[0mself\u001b[0m\u001b[0;34m,\u001b[0m \u001b[0mname\u001b[0m\u001b[0;34m)\u001b[0m\u001b[0;34m\u001b[0m\u001b[0m\n\u001b[0m\u001b[1;32m   2745\u001b[0m \u001b[0;34m\u001b[0m\u001b[0m\n\u001b[1;32m   2746\u001b[0m     \u001b[0;32mdef\u001b[0m \u001b[0m__setattr__\u001b[0m\u001b[0;34m(\u001b[0m\u001b[0mself\u001b[0m\u001b[0;34m,\u001b[0m \u001b[0mname\u001b[0m\u001b[0;34m,\u001b[0m \u001b[0mvalue\u001b[0m\u001b[0;34m)\u001b[0m\u001b[0;34m:\u001b[0m\u001b[0;34m\u001b[0m\u001b[0m\n",
      "\u001b[0;31mAttributeError\u001b[0m: 'DataFrame' object has no attribute 'probability_filter_out_euk4'"
     ]
    }
   ],
   "source": [
    "print(len(new_table[new_table.probability_filter_out_euk4>=0.9]))\n",
    "print(len(new_table[new_table.probability_filter_out_euk4>=0.9][new_table.label==1.0]))\n",
    "print(len(new_table[new_table.probability_filter_out_euk4>=0.9][new_table.label==0.0]))\n",
    "print(len(new_table[new_table.probability_filter_out_euk4<=0.1]))\n",
    "print(len(new_table[new_table.probability_filter_out_euk4<=0.1][new_table.label==1.0]))\n",
    "print(len(new_table[new_table.probability_filter_out_euk4<=0.1][new_table.label==0.0]))\n"
   ]
  },
  {
   "cell_type": "code",
   "execution_count": 67,
   "metadata": {
    "collapsed": false,
    "scrolled": false
   },
   "outputs": [
    {
     "data": {
      "text/plain": [
       "<matplotlib.axes._subplots.AxesSubplot at 0x11ff6f890>"
      ]
     },
     "execution_count": 67,
     "metadata": {},
     "output_type": "execute_result"
    },
    {
     "data": {
      "image/png": "[encoded data removed]",
      "text/plain": [
       "<matplotlib.figure.Figure at 0x128d4de90>"
      ]
     },
     "metadata": {},
     "output_type": "display_data"
    }
   ],
   "source": [
    "new_table[new_table.label==1.0].probability.plot.hist(bins=50, title = 'old model, virus-related TARA contigs')"
   ]
  },
  {
   "cell_type": "code",
   "execution_count": 68,
   "metadata": {
    "collapsed": false,
    "scrolled": true
   },
   "outputs": [
    {
     "data": {
      "text/plain": [
       "<matplotlib.axes._subplots.AxesSubplot at 0x12d51e650>"
      ]
     },
     "execution_count": 68,
     "metadata": {},
     "output_type": "execute_result"
    },
    {
     "data": {
      "image/png": "[encoded data removed]",
      "text/plain": [
       "<matplotlib.figure.Figure at 0x129afe650>"
      ]
     },
     "metadata": {},
     "output_type": "display_data"
    }
   ],
   "source": [
    "new_table[new_table.label==0.0].probability.plot.hist(bins=50, title = 'old model, non-virus-related TARA contigs')"
   ]
  },
  {
   "cell_type": "code",
   "execution_count": 69,
   "metadata": {
    "collapsed": false
   },
   "outputs": [
    {
     "data": {
      "text/plain": [
       "<matplotlib.axes._subplots.AxesSubplot at 0x12a9e6f90>"
      ]
     },
     "execution_count": 69,
     "metadata": {},
     "output_type": "execute_result"
    },
    {
     "data": {
      "image/png": "[encoded data removed]",
      "text/plain": [
       "<matplotlib.figure.Figure at 0x129207210>"
      ]
     },
     "metadata": {},
     "output_type": "display_data"
    }
   ],
   "source": [
    "new_table[new_table.label==1.0].hybrid_probability.plot.hist(bins=50, title = 'hybrid model, virus-related TARA contigs')"
   ]
  },
  {
   "cell_type": "code",
   "execution_count": 70,
   "metadata": {
    "collapsed": false
   },
   "outputs": [
    {
     "data": {
      "text/plain": [
       "<matplotlib.axes._subplots.AxesSubplot at 0x11cef9090>"
      ]
     },
     "execution_count": 70,
     "metadata": {},
     "output_type": "execute_result"
    },
    {
     "data": {
      "image/png": "[encoded data removed]",
      "text/plain": [
       "<matplotlib.figure.Figure at 0x12ac58550>"
      ]
     },
     "metadata": {},
     "output_type": "display_data"
    }
   ],
   "source": [
    "new_table[new_table.label==0.0].hybrid_probability.plot.hist(bins=50, title = 'hybrid model, non-virus-related TARA contigs')"
   ]
  },
  {
   "cell_type": "code",
   "execution_count": 71,
   "metadata": {
    "collapsed": false,
    "scrolled": true
   },
   "outputs": [],
   "source": [
    "Micromonas_table = new_table[(\n",
    "        new_table.tax_name=='Micromonas') |(new_table.tax_name=='Micromonas pusilla CCMP1545')|(\n",
    "        new_table.tax_name=='Micromonas commoda')]"
   ]
  },
  {
   "cell_type": "code",
   "execution_count": 126,
   "metadata": {
    "collapsed": false
   },
   "outputs": [],
   "source": [
    "Micromonas_table.to_csv(\"Micromonas_table.csv\")"
   ]
  },
  {
   "cell_type": "markdown",
   "metadata": {},
   "source": [
    "#### most of micromonas contigs has lower euk/non-euk score, prone to be euk...."
   ]
  },
  {
   "cell_type": "code",
   "execution_count": 72,
   "metadata": {
    "collapsed": false
   },
   "outputs": [
    {
     "data": {
      "text/plain": [
       "<matplotlib.axes._subplots.AxesSubplot at 0x12a1fe150>"
      ]
     },
     "execution_count": 72,
     "metadata": {},
     "output_type": "execute_result"
    },
    {
     "data": {
      "image/png": "[encoded data removed]",
      "text/plain": [
       "<matplotlib.figure.Figure at 0x11d243290>"
      ]
     },
     "metadata": {},
     "output_type": "display_data"
    }
   ],
   "source": [
    "Micromonas_table.score_euk_non_euk.plot.hist(bins=50)"
   ]
  },
  {
   "cell_type": "code",
   "execution_count": 73,
   "metadata": {
    "collapsed": false
   },
   "outputs": [
    {
     "data": {
      "text/plain": [
       "<matplotlib.axes._subplots.AxesSubplot at 0x12c584d50>"
      ]
     },
     "execution_count": 73,
     "metadata": {},
     "output_type": "execute_result"
    },
    {
     "data": {
      "image/png": "[encoded data removed]",
      "text/plain": [
       "<matplotlib.figure.Figure at 0x12c017750>"
      ]
     },
     "metadata": {},
     "output_type": "display_data"
    }
   ],
   "source": [
    "Micromonas_table.hybrid_probability.plot.hist(bins=50, title = 'hybrid model, Micromonas-related TARA contigs')"
   ]
  },
  {
   "cell_type": "code",
   "execution_count": 74,
   "metadata": {
    "collapsed": false
   },
   "outputs": [
    {
     "data": {
      "text/plain": [
       "<matplotlib.axes._subplots.AxesSubplot at 0x12b3ed910>"
      ]
     },
     "execution_count": 74,
     "metadata": {},
     "output_type": "execute_result"
    },
    {
     "data": {
      "image/png": "[encoded data removed]",
      "text/plain": [
       "<matplotlib.figure.Figure at 0x125062850>"
      ]
     },
     "metadata": {},
     "output_type": "display_data"
    }
   ],
   "source": [
    "Micromonas_table.probability.plot.hist(bins=50, title = 'old model, Micromonas-related TARA contigs')"
   ]
  },
  {
   "cell_type": "markdown",
   "metadata": {},
   "source": [
    "####  will  remove many prediction 1.0 contigs... by euk/non-euk model filtering"
   ]
  },
  {
   "cell_type": "code",
   "execution_count": 75,
   "metadata": {
    "collapsed": false
   },
   "outputs": [
    {
     "data": {
      "text/plain": [
       "<matplotlib.axes._subplots.AxesSubplot at 0x135c8a510>"
      ]
     },
     "execution_count": 75,
     "metadata": {},
     "output_type": "execute_result"
    },
    {
     "data": {
      "image/png": "[encoded data removed]",
      "text/plain": [
       "<matplotlib.figure.Figure at 0x11cfbce10>"
      ]
     },
     "metadata": {},
     "output_type": "display_data"
    }
   ],
   "source": [
    "Micromonas_table[Micromonas_table.prediction==1.0].score_euk_non_euk.plot.hist(bins=50)"
   ]
  },
  {
   "cell_type": "code",
   "execution_count": 76,
   "metadata": {
    "collapsed": false
   },
   "outputs": [
    {
     "data": {
      "text/plain": [
       "<matplotlib.axes._subplots.AxesSubplot at 0x129b6f190>"
      ]
     },
     "execution_count": 76,
     "metadata": {},
     "output_type": "execute_result"
    },
    {
     "data": {
      "image/png": "[encoded data removed]",
      "text/plain": [
       "<matplotlib.figure.Figure at 0x123a30b50>"
      ]
     },
     "metadata": {},
     "output_type": "display_data"
    }
   ],
   "source": [
    "Micromonas_table[Micromonas_table.prediction==1.0].hybrid_probability.plot.hist(bins=50)"
   ]
  },
  {
   "cell_type": "code",
   "execution_count": 77,
   "metadata": {
    "collapsed": true
   },
   "outputs": [],
   "source": [
    "sub_table = new_table.loc[:,['probability','hybrid_probability','label','tax_id','rank','tax_name']]"
   ]
  },
  {
   "cell_type": "code",
   "execution_count": 78,
   "metadata": {
    "collapsed": false
   },
   "outputs": [
    {
     "data": {
      "text/html": [
       "<div>\n",
       "<table border=\"1\" class=\"dataframe\">\n",
       "  <thead>\n",
       "    <tr style=\"text-align: right;\">\n",
       "      <th></th>\n",
       "      <th>probability</th>\n",
       "      <th>hybrid_probability</th>\n",
       "      <th>label</th>\n",
       "      <th>tax_id</th>\n",
       "      <th>rank</th>\n",
       "      <th>tax_name</th>\n",
       "    </tr>\n",
       "  </thead>\n",
       "  <tbody>\n",
       "    <tr>\n",
       "      <th>0</th>\n",
       "      <td>0.000375</td>\n",
       "      <td>0.000097</td>\n",
       "      <td>0.0</td>\n",
       "      <td>1236</td>\n",
       "      <td>class</td>\n",
       "      <td>Gammaproteobacteria</td>\n",
       "    </tr>\n",
       "    <tr>\n",
       "      <th>1</th>\n",
       "      <td>0.000088</td>\n",
       "      <td>0.000032</td>\n",
       "      <td>0.0</td>\n",
       "      <td>254161</td>\n",
       "      <td>species</td>\n",
       "      <td>Pseudomonas pachastrellae</td>\n",
       "    </tr>\n",
       "    <tr>\n",
       "      <th>2</th>\n",
       "      <td>0.000041</td>\n",
       "      <td>0.000019</td>\n",
       "      <td>0.0</td>\n",
       "      <td>254161</td>\n",
       "      <td>species</td>\n",
       "      <td>Pseudomonas pachastrellae</td>\n",
       "    </tr>\n",
       "    <tr>\n",
       "      <th>3</th>\n",
       "      <td>0.000056</td>\n",
       "      <td>0.000021</td>\n",
       "      <td>0.0</td>\n",
       "      <td>286</td>\n",
       "      <td>genus</td>\n",
       "      <td>Pseudomonas</td>\n",
       "    </tr>\n",
       "    <tr>\n",
       "      <th>4</th>\n",
       "      <td>0.000040</td>\n",
       "      <td>0.000018</td>\n",
       "      <td>0.0</td>\n",
       "      <td>286</td>\n",
       "      <td>genus</td>\n",
       "      <td>Pseudomonas</td>\n",
       "    </tr>\n",
       "  </tbody>\n",
       "</table>\n",
       "</div>"
      ],
      "text/plain": [
       "   probability  hybrid_probability  label  tax_id     rank  \\\n",
       "0     0.000375            0.000097    0.0    1236    class   \n",
       "1     0.000088            0.000032    0.0  254161  species   \n",
       "2     0.000041            0.000019    0.0  254161  species   \n",
       "3     0.000056            0.000021    0.0     286    genus   \n",
       "4     0.000040            0.000018    0.0     286    genus   \n",
       "\n",
       "                    tax_name  \n",
       "0        Gammaproteobacteria  \n",
       "1  Pseudomonas pachastrellae  \n",
       "2  Pseudomonas pachastrellae  \n",
       "3                Pseudomonas  \n",
       "4                Pseudomonas  "
      ]
     },
     "execution_count": 78,
     "metadata": {},
     "output_type": "execute_result"
    }
   ],
   "source": [
    "sub_table.head()"
   ]
  },
  {
   "cell_type": "code",
   "execution_count": 79,
   "metadata": {
    "collapsed": false
   },
   "outputs": [],
   "source": [
    "grouped = sub_table.groupby(['label'])"
   ]
  },
  {
   "cell_type": "code",
   "execution_count": 80,
   "metadata": {
    "collapsed": true
   },
   "outputs": [],
   "source": [
    "import pandas"
   ]
  },
  {
   "cell_type": "code",
   "execution_count": 81,
   "metadata": {
    "collapsed": false
   },
   "outputs": [
    {
     "data": {
      "text/plain": [
       "0.0         Axes(0.1,0.15;0.363636x0.75)\n",
       "1.0    Axes(0.536364,0.15;0.363636x0.75)\n",
       "dtype: object"
      ]
     },
     "execution_count": 81,
     "metadata": {},
     "output_type": "execute_result"
    },
    {
     "data": {
      "image/png": "[encoded data removed]",
      "text/plain": [
       "<matplotlib.figure.Figure at 0x12a2ffc10>"
      ]
     },
     "metadata": {},
     "output_type": "display_data"
    }
   ],
   "source": [
    "pandas.core.groupby.DataFrameGroupBy.boxplot(grouped, column=['probability'])"
   ]
  },
  {
   "cell_type": "code",
   "execution_count": 82,
   "metadata": {
    "collapsed": false
   },
   "outputs": [
    {
     "data": {
      "text/plain": [
       "0.0         Axes(0.1,0.15;0.363636x0.75)\n",
       "1.0    Axes(0.536364,0.15;0.363636x0.75)\n",
       "dtype: object"
      ]
     },
     "execution_count": 82,
     "metadata": {},
     "output_type": "execute_result"
    },
    {
     "data": {
      "image/png": "[encoded data removed]",
      "text/plain": [
       "<matplotlib.figure.Figure at 0x12a7a5610>"
      ]
     },
     "metadata": {},
     "output_type": "display_data"
    }
   ],
   "source": [
    "pandas.core.groupby.DataFrameGroupBy.boxplot(grouped, column=['hybrid_probability'])"
   ]
  },
  {
   "cell_type": "code",
   "execution_count": 83,
   "metadata": {
    "collapsed": false
   },
   "outputs": [],
   "source": [
    "predict_nonvirus = sub_table.groupby(['label']).get_group(0.0)"
   ]
  },
  {
   "cell_type": "code",
   "execution_count": 84,
   "metadata": {
    "collapsed": false
   },
   "outputs": [
    {
     "data": {
      "text/html": [
       "<div>\n",
       "<table border=\"1\" class=\"dataframe\">\n",
       "  <thead>\n",
       "    <tr style=\"text-align: right;\">\n",
       "      <th></th>\n",
       "      <th>probability</th>\n",
       "      <th>hybrid_probability</th>\n",
       "      <th>label</th>\n",
       "      <th>tax_id</th>\n",
       "      <th>rank</th>\n",
       "      <th>tax_name</th>\n",
       "    </tr>\n",
       "  </thead>\n",
       "  <tbody>\n",
       "    <tr>\n",
       "      <th>0</th>\n",
       "      <td>0.000375</td>\n",
       "      <td>0.000097</td>\n",
       "      <td>0.0</td>\n",
       "      <td>1236</td>\n",
       "      <td>class</td>\n",
       "      <td>Gammaproteobacteria</td>\n",
       "    </tr>\n",
       "    <tr>\n",
       "      <th>1</th>\n",
       "      <td>0.000088</td>\n",
       "      <td>0.000032</td>\n",
       "      <td>0.0</td>\n",
       "      <td>254161</td>\n",
       "      <td>species</td>\n",
       "      <td>Pseudomonas pachastrellae</td>\n",
       "    </tr>\n",
       "    <tr>\n",
       "      <th>2</th>\n",
       "      <td>0.000041</td>\n",
       "      <td>0.000019</td>\n",
       "      <td>0.0</td>\n",
       "      <td>254161</td>\n",
       "      <td>species</td>\n",
       "      <td>Pseudomonas pachastrellae</td>\n",
       "    </tr>\n",
       "    <tr>\n",
       "      <th>3</th>\n",
       "      <td>0.000056</td>\n",
       "      <td>0.000021</td>\n",
       "      <td>0.0</td>\n",
       "      <td>286</td>\n",
       "      <td>genus</td>\n",
       "      <td>Pseudomonas</td>\n",
       "    </tr>\n",
       "    <tr>\n",
       "      <th>4</th>\n",
       "      <td>0.000040</td>\n",
       "      <td>0.000018</td>\n",
       "      <td>0.0</td>\n",
       "      <td>286</td>\n",
       "      <td>genus</td>\n",
       "      <td>Pseudomonas</td>\n",
       "    </tr>\n",
       "  </tbody>\n",
       "</table>\n",
       "</div>"
      ],
      "text/plain": [
       "   probability  hybrid_probability  label  tax_id     rank  \\\n",
       "0     0.000375            0.000097    0.0    1236    class   \n",
       "1     0.000088            0.000032    0.0  254161  species   \n",
       "2     0.000041            0.000019    0.0  254161  species   \n",
       "3     0.000056            0.000021    0.0     286    genus   \n",
       "4     0.000040            0.000018    0.0     286    genus   \n",
       "\n",
       "                    tax_name  \n",
       "0        Gammaproteobacteria  \n",
       "1  Pseudomonas pachastrellae  \n",
       "2  Pseudomonas pachastrellae  \n",
       "3                Pseudomonas  \n",
       "4                Pseudomonas  "
      ]
     },
     "execution_count": 84,
     "metadata": {},
     "output_type": "execute_result"
    }
   ],
   "source": [
    "predict_nonvirus.head()"
   ]
  },
  {
   "cell_type": "code",
   "execution_count": 85,
   "metadata": {
    "collapsed": false
   },
   "outputs": [
    {
     "data": {
      "text/html": [
       "<div>\n",
       "<table border=\"1\" class=\"dataframe\">\n",
       "  <thead>\n",
       "    <tr style=\"text-align: right;\">\n",
       "      <th></th>\n",
       "      <th>probability</th>\n",
       "      <th>hybrid_probability</th>\n",
       "      <th>label</th>\n",
       "      <th>tax_id</th>\n",
       "    </tr>\n",
       "  </thead>\n",
       "  <tbody>\n",
       "    <tr>\n",
       "      <th>count</th>\n",
       "      <td>19360.000000</td>\n",
       "      <td>19360.000000</td>\n",
       "      <td>19360.0</td>\n",
       "      <td>1.936000e+04</td>\n",
       "    </tr>\n",
       "    <tr>\n",
       "      <th>mean</th>\n",
       "      <td>0.998376</td>\n",
       "      <td>0.379285</td>\n",
       "      <td>0.0</td>\n",
       "      <td>3.044789e+05</td>\n",
       "    </tr>\n",
       "    <tr>\n",
       "      <th>std</th>\n",
       "      <td>0.002465</td>\n",
       "      <td>0.379769</td>\n",
       "      <td>0.0</td>\n",
       "      <td>4.887216e+05</td>\n",
       "    </tr>\n",
       "    <tr>\n",
       "      <th>min</th>\n",
       "      <td>0.990001</td>\n",
       "      <td>0.000009</td>\n",
       "      <td>0.0</td>\n",
       "      <td>-2.000000e+00</td>\n",
       "    </tr>\n",
       "    <tr>\n",
       "      <th>25%</th>\n",
       "      <td>0.997727</td>\n",
       "      <td>0.037893</td>\n",
       "      <td>0.0</td>\n",
       "      <td>5.653000e+03</td>\n",
       "    </tr>\n",
       "    <tr>\n",
       "      <th>50%</th>\n",
       "      <td>0.999668</td>\n",
       "      <td>0.205307</td>\n",
       "      <td>0.0</td>\n",
       "      <td>5.750600e+04</td>\n",
       "    </tr>\n",
       "    <tr>\n",
       "      <th>75%</th>\n",
       "      <td>0.999984</td>\n",
       "      <td>0.778857</td>\n",
       "      <td>0.0</td>\n",
       "      <td>2.965870e+05</td>\n",
       "    </tr>\n",
       "    <tr>\n",
       "      <th>max</th>\n",
       "      <td>1.000000</td>\n",
       "      <td>1.000000</td>\n",
       "      <td>0.0</td>\n",
       "      <td>1.904754e+06</td>\n",
       "    </tr>\n",
       "  </tbody>\n",
       "</table>\n",
       "</div>"
      ],
      "text/plain": [
       "        probability  hybrid_probability    label        tax_id\n",
       "count  19360.000000        19360.000000  19360.0  1.936000e+04\n",
       "mean       0.998376            0.379285      0.0  3.044789e+05\n",
       "std        0.002465            0.379769      0.0  4.887216e+05\n",
       "min        0.990001            0.000009      0.0 -2.000000e+00\n",
       "25%        0.997727            0.037893      0.0  5.653000e+03\n",
       "50%        0.999668            0.205307      0.0  5.750600e+04\n",
       "75%        0.999984            0.778857      0.0  2.965870e+05\n",
       "max        1.000000            1.000000      0.0  1.904754e+06"
      ]
     },
     "execution_count": 85,
     "metadata": {},
     "output_type": "execute_result"
    }
   ],
   "source": [
    "predict_nonvirus[predict_nonvirus.probability>0.99].describe()"
   ]
  },
  {
   "cell_type": "code",
   "execution_count": 86,
   "metadata": {
    "collapsed": true
   },
   "outputs": [],
   "source": [
    "grouped = predict_nonvirus.loc[:,['probability','hybrid_probability','rank']].groupby(['rank'])"
   ]
  },
  {
   "cell_type": "code",
   "execution_count": 87,
   "metadata": {
    "collapsed": true
   },
   "outputs": [],
   "source": [
    "predict_nonvirus_rank = predict_nonvirus.loc[:,['probability','hybrid_probability','rank']]"
   ]
  },
  {
   "cell_type": "code",
   "execution_count": 88,
   "metadata": {
    "collapsed": true
   },
   "outputs": [],
   "source": [
    "def convert_rank(rank):\n",
    "    if rank == 'no rank':\n",
    "        return 'no rank'\n",
    "    else:\n",
    "        return 'rank'\n",
    "    "
   ]
  },
  {
   "cell_type": "code",
   "execution_count": null,
   "metadata": {
    "collapsed": true
   },
   "outputs": [],
   "source": []
  },
  {
   "cell_type": "code",
   "execution_count": 89,
   "metadata": {
    "collapsed": true
   },
   "outputs": [],
   "source": [
    "predict_nonvirus_rank['no_rank'] = predict_nonvirus_rank['rank'].map(convert_rank)"
   ]
  },
  {
   "cell_type": "code",
   "execution_count": 90,
   "metadata": {
    "collapsed": false
   },
   "outputs": [
    {
     "data": {
      "text/html": [
       "<div>\n",
       "<table border=\"1\" class=\"dataframe\">\n",
       "  <thead>\n",
       "    <tr style=\"text-align: right;\">\n",
       "      <th></th>\n",
       "      <th>probability</th>\n",
       "      <th>hybrid_probability</th>\n",
       "      <th>rank</th>\n",
       "      <th>no_rank</th>\n",
       "    </tr>\n",
       "  </thead>\n",
       "  <tbody>\n",
       "    <tr>\n",
       "      <th>0</th>\n",
       "      <td>0.000375</td>\n",
       "      <td>0.000097</td>\n",
       "      <td>class</td>\n",
       "      <td>rank</td>\n",
       "    </tr>\n",
       "    <tr>\n",
       "      <th>1</th>\n",
       "      <td>0.000088</td>\n",
       "      <td>0.000032</td>\n",
       "      <td>species</td>\n",
       "      <td>rank</td>\n",
       "    </tr>\n",
       "    <tr>\n",
       "      <th>2</th>\n",
       "      <td>0.000041</td>\n",
       "      <td>0.000019</td>\n",
       "      <td>species</td>\n",
       "      <td>rank</td>\n",
       "    </tr>\n",
       "    <tr>\n",
       "      <th>3</th>\n",
       "      <td>0.000056</td>\n",
       "      <td>0.000021</td>\n",
       "      <td>genus</td>\n",
       "      <td>rank</td>\n",
       "    </tr>\n",
       "    <tr>\n",
       "      <th>4</th>\n",
       "      <td>0.000040</td>\n",
       "      <td>0.000018</td>\n",
       "      <td>genus</td>\n",
       "      <td>rank</td>\n",
       "    </tr>\n",
       "  </tbody>\n",
       "</table>\n",
       "</div>"
      ],
      "text/plain": [
       "   probability  hybrid_probability     rank no_rank\n",
       "0     0.000375            0.000097    class    rank\n",
       "1     0.000088            0.000032  species    rank\n",
       "2     0.000041            0.000019  species    rank\n",
       "3     0.000056            0.000021    genus    rank\n",
       "4     0.000040            0.000018    genus    rank"
      ]
     },
     "execution_count": 90,
     "metadata": {},
     "output_type": "execute_result"
    }
   ],
   "source": [
    "predict_nonvirus_rank.head()"
   ]
  },
  {
   "cell_type": "code",
   "execution_count": 91,
   "metadata": {
    "collapsed": false
   },
   "outputs": [],
   "source": [
    "predict_nonvirus_rank_subset = predict_nonvirus_rank[(predict_nonvirus_rank['rank'] =='class') | (predict_nonvirus_rank['rank'] =='family') | (predict_nonvirus_rank['rank'] =='genus')\\\n",
    "                      | (predict_nonvirus_rank['rank'] =='kingdom')| (predict_nonvirus_rank['rank'] =='no rank')| (predict_nonvirus_rank['rank'] =='order')\\\n",
    "                      | (predict_nonvirus_rank['rank'] =='phylum')| (predict_nonvirus_rank['rank'] =='species')| (predict_nonvirus_rank['rank'] =='superkingdom')]\n"
   ]
  },
  {
   "cell_type": "code",
   "execution_count": 92,
   "metadata": {
    "collapsed": true
   },
   "outputs": [],
   "source": [
    "predict_nonvirus_rank_grouped = predict_nonvirus_rank.groupby(['no_rank'])"
   ]
  },
  {
   "cell_type": "code",
   "execution_count": 93,
   "metadata": {
    "collapsed": false
   },
   "outputs": [
    {
     "data": {
      "text/html": [
       "<div>\n",
       "<table border=\"1\" class=\"dataframe\">\n",
       "  <thead>\n",
       "    <tr style=\"text-align: right;\">\n",
       "      <th></th>\n",
       "      <th></th>\n",
       "      <th>hybrid_probability</th>\n",
       "      <th>probability</th>\n",
       "    </tr>\n",
       "    <tr>\n",
       "      <th>no_rank</th>\n",
       "      <th></th>\n",
       "      <th></th>\n",
       "      <th></th>\n",
       "    </tr>\n",
       "  </thead>\n",
       "  <tbody>\n",
       "    <tr>\n",
       "      <th rowspan=\"8\" valign=\"top\">no rank</th>\n",
       "      <th>count</th>\n",
       "      <td>3.529600e+04</td>\n",
       "      <td>3.529600e+04</td>\n",
       "    </tr>\n",
       "    <tr>\n",
       "      <th>mean</th>\n",
       "      <td>2.936867e-01</td>\n",
       "      <td>4.052231e-01</td>\n",
       "    </tr>\n",
       "    <tr>\n",
       "      <th>std</th>\n",
       "      <td>3.617446e-01</td>\n",
       "      <td>4.146629e-01</td>\n",
       "    </tr>\n",
       "    <tr>\n",
       "      <th>min</th>\n",
       "      <td>5.826176e-16</td>\n",
       "      <td>6.163252e-27</td>\n",
       "    </tr>\n",
       "    <tr>\n",
       "      <th>25%</th>\n",
       "      <td>4.863638e-03</td>\n",
       "      <td>6.570104e-04</td>\n",
       "    </tr>\n",
       "    <tr>\n",
       "      <th>50%</th>\n",
       "      <td>6.065341e-02</td>\n",
       "      <td>2.471569e-01</td>\n",
       "    </tr>\n",
       "    <tr>\n",
       "      <th>75%</th>\n",
       "      <td>6.605304e-01</td>\n",
       "      <td>8.560335e-01</td>\n",
       "    </tr>\n",
       "    <tr>\n",
       "      <th>max</th>\n",
       "      <td>9.999997e-01</td>\n",
       "      <td>1.000000e+00</td>\n",
       "    </tr>\n",
       "    <tr>\n",
       "      <th rowspan=\"8\" valign=\"top\">rank</th>\n",
       "      <th>count</th>\n",
       "      <td>1.659650e+05</td>\n",
       "      <td>1.659650e+05</td>\n",
       "    </tr>\n",
       "    <tr>\n",
       "      <th>mean</th>\n",
       "      <td>2.267918e-01</td>\n",
       "      <td>2.874665e-01</td>\n",
       "    </tr>\n",
       "    <tr>\n",
       "      <th>std</th>\n",
       "      <td>3.205747e-01</td>\n",
       "      <td>3.776077e-01</td>\n",
       "    </tr>\n",
       "    <tr>\n",
       "      <th>min</th>\n",
       "      <td>1.114855e-20</td>\n",
       "      <td>1.608784e-40</td>\n",
       "    </tr>\n",
       "    <tr>\n",
       "      <th>25%</th>\n",
       "      <td>2.087748e-03</td>\n",
       "      <td>7.368988e-05</td>\n",
       "    </tr>\n",
       "    <tr>\n",
       "      <th>50%</th>\n",
       "      <td>3.137109e-02</td>\n",
       "      <td>1.627734e-02</td>\n",
       "    </tr>\n",
       "    <tr>\n",
       "      <th>75%</th>\n",
       "      <td>4.186605e-01</td>\n",
       "      <td>6.101869e-01</td>\n",
       "    </tr>\n",
       "    <tr>\n",
       "      <th>max</th>\n",
       "      <td>1.000000e+00</td>\n",
       "      <td>1.000000e+00</td>\n",
       "    </tr>\n",
       "  </tbody>\n",
       "</table>\n",
       "</div>"
      ],
      "text/plain": [
       "               hybrid_probability   probability\n",
       "no_rank                                        \n",
       "no rank count        3.529600e+04  3.529600e+04\n",
       "        mean         2.936867e-01  4.052231e-01\n",
       "        std          3.617446e-01  4.146629e-01\n",
       "        min          5.826176e-16  6.163252e-27\n",
       "        25%          4.863638e-03  6.570104e-04\n",
       "        50%          6.065341e-02  2.471569e-01\n",
       "        75%          6.605304e-01  8.560335e-01\n",
       "        max          9.999997e-01  1.000000e+00\n",
       "rank    count        1.659650e+05  1.659650e+05\n",
       "        mean         2.267918e-01  2.874665e-01\n",
       "        std          3.205747e-01  3.776077e-01\n",
       "        min          1.114855e-20  1.608784e-40\n",
       "        25%          2.087748e-03  7.368988e-05\n",
       "        50%          3.137109e-02  1.627734e-02\n",
       "        75%          4.186605e-01  6.101869e-01\n",
       "        max          1.000000e+00  1.000000e+00"
      ]
     },
     "execution_count": 93,
     "metadata": {},
     "output_type": "execute_result"
    }
   ],
   "source": [
    "predict_nonvirus_rank_grouped.describe()"
   ]
  },
  {
   "cell_type": "code",
   "execution_count": 94,
   "metadata": {
    "collapsed": false
   },
   "outputs": [
    {
     "data": {
      "text/plain": [
       "no rank         Axes(0.1,0.15;0.363636x0.75)\n",
       "rank       Axes(0.536364,0.15;0.363636x0.75)\n",
       "dtype: object"
      ]
     },
     "execution_count": 94,
     "metadata": {},
     "output_type": "execute_result"
    },
    {
     "data": {
      "image/png": "[encoded data removed]",
      "text/plain": [
       "<matplotlib.figure.Figure at 0x122cbc3d0>"
      ]
     },
     "metadata": {},
     "output_type": "display_data"
    }
   ],
   "source": [
    "predict_nonvirus_rank_grouped.boxplot(column=['hybrid_probability'])"
   ]
  },
  {
   "cell_type": "code",
   "execution_count": 95,
   "metadata": {
    "collapsed": false
   },
   "outputs": [
    {
     "data": {
      "text/plain": [
       "no rank         Axes(0.1,0.15;0.363636x0.75)\n",
       "rank       Axes(0.536364,0.15;0.363636x0.75)\n",
       "dtype: object"
      ]
     },
     "execution_count": 95,
     "metadata": {},
     "output_type": "execute_result"
    },
    {
     "data": {
      "image/png": "[encoded data removed]",
      "text/plain": [
       "<matplotlib.figure.Figure at 0x11dc56410>"
      ]
     },
     "metadata": {},
     "output_type": "display_data"
    }
   ],
   "source": [
    "predict_nonvirus_rank_grouped.boxplot(column=['probability'])"
   ]
  },
  {
   "cell_type": "code",
   "execution_count": 96,
   "metadata": {
    "collapsed": false
   },
   "outputs": [
    {
     "data": {
      "text/plain": [
       "0.08227745872218234"
      ]
     },
     "execution_count": 96,
     "metadata": {},
     "output_type": "execute_result"
    }
   ],
   "source": [
    "9169.0/111440"
   ]
  },
  {
   "cell_type": "code",
   "execution_count": 97,
   "metadata": {
    "collapsed": false
   },
   "outputs": [],
   "source": [
    "tax_name_count_99 = predict_nonvirus[predict_nonvirus.probability>0.99].groupby('tax_name').size().reset_index()"
   ]
  },
  {
   "cell_type": "code",
   "execution_count": 98,
   "metadata": {
    "collapsed": false
   },
   "outputs": [],
   "source": [
    "tax_name_count_99['percent_99'] = tax_name_count_99[0].apply(lambda x: 100*x/float(tax_name_count_99.sum()))"
   ]
  },
  {
   "cell_type": "code",
   "execution_count": 99,
   "metadata": {
    "collapsed": false
   },
   "outputs": [
    {
     "data": {
      "text/html": [
       "<div>\n",
       "<table border=\"1\" class=\"dataframe\">\n",
       "  <thead>\n",
       "    <tr style=\"text-align: right;\">\n",
       "      <th></th>\n",
       "      <th>tax_name</th>\n",
       "      <th>0</th>\n",
       "      <th>percent_99</th>\n",
       "    </tr>\n",
       "  </thead>\n",
       "  <tbody>\n",
       "    <tr>\n",
       "      <th>0</th>\n",
       "      <td>-2</td>\n",
       "      <td>59</td>\n",
       "      <td>0.304752</td>\n",
       "    </tr>\n",
       "    <tr>\n",
       "      <th>1</th>\n",
       "      <td>Acanthamoeba castellanii str. Neff</td>\n",
       "      <td>4</td>\n",
       "      <td>0.020661</td>\n",
       "    </tr>\n",
       "    <tr>\n",
       "      <th>2</th>\n",
       "      <td>Acidimicrobiia</td>\n",
       "      <td>1</td>\n",
       "      <td>0.005165</td>\n",
       "    </tr>\n",
       "    <tr>\n",
       "      <th>3</th>\n",
       "      <td>Acidithiobacillales bacterium SG8_45</td>\n",
       "      <td>4</td>\n",
       "      <td>0.020661</td>\n",
       "    </tr>\n",
       "    <tr>\n",
       "      <th>4</th>\n",
       "      <td>Acinetobacter</td>\n",
       "      <td>8</td>\n",
       "      <td>0.041322</td>\n",
       "    </tr>\n",
       "  </tbody>\n",
       "</table>\n",
       "</div>"
      ],
      "text/plain": [
       "                               tax_name   0  percent_99\n",
       "0                                    -2  59    0.304752\n",
       "1    Acanthamoeba castellanii str. Neff   4    0.020661\n",
       "2                        Acidimicrobiia   1    0.005165\n",
       "3  Acidithiobacillales bacterium SG8_45   4    0.020661\n",
       "4                         Acinetobacter   8    0.041322"
      ]
     },
     "execution_count": 99,
     "metadata": {},
     "output_type": "execute_result"
    }
   ],
   "source": [
    "tax_name_count_99.head()"
   ]
  },
  {
   "cell_type": "code",
   "execution_count": 100,
   "metadata": {
    "collapsed": true
   },
   "outputs": [],
   "source": [
    "tax_name_count_01 = predict_nonvirus[predict_nonvirus.probability<0.01].groupby('tax_name').size().reset_index()"
   ]
  },
  {
   "cell_type": "code",
   "execution_count": 101,
   "metadata": {
    "collapsed": true
   },
   "outputs": [],
   "source": [
    "tax_name_count_01['percent_01'] = tax_name_count_01[0].apply(lambda x: 100*x/float(tax_name_count_01.sum()))"
   ]
  },
  {
   "cell_type": "code",
   "execution_count": 102,
   "metadata": {
    "collapsed": false
   },
   "outputs": [
    {
     "data": {
      "text/html": [
       "<div>\n",
       "<table border=\"1\" class=\"dataframe\">\n",
       "  <thead>\n",
       "    <tr style=\"text-align: right;\">\n",
       "      <th></th>\n",
       "      <th>tax_name</th>\n",
       "      <th>0</th>\n",
       "      <th>percent_01</th>\n",
       "    </tr>\n",
       "  </thead>\n",
       "  <tbody>\n",
       "    <tr>\n",
       "      <th>0</th>\n",
       "      <td>-2</td>\n",
       "      <td>30</td>\n",
       "      <td>0.032458</td>\n",
       "    </tr>\n",
       "    <tr>\n",
       "      <th>1</th>\n",
       "      <td>Acanthamoeba castellanii</td>\n",
       "      <td>1</td>\n",
       "      <td>0.001082</td>\n",
       "    </tr>\n",
       "    <tr>\n",
       "      <th>2</th>\n",
       "      <td>Acidimicrobiia</td>\n",
       "      <td>1</td>\n",
       "      <td>0.001082</td>\n",
       "    </tr>\n",
       "    <tr>\n",
       "      <th>3</th>\n",
       "      <td>Acidobacteria</td>\n",
       "      <td>7</td>\n",
       "      <td>0.007574</td>\n",
       "    </tr>\n",
       "    <tr>\n",
       "      <th>4</th>\n",
       "      <td>Acinetobacter</td>\n",
       "      <td>920</td>\n",
       "      <td>0.995380</td>\n",
       "    </tr>\n",
       "  </tbody>\n",
       "</table>\n",
       "</div>"
      ],
      "text/plain": [
       "                   tax_name    0  percent_01\n",
       "0                        -2   30    0.032458\n",
       "1  Acanthamoeba castellanii    1    0.001082\n",
       "2            Acidimicrobiia    1    0.001082\n",
       "3             Acidobacteria    7    0.007574\n",
       "4             Acinetobacter  920    0.995380"
      ]
     },
     "execution_count": 102,
     "metadata": {},
     "output_type": "execute_result"
    }
   ],
   "source": [
    "tax_name_count_01.head()\n"
   ]
  },
  {
   "cell_type": "code",
   "execution_count": 103,
   "metadata": {
    "collapsed": true
   },
   "outputs": [],
   "source": [
    "tax_name = pd.merge(tax_name_count_99,tax_name_count_01,how='inner',on=['tax_name'])"
   ]
  },
  {
   "cell_type": "code",
   "execution_count": 104,
   "metadata": {
    "collapsed": false
   },
   "outputs": [
    {
     "data": {
      "text/html": [
       "<div>\n",
       "<table border=\"1\" class=\"dataframe\">\n",
       "  <thead>\n",
       "    <tr style=\"text-align: right;\">\n",
       "      <th></th>\n",
       "      <th>tax_name</th>\n",
       "      <th>0_x</th>\n",
       "      <th>percent_99</th>\n",
       "      <th>0_y</th>\n",
       "      <th>percent_01</th>\n",
       "    </tr>\n",
       "  </thead>\n",
       "  <tbody>\n",
       "    <tr>\n",
       "      <th>0</th>\n",
       "      <td>-2</td>\n",
       "      <td>59</td>\n",
       "      <td>0.304752</td>\n",
       "      <td>30</td>\n",
       "      <td>0.032458</td>\n",
       "    </tr>\n",
       "    <tr>\n",
       "      <th>1</th>\n",
       "      <td>Acidimicrobiia</td>\n",
       "      <td>1</td>\n",
       "      <td>0.005165</td>\n",
       "      <td>1</td>\n",
       "      <td>0.001082</td>\n",
       "    </tr>\n",
       "    <tr>\n",
       "      <th>2</th>\n",
       "      <td>Acinetobacter</td>\n",
       "      <td>8</td>\n",
       "      <td>0.041322</td>\n",
       "      <td>920</td>\n",
       "      <td>0.995380</td>\n",
       "    </tr>\n",
       "    <tr>\n",
       "      <th>3</th>\n",
       "      <td>Actiniaria</td>\n",
       "      <td>6</td>\n",
       "      <td>0.030992</td>\n",
       "      <td>1</td>\n",
       "      <td>0.001082</td>\n",
       "    </tr>\n",
       "    <tr>\n",
       "      <th>4</th>\n",
       "      <td>Actinobacteria</td>\n",
       "      <td>42</td>\n",
       "      <td>0.216942</td>\n",
       "      <td>178</td>\n",
       "      <td>0.192584</td>\n",
       "    </tr>\n",
       "  </tbody>\n",
       "</table>\n",
       "</div>"
      ],
      "text/plain": [
       "         tax_name  0_x  percent_99  0_y  percent_01\n",
       "0              -2   59    0.304752   30    0.032458\n",
       "1  Acidimicrobiia    1    0.005165    1    0.001082\n",
       "2   Acinetobacter    8    0.041322  920    0.995380\n",
       "3      Actiniaria    6    0.030992    1    0.001082\n",
       "4  Actinobacteria   42    0.216942  178    0.192584"
      ]
     },
     "execution_count": 104,
     "metadata": {},
     "output_type": "execute_result"
    }
   ],
   "source": [
    "tax_name.head()"
   ]
  },
  {
   "cell_type": "code",
   "execution_count": 105,
   "metadata": {
    "collapsed": false
   },
   "outputs": [],
   "source": [
    "tax_name['increase'] = tax_name.apply(lambda x:x['percent_99']/x['percent_01'], axis=1)"
   ]
  },
  {
   "cell_type": "code",
   "execution_count": 106,
   "metadata": {
    "collapsed": false
   },
   "outputs": [
    {
     "data": {
      "text/html": [
       "<div>\n",
       "<table border=\"1\" class=\"dataframe\">\n",
       "  <thead>\n",
       "    <tr style=\"text-align: right;\">\n",
       "      <th></th>\n",
       "      <th>tax_name</th>\n",
       "      <th>0_x</th>\n",
       "      <th>percent_99</th>\n",
       "      <th>0_y</th>\n",
       "      <th>percent_01</th>\n",
       "      <th>increase</th>\n",
       "    </tr>\n",
       "  </thead>\n",
       "  <tbody>\n",
       "    <tr>\n",
       "      <th>325</th>\n",
       "      <td>Rhodobacterales bacterium HTCC2255</td>\n",
       "      <td>2</td>\n",
       "      <td>0.010331</td>\n",
       "      <td>1225</td>\n",
       "      <td>1.325370</td>\n",
       "      <td>0.007794</td>\n",
       "    </tr>\n",
       "    <tr>\n",
       "      <th>323</th>\n",
       "      <td>Rhodobacteraceae bacterium SB2</td>\n",
       "      <td>1</td>\n",
       "      <td>0.005165</td>\n",
       "      <td>310</td>\n",
       "      <td>0.335400</td>\n",
       "      <td>0.015400</td>\n",
       "    </tr>\n",
       "    <tr>\n",
       "      <th>444</th>\n",
       "      <td>unclassified Nitrosomonadales</td>\n",
       "      <td>1</td>\n",
       "      <td>0.005165</td>\n",
       "      <td>249</td>\n",
       "      <td>0.269402</td>\n",
       "      <td>0.019173</td>\n",
       "    </tr>\n",
       "    <tr>\n",
       "      <th>251</th>\n",
       "      <td>Oceanospirillales</td>\n",
       "      <td>2</td>\n",
       "      <td>0.010331</td>\n",
       "      <td>366</td>\n",
       "      <td>0.395988</td>\n",
       "      <td>0.026088</td>\n",
       "    </tr>\n",
       "    <tr>\n",
       "      <th>293</th>\n",
       "      <td>Porticoccaceae</td>\n",
       "      <td>1</td>\n",
       "      <td>0.005165</td>\n",
       "      <td>181</td>\n",
       "      <td>0.195830</td>\n",
       "      <td>0.026376</td>\n",
       "    </tr>\n",
       "    <tr>\n",
       "      <th>370</th>\n",
       "      <td>Synechococcales</td>\n",
       "      <td>2</td>\n",
       "      <td>0.010331</td>\n",
       "      <td>362</td>\n",
       "      <td>0.391660</td>\n",
       "      <td>0.026376</td>\n",
       "    </tr>\n",
       "    <tr>\n",
       "      <th>388</th>\n",
       "      <td>Verrucomicrobia</td>\n",
       "      <td>2</td>\n",
       "      <td>0.010331</td>\n",
       "      <td>345</td>\n",
       "      <td>0.373268</td>\n",
       "      <td>0.027676</td>\n",
       "    </tr>\n",
       "    <tr>\n",
       "      <th>324</th>\n",
       "      <td>Rhodobacterales</td>\n",
       "      <td>4</td>\n",
       "      <td>0.020661</td>\n",
       "      <td>659</td>\n",
       "      <td>0.712995</td>\n",
       "      <td>0.028978</td>\n",
       "    </tr>\n",
       "    <tr>\n",
       "      <th>82</th>\n",
       "      <td>Candidatus Thioglobus singularis</td>\n",
       "      <td>7</td>\n",
       "      <td>0.036157</td>\n",
       "      <td>1100</td>\n",
       "      <td>1.190128</td>\n",
       "      <td>0.030381</td>\n",
       "    </tr>\n",
       "    <tr>\n",
       "      <th>332</th>\n",
       "      <td>SAR116 cluster</td>\n",
       "      <td>1</td>\n",
       "      <td>0.005165</td>\n",
       "      <td>145</td>\n",
       "      <td>0.156881</td>\n",
       "      <td>0.032925</td>\n",
       "    </tr>\n",
       "    <tr>\n",
       "      <th>440</th>\n",
       "      <td>unclassified Gammaproteobacteria</td>\n",
       "      <td>3</td>\n",
       "      <td>0.015496</td>\n",
       "      <td>416</td>\n",
       "      <td>0.450085</td>\n",
       "      <td>0.034429</td>\n",
       "    </tr>\n",
       "    <tr>\n",
       "      <th>288</th>\n",
       "      <td>Planktomarina temperata</td>\n",
       "      <td>6</td>\n",
       "      <td>0.030992</td>\n",
       "      <td>732</td>\n",
       "      <td>0.791976</td>\n",
       "      <td>0.039132</td>\n",
       "    </tr>\n",
       "    <tr>\n",
       "      <th>294</th>\n",
       "      <td>Porticoccus hydrocarbonoclasticus</td>\n",
       "      <td>1</td>\n",
       "      <td>0.005165</td>\n",
       "      <td>118</td>\n",
       "      <td>0.127668</td>\n",
       "      <td>0.040459</td>\n",
       "    </tr>\n",
       "    <tr>\n",
       "      <th>2</th>\n",
       "      <td>Acinetobacter</td>\n",
       "      <td>8</td>\n",
       "      <td>0.041322</td>\n",
       "      <td>920</td>\n",
       "      <td>0.995380</td>\n",
       "      <td>0.041514</td>\n",
       "    </tr>\n",
       "    <tr>\n",
       "      <th>371</th>\n",
       "      <td>Synechococcus</td>\n",
       "      <td>8</td>\n",
       "      <td>0.041322</td>\n",
       "      <td>871</td>\n",
       "      <td>0.942365</td>\n",
       "      <td>0.043850</td>\n",
       "    </tr>\n",
       "    <tr>\n",
       "      <th>256</th>\n",
       "      <td>Oleispira antarctica</td>\n",
       "      <td>1</td>\n",
       "      <td>0.005165</td>\n",
       "      <td>98</td>\n",
       "      <td>0.106030</td>\n",
       "      <td>0.048716</td>\n",
       "    </tr>\n",
       "    <tr>\n",
       "      <th>202</th>\n",
       "      <td>Limnobacter sp. MED105</td>\n",
       "      <td>1</td>\n",
       "      <td>0.005165</td>\n",
       "      <td>93</td>\n",
       "      <td>0.100620</td>\n",
       "      <td>0.051335</td>\n",
       "    </tr>\n",
       "    <tr>\n",
       "      <th>161</th>\n",
       "      <td>Formosa</td>\n",
       "      <td>1</td>\n",
       "      <td>0.005165</td>\n",
       "      <td>90</td>\n",
       "      <td>0.097374</td>\n",
       "      <td>0.053046</td>\n",
       "    </tr>\n",
       "    <tr>\n",
       "      <th>307</th>\n",
       "      <td>Pseudomonadales</td>\n",
       "      <td>17</td>\n",
       "      <td>0.087810</td>\n",
       "      <td>1513</td>\n",
       "      <td>1.636968</td>\n",
       "      <td>0.053642</td>\n",
       "    </tr>\n",
       "    <tr>\n",
       "      <th>245</th>\n",
       "      <td>OM182 bacterium BACL3 MAG-120507-bin80</td>\n",
       "      <td>1</td>\n",
       "      <td>0.005165</td>\n",
       "      <td>76</td>\n",
       "      <td>0.082227</td>\n",
       "      <td>0.062817</td>\n",
       "    </tr>\n",
       "    <tr>\n",
       "      <th>311</th>\n",
       "      <td>Pseudomonas aestusnigri</td>\n",
       "      <td>6</td>\n",
       "      <td>0.030992</td>\n",
       "      <td>449</td>\n",
       "      <td>0.485789</td>\n",
       "      <td>0.063797</td>\n",
       "    </tr>\n",
       "    <tr>\n",
       "      <th>104</th>\n",
       "      <td>Cobetia</td>\n",
       "      <td>8</td>\n",
       "      <td>0.041322</td>\n",
       "      <td>591</td>\n",
       "      <td>0.639424</td>\n",
       "      <td>0.064624</td>\n",
       "    </tr>\n",
       "    <tr>\n",
       "      <th>342</th>\n",
       "      <td>SAR92 clade</td>\n",
       "      <td>2</td>\n",
       "      <td>0.010331</td>\n",
       "      <td>131</td>\n",
       "      <td>0.141733</td>\n",
       "      <td>0.072887</td>\n",
       "    </tr>\n",
       "    <tr>\n",
       "      <th>195</th>\n",
       "      <td>Leeuwenhoekiella blandensis</td>\n",
       "      <td>1</td>\n",
       "      <td>0.005165</td>\n",
       "      <td>64</td>\n",
       "      <td>0.069244</td>\n",
       "      <td>0.074596</td>\n",
       "    </tr>\n",
       "    <tr>\n",
       "      <th>15</th>\n",
       "      <td>Alteromonas lipolytica</td>\n",
       "      <td>8</td>\n",
       "      <td>0.041322</td>\n",
       "      <td>496</td>\n",
       "      <td>0.536640</td>\n",
       "      <td>0.077002</td>\n",
       "    </tr>\n",
       "    <tr>\n",
       "      <th>447</th>\n",
       "      <td>unclassified Porticoccaceae</td>\n",
       "      <td>53</td>\n",
       "      <td>0.273760</td>\n",
       "      <td>3208</td>\n",
       "      <td>3.470847</td>\n",
       "      <td>0.078874</td>\n",
       "    </tr>\n",
       "    <tr>\n",
       "      <th>7</th>\n",
       "      <td>Algoriphagus ornithinivorans</td>\n",
       "      <td>6</td>\n",
       "      <td>0.030992</td>\n",
       "      <td>362</td>\n",
       "      <td>0.391660</td>\n",
       "      <td>0.079129</td>\n",
       "    </tr>\n",
       "    <tr>\n",
       "      <th>341</th>\n",
       "      <td>SAR92 bacterium BACL26 MAG-121220-bin70</td>\n",
       "      <td>11</td>\n",
       "      <td>0.056818</td>\n",
       "      <td>620</td>\n",
       "      <td>0.670800</td>\n",
       "      <td>0.084702</td>\n",
       "    </tr>\n",
       "    <tr>\n",
       "      <th>363</th>\n",
       "      <td>Spongiibacter tropicus</td>\n",
       "      <td>1</td>\n",
       "      <td>0.005165</td>\n",
       "      <td>56</td>\n",
       "      <td>0.060588</td>\n",
       "      <td>0.085252</td>\n",
       "    </tr>\n",
       "    <tr>\n",
       "      <th>362</th>\n",
       "      <td>Spongiibacter</td>\n",
       "      <td>1</td>\n",
       "      <td>0.005165</td>\n",
       "      <td>53</td>\n",
       "      <td>0.057343</td>\n",
       "      <td>0.090078</td>\n",
       "    </tr>\n",
       "    <tr>\n",
       "      <th>...</th>\n",
       "      <td>...</td>\n",
       "      <td>...</td>\n",
       "      <td>...</td>\n",
       "      <td>...</td>\n",
       "      <td>...</td>\n",
       "      <td>...</td>\n",
       "    </tr>\n",
       "    <tr>\n",
       "      <th>211</th>\n",
       "      <td>Mamiellales</td>\n",
       "      <td>751</td>\n",
       "      <td>3.879132</td>\n",
       "      <td>145</td>\n",
       "      <td>0.156881</td>\n",
       "      <td>24.726659</td>\n",
       "    </tr>\n",
       "    <tr>\n",
       "      <th>199</th>\n",
       "      <td>Lewinella</td>\n",
       "      <td>16</td>\n",
       "      <td>0.082645</td>\n",
       "      <td>3</td>\n",
       "      <td>0.003246</td>\n",
       "      <td>25.461983</td>\n",
       "    </tr>\n",
       "    <tr>\n",
       "      <th>69</th>\n",
       "      <td>Candidatus Entotheonella sp. TSY2</td>\n",
       "      <td>28</td>\n",
       "      <td>0.144628</td>\n",
       "      <td>5</td>\n",
       "      <td>0.005410</td>\n",
       "      <td>26.735083</td>\n",
       "    </tr>\n",
       "    <tr>\n",
       "      <th>3</th>\n",
       "      <td>Actiniaria</td>\n",
       "      <td>6</td>\n",
       "      <td>0.030992</td>\n",
       "      <td>1</td>\n",
       "      <td>0.001082</td>\n",
       "      <td>28.644731</td>\n",
       "    </tr>\n",
       "    <tr>\n",
       "      <th>26</th>\n",
       "      <td>Aureimonas</td>\n",
       "      <td>6</td>\n",
       "      <td>0.030992</td>\n",
       "      <td>1</td>\n",
       "      <td>0.001082</td>\n",
       "      <td>28.644731</td>\n",
       "    </tr>\n",
       "    <tr>\n",
       "      <th>374</th>\n",
       "      <td>Thalassiosira oceanica</td>\n",
       "      <td>12</td>\n",
       "      <td>0.061983</td>\n",
       "      <td>2</td>\n",
       "      <td>0.002164</td>\n",
       "      <td>28.644731</td>\n",
       "    </tr>\n",
       "    <tr>\n",
       "      <th>103</th>\n",
       "      <td>Cnidaria</td>\n",
       "      <td>6</td>\n",
       "      <td>0.030992</td>\n",
       "      <td>1</td>\n",
       "      <td>0.001082</td>\n",
       "      <td>28.644731</td>\n",
       "    </tr>\n",
       "    <tr>\n",
       "      <th>271</th>\n",
       "      <td>Paenibacillus</td>\n",
       "      <td>6</td>\n",
       "      <td>0.030992</td>\n",
       "      <td>1</td>\n",
       "      <td>0.001082</td>\n",
       "      <td>28.644731</td>\n",
       "    </tr>\n",
       "    <tr>\n",
       "      <th>232</th>\n",
       "      <td>Neoptera</td>\n",
       "      <td>7</td>\n",
       "      <td>0.036157</td>\n",
       "      <td>1</td>\n",
       "      <td>0.001082</td>\n",
       "      <td>33.418853</td>\n",
       "    </tr>\n",
       "    <tr>\n",
       "      <th>277</th>\n",
       "      <td>Pelagibacteraceae bacterium ETNP-OMZ-SAG-A6</td>\n",
       "      <td>120</td>\n",
       "      <td>0.619835</td>\n",
       "      <td>17</td>\n",
       "      <td>0.018393</td>\n",
       "      <td>33.699684</td>\n",
       "    </tr>\n",
       "    <tr>\n",
       "      <th>435</th>\n",
       "      <td>unclassified Chloroflexi (miscellaneous)</td>\n",
       "      <td>37</td>\n",
       "      <td>0.191116</td>\n",
       "      <td>5</td>\n",
       "      <td>0.005410</td>\n",
       "      <td>35.328502</td>\n",
       "    </tr>\n",
       "    <tr>\n",
       "      <th>381</th>\n",
       "      <td>Thermomicrobia</td>\n",
       "      <td>23</td>\n",
       "      <td>0.118802</td>\n",
       "      <td>3</td>\n",
       "      <td>0.003246</td>\n",
       "      <td>36.601601</td>\n",
       "    </tr>\n",
       "    <tr>\n",
       "      <th>63</th>\n",
       "      <td>Candidatus Aquiluna sp. UB-MaderosW2red</td>\n",
       "      <td>16</td>\n",
       "      <td>0.082645</td>\n",
       "      <td>2</td>\n",
       "      <td>0.002164</td>\n",
       "      <td>38.192975</td>\n",
       "    </tr>\n",
       "    <tr>\n",
       "      <th>386</th>\n",
       "      <td>Trypanosomatidae</td>\n",
       "      <td>24</td>\n",
       "      <td>0.123967</td>\n",
       "      <td>3</td>\n",
       "      <td>0.003246</td>\n",
       "      <td>38.192975</td>\n",
       "    </tr>\n",
       "    <tr>\n",
       "      <th>102</th>\n",
       "      <td>Clupeocephala</td>\n",
       "      <td>8</td>\n",
       "      <td>0.041322</td>\n",
       "      <td>1</td>\n",
       "      <td>0.001082</td>\n",
       "      <td>38.192975</td>\n",
       "    </tr>\n",
       "    <tr>\n",
       "      <th>52</th>\n",
       "      <td>Bodo saltans</td>\n",
       "      <td>91</td>\n",
       "      <td>0.470041</td>\n",
       "      <td>11</td>\n",
       "      <td>0.011901</td>\n",
       "      <td>39.495008</td>\n",
       "    </tr>\n",
       "    <tr>\n",
       "      <th>67</th>\n",
       "      <td>Candidatus Entotheonella</td>\n",
       "      <td>34</td>\n",
       "      <td>0.175620</td>\n",
       "      <td>4</td>\n",
       "      <td>0.004328</td>\n",
       "      <td>40.580036</td>\n",
       "    </tr>\n",
       "    <tr>\n",
       "      <th>130</th>\n",
       "      <td>Deuterostomia</td>\n",
       "      <td>18</td>\n",
       "      <td>0.092975</td>\n",
       "      <td>2</td>\n",
       "      <td>0.002164</td>\n",
       "      <td>42.967097</td>\n",
       "    </tr>\n",
       "    <tr>\n",
       "      <th>379</th>\n",
       "      <td>Thaumarchaeota</td>\n",
       "      <td>45</td>\n",
       "      <td>0.232438</td>\n",
       "      <td>5</td>\n",
       "      <td>0.005410</td>\n",
       "      <td>42.967097</td>\n",
       "    </tr>\n",
       "    <tr>\n",
       "      <th>262</th>\n",
       "      <td>Ostreococcus</td>\n",
       "      <td>247</td>\n",
       "      <td>1.275826</td>\n",
       "      <td>27</td>\n",
       "      <td>0.029212</td>\n",
       "      <td>43.674374</td>\n",
       "    </tr>\n",
       "    <tr>\n",
       "      <th>263</th>\n",
       "      <td>Ostreococcus lucimarinus CCE9901</td>\n",
       "      <td>232</td>\n",
       "      <td>1.198347</td>\n",
       "      <td>23</td>\n",
       "      <td>0.024885</td>\n",
       "      <td>48.156360</td>\n",
       "    </tr>\n",
       "    <tr>\n",
       "      <th>225</th>\n",
       "      <td>Micromonas commoda</td>\n",
       "      <td>1948</td>\n",
       "      <td>10.061983</td>\n",
       "      <td>185</td>\n",
       "      <td>0.200158</td>\n",
       "      <td>50.270213</td>\n",
       "    </tr>\n",
       "    <tr>\n",
       "      <th>68</th>\n",
       "      <td>Candidatus Entotheonella sp. TSY1</td>\n",
       "      <td>118</td>\n",
       "      <td>0.609504</td>\n",
       "      <td>10</td>\n",
       "      <td>0.010819</td>\n",
       "      <td>56.334638</td>\n",
       "    </tr>\n",
       "    <tr>\n",
       "      <th>346</th>\n",
       "      <td>Salpingoeca rosetta</td>\n",
       "      <td>25</td>\n",
       "      <td>0.129132</td>\n",
       "      <td>2</td>\n",
       "      <td>0.002164</td>\n",
       "      <td>59.676524</td>\n",
       "    </tr>\n",
       "    <tr>\n",
       "      <th>126</th>\n",
       "      <td>Dehalococcoidia</td>\n",
       "      <td>16</td>\n",
       "      <td>0.082645</td>\n",
       "      <td>1</td>\n",
       "      <td>0.001082</td>\n",
       "      <td>76.385950</td>\n",
       "    </tr>\n",
       "    <tr>\n",
       "      <th>224</th>\n",
       "      <td>Micromonas</td>\n",
       "      <td>1950</td>\n",
       "      <td>10.072314</td>\n",
       "      <td>108</td>\n",
       "      <td>0.116849</td>\n",
       "      <td>86.199423</td>\n",
       "    </tr>\n",
       "    <tr>\n",
       "      <th>226</th>\n",
       "      <td>Micromonas pusilla CCMP1545</td>\n",
       "      <td>593</td>\n",
       "      <td>3.063017</td>\n",
       "      <td>30</td>\n",
       "      <td>0.032458</td>\n",
       "      <td>94.368476</td>\n",
       "    </tr>\n",
       "    <tr>\n",
       "      <th>461</th>\n",
       "      <td>uncultured bacterium HF4000_05M23</td>\n",
       "      <td>90</td>\n",
       "      <td>0.464876</td>\n",
       "      <td>4</td>\n",
       "      <td>0.004328</td>\n",
       "      <td>107.417743</td>\n",
       "    </tr>\n",
       "    <tr>\n",
       "      <th>395</th>\n",
       "      <td>Vitrella brassicaformis CCMP3155</td>\n",
       "      <td>889</td>\n",
       "      <td>4.591942</td>\n",
       "      <td>15</td>\n",
       "      <td>0.016229</td>\n",
       "      <td>282.946291</td>\n",
       "    </tr>\n",
       "    <tr>\n",
       "      <th>194</th>\n",
       "      <td>Kinetoplastida</td>\n",
       "      <td>97</td>\n",
       "      <td>0.501033</td>\n",
       "      <td>1</td>\n",
       "      <td>0.001082</td>\n",
       "      <td>463.089824</td>\n",
       "    </tr>\n",
       "  </tbody>\n",
       "</table>\n",
       "<p>467 rows × 6 columns</p>\n",
       "</div>"
      ],
      "text/plain": [
       "                                        tax_name   0_x  percent_99   0_y  \\\n",
       "325           Rhodobacterales bacterium HTCC2255     2    0.010331  1225   \n",
       "323               Rhodobacteraceae bacterium SB2     1    0.005165   310   \n",
       "444                unclassified Nitrosomonadales     1    0.005165   249   \n",
       "251                            Oceanospirillales     2    0.010331   366   \n",
       "293                               Porticoccaceae     1    0.005165   181   \n",
       "370                              Synechococcales     2    0.010331   362   \n",
       "388                              Verrucomicrobia     2    0.010331   345   \n",
       "324                              Rhodobacterales     4    0.020661   659   \n",
       "82              Candidatus Thioglobus singularis     7    0.036157  1100   \n",
       "332                               SAR116 cluster     1    0.005165   145   \n",
       "440             unclassified Gammaproteobacteria     3    0.015496   416   \n",
       "288                      Planktomarina temperata     6    0.030992   732   \n",
       "294            Porticoccus hydrocarbonoclasticus     1    0.005165   118   \n",
       "2                                  Acinetobacter     8    0.041322   920   \n",
       "371                                Synechococcus     8    0.041322   871   \n",
       "256                         Oleispira antarctica     1    0.005165    98   \n",
       "202                       Limnobacter sp. MED105     1    0.005165    93   \n",
       "161                                      Formosa     1    0.005165    90   \n",
       "307                              Pseudomonadales    17    0.087810  1513   \n",
       "245       OM182 bacterium BACL3 MAG-120507-bin80     1    0.005165    76   \n",
       "311                      Pseudomonas aestusnigri     6    0.030992   449   \n",
       "104                                      Cobetia     8    0.041322   591   \n",
       "342                                  SAR92 clade     2    0.010331   131   \n",
       "195                  Leeuwenhoekiella blandensis     1    0.005165    64   \n",
       "15                        Alteromonas lipolytica     8    0.041322   496   \n",
       "447                  unclassified Porticoccaceae    53    0.273760  3208   \n",
       "7                   Algoriphagus ornithinivorans     6    0.030992   362   \n",
       "341      SAR92 bacterium BACL26 MAG-121220-bin70    11    0.056818   620   \n",
       "363                       Spongiibacter tropicus     1    0.005165    56   \n",
       "362                                Spongiibacter     1    0.005165    53   \n",
       "..                                           ...   ...         ...   ...   \n",
       "211                                  Mamiellales   751    3.879132   145   \n",
       "199                                    Lewinella    16    0.082645     3   \n",
       "69             Candidatus Entotheonella sp. TSY2    28    0.144628     5   \n",
       "3                                     Actiniaria     6    0.030992     1   \n",
       "26                                    Aureimonas     6    0.030992     1   \n",
       "374                       Thalassiosira oceanica    12    0.061983     2   \n",
       "103                                     Cnidaria     6    0.030992     1   \n",
       "271                                Paenibacillus     6    0.030992     1   \n",
       "232                                     Neoptera     7    0.036157     1   \n",
       "277  Pelagibacteraceae bacterium ETNP-OMZ-SAG-A6   120    0.619835    17   \n",
       "435     unclassified Chloroflexi (miscellaneous)    37    0.191116     5   \n",
       "381                               Thermomicrobia    23    0.118802     3   \n",
       "63       Candidatus Aquiluna sp. UB-MaderosW2red    16    0.082645     2   \n",
       "386                             Trypanosomatidae    24    0.123967     3   \n",
       "102                                Clupeocephala     8    0.041322     1   \n",
       "52                                  Bodo saltans    91    0.470041    11   \n",
       "67                      Candidatus Entotheonella    34    0.175620     4   \n",
       "130                                Deuterostomia    18    0.092975     2   \n",
       "379                               Thaumarchaeota    45    0.232438     5   \n",
       "262                                 Ostreococcus   247    1.275826    27   \n",
       "263             Ostreococcus lucimarinus CCE9901   232    1.198347    23   \n",
       "225                           Micromonas commoda  1948   10.061983   185   \n",
       "68             Candidatus Entotheonella sp. TSY1   118    0.609504    10   \n",
       "346                          Salpingoeca rosetta    25    0.129132     2   \n",
       "126                              Dehalococcoidia    16    0.082645     1   \n",
       "224                                   Micromonas  1950   10.072314   108   \n",
       "226                  Micromonas pusilla CCMP1545   593    3.063017    30   \n",
       "461            uncultured bacterium HF4000_05M23    90    0.464876     4   \n",
       "395             Vitrella brassicaformis CCMP3155   889    4.591942    15   \n",
       "194                               Kinetoplastida    97    0.501033     1   \n",
       "\n",
       "     percent_01    increase  \n",
       "325    1.325370    0.007794  \n",
       "323    0.335400    0.015400  \n",
       "444    0.269402    0.019173  \n",
       "251    0.395988    0.026088  \n",
       "293    0.195830    0.026376  \n",
       "370    0.391660    0.026376  \n",
       "388    0.373268    0.027676  \n",
       "324    0.712995    0.028978  \n",
       "82     1.190128    0.030381  \n",
       "332    0.156881    0.032925  \n",
       "440    0.450085    0.034429  \n",
       "288    0.791976    0.039132  \n",
       "294    0.127668    0.040459  \n",
       "2      0.995380    0.041514  \n",
       "371    0.942365    0.043850  \n",
       "256    0.106030    0.048716  \n",
       "202    0.100620    0.051335  \n",
       "161    0.097374    0.053046  \n",
       "307    1.636968    0.053642  \n",
       "245    0.082227    0.062817  \n",
       "311    0.485789    0.063797  \n",
       "104    0.639424    0.064624  \n",
       "342    0.141733    0.072887  \n",
       "195    0.069244    0.074596  \n",
       "15     0.536640    0.077002  \n",
       "447    3.470847    0.078874  \n",
       "7      0.391660    0.079129  \n",
       "341    0.670800    0.084702  \n",
       "363    0.060588    0.085252  \n",
       "362    0.057343    0.090078  \n",
       "..          ...         ...  \n",
       "211    0.156881   24.726659  \n",
       "199    0.003246   25.461983  \n",
       "69     0.005410   26.735083  \n",
       "3      0.001082   28.644731  \n",
       "26     0.001082   28.644731  \n",
       "374    0.002164   28.644731  \n",
       "103    0.001082   28.644731  \n",
       "271    0.001082   28.644731  \n",
       "232    0.001082   33.418853  \n",
       "277    0.018393   33.699684  \n",
       "435    0.005410   35.328502  \n",
       "381    0.003246   36.601601  \n",
       "63     0.002164   38.192975  \n",
       "386    0.003246   38.192975  \n",
       "102    0.001082   38.192975  \n",
       "52     0.011901   39.495008  \n",
       "67     0.004328   40.580036  \n",
       "130    0.002164   42.967097  \n",
       "379    0.005410   42.967097  \n",
       "262    0.029212   43.674374  \n",
       "263    0.024885   48.156360  \n",
       "225    0.200158   50.270213  \n",
       "68     0.010819   56.334638  \n",
       "346    0.002164   59.676524  \n",
       "126    0.001082   76.385950  \n",
       "224    0.116849   86.199423  \n",
       "226    0.032458   94.368476  \n",
       "461    0.004328  107.417743  \n",
       "395    0.016229  282.946291  \n",
       "194    0.001082  463.089824  \n",
       "\n",
       "[467 rows x 6 columns]"
      ]
     },
     "execution_count": 106,
     "metadata": {},
     "output_type": "execute_result"
    }
   ],
   "source": [
    "tax_name.sort_values(by='increase')"
   ]
  },
  {
   "cell_type": "code",
   "execution_count": 107,
   "metadata": {
    "collapsed": false
   },
   "outputs": [
    {
     "data": {
      "text/html": [
       "<div>\n",
       "<table border=\"1\" class=\"dataframe\">\n",
       "  <thead>\n",
       "    <tr style=\"text-align: right;\">\n",
       "      <th></th>\n",
       "      <th>tax_name</th>\n",
       "      <th>0_x</th>\n",
       "      <th>percent_99</th>\n",
       "      <th>0_y</th>\n",
       "      <th>percent_01</th>\n",
       "      <th>increase</th>\n",
       "    </tr>\n",
       "  </thead>\n",
       "  <tbody>\n",
       "    <tr>\n",
       "      <th>116</th>\n",
       "      <td>Cryomorphaceae bacterium BACL22 MAG-120619-bin32</td>\n",
       "      <td>1</td>\n",
       "      <td>0.005165</td>\n",
       "      <td>20</td>\n",
       "      <td>0.021639</td>\n",
       "      <td>0.238706</td>\n",
       "    </tr>\n",
       "    <tr>\n",
       "      <th>61</th>\n",
       "      <td>Candidatus Aquiluna</td>\n",
       "      <td>1</td>\n",
       "      <td>0.005165</td>\n",
       "      <td>7</td>\n",
       "      <td>0.007574</td>\n",
       "      <td>0.682017</td>\n",
       "    </tr>\n",
       "    <tr>\n",
       "      <th>193</th>\n",
       "      <td>Isochrysidales</td>\n",
       "      <td>1</td>\n",
       "      <td>0.005165</td>\n",
       "      <td>3</td>\n",
       "      <td>0.003246</td>\n",
       "      <td>1.591374</td>\n",
       "    </tr>\n",
       "    <tr>\n",
       "      <th>59</th>\n",
       "      <td>Campylobacterales</td>\n",
       "      <td>1</td>\n",
       "      <td>0.005165</td>\n",
       "      <td>4</td>\n",
       "      <td>0.004328</td>\n",
       "      <td>1.193530</td>\n",
       "    </tr>\n",
       "    <tr>\n",
       "      <th>92</th>\n",
       "      <td>Chlorophyceae</td>\n",
       "      <td>1</td>\n",
       "      <td>0.005165</td>\n",
       "      <td>1</td>\n",
       "      <td>0.001082</td>\n",
       "      <td>4.774122</td>\n",
       "    </tr>\n",
       "    <tr>\n",
       "      <th>195</th>\n",
       "      <td>Leeuwenhoekiella blandensis</td>\n",
       "      <td>1</td>\n",
       "      <td>0.005165</td>\n",
       "      <td>64</td>\n",
       "      <td>0.069244</td>\n",
       "      <td>0.074596</td>\n",
       "    </tr>\n",
       "    <tr>\n",
       "      <th>281</th>\n",
       "      <td>Peronosporales</td>\n",
       "      <td>1</td>\n",
       "      <td>0.005165</td>\n",
       "      <td>2</td>\n",
       "      <td>0.002164</td>\n",
       "      <td>2.387061</td>\n",
       "    </tr>\n",
       "    <tr>\n",
       "      <th>198</th>\n",
       "      <td>Lentisphaerae</td>\n",
       "      <td>1</td>\n",
       "      <td>0.005165</td>\n",
       "      <td>8</td>\n",
       "      <td>0.008655</td>\n",
       "      <td>0.596765</td>\n",
       "    </tr>\n",
       "    <tr>\n",
       "      <th>398</th>\n",
       "      <td>Xanthomonadaceae</td>\n",
       "      <td>1</td>\n",
       "      <td>0.005165</td>\n",
       "      <td>18</td>\n",
       "      <td>0.019475</td>\n",
       "      <td>0.265229</td>\n",
       "    </tr>\n",
       "    <tr>\n",
       "      <th>399</th>\n",
       "      <td>alpha proteobacterium HIMB114</td>\n",
       "      <td>1</td>\n",
       "      <td>0.005165</td>\n",
       "      <td>11</td>\n",
       "      <td>0.011901</td>\n",
       "      <td>0.434011</td>\n",
       "    </tr>\n",
       "    <tr>\n",
       "      <th>201</th>\n",
       "      <td>Limnobacter sp. CACIAM 66H1</td>\n",
       "      <td>1</td>\n",
       "      <td>0.005165</td>\n",
       "      <td>47</td>\n",
       "      <td>0.050851</td>\n",
       "      <td>0.101577</td>\n",
       "    </tr>\n",
       "    <tr>\n",
       "      <th>202</th>\n",
       "      <td>Limnobacter sp. MED105</td>\n",
       "      <td>1</td>\n",
       "      <td>0.005165</td>\n",
       "      <td>93</td>\n",
       "      <td>0.100620</td>\n",
       "      <td>0.051335</td>\n",
       "    </tr>\n",
       "    <tr>\n",
       "      <th>203</th>\n",
       "      <td>Lishizhenia tianjinensis</td>\n",
       "      <td>1</td>\n",
       "      <td>0.005165</td>\n",
       "      <td>6</td>\n",
       "      <td>0.006492</td>\n",
       "      <td>0.795687</td>\n",
       "    </tr>\n",
       "    <tr>\n",
       "      <th>439</th>\n",
       "      <td>unclassified Flavobacteriales (miscellaneous)</td>\n",
       "      <td>1</td>\n",
       "      <td>0.005165</td>\n",
       "      <td>2</td>\n",
       "      <td>0.002164</td>\n",
       "      <td>2.387061</td>\n",
       "    </tr>\n",
       "    <tr>\n",
       "      <th>293</th>\n",
       "      <td>Porticoccaceae</td>\n",
       "      <td>1</td>\n",
       "      <td>0.005165</td>\n",
       "      <td>181</td>\n",
       "      <td>0.195830</td>\n",
       "      <td>0.026376</td>\n",
       "    </tr>\n",
       "    <tr>\n",
       "      <th>207</th>\n",
       "      <td>Luminiphilus syltensis</td>\n",
       "      <td>1</td>\n",
       "      <td>0.005165</td>\n",
       "      <td>6</td>\n",
       "      <td>0.006492</td>\n",
       "      <td>0.795687</td>\n",
       "    </tr>\n",
       "    <tr>\n",
       "      <th>209</th>\n",
       "      <td>Lutibacter profundi</td>\n",
       "      <td>1</td>\n",
       "      <td>0.005165</td>\n",
       "      <td>5</td>\n",
       "      <td>0.005410</td>\n",
       "      <td>0.954824</td>\n",
       "    </tr>\n",
       "    <tr>\n",
       "      <th>143</th>\n",
       "      <td>Erythrobacter sp. HI00D59</td>\n",
       "      <td>1</td>\n",
       "      <td>0.005165</td>\n",
       "      <td>10</td>\n",
       "      <td>0.010819</td>\n",
       "      <td>0.477412</td>\n",
       "    </tr>\n",
       "    <tr>\n",
       "      <th>318</th>\n",
       "      <td>Rheinheimera baltica</td>\n",
       "      <td>1</td>\n",
       "      <td>0.005165</td>\n",
       "      <td>12</td>\n",
       "      <td>0.012983</td>\n",
       "      <td>0.397843</td>\n",
       "    </tr>\n",
       "    <tr>\n",
       "      <th>444</th>\n",
       "      <td>unclassified Nitrosomonadales</td>\n",
       "      <td>1</td>\n",
       "      <td>0.005165</td>\n",
       "      <td>249</td>\n",
       "      <td>0.269402</td>\n",
       "      <td>0.019173</td>\n",
       "    </tr>\n",
       "    <tr>\n",
       "      <th>191</th>\n",
       "      <td>Ilumatobacter</td>\n",
       "      <td>1</td>\n",
       "      <td>0.005165</td>\n",
       "      <td>17</td>\n",
       "      <td>0.018393</td>\n",
       "      <td>0.280831</td>\n",
       "    </tr>\n",
       "    <tr>\n",
       "      <th>316</th>\n",
       "      <td>Pseudovibrio</td>\n",
       "      <td>1</td>\n",
       "      <td>0.005165</td>\n",
       "      <td>12</td>\n",
       "      <td>0.012983</td>\n",
       "      <td>0.397843</td>\n",
       "    </tr>\n",
       "    <tr>\n",
       "      <th>161</th>\n",
       "      <td>Formosa</td>\n",
       "      <td>1</td>\n",
       "      <td>0.005165</td>\n",
       "      <td>90</td>\n",
       "      <td>0.097374</td>\n",
       "      <td>0.053046</td>\n",
       "    </tr>\n",
       "    <tr>\n",
       "      <th>88</th>\n",
       "      <td>Cetartiodactyla</td>\n",
       "      <td>1</td>\n",
       "      <td>0.005165</td>\n",
       "      <td>1</td>\n",
       "      <td>0.001082</td>\n",
       "      <td>4.774122</td>\n",
       "    </tr>\n",
       "    <tr>\n",
       "      <th>81</th>\n",
       "      <td>Candidatus Thioglobus</td>\n",
       "      <td>1</td>\n",
       "      <td>0.005165</td>\n",
       "      <td>27</td>\n",
       "      <td>0.029212</td>\n",
       "      <td>0.176819</td>\n",
       "    </tr>\n",
       "    <tr>\n",
       "      <th>80</th>\n",
       "      <td>Candidatus Thiodiazotropha endolucinida</td>\n",
       "      <td>1</td>\n",
       "      <td>0.005165</td>\n",
       "      <td>15</td>\n",
       "      <td>0.016229</td>\n",
       "      <td>0.318275</td>\n",
       "    </tr>\n",
       "    <tr>\n",
       "      <th>79</th>\n",
       "      <td>Candidatus Thalassoarchaea marina</td>\n",
       "      <td>1</td>\n",
       "      <td>0.005165</td>\n",
       "      <td>11</td>\n",
       "      <td>0.011901</td>\n",
       "      <td>0.434011</td>\n",
       "    </tr>\n",
       "    <tr>\n",
       "      <th>382</th>\n",
       "      <td>Thioalkalivibrio</td>\n",
       "      <td>1</td>\n",
       "      <td>0.005165</td>\n",
       "      <td>1</td>\n",
       "      <td>0.001082</td>\n",
       "      <td>4.774122</td>\n",
       "    </tr>\n",
       "    <tr>\n",
       "      <th>167</th>\n",
       "      <td>Gammaproteobacteria bacterium MOLA455</td>\n",
       "      <td>1</td>\n",
       "      <td>0.005165</td>\n",
       "      <td>26</td>\n",
       "      <td>0.028130</td>\n",
       "      <td>0.183620</td>\n",
       "    </tr>\n",
       "    <tr>\n",
       "      <th>323</th>\n",
       "      <td>Rhodobacteraceae bacterium SB2</td>\n",
       "      <td>1</td>\n",
       "      <td>0.005165</td>\n",
       "      <td>310</td>\n",
       "      <td>0.335400</td>\n",
       "      <td>0.015400</td>\n",
       "    </tr>\n",
       "    <tr>\n",
       "      <th>...</th>\n",
       "      <td>...</td>\n",
       "      <td>...</td>\n",
       "      <td>...</td>\n",
       "      <td>...</td>\n",
       "      <td>...</td>\n",
       "      <td>...</td>\n",
       "    </tr>\n",
       "    <tr>\n",
       "      <th>194</th>\n",
       "      <td>Kinetoplastida</td>\n",
       "      <td>97</td>\n",
       "      <td>0.501033</td>\n",
       "      <td>1</td>\n",
       "      <td>0.001082</td>\n",
       "      <td>463.089824</td>\n",
       "    </tr>\n",
       "    <tr>\n",
       "      <th>178</th>\n",
       "      <td>Haptophyceae</td>\n",
       "      <td>105</td>\n",
       "      <td>0.542355</td>\n",
       "      <td>277</td>\n",
       "      <td>0.299696</td>\n",
       "      <td>1.809685</td>\n",
       "    </tr>\n",
       "    <tr>\n",
       "      <th>16</th>\n",
       "      <td>Alteromonas macleodii</td>\n",
       "      <td>106</td>\n",
       "      <td>0.547521</td>\n",
       "      <td>145</td>\n",
       "      <td>0.156881</td>\n",
       "      <td>3.490048</td>\n",
       "    </tr>\n",
       "    <tr>\n",
       "      <th>68</th>\n",
       "      <td>Candidatus Entotheonella sp. TSY1</td>\n",
       "      <td>118</td>\n",
       "      <td>0.609504</td>\n",
       "      <td>10</td>\n",
       "      <td>0.010819</td>\n",
       "      <td>56.334638</td>\n",
       "    </tr>\n",
       "    <tr>\n",
       "      <th>277</th>\n",
       "      <td>Pelagibacteraceae bacterium ETNP-OMZ-SAG-A6</td>\n",
       "      <td>120</td>\n",
       "      <td>0.619835</td>\n",
       "      <td>17</td>\n",
       "      <td>0.018393</td>\n",
       "      <td>33.699684</td>\n",
       "    </tr>\n",
       "    <tr>\n",
       "      <th>156</th>\n",
       "      <td>Flavobacteriaceae</td>\n",
       "      <td>123</td>\n",
       "      <td>0.635331</td>\n",
       "      <td>1614</td>\n",
       "      <td>1.746243</td>\n",
       "      <td>0.363827</td>\n",
       "    </tr>\n",
       "    <tr>\n",
       "      <th>100</th>\n",
       "      <td>Chrysochromulina sp. CCMP291</td>\n",
       "      <td>125</td>\n",
       "      <td>0.645661</td>\n",
       "      <td>103</td>\n",
       "      <td>0.111439</td>\n",
       "      <td>5.793837</td>\n",
       "    </tr>\n",
       "    <tr>\n",
       "      <th>138</th>\n",
       "      <td>Emiliania huxleyi CCMP1516</td>\n",
       "      <td>133</td>\n",
       "      <td>0.686983</td>\n",
       "      <td>84</td>\n",
       "      <td>0.090883</td>\n",
       "      <td>7.559026</td>\n",
       "    </tr>\n",
       "    <tr>\n",
       "      <th>264</th>\n",
       "      <td>Ostreococcus tauri</td>\n",
       "      <td>155</td>\n",
       "      <td>0.800620</td>\n",
       "      <td>68</td>\n",
       "      <td>0.073572</td>\n",
       "      <td>10.882190</td>\n",
       "    </tr>\n",
       "    <tr>\n",
       "      <th>405</th>\n",
       "      <td>environmental samples</td>\n",
       "      <td>161</td>\n",
       "      <td>0.831612</td>\n",
       "      <td>372</td>\n",
       "      <td>0.402480</td>\n",
       "      <td>2.066219</td>\n",
       "    </tr>\n",
       "    <tr>\n",
       "      <th>394</th>\n",
       "      <td>Viridiplantae</td>\n",
       "      <td>198</td>\n",
       "      <td>1.022727</td>\n",
       "      <td>225</td>\n",
       "      <td>0.243435</td>\n",
       "      <td>4.201227</td>\n",
       "    </tr>\n",
       "    <tr>\n",
       "      <th>38</th>\n",
       "      <td>Bacteroidetes</td>\n",
       "      <td>215</td>\n",
       "      <td>1.110537</td>\n",
       "      <td>3360</td>\n",
       "      <td>3.635301</td>\n",
       "      <td>0.305487</td>\n",
       "    </tr>\n",
       "    <tr>\n",
       "      <th>268</th>\n",
       "      <td>Oxytricha trifallax</td>\n",
       "      <td>220</td>\n",
       "      <td>1.136364</td>\n",
       "      <td>318</td>\n",
       "      <td>0.344055</td>\n",
       "      <td>3.302852</td>\n",
       "    </tr>\n",
       "    <tr>\n",
       "      <th>263</th>\n",
       "      <td>Ostreococcus lucimarinus CCE9901</td>\n",
       "      <td>232</td>\n",
       "      <td>1.198347</td>\n",
       "      <td>23</td>\n",
       "      <td>0.024885</td>\n",
       "      <td>48.156360</td>\n",
       "    </tr>\n",
       "    <tr>\n",
       "      <th>463</th>\n",
       "      <td>uncultured marine group II euryarchaeote</td>\n",
       "      <td>235</td>\n",
       "      <td>1.213843</td>\n",
       "      <td>292</td>\n",
       "      <td>0.315925</td>\n",
       "      <td>3.842187</td>\n",
       "    </tr>\n",
       "    <tr>\n",
       "      <th>262</th>\n",
       "      <td>Ostreococcus</td>\n",
       "      <td>247</td>\n",
       "      <td>1.275826</td>\n",
       "      <td>27</td>\n",
       "      <td>0.029212</td>\n",
       "      <td>43.674374</td>\n",
       "    </tr>\n",
       "    <tr>\n",
       "      <th>299</th>\n",
       "      <td>Proteobacteria</td>\n",
       "      <td>312</td>\n",
       "      <td>1.611570</td>\n",
       "      <td>3574</td>\n",
       "      <td>3.866835</td>\n",
       "      <td>0.416767</td>\n",
       "    </tr>\n",
       "    <tr>\n",
       "      <th>404</th>\n",
       "      <td>cellular organisms</td>\n",
       "      <td>349</td>\n",
       "      <td>1.802686</td>\n",
       "      <td>2782</td>\n",
       "      <td>3.009943</td>\n",
       "      <td>0.598910</td>\n",
       "    </tr>\n",
       "    <tr>\n",
       "      <th>166</th>\n",
       "      <td>Gammaproteobacteria</td>\n",
       "      <td>364</td>\n",
       "      <td>1.880165</td>\n",
       "      <td>8771</td>\n",
       "      <td>9.489651</td>\n",
       "      <td>0.198128</td>\n",
       "    </tr>\n",
       "    <tr>\n",
       "      <th>43</th>\n",
       "      <td>Bathycoccus prasinos</td>\n",
       "      <td>374</td>\n",
       "      <td>1.931818</td>\n",
       "      <td>163</td>\n",
       "      <td>0.176355</td>\n",
       "      <td>10.954120</td>\n",
       "    </tr>\n",
       "    <tr>\n",
       "      <th>12</th>\n",
       "      <td>Alteromonas</td>\n",
       "      <td>440</td>\n",
       "      <td>2.272727</td>\n",
       "      <td>2111</td>\n",
       "      <td>2.283965</td>\n",
       "      <td>0.995080</td>\n",
       "    </tr>\n",
       "    <tr>\n",
       "      <th>226</th>\n",
       "      <td>Micromonas pusilla CCMP1545</td>\n",
       "      <td>593</td>\n",
       "      <td>3.063017</td>\n",
       "      <td>30</td>\n",
       "      <td>0.032458</td>\n",
       "      <td>94.368476</td>\n",
       "    </tr>\n",
       "    <tr>\n",
       "      <th>145</th>\n",
       "      <td>Eukaryota</td>\n",
       "      <td>606</td>\n",
       "      <td>3.130165</td>\n",
       "      <td>2894</td>\n",
       "      <td>3.131120</td>\n",
       "      <td>0.999695</td>\n",
       "    </tr>\n",
       "    <tr>\n",
       "      <th>211</th>\n",
       "      <td>Mamiellales</td>\n",
       "      <td>751</td>\n",
       "      <td>3.879132</td>\n",
       "      <td>145</td>\n",
       "      <td>0.156881</td>\n",
       "      <td>24.726659</td>\n",
       "    </tr>\n",
       "    <tr>\n",
       "      <th>395</th>\n",
       "      <td>Vitrella brassicaformis CCMP3155</td>\n",
       "      <td>889</td>\n",
       "      <td>4.591942</td>\n",
       "      <td>15</td>\n",
       "      <td>0.016229</td>\n",
       "      <td>282.946291</td>\n",
       "    </tr>\n",
       "    <tr>\n",
       "      <th>269</th>\n",
       "      <td>Oxytrichidae</td>\n",
       "      <td>904</td>\n",
       "      <td>4.669421</td>\n",
       "      <td>627</td>\n",
       "      <td>0.678373</td>\n",
       "      <td>6.883263</td>\n",
       "    </tr>\n",
       "    <tr>\n",
       "      <th>34</th>\n",
       "      <td>Bacteria</td>\n",
       "      <td>970</td>\n",
       "      <td>5.010331</td>\n",
       "      <td>7468</td>\n",
       "      <td>8.079890</td>\n",
       "      <td>0.620099</td>\n",
       "    </tr>\n",
       "    <tr>\n",
       "      <th>420</th>\n",
       "      <td>root</td>\n",
       "      <td>1144</td>\n",
       "      <td>5.909091</td>\n",
       "      <td>786</td>\n",
       "      <td>0.850401</td>\n",
       "      <td>6.948595</td>\n",
       "    </tr>\n",
       "    <tr>\n",
       "      <th>225</th>\n",
       "      <td>Micromonas commoda</td>\n",
       "      <td>1948</td>\n",
       "      <td>10.061983</td>\n",
       "      <td>185</td>\n",
       "      <td>0.200158</td>\n",
       "      <td>50.270213</td>\n",
       "    </tr>\n",
       "    <tr>\n",
       "      <th>224</th>\n",
       "      <td>Micromonas</td>\n",
       "      <td>1950</td>\n",
       "      <td>10.072314</td>\n",
       "      <td>108</td>\n",
       "      <td>0.116849</td>\n",
       "      <td>86.199423</td>\n",
       "    </tr>\n",
       "  </tbody>\n",
       "</table>\n",
       "<p>467 rows × 6 columns</p>\n",
       "</div>"
      ],
      "text/plain": [
       "                                             tax_name   0_x  percent_99   0_y  \\\n",
       "116  Cryomorphaceae bacterium BACL22 MAG-120619-bin32     1    0.005165    20   \n",
       "61                                Candidatus Aquiluna     1    0.005165     7   \n",
       "193                                    Isochrysidales     1    0.005165     3   \n",
       "59                                  Campylobacterales     1    0.005165     4   \n",
       "92                                      Chlorophyceae     1    0.005165     1   \n",
       "195                       Leeuwenhoekiella blandensis     1    0.005165    64   \n",
       "281                                    Peronosporales     1    0.005165     2   \n",
       "198                                     Lentisphaerae     1    0.005165     8   \n",
       "398                                  Xanthomonadaceae     1    0.005165    18   \n",
       "399                     alpha proteobacterium HIMB114     1    0.005165    11   \n",
       "201                       Limnobacter sp. CACIAM 66H1     1    0.005165    47   \n",
       "202                            Limnobacter sp. MED105     1    0.005165    93   \n",
       "203                          Lishizhenia tianjinensis     1    0.005165     6   \n",
       "439     unclassified Flavobacteriales (miscellaneous)     1    0.005165     2   \n",
       "293                                    Porticoccaceae     1    0.005165   181   \n",
       "207                            Luminiphilus syltensis     1    0.005165     6   \n",
       "209                               Lutibacter profundi     1    0.005165     5   \n",
       "143                         Erythrobacter sp. HI00D59     1    0.005165    10   \n",
       "318                              Rheinheimera baltica     1    0.005165    12   \n",
       "444                     unclassified Nitrosomonadales     1    0.005165   249   \n",
       "191                                     Ilumatobacter     1    0.005165    17   \n",
       "316                                      Pseudovibrio     1    0.005165    12   \n",
       "161                                           Formosa     1    0.005165    90   \n",
       "88                                    Cetartiodactyla     1    0.005165     1   \n",
       "81                              Candidatus Thioglobus     1    0.005165    27   \n",
       "80            Candidatus Thiodiazotropha endolucinida     1    0.005165    15   \n",
       "79                  Candidatus Thalassoarchaea marina     1    0.005165    11   \n",
       "382                                  Thioalkalivibrio     1    0.005165     1   \n",
       "167             Gammaproteobacteria bacterium MOLA455     1    0.005165    26   \n",
       "323                    Rhodobacteraceae bacterium SB2     1    0.005165   310   \n",
       "..                                                ...   ...         ...   ...   \n",
       "194                                    Kinetoplastida    97    0.501033     1   \n",
       "178                                      Haptophyceae   105    0.542355   277   \n",
       "16                              Alteromonas macleodii   106    0.547521   145   \n",
       "68                  Candidatus Entotheonella sp. TSY1   118    0.609504    10   \n",
       "277       Pelagibacteraceae bacterium ETNP-OMZ-SAG-A6   120    0.619835    17   \n",
       "156                                 Flavobacteriaceae   123    0.635331  1614   \n",
       "100                      Chrysochromulina sp. CCMP291   125    0.645661   103   \n",
       "138                        Emiliania huxleyi CCMP1516   133    0.686983    84   \n",
       "264                                Ostreococcus tauri   155    0.800620    68   \n",
       "405                             environmental samples   161    0.831612   372   \n",
       "394                                     Viridiplantae   198    1.022727   225   \n",
       "38                                      Bacteroidetes   215    1.110537  3360   \n",
       "268                               Oxytricha trifallax   220    1.136364   318   \n",
       "263                  Ostreococcus lucimarinus CCE9901   232    1.198347    23   \n",
       "463          uncultured marine group II euryarchaeote   235    1.213843   292   \n",
       "262                                      Ostreococcus   247    1.275826    27   \n",
       "299                                    Proteobacteria   312    1.611570  3574   \n",
       "404                                cellular organisms   349    1.802686  2782   \n",
       "166                               Gammaproteobacteria   364    1.880165  8771   \n",
       "43                               Bathycoccus prasinos   374    1.931818   163   \n",
       "12                                        Alteromonas   440    2.272727  2111   \n",
       "226                       Micromonas pusilla CCMP1545   593    3.063017    30   \n",
       "145                                         Eukaryota   606    3.130165  2894   \n",
       "211                                       Mamiellales   751    3.879132   145   \n",
       "395                  Vitrella brassicaformis CCMP3155   889    4.591942    15   \n",
       "269                                      Oxytrichidae   904    4.669421   627   \n",
       "34                                           Bacteria   970    5.010331  7468   \n",
       "420                                              root  1144    5.909091   786   \n",
       "225                                Micromonas commoda  1948   10.061983   185   \n",
       "224                                        Micromonas  1950   10.072314   108   \n",
       "\n",
       "     percent_01    increase  \n",
       "116    0.021639    0.238706  \n",
       "61     0.007574    0.682017  \n",
       "193    0.003246    1.591374  \n",
       "59     0.004328    1.193530  \n",
       "92     0.001082    4.774122  \n",
       "195    0.069244    0.074596  \n",
       "281    0.002164    2.387061  \n",
       "198    0.008655    0.596765  \n",
       "398    0.019475    0.265229  \n",
       "399    0.011901    0.434011  \n",
       "201    0.050851    0.101577  \n",
       "202    0.100620    0.051335  \n",
       "203    0.006492    0.795687  \n",
       "439    0.002164    2.387061  \n",
       "293    0.195830    0.026376  \n",
       "207    0.006492    0.795687  \n",
       "209    0.005410    0.954824  \n",
       "143    0.010819    0.477412  \n",
       "318    0.012983    0.397843  \n",
       "444    0.269402    0.019173  \n",
       "191    0.018393    0.280831  \n",
       "316    0.012983    0.397843  \n",
       "161    0.097374    0.053046  \n",
       "88     0.001082    4.774122  \n",
       "81     0.029212    0.176819  \n",
       "80     0.016229    0.318275  \n",
       "79     0.011901    0.434011  \n",
       "382    0.001082    4.774122  \n",
       "167    0.028130    0.183620  \n",
       "323    0.335400    0.015400  \n",
       "..          ...         ...  \n",
       "194    0.001082  463.089824  \n",
       "178    0.299696    1.809685  \n",
       "16     0.156881    3.490048  \n",
       "68     0.010819   56.334638  \n",
       "277    0.018393   33.699684  \n",
       "156    1.746243    0.363827  \n",
       "100    0.111439    5.793837  \n",
       "138    0.090883    7.559026  \n",
       "264    0.073572   10.882190  \n",
       "405    0.402480    2.066219  \n",
       "394    0.243435    4.201227  \n",
       "38     3.635301    0.305487  \n",
       "268    0.344055    3.302852  \n",
       "263    0.024885   48.156360  \n",
       "463    0.315925    3.842187  \n",
       "262    0.029212   43.674374  \n",
       "299    3.866835    0.416767  \n",
       "404    3.009943    0.598910  \n",
       "166    9.489651    0.198128  \n",
       "43     0.176355   10.954120  \n",
       "12     2.283965    0.995080  \n",
       "226    0.032458   94.368476  \n",
       "145    3.131120    0.999695  \n",
       "211    0.156881   24.726659  \n",
       "395    0.016229  282.946291  \n",
       "269    0.678373    6.883263  \n",
       "34     8.079890    0.620099  \n",
       "420    0.850401    6.948595  \n",
       "225    0.200158   50.270213  \n",
       "224    0.116849   86.199423  \n",
       "\n",
       "[467 rows x 6 columns]"
      ]
     },
     "execution_count": 107,
     "metadata": {},
     "output_type": "execute_result"
    }
   ],
   "source": [
    "tax_name.sort_values(by='percent_99')"
   ]
  },
  {
   "cell_type": "code",
   "execution_count": 108,
   "metadata": {
    "collapsed": false
   },
   "outputs": [
    {
     "data": {
      "text/plain": [
       "0.05109959107447597"
      ]
     },
     "execution_count": 108,
     "metadata": {},
     "output_type": "execute_result"
    }
   ],
   "source": [
    "1587.0/31057"
   ]
  },
  {
   "cell_type": "code",
   "execution_count": 109,
   "metadata": {
    "collapsed": false
   },
   "outputs": [
    {
     "data": {
      "text/plain": [
       "tax_id\n",
       "-2           128\n",
       " 1          1744\n",
       " 2          1587\n",
       " 22           15\n",
       " 29           16\n",
       " 85            6\n",
       " 126          11\n",
       " 137           1\n",
       " 146           2\n",
       " 226         731\n",
       " 237          12\n",
       " 286         178\n",
       " 287           5\n",
       " 316          13\n",
       " 356          43\n",
       " 444           4\n",
       " 469          17\n",
       " 506           1\n",
       " 520           6\n",
       " 531           5\n",
       " 543           5\n",
       " 562          14\n",
       " 641           9\n",
       " 657          15\n",
       " 662          20\n",
       " 766           6\n",
       " 838          11\n",
       " 933           4\n",
       " 958           8\n",
       " 963          12\n",
       "            ... \n",
       " 1783270      39\n",
       " 1783272      52\n",
       " 1783276       6\n",
       " 1794811      37\n",
       " 1797909       9\n",
       " 1798416       7\n",
       " 1798559       4\n",
       " 1802260       7\n",
       " 1802339       1\n",
       " 1802371      18\n",
       " 1805240       9\n",
       " 1812810       9\n",
       " 1813033       3\n",
       " 1817868      27\n",
       " 1822214       3\n",
       " 1822215       3\n",
       " 1822250     124\n",
       " 1822263       7\n",
       " 1853229       5\n",
       " 1853230      13\n",
       " 1853232       2\n",
       " 1855377      17\n",
       " 1856405      16\n",
       " 1868282       1\n",
       " 1873462      16\n",
       " 1890424       8\n",
       " 1890450       9\n",
       " 1891197       6\n",
       " 1891202     144\n",
       " 1904754       2\n",
       "dtype: int64"
      ]
     },
     "execution_count": 109,
     "metadata": {},
     "output_type": "execute_result"
    }
   ],
   "source": [
    "predict_nonvirus[predict_nonvirus.probability>0.9].groupby('tax_id').size()"
   ]
  },
  {
   "cell_type": "code",
   "execution_count": 110,
   "metadata": {
    "collapsed": false
   },
   "outputs": [
    {
     "data": {
      "text/plain": [
       "rank\n",
       "-2                   128\n",
       "206350                25\n",
       "383630                 3\n",
       "class               1224\n",
       "cohort                18\n",
       "family              2846\n",
       "genus               4812\n",
       "infraclass            31\n",
       "infraorder             1\n",
       "kingdom              330\n",
       "no rank             7827\n",
       "order               1750\n",
       "phylum              1642\n",
       "species             7654\n",
       "species group         13\n",
       "species subgroup       1\n",
       "subclass              49\n",
       "subfamily              4\n",
       "subkingdom             5\n",
       "suborder              20\n",
       "subphylum             47\n",
       "superclass             2\n",
       "superkingdom        2624\n",
       "superorder             1\n",
       "dtype: int64"
      ]
     },
     "execution_count": 110,
     "metadata": {},
     "output_type": "execute_result"
    }
   ],
   "source": [
    "predict_nonvirus[predict_nonvirus.probability>0.9].groupby('rank').size()"
   ]
  },
  {
   "cell_type": "code",
   "execution_count": 111,
   "metadata": {
    "collapsed": false
   },
   "outputs": [
    {
     "data": {
      "text/plain": [
       "rank\n",
       "-2                     45\n",
       "171193                  4\n",
       "206350                286\n",
       "383630                298\n",
       "class               16530\n",
       "cohort                  9\n",
       "family              11575\n",
       "genus               16108\n",
       "infraclass              9\n",
       "infraorder              1\n",
       "kingdom               280\n",
       "no rank             16132\n",
       "order                7635\n",
       "phylum               9990\n",
       "species             19646\n",
       "species group          94\n",
       "species subgroup        2\n",
       "subclass               44\n",
       "subfamily             109\n",
       "subkingdom              1\n",
       "suborder                5\n",
       "subphylum              50\n",
       "subspecies             10\n",
       "superclass              1\n",
       "superfamily             1\n",
       "superkingdom        12575\n",
       "dtype: int64"
      ]
     },
     "execution_count": 111,
     "metadata": {},
     "output_type": "execute_result"
    }
   ],
   "source": [
    "predict_nonvirus[predict_nonvirus.probability<0.1].groupby('rank').size()"
   ]
  },
  {
   "cell_type": "code",
   "execution_count": 112,
   "metadata": {
    "collapsed": true
   },
   "outputs": [],
   "source": [
    "predict_virus = sub_table.groupby(['label']).get_group(1.0)"
   ]
  },
  {
   "cell_type": "code",
   "execution_count": 113,
   "metadata": {
    "collapsed": false
   },
   "outputs": [
    {
     "ename": "IOError",
     "evalue": "File /Users/qingpeng/shred.fa.score does not exist",
     "output_type": "error",
     "traceback": [
      "\u001b[0;31m---------------------------------------------------------------------------\u001b[0m",
      "\u001b[0;31mIOError\u001b[0m                                   Traceback (most recent call last)",
      "\u001b[0;32m<ipython-input-113-7b7d6359a428>\u001b[0m in \u001b[0;36m<module>\u001b[0;34m()\u001b[0m\n\u001b[0;32m----> 1\u001b[0;31m \u001b[0mresult\u001b[0m \u001b[0;34m=\u001b[0m \u001b[0mpd\u001b[0m\u001b[0;34m.\u001b[0m\u001b[0mread_csv\u001b[0m\u001b[0;34m(\u001b[0m\u001b[0;34m'/Users/qingpeng/shred.fa.score'\u001b[0m\u001b[0;34m,\u001b[0m\u001b[0msep\u001b[0m\u001b[0;34m=\u001b[0m\u001b[0;34m' '\u001b[0m\u001b[0;34m,\u001b[0m\u001b[0mheader\u001b[0m\u001b[0;34m=\u001b[0m\u001b[0mNone\u001b[0m\u001b[0;34m,\u001b[0m\u001b[0mnames\u001b[0m\u001b[0;34m=\u001b[0m\u001b[0;34m[\u001b[0m\u001b[0;34m'probability'\u001b[0m\u001b[0;34m,\u001b[0m\u001b[0;34m'prediction'\u001b[0m\u001b[0;34m]\u001b[0m\u001b[0;34m)\u001b[0m\u001b[0;34m\u001b[0m\u001b[0m\n\u001b[0m",
      "\u001b[0;32m/Users/qingpeng/anaconda/lib/python2.7/site-packages/pandas/io/parsers.pyc\u001b[0m in \u001b[0;36mparser_f\u001b[0;34m(filepath_or_buffer, sep, delimiter, header, names, index_col, usecols, squeeze, prefix, mangle_dupe_cols, dtype, engine, converters, true_values, false_values, skipinitialspace, skiprows, nrows, na_values, keep_default_na, na_filter, verbose, skip_blank_lines, parse_dates, infer_datetime_format, keep_date_col, date_parser, dayfirst, iterator, chunksize, compression, thousands, decimal, lineterminator, quotechar, quoting, escapechar, comment, encoding, dialect, tupleize_cols, error_bad_lines, warn_bad_lines, skipfooter, skip_footer, doublequote, delim_whitespace, as_recarray, compact_ints, use_unsigned, low_memory, buffer_lines, memory_map, float_precision)\u001b[0m\n\u001b[1;32m    644\u001b[0m                     skip_blank_lines=skip_blank_lines)\n\u001b[1;32m    645\u001b[0m \u001b[0;34m\u001b[0m\u001b[0m\n\u001b[0;32m--> 646\u001b[0;31m         \u001b[0;32mreturn\u001b[0m \u001b[0m_read\u001b[0m\u001b[0;34m(\u001b[0m\u001b[0mfilepath_or_buffer\u001b[0m\u001b[0;34m,\u001b[0m \u001b[0mkwds\u001b[0m\u001b[0;34m)\u001b[0m\u001b[0;34m\u001b[0m\u001b[0m\n\u001b[0m\u001b[1;32m    647\u001b[0m \u001b[0;34m\u001b[0m\u001b[0m\n\u001b[1;32m    648\u001b[0m     \u001b[0mparser_f\u001b[0m\u001b[0;34m.\u001b[0m\u001b[0m__name__\u001b[0m \u001b[0;34m=\u001b[0m \u001b[0mname\u001b[0m\u001b[0;34m\u001b[0m\u001b[0m\n",
      "\u001b[0;32m/Users/qingpeng/anaconda/lib/python2.7/site-packages/pandas/io/parsers.pyc\u001b[0m in \u001b[0;36m_read\u001b[0;34m(filepath_or_buffer, kwds)\u001b[0m\n\u001b[1;32m    387\u001b[0m \u001b[0;34m\u001b[0m\u001b[0m\n\u001b[1;32m    388\u001b[0m     \u001b[0;31m# Create the parser.\u001b[0m\u001b[0;34m\u001b[0m\u001b[0;34m\u001b[0m\u001b[0m\n\u001b[0;32m--> 389\u001b[0;31m     \u001b[0mparser\u001b[0m \u001b[0;34m=\u001b[0m \u001b[0mTextFileReader\u001b[0m\u001b[0;34m(\u001b[0m\u001b[0mfilepath_or_buffer\u001b[0m\u001b[0;34m,\u001b[0m \u001b[0;34m**\u001b[0m\u001b[0mkwds\u001b[0m\u001b[0;34m)\u001b[0m\u001b[0;34m\u001b[0m\u001b[0m\n\u001b[0m\u001b[1;32m    390\u001b[0m \u001b[0;34m\u001b[0m\u001b[0m\n\u001b[1;32m    391\u001b[0m     \u001b[0;32mif\u001b[0m \u001b[0;34m(\u001b[0m\u001b[0mnrows\u001b[0m \u001b[0;32mis\u001b[0m \u001b[0;32mnot\u001b[0m \u001b[0mNone\u001b[0m\u001b[0;34m)\u001b[0m \u001b[0;32mand\u001b[0m \u001b[0;34m(\u001b[0m\u001b[0mchunksize\u001b[0m \u001b[0;32mis\u001b[0m \u001b[0;32mnot\u001b[0m \u001b[0mNone\u001b[0m\u001b[0;34m)\u001b[0m\u001b[0;34m:\u001b[0m\u001b[0;34m\u001b[0m\u001b[0m\n",
      "\u001b[0;32m/Users/qingpeng/anaconda/lib/python2.7/site-packages/pandas/io/parsers.pyc\u001b[0m in \u001b[0;36m__init__\u001b[0;34m(self, f, engine, **kwds)\u001b[0m\n\u001b[1;32m    728\u001b[0m             \u001b[0mself\u001b[0m\u001b[0;34m.\u001b[0m\u001b[0moptions\u001b[0m\u001b[0;34m[\u001b[0m\u001b[0;34m'has_index_names'\u001b[0m\u001b[0;34m]\u001b[0m \u001b[0;34m=\u001b[0m \u001b[0mkwds\u001b[0m\u001b[0;34m[\u001b[0m\u001b[0;34m'has_index_names'\u001b[0m\u001b[0;34m]\u001b[0m\u001b[0;34m\u001b[0m\u001b[0m\n\u001b[1;32m    729\u001b[0m \u001b[0;34m\u001b[0m\u001b[0m\n\u001b[0;32m--> 730\u001b[0;31m         \u001b[0mself\u001b[0m\u001b[0;34m.\u001b[0m\u001b[0m_make_engine\u001b[0m\u001b[0;34m(\u001b[0m\u001b[0mself\u001b[0m\u001b[0;34m.\u001b[0m\u001b[0mengine\u001b[0m\u001b[0;34m)\u001b[0m\u001b[0;34m\u001b[0m\u001b[0m\n\u001b[0m\u001b[1;32m    731\u001b[0m \u001b[0;34m\u001b[0m\u001b[0m\n\u001b[1;32m    732\u001b[0m     \u001b[0;32mdef\u001b[0m \u001b[0mclose\u001b[0m\u001b[0;34m(\u001b[0m\u001b[0mself\u001b[0m\u001b[0;34m)\u001b[0m\u001b[0;34m:\u001b[0m\u001b[0;34m\u001b[0m\u001b[0m\n",
      "\u001b[0;32m/Users/qingpeng/anaconda/lib/python2.7/site-packages/pandas/io/parsers.pyc\u001b[0m in \u001b[0;36m_make_engine\u001b[0;34m(self, engine)\u001b[0m\n\u001b[1;32m    921\u001b[0m     \u001b[0;32mdef\u001b[0m \u001b[0m_make_engine\u001b[0m\u001b[0;34m(\u001b[0m\u001b[0mself\u001b[0m\u001b[0;34m,\u001b[0m \u001b[0mengine\u001b[0m\u001b[0;34m=\u001b[0m\u001b[0;34m'c'\u001b[0m\u001b[0;34m)\u001b[0m\u001b[0;34m:\u001b[0m\u001b[0;34m\u001b[0m\u001b[0m\n\u001b[1;32m    922\u001b[0m         \u001b[0;32mif\u001b[0m \u001b[0mengine\u001b[0m \u001b[0;34m==\u001b[0m \u001b[0;34m'c'\u001b[0m\u001b[0;34m:\u001b[0m\u001b[0;34m\u001b[0m\u001b[0m\n\u001b[0;32m--> 923\u001b[0;31m             \u001b[0mself\u001b[0m\u001b[0;34m.\u001b[0m\u001b[0m_engine\u001b[0m \u001b[0;34m=\u001b[0m \u001b[0mCParserWrapper\u001b[0m\u001b[0;34m(\u001b[0m\u001b[0mself\u001b[0m\u001b[0;34m.\u001b[0m\u001b[0mf\u001b[0m\u001b[0;34m,\u001b[0m \u001b[0;34m**\u001b[0m\u001b[0mself\u001b[0m\u001b[0;34m.\u001b[0m\u001b[0moptions\u001b[0m\u001b[0;34m)\u001b[0m\u001b[0;34m\u001b[0m\u001b[0m\n\u001b[0m\u001b[1;32m    924\u001b[0m         \u001b[0;32melse\u001b[0m\u001b[0;34m:\u001b[0m\u001b[0;34m\u001b[0m\u001b[0m\n\u001b[1;32m    925\u001b[0m             \u001b[0;32mif\u001b[0m \u001b[0mengine\u001b[0m \u001b[0;34m==\u001b[0m \u001b[0;34m'python'\u001b[0m\u001b[0;34m:\u001b[0m\u001b[0;34m\u001b[0m\u001b[0m\n",
      "\u001b[0;32m/Users/qingpeng/anaconda/lib/python2.7/site-packages/pandas/io/parsers.pyc\u001b[0m in \u001b[0;36m__init__\u001b[0;34m(self, src, **kwds)\u001b[0m\n\u001b[1;32m   1388\u001b[0m         \u001b[0mkwds\u001b[0m\u001b[0;34m[\u001b[0m\u001b[0;34m'allow_leading_cols'\u001b[0m\u001b[0;34m]\u001b[0m \u001b[0;34m=\u001b[0m \u001b[0mself\u001b[0m\u001b[0;34m.\u001b[0m\u001b[0mindex_col\u001b[0m \u001b[0;32mis\u001b[0m \u001b[0;32mnot\u001b[0m \u001b[0mFalse\u001b[0m\u001b[0;34m\u001b[0m\u001b[0m\n\u001b[1;32m   1389\u001b[0m \u001b[0;34m\u001b[0m\u001b[0m\n\u001b[0;32m-> 1390\u001b[0;31m         \u001b[0mself\u001b[0m\u001b[0;34m.\u001b[0m\u001b[0m_reader\u001b[0m \u001b[0;34m=\u001b[0m \u001b[0m_parser\u001b[0m\u001b[0;34m.\u001b[0m\u001b[0mTextReader\u001b[0m\u001b[0;34m(\u001b[0m\u001b[0msrc\u001b[0m\u001b[0;34m,\u001b[0m \u001b[0;34m**\u001b[0m\u001b[0mkwds\u001b[0m\u001b[0;34m)\u001b[0m\u001b[0;34m\u001b[0m\u001b[0m\n\u001b[0m\u001b[1;32m   1391\u001b[0m \u001b[0;34m\u001b[0m\u001b[0m\n\u001b[1;32m   1392\u001b[0m         \u001b[0;31m# XXX\u001b[0m\u001b[0;34m\u001b[0m\u001b[0;34m\u001b[0m\u001b[0m\n",
      "\u001b[0;32mpandas/parser.pyx\u001b[0m in \u001b[0;36mpandas.parser.TextReader.__cinit__ (pandas/parser.c:4184)\u001b[0;34m()\u001b[0m\n",
      "\u001b[0;32mpandas/parser.pyx\u001b[0m in \u001b[0;36mpandas.parser.TextReader._setup_parser_source (pandas/parser.c:8449)\u001b[0;34m()\u001b[0m\n",
      "\u001b[0;31mIOError\u001b[0m: File /Users/qingpeng/shred.fa.score does not exist"
     ]
    }
   ],
   "source": [
    "result = pd.read_csv('/Users/qingpeng/shred.fa.score',sep=' ',header=None,names=['probability','prediction'])"
   ]
  },
  {
   "cell_type": "code",
   "execution_count": null,
   "metadata": {
    "collapsed": false
   },
   "outputs": [],
   "source": [
    "result"
   ]
  },
  {
   "cell_type": "code",
   "execution_count": null,
   "metadata": {
    "collapsed": false
   },
   "outputs": [],
   "source": [
    "result.probability.plot.hist(bins=100)"
   ]
  },
  {
   "cell_type": "code",
   "execution_count": null,
   "metadata": {
    "collapsed": true
   },
   "outputs": [],
   "source": []
  }
 ],
 "metadata": {
  "kernelspec": {
   "display_name": "Python 2",
   "language": "python",
   "name": "python2"
  },
  "language_info": {
   "codemirror_mode": {
    "name": "ipython",
    "version": 2
   },
   "file_extension": ".py",
   "mimetype": "text/x-python",
   "name": "python",
   "nbconvert_exporter": "python",
   "pygments_lexer": "ipython2",
   "version": "2.7.13"
  }
 },
 "nbformat": 4,
 "nbformat_minor": 0
}
