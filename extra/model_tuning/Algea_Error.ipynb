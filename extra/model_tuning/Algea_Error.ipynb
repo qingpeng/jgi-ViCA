{
 "cells": [
  {
   "cell_type": "code",
   "execution_count": 1,
   "metadata": {
    "collapsed": true
   },
   "outputs": [],
   "source": [
    "%matplotlib inline\n",
    "import pandas as pd\n",
    "import numpy as np\n",
    "import matplotlib.pyplot as plt"
   ]
  },
  {
   "cell_type": "markdown",
   "metadata": {},
   "source": [
    "## Using model from full training set"
   ]
  },
  {
   "cell_type": "markdown",
   "metadata": {},
   "source": [
    "finding the Micromonas related sequences from full set\n",
    "\n",
    "```\n",
    "  cd /global/projectb/scratch/qpzhang/Run_Genelearn/Full_nextflow\n",
    "  more all_segment.fa.header|grep \"296587:24\" >296587.title\n",
    "  more all_segment.fa.header |grep 564608 >564608.title &\n",
    "  more all_segment.fa.header |grep \"16/38832\" >38832.title &\n",
    "\n",
    " ```"
   ]
  },
  {
   "cell_type": "markdown",
   "metadata": {},
   "source": [
    "In Training set: \n",
    "\n",
    "Micromonas (genus level) has two strains...\n",
    "\n",
    "\n",
    "There are 200 x 2 segments from this genome... for the two strains\n",
    "\n",
    "taxid = 296587... Micromonas commoda\n",
    "\n",
    "https://www.ncbi.nlm.nih.gov/Taxonomy/Browser/wwwtax.cgi?mode=Info&id=296587&lvl=3&lin=f&keep=1&srchmode=1&unlock\n",
    "\n",
    "and\n",
    "\n",
    "taxid = 564608   Micromonas pusilla CCMP1545\n",
    "\n",
    "https://www.ncbi.nlm.nih.gov/Taxonomy/Browser/wwwtax.cgi?mode=Info&id=564608&lvl=3&lin=f&keep=1&srchmode=1&unlock\n",
    "\n",
    "\n"
   ]
  },
  {
   "cell_type": "markdown",
   "metadata": {},
   "source": [
    "Micromonas\n",
    "\n",
    "Taxonomy ID: 38832\n",
    "Inherited blast name: green algae\n",
    "Rank: genus\n",
    "\n",
    "\n",
    "\n",
    "https://www.ncbi.nlm.nih.gov/Taxonomy/Browser/wwwtax.cgi?mode=Info&id=38832&lvl=3&lin=f&keep=1&srchmode=1&unlock\n",
    "\n",
    "\n"
   ]
  },
  {
   "cell_type": "markdown",
   "metadata": {},
   "source": [
    "genome downloaded from NCBI \n",
    "\n",
    "https://www.ncbi.nlm.nih.gov/genome/501\n",
    "\n",
    "Micromonas pusilla\n",
    "Representative genome: Micromonas pusilla CCMP1545 (assembly Micromonas pusilla CCMP1545 v2.0)\n",
    "Download sequences in FASTA format for genome, transcript, protein\n",
    "Download genome annotation in GFF, GenBank or tabular format\n",
    "BLAST against Micromonas pusilla genome \n",
    "\n",
    "Lineage: Eukaryota[2434]; Viridiplantae[265]; Chlorophyta[33]; prasinophytes[9]; Mamiellophyceae[8]; Mamiellales[8]; Mamiellaceae[3]; Micromonas[3]; Micromonas pusilla[1]\n",
    "\n",
    "GCF_000151265.2_Micromonas_pusilla_CCMP1545_v2.0_genomic.fna\n",
    "\n",
    "shredding into 200 segments\n"
   ]
  },
  {
   "cell_type": "markdown",
   "metadata": {},
   "source": [
    "\n",
    "```\n",
    "python ~/Dropbox/Development/Github/jgi-ViCA/scripts/shred.py --input GCF_000151265.2_Micromonas_pusilla_CCMP1545_v2.0_genomic.fna --output shred.fa --samples 200\n",
    "\n",
    "python ~/Dropbox/Development/Github/jgi-ViCA/scripts/prediction_pipeline_lite_noPfam_sklearn.py shred.fa shred.fa.score ~/bin/genemark_suite_macosx/gmsuite/ ~/Dropbox/Development/Github/jgi-ViCA/scripts/model/all_segment.fasta.vect.feature_index ~/Dropbox/Development/Github/jgi-ViCA/scripts/model/Sklearn/all_segment.fasta.vect.family.training.svmlib.no4.0_1_scikit_model_median_True_1x ~/Dropbox/Development/Github/jgi-ViCA/scripts/model/Sklearn/all_segment.fasta.vect.family.training.svmlib.no4.0_1_scikit_scaler_median_True_1x\n",
    "\n",
    "\n",
    "new model with algea\n",
    "\n",
    " python ~/Dropbox/Development/Github/jgi-ViCA/scripts/prediction_pipeline_lite_noPfam_sklearn.py shred.fa shred.fa.score_with_algea ~/bin/genemark_suite_macosx/gmsuite/ ~/Dropbox/Development/Github/jgi-ViCA/scripts/model/all_segment.fasta.vect.feature_index all_segment.fasta.vect.family.training.svmlib.no4.0_1_scikit_model_median_True_1x_algea all_segment.fasta.vect.family.training.svmlib.no4.0_1_scikit_scaler_median_True_1x_algea\n",
    "\n",
    "\n",
    "```"
   ]
  },
  {
   "cell_type": "code",
   "execution_count": 5,
   "metadata": {
    "collapsed": false
   },
   "outputs": [],
   "source": [
    "result = pd.read_csv('./Micromonas/shred.fa.score',sep=' ',header=None,names=['probability','prediction'])"
   ]
  },
  {
   "cell_type": "code",
   "execution_count": 7,
   "metadata": {
    "collapsed": false
   },
   "outputs": [
    {
     "data": {
      "text/plain": [
       "<matplotlib.axes._subplots.AxesSubplot at 0x10c63ee10>"
      ]
     },
     "execution_count": 7,
     "metadata": {},
     "output_type": "execute_result"
    },
    {
     "data": {
      "image/png": "[encoded data removed]",
      "text/plain": [
       "<matplotlib.figure.Figure at 0x10c63edd0>"
      ]
     },
     "metadata": {},
     "output_type": "display_data"
    }
   ],
   "source": [
    "result.probability.plot.hist(bins=100)"
   ]
  },
  {
   "cell_type": "code",
   "execution_count": 3,
   "metadata": {
    "collapsed": false
   },
   "outputs": [],
   "source": [
    "result2 = pd.read_csv('./Micromonas/shred.fa.score_with_algea',sep=' ',header=None,names=['probability','prediction'])"
   ]
  },
  {
   "cell_type": "code",
   "execution_count": 5,
   "metadata": {
    "collapsed": false
   },
   "outputs": [
    {
     "data": {
      "text/plain": [
       "<matplotlib.axes._subplots.AxesSubplot at 0x10c526fd0>"
      ]
     },
     "execution_count": 5,
     "metadata": {},
     "output_type": "execute_result"
    },
    {
     "data": {
      "image/png": "[encoded data removed]",
      "text/plain": [
       "<matplotlib.figure.Figure at 0x103da3d10>"
      ]
     },
     "metadata": {},
     "output_type": "display_data"
    }
   ],
   "source": [
    "result2.probability.plot.hist(bins=100)"
   ]
  },
  {
   "cell_type": "code",
   "execution_count": 2,
   "metadata": {
    "collapsed": true
   },
   "outputs": [],
   "source": [
    "result3 = pd.read_csv('./Micromonas/shred.fa.score_with_euk_virus',sep=' ',header=None,names=['probability','prediction'])"
   ]
  },
  {
   "cell_type": "code",
   "execution_count": 3,
   "metadata": {
    "collapsed": false
   },
   "outputs": [
    {
     "data": {
      "text/plain": [
       "<matplotlib.axes._subplots.AxesSubplot at 0x10d175bd0>"
      ]
     },
     "execution_count": 3,
     "metadata": {},
     "output_type": "execute_result"
    },
    {
     "data": {
      "image/png": "[encoded data removed]",
      "text/plain": [
       "<matplotlib.figure.Figure at 0x104032410>"
      ]
     },
     "metadata": {},
     "output_type": "display_data"
    }
   ],
   "source": [
    "result3.probability.plot.hist(bins=100)"
   ]
  },
  {
   "cell_type": "code",
   "execution_count": 4,
   "metadata": {
    "collapsed": false
   },
   "outputs": [
    {
     "data": {
      "text/plain": [
       "<matplotlib.axes._subplots.AxesSubplot at 0x10f8a4fd0>"
      ]
     },
     "execution_count": 4,
     "metadata": {},
     "output_type": "execute_result"
    },
    {
     "data": {
      "image/png": "[encoded data removed]",
      "text/plain": [
       "<matplotlib.figure.Figure at 0x1040327d0>"
      ]
     },
     "metadata": {},
     "output_type": "display_data"
    }
   ],
   "source": [
    "result4 = pd.read_csv('./Micromonas/shred.fa.vect.libsvm.spark_score',sep=' ',header=None,names=['probability','prediction'])\n",
    "result4.probability.plot.hist(bins=100)"
   ]
  },
  {
   "cell_type": "code",
   "execution_count": 5,
   "metadata": {
    "collapsed": false
   },
   "outputs": [
    {
     "data": {
      "text/plain": [
       "<matplotlib.axes._subplots.AxesSubplot at 0x10f838550>"
      ]
     },
     "execution_count": 5,
     "metadata": {},
     "output_type": "execute_result"
    },
    {
     "data": {
      "image/png": "[encoded data removed]",
      "text/plain": [
       "<matplotlib.figure.Figure at 0x10fa4e210>"
      ]
     },
     "metadata": {},
     "output_type": "display_data"
    }
   ],
   "source": [
    "result5 = pd.read_csv('./Micromonas/shred.fa.vect.libsvm.euk_and_non_euk.score',sep=' ',header=None,names=['probability','prediction'])\n",
    "result5.probability.plot.hist(bins=100)"
   ]
  },
  {
   "cell_type": "code",
   "execution_count": 6,
   "metadata": {
    "collapsed": false
   },
   "outputs": [
    {
     "data": {
      "text/plain": [
       "<matplotlib.axes._subplots.AxesSubplot at 0x11001cd50>"
      ]
     },
     "execution_count": 6,
     "metadata": {},
     "output_type": "execute_result"
    },
    {
     "data": {
      "image/png": "[encoded data removed]",
      "text/plain": [
       "<matplotlib.figure.Figure at 0x104032490>"
      ]
     },
     "metadata": {},
     "output_type": "display_data"
    }
   ],
   "source": [
    "result6 = pd.read_csv('./Micromonas/shred.fa.vect.libsvm.non_euk_non_virus_and_virus.score',sep=' ',header=None,names=['probability','prediction'])\n",
    "result6.probability.plot.hist(bins=100)"
   ]
  },
  {
   "cell_type": "markdown",
   "metadata": {},
   "source": [
    "Problem: What data sets did we really use for training, full dataset???"
   ]
  },
  {
   "cell_type": "markdown",
   "metadata": {},
   "source": [
    "    \"\"\"\n",
    "    python /global/homes/q/qpzhang/Github/jgi-ViCA/scripts/sklearn_prediction.py ${libsvm} /global/homes/q/qpzhang/Github/jgi-ViCA/scripts/model/Sklearn/all_segment.fasta.vect.family.training.svmlib.no4.0_1_scikit_model_median_True_1x /global/homes/q/qpzhang/Github/jgi-ViCA/scripts/model/Sklearn/all_segment.fasta.vect.family.training.svmlib.no4.0_1_scikit_scaler_median_True_1x True ${libsvm}.prediction_sklearn\n",
    "    \"\"\"\n",
    "    "
   ]
  },
  {
   "cell_type": "markdown",
   "metadata": {},
   "source": [
    "family level, training data, not all the data!!!!....!!!!! should use all \n",
    "\n",
    "resplitting???? 200 segments from each ....???\n"
   ]
  },
  {
   "cell_type": "code",
   "execution_count": 81,
   "metadata": {
    "collapsed": true
   },
   "outputs": [],
   "source": [
    "algea = pd.read_csv('/Users/qingpeng/algea.vector',sep=' ',header=None)"
   ]
  },
  {
   "cell_type": "code",
   "execution_count": 82,
   "metadata": {
    "collapsed": false
   },
   "outputs": [],
   "source": [
    "virus = pd.read_csv('/Users/qingpeng/virus.vector',sep=' ',header=None)"
   ]
  },
  {
   "cell_type": "code",
   "execution_count": 94,
   "metadata": {
    "collapsed": false
   },
   "outputs": [
    {
     "data": {
      "text/html": [
       "<div>\n",
       "<table border=\"1\" class=\"dataframe\">\n",
       "  <thead>\n",
       "    <tr style=\"text-align: right;\">\n",
       "      <th></th>\n",
       "      <th>0</th>\n",
       "      <th>1</th>\n",
       "      <th>2</th>\n",
       "      <th>3</th>\n",
       "      <th>4</th>\n",
       "      <th>5</th>\n",
       "      <th>6</th>\n",
       "      <th>7</th>\n",
       "      <th>8</th>\n",
       "      <th>9</th>\n",
       "      <th>...</th>\n",
       "      <th>383</th>\n",
       "      <th>384</th>\n",
       "      <th>385</th>\n",
       "      <th>386</th>\n",
       "      <th>387</th>\n",
       "      <th>388</th>\n",
       "      <th>389</th>\n",
       "      <th>390</th>\n",
       "      <th>391</th>\n",
       "      <th>392</th>\n",
       "    </tr>\n",
       "  </thead>\n",
       "  <tbody>\n",
       "    <tr>\n",
       "      <th>0</th>\n",
       "      <td>NaN</td>\n",
       "      <td>0.003896</td>\n",
       "      <td>0.005455</td>\n",
       "      <td>0.005845</td>\n",
       "      <td>0.004676</td>\n",
       "      <td>0.005845</td>\n",
       "      <td>0.007988</td>\n",
       "      <td>0.009156</td>\n",
       "      <td>0.006429</td>\n",
       "      <td>0.006819</td>\n",
       "      <td>...</td>\n",
       "      <td>0.033592</td>\n",
       "      <td>0.019430</td>\n",
       "      <td>0.011658</td>\n",
       "      <td>0.014212</td>\n",
       "      <td>0.006477</td>\n",
       "      <td>0.018135</td>\n",
       "      <td>0.020672</td>\n",
       "      <td>0.009067</td>\n",
       "      <td>0.020725</td>\n",
       "      <td>0.046512</td>\n",
       "    </tr>\n",
       "    <tr>\n",
       "      <th>1</th>\n",
       "      <td>NaN</td>\n",
       "      <td>0.023183</td>\n",
       "      <td>0.010325</td>\n",
       "      <td>0.021040</td>\n",
       "      <td>0.020261</td>\n",
       "      <td>0.011299</td>\n",
       "      <td>0.007598</td>\n",
       "      <td>0.002338</td>\n",
       "      <td>0.008377</td>\n",
       "      <td>0.019092</td>\n",
       "      <td>...</td>\n",
       "      <td>NaN</td>\n",
       "      <td>NaN</td>\n",
       "      <td>NaN</td>\n",
       "      <td>NaN</td>\n",
       "      <td>NaN</td>\n",
       "      <td>NaN</td>\n",
       "      <td>NaN</td>\n",
       "      <td>NaN</td>\n",
       "      <td>NaN</td>\n",
       "      <td>NaN</td>\n",
       "    </tr>\n",
       "    <tr>\n",
       "      <th>2</th>\n",
       "      <td>NaN</td>\n",
       "      <td>0.023768</td>\n",
       "      <td>0.009546</td>\n",
       "      <td>0.020066</td>\n",
       "      <td>0.021430</td>\n",
       "      <td>0.011884</td>\n",
       "      <td>0.007013</td>\n",
       "      <td>0.001559</td>\n",
       "      <td>0.009546</td>\n",
       "      <td>0.019871</td>\n",
       "      <td>...</td>\n",
       "      <td>NaN</td>\n",
       "      <td>NaN</td>\n",
       "      <td>NaN</td>\n",
       "      <td>NaN</td>\n",
       "      <td>NaN</td>\n",
       "      <td>NaN</td>\n",
       "      <td>NaN</td>\n",
       "      <td>NaN</td>\n",
       "      <td>NaN</td>\n",
       "      <td>NaN</td>\n",
       "    </tr>\n",
       "    <tr>\n",
       "      <th>3</th>\n",
       "      <td>NaN</td>\n",
       "      <td>0.023768</td>\n",
       "      <td>0.009351</td>\n",
       "      <td>0.020066</td>\n",
       "      <td>0.021430</td>\n",
       "      <td>0.012079</td>\n",
       "      <td>0.007013</td>\n",
       "      <td>0.001559</td>\n",
       "      <td>0.009351</td>\n",
       "      <td>0.019871</td>\n",
       "      <td>...</td>\n",
       "      <td>NaN</td>\n",
       "      <td>NaN</td>\n",
       "      <td>NaN</td>\n",
       "      <td>NaN</td>\n",
       "      <td>NaN</td>\n",
       "      <td>NaN</td>\n",
       "      <td>NaN</td>\n",
       "      <td>NaN</td>\n",
       "      <td>NaN</td>\n",
       "      <td>NaN</td>\n",
       "    </tr>\n",
       "    <tr>\n",
       "      <th>4</th>\n",
       "      <td>NaN</td>\n",
       "      <td>0.020846</td>\n",
       "      <td>0.010131</td>\n",
       "      <td>0.020066</td>\n",
       "      <td>0.020066</td>\n",
       "      <td>0.011494</td>\n",
       "      <td>0.007013</td>\n",
       "      <td>0.001948</td>\n",
       "      <td>0.009351</td>\n",
       "      <td>0.019677</td>\n",
       "      <td>...</td>\n",
       "      <td>NaN</td>\n",
       "      <td>NaN</td>\n",
       "      <td>NaN</td>\n",
       "      <td>NaN</td>\n",
       "      <td>NaN</td>\n",
       "      <td>NaN</td>\n",
       "      <td>NaN</td>\n",
       "      <td>NaN</td>\n",
       "      <td>NaN</td>\n",
       "      <td>NaN</td>\n",
       "    </tr>\n",
       "    <tr>\n",
       "      <th>5</th>\n",
       "      <td>NaN</td>\n",
       "      <td>0.023183</td>\n",
       "      <td>0.010325</td>\n",
       "      <td>0.021040</td>\n",
       "      <td>0.020456</td>\n",
       "      <td>0.011494</td>\n",
       "      <td>0.007403</td>\n",
       "      <td>0.002338</td>\n",
       "      <td>0.008377</td>\n",
       "      <td>0.019092</td>\n",
       "      <td>...</td>\n",
       "      <td>NaN</td>\n",
       "      <td>NaN</td>\n",
       "      <td>NaN</td>\n",
       "      <td>NaN</td>\n",
       "      <td>NaN</td>\n",
       "      <td>NaN</td>\n",
       "      <td>NaN</td>\n",
       "      <td>NaN</td>\n",
       "      <td>NaN</td>\n",
       "      <td>NaN</td>\n",
       "    </tr>\n",
       "    <tr>\n",
       "      <th>6</th>\n",
       "      <td>NaN</td>\n",
       "      <td>0.021820</td>\n",
       "      <td>0.010715</td>\n",
       "      <td>0.019092</td>\n",
       "      <td>0.021040</td>\n",
       "      <td>0.012274</td>\n",
       "      <td>0.007403</td>\n",
       "      <td>0.001753</td>\n",
       "      <td>0.009546</td>\n",
       "      <td>0.018313</td>\n",
       "      <td>...</td>\n",
       "      <td>NaN</td>\n",
       "      <td>NaN</td>\n",
       "      <td>NaN</td>\n",
       "      <td>NaN</td>\n",
       "      <td>NaN</td>\n",
       "      <td>NaN</td>\n",
       "      <td>NaN</td>\n",
       "      <td>NaN</td>\n",
       "      <td>NaN</td>\n",
       "      <td>NaN</td>\n",
       "    </tr>\n",
       "    <tr>\n",
       "      <th>7</th>\n",
       "      <td>NaN</td>\n",
       "      <td>0.022404</td>\n",
       "      <td>0.010520</td>\n",
       "      <td>0.019677</td>\n",
       "      <td>0.021625</td>\n",
       "      <td>0.012274</td>\n",
       "      <td>0.007208</td>\n",
       "      <td>0.001559</td>\n",
       "      <td>0.009936</td>\n",
       "      <td>0.018703</td>\n",
       "      <td>...</td>\n",
       "      <td>NaN</td>\n",
       "      <td>NaN</td>\n",
       "      <td>NaN</td>\n",
       "      <td>NaN</td>\n",
       "      <td>NaN</td>\n",
       "      <td>NaN</td>\n",
       "      <td>NaN</td>\n",
       "      <td>NaN</td>\n",
       "      <td>NaN</td>\n",
       "      <td>NaN</td>\n",
       "    </tr>\n",
       "    <tr>\n",
       "      <th>8</th>\n",
       "      <td>NaN</td>\n",
       "      <td>0.023768</td>\n",
       "      <td>0.009546</td>\n",
       "      <td>0.020066</td>\n",
       "      <td>0.021430</td>\n",
       "      <td>0.012079</td>\n",
       "      <td>0.007013</td>\n",
       "      <td>0.001559</td>\n",
       "      <td>0.009351</td>\n",
       "      <td>0.019871</td>\n",
       "      <td>...</td>\n",
       "      <td>NaN</td>\n",
       "      <td>NaN</td>\n",
       "      <td>NaN</td>\n",
       "      <td>NaN</td>\n",
       "      <td>NaN</td>\n",
       "      <td>NaN</td>\n",
       "      <td>NaN</td>\n",
       "      <td>NaN</td>\n",
       "      <td>NaN</td>\n",
       "      <td>NaN</td>\n",
       "    </tr>\n",
       "    <tr>\n",
       "      <th>9</th>\n",
       "      <td>NaN</td>\n",
       "      <td>0.021625</td>\n",
       "      <td>0.010520</td>\n",
       "      <td>0.019092</td>\n",
       "      <td>0.021235</td>\n",
       "      <td>0.012274</td>\n",
       "      <td>0.007403</td>\n",
       "      <td>0.001753</td>\n",
       "      <td>0.009351</td>\n",
       "      <td>0.018313</td>\n",
       "      <td>...</td>\n",
       "      <td>NaN</td>\n",
       "      <td>NaN</td>\n",
       "      <td>NaN</td>\n",
       "      <td>NaN</td>\n",
       "      <td>NaN</td>\n",
       "      <td>NaN</td>\n",
       "      <td>NaN</td>\n",
       "      <td>NaN</td>\n",
       "      <td>NaN</td>\n",
       "      <td>NaN</td>\n",
       "    </tr>\n",
       "    <tr>\n",
       "      <th>10</th>\n",
       "      <td>NaN</td>\n",
       "      <td>0.022014</td>\n",
       "      <td>0.010131</td>\n",
       "      <td>0.020846</td>\n",
       "      <td>0.020651</td>\n",
       "      <td>0.011494</td>\n",
       "      <td>0.007013</td>\n",
       "      <td>0.002338</td>\n",
       "      <td>0.008377</td>\n",
       "      <td>0.018897</td>\n",
       "      <td>...</td>\n",
       "      <td>NaN</td>\n",
       "      <td>NaN</td>\n",
       "      <td>NaN</td>\n",
       "      <td>NaN</td>\n",
       "      <td>NaN</td>\n",
       "      <td>NaN</td>\n",
       "      <td>NaN</td>\n",
       "      <td>NaN</td>\n",
       "      <td>NaN</td>\n",
       "      <td>NaN</td>\n",
       "    </tr>\n",
       "    <tr>\n",
       "      <th>11</th>\n",
       "      <td>NaN</td>\n",
       "      <td>0.023183</td>\n",
       "      <td>0.010325</td>\n",
       "      <td>0.021040</td>\n",
       "      <td>0.020456</td>\n",
       "      <td>0.011494</td>\n",
       "      <td>0.007403</td>\n",
       "      <td>0.002338</td>\n",
       "      <td>0.008377</td>\n",
       "      <td>0.019092</td>\n",
       "      <td>...</td>\n",
       "      <td>NaN</td>\n",
       "      <td>NaN</td>\n",
       "      <td>NaN</td>\n",
       "      <td>NaN</td>\n",
       "      <td>NaN</td>\n",
       "      <td>NaN</td>\n",
       "      <td>NaN</td>\n",
       "      <td>NaN</td>\n",
       "      <td>NaN</td>\n",
       "      <td>NaN</td>\n",
       "    </tr>\n",
       "    <tr>\n",
       "      <th>12</th>\n",
       "      <td>NaN</td>\n",
       "      <td>0.022014</td>\n",
       "      <td>0.010715</td>\n",
       "      <td>0.019092</td>\n",
       "      <td>0.021235</td>\n",
       "      <td>0.012079</td>\n",
       "      <td>0.007208</td>\n",
       "      <td>0.001753</td>\n",
       "      <td>0.009156</td>\n",
       "      <td>0.019092</td>\n",
       "      <td>...</td>\n",
       "      <td>NaN</td>\n",
       "      <td>NaN</td>\n",
       "      <td>NaN</td>\n",
       "      <td>NaN</td>\n",
       "      <td>NaN</td>\n",
       "      <td>NaN</td>\n",
       "      <td>NaN</td>\n",
       "      <td>NaN</td>\n",
       "      <td>NaN</td>\n",
       "      <td>NaN</td>\n",
       "    </tr>\n",
       "    <tr>\n",
       "      <th>13</th>\n",
       "      <td>NaN</td>\n",
       "      <td>0.021820</td>\n",
       "      <td>0.010715</td>\n",
       "      <td>0.019287</td>\n",
       "      <td>0.021040</td>\n",
       "      <td>0.012468</td>\n",
       "      <td>0.007208</td>\n",
       "      <td>0.001753</td>\n",
       "      <td>0.009741</td>\n",
       "      <td>0.018508</td>\n",
       "      <td>...</td>\n",
       "      <td>NaN</td>\n",
       "      <td>NaN</td>\n",
       "      <td>NaN</td>\n",
       "      <td>NaN</td>\n",
       "      <td>NaN</td>\n",
       "      <td>NaN</td>\n",
       "      <td>NaN</td>\n",
       "      <td>NaN</td>\n",
       "      <td>NaN</td>\n",
       "      <td>NaN</td>\n",
       "    </tr>\n",
       "    <tr>\n",
       "      <th>14</th>\n",
       "      <td>NaN</td>\n",
       "      <td>0.023378</td>\n",
       "      <td>0.009936</td>\n",
       "      <td>0.020651</td>\n",
       "      <td>0.021820</td>\n",
       "      <td>0.011884</td>\n",
       "      <td>0.006819</td>\n",
       "      <td>0.001559</td>\n",
       "      <td>0.009546</td>\n",
       "      <td>0.019287</td>\n",
       "      <td>...</td>\n",
       "      <td>NaN</td>\n",
       "      <td>NaN</td>\n",
       "      <td>NaN</td>\n",
       "      <td>NaN</td>\n",
       "      <td>NaN</td>\n",
       "      <td>NaN</td>\n",
       "      <td>NaN</td>\n",
       "      <td>NaN</td>\n",
       "      <td>NaN</td>\n",
       "      <td>NaN</td>\n",
       "    </tr>\n",
       "    <tr>\n",
       "      <th>15</th>\n",
       "      <td>NaN</td>\n",
       "      <td>0.021430</td>\n",
       "      <td>0.010520</td>\n",
       "      <td>0.020261</td>\n",
       "      <td>0.020456</td>\n",
       "      <td>0.011299</td>\n",
       "      <td>0.007208</td>\n",
       "      <td>0.001753</td>\n",
       "      <td>0.009351</td>\n",
       "      <td>0.019677</td>\n",
       "      <td>...</td>\n",
       "      <td>NaN</td>\n",
       "      <td>NaN</td>\n",
       "      <td>NaN</td>\n",
       "      <td>NaN</td>\n",
       "      <td>NaN</td>\n",
       "      <td>NaN</td>\n",
       "      <td>NaN</td>\n",
       "      <td>NaN</td>\n",
       "      <td>NaN</td>\n",
       "      <td>NaN</td>\n",
       "    </tr>\n",
       "    <tr>\n",
       "      <th>16</th>\n",
       "      <td>NaN</td>\n",
       "      <td>0.021625</td>\n",
       "      <td>0.010715</td>\n",
       "      <td>0.019092</td>\n",
       "      <td>0.021430</td>\n",
       "      <td>0.012468</td>\n",
       "      <td>0.007208</td>\n",
       "      <td>0.001559</td>\n",
       "      <td>0.009741</td>\n",
       "      <td>0.018313</td>\n",
       "      <td>...</td>\n",
       "      <td>NaN</td>\n",
       "      <td>NaN</td>\n",
       "      <td>NaN</td>\n",
       "      <td>NaN</td>\n",
       "      <td>NaN</td>\n",
       "      <td>NaN</td>\n",
       "      <td>NaN</td>\n",
       "      <td>NaN</td>\n",
       "      <td>NaN</td>\n",
       "      <td>NaN</td>\n",
       "    </tr>\n",
       "    <tr>\n",
       "      <th>17</th>\n",
       "      <td>NaN</td>\n",
       "      <td>0.021235</td>\n",
       "      <td>0.010325</td>\n",
       "      <td>0.020456</td>\n",
       "      <td>0.020846</td>\n",
       "      <td>0.011689</td>\n",
       "      <td>0.007208</td>\n",
       "      <td>0.002338</td>\n",
       "      <td>0.008572</td>\n",
       "      <td>0.019287</td>\n",
       "      <td>...</td>\n",
       "      <td>NaN</td>\n",
       "      <td>NaN</td>\n",
       "      <td>NaN</td>\n",
       "      <td>NaN</td>\n",
       "      <td>NaN</td>\n",
       "      <td>NaN</td>\n",
       "      <td>NaN</td>\n",
       "      <td>NaN</td>\n",
       "      <td>NaN</td>\n",
       "      <td>NaN</td>\n",
       "    </tr>\n",
       "    <tr>\n",
       "      <th>18</th>\n",
       "      <td>NaN</td>\n",
       "      <td>0.022014</td>\n",
       "      <td>0.010520</td>\n",
       "      <td>0.019092</td>\n",
       "      <td>0.021235</td>\n",
       "      <td>0.012079</td>\n",
       "      <td>0.006819</td>\n",
       "      <td>0.001753</td>\n",
       "      <td>0.009156</td>\n",
       "      <td>0.019092</td>\n",
       "      <td>...</td>\n",
       "      <td>NaN</td>\n",
       "      <td>NaN</td>\n",
       "      <td>NaN</td>\n",
       "      <td>NaN</td>\n",
       "      <td>NaN</td>\n",
       "      <td>NaN</td>\n",
       "      <td>NaN</td>\n",
       "      <td>NaN</td>\n",
       "      <td>NaN</td>\n",
       "      <td>NaN</td>\n",
       "    </tr>\n",
       "    <tr>\n",
       "      <th>19</th>\n",
       "      <td>NaN</td>\n",
       "      <td>0.022014</td>\n",
       "      <td>0.010715</td>\n",
       "      <td>0.019092</td>\n",
       "      <td>0.021235</td>\n",
       "      <td>0.012079</td>\n",
       "      <td>0.007208</td>\n",
       "      <td>0.001753</td>\n",
       "      <td>0.009156</td>\n",
       "      <td>0.019092</td>\n",
       "      <td>...</td>\n",
       "      <td>NaN</td>\n",
       "      <td>NaN</td>\n",
       "      <td>NaN</td>\n",
       "      <td>NaN</td>\n",
       "      <td>NaN</td>\n",
       "      <td>NaN</td>\n",
       "      <td>NaN</td>\n",
       "      <td>NaN</td>\n",
       "      <td>NaN</td>\n",
       "      <td>NaN</td>\n",
       "    </tr>\n",
       "    <tr>\n",
       "      <th>20</th>\n",
       "      <td>NaN</td>\n",
       "      <td>0.023183</td>\n",
       "      <td>0.009936</td>\n",
       "      <td>0.020456</td>\n",
       "      <td>0.021820</td>\n",
       "      <td>0.012079</td>\n",
       "      <td>0.006819</td>\n",
       "      <td>0.001559</td>\n",
       "      <td>0.009741</td>\n",
       "      <td>0.019092</td>\n",
       "      <td>...</td>\n",
       "      <td>NaN</td>\n",
       "      <td>NaN</td>\n",
       "      <td>NaN</td>\n",
       "      <td>NaN</td>\n",
       "      <td>NaN</td>\n",
       "      <td>NaN</td>\n",
       "      <td>NaN</td>\n",
       "      <td>NaN</td>\n",
       "      <td>NaN</td>\n",
       "      <td>NaN</td>\n",
       "    </tr>\n",
       "    <tr>\n",
       "      <th>21</th>\n",
       "      <td>NaN</td>\n",
       "      <td>0.022404</td>\n",
       "      <td>0.010520</td>\n",
       "      <td>0.019677</td>\n",
       "      <td>0.021625</td>\n",
       "      <td>0.012274</td>\n",
       "      <td>0.007208</td>\n",
       "      <td>0.001559</td>\n",
       "      <td>0.009936</td>\n",
       "      <td>0.018703</td>\n",
       "      <td>...</td>\n",
       "      <td>NaN</td>\n",
       "      <td>NaN</td>\n",
       "      <td>NaN</td>\n",
       "      <td>NaN</td>\n",
       "      <td>NaN</td>\n",
       "      <td>NaN</td>\n",
       "      <td>NaN</td>\n",
       "      <td>NaN</td>\n",
       "      <td>NaN</td>\n",
       "      <td>NaN</td>\n",
       "    </tr>\n",
       "    <tr>\n",
       "      <th>22</th>\n",
       "      <td>NaN</td>\n",
       "      <td>0.022014</td>\n",
       "      <td>0.010520</td>\n",
       "      <td>0.019092</td>\n",
       "      <td>0.021235</td>\n",
       "      <td>0.012079</td>\n",
       "      <td>0.006819</td>\n",
       "      <td>0.001753</td>\n",
       "      <td>0.009156</td>\n",
       "      <td>0.019287</td>\n",
       "      <td>...</td>\n",
       "      <td>NaN</td>\n",
       "      <td>NaN</td>\n",
       "      <td>NaN</td>\n",
       "      <td>NaN</td>\n",
       "      <td>NaN</td>\n",
       "      <td>NaN</td>\n",
       "      <td>NaN</td>\n",
       "      <td>NaN</td>\n",
       "      <td>NaN</td>\n",
       "      <td>NaN</td>\n",
       "    </tr>\n",
       "    <tr>\n",
       "      <th>23</th>\n",
       "      <td>NaN</td>\n",
       "      <td>0.023768</td>\n",
       "      <td>0.009741</td>\n",
       "      <td>0.019871</td>\n",
       "      <td>0.021625</td>\n",
       "      <td>0.012079</td>\n",
       "      <td>0.007013</td>\n",
       "      <td>0.001559</td>\n",
       "      <td>0.009546</td>\n",
       "      <td>0.019871</td>\n",
       "      <td>...</td>\n",
       "      <td>NaN</td>\n",
       "      <td>NaN</td>\n",
       "      <td>NaN</td>\n",
       "      <td>NaN</td>\n",
       "      <td>NaN</td>\n",
       "      <td>NaN</td>\n",
       "      <td>NaN</td>\n",
       "      <td>NaN</td>\n",
       "      <td>NaN</td>\n",
       "      <td>NaN</td>\n",
       "    </tr>\n",
       "    <tr>\n",
       "      <th>24</th>\n",
       "      <td>NaN</td>\n",
       "      <td>0.022014</td>\n",
       "      <td>0.010520</td>\n",
       "      <td>0.019482</td>\n",
       "      <td>0.021235</td>\n",
       "      <td>0.012274</td>\n",
       "      <td>0.007208</td>\n",
       "      <td>0.001559</td>\n",
       "      <td>0.009936</td>\n",
       "      <td>0.018508</td>\n",
       "      <td>...</td>\n",
       "      <td>NaN</td>\n",
       "      <td>NaN</td>\n",
       "      <td>NaN</td>\n",
       "      <td>NaN</td>\n",
       "      <td>NaN</td>\n",
       "      <td>NaN</td>\n",
       "      <td>NaN</td>\n",
       "      <td>NaN</td>\n",
       "      <td>NaN</td>\n",
       "      <td>NaN</td>\n",
       "    </tr>\n",
       "    <tr>\n",
       "      <th>25</th>\n",
       "      <td>NaN</td>\n",
       "      <td>0.023768</td>\n",
       "      <td>0.009546</td>\n",
       "      <td>0.020261</td>\n",
       "      <td>0.021430</td>\n",
       "      <td>0.012079</td>\n",
       "      <td>0.007013</td>\n",
       "      <td>0.001559</td>\n",
       "      <td>0.009546</td>\n",
       "      <td>0.019871</td>\n",
       "      <td>...</td>\n",
       "      <td>NaN</td>\n",
       "      <td>NaN</td>\n",
       "      <td>NaN</td>\n",
       "      <td>NaN</td>\n",
       "      <td>NaN</td>\n",
       "      <td>NaN</td>\n",
       "      <td>NaN</td>\n",
       "      <td>NaN</td>\n",
       "      <td>NaN</td>\n",
       "      <td>NaN</td>\n",
       "    </tr>\n",
       "    <tr>\n",
       "      <th>26</th>\n",
       "      <td>NaN</td>\n",
       "      <td>0.023768</td>\n",
       "      <td>0.009546</td>\n",
       "      <td>0.020066</td>\n",
       "      <td>0.021430</td>\n",
       "      <td>0.012079</td>\n",
       "      <td>0.007013</td>\n",
       "      <td>0.001559</td>\n",
       "      <td>0.009351</td>\n",
       "      <td>0.019871</td>\n",
       "      <td>...</td>\n",
       "      <td>NaN</td>\n",
       "      <td>NaN</td>\n",
       "      <td>NaN</td>\n",
       "      <td>NaN</td>\n",
       "      <td>NaN</td>\n",
       "      <td>NaN</td>\n",
       "      <td>NaN</td>\n",
       "      <td>NaN</td>\n",
       "      <td>NaN</td>\n",
       "      <td>NaN</td>\n",
       "    </tr>\n",
       "    <tr>\n",
       "      <th>27</th>\n",
       "      <td>NaN</td>\n",
       "      <td>0.020846</td>\n",
       "      <td>0.010131</td>\n",
       "      <td>0.020066</td>\n",
       "      <td>0.020066</td>\n",
       "      <td>0.011494</td>\n",
       "      <td>0.007013</td>\n",
       "      <td>0.001948</td>\n",
       "      <td>0.009351</td>\n",
       "      <td>0.019677</td>\n",
       "      <td>...</td>\n",
       "      <td>NaN</td>\n",
       "      <td>NaN</td>\n",
       "      <td>NaN</td>\n",
       "      <td>NaN</td>\n",
       "      <td>NaN</td>\n",
       "      <td>NaN</td>\n",
       "      <td>NaN</td>\n",
       "      <td>NaN</td>\n",
       "      <td>NaN</td>\n",
       "      <td>NaN</td>\n",
       "    </tr>\n",
       "    <tr>\n",
       "      <th>28</th>\n",
       "      <td>NaN</td>\n",
       "      <td>0.021820</td>\n",
       "      <td>0.010520</td>\n",
       "      <td>0.019092</td>\n",
       "      <td>0.021235</td>\n",
       "      <td>0.012274</td>\n",
       "      <td>0.007403</td>\n",
       "      <td>0.001753</td>\n",
       "      <td>0.009351</td>\n",
       "      <td>0.018313</td>\n",
       "      <td>...</td>\n",
       "      <td>NaN</td>\n",
       "      <td>NaN</td>\n",
       "      <td>NaN</td>\n",
       "      <td>NaN</td>\n",
       "      <td>NaN</td>\n",
       "      <td>NaN</td>\n",
       "      <td>NaN</td>\n",
       "      <td>NaN</td>\n",
       "      <td>NaN</td>\n",
       "      <td>NaN</td>\n",
       "    </tr>\n",
       "    <tr>\n",
       "      <th>29</th>\n",
       "      <td>NaN</td>\n",
       "      <td>0.022599</td>\n",
       "      <td>0.010520</td>\n",
       "      <td>0.019871</td>\n",
       "      <td>0.021625</td>\n",
       "      <td>0.012274</td>\n",
       "      <td>0.007208</td>\n",
       "      <td>0.001559</td>\n",
       "      <td>0.009936</td>\n",
       "      <td>0.018897</td>\n",
       "      <td>...</td>\n",
       "      <td>NaN</td>\n",
       "      <td>NaN</td>\n",
       "      <td>NaN</td>\n",
       "      <td>NaN</td>\n",
       "      <td>NaN</td>\n",
       "      <td>NaN</td>\n",
       "      <td>NaN</td>\n",
       "      <td>NaN</td>\n",
       "      <td>NaN</td>\n",
       "      <td>NaN</td>\n",
       "    </tr>\n",
       "    <tr>\n",
       "      <th>...</th>\n",
       "      <td>...</td>\n",
       "      <td>...</td>\n",
       "      <td>...</td>\n",
       "      <td>...</td>\n",
       "      <td>...</td>\n",
       "      <td>...</td>\n",
       "      <td>...</td>\n",
       "      <td>...</td>\n",
       "      <td>...</td>\n",
       "      <td>...</td>\n",
       "      <td>...</td>\n",
       "      <td>...</td>\n",
       "      <td>...</td>\n",
       "      <td>...</td>\n",
       "      <td>...</td>\n",
       "      <td>...</td>\n",
       "      <td>...</td>\n",
       "      <td>...</td>\n",
       "      <td>...</td>\n",
       "      <td>...</td>\n",
       "      <td>...</td>\n",
       "    </tr>\n",
       "    <tr>\n",
       "      <th>150571</th>\n",
       "      <td>NaN</td>\n",
       "      <td>0.003896</td>\n",
       "      <td>0.006039</td>\n",
       "      <td>0.005845</td>\n",
       "      <td>0.003507</td>\n",
       "      <td>0.004870</td>\n",
       "      <td>0.007793</td>\n",
       "      <td>0.007598</td>\n",
       "      <td>0.007013</td>\n",
       "      <td>0.005845</td>\n",
       "      <td>...</td>\n",
       "      <td>0.021889</td>\n",
       "      <td>0.019676</td>\n",
       "      <td>0.016204</td>\n",
       "      <td>0.010369</td>\n",
       "      <td>0.006944</td>\n",
       "      <td>0.017361</td>\n",
       "      <td>0.018433</td>\n",
       "      <td>0.011574</td>\n",
       "      <td>0.019676</td>\n",
       "      <td>0.033410</td>\n",
       "    </tr>\n",
       "    <tr>\n",
       "      <th>150572</th>\n",
       "      <td>NaN</td>\n",
       "      <td>0.003702</td>\n",
       "      <td>0.005845</td>\n",
       "      <td>0.005455</td>\n",
       "      <td>0.003507</td>\n",
       "      <td>0.008182</td>\n",
       "      <td>0.006039</td>\n",
       "      <td>0.009546</td>\n",
       "      <td>0.007208</td>\n",
       "      <td>0.006039</td>\n",
       "      <td>...</td>\n",
       "      <td>0.018243</td>\n",
       "      <td>0.020284</td>\n",
       "      <td>0.005409</td>\n",
       "      <td>0.012838</td>\n",
       "      <td>0.012847</td>\n",
       "      <td>0.020960</td>\n",
       "      <td>0.013514</td>\n",
       "      <td>0.003381</td>\n",
       "      <td>0.014875</td>\n",
       "      <td>0.025676</td>\n",
       "    </tr>\n",
       "    <tr>\n",
       "      <th>150573</th>\n",
       "      <td>NaN</td>\n",
       "      <td>0.004676</td>\n",
       "      <td>0.005650</td>\n",
       "      <td>0.006819</td>\n",
       "      <td>0.002922</td>\n",
       "      <td>0.004286</td>\n",
       "      <td>0.008767</td>\n",
       "      <td>0.006819</td>\n",
       "      <td>0.006624</td>\n",
       "      <td>0.004870</td>\n",
       "      <td>...</td>\n",
       "      <td>0.032157</td>\n",
       "      <td>0.008655</td>\n",
       "      <td>0.010228</td>\n",
       "      <td>0.008627</td>\n",
       "      <td>0.003147</td>\n",
       "      <td>0.017309</td>\n",
       "      <td>0.026667</td>\n",
       "      <td>0.007868</td>\n",
       "      <td>0.021243</td>\n",
       "      <td>0.037647</td>\n",
       "    </tr>\n",
       "    <tr>\n",
       "      <th>150574</th>\n",
       "      <td>NaN</td>\n",
       "      <td>0.004286</td>\n",
       "      <td>0.006039</td>\n",
       "      <td>0.005260</td>\n",
       "      <td>0.003896</td>\n",
       "      <td>0.006819</td>\n",
       "      <td>0.007013</td>\n",
       "      <td>0.007208</td>\n",
       "      <td>0.006039</td>\n",
       "      <td>0.006039</td>\n",
       "      <td>...</td>\n",
       "      <td>0.017316</td>\n",
       "      <td>0.026163</td>\n",
       "      <td>0.014535</td>\n",
       "      <td>0.018759</td>\n",
       "      <td>0.010174</td>\n",
       "      <td>0.013081</td>\n",
       "      <td>0.020202</td>\n",
       "      <td>0.010174</td>\n",
       "      <td>0.021802</td>\n",
       "      <td>0.033189</td>\n",
       "    </tr>\n",
       "    <tr>\n",
       "      <th>150575</th>\n",
       "      <td>NaN</td>\n",
       "      <td>0.004481</td>\n",
       "      <td>0.005455</td>\n",
       "      <td>0.007013</td>\n",
       "      <td>0.003896</td>\n",
       "      <td>0.006234</td>\n",
       "      <td>0.006819</td>\n",
       "      <td>0.008377</td>\n",
       "      <td>0.006039</td>\n",
       "      <td>0.006819</td>\n",
       "      <td>...</td>\n",
       "      <td>0.017964</td>\n",
       "      <td>0.012048</td>\n",
       "      <td>0.009036</td>\n",
       "      <td>0.005988</td>\n",
       "      <td>0.021084</td>\n",
       "      <td>0.048193</td>\n",
       "      <td>0.023952</td>\n",
       "      <td>0.006024</td>\n",
       "      <td>0.009036</td>\n",
       "      <td>0.041916</td>\n",
       "    </tr>\n",
       "    <tr>\n",
       "      <th>150576</th>\n",
       "      <td>NaN</td>\n",
       "      <td>0.003702</td>\n",
       "      <td>0.005845</td>\n",
       "      <td>0.004481</td>\n",
       "      <td>0.003896</td>\n",
       "      <td>0.007793</td>\n",
       "      <td>0.005845</td>\n",
       "      <td>0.008767</td>\n",
       "      <td>0.006819</td>\n",
       "      <td>0.005845</td>\n",
       "      <td>...</td>\n",
       "      <td>0.039216</td>\n",
       "      <td>0.019704</td>\n",
       "      <td>0.004926</td>\n",
       "      <td>0.009804</td>\n",
       "      <td>0.004926</td>\n",
       "      <td>0.014778</td>\n",
       "      <td>0.009804</td>\n",
       "      <td>0.004926</td>\n",
       "      <td>0.009852</td>\n",
       "      <td>0.029412</td>\n",
       "    </tr>\n",
       "    <tr>\n",
       "      <th>150577</th>\n",
       "      <td>NaN</td>\n",
       "      <td>0.004676</td>\n",
       "      <td>0.005845</td>\n",
       "      <td>0.007013</td>\n",
       "      <td>0.003702</td>\n",
       "      <td>0.006819</td>\n",
       "      <td>0.007208</td>\n",
       "      <td>0.007793</td>\n",
       "      <td>0.005455</td>\n",
       "      <td>0.006039</td>\n",
       "      <td>...</td>\n",
       "      <td>0.017964</td>\n",
       "      <td>0.012048</td>\n",
       "      <td>0.009036</td>\n",
       "      <td>0.005988</td>\n",
       "      <td>0.021084</td>\n",
       "      <td>0.048193</td>\n",
       "      <td>0.023952</td>\n",
       "      <td>0.006024</td>\n",
       "      <td>0.009036</td>\n",
       "      <td>0.041916</td>\n",
       "    </tr>\n",
       "    <tr>\n",
       "      <th>150578</th>\n",
       "      <td>NaN</td>\n",
       "      <td>0.005455</td>\n",
       "      <td>0.006624</td>\n",
       "      <td>0.007208</td>\n",
       "      <td>0.003702</td>\n",
       "      <td>0.007403</td>\n",
       "      <td>0.006429</td>\n",
       "      <td>0.007013</td>\n",
       "      <td>0.006039</td>\n",
       "      <td>0.006819</td>\n",
       "      <td>...</td>\n",
       "      <td>0.017964</td>\n",
       "      <td>0.012048</td>\n",
       "      <td>0.009036</td>\n",
       "      <td>0.005988</td>\n",
       "      <td>0.021084</td>\n",
       "      <td>0.048193</td>\n",
       "      <td>0.023952</td>\n",
       "      <td>0.006024</td>\n",
       "      <td>0.009036</td>\n",
       "      <td>0.041916</td>\n",
       "    </tr>\n",
       "    <tr>\n",
       "      <th>150579</th>\n",
       "      <td>NaN</td>\n",
       "      <td>0.002533</td>\n",
       "      <td>0.005845</td>\n",
       "      <td>0.005845</td>\n",
       "      <td>0.003312</td>\n",
       "      <td>0.007793</td>\n",
       "      <td>0.005845</td>\n",
       "      <td>0.007208</td>\n",
       "      <td>0.007013</td>\n",
       "      <td>0.006624</td>\n",
       "      <td>...</td>\n",
       "      <td>0.022350</td>\n",
       "      <td>0.016643</td>\n",
       "      <td>0.010854</td>\n",
       "      <td>0.013699</td>\n",
       "      <td>0.005789</td>\n",
       "      <td>0.020260</td>\n",
       "      <td>0.018745</td>\n",
       "      <td>0.007236</td>\n",
       "      <td>0.021708</td>\n",
       "      <td>0.043259</td>\n",
       "    </tr>\n",
       "    <tr>\n",
       "      <th>150580</th>\n",
       "      <td>NaN</td>\n",
       "      <td>0.003896</td>\n",
       "      <td>0.006429</td>\n",
       "      <td>0.006039</td>\n",
       "      <td>0.003117</td>\n",
       "      <td>0.004091</td>\n",
       "      <td>0.007598</td>\n",
       "      <td>0.006624</td>\n",
       "      <td>0.006234</td>\n",
       "      <td>0.004676</td>\n",
       "      <td>...</td>\n",
       "      <td>0.029750</td>\n",
       "      <td>0.012500</td>\n",
       "      <td>0.012500</td>\n",
       "      <td>0.011516</td>\n",
       "      <td>0.005769</td>\n",
       "      <td>0.019231</td>\n",
       "      <td>0.024952</td>\n",
       "      <td>0.011538</td>\n",
       "      <td>0.022115</td>\n",
       "      <td>0.033589</td>\n",
       "    </tr>\n",
       "    <tr>\n",
       "      <th>150581</th>\n",
       "      <td>NaN</td>\n",
       "      <td>0.007403</td>\n",
       "      <td>0.007403</td>\n",
       "      <td>0.005455</td>\n",
       "      <td>0.005845</td>\n",
       "      <td>0.008377</td>\n",
       "      <td>0.008182</td>\n",
       "      <td>0.007208</td>\n",
       "      <td>0.006624</td>\n",
       "      <td>0.003702</td>\n",
       "      <td>...</td>\n",
       "      <td>0.042365</td>\n",
       "      <td>0.046535</td>\n",
       "      <td>0.002970</td>\n",
       "      <td>0.011823</td>\n",
       "      <td>0.009901</td>\n",
       "      <td>0.015842</td>\n",
       "      <td>0.022660</td>\n",
       "      <td>0.005941</td>\n",
       "      <td>0.017822</td>\n",
       "      <td>0.025616</td>\n",
       "    </tr>\n",
       "    <tr>\n",
       "      <th>150582</th>\n",
       "      <td>NaN</td>\n",
       "      <td>0.002533</td>\n",
       "      <td>0.006234</td>\n",
       "      <td>0.006429</td>\n",
       "      <td>0.003312</td>\n",
       "      <td>0.007598</td>\n",
       "      <td>0.007598</td>\n",
       "      <td>0.008182</td>\n",
       "      <td>0.007403</td>\n",
       "      <td>0.006039</td>\n",
       "      <td>...</td>\n",
       "      <td>0.026826</td>\n",
       "      <td>0.014948</td>\n",
       "      <td>0.005232</td>\n",
       "      <td>0.013413</td>\n",
       "      <td>0.007474</td>\n",
       "      <td>0.015695</td>\n",
       "      <td>0.021610</td>\n",
       "      <td>0.008221</td>\n",
       "      <td>0.022422</td>\n",
       "      <td>0.041729</td>\n",
       "    </tr>\n",
       "    <tr>\n",
       "      <th>150583</th>\n",
       "      <td>NaN</td>\n",
       "      <td>0.007208</td>\n",
       "      <td>0.007598</td>\n",
       "      <td>0.008767</td>\n",
       "      <td>0.004481</td>\n",
       "      <td>0.007013</td>\n",
       "      <td>0.006234</td>\n",
       "      <td>0.006624</td>\n",
       "      <td>0.005650</td>\n",
       "      <td>0.007013</td>\n",
       "      <td>...</td>\n",
       "      <td>0.014946</td>\n",
       "      <td>0.031995</td>\n",
       "      <td>0.004765</td>\n",
       "      <td>0.015625</td>\n",
       "      <td>0.005446</td>\n",
       "      <td>0.015657</td>\n",
       "      <td>0.021739</td>\n",
       "      <td>0.006127</td>\n",
       "      <td>0.015657</td>\n",
       "      <td>0.024457</td>\n",
       "    </tr>\n",
       "    <tr>\n",
       "      <th>150584</th>\n",
       "      <td>NaN</td>\n",
       "      <td>0.004870</td>\n",
       "      <td>0.006039</td>\n",
       "      <td>0.007208</td>\n",
       "      <td>0.003702</td>\n",
       "      <td>0.006819</td>\n",
       "      <td>0.007208</td>\n",
       "      <td>0.007793</td>\n",
       "      <td>0.005455</td>\n",
       "      <td>0.006039</td>\n",
       "      <td>...</td>\n",
       "      <td>0.017964</td>\n",
       "      <td>0.012048</td>\n",
       "      <td>0.009036</td>\n",
       "      <td>0.005988</td>\n",
       "      <td>0.021084</td>\n",
       "      <td>0.048193</td>\n",
       "      <td>0.023952</td>\n",
       "      <td>0.006024</td>\n",
       "      <td>0.009036</td>\n",
       "      <td>0.041916</td>\n",
       "    </tr>\n",
       "    <tr>\n",
       "      <th>150585</th>\n",
       "      <td>NaN</td>\n",
       "      <td>0.002922</td>\n",
       "      <td>0.004870</td>\n",
       "      <td>0.006039</td>\n",
       "      <td>0.003507</td>\n",
       "      <td>0.007013</td>\n",
       "      <td>0.009156</td>\n",
       "      <td>0.008962</td>\n",
       "      <td>0.006234</td>\n",
       "      <td>0.005845</td>\n",
       "      <td>...</td>\n",
       "      <td>0.032258</td>\n",
       "      <td>0.014065</td>\n",
       "      <td>0.009142</td>\n",
       "      <td>0.014727</td>\n",
       "      <td>0.005626</td>\n",
       "      <td>0.015471</td>\n",
       "      <td>0.021739</td>\n",
       "      <td>0.009142</td>\n",
       "      <td>0.021800</td>\n",
       "      <td>0.046283</td>\n",
       "    </tr>\n",
       "    <tr>\n",
       "      <th>150586</th>\n",
       "      <td>NaN</td>\n",
       "      <td>0.005260</td>\n",
       "      <td>0.006819</td>\n",
       "      <td>0.005845</td>\n",
       "      <td>0.005260</td>\n",
       "      <td>0.006039</td>\n",
       "      <td>0.006429</td>\n",
       "      <td>0.006624</td>\n",
       "      <td>0.006624</td>\n",
       "      <td>0.007598</td>\n",
       "      <td>...</td>\n",
       "      <td>0.040397</td>\n",
       "      <td>0.031208</td>\n",
       "      <td>0.005312</td>\n",
       "      <td>0.017219</td>\n",
       "      <td>0.008632</td>\n",
       "      <td>0.019256</td>\n",
       "      <td>0.019205</td>\n",
       "      <td>0.005976</td>\n",
       "      <td>0.018592</td>\n",
       "      <td>0.027152</td>\n",
       "    </tr>\n",
       "    <tr>\n",
       "      <th>150587</th>\n",
       "      <td>NaN</td>\n",
       "      <td>0.004481</td>\n",
       "      <td>0.005455</td>\n",
       "      <td>0.006624</td>\n",
       "      <td>0.003896</td>\n",
       "      <td>0.005845</td>\n",
       "      <td>0.006624</td>\n",
       "      <td>0.008377</td>\n",
       "      <td>0.006624</td>\n",
       "      <td>0.006819</td>\n",
       "      <td>...</td>\n",
       "      <td>0.017964</td>\n",
       "      <td>0.012048</td>\n",
       "      <td>0.009036</td>\n",
       "      <td>0.005988</td>\n",
       "      <td>0.021084</td>\n",
       "      <td>0.048193</td>\n",
       "      <td>0.023952</td>\n",
       "      <td>0.006024</td>\n",
       "      <td>0.009036</td>\n",
       "      <td>0.041916</td>\n",
       "    </tr>\n",
       "    <tr>\n",
       "      <th>150588</th>\n",
       "      <td>NaN</td>\n",
       "      <td>0.007403</td>\n",
       "      <td>0.007403</td>\n",
       "      <td>0.005455</td>\n",
       "      <td>0.005845</td>\n",
       "      <td>0.008377</td>\n",
       "      <td>0.007988</td>\n",
       "      <td>0.007013</td>\n",
       "      <td>0.007013</td>\n",
       "      <td>0.004481</td>\n",
       "      <td>...</td>\n",
       "      <td>0.036179</td>\n",
       "      <td>0.045818</td>\n",
       "      <td>0.003636</td>\n",
       "      <td>0.012301</td>\n",
       "      <td>0.010182</td>\n",
       "      <td>0.018182</td>\n",
       "      <td>0.020984</td>\n",
       "      <td>0.006545</td>\n",
       "      <td>0.017455</td>\n",
       "      <td>0.025326</td>\n",
       "    </tr>\n",
       "    <tr>\n",
       "      <th>150589</th>\n",
       "      <td>NaN</td>\n",
       "      <td>0.004286</td>\n",
       "      <td>0.005650</td>\n",
       "      <td>0.006819</td>\n",
       "      <td>0.002727</td>\n",
       "      <td>0.003896</td>\n",
       "      <td>0.008572</td>\n",
       "      <td>0.006819</td>\n",
       "      <td>0.007013</td>\n",
       "      <td>0.004676</td>\n",
       "      <td>...</td>\n",
       "      <td>0.031437</td>\n",
       "      <td>0.012763</td>\n",
       "      <td>0.011261</td>\n",
       "      <td>0.010479</td>\n",
       "      <td>0.005255</td>\n",
       "      <td>0.015766</td>\n",
       "      <td>0.028443</td>\n",
       "      <td>0.009760</td>\n",
       "      <td>0.023273</td>\n",
       "      <td>0.034431</td>\n",
       "    </tr>\n",
       "    <tr>\n",
       "      <th>150590</th>\n",
       "      <td>NaN</td>\n",
       "      <td>0.005455</td>\n",
       "      <td>0.006624</td>\n",
       "      <td>0.007403</td>\n",
       "      <td>0.003702</td>\n",
       "      <td>0.007403</td>\n",
       "      <td>0.006819</td>\n",
       "      <td>0.006819</td>\n",
       "      <td>0.005650</td>\n",
       "      <td>0.007013</td>\n",
       "      <td>...</td>\n",
       "      <td>0.017964</td>\n",
       "      <td>0.012048</td>\n",
       "      <td>0.009036</td>\n",
       "      <td>0.005988</td>\n",
       "      <td>0.021084</td>\n",
       "      <td>0.048193</td>\n",
       "      <td>0.023952</td>\n",
       "      <td>0.006024</td>\n",
       "      <td>0.009036</td>\n",
       "      <td>0.041916</td>\n",
       "    </tr>\n",
       "    <tr>\n",
       "      <th>150591</th>\n",
       "      <td>NaN</td>\n",
       "      <td>0.004091</td>\n",
       "      <td>0.006429</td>\n",
       "      <td>0.005260</td>\n",
       "      <td>0.004091</td>\n",
       "      <td>0.006234</td>\n",
       "      <td>0.006819</td>\n",
       "      <td>0.007208</td>\n",
       "      <td>0.006234</td>\n",
       "      <td>0.005845</td>\n",
       "      <td>...</td>\n",
       "      <td>0.025714</td>\n",
       "      <td>0.020144</td>\n",
       "      <td>0.011511</td>\n",
       "      <td>0.015714</td>\n",
       "      <td>0.005755</td>\n",
       "      <td>0.014388</td>\n",
       "      <td>0.015714</td>\n",
       "      <td>0.007194</td>\n",
       "      <td>0.017266</td>\n",
       "      <td>0.038571</td>\n",
       "    </tr>\n",
       "    <tr>\n",
       "      <th>150592</th>\n",
       "      <td>NaN</td>\n",
       "      <td>0.003507</td>\n",
       "      <td>0.005845</td>\n",
       "      <td>0.004481</td>\n",
       "      <td>0.003702</td>\n",
       "      <td>0.007793</td>\n",
       "      <td>0.005845</td>\n",
       "      <td>0.009351</td>\n",
       "      <td>0.006819</td>\n",
       "      <td>0.005845</td>\n",
       "      <td>...</td>\n",
       "      <td>0.039216</td>\n",
       "      <td>0.019704</td>\n",
       "      <td>0.004926</td>\n",
       "      <td>0.009804</td>\n",
       "      <td>0.004926</td>\n",
       "      <td>0.014778</td>\n",
       "      <td>0.009804</td>\n",
       "      <td>0.004926</td>\n",
       "      <td>0.009852</td>\n",
       "      <td>0.029412</td>\n",
       "    </tr>\n",
       "    <tr>\n",
       "      <th>150593</th>\n",
       "      <td>NaN</td>\n",
       "      <td>0.004091</td>\n",
       "      <td>0.005260</td>\n",
       "      <td>0.005845</td>\n",
       "      <td>0.003117</td>\n",
       "      <td>0.004481</td>\n",
       "      <td>0.008572</td>\n",
       "      <td>0.007403</td>\n",
       "      <td>0.006234</td>\n",
       "      <td>0.004870</td>\n",
       "      <td>...</td>\n",
       "      <td>0.031709</td>\n",
       "      <td>0.008534</td>\n",
       "      <td>0.010085</td>\n",
       "      <td>0.009281</td>\n",
       "      <td>0.003103</td>\n",
       "      <td>0.017067</td>\n",
       "      <td>0.026295</td>\n",
       "      <td>0.007758</td>\n",
       "      <td>0.020946</td>\n",
       "      <td>0.037123</td>\n",
       "    </tr>\n",
       "    <tr>\n",
       "      <th>150594</th>\n",
       "      <td>NaN</td>\n",
       "      <td>0.004481</td>\n",
       "      <td>0.005455</td>\n",
       "      <td>0.005065</td>\n",
       "      <td>0.005845</td>\n",
       "      <td>0.005065</td>\n",
       "      <td>0.008962</td>\n",
       "      <td>0.006819</td>\n",
       "      <td>0.005845</td>\n",
       "      <td>0.005455</td>\n",
       "      <td>...</td>\n",
       "      <td>0.013363</td>\n",
       "      <td>0.020134</td>\n",
       "      <td>0.017897</td>\n",
       "      <td>0.015590</td>\n",
       "      <td>0.013423</td>\n",
       "      <td>0.017897</td>\n",
       "      <td>0.017817</td>\n",
       "      <td>0.008949</td>\n",
       "      <td>0.024609</td>\n",
       "      <td>0.035635</td>\n",
       "    </tr>\n",
       "    <tr>\n",
       "      <th>150595</th>\n",
       "      <td>NaN</td>\n",
       "      <td>0.004676</td>\n",
       "      <td>0.006039</td>\n",
       "      <td>0.006039</td>\n",
       "      <td>0.005065</td>\n",
       "      <td>0.005845</td>\n",
       "      <td>0.008182</td>\n",
       "      <td>0.009156</td>\n",
       "      <td>0.006429</td>\n",
       "      <td>0.005845</td>\n",
       "      <td>...</td>\n",
       "      <td>0.033592</td>\n",
       "      <td>0.019430</td>\n",
       "      <td>0.011658</td>\n",
       "      <td>0.014212</td>\n",
       "      <td>0.006477</td>\n",
       "      <td>0.018135</td>\n",
       "      <td>0.020672</td>\n",
       "      <td>0.009067</td>\n",
       "      <td>0.020725</td>\n",
       "      <td>0.046512</td>\n",
       "    </tr>\n",
       "    <tr>\n",
       "      <th>150596</th>\n",
       "      <td>NaN</td>\n",
       "      <td>0.004676</td>\n",
       "      <td>0.006234</td>\n",
       "      <td>0.007208</td>\n",
       "      <td>0.003312</td>\n",
       "      <td>0.006624</td>\n",
       "      <td>0.006819</td>\n",
       "      <td>0.007403</td>\n",
       "      <td>0.005650</td>\n",
       "      <td>0.006234</td>\n",
       "      <td>...</td>\n",
       "      <td>0.017964</td>\n",
       "      <td>0.012048</td>\n",
       "      <td>0.009036</td>\n",
       "      <td>0.005988</td>\n",
       "      <td>0.021084</td>\n",
       "      <td>0.048193</td>\n",
       "      <td>0.023952</td>\n",
       "      <td>0.006024</td>\n",
       "      <td>0.009036</td>\n",
       "      <td>0.041916</td>\n",
       "    </tr>\n",
       "    <tr>\n",
       "      <th>150597</th>\n",
       "      <td>NaN</td>\n",
       "      <td>0.003702</td>\n",
       "      <td>0.005455</td>\n",
       "      <td>0.005650</td>\n",
       "      <td>0.003507</td>\n",
       "      <td>0.005065</td>\n",
       "      <td>0.007208</td>\n",
       "      <td>0.007013</td>\n",
       "      <td>0.007013</td>\n",
       "      <td>0.006234</td>\n",
       "      <td>...</td>\n",
       "      <td>0.018713</td>\n",
       "      <td>0.023529</td>\n",
       "      <td>0.017647</td>\n",
       "      <td>0.011696</td>\n",
       "      <td>0.008235</td>\n",
       "      <td>0.015294</td>\n",
       "      <td>0.021053</td>\n",
       "      <td>0.010588</td>\n",
       "      <td>0.018824</td>\n",
       "      <td>0.035088</td>\n",
       "    </tr>\n",
       "    <tr>\n",
       "      <th>150598</th>\n",
       "      <td>NaN</td>\n",
       "      <td>0.004870</td>\n",
       "      <td>0.005455</td>\n",
       "      <td>0.005455</td>\n",
       "      <td>0.005260</td>\n",
       "      <td>0.005455</td>\n",
       "      <td>0.007988</td>\n",
       "      <td>0.007988</td>\n",
       "      <td>0.005650</td>\n",
       "      <td>0.006234</td>\n",
       "      <td>...</td>\n",
       "      <td>0.013363</td>\n",
       "      <td>0.020134</td>\n",
       "      <td>0.017897</td>\n",
       "      <td>0.015590</td>\n",
       "      <td>0.013423</td>\n",
       "      <td>0.017897</td>\n",
       "      <td>0.017817</td>\n",
       "      <td>0.008949</td>\n",
       "      <td>0.024609</td>\n",
       "      <td>0.035635</td>\n",
       "    </tr>\n",
       "    <tr>\n",
       "      <th>150599</th>\n",
       "      <td>NaN</td>\n",
       "      <td>0.002922</td>\n",
       "      <td>0.006039</td>\n",
       "      <td>0.005065</td>\n",
       "      <td>0.003702</td>\n",
       "      <td>0.007988</td>\n",
       "      <td>0.004870</td>\n",
       "      <td>0.008182</td>\n",
       "      <td>0.006429</td>\n",
       "      <td>0.006819</td>\n",
       "      <td>...</td>\n",
       "      <td>0.022679</td>\n",
       "      <td>0.017070</td>\n",
       "      <td>0.013514</td>\n",
       "      <td>0.012757</td>\n",
       "      <td>0.006401</td>\n",
       "      <td>0.018492</td>\n",
       "      <td>0.020553</td>\n",
       "      <td>0.004267</td>\n",
       "      <td>0.023471</td>\n",
       "      <td>0.041814</td>\n",
       "    </tr>\n",
       "    <tr>\n",
       "      <th>150600</th>\n",
       "      <td>NaN</td>\n",
       "      <td>0.003896</td>\n",
       "      <td>0.005455</td>\n",
       "      <td>0.005845</td>\n",
       "      <td>0.004676</td>\n",
       "      <td>0.005845</td>\n",
       "      <td>0.007988</td>\n",
       "      <td>0.009156</td>\n",
       "      <td>0.006429</td>\n",
       "      <td>0.006819</td>\n",
       "      <td>...</td>\n",
       "      <td>0.033592</td>\n",
       "      <td>0.019430</td>\n",
       "      <td>0.011658</td>\n",
       "      <td>0.014212</td>\n",
       "      <td>0.006477</td>\n",
       "      <td>0.018135</td>\n",
       "      <td>0.020672</td>\n",
       "      <td>0.009067</td>\n",
       "      <td>0.020725</td>\n",
       "      <td>0.046512</td>\n",
       "    </tr>\n",
       "  </tbody>\n",
       "</table>\n",
       "<p>150601 rows × 393 columns</p>\n",
       "</div>"
      ],
      "text/plain": [
       "        0         1         2         3         4         5         6    \\\n",
       "0       NaN  0.003896  0.005455  0.005845  0.004676  0.005845  0.007988   \n",
       "1       NaN  0.023183  0.010325  0.021040  0.020261  0.011299  0.007598   \n",
       "2       NaN  0.023768  0.009546  0.020066  0.021430  0.011884  0.007013   \n",
       "3       NaN  0.023768  0.009351  0.020066  0.021430  0.012079  0.007013   \n",
       "4       NaN  0.020846  0.010131  0.020066  0.020066  0.011494  0.007013   \n",
       "5       NaN  0.023183  0.010325  0.021040  0.020456  0.011494  0.007403   \n",
       "6       NaN  0.021820  0.010715  0.019092  0.021040  0.012274  0.007403   \n",
       "7       NaN  0.022404  0.010520  0.019677  0.021625  0.012274  0.007208   \n",
       "8       NaN  0.023768  0.009546  0.020066  0.021430  0.012079  0.007013   \n",
       "9       NaN  0.021625  0.010520  0.019092  0.021235  0.012274  0.007403   \n",
       "10      NaN  0.022014  0.010131  0.020846  0.020651  0.011494  0.007013   \n",
       "11      NaN  0.023183  0.010325  0.021040  0.020456  0.011494  0.007403   \n",
       "12      NaN  0.022014  0.010715  0.019092  0.021235  0.012079  0.007208   \n",
       "13      NaN  0.021820  0.010715  0.019287  0.021040  0.012468  0.007208   \n",
       "14      NaN  0.023378  0.009936  0.020651  0.021820  0.011884  0.006819   \n",
       "15      NaN  0.021430  0.010520  0.020261  0.020456  0.011299  0.007208   \n",
       "16      NaN  0.021625  0.010715  0.019092  0.021430  0.012468  0.007208   \n",
       "17      NaN  0.021235  0.010325  0.020456  0.020846  0.011689  0.007208   \n",
       "18      NaN  0.022014  0.010520  0.019092  0.021235  0.012079  0.006819   \n",
       "19      NaN  0.022014  0.010715  0.019092  0.021235  0.012079  0.007208   \n",
       "20      NaN  0.023183  0.009936  0.020456  0.021820  0.012079  0.006819   \n",
       "21      NaN  0.022404  0.010520  0.019677  0.021625  0.012274  0.007208   \n",
       "22      NaN  0.022014  0.010520  0.019092  0.021235  0.012079  0.006819   \n",
       "23      NaN  0.023768  0.009741  0.019871  0.021625  0.012079  0.007013   \n",
       "24      NaN  0.022014  0.010520  0.019482  0.021235  0.012274  0.007208   \n",
       "25      NaN  0.023768  0.009546  0.020261  0.021430  0.012079  0.007013   \n",
       "26      NaN  0.023768  0.009546  0.020066  0.021430  0.012079  0.007013   \n",
       "27      NaN  0.020846  0.010131  0.020066  0.020066  0.011494  0.007013   \n",
       "28      NaN  0.021820  0.010520  0.019092  0.021235  0.012274  0.007403   \n",
       "29      NaN  0.022599  0.010520  0.019871  0.021625  0.012274  0.007208   \n",
       "...     ...       ...       ...       ...       ...       ...       ...   \n",
       "150571  NaN  0.003896  0.006039  0.005845  0.003507  0.004870  0.007793   \n",
       "150572  NaN  0.003702  0.005845  0.005455  0.003507  0.008182  0.006039   \n",
       "150573  NaN  0.004676  0.005650  0.006819  0.002922  0.004286  0.008767   \n",
       "150574  NaN  0.004286  0.006039  0.005260  0.003896  0.006819  0.007013   \n",
       "150575  NaN  0.004481  0.005455  0.007013  0.003896  0.006234  0.006819   \n",
       "150576  NaN  0.003702  0.005845  0.004481  0.003896  0.007793  0.005845   \n",
       "150577  NaN  0.004676  0.005845  0.007013  0.003702  0.006819  0.007208   \n",
       "150578  NaN  0.005455  0.006624  0.007208  0.003702  0.007403  0.006429   \n",
       "150579  NaN  0.002533  0.005845  0.005845  0.003312  0.007793  0.005845   \n",
       "150580  NaN  0.003896  0.006429  0.006039  0.003117  0.004091  0.007598   \n",
       "150581  NaN  0.007403  0.007403  0.005455  0.005845  0.008377  0.008182   \n",
       "150582  NaN  0.002533  0.006234  0.006429  0.003312  0.007598  0.007598   \n",
       "150583  NaN  0.007208  0.007598  0.008767  0.004481  0.007013  0.006234   \n",
       "150584  NaN  0.004870  0.006039  0.007208  0.003702  0.006819  0.007208   \n",
       "150585  NaN  0.002922  0.004870  0.006039  0.003507  0.007013  0.009156   \n",
       "150586  NaN  0.005260  0.006819  0.005845  0.005260  0.006039  0.006429   \n",
       "150587  NaN  0.004481  0.005455  0.006624  0.003896  0.005845  0.006624   \n",
       "150588  NaN  0.007403  0.007403  0.005455  0.005845  0.008377  0.007988   \n",
       "150589  NaN  0.004286  0.005650  0.006819  0.002727  0.003896  0.008572   \n",
       "150590  NaN  0.005455  0.006624  0.007403  0.003702  0.007403  0.006819   \n",
       "150591  NaN  0.004091  0.006429  0.005260  0.004091  0.006234  0.006819   \n",
       "150592  NaN  0.003507  0.005845  0.004481  0.003702  0.007793  0.005845   \n",
       "150593  NaN  0.004091  0.005260  0.005845  0.003117  0.004481  0.008572   \n",
       "150594  NaN  0.004481  0.005455  0.005065  0.005845  0.005065  0.008962   \n",
       "150595  NaN  0.004676  0.006039  0.006039  0.005065  0.005845  0.008182   \n",
       "150596  NaN  0.004676  0.006234  0.007208  0.003312  0.006624  0.006819   \n",
       "150597  NaN  0.003702  0.005455  0.005650  0.003507  0.005065  0.007208   \n",
       "150598  NaN  0.004870  0.005455  0.005455  0.005260  0.005455  0.007988   \n",
       "150599  NaN  0.002922  0.006039  0.005065  0.003702  0.007988  0.004870   \n",
       "150600  NaN  0.003896  0.005455  0.005845  0.004676  0.005845  0.007988   \n",
       "\n",
       "             7         8         9      ...          383       384       385  \\\n",
       "0       0.009156  0.006429  0.006819    ...     0.033592  0.019430  0.011658   \n",
       "1       0.002338  0.008377  0.019092    ...          NaN       NaN       NaN   \n",
       "2       0.001559  0.009546  0.019871    ...          NaN       NaN       NaN   \n",
       "3       0.001559  0.009351  0.019871    ...          NaN       NaN       NaN   \n",
       "4       0.001948  0.009351  0.019677    ...          NaN       NaN       NaN   \n",
       "5       0.002338  0.008377  0.019092    ...          NaN       NaN       NaN   \n",
       "6       0.001753  0.009546  0.018313    ...          NaN       NaN       NaN   \n",
       "7       0.001559  0.009936  0.018703    ...          NaN       NaN       NaN   \n",
       "8       0.001559  0.009351  0.019871    ...          NaN       NaN       NaN   \n",
       "9       0.001753  0.009351  0.018313    ...          NaN       NaN       NaN   \n",
       "10      0.002338  0.008377  0.018897    ...          NaN       NaN       NaN   \n",
       "11      0.002338  0.008377  0.019092    ...          NaN       NaN       NaN   \n",
       "12      0.001753  0.009156  0.019092    ...          NaN       NaN       NaN   \n",
       "13      0.001753  0.009741  0.018508    ...          NaN       NaN       NaN   \n",
       "14      0.001559  0.009546  0.019287    ...          NaN       NaN       NaN   \n",
       "15      0.001753  0.009351  0.019677    ...          NaN       NaN       NaN   \n",
       "16      0.001559  0.009741  0.018313    ...          NaN       NaN       NaN   \n",
       "17      0.002338  0.008572  0.019287    ...          NaN       NaN       NaN   \n",
       "18      0.001753  0.009156  0.019092    ...          NaN       NaN       NaN   \n",
       "19      0.001753  0.009156  0.019092    ...          NaN       NaN       NaN   \n",
       "20      0.001559  0.009741  0.019092    ...          NaN       NaN       NaN   \n",
       "21      0.001559  0.009936  0.018703    ...          NaN       NaN       NaN   \n",
       "22      0.001753  0.009156  0.019287    ...          NaN       NaN       NaN   \n",
       "23      0.001559  0.009546  0.019871    ...          NaN       NaN       NaN   \n",
       "24      0.001559  0.009936  0.018508    ...          NaN       NaN       NaN   \n",
       "25      0.001559  0.009546  0.019871    ...          NaN       NaN       NaN   \n",
       "26      0.001559  0.009351  0.019871    ...          NaN       NaN       NaN   \n",
       "27      0.001948  0.009351  0.019677    ...          NaN       NaN       NaN   \n",
       "28      0.001753  0.009351  0.018313    ...          NaN       NaN       NaN   \n",
       "29      0.001559  0.009936  0.018897    ...          NaN       NaN       NaN   \n",
       "...          ...       ...       ...    ...          ...       ...       ...   \n",
       "150571  0.007598  0.007013  0.005845    ...     0.021889  0.019676  0.016204   \n",
       "150572  0.009546  0.007208  0.006039    ...     0.018243  0.020284  0.005409   \n",
       "150573  0.006819  0.006624  0.004870    ...     0.032157  0.008655  0.010228   \n",
       "150574  0.007208  0.006039  0.006039    ...     0.017316  0.026163  0.014535   \n",
       "150575  0.008377  0.006039  0.006819    ...     0.017964  0.012048  0.009036   \n",
       "150576  0.008767  0.006819  0.005845    ...     0.039216  0.019704  0.004926   \n",
       "150577  0.007793  0.005455  0.006039    ...     0.017964  0.012048  0.009036   \n",
       "150578  0.007013  0.006039  0.006819    ...     0.017964  0.012048  0.009036   \n",
       "150579  0.007208  0.007013  0.006624    ...     0.022350  0.016643  0.010854   \n",
       "150580  0.006624  0.006234  0.004676    ...     0.029750  0.012500  0.012500   \n",
       "150581  0.007208  0.006624  0.003702    ...     0.042365  0.046535  0.002970   \n",
       "150582  0.008182  0.007403  0.006039    ...     0.026826  0.014948  0.005232   \n",
       "150583  0.006624  0.005650  0.007013    ...     0.014946  0.031995  0.004765   \n",
       "150584  0.007793  0.005455  0.006039    ...     0.017964  0.012048  0.009036   \n",
       "150585  0.008962  0.006234  0.005845    ...     0.032258  0.014065  0.009142   \n",
       "150586  0.006624  0.006624  0.007598    ...     0.040397  0.031208  0.005312   \n",
       "150587  0.008377  0.006624  0.006819    ...     0.017964  0.012048  0.009036   \n",
       "150588  0.007013  0.007013  0.004481    ...     0.036179  0.045818  0.003636   \n",
       "150589  0.006819  0.007013  0.004676    ...     0.031437  0.012763  0.011261   \n",
       "150590  0.006819  0.005650  0.007013    ...     0.017964  0.012048  0.009036   \n",
       "150591  0.007208  0.006234  0.005845    ...     0.025714  0.020144  0.011511   \n",
       "150592  0.009351  0.006819  0.005845    ...     0.039216  0.019704  0.004926   \n",
       "150593  0.007403  0.006234  0.004870    ...     0.031709  0.008534  0.010085   \n",
       "150594  0.006819  0.005845  0.005455    ...     0.013363  0.020134  0.017897   \n",
       "150595  0.009156  0.006429  0.005845    ...     0.033592  0.019430  0.011658   \n",
       "150596  0.007403  0.005650  0.006234    ...     0.017964  0.012048  0.009036   \n",
       "150597  0.007013  0.007013  0.006234    ...     0.018713  0.023529  0.017647   \n",
       "150598  0.007988  0.005650  0.006234    ...     0.013363  0.020134  0.017897   \n",
       "150599  0.008182  0.006429  0.006819    ...     0.022679  0.017070  0.013514   \n",
       "150600  0.009156  0.006429  0.006819    ...     0.033592  0.019430  0.011658   \n",
       "\n",
       "             386       387       388       389       390       391       392  \n",
       "0       0.014212  0.006477  0.018135  0.020672  0.009067  0.020725  0.046512  \n",
       "1            NaN       NaN       NaN       NaN       NaN       NaN       NaN  \n",
       "2            NaN       NaN       NaN       NaN       NaN       NaN       NaN  \n",
       "3            NaN       NaN       NaN       NaN       NaN       NaN       NaN  \n",
       "4            NaN       NaN       NaN       NaN       NaN       NaN       NaN  \n",
       "5            NaN       NaN       NaN       NaN       NaN       NaN       NaN  \n",
       "6            NaN       NaN       NaN       NaN       NaN       NaN       NaN  \n",
       "7            NaN       NaN       NaN       NaN       NaN       NaN       NaN  \n",
       "8            NaN       NaN       NaN       NaN       NaN       NaN       NaN  \n",
       "9            NaN       NaN       NaN       NaN       NaN       NaN       NaN  \n",
       "10           NaN       NaN       NaN       NaN       NaN       NaN       NaN  \n",
       "11           NaN       NaN       NaN       NaN       NaN       NaN       NaN  \n",
       "12           NaN       NaN       NaN       NaN       NaN       NaN       NaN  \n",
       "13           NaN       NaN       NaN       NaN       NaN       NaN       NaN  \n",
       "14           NaN       NaN       NaN       NaN       NaN       NaN       NaN  \n",
       "15           NaN       NaN       NaN       NaN       NaN       NaN       NaN  \n",
       "16           NaN       NaN       NaN       NaN       NaN       NaN       NaN  \n",
       "17           NaN       NaN       NaN       NaN       NaN       NaN       NaN  \n",
       "18           NaN       NaN       NaN       NaN       NaN       NaN       NaN  \n",
       "19           NaN       NaN       NaN       NaN       NaN       NaN       NaN  \n",
       "20           NaN       NaN       NaN       NaN       NaN       NaN       NaN  \n",
       "21           NaN       NaN       NaN       NaN       NaN       NaN       NaN  \n",
       "22           NaN       NaN       NaN       NaN       NaN       NaN       NaN  \n",
       "23           NaN       NaN       NaN       NaN       NaN       NaN       NaN  \n",
       "24           NaN       NaN       NaN       NaN       NaN       NaN       NaN  \n",
       "25           NaN       NaN       NaN       NaN       NaN       NaN       NaN  \n",
       "26           NaN       NaN       NaN       NaN       NaN       NaN       NaN  \n",
       "27           NaN       NaN       NaN       NaN       NaN       NaN       NaN  \n",
       "28           NaN       NaN       NaN       NaN       NaN       NaN       NaN  \n",
       "29           NaN       NaN       NaN       NaN       NaN       NaN       NaN  \n",
       "...          ...       ...       ...       ...       ...       ...       ...  \n",
       "150571  0.010369  0.006944  0.017361  0.018433  0.011574  0.019676  0.033410  \n",
       "150572  0.012838  0.012847  0.020960  0.013514  0.003381  0.014875  0.025676  \n",
       "150573  0.008627  0.003147  0.017309  0.026667  0.007868  0.021243  0.037647  \n",
       "150574  0.018759  0.010174  0.013081  0.020202  0.010174  0.021802  0.033189  \n",
       "150575  0.005988  0.021084  0.048193  0.023952  0.006024  0.009036  0.041916  \n",
       "150576  0.009804  0.004926  0.014778  0.009804  0.004926  0.009852  0.029412  \n",
       "150577  0.005988  0.021084  0.048193  0.023952  0.006024  0.009036  0.041916  \n",
       "150578  0.005988  0.021084  0.048193  0.023952  0.006024  0.009036  0.041916  \n",
       "150579  0.013699  0.005789  0.020260  0.018745  0.007236  0.021708  0.043259  \n",
       "150580  0.011516  0.005769  0.019231  0.024952  0.011538  0.022115  0.033589  \n",
       "150581  0.011823  0.009901  0.015842  0.022660  0.005941  0.017822  0.025616  \n",
       "150582  0.013413  0.007474  0.015695  0.021610  0.008221  0.022422  0.041729  \n",
       "150583  0.015625  0.005446  0.015657  0.021739  0.006127  0.015657  0.024457  \n",
       "150584  0.005988  0.021084  0.048193  0.023952  0.006024  0.009036  0.041916  \n",
       "150585  0.014727  0.005626  0.015471  0.021739  0.009142  0.021800  0.046283  \n",
       "150586  0.017219  0.008632  0.019256  0.019205  0.005976  0.018592  0.027152  \n",
       "150587  0.005988  0.021084  0.048193  0.023952  0.006024  0.009036  0.041916  \n",
       "150588  0.012301  0.010182  0.018182  0.020984  0.006545  0.017455  0.025326  \n",
       "150589  0.010479  0.005255  0.015766  0.028443  0.009760  0.023273  0.034431  \n",
       "150590  0.005988  0.021084  0.048193  0.023952  0.006024  0.009036  0.041916  \n",
       "150591  0.015714  0.005755  0.014388  0.015714  0.007194  0.017266  0.038571  \n",
       "150592  0.009804  0.004926  0.014778  0.009804  0.004926  0.009852  0.029412  \n",
       "150593  0.009281  0.003103  0.017067  0.026295  0.007758  0.020946  0.037123  \n",
       "150594  0.015590  0.013423  0.017897  0.017817  0.008949  0.024609  0.035635  \n",
       "150595  0.014212  0.006477  0.018135  0.020672  0.009067  0.020725  0.046512  \n",
       "150596  0.005988  0.021084  0.048193  0.023952  0.006024  0.009036  0.041916  \n",
       "150597  0.011696  0.008235  0.015294  0.021053  0.010588  0.018824  0.035088  \n",
       "150598  0.015590  0.013423  0.017897  0.017817  0.008949  0.024609  0.035635  \n",
       "150599  0.012757  0.006401  0.018492  0.020553  0.004267  0.023471  0.041814  \n",
       "150600  0.014212  0.006477  0.018135  0.020672  0.009067  0.020725  0.046512  \n",
       "\n",
       "[150601 rows x 393 columns]"
      ]
     },
     "execution_count": 94,
     "metadata": {},
     "output_type": "execute_result"
    }
   ],
   "source": [
    "virus"
   ]
  },
  {
   "cell_type": "code",
   "execution_count": 83,
   "metadata": {
    "collapsed": true
   },
   "outputs": [],
   "source": [
    "nonvirus = pd.read_csv('/Users/qingpeng/nonvirus.vector',sep=' ',header=None)"
   ]
  },
  {
   "cell_type": "code",
   "execution_count": 68,
   "metadata": {
    "collapsed": true
   },
   "outputs": [],
   "source": [
    "import seaborn as sns"
   ]
  },
  {
   "cell_type": "code",
   "execution_count": 114,
   "metadata": {
    "collapsed": true
   },
   "outputs": [],
   "source": [
    "feature_list = pd.read_csv('/Users/qingpeng/Dropbox/Development/Github/jgi-ViCA/scripts/model/all_segment.fasta.vect.feature_index',sep=' ',header=None)"
   ]
  },
  {
   "cell_type": "code",
   "execution_count": 120,
   "metadata": {
    "collapsed": false
   },
   "outputs": [
    {
     "data": {
      "text/plain": [
       "'0_AAAA'"
      ]
     },
     "execution_count": 120,
     "metadata": {},
     "output_type": "execute_result"
    }
   ],
   "source": [
    "feature_list[1][0]"
   ]
  },
  {
   "cell_type": "code",
   "execution_count": 124,
   "metadata": {
    "collapsed": false
   },
   "outputs": [
    {
     "data": {
      "text/plain": [
       "'0_AAAC'"
      ]
     },
     "execution_count": 124,
     "metadata": {},
     "output_type": "execute_result"
    }
   ],
   "source": [
    "feature_list[1][1]"
   ]
  },
  {
   "cell_type": "code",
   "execution_count": null,
   "metadata": {
    "collapsed": true
   },
   "outputs": [],
   "source": [
    "# 136 4-mers... 36 *4 .. "
   ]
  },
  {
   "cell_type": "code",
   "execution_count": 125,
   "metadata": {
    "collapsed": false,
    "scrolled": true
   },
   "outputs": [
    {
     "data": {
      "image/png": "[encoded data removed]",
      "text/plain": [
       "<matplotlib.figure.Figure at 0x136ea0f10>"
      ]
     },
     "metadata": {},
     "output_type": "display_data"
    }
   ],
   "source": [
    "fig, ax_array = plt.subplots(6,6,figsize=(18,18))\n",
    "#sns.distplot(algea[1],hist=False,ax=ax_array[0,0]);\n",
    "sns.distplot(virus[1],hist=False,ax=ax_array[0,0]);\n",
    "sns.distplot(nonvirus[1],hist=False,ax=ax_array[0,0]);\n",
    "sns.distplot(virus[2],hist=False,ax=ax_array[0,1]);\n",
    "sns.distplot(nonvirus[2],hist=False,ax=ax_array[0,1]);\n",
    "ax_array[0,0].set_title(feature_list[1][0])\n",
    "ax_array[0,1].set_title(feature_list[1][1])\n",
    "plt.show()"
   ]
  },
  {
   "cell_type": "code",
   "execution_count": 69,
   "metadata": {
    "collapsed": true
   },
   "outputs": [],
   "source": [
    "sns.set(color_codes=True)"
   ]
  },
  {
   "cell_type": "code",
   "execution_count": 70,
   "metadata": {
    "collapsed": true
   },
   "outputs": [],
   "source": [
    "np.random.seed(sum(map(ord, \"distributions\")))"
   ]
  },
  {
   "cell_type": "code",
   "execution_count": 76,
   "metadata": {
    "collapsed": false
   },
   "outputs": [
    {
     "data": {
      "image/png": "[encoded data removed]",
      "text/plain": [
       "<matplotlib.figure.Figure at 0x11d86ac10>"
      ]
     },
     "metadata": {},
     "output_type": "display_data"
    }
   ],
   "source": [
    "\n",
    "sns.distplot(algea[1],nonvirus[1],hist=False, rug=True);"
   ]
  },
  {
   "cell_type": "code",
   "execution_count": 74,
   "metadata": {
    "collapsed": false
   },
   "outputs": [
    {
     "data": {
      "image/png": "[encoded data removed]",
      "text/plain": [
       "<matplotlib.figure.Figure at 0x11c26bd90>"
      ]
     },
     "metadata": {},
     "output_type": "display_data"
    }
   ],
   "source": [
    "sns.distplot(nonvirus[1]);"
   ]
  },
  {
   "cell_type": "code",
   "execution_count": 100,
   "metadata": {
    "collapsed": false
   },
   "outputs": [
    {
     "data": {
      "text/plain": [
       "<matplotlib.axes._subplots.AxesSubplot at 0x1269eeb90>"
      ]
     },
     "execution_count": 100,
     "metadata": {},
     "output_type": "execute_result"
    },
    {
     "data": {
      "image/png": "[encoded data removed]",
      "text/plain": [
       "<matplotlib.figure.Figure at 0x12906ce10>"
      ]
     },
     "metadata": {},
     "output_type": "display_data"
    }
   ],
   "source": [
    "algea[1].hist(color='k', alpha=0.5, bins=50,range=[0,0.1])"
   ]
  },
  {
   "cell_type": "code",
   "execution_count": 45,
   "metadata": {
    "collapsed": false
   },
   "outputs": [
    {
     "data": {
      "text/plain": [
       "<matplotlib.axes._subplots.AxesSubplot at 0x114fb0ad0>"
      ]
     },
     "execution_count": 45,
     "metadata": {},
     "output_type": "execute_result"
    },
    {
     "data": {
      "image/png": "[encoded data removed]",
      "text/plain": [
       "<matplotlib.figure.Figure at 0x115603a10>"
      ]
     },
     "metadata": {},
     "output_type": "display_data"
    }
   ],
   "source": [
    "virus[1].hist(color='r', alpha=0.5, bins=50,range=[0,0.1])"
   ]
  },
  {
   "cell_type": "code",
   "execution_count": 46,
   "metadata": {
    "collapsed": false
   },
   "outputs": [
    {
     "data": {
      "text/plain": [
       "<matplotlib.axes._subplots.AxesSubplot at 0x1158bb8d0>"
      ]
     },
     "execution_count": 46,
     "metadata": {},
     "output_type": "execute_result"
    },
    {
     "data": {
      "image/png": "[encoded data removed]",
      "text/plain": [
       "<matplotlib.figure.Figure at 0x1158b0a50>"
      ]
     },
     "metadata": {},
     "output_type": "display_data"
    }
   ],
   "source": [
    "nonvirus[1].hist(color='b', alpha=0.5, bins=50,range=[0,0.1])"
   ]
  },
  {
   "cell_type": "code",
   "execution_count": 47,
   "metadata": {
    "collapsed": false
   },
   "outputs": [
    {
     "data": {
      "text/plain": [
       "<matplotlib.axes._subplots.AxesSubplot at 0x115e35fd0>"
      ]
     },
     "execution_count": 47,
     "metadata": {},
     "output_type": "execute_result"
    },
    {
     "data": {
      "image/png": "[encoded data removed]",
      "text/plain": [
       "<matplotlib.figure.Figure at 0x1155caad0>"
      ]
     },
     "metadata": {},
     "output_type": "display_data"
    }
   ],
   "source": [
    "algea[2].hist(color='k', alpha=0.5, bins=50,range=[0,0.1])\n"
   ]
  },
  {
   "cell_type": "code",
   "execution_count": 48,
   "metadata": {
    "collapsed": false
   },
   "outputs": [
    {
     "data": {
      "text/plain": [
       "<matplotlib.axes._subplots.AxesSubplot at 0x115fc8190>"
      ]
     },
     "execution_count": 48,
     "metadata": {},
     "output_type": "execute_result"
    },
    {
     "data": {
      "image/png": "[encoded data removed]",
      "text/plain": [
       "<matplotlib.figure.Figure at 0x115b8fc10>"
      ]
     },
     "metadata": {},
     "output_type": "display_data"
    }
   ],
   "source": [
    "virus[2].hist(color='r', alpha=0.5, bins=50,range=[0,0.1])\n"
   ]
  },
  {
   "cell_type": "code",
   "execution_count": 49,
   "metadata": {
    "collapsed": false
   },
   "outputs": [
    {
     "data": {
      "text/plain": [
       "<matplotlib.axes._subplots.AxesSubplot at 0x116463a50>"
      ]
     },
     "execution_count": 49,
     "metadata": {},
     "output_type": "execute_result"
    },
    {
     "data": {
      "image/png": "[encoded data removed]",
      "text/plain": [
       "<matplotlib.figure.Figure at 0x115f00310>"
      ]
     },
     "metadata": {},
     "output_type": "display_data"
    }
   ],
   "source": [
    "nonvirus[2].hist(color='b', alpha=0.5, bins=50,range=[0,0.1])"
   ]
  },
  {
   "cell_type": "code",
   "execution_count": 50,
   "metadata": {
    "collapsed": false
   },
   "outputs": [
    {
     "data": {
      "text/plain": [
       "<matplotlib.axes._subplots.AxesSubplot at 0x1166a5dd0>"
      ]
     },
     "execution_count": 50,
     "metadata": {},
     "output_type": "execute_result"
    },
    {
     "data": {
      "image/png": "[encoded data removed]",
      "text/plain": [
       "<matplotlib.figure.Figure at 0x11648c950>"
      ]
     },
     "metadata": {},
     "output_type": "display_data"
    }
   ],
   "source": [
    "algea[100].hist(color='k', alpha=0.5, bins=50,range=[0,0.1])"
   ]
  },
  {
   "cell_type": "code",
   "execution_count": 51,
   "metadata": {
    "collapsed": false
   },
   "outputs": [
    {
     "data": {
      "text/plain": [
       "<matplotlib.axes._subplots.AxesSubplot at 0x116a7c350>"
      ]
     },
     "execution_count": 51,
     "metadata": {},
     "output_type": "execute_result"
    },
    {
     "data": {
      "image/png": "[encoded data removed]",
      "text/plain": [
       "<matplotlib.figure.Figure at 0x116aac850>"
      ]
     },
     "metadata": {},
     "output_type": "display_data"
    }
   ],
   "source": [
    "virus[100].hist(color='r', alpha=0.5, bins=50,range=[0,0.1])\n",
    "\n"
   ]
  },
  {
   "cell_type": "code",
   "execution_count": 52,
   "metadata": {
    "collapsed": false
   },
   "outputs": [
    {
     "data": {
      "text/plain": [
       "<matplotlib.axes._subplots.AxesSubplot at 0x116d500d0>"
      ]
     },
     "execution_count": 52,
     "metadata": {},
     "output_type": "execute_result"
    },
    {
     "data": {
      "image/png": "[encoded data removed]",
      "text/plain": [
       "<matplotlib.figure.Figure at 0x116aa3990>"
      ]
     },
     "metadata": {},
     "output_type": "display_data"
    }
   ],
   "source": [
    "nonvirus[100].hist(color='b', alpha=0.5, bins=50,range=[0,0.1])"
   ]
  },
  {
   "cell_type": "code",
   "execution_count": 53,
   "metadata": {
    "collapsed": false
   },
   "outputs": [
    {
     "data": {
      "text/plain": [
       "<matplotlib.axes._subplots.AxesSubplot at 0x117020b10>"
      ]
     },
     "execution_count": 53,
     "metadata": {},
     "output_type": "execute_result"
    },
    {
     "data": {
      "image/png": "[encoded data removed]",
      "text/plain": [
       "<matplotlib.figure.Figure at 0x116aa3890>"
      ]
     },
     "metadata": {},
     "output_type": "display_data"
    }
   ],
   "source": [
    "algea[150].hist(color='k', alpha=0.5, bins=50,range=[0,0.15])"
   ]
  },
  {
   "cell_type": "code",
   "execution_count": 54,
   "metadata": {
    "collapsed": false
   },
   "outputs": [
    {
     "data": {
      "text/plain": [
       "<matplotlib.axes._subplots.AxesSubplot at 0x11727b050>"
      ]
     },
     "execution_count": 54,
     "metadata": {},
     "output_type": "execute_result"
    },
    {
     "data": {
      "image/png": "[encoded data removed]",
      "text/plain": [
       "<matplotlib.figure.Figure at 0x116e28350>"
      ]
     },
     "metadata": {},
     "output_type": "display_data"
    }
   ],
   "source": [
    "virus[150].hist(color='r', alpha=0.5, bins=50,range=[0,0.15])\n",
    "\n"
   ]
  },
  {
   "cell_type": "code",
   "execution_count": 55,
   "metadata": {
    "collapsed": false
   },
   "outputs": [
    {
     "data": {
      "text/plain": [
       "<matplotlib.axes._subplots.AxesSubplot at 0x11765b690>"
      ]
     },
     "execution_count": 55,
     "metadata": {},
     "output_type": "execute_result"
    },
    {
     "data": {
      "image/png": "[encoded data removed]",
      "text/plain": [
       "<matplotlib.figure.Figure at 0x117285d90>"
      ]
     },
     "metadata": {},
     "output_type": "display_data"
    }
   ],
   "source": [
    "nonvirus[150].hist(color='b', alpha=0.5, bins=50,range=[0,0.15])"
   ]
  },
  {
   "cell_type": "code",
   "execution_count": 56,
   "metadata": {
    "collapsed": false
   },
   "outputs": [
    {
     "data": {
      "text/plain": [
       "<matplotlib.axes._subplots.AxesSubplot at 0x1181bb050>"
      ]
     },
     "execution_count": 56,
     "metadata": {},
     "output_type": "execute_result"
    },
    {
     "data": {
      "image/png": "[encoded data removed]",
      "text/plain": [
       "<matplotlib.figure.Figure at 0x1172915d0>"
      ]
     },
     "metadata": {},
     "output_type": "display_data"
    }
   ],
   "source": [
    "algea[160].hist(color='k', alpha=0.5, bins=50,range=[0,0.15])"
   ]
  },
  {
   "cell_type": "code",
   "execution_count": 57,
   "metadata": {
    "collapsed": false
   },
   "outputs": [
    {
     "data": {
      "text/plain": [
       "<matplotlib.axes._subplots.AxesSubplot at 0x11848d750>"
      ]
     },
     "execution_count": 57,
     "metadata": {},
     "output_type": "execute_result"
    },
    {
     "data": {
      "image/png": "[encoded data removed]",
      "text/plain": [
       "<matplotlib.figure.Figure at 0x1181e2cd0>"
      ]
     },
     "metadata": {},
     "output_type": "display_data"
    }
   ],
   "source": [
    "virus[160].hist(color='r', alpha=0.5, bins=50,range=[0,0.15])\n",
    "\n"
   ]
  },
  {
   "cell_type": "code",
   "execution_count": 58,
   "metadata": {
    "collapsed": false
   },
   "outputs": [
    {
     "data": {
      "text/plain": [
       "<matplotlib.axes._subplots.AxesSubplot at 0x118a6d810>"
      ]
     },
     "execution_count": 58,
     "metadata": {},
     "output_type": "execute_result"
    },
    {
     "data": {
      "image/png": "[encoded data removed]",
      "text/plain": [
       "<matplotlib.figure.Figure at 0x1184a35d0>"
      ]
     },
     "metadata": {},
     "output_type": "display_data"
    }
   ],
   "source": [
    "nonvirus[160].hist(color='b', alpha=0.5, bins=50,range=[0,0.15])"
   ]
  },
  {
   "cell_type": "code",
   "execution_count": 62,
   "metadata": {
    "collapsed": false
   },
   "outputs": [
    {
     "data": {
      "text/plain": [
       "<matplotlib.axes._subplots.AxesSubplot at 0x1195df310>"
      ]
     },
     "execution_count": 62,
     "metadata": {},
     "output_type": "execute_result"
    },
    {
     "data": {
      "image/png": "[encoded data removed]",
      "text/plain": [
       "<matplotlib.figure.Figure at 0x11937fb10>"
      ]
     },
     "metadata": {},
     "output_type": "display_data"
    }
   ],
   "source": [
    "algea[250].hist(color='k', alpha=0.5, bins=50,range=[0,0.04])"
   ]
  },
  {
   "cell_type": "code",
   "execution_count": 63,
   "metadata": {
    "collapsed": false
   },
   "outputs": [
    {
     "data": {
      "text/plain": [
       "<matplotlib.axes._subplots.AxesSubplot at 0x1197c8650>"
      ]
     },
     "execution_count": 63,
     "metadata": {},
     "output_type": "execute_result"
    },
    {
     "data": {
      "image/png": "[encoded data removed]",
      "text/plain": [
       "<matplotlib.figure.Figure at 0x119638090>"
      ]
     },
     "metadata": {},
     "output_type": "display_data"
    }
   ],
   "source": [
    "virus[250].hist(color='r', alpha=0.5, bins=50,range=[0,0.04])\n",
    "\n"
   ]
  },
  {
   "cell_type": "code",
   "execution_count": 64,
   "metadata": {
    "collapsed": false
   },
   "outputs": [
    {
     "data": {
      "text/plain": [
       "<matplotlib.axes._subplots.AxesSubplot at 0x119cae150>"
      ]
     },
     "execution_count": 64,
     "metadata": {},
     "output_type": "execute_result"
    },
    {
     "data": {
      "image/png": "[encoded data removed]",
      "text/plain": [
       "<matplotlib.figure.Figure at 0x1197eee90>"
      ]
     },
     "metadata": {},
     "output_type": "display_data"
    }
   ],
   "source": [
    "nonvirus[250].hist(color='b', alpha=0.5, bins=50,range=[0,0.04])"
   ]
  },
  {
   "cell_type": "code",
   "execution_count": 65,
   "metadata": {
    "collapsed": false
   },
   "outputs": [
    {
     "data": {
      "text/plain": [
       "<matplotlib.axes._subplots.AxesSubplot at 0x119f038d0>"
      ]
     },
     "execution_count": 65,
     "metadata": {},
     "output_type": "execute_result"
    },
    {
     "data": {
      "image/png": "[encoded data removed]",
      "text/plain": [
       "<matplotlib.figure.Figure at 0x1197f9610>"
      ]
     },
     "metadata": {},
     "output_type": "display_data"
    }
   ],
   "source": [
    "algea[300].hist(color='k', alpha=0.5, bins=50,range=[0,0.04])"
   ]
  },
  {
   "cell_type": "code",
   "execution_count": 66,
   "metadata": {
    "collapsed": false
   },
   "outputs": [
    {
     "data": {
      "text/plain": [
       "<matplotlib.axes._subplots.AxesSubplot at 0x11a0eae90>"
      ]
     },
     "execution_count": 66,
     "metadata": {},
     "output_type": "execute_result"
    },
    {
     "data": {
      "image/png": "[encoded data removed]",
      "text/plain": [
       "<matplotlib.figure.Figure at 0x1195f3c90>"
      ]
     },
     "metadata": {},
     "output_type": "display_data"
    }
   ],
   "source": [
    "virus[300].hist(color='r', alpha=0.5, bins=50,range=[0,0.04])\n",
    "\n"
   ]
  },
  {
   "cell_type": "code",
   "execution_count": 67,
   "metadata": {
    "collapsed": false
   },
   "outputs": [
    {
     "data": {
      "text/plain": [
       "<matplotlib.axes._subplots.AxesSubplot at 0x11a4cd310>"
      ]
     },
     "execution_count": 67,
     "metadata": {},
     "output_type": "execute_result"
    },
    {
     "data": {
      "image/png": "[encoded data removed]",
      "text/plain": [
       "<matplotlib.figure.Figure at 0x11a21bb50>"
      ]
     },
     "metadata": {},
     "output_type": "display_data"
    }
   ],
   "source": [
    "nonvirus[300].hist(color='b', alpha=0.5, bins=50,range=[0,0.04])"
   ]
  },
  {
   "cell_type": "code",
   "execution_count": null,
   "metadata": {
    "collapsed": true
   },
   "outputs": [],
   "source": []
  }
 ],
 "metadata": {
  "kernelspec": {
   "display_name": "Python 2",
   "language": "python",
   "name": "python2"
  },
  "language_info": {
   "codemirror_mode": {
    "name": "ipython",
    "version": 2
   },
   "file_extension": ".py",
   "mimetype": "text/x-python",
   "name": "python",
   "nbconvert_exporter": "python",
   "pygments_lexer": "ipython2",
   "version": "2.7.12"
  }
 },
 "nbformat": 4,
 "nbformat_minor": 0
}
