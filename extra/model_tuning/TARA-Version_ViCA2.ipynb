{
 "cells": [
  {
   "cell_type": "code",
   "execution_count": 1,
   "metadata": {},
   "outputs": [],
   "source": [
    "%matplotlib inline"
   ]
  },
  {
   "cell_type": "code",
   "execution_count": 2,
   "metadata": {},
   "outputs": [],
   "source": [
    "import pandas as pd\n",
    "import numpy as np\n",
    "import matplotlib.pyplot as plt"
   ]
  },
  {
   "cell_type": "code",
   "execution_count": 3,
   "metadata": {},
   "outputs": [],
   "source": [
    "\n",
    "from sklearn.datasets import load_svmlight_file\n",
    "from sklearn.externals import joblib\n",
    "import argparse\n",
    "from sklearn.metrics import average_precision_score\n",
    "from sklearn.metrics import confusion_matrix, precision_recall_curve\n",
    "from sklearn.metrics import classification_report"
   ]
  },
  {
   "cell_type": "code",
   "execution_count": 131,
   "metadata": {},
   "outputs": [],
   "source": [
    "prediction = pd.read_csv('/Users/qingpeng/TARA/predictions.out')"
   ]
  },
  {
   "cell_type": "code",
   "execution_count": 132,
   "metadata": {},
   "outputs": [],
   "source": [
    "prediction_filtered = prediction[prediction.ID != 'ID']"
   ]
  },
  {
   "cell_type": "code",
   "execution_count": 133,
   "metadata": {},
   "outputs": [
    {
     "data": {
      "text/plain": [
       "7734"
      ]
     },
     "execution_count": 133,
     "metadata": {},
     "output_type": "execute_result"
    }
   ],
   "source": [
    "len(prediction_filtered)"
   ]
  },
  {
   "cell_type": "code",
   "execution_count": 134,
   "metadata": {},
   "outputs": [
    {
     "data": {
      "text/plain": [
       "7737"
      ]
     },
     "execution_count": 134,
     "metadata": {},
     "output_type": "execute_result"
    }
   ],
   "source": [
    "len(prediction)"
   ]
  },
  {
   "cell_type": "code",
   "execution_count": 135,
   "metadata": {},
   "outputs": [
    {
     "data": {
      "text/plain": [
       "ID              object\n",
       "Class           object\n",
       "Class_id        object\n",
       "Prob_class_0    object\n",
       "Prob_class_1    object\n",
       "Prob_class_2    object\n",
       "Prob_class_3    object\n",
       "dtype: object"
      ]
     },
     "execution_count": 135,
     "metadata": {},
     "output_type": "execute_result"
    }
   ],
   "source": [
    "prediction_filtered.dtypes"
   ]
  },
  {
   "cell_type": "code",
   "execution_count": 77,
   "metadata": {},
   "outputs": [
    {
     "data": {
      "text/plain": [
       "7737"
      ]
     },
     "execution_count": 77,
     "metadata": {},
     "output_type": "execute_result"
    }
   ],
   "source": [
    "len(result)"
   ]
  },
  {
   "cell_type": "markdown",
   "metadata": {},
   "source": [
    "### there are duplicates contigs id in different files"
   ]
  },
  {
   "cell_type": "code",
   "execution_count": 139,
   "metadata": {},
   "outputs": [
    {
     "name": "stderr",
     "output_type": "stream",
     "text": [
      "/anaconda/lib/python2.7/site-packages/ipykernel/__main__.py:1: SettingWithCopyWarning: \n",
      "A value is trying to be set on a copy of a slice from a DataFrame\n",
      "\n",
      "See the caveats in the documentation: http://pandas.pydata.org/pandas-docs/stable/indexing.html#indexing-view-versus-copy\n",
      "  if __name__ == '__main__':\n"
     ]
    }
   ],
   "source": [
    "prediction_filtered.drop_duplicates(subset='ID', keep = 'first',inplace=True)"
   ]
  },
  {
   "cell_type": "code",
   "execution_count": 140,
   "metadata": {},
   "outputs": [
    {
     "data": {
      "text/plain": [
       "7704"
      ]
     },
     "execution_count": 140,
     "metadata": {},
     "output_type": "execute_result"
    }
   ],
   "source": [
    "len(prediction_filtered)"
   ]
  },
  {
   "cell_type": "code",
   "execution_count": 6,
   "metadata": {},
   "outputs": [],
   "source": [
    "### Using MEGAN annotation to check model performance \n",
    "\n",
    "\n",
    "from ete2 import NCBITaxa\n",
    "ncbi = NCBITaxa()\n",
    "def get_top_label(tax_id):\n",
    "    lineage = ncbi.get_lineage(tax_id)\n",
    "    for i in lineage:\n",
    "        if i == 2759:\n",
    "            return \"Eukaryota\"\n",
    "        elif i == 10239:\n",
    "            return \"Virus\"\n",
    "        elif i == 2157:\n",
    "            return \"Archaea\"\n",
    "        elif i == 2:\n",
    "            return \"Bacteria\"\n",
    "        elif i == 12884:\n",
    "            return \"Viroids\"\n",
    "        elif i == 28384:\n",
    "            return \"other\"\n",
    "        elif i == 12908:\n",
    "            return \"unclassified\"\n",
    "    else:\n",
    "        return \"N/A\"\n",
    "\n",
    "def get_ranks(tax_id):\n",
    "    ranks = ncbi.get_rank([tax_id])\n",
    "    try:\n",
    "        return ranks.values()[0]\n",
    "    except:\n",
    "        return tax_id\n",
    "    \n",
    "def get_name(tax_id):\n",
    "    ranks = ncbi.get_taxid_translator([tax_id])\n",
    "    try:\n",
    "        return ranks.values()[0]\n",
    "    except:\n",
    "        return tax_id\n",
    "\n",
    "# get MEGAN annotation results"
   ]
  },
  {
   "cell_type": "code",
   "execution_count": 13,
   "metadata": {},
   "outputs": [],
   "source": [
    "megan_annot = pd.read_csv('/Users/qingpeng/TARA/diamond-ex.txt',sep='\\t',header=None,names=['ID','tax_id'])\n",
    "\n",
    "megan_annot['rank'] = megan_annot['tax_id'].apply(get_ranks)\n",
    "megan_annot['tax_name']= megan_annot['tax_id'].apply(get_name)\n",
    "megan_annot['top_label']= megan_annot['tax_id'].apply(get_top_label)"
   ]
  },
  {
   "cell_type": "code",
   "execution_count": 130,
   "metadata": {},
   "outputs": [
    {
     "data": {
      "text/plain": [
       "ID           object\n",
       "tax_id        int64\n",
       "rank         object\n",
       "tax_name     object\n",
       "top_label    object\n",
       "dtype: object"
      ]
     },
     "execution_count": 130,
     "metadata": {},
     "output_type": "execute_result"
    }
   ],
   "source": [
    "megan_annot.dtypes"
   ]
  },
  {
   "cell_type": "code",
   "execution_count": 16,
   "metadata": {},
   "outputs": [
    {
     "data": {
      "text/html": [
       "<div>\n",
       "<style>\n",
       "    .dataframe thead tr:only-child th {\n",
       "        text-align: right;\n",
       "    }\n",
       "\n",
       "    .dataframe thead th {\n",
       "        text-align: left;\n",
       "    }\n",
       "\n",
       "    .dataframe tbody tr th {\n",
       "        vertical-align: top;\n",
       "    }\n",
       "</style>\n",
       "<table border=\"1\" class=\"dataframe\">\n",
       "  <thead>\n",
       "    <tr style=\"text-align: right;\">\n",
       "      <th></th>\n",
       "      <th>ID</th>\n",
       "      <th>tax_id</th>\n",
       "      <th>rank</th>\n",
       "      <th>tax_name</th>\n",
       "      <th>top_label</th>\n",
       "    </tr>\n",
       "  </thead>\n",
       "  <tbody>\n",
       "    <tr>\n",
       "      <th>0</th>\n",
       "      <td>k119_181893</td>\n",
       "      <td>1</td>\n",
       "      <td>no rank</td>\n",
       "      <td>root</td>\n",
       "      <td>N/A</td>\n",
       "    </tr>\n",
       "    <tr>\n",
       "      <th>1</th>\n",
       "      <td>k119_203060</td>\n",
       "      <td>1</td>\n",
       "      <td>no rank</td>\n",
       "      <td>root</td>\n",
       "      <td>N/A</td>\n",
       "    </tr>\n",
       "    <tr>\n",
       "      <th>2</th>\n",
       "      <td>k119_451532</td>\n",
       "      <td>1</td>\n",
       "      <td>no rank</td>\n",
       "      <td>root</td>\n",
       "      <td>N/A</td>\n",
       "    </tr>\n",
       "    <tr>\n",
       "      <th>3</th>\n",
       "      <td>k119_738333</td>\n",
       "      <td>1</td>\n",
       "      <td>no rank</td>\n",
       "      <td>root</td>\n",
       "      <td>N/A</td>\n",
       "    </tr>\n",
       "    <tr>\n",
       "      <th>4</th>\n",
       "      <td>k119_105632</td>\n",
       "      <td>1</td>\n",
       "      <td>no rank</td>\n",
       "      <td>root</td>\n",
       "      <td>N/A</td>\n",
       "    </tr>\n",
       "  </tbody>\n",
       "</table>\n",
       "</div>"
      ],
      "text/plain": [
       "            ID  tax_id     rank tax_name top_label\n",
       "0  k119_181893       1  no rank     root       N/A\n",
       "1  k119_203060       1  no rank     root       N/A\n",
       "2  k119_451532       1  no rank     root       N/A\n",
       "3  k119_738333       1  no rank     root       N/A\n",
       "4  k119_105632       1  no rank     root       N/A"
      ]
     },
     "execution_count": 16,
     "metadata": {},
     "output_type": "execute_result"
    }
   ],
   "source": [
    "megan_annot.head()"
   ]
  },
  {
   "cell_type": "code",
   "execution_count": 32,
   "metadata": {},
   "outputs": [
    {
     "data": {
      "text/plain": [
       "6314"
      ]
     },
     "execution_count": 32,
     "metadata": {},
     "output_type": "execute_result"
    }
   ],
   "source": [
    "len(megan_annot)"
   ]
  },
  {
   "cell_type": "code",
   "execution_count": 64,
   "metadata": {},
   "outputs": [],
   "source": [
    "megan_annot.drop_duplicates(subset='ID', keep = 'first',inplace=True)"
   ]
  },
  {
   "cell_type": "code",
   "execution_count": 65,
   "metadata": {},
   "outputs": [
    {
     "data": {
      "text/plain": [
       "6306"
      ]
     },
     "execution_count": 65,
     "metadata": {},
     "output_type": "execute_result"
    }
   ],
   "source": [
    "len(megan_annot)"
   ]
  },
  {
   "cell_type": "code",
   "execution_count": 141,
   "metadata": {},
   "outputs": [],
   "source": [
    "new_table = pd.merge(prediction_filtered,megan_annot,how='left',on='ID')"
   ]
  },
  {
   "cell_type": "code",
   "execution_count": 142,
   "metadata": {},
   "outputs": [
    {
     "data": {
      "text/plain": [
       "7704"
      ]
     },
     "execution_count": 142,
     "metadata": {},
     "output_type": "execute_result"
    }
   ],
   "source": [
    "len(new_table)"
   ]
  },
  {
   "cell_type": "code",
   "execution_count": 144,
   "metadata": {},
   "outputs": [],
   "source": [
    "new_table['top_label'].fillna('N/A',inplace = True)"
   ]
  },
  {
   "cell_type": "markdown",
   "metadata": {},
   "source": [
    "### 7704 contigs with length >=3k, in TARA, with prediction\n"
   ]
  },
  {
   "cell_type": "code",
   "execution_count": 163,
   "metadata": {},
   "outputs": [],
   "source": [
    "new_table.Prob_class_1 = pd.to_numeric(new_table.Prob_class_1)"
   ]
  },
  {
   "cell_type": "markdown",
   "metadata": {},
   "source": [
    "### 3565 Contigs with prediction score >0.95"
   ]
  },
  {
   "cell_type": "code",
   "execution_count": 169,
   "metadata": {},
   "outputs": [
    {
     "data": {
      "text/plain": [
       "3565"
      ]
     },
     "execution_count": 169,
     "metadata": {},
     "output_type": "execute_result"
    }
   ],
   "source": [
    "len(new_table[new_table.Prob_class_1>0.95])"
   ]
  },
  {
   "cell_type": "markdown",
   "metadata": {},
   "source": [
    "### Out of them, 18 are annotated as \"Virus\" by MEGAN with BlastX/Diamond to Nr database"
   ]
  },
  {
   "cell_type": "markdown",
   "metadata": {},
   "source": [
    "and \n",
    "\n",
    "- 51 Bacteria\n",
    "- 2950 Eukaryota\n",
    "- 546 Unknown (no significant Blastx hits)"
   ]
  },
  {
   "cell_type": "code",
   "execution_count": 180,
   "metadata": {},
   "outputs": [
    {
     "data": {
      "text/plain": [
       "top_label\n",
       "Bacteria       51\n",
       "Eukaryota    2950\n",
       "N/A           546\n",
       "Virus          18\n",
       "dtype: int64"
      ]
     },
     "execution_count": 180,
     "metadata": {},
     "output_type": "execute_result"
    }
   ],
   "source": [
    "new_table[new_table.Prob_class_1>0.95].groupby('top_label').size()"
   ]
  },
  {
   "cell_type": "markdown",
   "metadata": {},
   "source": [
    "### If we look at the whole 7704 >3k contigs, most of the contigs are annotated by MEGAN as \"Eukaryota\"\n",
    "\n"
   ]
  },
  {
   "cell_type": "code",
   "execution_count": 181,
   "metadata": {},
   "outputs": [
    {
     "data": {
      "text/plain": [
       "top_label\n",
       "Bacteria       83\n",
       "Eukaryota    6080\n",
       "N/A          1520\n",
       "Virus          21\n",
       "dtype: int64"
      ]
     },
     "execution_count": 181,
     "metadata": {},
     "output_type": "execute_result"
    }
   ],
   "source": [
    "new_table.groupby('top_label').size()"
   ]
  },
  {
   "cell_type": "markdown",
   "metadata": {},
   "source": [
    "### 21 Contigs are annotated as \"Virus\" by MEGAN with BlastX/Diamond to Nr database"
   ]
  },
  {
   "cell_type": "code",
   "execution_count": 167,
   "metadata": {},
   "outputs": [
    {
     "data": {
      "text/html": [
       "<div>\n",
       "<style>\n",
       "    .dataframe thead tr:only-child th {\n",
       "        text-align: right;\n",
       "    }\n",
       "\n",
       "    .dataframe thead th {\n",
       "        text-align: left;\n",
       "    }\n",
       "\n",
       "    .dataframe tbody tr th {\n",
       "        vertical-align: top;\n",
       "    }\n",
       "</style>\n",
       "<table border=\"1\" class=\"dataframe\">\n",
       "  <thead>\n",
       "    <tr style=\"text-align: right;\">\n",
       "      <th></th>\n",
       "      <th>ID</th>\n",
       "      <th>Class</th>\n",
       "      <th>Class_id</th>\n",
       "      <th>Prob_class_0</th>\n",
       "      <th>Prob_class_1</th>\n",
       "      <th>Prob_class_2</th>\n",
       "      <th>Prob_class_3</th>\n",
       "      <th>tax_id</th>\n",
       "      <th>rank</th>\n",
       "      <th>tax_name</th>\n",
       "      <th>top_label</th>\n",
       "    </tr>\n",
       "  </thead>\n",
       "  <tbody>\n",
       "    <tr>\n",
       "      <th>3898</th>\n",
       "      <td>k119_427485</td>\n",
       "      <td>1</td>\n",
       "      <td>1</td>\n",
       "      <td>0.00155768</td>\n",
       "      <td>0.985145</td>\n",
       "      <td>0.00357599</td>\n",
       "      <td>0.00972103</td>\n",
       "      <td>1685757.0</td>\n",
       "      <td>species</td>\n",
       "      <td>Lake Sarah-associated circular virus-3</td>\n",
       "      <td>Virus</td>\n",
       "    </tr>\n",
       "    <tr>\n",
       "      <th>4179</th>\n",
       "      <td>k119_501378</td>\n",
       "      <td>1</td>\n",
       "      <td>1</td>\n",
       "      <td>0.000329087</td>\n",
       "      <td>0.994675</td>\n",
       "      <td>0.00138107</td>\n",
       "      <td>0.00361492</td>\n",
       "      <td>1888314.0</td>\n",
       "      <td>species</td>\n",
       "      <td>Baker virus</td>\n",
       "      <td>Virus</td>\n",
       "    </tr>\n",
       "    <tr>\n",
       "      <th>4512</th>\n",
       "      <td>k119_589941</td>\n",
       "      <td>1</td>\n",
       "      <td>1</td>\n",
       "      <td>9.74226e-06</td>\n",
       "      <td>0.999732</td>\n",
       "      <td>5.13105e-05</td>\n",
       "      <td>0.000207139</td>\n",
       "      <td>10501.0</td>\n",
       "      <td>family</td>\n",
       "      <td>Phycodnaviridae</td>\n",
       "      <td>Virus</td>\n",
       "    </tr>\n",
       "    <tr>\n",
       "      <th>4862</th>\n",
       "      <td>k119_686241</td>\n",
       "      <td>1</td>\n",
       "      <td>1</td>\n",
       "      <td>5.72815e-05</td>\n",
       "      <td>0.998561</td>\n",
       "      <td>0.000282935</td>\n",
       "      <td>0.0010985</td>\n",
       "      <td>35278.0</td>\n",
       "      <td>no rank</td>\n",
       "      <td>ssRNA positive-strand viruses, no DNA stage</td>\n",
       "      <td>Virus</td>\n",
       "    </tr>\n",
       "    <tr>\n",
       "      <th>4950</th>\n",
       "      <td>k119_708605</td>\n",
       "      <td>1</td>\n",
       "      <td>1</td>\n",
       "      <td>0.00257979</td>\n",
       "      <td>0.953642</td>\n",
       "      <td>0.0294936</td>\n",
       "      <td>0.0142846</td>\n",
       "      <td>1804154.0</td>\n",
       "      <td>species</td>\n",
       "      <td>Marine RNA virus PAL156</td>\n",
       "      <td>Virus</td>\n",
       "    </tr>\n",
       "    <tr>\n",
       "      <th>5022</th>\n",
       "      <td>k119_726465</td>\n",
       "      <td>1</td>\n",
       "      <td>1</td>\n",
       "      <td>0.000829112</td>\n",
       "      <td>0.989041</td>\n",
       "      <td>0.00401403</td>\n",
       "      <td>0.00611634</td>\n",
       "      <td>10239.0</td>\n",
       "      <td>superkingdom</td>\n",
       "      <td>Viruses</td>\n",
       "      <td>Virus</td>\n",
       "    </tr>\n",
       "    <tr>\n",
       "      <th>5443</th>\n",
       "      <td>k119_837204</td>\n",
       "      <td>1</td>\n",
       "      <td>1</td>\n",
       "      <td>0.0186616</td>\n",
       "      <td>0.802792</td>\n",
       "      <td>0.122644</td>\n",
       "      <td>0.0559021</td>\n",
       "      <td>10239.0</td>\n",
       "      <td>superkingdom</td>\n",
       "      <td>Viruses</td>\n",
       "      <td>Virus</td>\n",
       "    </tr>\n",
       "    <tr>\n",
       "      <th>5770</th>\n",
       "      <td>k119_920342</td>\n",
       "      <td>1</td>\n",
       "      <td>1</td>\n",
       "      <td>0.00795523</td>\n",
       "      <td>0.909264</td>\n",
       "      <td>0.0312768</td>\n",
       "      <td>0.0515039</td>\n",
       "      <td>35342.0</td>\n",
       "      <td>no rank</td>\n",
       "      <td>unclassified ssDNA viruses</td>\n",
       "      <td>Virus</td>\n",
       "    </tr>\n",
       "    <tr>\n",
       "      <th>5827</th>\n",
       "      <td>k119_932436</td>\n",
       "      <td>1</td>\n",
       "      <td>1</td>\n",
       "      <td>0.0180134</td>\n",
       "      <td>0.776970</td>\n",
       "      <td>0.159436</td>\n",
       "      <td>0.04558</td>\n",
       "      <td>10501.0</td>\n",
       "      <td>family</td>\n",
       "      <td>Phycodnaviridae</td>\n",
       "      <td>Virus</td>\n",
       "    </tr>\n",
       "    <tr>\n",
       "      <th>5955</th>\n",
       "      <td>k119_968120</td>\n",
       "      <td>1</td>\n",
       "      <td>1</td>\n",
       "      <td>0.000227351</td>\n",
       "      <td>0.996487</td>\n",
       "      <td>0.00135903</td>\n",
       "      <td>0.00192703</td>\n",
       "      <td>10239.0</td>\n",
       "      <td>superkingdom</td>\n",
       "      <td>Viruses</td>\n",
       "      <td>Virus</td>\n",
       "    </tr>\n",
       "    <tr>\n",
       "      <th>6000</th>\n",
       "      <td>k119_981562</td>\n",
       "      <td>1</td>\n",
       "      <td>1</td>\n",
       "      <td>2.12001e-06</td>\n",
       "      <td>0.999908</td>\n",
       "      <td>8.57251e-06</td>\n",
       "      <td>8.13191e-05</td>\n",
       "      <td>35278.0</td>\n",
       "      <td>no rank</td>\n",
       "      <td>ssRNA positive-strand viruses, no DNA stage</td>\n",
       "      <td>Virus</td>\n",
       "    </tr>\n",
       "    <tr>\n",
       "      <th>6140</th>\n",
       "      <td>k119_169268</td>\n",
       "      <td>1</td>\n",
       "      <td>1</td>\n",
       "      <td>0.00367402</td>\n",
       "      <td>0.966552</td>\n",
       "      <td>0.0154777</td>\n",
       "      <td>0.014296</td>\n",
       "      <td>35278.0</td>\n",
       "      <td>no rank</td>\n",
       "      <td>ssRNA positive-strand viruses, no DNA stage</td>\n",
       "      <td>Virus</td>\n",
       "    </tr>\n",
       "    <tr>\n",
       "      <th>6181</th>\n",
       "      <td>k119_198938</td>\n",
       "      <td>1</td>\n",
       "      <td>1</td>\n",
       "      <td>0.000429892</td>\n",
       "      <td>0.992763</td>\n",
       "      <td>0.00267668</td>\n",
       "      <td>0.00413028</td>\n",
       "      <td>35278.0</td>\n",
       "      <td>no rank</td>\n",
       "      <td>ssRNA positive-strand viruses, no DNA stage</td>\n",
       "      <td>Virus</td>\n",
       "    </tr>\n",
       "    <tr>\n",
       "      <th>6372</th>\n",
       "      <td>k119_50370</td>\n",
       "      <td>1</td>\n",
       "      <td>1</td>\n",
       "      <td>6.18415e-06</td>\n",
       "      <td>0.999805</td>\n",
       "      <td>1.71124e-05</td>\n",
       "      <td>0.000172034</td>\n",
       "      <td>35278.0</td>\n",
       "      <td>no rank</td>\n",
       "      <td>ssRNA positive-strand viruses, no DNA stage</td>\n",
       "      <td>Virus</td>\n",
       "    </tr>\n",
       "    <tr>\n",
       "      <th>6406</th>\n",
       "      <td>k119_100784</td>\n",
       "      <td>1</td>\n",
       "      <td>1</td>\n",
       "      <td>0.000285885</td>\n",
       "      <td>0.995906</td>\n",
       "      <td>0.00110341</td>\n",
       "      <td>0.00270424</td>\n",
       "      <td>1888314.0</td>\n",
       "      <td>species</td>\n",
       "      <td>Baker virus</td>\n",
       "      <td>Virus</td>\n",
       "    </tr>\n",
       "    <tr>\n",
       "      <th>7011</th>\n",
       "      <td>k119_208400</td>\n",
       "      <td>1</td>\n",
       "      <td>1</td>\n",
       "      <td>0.000588256</td>\n",
       "      <td>0.992357</td>\n",
       "      <td>0.00263636</td>\n",
       "      <td>0.00441816</td>\n",
       "      <td>10239.0</td>\n",
       "      <td>superkingdom</td>\n",
       "      <td>Viruses</td>\n",
       "      <td>Virus</td>\n",
       "    </tr>\n",
       "    <tr>\n",
       "      <th>7036</th>\n",
       "      <td>k119_211906</td>\n",
       "      <td>1</td>\n",
       "      <td>1</td>\n",
       "      <td>4.5661e-05</td>\n",
       "      <td>0.998870</td>\n",
       "      <td>0.000230255</td>\n",
       "      <td>0.000853941</td>\n",
       "      <td>35278.0</td>\n",
       "      <td>no rank</td>\n",
       "      <td>ssRNA positive-strand viruses, no DNA stage</td>\n",
       "      <td>Virus</td>\n",
       "    </tr>\n",
       "    <tr>\n",
       "      <th>7120</th>\n",
       "      <td>k119_227679</td>\n",
       "      <td>1</td>\n",
       "      <td>1</td>\n",
       "      <td>2.01414e-05</td>\n",
       "      <td>0.999434</td>\n",
       "      <td>5.71197e-05</td>\n",
       "      <td>0.000489095</td>\n",
       "      <td>35278.0</td>\n",
       "      <td>no rank</td>\n",
       "      <td>ssRNA positive-strand viruses, no DNA stage</td>\n",
       "      <td>Virus</td>\n",
       "    </tr>\n",
       "    <tr>\n",
       "      <th>7265</th>\n",
       "      <td>k119_251432</td>\n",
       "      <td>1</td>\n",
       "      <td>1</td>\n",
       "      <td>4.11738e-05</td>\n",
       "      <td>0.999093</td>\n",
       "      <td>0.000349369</td>\n",
       "      <td>0.00051669</td>\n",
       "      <td>10239.0</td>\n",
       "      <td>superkingdom</td>\n",
       "      <td>Viruses</td>\n",
       "      <td>Virus</td>\n",
       "    </tr>\n",
       "    <tr>\n",
       "      <th>7332</th>\n",
       "      <td>k119_266692</td>\n",
       "      <td>1</td>\n",
       "      <td>1</td>\n",
       "      <td>0.000559807</td>\n",
       "      <td>0.991971</td>\n",
       "      <td>0.00304178</td>\n",
       "      <td>0.00442752</td>\n",
       "      <td>10239.0</td>\n",
       "      <td>superkingdom</td>\n",
       "      <td>Viruses</td>\n",
       "      <td>Virus</td>\n",
       "    </tr>\n",
       "    <tr>\n",
       "      <th>7688</th>\n",
       "      <td>k119_88502</td>\n",
       "      <td>1</td>\n",
       "      <td>1</td>\n",
       "      <td>0.000543425</td>\n",
       "      <td>0.990866</td>\n",
       "      <td>0.00555863</td>\n",
       "      <td>0.00303159</td>\n",
       "      <td>1804154.0</td>\n",
       "      <td>species</td>\n",
       "      <td>Marine RNA virus PAL156</td>\n",
       "      <td>Virus</td>\n",
       "    </tr>\n",
       "  </tbody>\n",
       "</table>\n",
       "</div>"
      ],
      "text/plain": [
       "               ID Class Class_id Prob_class_0  Prob_class_1 Prob_class_2  \\\n",
       "3898  k119_427485     1        1   0.00155768      0.985145   0.00357599   \n",
       "4179  k119_501378     1        1  0.000329087      0.994675   0.00138107   \n",
       "4512  k119_589941     1        1  9.74226e-06      0.999732  5.13105e-05   \n",
       "4862  k119_686241     1        1  5.72815e-05      0.998561  0.000282935   \n",
       "4950  k119_708605     1        1   0.00257979      0.953642    0.0294936   \n",
       "5022  k119_726465     1        1  0.000829112      0.989041   0.00401403   \n",
       "5443  k119_837204     1        1    0.0186616      0.802792     0.122644   \n",
       "5770  k119_920342     1        1   0.00795523      0.909264    0.0312768   \n",
       "5827  k119_932436     1        1    0.0180134      0.776970     0.159436   \n",
       "5955  k119_968120     1        1  0.000227351      0.996487   0.00135903   \n",
       "6000  k119_981562     1        1  2.12001e-06      0.999908  8.57251e-06   \n",
       "6140  k119_169268     1        1   0.00367402      0.966552    0.0154777   \n",
       "6181  k119_198938     1        1  0.000429892      0.992763   0.00267668   \n",
       "6372   k119_50370     1        1  6.18415e-06      0.999805  1.71124e-05   \n",
       "6406  k119_100784     1        1  0.000285885      0.995906   0.00110341   \n",
       "7011  k119_208400     1        1  0.000588256      0.992357   0.00263636   \n",
       "7036  k119_211906     1        1   4.5661e-05      0.998870  0.000230255   \n",
       "7120  k119_227679     1        1  2.01414e-05      0.999434  5.71197e-05   \n",
       "7265  k119_251432     1        1  4.11738e-05      0.999093  0.000349369   \n",
       "7332  k119_266692     1        1  0.000559807      0.991971   0.00304178   \n",
       "7688   k119_88502     1        1  0.000543425      0.990866   0.00555863   \n",
       "\n",
       "     Prob_class_3     tax_id          rank  \\\n",
       "3898   0.00972103  1685757.0       species   \n",
       "4179   0.00361492  1888314.0       species   \n",
       "4512  0.000207139    10501.0        family   \n",
       "4862    0.0010985    35278.0       no rank   \n",
       "4950    0.0142846  1804154.0       species   \n",
       "5022   0.00611634    10239.0  superkingdom   \n",
       "5443    0.0559021    10239.0  superkingdom   \n",
       "5770    0.0515039    35342.0       no rank   \n",
       "5827      0.04558    10501.0        family   \n",
       "5955   0.00192703    10239.0  superkingdom   \n",
       "6000  8.13191e-05    35278.0       no rank   \n",
       "6140     0.014296    35278.0       no rank   \n",
       "6181   0.00413028    35278.0       no rank   \n",
       "6372  0.000172034    35278.0       no rank   \n",
       "6406   0.00270424  1888314.0       species   \n",
       "7011   0.00441816    10239.0  superkingdom   \n",
       "7036  0.000853941    35278.0       no rank   \n",
       "7120  0.000489095    35278.0       no rank   \n",
       "7265   0.00051669    10239.0  superkingdom   \n",
       "7332   0.00442752    10239.0  superkingdom   \n",
       "7688   0.00303159  1804154.0       species   \n",
       "\n",
       "                                         tax_name top_label  \n",
       "3898       Lake Sarah-associated circular virus-3     Virus  \n",
       "4179                                  Baker virus     Virus  \n",
       "4512                              Phycodnaviridae     Virus  \n",
       "4862  ssRNA positive-strand viruses, no DNA stage     Virus  \n",
       "4950                      Marine RNA virus PAL156     Virus  \n",
       "5022                                      Viruses     Virus  \n",
       "5443                                      Viruses     Virus  \n",
       "5770                   unclassified ssDNA viruses     Virus  \n",
       "5827                              Phycodnaviridae     Virus  \n",
       "5955                                      Viruses     Virus  \n",
       "6000  ssRNA positive-strand viruses, no DNA stage     Virus  \n",
       "6140  ssRNA positive-strand viruses, no DNA stage     Virus  \n",
       "6181  ssRNA positive-strand viruses, no DNA stage     Virus  \n",
       "6372  ssRNA positive-strand viruses, no DNA stage     Virus  \n",
       "6406                                  Baker virus     Virus  \n",
       "7011                                      Viruses     Virus  \n",
       "7036  ssRNA positive-strand viruses, no DNA stage     Virus  \n",
       "7120  ssRNA positive-strand viruses, no DNA stage     Virus  \n",
       "7265                                      Viruses     Virus  \n",
       "7332                                      Viruses     Virus  \n",
       "7688                      Marine RNA virus PAL156     Virus  "
      ]
     },
     "execution_count": 167,
     "metadata": {},
     "output_type": "execute_result"
    }
   ],
   "source": [
    "new_table[new_table.top_label=='Virus']"
   ]
  },
  {
   "cell_type": "code",
   "execution_count": 148,
   "metadata": {},
   "outputs": [],
   "source": [
    "df_virus = new_table[new_table.top_label=='Virus']"
   ]
  },
  {
   "cell_type": "code",
   "execution_count": 149,
   "metadata": {},
   "outputs": [],
   "source": [
    "df_Eukaryota = new_table[new_table.top_label=='Eukaryota']\n",
    "df_Bacteria = new_table[new_table.top_label=='Bacteria']\n",
    "df_NA = new_table[new_table.top_label=='N/A']\n"
   ]
  },
  {
   "cell_type": "markdown",
   "metadata": {},
   "source": [
    "### Prediction score distribution of all the 7704 Contigs"
   ]
  },
  {
   "cell_type": "code",
   "execution_count": 155,
   "metadata": {},
   "outputs": [
    {
     "data": {
      "text/plain": [
       "<matplotlib.text.Text at 0x111552fd0>"
      ]
     },
     "execution_count": 155,
     "metadata": {},
     "output_type": "execute_result"
    },
    {
     "data": {
      "image/png": "[encoded data removed]",
      "text/plain": [
       "<matplotlib.figure.Figure at 0x118332a90>"
      ]
     },
     "metadata": {},
     "output_type": "display_data"
    }
   ],
   "source": [
    "fig = plt.figure(figsize=(16,9))\n",
    "ax0 = fig.add_subplot(111)\n",
    "n_bins = 30\n",
    "#colors = ['red', 'blue', 'grey']\n",
    "x_multi = [pd.to_numeric(new_table.Prob_class_1)]\n",
    "ax0.hist(x_multi, n_bins, histtype='bar',  label=['non-virus'])\n",
    "ax0.set_title('All 7704 TARA contigs >3K bps',fontsize=24)\n",
    "ax0.set_xlabel('score',fontsize=24)\n",
    "ax0.tick_params(labelsize=20)\n",
    "ax0.set_ylabel('number of contigs',fontsize=24)"
   ]
  },
  {
   "cell_type": "markdown",
   "metadata": {},
   "source": [
    "### Prediction score distribution of the contigs annotated as \"Virus\", \"Eukaryota\", \"Bacteria\", \"Unknown\" by MEGAN/Blastx"
   ]
  },
  {
   "cell_type": "code",
   "execution_count": 157,
   "metadata": {},
   "outputs": [
    {
     "data": {
      "text/plain": [
       "<matplotlib.text.Text at 0x11688cbd0>"
      ]
     },
     "execution_count": 157,
     "metadata": {},
     "output_type": "execute_result"
    },
    {
     "data": {
      "image/png": "[encoded data removed]",
      "text/plain": [
       "<matplotlib.figure.Figure at 0x115a37390>"
      ]
     },
     "metadata": {},
     "output_type": "display_data"
    }
   ],
   "source": [
    "fig = plt.figure(figsize=(16,9))\n",
    "ax0 = fig.add_subplot(111)\n",
    "n_bins = 30\n",
    "#colors = ['red', 'blue', 'grey']\n",
    "x_multi = [pd.to_numeric(df_virus.Prob_class_1)]\n",
    "ax0.hist(x_multi, n_bins, histtype='bar',  label=['non-virus'])\n",
    "ax0.set_title('21 \\\"virus\\\" contigs >3K bps',fontsize=24)\n",
    "ax0.set_xlabel('score',fontsize=24)\n",
    "ax0.tick_params(labelsize=20)\n",
    "ax0.set_ylabel('number of contigs',fontsize=24)"
   ]
  },
  {
   "cell_type": "code",
   "execution_count": 158,
   "metadata": {},
   "outputs": [
    {
     "data": {
      "text/plain": [
       "<matplotlib.text.Text at 0x11882e7d0>"
      ]
     },
     "execution_count": 158,
     "metadata": {},
     "output_type": "execute_result"
    },
    {
     "data": {
      "image/png": "[encoded data removed]",
      "text/plain": [
       "<matplotlib.figure.Figure at 0x1187f4910>"
      ]
     },
     "metadata": {},
     "output_type": "display_data"
    }
   ],
   "source": [
    "fig = plt.figure(figsize=(16,9))\n",
    "ax0 = fig.add_subplot(111)\n",
    "n_bins = 30\n",
    "#colors = ['red', 'blue', 'grey']\n",
    "x_multi = [pd.to_numeric(df_Eukaryota.Prob_class_1)]\n",
    "ax0.hist(x_multi, n_bins, histtype='bar',  label=['non-virus'])\n",
    "ax0.set_title('6080 \\\"Eukaryota\\\" contigs >3K bps',fontsize=24)\n",
    "ax0.set_xlabel('score',fontsize=24)\n",
    "ax0.tick_params(labelsize=20)\n",
    "ax0.set_ylabel('number of contigs',fontsize=24)"
   ]
  },
  {
   "cell_type": "code",
   "execution_count": 159,
   "metadata": {},
   "outputs": [
    {
     "data": {
      "text/plain": [
       "<matplotlib.text.Text at 0x1192fd850>"
      ]
     },
     "execution_count": 159,
     "metadata": {},
     "output_type": "execute_result"
    },
    {
     "data": {
      "image/png": "[encoded data removed]",
      "text/plain": [
       "<matplotlib.figure.Figure at 0x118817f50>"
      ]
     },
     "metadata": {},
     "output_type": "display_data"
    }
   ],
   "source": [
    "fig = plt.figure(figsize=(16,9))\n",
    "ax0 = fig.add_subplot(111)\n",
    "n_bins = 30\n",
    "#colors = ['red', 'blue', 'grey']\n",
    "x_multi = [pd.to_numeric(df_Bacteria.Prob_class_1)]\n",
    "ax0.hist(x_multi, n_bins, histtype='bar',  label=['non-virus'])\n",
    "ax0.set_title('83 \\\"Bacteria\\\" contigs >3K bps',fontsize=24)\n",
    "ax0.set_xlabel('score',fontsize=24)\n",
    "ax0.tick_params(labelsize=20)\n",
    "ax0.set_ylabel('number of contigs',fontsize=24)"
   ]
  },
  {
   "cell_type": "code",
   "execution_count": 160,
   "metadata": {},
   "outputs": [
    {
     "data": {
      "text/plain": [
       "<matplotlib.text.Text at 0x1199cf490>"
      ]
     },
     "execution_count": 160,
     "metadata": {},
     "output_type": "execute_result"
    },
    {
     "data": {
      "image/png": "[encoded data removed]",
      "text/plain": [
       "<matplotlib.figure.Figure at 0x11935b950>"
      ]
     },
     "metadata": {},
     "output_type": "display_data"
    }
   ],
   "source": [
    "fig = plt.figure(figsize=(16,9))\n",
    "ax0 = fig.add_subplot(111)\n",
    "n_bins = 30\n",
    "#colors = ['red', 'blue', 'grey']\n",
    "x_multi = [pd.to_numeric(df_NA.Prob_class_1)]\n",
    "ax0.hist(x_multi, n_bins, histtype='bar',  label=['non-virus'])\n",
    "ax0.set_title('1520 \\\"Unknown\\\" contigs >3K bps',fontsize=24)\n",
    "ax0.set_xlabel('score',fontsize=24)\n",
    "ax0.tick_params(labelsize=20)\n",
    "ax0.set_ylabel('number of contigs',fontsize=24)"
   ]
  }
 ],
 "metadata": {
  "kernelspec": {
   "display_name": "Python 2",
   "language": "python",
   "name": "python2"
  },
  "language_info": {
   "codemirror_mode": {
    "name": "ipython",
    "version": 2
   },
   "file_extension": ".py",
   "mimetype": "text/x-python",
   "name": "python",
   "nbconvert_exporter": "python",
   "pygments_lexer": "ipython2",
   "version": "2.7.12"
  }
 },
 "nbformat": 4,
 "nbformat_minor": 1
}
