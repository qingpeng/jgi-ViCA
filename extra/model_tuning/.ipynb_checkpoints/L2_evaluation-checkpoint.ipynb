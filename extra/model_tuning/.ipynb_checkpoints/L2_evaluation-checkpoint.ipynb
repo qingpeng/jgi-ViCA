{
 "cells": [
  {
   "cell_type": "code",
   "execution_count": 1,
   "metadata": {
    "collapsed": true
   },
   "outputs": [],
   "source": [
    "%matplotlib inline"
   ]
  },
  {
   "cell_type": "code",
   "execution_count": 2,
   "metadata": {
    "collapsed": false
   },
   "outputs": [
    {
     "data": {
      "text/plain": [
       "<pyspark.context.SparkContext at 0x100777890>"
      ]
     },
     "execution_count": 2,
     "metadata": {},
     "output_type": "execute_result"
    }
   ],
   "source": [
    "sc"
   ]
  },
  {
   "cell_type": "code",
   "execution_count": 3,
   "metadata": {
    "collapsed": true
   },
   "outputs": [],
   "source": [
    "rdd = sc.parallelize(range(1000), 20)"
   ]
  },
  {
   "cell_type": "code",
   "execution_count": 4,
   "metadata": {
    "collapsed": false
   },
   "outputs": [
    {
     "data": {
      "text/plain": [
       "20"
      ]
     },
     "execution_count": 4,
     "metadata": {},
     "output_type": "execute_result"
    }
   ],
   "source": [
    "rdd.getNumPartitions()"
   ]
  },
  {
   "cell_type": "code",
   "execution_count": 5,
   "metadata": {
    "collapsed": true
   },
   "outputs": [],
   "source": [
    "from pyspark.mllib.util import MLUtils\n",
    "from pyspark.mllib.classification import LogisticRegressionWithLBFGS, LogisticRegressionModel\n",
    "from pyspark.mllib.regression import LabeledPoint\n",
    "from sklearn.metrics import confusion_matrix\n",
    "from sklearn.metrics import precision_recall_curve\n",
    "\n",
    "import matplotlib.pyplot as plt\n",
    "\n",
    "from pyspark.mllib.classification import SVMWithSGD, SVMModel\n",
    "from pyspark.mllib.regression import LabeledPoint\n"
   ]
  },
  {
   "cell_type": "code",
   "execution_count": 6,
   "metadata": {
    "collapsed": true
   },
   "outputs": [],
   "source": [
    "from sklearn.metrics import average_precision_score"
   ]
  },
  {
   "cell_type": "markdown",
   "metadata": {},
   "source": [
    "50000 training segments....\n",
    "\n",
    "25k virus\n",
    "\n",
    "25k non-virus\n"
   ]
  },
  {
   "cell_type": "code",
   "execution_count": 7,
   "metadata": {
    "collapsed": true
   },
   "outputs": [],
   "source": [
    "def evaluate_model(testing, model):\n",
    "    model.clearThreshold()\n",
    "    labelsAndScores = testing.map(lambda p: (p.label, model.predict(p.features)))\n",
    "    LS = labelsAndScores.collect()\n",
    "    y_true = []\n",
    "    y_scores = []\n",
    "    for s in LS:\n",
    "        y_true.append(s[0])\n",
    "        y_scores.append(s[1])\n",
    "    precision, recall, thresholds = precision_recall_curve(y_true, y_scores)\n",
    "    au_PRC = average_precision_score(y_true, y_scores)\n",
    "    return au_PRC, precision, recall, thresholds"
   ]
  },
  {
   "cell_type": "code",
   "execution_count": 8,
   "metadata": {
    "collapsed": false
   },
   "outputs": [],
   "source": [
    "def testing_model(testing, model):\n",
    "    # not useful any more... use evaluate_model instead\n",
    "    labelsAndPreds = testing.map(lambda p: (p.label, model.predict(p.features)))\n",
    "    Err = labelsAndPreds.filter(lambda (v, p): v != p).count() / float(testing.count())\n",
    "    \n",
    "    LP = labelsAndPreds.collect()\n",
    "    \n",
    "    label_list = []\n",
    "    prediction = []\n",
    "    for t in LP:\n",
    "        label_list.append(t[0])\n",
    "        prediction.append(t[1])\n",
    "    matrix = confusion_matrix(label_list, prediction)\n",
    "    model.clearThreshold()\n",
    "    labelsAndScores = testing.map(lambda p: (p.label, model.predict(p.features)))\n",
    "    labelsAndScores_list = labelsAndScores.collect()\n",
    "\n",
    "    y_true = []\n",
    "    y_scores = []\n",
    "    for t in LP:\n",
    "        y_true.append(t[0])\n",
    "        y_scores.append(t[1])\n",
    "        \n",
    "    precision, recall, thresholds = precision_recall_curve(y_true, y_scores)\n",
    "    return [Err, matrix, precision, recall]\n"
   ]
  },
  {
   "cell_type": "code",
   "execution_count": null,
   "metadata": {
    "collapsed": true
   },
   "outputs": [],
   "source": []
  },
  {
   "cell_type": "markdown",
   "metadata": {},
   "source": [
    "## Standard, family level, logistic regression, all features\n"
   ]
  },
  {
   "cell_type": "code",
   "execution_count": 9,
   "metadata": {
    "collapsed": false
   },
   "outputs": [
    {
     "data": {
      "text/plain": [
       "PythonRDD[8] at RDD at PythonRDD.scala:48"
      ]
     },
     "execution_count": 9,
     "metadata": {},
     "output_type": "execute_result"
    }
   ],
   "source": [
    "training = MLUtils.loadLibSVMFile(sc, \"training.vect\")\n",
    "training.cache()\n",
    "testing = MLUtils.loadLibSVMFile(sc, \"testing.vect\",19421)\n",
    "testing.cache()"
   ]
  },
  {
   "cell_type": "code",
   "execution_count": 9,
   "metadata": {
    "collapsed": true
   },
   "outputs": [],
   "source": [
    "model_logistic = LogisticRegressionWithLBFGS.train(training)\n",
    "model_logistic.clearThreshold()\n",
    "labelsAndScores = testing.map(lambda p: (p.label, model_logistic.predict(p.features)))"
   ]
  },
  {
   "cell_type": "code",
   "execution_count": 10,
   "metadata": {
    "collapsed": true
   },
   "outputs": [],
   "source": [
    "LS = labelsAndScores.collect()\n",
    "\n",
    "\n",
    "score_virus = []\n",
    "score_nonvirus = []\n",
    "for s in LS:\n",
    "    if s[0] == 0.0:\n",
    "        score_nonvirus.append(s[1])\n",
    "    else:\n",
    "        score_virus.append(s[1])\n",
    "    \n",
    "    "
   ]
  },
  {
   "cell_type": "code",
   "execution_count": 14,
   "metadata": {
    "collapsed": false
   },
   "outputs": [],
   "source": [
    "result = evaluate_model(testing, model_logistic)"
   ]
  },
  {
   "cell_type": "code",
   "execution_count": 15,
   "metadata": {
    "collapsed": false
   },
   "outputs": [
    {
     "data": {
      "text/plain": [
       "(0.9418798233834007,\n",
       " array([ 0.5       ,  0.69936435,  0.70185615, ...,  0.95063215,\n",
       "         0.95048309,  1.        ]),\n",
       " array([ 1.    ,  0.9682,  0.968 , ...,  0.3158,  0.3148,  0.    ]),\n",
       " array([  9.44258261e-176,   4.60682710e-007,   5.20437119e-007, ...,\n",
       "          9.99999492e-001,   9.99999584e-001,   9.99999623e-001]))"
      ]
     },
     "execution_count": 15,
     "metadata": {},
     "output_type": "execute_result"
    }
   ],
   "source": [
    "result"
   ]
  },
  {
   "cell_type": "code",
   "execution_count": 17,
   "metadata": {
    "collapsed": false
   },
   "outputs": [
    {
     "data": {
      "image/png": "[encoded data removed]",
      "text/plain": [
       "<matplotlib.figure.Figure at 0x10fa0a650>"
      ]
     },
     "metadata": {},
     "output_type": "display_data"
    }
   ],
   "source": [
    "lw = 2\n",
    "plt.figure(figsize=(6, 4), dpi=80)\n",
    "\n",
    "# Plot Precision-Recall curve\n",
    "plt.clf()\n",
    "\n",
    "plt.plot(result[2], result[1], lw=lw, color='teal',\n",
    "         label='all, AUC={0:0.4f}'.format(result[0]))\n",
    "\n",
    "plt.xlabel('Recall')\n",
    "plt.ylabel('Precision')\n",
    "plt.ylim([0.0, 1.05])\n",
    "plt.xlim([0.0, 1.0])\n",
    "plt.title('Precision-Recall with logistic regression, all features, family level novelty')\n",
    "plt.legend(loc=\"lower left\")\n",
    "plt.show()\n"
   ]
  },
  {
   "cell_type": "markdown",
   "metadata": {},
   "source": [
    "## Testing different algorithms"
   ]
  },
  {
   "cell_type": "code",
   "execution_count": 26,
   "metadata": {
    "collapsed": true
   },
   "outputs": [],
   "source": [
    "model_logistic_L1 = LogisticRegressionWithLBFGS.train(training,regType='l1')\n",
    "\n"
   ]
  },
  {
   "cell_type": "code",
   "execution_count": 32,
   "metadata": {
    "collapsed": false
   },
   "outputs": [],
   "source": [
    "logistic_L1_result = evaluate_model(testing,model_logistic_L1 )"
   ]
  },
  {
   "cell_type": "code",
   "execution_count": 35,
   "metadata": {
    "collapsed": false
   },
   "outputs": [
    {
     "data": {
      "image/png": "[encoded data removed]",
      "text/plain": [
       "<matplotlib.figure.Figure at 0x10fa70290>"
      ]
     },
     "metadata": {},
     "output_type": "display_data"
    }
   ],
   "source": [
    "lw = 2\n",
    "plt.figure(figsize=(10, 8), dpi=80)\n",
    "\n",
    "# Plot Precision-Recall curve\n",
    "plt.clf()\n",
    "plt.plot(result[2], result[1], lw=lw, color='navy',\n",
    "         label='logistic L2, AUC={0:0.4f}'.format(result[0]))\n",
    "plt.plot(logistic_L1_result[2], logistic_L1_result[1], lw=lw, color='turquoise',\n",
    "         label='logistic L1, AUC={0:0.4f}'.format(logistic_L1_result[0]))\n",
    "plt.plot(SVM_result[2], SVM_result[1], lw=lw, color='darkorange',\n",
    "         label='SVM 100 iterations, AUC={0:0.4f}'.format(SVM_result[0]))\n",
    "plt.plot(SVM_result200[2], SVM_result200[1], lw=lw, color='darkorange',\n",
    "         label='SVM 200 iterations, AUC={0:0.4f}'.format(SVM_result200[0]))\n",
    "\n",
    "\n",
    "plt.xlabel('Recall')\n",
    "plt.ylabel('Precision')\n",
    "plt.ylim([0.0, 1.05])\n",
    "plt.xlim([0.0, 1.0])\n",
    "plt.title('Precision-Recall with logistic and SVM')\n",
    "plt.legend(loc=\"lower left\")\n",
    "plt.show()\n"
   ]
  }
 ],
 "metadata": {
  "kernelspec": {
   "display_name": "Python 2",
   "language": "python",
   "name": "python2"
  },
  "language_info": {
   "codemirror_mode": {
    "name": "ipython",
    "version": 2
   },
   "file_extension": ".py",
   "mimetype": "text/x-python",
   "name": "python",
   "nbconvert_exporter": "python",
   "pygments_lexer": "ipython2",
   "version": "2.7.12"
  }
 },
 "nbformat": 4,
 "nbformat_minor": 0
}
