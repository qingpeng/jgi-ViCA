{
 "cells": [
  {
   "cell_type": "markdown",
   "metadata": {},
   "source": [
    "with 300K combined model and 1M combined model"
   ]
  },
  {
   "cell_type": "code",
   "execution_count": 1,
   "metadata": {
    "collapsed": true
   },
   "outputs": [],
   "source": [
    "%matplotlib inline"
   ]
  },
  {
   "cell_type": "code",
   "execution_count": 2,
   "metadata": {
    "collapsed": true
   },
   "outputs": [],
   "source": [
    "import pandas as pd\n",
    "import numpy as np\n",
    "import matplotlib.pyplot as plt"
   ]
  },
  {
   "cell_type": "code",
   "execution_count": 3,
   "metadata": {
    "collapsed": true
   },
   "outputs": [],
   "source": [
    "\n",
    "from sklearn.datasets import load_svmlight_file\n",
    "from sklearn.externals import joblib\n",
    "import argparse\n",
    "from sklearn.metrics import average_precision_score\n",
    "from sklearn.metrics import confusion_matrix, precision_recall_curve\n",
    "from sklearn.metrics import classification_report"
   ]
  },
  {
   "cell_type": "code",
   "execution_count": 4,
   "metadata": {
    "collapsed": true
   },
   "outputs": [],
   "source": [
    "result = pd.read_csv('/Users/qingpeng/Dropbox/Genelearn/VicaData/all_2k_prediction.out.label.prediction_combined',sep=' ',header=None,names=['name','length','probability','prediction','vfam','pfam','diamond','label',\n",
    "                                                                                       'score_euk_non_euk','pred_euk_non_euk','score_non_euk_virus','pred_non_euk_virus',\n",
    "                                                                                      'score_virus_non_virus','pred_virus_non_virus'])"
   ]
  },
  {
   "cell_type": "markdown",
   "metadata": {},
   "source": [
    "### Formular to calcuate hybrid probability score from score from old model and euk/non-euk model"
   ]
  },
  {
   "cell_type": "code",
   "execution_count": 5,
   "metadata": {
    "collapsed": true
   },
   "outputs": [],
   "source": [
    "result[\"hybrid_probability\"] = (result[\"score_euk_non_euk\"] * result[\"probability\"])**0.5"
   ]
  },
  {
   "cell_type": "code",
   "execution_count": 6,
   "metadata": {
    "collapsed": true
   },
   "outputs": [],
   "source": [
    "result[\"hybrid_prediction\"] = (result.hybrid_probability >0.5)"
   ]
  },
  {
   "cell_type": "code",
   "execution_count": 7,
   "metadata": {
    "collapsed": false,
    "scrolled": true
   },
   "outputs": [
    {
     "data": {
      "text/html": [
       "<div>\n",
       "<table border=\"1\" class=\"dataframe\">\n",
       "  <thead>\n",
       "    <tr style=\"text-align: right;\">\n",
       "      <th></th>\n",
       "      <th>name</th>\n",
       "      <th>length</th>\n",
       "      <th>probability</th>\n",
       "      <th>prediction</th>\n",
       "      <th>vfam</th>\n",
       "      <th>pfam</th>\n",
       "      <th>diamond</th>\n",
       "      <th>label</th>\n",
       "      <th>score_euk_non_euk</th>\n",
       "      <th>pred_euk_non_euk</th>\n",
       "      <th>score_non_euk_virus</th>\n",
       "      <th>pred_non_euk_virus</th>\n",
       "      <th>score_virus_non_virus</th>\n",
       "      <th>pred_virus_non_virus</th>\n",
       "      <th>hybrid_probability</th>\n",
       "      <th>hybrid_prediction</th>\n",
       "    </tr>\n",
       "  </thead>\n",
       "  <tbody>\n",
       "    <tr>\n",
       "      <th>0</th>\n",
       "      <td>NODE_1_length_91451_cov_163.114_g0_i0</td>\n",
       "      <td>91451</td>\n",
       "      <td>0.000375</td>\n",
       "      <td>0.0</td>\n",
       "      <td>0.0</td>\n",
       "      <td>0.0</td>\n",
       "      <td>0.0</td>\n",
       "      <td>0.0</td>\n",
       "      <td>0.000025</td>\n",
       "      <td>0.0</td>\n",
       "      <td>0.996004</td>\n",
       "      <td>1.0</td>\n",
       "      <td>0.001954</td>\n",
       "      <td>0.0</td>\n",
       "      <td>0.000097</td>\n",
       "      <td>False</td>\n",
       "    </tr>\n",
       "    <tr>\n",
       "      <th>1</th>\n",
       "      <td>NODE_2_length_74096_cov_303.895_g1_i0</td>\n",
       "      <td>74096</td>\n",
       "      <td>0.000088</td>\n",
       "      <td>0.0</td>\n",
       "      <td>0.0</td>\n",
       "      <td>0.0</td>\n",
       "      <td>0.0</td>\n",
       "      <td>0.0</td>\n",
       "      <td>0.000012</td>\n",
       "      <td>0.0</td>\n",
       "      <td>0.995278</td>\n",
       "      <td>1.0</td>\n",
       "      <td>0.000529</td>\n",
       "      <td>0.0</td>\n",
       "      <td>0.000032</td>\n",
       "      <td>False</td>\n",
       "    </tr>\n",
       "    <tr>\n",
       "      <th>2</th>\n",
       "      <td>NODE_3_length_66420_cov_268.59_g1_i1</td>\n",
       "      <td>66420</td>\n",
       "      <td>0.000041</td>\n",
       "      <td>0.0</td>\n",
       "      <td>0.0</td>\n",
       "      <td>0.0</td>\n",
       "      <td>0.0</td>\n",
       "      <td>0.0</td>\n",
       "      <td>0.000009</td>\n",
       "      <td>0.0</td>\n",
       "      <td>0.996629</td>\n",
       "      <td>1.0</td>\n",
       "      <td>0.000761</td>\n",
       "      <td>0.0</td>\n",
       "      <td>0.000019</td>\n",
       "      <td>False</td>\n",
       "    </tr>\n",
       "    <tr>\n",
       "      <th>3</th>\n",
       "      <td>NODE_4_length_61338_cov_317.585_g2_i0</td>\n",
       "      <td>61338</td>\n",
       "      <td>0.000056</td>\n",
       "      <td>0.0</td>\n",
       "      <td>0.0</td>\n",
       "      <td>0.0</td>\n",
       "      <td>0.0</td>\n",
       "      <td>0.0</td>\n",
       "      <td>0.000008</td>\n",
       "      <td>0.0</td>\n",
       "      <td>0.991967</td>\n",
       "      <td>1.0</td>\n",
       "      <td>0.000477</td>\n",
       "      <td>0.0</td>\n",
       "      <td>0.000021</td>\n",
       "      <td>False</td>\n",
       "    </tr>\n",
       "    <tr>\n",
       "      <th>4</th>\n",
       "      <td>NODE_5_length_59036_cov_197.701_g0_i1</td>\n",
       "      <td>59036</td>\n",
       "      <td>0.000040</td>\n",
       "      <td>0.0</td>\n",
       "      <td>0.0</td>\n",
       "      <td>0.0</td>\n",
       "      <td>0.0</td>\n",
       "      <td>0.0</td>\n",
       "      <td>0.000008</td>\n",
       "      <td>0.0</td>\n",
       "      <td>0.990354</td>\n",
       "      <td>1.0</td>\n",
       "      <td>0.000617</td>\n",
       "      <td>0.0</td>\n",
       "      <td>0.000018</td>\n",
       "      <td>False</td>\n",
       "    </tr>\n",
       "  </tbody>\n",
       "</table>\n",
       "</div>"
      ],
      "text/plain": [
       "                                    name  length  probability  prediction  \\\n",
       "0  NODE_1_length_91451_cov_163.114_g0_i0   91451     0.000375         0.0   \n",
       "1  NODE_2_length_74096_cov_303.895_g1_i0   74096     0.000088         0.0   \n",
       "2   NODE_3_length_66420_cov_268.59_g1_i1   66420     0.000041         0.0   \n",
       "3  NODE_4_length_61338_cov_317.585_g2_i0   61338     0.000056         0.0   \n",
       "4  NODE_5_length_59036_cov_197.701_g0_i1   59036     0.000040         0.0   \n",
       "\n",
       "   vfam  pfam  diamond  label  score_euk_non_euk  pred_euk_non_euk  \\\n",
       "0   0.0   0.0      0.0    0.0           0.000025               0.0   \n",
       "1   0.0   0.0      0.0    0.0           0.000012               0.0   \n",
       "2   0.0   0.0      0.0    0.0           0.000009               0.0   \n",
       "3   0.0   0.0      0.0    0.0           0.000008               0.0   \n",
       "4   0.0   0.0      0.0    0.0           0.000008               0.0   \n",
       "\n",
       "   score_non_euk_virus  pred_non_euk_virus  score_virus_non_virus  \\\n",
       "0             0.996004                 1.0               0.001954   \n",
       "1             0.995278                 1.0               0.000529   \n",
       "2             0.996629                 1.0               0.000761   \n",
       "3             0.991967                 1.0               0.000477   \n",
       "4             0.990354                 1.0               0.000617   \n",
       "\n",
       "   pred_virus_non_virus  hybrid_probability hybrid_prediction  \n",
       "0                   0.0            0.000097             False  \n",
       "1                   0.0            0.000032             False  \n",
       "2                   0.0            0.000019             False  \n",
       "3                   0.0            0.000021             False  \n",
       "4                   0.0            0.000018             False  "
      ]
     },
     "execution_count": 7,
     "metadata": {},
     "output_type": "execute_result"
    }
   ],
   "source": [
    "result.head()"
   ]
  },
  {
   "cell_type": "code",
   "execution_count": 8,
   "metadata": {
    "collapsed": true
   },
   "outputs": [],
   "source": [
    "### Using MEGAN annotation to check model performance \n",
    "\n",
    "\n",
    "from ete2 import NCBITaxa\n",
    "ncbi = NCBITaxa()\n",
    "def get_top_label(tax_id):\n",
    "    lineage = ncbi.get_lineage(tax_id)\n",
    "    for i in lineage:\n",
    "        if i == 2759:\n",
    "            return \"Eukaryota\"\n",
    "        elif i == 10239:\n",
    "            return \"Virus\"\n",
    "        elif i == 2157:\n",
    "            return \"Archaea\"\n",
    "        elif i == 2:\n",
    "            return \"Bacteria\"\n",
    "        elif i == 12884:\n",
    "            return \"Viroids\"\n",
    "        elif i == 28384:\n",
    "            return \"other\"\n",
    "        elif i == 12908:\n",
    "            return \"unclassified\"\n",
    "    else:\n",
    "        return \"N/A\"\n",
    "\n",
    "def get_ranks(tax_id):\n",
    "    ranks = ncbi.get_rank([tax_id])\n",
    "    try:\n",
    "        return ranks.values()[0]\n",
    "    except:\n",
    "        return tax_id\n",
    "    \n",
    "def get_name(tax_id):\n",
    "    ranks = ncbi.get_taxid_translator([tax_id])\n",
    "    try:\n",
    "        return ranks.values()[0]\n",
    "    except:\n",
    "        return tax_id\n",
    "\n",
    "# get MEGAN annotation results\n",
    "\n",
    "megan_annot = pd.read_csv('./Micromonas/all_2k_contigs.fa.diamond-ex-all_tax_ID.txt',sep='\\t',header=None,names=['name','tax_id'])\n",
    "\n",
    "megan_annot['rank'] = megan_annot['tax_id'].apply(get_ranks)\n",
    "megan_annot['tax_name']= megan_annot['tax_id'].apply(get_name)\n",
    "megan_annot['top_label']= megan_annot['tax_id'].apply(get_top_label)\n"
   ]
  },
  {
   "cell_type": "code",
   "execution_count": 9,
   "metadata": {
    "collapsed": true
   },
   "outputs": [],
   "source": [
    "ranks = ncbi.get_lineage(186616)"
   ]
  },
  {
   "cell_type": "code",
   "execution_count": 10,
   "metadata": {
    "collapsed": false
   },
   "outputs": [
    {
     "data": {
      "text/plain": [
       "[1, 10239, 186616]"
      ]
     },
     "execution_count": 10,
     "metadata": {},
     "output_type": "execute_result"
    }
   ],
   "source": [
    "ranks"
   ]
  },
  {
   "cell_type": "code",
   "execution_count": 11,
   "metadata": {
    "collapsed": false
   },
   "outputs": [
    {
     "data": {
      "text/html": [
       "<div>\n",
       "<table border=\"1\" class=\"dataframe\">\n",
       "  <thead>\n",
       "    <tr style=\"text-align: right;\">\n",
       "      <th></th>\n",
       "      <th>name</th>\n",
       "      <th>tax_id</th>\n",
       "      <th>rank</th>\n",
       "      <th>tax_name</th>\n",
       "      <th>top_label</th>\n",
       "    </tr>\n",
       "  </thead>\n",
       "  <tbody>\n",
       "    <tr>\n",
       "      <th>0</th>\n",
       "      <td>NODE_646_length_5889_cov_28.079_g448_i0</td>\n",
       "      <td>1</td>\n",
       "      <td>no rank</td>\n",
       "      <td>root</td>\n",
       "      <td>N/A</td>\n",
       "    </tr>\n",
       "    <tr>\n",
       "      <th>1</th>\n",
       "      <td>NODE_667_length_5857_cov_28.2491_g448_i1</td>\n",
       "      <td>1</td>\n",
       "      <td>no rank</td>\n",
       "      <td>root</td>\n",
       "      <td>N/A</td>\n",
       "    </tr>\n",
       "    <tr>\n",
       "      <th>2</th>\n",
       "      <td>NODE_671_length_5843_cov_18.2623_g465_i0</td>\n",
       "      <td>1</td>\n",
       "      <td>no rank</td>\n",
       "      <td>root</td>\n",
       "      <td>N/A</td>\n",
       "    </tr>\n",
       "    <tr>\n",
       "      <th>3</th>\n",
       "      <td>NODE_806_length_5513_cov_46.199_g556_i0</td>\n",
       "      <td>1</td>\n",
       "      <td>no rank</td>\n",
       "      <td>root</td>\n",
       "      <td>N/A</td>\n",
       "    </tr>\n",
       "    <tr>\n",
       "      <th>4</th>\n",
       "      <td>NODE_807_length_5513_cov_37.6629_g556_i1</td>\n",
       "      <td>1</td>\n",
       "      <td>no rank</td>\n",
       "      <td>root</td>\n",
       "      <td>N/A</td>\n",
       "    </tr>\n",
       "  </tbody>\n",
       "</table>\n",
       "</div>"
      ],
      "text/plain": [
       "                                       name  tax_id     rank tax_name  \\\n",
       "0   NODE_646_length_5889_cov_28.079_g448_i0       1  no rank     root   \n",
       "1  NODE_667_length_5857_cov_28.2491_g448_i1       1  no rank     root   \n",
       "2  NODE_671_length_5843_cov_18.2623_g465_i0       1  no rank     root   \n",
       "3   NODE_806_length_5513_cov_46.199_g556_i0       1  no rank     root   \n",
       "4  NODE_807_length_5513_cov_37.6629_g556_i1       1  no rank     root   \n",
       "\n",
       "  top_label  \n",
       "0       N/A  \n",
       "1       N/A  \n",
       "2       N/A  \n",
       "3       N/A  \n",
       "4       N/A  "
      ]
     },
     "execution_count": 11,
     "metadata": {},
     "output_type": "execute_result"
    }
   ],
   "source": [
    "megan_annot.head()"
   ]
  },
  {
   "cell_type": "code",
   "execution_count": 12,
   "metadata": {
    "collapsed": true
   },
   "outputs": [],
   "source": [
    "new_table = pd.merge(result,megan_annot, on=['name'])"
   ]
  },
  {
   "cell_type": "code",
   "execution_count": 13,
   "metadata": {
    "collapsed": true
   },
   "outputs": [],
   "source": [
    "prediction_300k_full = pd.read_csv('/Users/qingpeng/Dropbox/GeneLearn/TARA/all_2k_contigs.fa.prediction.300k_full')"
   ]
  },
  {
   "cell_type": "code",
   "execution_count": 14,
   "metadata": {
    "collapsed": true
   },
   "outputs": [],
   "source": [
    "prediction_3M_train = pd.read_csv('/Users/qingpeng/Dropbox/GeneLearn/TARA/all_2k_contigs.fa.prediction.3M_train')"
   ]
  },
  {
   "cell_type": "code",
   "execution_count": 15,
   "metadata": {
    "collapsed": true
   },
   "outputs": [],
   "source": [
    "prediction_1M_combined = pd.read_csv('/Users/qingpeng/Dropbox/GeneLearn/TARA/all_2k_contigs.fa.prediction.1M_full_run2')"
   ]
  },
  {
   "cell_type": "code",
   "execution_count": 16,
   "metadata": {
    "collapsed": true
   },
   "outputs": [],
   "source": [
    "prediction_300k_full.rename(index=str,columns={\"ID\": \"name\", \"Prob_class_1\":\"Prob_class_1_300k_full\"},inplace=True)"
   ]
  },
  {
   "cell_type": "code",
   "execution_count": 17,
   "metadata": {
    "collapsed": true
   },
   "outputs": [],
   "source": [
    "prediction_3M_train.rename(index=str,columns={\"ID\": \"name\", \"Prob_class_1\":\"Prob_class_1_3M_train\"},inplace=True)"
   ]
  },
  {
   "cell_type": "code",
   "execution_count": 18,
   "metadata": {
    "collapsed": true
   },
   "outputs": [],
   "source": [
    "prediction_1M_combined.rename(index=str,columns={\"ID\": \"name\", \"Prob_class_1\":\"Prob_class_1_1M_combined\"},inplace=True)"
   ]
  },
  {
   "cell_type": "code",
   "execution_count": 19,
   "metadata": {
    "collapsed": true
   },
   "outputs": [],
   "source": [
    "new_table_merge1 = pd.merge(new_table,prediction_300k_full, how='left',on=['name'])"
   ]
  },
  {
   "cell_type": "code",
   "execution_count": 20,
   "metadata": {
    "collapsed": true
   },
   "outputs": [],
   "source": [
    "new_table_merge2 = pd.merge(new_table_merge1,prediction_3M_train, how='left',on=['name'])"
   ]
  },
  {
   "cell_type": "code",
   "execution_count": 21,
   "metadata": {
    "collapsed": true
   },
   "outputs": [],
   "source": [
    "new_table_merge3 = pd.merge(new_table_merge2,prediction_1M_combined, how='left',on=['name'])"
   ]
  },
  {
   "cell_type": "markdown",
   "metadata": {},
   "source": [
    "### 7041 contigs as ground-truth virus-related, with hits to virus-related domains, or annotated as virus by MEGAN based on BlastX/Diamond alignment"
   ]
  },
  {
   "cell_type": "code",
   "execution_count": 22,
   "metadata": {
    "collapsed": false
   },
   "outputs": [
    {
     "data": {
      "text/plain": [
       "7041"
      ]
     },
     "execution_count": 22,
     "metadata": {},
     "output_type": "execute_result"
    }
   ],
   "source": [
    "len(new_table[new_table.label==1.0])"
   ]
  },
  {
   "cell_type": "markdown",
   "metadata": {},
   "source": [
    "### 208302 contigs with length >=2k, in TARA\n"
   ]
  },
  {
   "cell_type": "code",
   "execution_count": 23,
   "metadata": {
    "collapsed": false
   },
   "outputs": [
    {
     "ename": "NameError",
     "evalue": "name 'new_table_300k_combined' is not defined",
     "output_type": "error",
     "traceback": [
      "\u001b[0;31m---------------------------------------------------------------------------\u001b[0m",
      "\u001b[0;31mNameError\u001b[0m                                 Traceback (most recent call last)",
      "\u001b[0;32m<ipython-input-23-b9acb8ecd11c>\u001b[0m in \u001b[0;36m<module>\u001b[0;34m()\u001b[0m\n\u001b[0;32m----> 1\u001b[0;31m \u001b[0mlen\u001b[0m\u001b[0;34m(\u001b[0m\u001b[0mnew_table_300k_combined\u001b[0m\u001b[0;34m)\u001b[0m\u001b[0;34m\u001b[0m\u001b[0m\n\u001b[0m",
      "\u001b[0;31mNameError\u001b[0m: name 'new_table_300k_combined' is not defined"
     ]
    }
   ],
   "source": [
    "len(new_table_300k_combined)"
   ]
  },
  {
   "cell_type": "code",
   "execution_count": 24,
   "metadata": {
    "collapsed": true
   },
   "outputs": [],
   "source": [
    "new_table_merge3[\"non_euk_label\"] = (new_table_merge3.top_label!='Eukaryota')"
   ]
  },
  {
   "cell_type": "code",
   "execution_count": 25,
   "metadata": {
    "collapsed": true
   },
   "outputs": [],
   "source": [
    "new_table_merge3[\"micromonas_label\"] = (new_table_merge3.tax_name=='Micromonas') |(new_table_merge3.tax_name=='Micromonas pusilla CCMP1545')|(\n",
    "        new_table_merge3.tax_name=='Micromonas commoda')\n"
   ]
  },
  {
   "cell_type": "markdown",
   "metadata": {},
   "source": [
    "#### \"no rank\" does not equal \"no annotation\""
   ]
  },
  {
   "cell_type": "code",
   "execution_count": 26,
   "metadata": {
    "collapsed": true
   },
   "outputs": [],
   "source": [
    "def convert_top_label(top_label):\n",
    "    if top_label == 'N/A':\n",
    "        return 'no annotation'\n",
    "    else:\n",
    "        return 'with annotation'"
   ]
  },
  {
   "cell_type": "code",
   "execution_count": 27,
   "metadata": {
    "collapsed": true
   },
   "outputs": [],
   "source": [
    "new_table_merge3['annotation_label'] = new_table_merge3['top_label'].map(convert_top_label)"
   ]
  },
  {
   "cell_type": "markdown",
   "metadata": {},
   "source": [
    "### Split the TARA contigs into 3 categories\n",
    "\n",
    "- \"Virus\" has virus-related domain hits or annotated as \"virus\" by MEGAN\n",
    "- \"Non-virus\" , no virus-related domain hits, annotated as some non-virus taxonomical group by MEGAN \n",
    "- \"Unknown\",  no virus-related domain hits, not annotated into any taxonomical group by MEGAN, top_label as \"N/A\""
   ]
  },
  {
   "cell_type": "markdown",
   "metadata": {},
   "source": [
    "#### subsample \"non-virus\" and \"unknown\" to have same number of \"Virus\" contigs - 6913"
   ]
  },
  {
   "cell_type": "code",
   "execution_count": 28,
   "metadata": {
    "collapsed": false
   },
   "outputs": [
    {
     "name": "stderr",
     "output_type": "stream",
     "text": [
      "/Users/qingpeng/anaconda/lib/python2.7/site-packages/ipykernel/__main__.py:2: UserWarning: Boolean Series key will be reindexed to match DataFrame index.\n",
      "  from ipykernel import kernelapp as app\n",
      "/Users/qingpeng/anaconda/lib/python2.7/site-packages/ipykernel/__main__.py:8: UserWarning: Boolean Series key will be reindexed to match DataFrame index.\n"
     ]
    }
   ],
   "source": [
    "# \"non-virus\" data frame... non-virus and with annotation by MEGAN\n",
    "df_nonvirus = new_table_merge3[new_table_merge3.label==0.0][new_table_merge3['annotation_label']== 'with annotation']\n",
    "df_nonvirus_subsample = df_nonvirus.sample(n=7041, replace=False)\n",
    "#df_nonvirus_subsample.to_csv('df_nonvirus_subsample.csv')\n",
    "\n",
    "# \"Unknown\" data frame... and without annotation by MEGAN\n",
    "\n",
    "df_unknown = new_table_merge3[new_table_merge3.label==0.0][new_table_merge3['annotation_label']== 'no annotation']\n",
    "df_unknown_subsample = df_unknown.sample(n=7041, replace=False)\n",
    "#df_unknown_subsample.to_csv('df_unknown_subsample.csv')\n",
    "\n",
    "### \"Virus\" contigs...  has pfam hits or annotated as \"virus\" by MEGAN\n",
    "df_virus = new_table_merge3[new_table_merge3.label==1.0]\n",
    "#df_virus.to_csv('df_virus.csv')\n",
    "\n"
   ]
  },
  {
   "cell_type": "code",
   "execution_count": 65,
   "metadata": {
    "collapsed": false,
    "scrolled": false
   },
   "outputs": [
    {
     "data": {
      "text/plain": [
       "3556"
      ]
     },
     "execution_count": 65,
     "metadata": {},
     "output_type": "execute_result"
    }
   ],
   "source": [
    "len(df_unknown[df_unknown.Prob_class_1_3M_train>0.5])"
   ]
  },
  {
   "cell_type": "code",
   "execution_count": 66,
   "metadata": {
    "collapsed": false
   },
   "outputs": [
    {
     "data": {
      "text/plain": [
       "2131"
      ]
     },
     "execution_count": 66,
     "metadata": {},
     "output_type": "execute_result"
    }
   ],
   "source": [
    "len(df_unknown[df_unknown.Prob_class_1_3M_train>0.9])"
   ]
  },
  {
   "cell_type": "code",
   "execution_count": 67,
   "metadata": {
    "collapsed": false
   },
   "outputs": [
    {
     "data": {
      "text/plain": [
       "857"
      ]
     },
     "execution_count": 67,
     "metadata": {},
     "output_type": "execute_result"
    }
   ],
   "source": [
    "len(df_unknown[df_unknown.Prob_class_1_3M_train>0.99])"
   ]
  },
  {
   "cell_type": "code",
   "execution_count": 68,
   "metadata": {
    "collapsed": false
   },
   "outputs": [
    {
     "data": {
      "text/plain": [
       "10983"
      ]
     },
     "execution_count": 68,
     "metadata": {},
     "output_type": "execute_result"
    }
   ],
   "source": [
    "len(df_unknown)"
   ]
  },
  {
   "cell_type": "code",
   "execution_count": 69,
   "metadata": {
    "collapsed": false
   },
   "outputs": [
    {
     "data": {
      "text/plain": [
       "array([[<matplotlib.axes._subplots.AxesSubplot object at 0x13d784650>]], dtype=object)"
      ]
     },
     "execution_count": 69,
     "metadata": {},
     "output_type": "execute_result"
    },
    {
     "data": {
      "image/png": "[encoded data removed]",
      "text/plain": [
       "<matplotlib.figure.Figure at 0x13d5eab10>"
      ]
     },
     "metadata": {},
     "output_type": "display_data"
    }
   ],
   "source": [
    "df_unknown.hist(figsize=(10,8),column=['Prob_class_1_3M_train'],bins=50)"
   ]
  },
  {
   "cell_type": "code",
   "execution_count": 29,
   "metadata": {
    "collapsed": true
   },
   "outputs": [],
   "source": [
    "def get_category(df):\n",
    "    if df.label == 0.0:\n",
    "        if df.annotation_label == 'with annotation':\n",
    "            return 'nonvirus'\n",
    "        else:\n",
    "            return 'unknown'\n",
    "    else:\n",
    "        return 'virus'"
   ]
  },
  {
   "cell_type": "code",
   "execution_count": 30,
   "metadata": {
    "collapsed": true
   },
   "outputs": [],
   "source": [
    "new_table_merge3['category'] = new_table_merge3.apply(get_category, axis=1)"
   ]
  },
  {
   "cell_type": "code",
   "execution_count": 31,
   "metadata": {
    "collapsed": false
   },
   "outputs": [
    {
     "data": {
      "text/html": [
       "<div>\n",
       "<table border=\"1\" class=\"dataframe\">\n",
       "  <thead>\n",
       "    <tr style=\"text-align: right;\">\n",
       "      <th></th>\n",
       "      <th></th>\n",
       "      <th>Class</th>\n",
       "      <th>Class_id</th>\n",
       "      <th>Class_id_x</th>\n",
       "      <th>Class_id_y</th>\n",
       "      <th>Class_x</th>\n",
       "      <th>Class_y</th>\n",
       "      <th>Prob_class_0</th>\n",
       "      <th>Prob_class_0_x</th>\n",
       "      <th>Prob_class_0_y</th>\n",
       "      <th>Prob_class_1_1M_combined</th>\n",
       "      <th>...</th>\n",
       "      <th>pred_euk_non_euk</th>\n",
       "      <th>pred_non_euk_virus</th>\n",
       "      <th>pred_virus_non_virus</th>\n",
       "      <th>prediction</th>\n",
       "      <th>probability</th>\n",
       "      <th>score_euk_non_euk</th>\n",
       "      <th>score_non_euk_virus</th>\n",
       "      <th>score_virus_non_virus</th>\n",
       "      <th>tax_id</th>\n",
       "      <th>vfam</th>\n",
       "    </tr>\n",
       "    <tr>\n",
       "      <th>category</th>\n",
       "      <th></th>\n",
       "      <th></th>\n",
       "      <th></th>\n",
       "      <th></th>\n",
       "      <th></th>\n",
       "      <th></th>\n",
       "      <th></th>\n",
       "      <th></th>\n",
       "      <th></th>\n",
       "      <th></th>\n",
       "      <th></th>\n",
       "      <th></th>\n",
       "      <th></th>\n",
       "      <th></th>\n",
       "      <th></th>\n",
       "      <th></th>\n",
       "      <th></th>\n",
       "      <th></th>\n",
       "      <th></th>\n",
       "      <th></th>\n",
       "      <th></th>\n",
       "      <th></th>\n",
       "    </tr>\n",
       "  </thead>\n",
       "  <tbody>\n",
       "    <tr>\n",
       "      <th rowspan=\"8\" valign=\"top\">nonvirus</th>\n",
       "      <th>count</th>\n",
       "      <td>190211.000000</td>\n",
       "      <td>190211.000000</td>\n",
       "      <td>190211.000000</td>\n",
       "      <td>190211.000000</td>\n",
       "      <td>190211.000000</td>\n",
       "      <td>190211.000000</td>\n",
       "      <td>1.902110e+05</td>\n",
       "      <td>1.902110e+05</td>\n",
       "      <td>1.902110e+05</td>\n",
       "      <td>1.902110e+05</td>\n",
       "      <td>...</td>\n",
       "      <td>190278.000000</td>\n",
       "      <td>190278.000000</td>\n",
       "      <td>190278.000000</td>\n",
       "      <td>190278.000000</td>\n",
       "      <td>1.902780e+05</td>\n",
       "      <td>1.902780e+05</td>\n",
       "      <td>1.902780e+05</td>\n",
       "      <td>1.902780e+05</td>\n",
       "      <td>1.902780e+05</td>\n",
       "      <td>190278.000000</td>\n",
       "    </tr>\n",
       "    <tr>\n",
       "      <th>mean</th>\n",
       "      <td>1.818954</td>\n",
       "      <td>1.818954</td>\n",
       "      <td>1.762658</td>\n",
       "      <td>2.167298</td>\n",
       "      <td>1.762658</td>\n",
       "      <td>2.167298</td>\n",
       "      <td>5.005352e-03</td>\n",
       "      <td>7.842799e-03</td>\n",
       "      <td>3.881666e-03</td>\n",
       "      <td>3.261973e-01</td>\n",
       "      <td>...</td>\n",
       "      <td>0.480371</td>\n",
       "      <td>0.530639</td>\n",
       "      <td>0.042743</td>\n",
       "      <td>0.310530</td>\n",
       "      <td>3.033593e-01</td>\n",
       "      <td>4.821667e-01</td>\n",
       "      <td>5.299626e-01</td>\n",
       "      <td>7.292496e-02</td>\n",
       "      <td>3.392269e+05</td>\n",
       "      <td>0.000000</td>\n",
       "    </tr>\n",
       "    <tr>\n",
       "      <th>std</th>\n",
       "      <td>0.687287</td>\n",
       "      <td>0.687287</td>\n",
       "      <td>0.728202</td>\n",
       "      <td>0.731501</td>\n",
       "      <td>0.728202</td>\n",
       "      <td>0.731501</td>\n",
       "      <td>1.071192e-02</td>\n",
       "      <td>1.263593e-02</td>\n",
       "      <td>1.015931e-02</td>\n",
       "      <td>3.913331e-01</td>\n",
       "      <td>...</td>\n",
       "      <td>0.499616</td>\n",
       "      <td>0.499062</td>\n",
       "      <td>0.202277</td>\n",
       "      <td>0.462712</td>\n",
       "      <td>3.846625e-01</td>\n",
       "      <td>4.236087e-01</td>\n",
       "      <td>3.801326e-01</td>\n",
       "      <td>1.670222e-01</td>\n",
       "      <td>5.654123e+05</td>\n",
       "      <td>0.000000</td>\n",
       "    </tr>\n",
       "    <tr>\n",
       "      <th>min</th>\n",
       "      <td>0.000000</td>\n",
       "      <td>0.000000</td>\n",
       "      <td>0.000000</td>\n",
       "      <td>0.000000</td>\n",
       "      <td>0.000000</td>\n",
       "      <td>0.000000</td>\n",
       "      <td>0.000000e+00</td>\n",
       "      <td>0.000000e+00</td>\n",
       "      <td>0.000000e+00</td>\n",
       "      <td>0.000000e+00</td>\n",
       "      <td>...</td>\n",
       "      <td>0.000000</td>\n",
       "      <td>0.000000</td>\n",
       "      <td>0.000000</td>\n",
       "      <td>0.000000</td>\n",
       "      <td>1.608784e-40</td>\n",
       "      <td>6.446008e-12</td>\n",
       "      <td>2.994483e-09</td>\n",
       "      <td>5.811040e-12</td>\n",
       "      <td>2.000000e+00</td>\n",
       "      <td>0.000000</td>\n",
       "    </tr>\n",
       "    <tr>\n",
       "      <th>25%</th>\n",
       "      <td>1.000000</td>\n",
       "      <td>1.000000</td>\n",
       "      <td>1.000000</td>\n",
       "      <td>2.000000</td>\n",
       "      <td>1.000000</td>\n",
       "      <td>2.000000</td>\n",
       "      <td>4.520020e-04</td>\n",
       "      <td>7.495335e-04</td>\n",
       "      <td>7.060140e-04</td>\n",
       "      <td>2.185155e-03</td>\n",
       "      <td>...</td>\n",
       "      <td>0.000000</td>\n",
       "      <td>0.000000</td>\n",
       "      <td>0.000000</td>\n",
       "      <td>0.000000</td>\n",
       "      <td>9.707825e-05</td>\n",
       "      <td>2.150400e-02</td>\n",
       "      <td>1.228651e-01</td>\n",
       "      <td>4.987104e-04</td>\n",
       "      <td>1.236000e+03</td>\n",
       "      <td>0.000000</td>\n",
       "    </tr>\n",
       "    <tr>\n",
       "      <th>50%</th>\n",
       "      <td>2.000000</td>\n",
       "      <td>2.000000</td>\n",
       "      <td>2.000000</td>\n",
       "      <td>2.000000</td>\n",
       "      <td>2.000000</td>\n",
       "      <td>2.000000</td>\n",
       "      <td>2.440690e-03</td>\n",
       "      <td>4.295660e-03</td>\n",
       "      <td>2.785570e-03</td>\n",
       "      <td>7.419850e-02</td>\n",
       "      <td>...</td>\n",
       "      <td>0.000000</td>\n",
       "      <td>1.000000</td>\n",
       "      <td>0.000000</td>\n",
       "      <td>0.000000</td>\n",
       "      <td>2.300573e-02</td>\n",
       "      <td>4.341561e-01</td>\n",
       "      <td>5.647460e-01</td>\n",
       "      <td>5.198083e-03</td>\n",
       "      <td>4.954600e+04</td>\n",
       "      <td>0.000000</td>\n",
       "    </tr>\n",
       "    <tr>\n",
       "      <th>75%</th>\n",
       "      <td>2.000000</td>\n",
       "      <td>2.000000</td>\n",
       "      <td>2.000000</td>\n",
       "      <td>3.000000</td>\n",
       "      <td>2.000000</td>\n",
       "      <td>3.000000</td>\n",
       "      <td>7.519225e-03</td>\n",
       "      <td>1.189770e-02</td>\n",
       "      <td>6.137320e-03</td>\n",
       "      <td>7.540840e-01</td>\n",
       "      <td>...</td>\n",
       "      <td>1.000000</td>\n",
       "      <td>1.000000</td>\n",
       "      <td>0.000000</td>\n",
       "      <td>1.000000</td>\n",
       "      <td>6.577493e-01</td>\n",
       "      <td>9.671414e-01</td>\n",
       "      <td>9.312114e-01</td>\n",
       "      <td>4.808648e-02</td>\n",
       "      <td>2.965870e+05</td>\n",
       "      <td>0.000000</td>\n",
       "    </tr>\n",
       "    <tr>\n",
       "      <th>max</th>\n",
       "      <td>3.000000</td>\n",
       "      <td>3.000000</td>\n",
       "      <td>3.000000</td>\n",
       "      <td>3.000000</td>\n",
       "      <td>3.000000</td>\n",
       "      <td>3.000000</td>\n",
       "      <td>1.000000e+00</td>\n",
       "      <td>1.000000e+00</td>\n",
       "      <td>1.000000e+00</td>\n",
       "      <td>1.000000e+00</td>\n",
       "      <td>...</td>\n",
       "      <td>1.000000</td>\n",
       "      <td>1.000000</td>\n",
       "      <td>1.000000</td>\n",
       "      <td>1.000000</td>\n",
       "      <td>1.000000e+00</td>\n",
       "      <td>1.000000e+00</td>\n",
       "      <td>1.000000e+00</td>\n",
       "      <td>9.998867e-01</td>\n",
       "      <td>1.904754e+06</td>\n",
       "      <td>0.000000</td>\n",
       "    </tr>\n",
       "    <tr>\n",
       "      <th rowspan=\"8\" valign=\"top\">unknown</th>\n",
       "      <th>count</th>\n",
       "      <td>10947.000000</td>\n",
       "      <td>10947.000000</td>\n",
       "      <td>10947.000000</td>\n",
       "      <td>10947.000000</td>\n",
       "      <td>10947.000000</td>\n",
       "      <td>10947.000000</td>\n",
       "      <td>1.094700e+04</td>\n",
       "      <td>1.094700e+04</td>\n",
       "      <td>1.094700e+04</td>\n",
       "      <td>1.094700e+04</td>\n",
       "      <td>...</td>\n",
       "      <td>10983.000000</td>\n",
       "      <td>10983.000000</td>\n",
       "      <td>10983.000000</td>\n",
       "      <td>10983.000000</td>\n",
       "      <td>1.098300e+04</td>\n",
       "      <td>1.098300e+04</td>\n",
       "      <td>1.098300e+04</td>\n",
       "      <td>1.098300e+04</td>\n",
       "      <td>1.098300e+04</td>\n",
       "      <td>10983.000000</td>\n",
       "    </tr>\n",
       "    <tr>\n",
       "      <th>mean</th>\n",
       "      <td>1.704120</td>\n",
       "      <td>1.704120</td>\n",
       "      <td>1.647209</td>\n",
       "      <td>2.022655</td>\n",
       "      <td>1.647209</td>\n",
       "      <td>2.022655</td>\n",
       "      <td>4.870173e-03</td>\n",
       "      <td>7.586935e-03</td>\n",
       "      <td>3.791454e-03</td>\n",
       "      <td>4.567435e-01</td>\n",
       "      <td>...</td>\n",
       "      <td>0.536283</td>\n",
       "      <td>0.495311</td>\n",
       "      <td>0.036966</td>\n",
       "      <td>0.402895</td>\n",
       "      <td>3.905611e-01</td>\n",
       "      <td>5.353198e-01</td>\n",
       "      <td>4.904150e-01</td>\n",
       "      <td>6.526761e-02</td>\n",
       "      <td>8.439084e+04</td>\n",
       "      <td>0.000000</td>\n",
       "    </tr>\n",
       "    <tr>\n",
       "      <th>std</th>\n",
       "      <td>0.753010</td>\n",
       "      <td>0.753010</td>\n",
       "      <td>0.781520</td>\n",
       "      <td>0.843954</td>\n",
       "      <td>0.781520</td>\n",
       "      <td>0.843954</td>\n",
       "      <td>5.860103e-03</td>\n",
       "      <td>9.449481e-03</td>\n",
       "      <td>3.522610e-03</td>\n",
       "      <td>4.281158e-01</td>\n",
       "      <td>...</td>\n",
       "      <td>0.498704</td>\n",
       "      <td>0.500001</td>\n",
       "      <td>0.188687</td>\n",
       "      <td>0.490502</td>\n",
       "      <td>4.163253e-01</td>\n",
       "      <td>4.199167e-01</td>\n",
       "      <td>3.682654e-01</td>\n",
       "      <td>1.525654e-01</td>\n",
       "      <td>8.752709e+04</td>\n",
       "      <td>0.000000</td>\n",
       "    </tr>\n",
       "    <tr>\n",
       "      <th>min</th>\n",
       "      <td>1.000000</td>\n",
       "      <td>1.000000</td>\n",
       "      <td>1.000000</td>\n",
       "      <td>1.000000</td>\n",
       "      <td>1.000000</td>\n",
       "      <td>1.000000</td>\n",
       "      <td>2.944600e-31</td>\n",
       "      <td>1.969550e-36</td>\n",
       "      <td>2.512480e-23</td>\n",
       "      <td>1.329340e-12</td>\n",
       "      <td>...</td>\n",
       "      <td>0.000000</td>\n",
       "      <td>0.000000</td>\n",
       "      <td>0.000000</td>\n",
       "      <td>0.000000</td>\n",
       "      <td>1.479479e-24</td>\n",
       "      <td>1.925903e-11</td>\n",
       "      <td>8.361006e-06</td>\n",
       "      <td>5.348955e-09</td>\n",
       "      <td>-2.000000e+00</td>\n",
       "      <td>0.000000</td>\n",
       "    </tr>\n",
       "    <tr>\n",
       "      <th>25%</th>\n",
       "      <td>1.000000</td>\n",
       "      <td>1.000000</td>\n",
       "      <td>1.000000</td>\n",
       "      <td>1.000000</td>\n",
       "      <td>1.000000</td>\n",
       "      <td>1.000000</td>\n",
       "      <td>4.325610e-04</td>\n",
       "      <td>4.740715e-04</td>\n",
       "      <td>6.900490e-04</td>\n",
       "      <td>1.167080e-02</td>\n",
       "      <td>...</td>\n",
       "      <td>0.000000</td>\n",
       "      <td>0.000000</td>\n",
       "      <td>0.000000</td>\n",
       "      <td>0.000000</td>\n",
       "      <td>6.519745e-04</td>\n",
       "      <td>4.776202e-02</td>\n",
       "      <td>1.027605e-01</td>\n",
       "      <td>4.266487e-04</td>\n",
       "      <td>1.000000e+00</td>\n",
       "      <td>0.000000</td>\n",
       "    </tr>\n",
       "    <tr>\n",
       "      <th>50%</th>\n",
       "      <td>2.000000</td>\n",
       "      <td>2.000000</td>\n",
       "      <td>1.000000</td>\n",
       "      <td>2.000000</td>\n",
       "      <td>1.000000</td>\n",
       "      <td>2.000000</td>\n",
       "      <td>2.384410e-03</td>\n",
       "      <td>3.707370e-03</td>\n",
       "      <td>2.815450e-03</td>\n",
       "      <td>3.402810e-01</td>\n",
       "      <td>...</td>\n",
       "      <td>1.000000</td>\n",
       "      <td>0.000000</td>\n",
       "      <td>0.000000</td>\n",
       "      <td>0.000000</td>\n",
       "      <td>1.767469e-01</td>\n",
       "      <td>6.231798e-01</td>\n",
       "      <td>4.928909e-01</td>\n",
       "      <td>3.985952e-03</td>\n",
       "      <td>1.315670e+05</td>\n",
       "      <td>0.000000</td>\n",
       "    </tr>\n",
       "    <tr>\n",
       "      <th>75%</th>\n",
       "      <td>2.000000</td>\n",
       "      <td>2.000000</td>\n",
       "      <td>2.000000</td>\n",
       "      <td>3.000000</td>\n",
       "      <td>2.000000</td>\n",
       "      <td>3.000000</td>\n",
       "      <td>7.542520e-03</td>\n",
       "      <td>1.177990e-02</td>\n",
       "      <td>6.231140e-03</td>\n",
       "      <td>9.572700e-01</td>\n",
       "      <td>...</td>\n",
       "      <td>1.000000</td>\n",
       "      <td>1.000000</td>\n",
       "      <td>0.000000</td>\n",
       "      <td>1.000000</td>\n",
       "      <td>8.646248e-01</td>\n",
       "      <td>9.785060e-01</td>\n",
       "      <td>8.664932e-01</td>\n",
       "      <td>4.029911e-02</td>\n",
       "      <td>1.315670e+05</td>\n",
       "      <td>0.000000</td>\n",
       "    </tr>\n",
       "    <tr>\n",
       "      <th>max</th>\n",
       "      <td>3.000000</td>\n",
       "      <td>3.000000</td>\n",
       "      <td>3.000000</td>\n",
       "      <td>3.000000</td>\n",
       "      <td>3.000000</td>\n",
       "      <td>3.000000</td>\n",
       "      <td>3.744720e-02</td>\n",
       "      <td>9.041200e-02</td>\n",
       "      <td>2.254350e-02</td>\n",
       "      <td>1.000000e+00</td>\n",
       "      <td>...</td>\n",
       "      <td>1.000000</td>\n",
       "      <td>1.000000</td>\n",
       "      <td>1.000000</td>\n",
       "      <td>1.000000</td>\n",
       "      <td>1.000000e+00</td>\n",
       "      <td>1.000000e+00</td>\n",
       "      <td>9.999993e-01</td>\n",
       "      <td>9.952776e-01</td>\n",
       "      <td>3.836300e+05</td>\n",
       "      <td>0.000000</td>\n",
       "    </tr>\n",
       "    <tr>\n",
       "      <th rowspan=\"8\" valign=\"top\">virus</th>\n",
       "      <th>count</th>\n",
       "      <td>7041.000000</td>\n",
       "      <td>7041.000000</td>\n",
       "      <td>7041.000000</td>\n",
       "      <td>7041.000000</td>\n",
       "      <td>7041.000000</td>\n",
       "      <td>7041.000000</td>\n",
       "      <td>7.041000e+03</td>\n",
       "      <td>7.041000e+03</td>\n",
       "      <td>7.041000e+03</td>\n",
       "      <td>7.041000e+03</td>\n",
       "      <td>...</td>\n",
       "      <td>7041.000000</td>\n",
       "      <td>7041.000000</td>\n",
       "      <td>7041.000000</td>\n",
       "      <td>7041.000000</td>\n",
       "      <td>7.041000e+03</td>\n",
       "      <td>7.041000e+03</td>\n",
       "      <td>7.041000e+03</td>\n",
       "      <td>7.041000e+03</td>\n",
       "      <td>7.041000e+03</td>\n",
       "      <td>7041.000000</td>\n",
       "    </tr>\n",
       "    <tr>\n",
       "      <th>mean</th>\n",
       "      <td>1.068456</td>\n",
       "      <td>1.068456</td>\n",
       "      <td>1.048573</td>\n",
       "      <td>1.268996</td>\n",
       "      <td>1.048573</td>\n",
       "      <td>1.268996</td>\n",
       "      <td>2.862356e-03</td>\n",
       "      <td>2.100517e-03</td>\n",
       "      <td>2.688836e-03</td>\n",
       "      <td>8.967413e-01</td>\n",
       "      <td>...</td>\n",
       "      <td>0.627468</td>\n",
       "      <td>0.300241</td>\n",
       "      <td>0.015197</td>\n",
       "      <td>0.782133</td>\n",
       "      <td>7.542705e-01</td>\n",
       "      <td>6.163139e-01</td>\n",
       "      <td>3.267756e-01</td>\n",
       "      <td>3.800008e-02</td>\n",
       "      <td>5.675094e+05</td>\n",
       "      <td>0.014771</td>\n",
       "    </tr>\n",
       "    <tr>\n",
       "      <th>std</th>\n",
       "      <td>0.302688</td>\n",
       "      <td>0.302688</td>\n",
       "      <td>0.291301</td>\n",
       "      <td>0.645188</td>\n",
       "      <td>0.291301</td>\n",
       "      <td>0.645188</td>\n",
       "      <td>4.472367e-03</td>\n",
       "      <td>3.828359e-03</td>\n",
       "      <td>3.134763e-03</td>\n",
       "      <td>1.983439e-01</td>\n",
       "      <td>...</td>\n",
       "      <td>0.483513</td>\n",
       "      <td>0.458395</td>\n",
       "      <td>0.122343</td>\n",
       "      <td>0.412826</td>\n",
       "      <td>3.229911e-01</td>\n",
       "      <td>4.009598e-01</td>\n",
       "      <td>3.357460e-01</td>\n",
       "      <td>1.069962e-01</td>\n",
       "      <td>6.644340e+05</td>\n",
       "      <td>0.120642</td>\n",
       "    </tr>\n",
       "    <tr>\n",
       "      <th>min</th>\n",
       "      <td>1.000000</td>\n",
       "      <td>1.000000</td>\n",
       "      <td>1.000000</td>\n",
       "      <td>1.000000</td>\n",
       "      <td>1.000000</td>\n",
       "      <td>1.000000</td>\n",
       "      <td>9.733260e-11</td>\n",
       "      <td>1.591990e-20</td>\n",
       "      <td>9.209930e-11</td>\n",
       "      <td>2.109200e-08</td>\n",
       "      <td>...</td>\n",
       "      <td>0.000000</td>\n",
       "      <td>0.000000</td>\n",
       "      <td>0.000000</td>\n",
       "      <td>0.000000</td>\n",
       "      <td>1.067368e-10</td>\n",
       "      <td>6.454847e-07</td>\n",
       "      <td>1.169350e-05</td>\n",
       "      <td>2.493190e-08</td>\n",
       "      <td>-2.000000e+00</td>\n",
       "      <td>0.000000</td>\n",
       "    </tr>\n",
       "    <tr>\n",
       "      <th>25%</th>\n",
       "      <td>1.000000</td>\n",
       "      <td>1.000000</td>\n",
       "      <td>1.000000</td>\n",
       "      <td>1.000000</td>\n",
       "      <td>1.000000</td>\n",
       "      <td>1.000000</td>\n",
       "      <td>1.762690e-04</td>\n",
       "      <td>7.414910e-05</td>\n",
       "      <td>1.774600e-04</td>\n",
       "      <td>9.123010e-01</td>\n",
       "      <td>...</td>\n",
       "      <td>0.000000</td>\n",
       "      <td>0.000000</td>\n",
       "      <td>0.000000</td>\n",
       "      <td>1.000000</td>\n",
       "      <td>5.696865e-01</td>\n",
       "      <td>1.522336e-01</td>\n",
       "      <td>2.841752e-02</td>\n",
       "      <td>1.417346e-04</td>\n",
       "      <td>1.023900e+04</td>\n",
       "      <td>0.000000</td>\n",
       "    </tr>\n",
       "    <tr>\n",
       "      <th>50%</th>\n",
       "      <td>1.000000</td>\n",
       "      <td>1.000000</td>\n",
       "      <td>1.000000</td>\n",
       "      <td>1.000000</td>\n",
       "      <td>1.000000</td>\n",
       "      <td>1.000000</td>\n",
       "      <td>8.822800e-04</td>\n",
       "      <td>4.925100e-04</td>\n",
       "      <td>1.264130e-03</td>\n",
       "      <td>9.818410e-01</td>\n",
       "      <td>...</td>\n",
       "      <td>1.000000</td>\n",
       "      <td>0.000000</td>\n",
       "      <td>0.000000</td>\n",
       "      <td>1.000000</td>\n",
       "      <td>9.473064e-01</td>\n",
       "      <td>8.239797e-01</td>\n",
       "      <td>1.829086e-01</td>\n",
       "      <td>1.207770e-03</td>\n",
       "      <td>1.968960e+05</td>\n",
       "      <td>0.000000</td>\n",
       "    </tr>\n",
       "    <tr>\n",
       "      <th>75%</th>\n",
       "      <td>1.000000</td>\n",
       "      <td>1.000000</td>\n",
       "      <td>1.000000</td>\n",
       "      <td>1.000000</td>\n",
       "      <td>1.000000</td>\n",
       "      <td>1.000000</td>\n",
       "      <td>3.439820e-03</td>\n",
       "      <td>2.250160e-03</td>\n",
       "      <td>4.491960e-03</td>\n",
       "      <td>9.968100e-01</td>\n",
       "      <td>...</td>\n",
       "      <td>1.000000</td>\n",
       "      <td>1.000000</td>\n",
       "      <td>0.000000</td>\n",
       "      <td>1.000000</td>\n",
       "      <td>9.981627e-01</td>\n",
       "      <td>9.895347e-01</td>\n",
       "      <td>6.067313e-01</td>\n",
       "      <td>1.418235e-02</td>\n",
       "      <td>1.407671e+06</td>\n",
       "      <td>0.000000</td>\n",
       "    </tr>\n",
       "    <tr>\n",
       "      <th>max</th>\n",
       "      <td>3.000000</td>\n",
       "      <td>3.000000</td>\n",
       "      <td>3.000000</td>\n",
       "      <td>3.000000</td>\n",
       "      <td>3.000000</td>\n",
       "      <td>3.000000</td>\n",
       "      <td>4.728510e-02</td>\n",
       "      <td>4.962330e-02</td>\n",
       "      <td>1.505320e-02</td>\n",
       "      <td>1.000000e+00</td>\n",
       "      <td>...</td>\n",
       "      <td>1.000000</td>\n",
       "      <td>1.000000</td>\n",
       "      <td>1.000000</td>\n",
       "      <td>1.000000</td>\n",
       "      <td>1.000000e+00</td>\n",
       "      <td>1.000000e+00</td>\n",
       "      <td>9.999625e-01</td>\n",
       "      <td>9.897234e-01</td>\n",
       "      <td>1.880590e+06</td>\n",
       "      <td>1.000000</td>\n",
       "    </tr>\n",
       "  </tbody>\n",
       "</table>\n",
       "<p>24 rows × 33 columns</p>\n",
       "</div>"
      ],
      "text/plain": [
       "                        Class       Class_id     Class_id_x     Class_id_y  \\\n",
       "category                                                                     \n",
       "nonvirus count  190211.000000  190211.000000  190211.000000  190211.000000   \n",
       "         mean        1.818954       1.818954       1.762658       2.167298   \n",
       "         std         0.687287       0.687287       0.728202       0.731501   \n",
       "         min         0.000000       0.000000       0.000000       0.000000   \n",
       "         25%         1.000000       1.000000       1.000000       2.000000   \n",
       "         50%         2.000000       2.000000       2.000000       2.000000   \n",
       "         75%         2.000000       2.000000       2.000000       3.000000   \n",
       "         max         3.000000       3.000000       3.000000       3.000000   \n",
       "unknown  count   10947.000000   10947.000000   10947.000000   10947.000000   \n",
       "         mean        1.704120       1.704120       1.647209       2.022655   \n",
       "         std         0.753010       0.753010       0.781520       0.843954   \n",
       "         min         1.000000       1.000000       1.000000       1.000000   \n",
       "         25%         1.000000       1.000000       1.000000       1.000000   \n",
       "         50%         2.000000       2.000000       1.000000       2.000000   \n",
       "         75%         2.000000       2.000000       2.000000       3.000000   \n",
       "         max         3.000000       3.000000       3.000000       3.000000   \n",
       "virus    count    7041.000000    7041.000000    7041.000000    7041.000000   \n",
       "         mean        1.068456       1.068456       1.048573       1.268996   \n",
       "         std         0.302688       0.302688       0.291301       0.645188   \n",
       "         min         1.000000       1.000000       1.000000       1.000000   \n",
       "         25%         1.000000       1.000000       1.000000       1.000000   \n",
       "         50%         1.000000       1.000000       1.000000       1.000000   \n",
       "         75%         1.000000       1.000000       1.000000       1.000000   \n",
       "         max         3.000000       3.000000       3.000000       3.000000   \n",
       "\n",
       "                      Class_x        Class_y  Prob_class_0  Prob_class_0_x  \\\n",
       "category                                                                     \n",
       "nonvirus count  190211.000000  190211.000000  1.902110e+05    1.902110e+05   \n",
       "         mean        1.762658       2.167298  5.005352e-03    7.842799e-03   \n",
       "         std         0.728202       0.731501  1.071192e-02    1.263593e-02   \n",
       "         min         0.000000       0.000000  0.000000e+00    0.000000e+00   \n",
       "         25%         1.000000       2.000000  4.520020e-04    7.495335e-04   \n",
       "         50%         2.000000       2.000000  2.440690e-03    4.295660e-03   \n",
       "         75%         2.000000       3.000000  7.519225e-03    1.189770e-02   \n",
       "         max         3.000000       3.000000  1.000000e+00    1.000000e+00   \n",
       "unknown  count   10947.000000   10947.000000  1.094700e+04    1.094700e+04   \n",
       "         mean        1.647209       2.022655  4.870173e-03    7.586935e-03   \n",
       "         std         0.781520       0.843954  5.860103e-03    9.449481e-03   \n",
       "         min         1.000000       1.000000  2.944600e-31    1.969550e-36   \n",
       "         25%         1.000000       1.000000  4.325610e-04    4.740715e-04   \n",
       "         50%         1.000000       2.000000  2.384410e-03    3.707370e-03   \n",
       "         75%         2.000000       3.000000  7.542520e-03    1.177990e-02   \n",
       "         max         3.000000       3.000000  3.744720e-02    9.041200e-02   \n",
       "virus    count    7041.000000    7041.000000  7.041000e+03    7.041000e+03   \n",
       "         mean        1.048573       1.268996  2.862356e-03    2.100517e-03   \n",
       "         std         0.291301       0.645188  4.472367e-03    3.828359e-03   \n",
       "         min         1.000000       1.000000  9.733260e-11    1.591990e-20   \n",
       "         25%         1.000000       1.000000  1.762690e-04    7.414910e-05   \n",
       "         50%         1.000000       1.000000  8.822800e-04    4.925100e-04   \n",
       "         75%         1.000000       1.000000  3.439820e-03    2.250160e-03   \n",
       "         max         3.000000       3.000000  4.728510e-02    4.962330e-02   \n",
       "\n",
       "                Prob_class_0_y  Prob_class_1_1M_combined      ...        \\\n",
       "category                                                      ...         \n",
       "nonvirus count    1.902110e+05              1.902110e+05      ...         \n",
       "         mean     3.881666e-03              3.261973e-01      ...         \n",
       "         std      1.015931e-02              3.913331e-01      ...         \n",
       "         min      0.000000e+00              0.000000e+00      ...         \n",
       "         25%      7.060140e-04              2.185155e-03      ...         \n",
       "         50%      2.785570e-03              7.419850e-02      ...         \n",
       "         75%      6.137320e-03              7.540840e-01      ...         \n",
       "         max      1.000000e+00              1.000000e+00      ...         \n",
       "unknown  count    1.094700e+04              1.094700e+04      ...         \n",
       "         mean     3.791454e-03              4.567435e-01      ...         \n",
       "         std      3.522610e-03              4.281158e-01      ...         \n",
       "         min      2.512480e-23              1.329340e-12      ...         \n",
       "         25%      6.900490e-04              1.167080e-02      ...         \n",
       "         50%      2.815450e-03              3.402810e-01      ...         \n",
       "         75%      6.231140e-03              9.572700e-01      ...         \n",
       "         max      2.254350e-02              1.000000e+00      ...         \n",
       "virus    count    7.041000e+03              7.041000e+03      ...         \n",
       "         mean     2.688836e-03              8.967413e-01      ...         \n",
       "         std      3.134763e-03              1.983439e-01      ...         \n",
       "         min      9.209930e-11              2.109200e-08      ...         \n",
       "         25%      1.774600e-04              9.123010e-01      ...         \n",
       "         50%      1.264130e-03              9.818410e-01      ...         \n",
       "         75%      4.491960e-03              9.968100e-01      ...         \n",
       "         max      1.505320e-02              1.000000e+00      ...         \n",
       "\n",
       "                pred_euk_non_euk  pred_non_euk_virus  pred_virus_non_virus  \\\n",
       "category                                                                     \n",
       "nonvirus count     190278.000000       190278.000000         190278.000000   \n",
       "         mean           0.480371            0.530639              0.042743   \n",
       "         std            0.499616            0.499062              0.202277   \n",
       "         min            0.000000            0.000000              0.000000   \n",
       "         25%            0.000000            0.000000              0.000000   \n",
       "         50%            0.000000            1.000000              0.000000   \n",
       "         75%            1.000000            1.000000              0.000000   \n",
       "         max            1.000000            1.000000              1.000000   \n",
       "unknown  count      10983.000000        10983.000000          10983.000000   \n",
       "         mean           0.536283            0.495311              0.036966   \n",
       "         std            0.498704            0.500001              0.188687   \n",
       "         min            0.000000            0.000000              0.000000   \n",
       "         25%            0.000000            0.000000              0.000000   \n",
       "         50%            1.000000            0.000000              0.000000   \n",
       "         75%            1.000000            1.000000              0.000000   \n",
       "         max            1.000000            1.000000              1.000000   \n",
       "virus    count       7041.000000         7041.000000           7041.000000   \n",
       "         mean           0.627468            0.300241              0.015197   \n",
       "         std            0.483513            0.458395              0.122343   \n",
       "         min            0.000000            0.000000              0.000000   \n",
       "         25%            0.000000            0.000000              0.000000   \n",
       "         50%            1.000000            0.000000              0.000000   \n",
       "         75%            1.000000            1.000000              0.000000   \n",
       "         max            1.000000            1.000000              1.000000   \n",
       "\n",
       "                   prediction   probability  score_euk_non_euk  \\\n",
       "category                                                         \n",
       "nonvirus count  190278.000000  1.902780e+05       1.902780e+05   \n",
       "         mean        0.310530  3.033593e-01       4.821667e-01   \n",
       "         std         0.462712  3.846625e-01       4.236087e-01   \n",
       "         min         0.000000  1.608784e-40       6.446008e-12   \n",
       "         25%         0.000000  9.707825e-05       2.150400e-02   \n",
       "         50%         0.000000  2.300573e-02       4.341561e-01   \n",
       "         75%         1.000000  6.577493e-01       9.671414e-01   \n",
       "         max         1.000000  1.000000e+00       1.000000e+00   \n",
       "unknown  count   10983.000000  1.098300e+04       1.098300e+04   \n",
       "         mean        0.402895  3.905611e-01       5.353198e-01   \n",
       "         std         0.490502  4.163253e-01       4.199167e-01   \n",
       "         min         0.000000  1.479479e-24       1.925903e-11   \n",
       "         25%         0.000000  6.519745e-04       4.776202e-02   \n",
       "         50%         0.000000  1.767469e-01       6.231798e-01   \n",
       "         75%         1.000000  8.646248e-01       9.785060e-01   \n",
       "         max         1.000000  1.000000e+00       1.000000e+00   \n",
       "virus    count    7041.000000  7.041000e+03       7.041000e+03   \n",
       "         mean        0.782133  7.542705e-01       6.163139e-01   \n",
       "         std         0.412826  3.229911e-01       4.009598e-01   \n",
       "         min         0.000000  1.067368e-10       6.454847e-07   \n",
       "         25%         1.000000  5.696865e-01       1.522336e-01   \n",
       "         50%         1.000000  9.473064e-01       8.239797e-01   \n",
       "         75%         1.000000  9.981627e-01       9.895347e-01   \n",
       "         max         1.000000  1.000000e+00       1.000000e+00   \n",
       "\n",
       "                score_non_euk_virus  score_virus_non_virus        tax_id  \\\n",
       "category                                                                   \n",
       "nonvirus count         1.902780e+05           1.902780e+05  1.902780e+05   \n",
       "         mean          5.299626e-01           7.292496e-02  3.392269e+05   \n",
       "         std           3.801326e-01           1.670222e-01  5.654123e+05   \n",
       "         min           2.994483e-09           5.811040e-12  2.000000e+00   \n",
       "         25%           1.228651e-01           4.987104e-04  1.236000e+03   \n",
       "         50%           5.647460e-01           5.198083e-03  4.954600e+04   \n",
       "         75%           9.312114e-01           4.808648e-02  2.965870e+05   \n",
       "         max           1.000000e+00           9.998867e-01  1.904754e+06   \n",
       "unknown  count         1.098300e+04           1.098300e+04  1.098300e+04   \n",
       "         mean          4.904150e-01           6.526761e-02  8.439084e+04   \n",
       "         std           3.682654e-01           1.525654e-01  8.752709e+04   \n",
       "         min           8.361006e-06           5.348955e-09 -2.000000e+00   \n",
       "         25%           1.027605e-01           4.266487e-04  1.000000e+00   \n",
       "         50%           4.928909e-01           3.985952e-03  1.315670e+05   \n",
       "         75%           8.664932e-01           4.029911e-02  1.315670e+05   \n",
       "         max           9.999993e-01           9.952776e-01  3.836300e+05   \n",
       "virus    count         7.041000e+03           7.041000e+03  7.041000e+03   \n",
       "         mean          3.267756e-01           3.800008e-02  5.675094e+05   \n",
       "         std           3.357460e-01           1.069962e-01  6.644340e+05   \n",
       "         min           1.169350e-05           2.493190e-08 -2.000000e+00   \n",
       "         25%           2.841752e-02           1.417346e-04  1.023900e+04   \n",
       "         50%           1.829086e-01           1.207770e-03  1.968960e+05   \n",
       "         75%           6.067313e-01           1.418235e-02  1.407671e+06   \n",
       "         max           9.999625e-01           9.897234e-01  1.880590e+06   \n",
       "\n",
       "                         vfam  \n",
       "category                       \n",
       "nonvirus count  190278.000000  \n",
       "         mean        0.000000  \n",
       "         std         0.000000  \n",
       "         min         0.000000  \n",
       "         25%         0.000000  \n",
       "         50%         0.000000  \n",
       "         75%         0.000000  \n",
       "         max         0.000000  \n",
       "unknown  count   10983.000000  \n",
       "         mean        0.000000  \n",
       "         std         0.000000  \n",
       "         min         0.000000  \n",
       "         25%         0.000000  \n",
       "         50%         0.000000  \n",
       "         75%         0.000000  \n",
       "         max         0.000000  \n",
       "virus    count    7041.000000  \n",
       "         mean        0.014771  \n",
       "         std         0.120642  \n",
       "         min         0.000000  \n",
       "         25%         0.000000  \n",
       "         50%         0.000000  \n",
       "         75%         0.000000  \n",
       "         max         1.000000  \n",
       "\n",
       "[24 rows x 33 columns]"
      ]
     },
     "execution_count": 31,
     "metadata": {},
     "output_type": "execute_result"
    }
   ],
   "source": [
    "new_table_merge3.groupby('category').describe()\n"
   ]
  },
  {
   "cell_type": "markdown",
   "metadata": {},
   "source": [
    "#### subsample \"non-euk\" to have same number of \"euk\" contigs, for evaluating euk/non-euk model"
   ]
  },
  {
   "cell_type": "code",
   "execution_count": 32,
   "metadata": {
    "collapsed": false
   },
   "outputs": [
    {
     "name": "stderr",
     "output_type": "stream",
     "text": [
      "/Users/qingpeng/anaconda/lib/python2.7/site-packages/ipykernel/__main__.py:2: UserWarning: Boolean Series key will be reindexed to match DataFrame index.\n",
      "  from ipykernel import kernelapp as app\n"
     ]
    }
   ],
   "source": [
    "# \"non-euk\" data frame... non-virus and with annotation by MEGAN\n",
    "df_euk = new_table_merge3[new_table_merge3.non_euk_label==False][new_table_merge3['annotation_label']== 'with annotation']"
   ]
  },
  {
   "cell_type": "code",
   "execution_count": 33,
   "metadata": {
    "collapsed": false
   },
   "outputs": [
    {
     "data": {
      "text/plain": [
       "40920"
      ]
     },
     "execution_count": 33,
     "metadata": {},
     "output_type": "execute_result"
    }
   ],
   "source": [
    "len(df_euk)"
   ]
  },
  {
   "cell_type": "code",
   "execution_count": 53,
   "metadata": {
    "collapsed": false
   },
   "outputs": [
    {
     "data": {
      "text/plain": [
       "10983"
      ]
     },
     "execution_count": 53,
     "metadata": {},
     "output_type": "execute_result"
    }
   ],
   "source": [
    "len(df_unknown)"
   ]
  },
  {
   "cell_type": "code",
   "execution_count": 34,
   "metadata": {
    "collapsed": false
   },
   "outputs": [
    {
     "data": {
      "text/html": [
       "<div>\n",
       "<table border=\"1\" class=\"dataframe\">\n",
       "  <thead>\n",
       "    <tr style=\"text-align: right;\">\n",
       "      <th></th>\n",
       "      <th>name</th>\n",
       "      <th>length</th>\n",
       "      <th>probability</th>\n",
       "      <th>prediction</th>\n",
       "      <th>vfam</th>\n",
       "      <th>pfam</th>\n",
       "      <th>diamond</th>\n",
       "      <th>label</th>\n",
       "      <th>score_euk_non_euk</th>\n",
       "      <th>pred_euk_non_euk</th>\n",
       "      <th>...</th>\n",
       "      <th>Class</th>\n",
       "      <th>Class_id</th>\n",
       "      <th>Prob_class_0</th>\n",
       "      <th>Prob_class_1_1M_combined</th>\n",
       "      <th>Prob_class_2</th>\n",
       "      <th>Prob_class_3</th>\n",
       "      <th>non_euk_label</th>\n",
       "      <th>micromonas_label</th>\n",
       "      <th>annotation_label</th>\n",
       "      <th>category</th>\n",
       "    </tr>\n",
       "  </thead>\n",
       "  <tbody>\n",
       "    <tr>\n",
       "      <th>268</th>\n",
       "      <td>NODE_269_length_13662_cov_37.4019_g165_i0</td>\n",
       "      <td>13662</td>\n",
       "      <td>1.000000</td>\n",
       "      <td>1.0</td>\n",
       "      <td>0.0</td>\n",
       "      <td>0.0</td>\n",
       "      <td>0.0</td>\n",
       "      <td>0.0</td>\n",
       "      <td>0.618436</td>\n",
       "      <td>1.0</td>\n",
       "      <td>...</td>\n",
       "      <td>1.0</td>\n",
       "      <td>1.0</td>\n",
       "      <td>4.383380e-04</td>\n",
       "      <td>9.175010e-01</td>\n",
       "      <td>0.007321</td>\n",
       "      <td>7.474000e-02</td>\n",
       "      <td>False</td>\n",
       "      <td>False</td>\n",
       "      <td>with annotation</td>\n",
       "      <td>nonvirus</td>\n",
       "    </tr>\n",
       "    <tr>\n",
       "      <th>326</th>\n",
       "      <td>NODE_327_length_11643_cov_43.6716_g200_i0</td>\n",
       "      <td>11643</td>\n",
       "      <td>0.000126</td>\n",
       "      <td>0.0</td>\n",
       "      <td>0.0</td>\n",
       "      <td>0.0</td>\n",
       "      <td>0.0</td>\n",
       "      <td>0.0</td>\n",
       "      <td>0.011231</td>\n",
       "      <td>0.0</td>\n",
       "      <td>...</td>\n",
       "      <td>2.0</td>\n",
       "      <td>2.0</td>\n",
       "      <td>5.389890e-04</td>\n",
       "      <td>2.665240e-04</td>\n",
       "      <td>0.975469</td>\n",
       "      <td>2.372530e-02</td>\n",
       "      <td>False</td>\n",
       "      <td>False</td>\n",
       "      <td>with annotation</td>\n",
       "      <td>nonvirus</td>\n",
       "    </tr>\n",
       "    <tr>\n",
       "      <th>348</th>\n",
       "      <td>NODE_349_length_11091_cov_73.7458_g215_i0</td>\n",
       "      <td>11091</td>\n",
       "      <td>0.000057</td>\n",
       "      <td>0.0</td>\n",
       "      <td>0.0</td>\n",
       "      <td>0.0</td>\n",
       "      <td>0.0</td>\n",
       "      <td>0.0</td>\n",
       "      <td>0.045895</td>\n",
       "      <td>0.0</td>\n",
       "      <td>...</td>\n",
       "      <td>2.0</td>\n",
       "      <td>2.0</td>\n",
       "      <td>7.116190e-04</td>\n",
       "      <td>4.866350e-04</td>\n",
       "      <td>0.905495</td>\n",
       "      <td>9.330670e-02</td>\n",
       "      <td>False</td>\n",
       "      <td>False</td>\n",
       "      <td>with annotation</td>\n",
       "      <td>nonvirus</td>\n",
       "    </tr>\n",
       "    <tr>\n",
       "      <th>517</th>\n",
       "      <td>NODE_518_length_8292_cov_38.7037_g335_i0</td>\n",
       "      <td>8292</td>\n",
       "      <td>0.002875</td>\n",
       "      <td>0.0</td>\n",
       "      <td>0.0</td>\n",
       "      <td>0.0</td>\n",
       "      <td>0.0</td>\n",
       "      <td>0.0</td>\n",
       "      <td>0.000803</td>\n",
       "      <td>0.0</td>\n",
       "      <td>...</td>\n",
       "      <td>2.0</td>\n",
       "      <td>2.0</td>\n",
       "      <td>7.540480e-04</td>\n",
       "      <td>2.957290e-03</td>\n",
       "      <td>0.978564</td>\n",
       "      <td>1.772480e-02</td>\n",
       "      <td>False</td>\n",
       "      <td>False</td>\n",
       "      <td>with annotation</td>\n",
       "      <td>nonvirus</td>\n",
       "    </tr>\n",
       "    <tr>\n",
       "      <th>522</th>\n",
       "      <td>NODE_523_length_8242_cov_224.933_g340_i0</td>\n",
       "      <td>8242</td>\n",
       "      <td>0.000006</td>\n",
       "      <td>0.0</td>\n",
       "      <td>0.0</td>\n",
       "      <td>0.0</td>\n",
       "      <td>0.0</td>\n",
       "      <td>0.0</td>\n",
       "      <td>0.022461</td>\n",
       "      <td>0.0</td>\n",
       "      <td>...</td>\n",
       "      <td>2.0</td>\n",
       "      <td>2.0</td>\n",
       "      <td>8.543460e-07</td>\n",
       "      <td>8.616370e-07</td>\n",
       "      <td>0.999998</td>\n",
       "      <td>3.514320e-08</td>\n",
       "      <td>False</td>\n",
       "      <td>False</td>\n",
       "      <td>with annotation</td>\n",
       "      <td>nonvirus</td>\n",
       "    </tr>\n",
       "  </tbody>\n",
       "</table>\n",
       "<p>5 rows × 42 columns</p>\n",
       "</div>"
      ],
      "text/plain": [
       "                                          name  length  probability  \\\n",
       "268  NODE_269_length_13662_cov_37.4019_g165_i0   13662     1.000000   \n",
       "326  NODE_327_length_11643_cov_43.6716_g200_i0   11643     0.000126   \n",
       "348  NODE_349_length_11091_cov_73.7458_g215_i0   11091     0.000057   \n",
       "517   NODE_518_length_8292_cov_38.7037_g335_i0    8292     0.002875   \n",
       "522   NODE_523_length_8242_cov_224.933_g340_i0    8242     0.000006   \n",
       "\n",
       "     prediction  vfam  pfam  diamond  label  score_euk_non_euk  \\\n",
       "268         1.0   0.0   0.0      0.0    0.0           0.618436   \n",
       "326         0.0   0.0   0.0      0.0    0.0           0.011231   \n",
       "348         0.0   0.0   0.0      0.0    0.0           0.045895   \n",
       "517         0.0   0.0   0.0      0.0    0.0           0.000803   \n",
       "522         0.0   0.0   0.0      0.0    0.0           0.022461   \n",
       "\n",
       "     pred_euk_non_euk    ...     Class  Class_id  Prob_class_0  \\\n",
       "268               1.0    ...       1.0       1.0  4.383380e-04   \n",
       "326               0.0    ...       2.0       2.0  5.389890e-04   \n",
       "348               0.0    ...       2.0       2.0  7.116190e-04   \n",
       "517               0.0    ...       2.0       2.0  7.540480e-04   \n",
       "522               0.0    ...       2.0       2.0  8.543460e-07   \n",
       "\n",
       "     Prob_class_1_1M_combined  Prob_class_2  Prob_class_3  non_euk_label  \\\n",
       "268              9.175010e-01      0.007321  7.474000e-02          False   \n",
       "326              2.665240e-04      0.975469  2.372530e-02          False   \n",
       "348              4.866350e-04      0.905495  9.330670e-02          False   \n",
       "517              2.957290e-03      0.978564  1.772480e-02          False   \n",
       "522              8.616370e-07      0.999998  3.514320e-08          False   \n",
       "\n",
       "    micromonas_label annotation_label  category  \n",
       "268            False  with annotation  nonvirus  \n",
       "326            False  with annotation  nonvirus  \n",
       "348            False  with annotation  nonvirus  \n",
       "517            False  with annotation  nonvirus  \n",
       "522            False  with annotation  nonvirus  \n",
       "\n",
       "[5 rows x 42 columns]"
      ]
     },
     "execution_count": 34,
     "metadata": {},
     "output_type": "execute_result"
    }
   ],
   "source": [
    "df_euk.head()"
   ]
  },
  {
   "cell_type": "code",
   "execution_count": 35,
   "metadata": {
    "collapsed": false
   },
   "outputs": [
    {
     "name": "stderr",
     "output_type": "stream",
     "text": [
      "/Users/qingpeng/anaconda/lib/python2.7/site-packages/ipykernel/__main__.py:1: UserWarning: Boolean Series key will be reindexed to match DataFrame index.\n",
      "  if __name__ == '__main__':\n"
     ]
    }
   ],
   "source": [
    "df_noneuk = new_table_merge3[new_table_merge3.non_euk_label==True][new_table_merge3['annotation_label']== 'with annotation']"
   ]
  },
  {
   "cell_type": "code",
   "execution_count": 36,
   "metadata": {
    "collapsed": false
   },
   "outputs": [
    {
     "data": {
      "text/plain": [
       "156078"
      ]
     },
     "execution_count": 36,
     "metadata": {},
     "output_type": "execute_result"
    }
   ],
   "source": [
    "len(df_noneuk)"
   ]
  },
  {
   "cell_type": "code",
   "execution_count": 37,
   "metadata": {
    "collapsed": true
   },
   "outputs": [],
   "source": [
    "df_noneuk_subsample = df_noneuk.sample(n=40920, replace=False)"
   ]
  },
  {
   "cell_type": "code",
   "execution_count": 38,
   "metadata": {
    "collapsed": false
   },
   "outputs": [
    {
     "data": {
      "text/html": [
       "<div>\n",
       "<table border=\"1\" class=\"dataframe\">\n",
       "  <thead>\n",
       "    <tr style=\"text-align: right;\">\n",
       "      <th></th>\n",
       "      <th>name</th>\n",
       "      <th>length</th>\n",
       "      <th>probability</th>\n",
       "      <th>prediction</th>\n",
       "      <th>vfam</th>\n",
       "      <th>pfam</th>\n",
       "      <th>diamond</th>\n",
       "      <th>label</th>\n",
       "      <th>score_euk_non_euk</th>\n",
       "      <th>pred_euk_non_euk</th>\n",
       "      <th>...</th>\n",
       "      <th>Prob_class_3_y</th>\n",
       "      <th>Class</th>\n",
       "      <th>Class_id</th>\n",
       "      <th>Prob_class_0</th>\n",
       "      <th>Prob_class_1_1M_combined</th>\n",
       "      <th>Prob_class_2</th>\n",
       "      <th>Prob_class_3</th>\n",
       "      <th>non_euk_label</th>\n",
       "      <th>micromonas_label</th>\n",
       "      <th>annotation_label</th>\n",
       "    </tr>\n",
       "  </thead>\n",
       "  <tbody>\n",
       "    <tr>\n",
       "      <th>1187</th>\n",
       "      <td>NODE_1190_length_4867_cov_31.1845_g863_i0</td>\n",
       "      <td>4867</td>\n",
       "      <td>0.003411</td>\n",
       "      <td>0.0</td>\n",
       "      <td>1.0</td>\n",
       "      <td>0.0</td>\n",
       "      <td>0.0</td>\n",
       "      <td>1.0</td>\n",
       "      <td>0.053115</td>\n",
       "      <td>0.0</td>\n",
       "      <td>...</td>\n",
       "      <td>0.507400</td>\n",
       "      <td>2.0</td>\n",
       "      <td>2.0</td>\n",
       "      <td>0.003184</td>\n",
       "      <td>0.006785</td>\n",
       "      <td>0.545710</td>\n",
       "      <td>0.444321</td>\n",
       "      <td>True</td>\n",
       "      <td>False</td>\n",
       "      <td>with annotation</td>\n",
       "    </tr>\n",
       "    <tr>\n",
       "      <th>1385</th>\n",
       "      <td>NODE_1388_length_4479_cov_77.7475_g1017_i0</td>\n",
       "      <td>4479</td>\n",
       "      <td>0.995234</td>\n",
       "      <td>1.0</td>\n",
       "      <td>0.0</td>\n",
       "      <td>1.0</td>\n",
       "      <td>1.0</td>\n",
       "      <td>1.0</td>\n",
       "      <td>0.974094</td>\n",
       "      <td>1.0</td>\n",
       "      <td>...</td>\n",
       "      <td>0.149424</td>\n",
       "      <td>1.0</td>\n",
       "      <td>1.0</td>\n",
       "      <td>0.006002</td>\n",
       "      <td>0.861805</td>\n",
       "      <td>0.106836</td>\n",
       "      <td>0.025357</td>\n",
       "      <td>True</td>\n",
       "      <td>False</td>\n",
       "      <td>with annotation</td>\n",
       "    </tr>\n",
       "    <tr>\n",
       "      <th>1698</th>\n",
       "      <td>NODE_1702_length_3955_cov_32.4023_g1269_i0</td>\n",
       "      <td>3955</td>\n",
       "      <td>0.094340</td>\n",
       "      <td>0.0</td>\n",
       "      <td>0.0</td>\n",
       "      <td>1.0</td>\n",
       "      <td>1.0</td>\n",
       "      <td>1.0</td>\n",
       "      <td>0.792640</td>\n",
       "      <td>1.0</td>\n",
       "      <td>...</td>\n",
       "      <td>0.353349</td>\n",
       "      <td>2.0</td>\n",
       "      <td>2.0</td>\n",
       "      <td>0.020173</td>\n",
       "      <td>0.244392</td>\n",
       "      <td>0.609811</td>\n",
       "      <td>0.125624</td>\n",
       "      <td>True</td>\n",
       "      <td>False</td>\n",
       "      <td>with annotation</td>\n",
       "    </tr>\n",
       "    <tr>\n",
       "      <th>1728</th>\n",
       "      <td>NODE_1732_length_3910_cov_62.4519_g1295_i0</td>\n",
       "      <td>3910</td>\n",
       "      <td>0.985221</td>\n",
       "      <td>1.0</td>\n",
       "      <td>0.0</td>\n",
       "      <td>1.0</td>\n",
       "      <td>1.0</td>\n",
       "      <td>1.0</td>\n",
       "      <td>0.960621</td>\n",
       "      <td>1.0</td>\n",
       "      <td>...</td>\n",
       "      <td>0.056174</td>\n",
       "      <td>1.0</td>\n",
       "      <td>1.0</td>\n",
       "      <td>0.002464</td>\n",
       "      <td>0.918208</td>\n",
       "      <td>0.064930</td>\n",
       "      <td>0.014399</td>\n",
       "      <td>True</td>\n",
       "      <td>False</td>\n",
       "      <td>with annotation</td>\n",
       "    </tr>\n",
       "    <tr>\n",
       "      <th>1748</th>\n",
       "      <td>NODE_1752_length_3882_cov_14.5733_g1313_i0</td>\n",
       "      <td>3882</td>\n",
       "      <td>0.355353</td>\n",
       "      <td>0.0</td>\n",
       "      <td>0.0</td>\n",
       "      <td>1.0</td>\n",
       "      <td>1.0</td>\n",
       "      <td>1.0</td>\n",
       "      <td>0.603147</td>\n",
       "      <td>1.0</td>\n",
       "      <td>...</td>\n",
       "      <td>0.782471</td>\n",
       "      <td>1.0</td>\n",
       "      <td>1.0</td>\n",
       "      <td>0.002768</td>\n",
       "      <td>0.844905</td>\n",
       "      <td>0.022769</td>\n",
       "      <td>0.129558</td>\n",
       "      <td>True</td>\n",
       "      <td>False</td>\n",
       "      <td>with annotation</td>\n",
       "    </tr>\n",
       "  </tbody>\n",
       "</table>\n",
       "<p>5 rows × 41 columns</p>\n",
       "</div>"
      ],
      "text/plain": [
       "                                            name  length  probability  \\\n",
       "1187   NODE_1190_length_4867_cov_31.1845_g863_i0    4867     0.003411   \n",
       "1385  NODE_1388_length_4479_cov_77.7475_g1017_i0    4479     0.995234   \n",
       "1698  NODE_1702_length_3955_cov_32.4023_g1269_i0    3955     0.094340   \n",
       "1728  NODE_1732_length_3910_cov_62.4519_g1295_i0    3910     0.985221   \n",
       "1748  NODE_1752_length_3882_cov_14.5733_g1313_i0    3882     0.355353   \n",
       "\n",
       "      prediction  vfam  pfam  diamond  label  score_euk_non_euk  \\\n",
       "1187         0.0   1.0   0.0      0.0    1.0           0.053115   \n",
       "1385         1.0   0.0   1.0      1.0    1.0           0.974094   \n",
       "1698         0.0   0.0   1.0      1.0    1.0           0.792640   \n",
       "1728         1.0   0.0   1.0      1.0    1.0           0.960621   \n",
       "1748         0.0   0.0   1.0      1.0    1.0           0.603147   \n",
       "\n",
       "      pred_euk_non_euk       ...         Prob_class_3_y  Class  Class_id  \\\n",
       "1187               0.0       ...               0.507400    2.0       2.0   \n",
       "1385               1.0       ...               0.149424    1.0       1.0   \n",
       "1698               1.0       ...               0.353349    2.0       2.0   \n",
       "1728               1.0       ...               0.056174    1.0       1.0   \n",
       "1748               1.0       ...               0.782471    1.0       1.0   \n",
       "\n",
       "      Prob_class_0  Prob_class_1_1M_combined Prob_class_2  Prob_class_3  \\\n",
       "1187      0.003184                  0.006785     0.545710      0.444321   \n",
       "1385      0.006002                  0.861805     0.106836      0.025357   \n",
       "1698      0.020173                  0.244392     0.609811      0.125624   \n",
       "1728      0.002464                  0.918208     0.064930      0.014399   \n",
       "1748      0.002768                  0.844905     0.022769      0.129558   \n",
       "\n",
       "     non_euk_label micromonas_label annotation_label  \n",
       "1187          True            False  with annotation  \n",
       "1385          True            False  with annotation  \n",
       "1698          True            False  with annotation  \n",
       "1728          True            False  with annotation  \n",
       "1748          True            False  with annotation  \n",
       "\n",
       "[5 rows x 41 columns]"
      ]
     },
     "execution_count": 38,
     "metadata": {},
     "output_type": "execute_result"
    }
   ],
   "source": [
    "df_virus.head()"
   ]
  },
  {
   "cell_type": "code",
   "execution_count": 39,
   "metadata": {
    "collapsed": true
   },
   "outputs": [],
   "source": [
    "df_micromonus = new_table_merge3[new_table_merge3.micromonas_label==True]"
   ]
  },
  {
   "cell_type": "code",
   "execution_count": 40,
   "metadata": {
    "collapsed": false
   },
   "outputs": [
    {
     "data": {
      "text/plain": [
       "9586"
      ]
     },
     "execution_count": 40,
     "metadata": {},
     "output_type": "execute_result"
    }
   ],
   "source": [
    "len(df_micromonus)"
   ]
  },
  {
   "cell_type": "code",
   "execution_count": 41,
   "metadata": {
    "collapsed": true
   },
   "outputs": [],
   "source": [
    "df_micromonus.to_csv(\"Micromonas_table.csv\")"
   ]
  },
  {
   "cell_type": "code",
   "execution_count": 42,
   "metadata": {
    "collapsed": false
   },
   "outputs": [
    {
     "data": {
      "text/html": [
       "<div>\n",
       "<table border=\"1\" class=\"dataframe\">\n",
       "  <thead>\n",
       "    <tr style=\"text-align: right;\">\n",
       "      <th></th>\n",
       "      <th>name</th>\n",
       "      <th>length</th>\n",
       "      <th>probability</th>\n",
       "      <th>prediction</th>\n",
       "      <th>vfam</th>\n",
       "      <th>pfam</th>\n",
       "      <th>diamond</th>\n",
       "      <th>label</th>\n",
       "      <th>score_euk_non_euk</th>\n",
       "      <th>pred_euk_non_euk</th>\n",
       "      <th>...</th>\n",
       "      <th>Prob_class_3_y</th>\n",
       "      <th>Class</th>\n",
       "      <th>Class_id</th>\n",
       "      <th>Prob_class_0</th>\n",
       "      <th>Prob_class_1_1M_combined</th>\n",
       "      <th>Prob_class_2</th>\n",
       "      <th>Prob_class_3</th>\n",
       "      <th>non_euk_label</th>\n",
       "      <th>micromonas_label</th>\n",
       "      <th>annotation_label</th>\n",
       "    </tr>\n",
       "  </thead>\n",
       "  <tbody>\n",
       "    <tr>\n",
       "      <th>0</th>\n",
       "      <td>NODE_1_length_91451_cov_163.114_g0_i0</td>\n",
       "      <td>91451</td>\n",
       "      <td>0.000375</td>\n",
       "      <td>0.0</td>\n",
       "      <td>0.0</td>\n",
       "      <td>0.0</td>\n",
       "      <td>0.0</td>\n",
       "      <td>0.0</td>\n",
       "      <td>0.000025</td>\n",
       "      <td>0.0</td>\n",
       "      <td>...</td>\n",
       "      <td>7.056080e-13</td>\n",
       "      <td>2.0</td>\n",
       "      <td>2.0</td>\n",
       "      <td>1.060660e-07</td>\n",
       "      <td>0.000113</td>\n",
       "      <td>0.999887</td>\n",
       "      <td>4.107130e-15</td>\n",
       "      <td>True</td>\n",
       "      <td>False</td>\n",
       "      <td>with annotation</td>\n",
       "    </tr>\n",
       "    <tr>\n",
       "      <th>1</th>\n",
       "      <td>NODE_2_length_74096_cov_303.895_g1_i0</td>\n",
       "      <td>74096</td>\n",
       "      <td>0.000088</td>\n",
       "      <td>0.0</td>\n",
       "      <td>0.0</td>\n",
       "      <td>0.0</td>\n",
       "      <td>0.0</td>\n",
       "      <td>0.0</td>\n",
       "      <td>0.000012</td>\n",
       "      <td>0.0</td>\n",
       "      <td>...</td>\n",
       "      <td>1.381120e-13</td>\n",
       "      <td>2.0</td>\n",
       "      <td>2.0</td>\n",
       "      <td>1.384510e-08</td>\n",
       "      <td>0.000006</td>\n",
       "      <td>0.999994</td>\n",
       "      <td>6.699520e-16</td>\n",
       "      <td>True</td>\n",
       "      <td>False</td>\n",
       "      <td>with annotation</td>\n",
       "    </tr>\n",
       "    <tr>\n",
       "      <th>2</th>\n",
       "      <td>NODE_3_length_66420_cov_268.59_g1_i1</td>\n",
       "      <td>66420</td>\n",
       "      <td>0.000041</td>\n",
       "      <td>0.0</td>\n",
       "      <td>0.0</td>\n",
       "      <td>0.0</td>\n",
       "      <td>0.0</td>\n",
       "      <td>0.0</td>\n",
       "      <td>0.000009</td>\n",
       "      <td>0.0</td>\n",
       "      <td>...</td>\n",
       "      <td>8.154490e-11</td>\n",
       "      <td>2.0</td>\n",
       "      <td>2.0</td>\n",
       "      <td>1.072090e-07</td>\n",
       "      <td>0.000007</td>\n",
       "      <td>0.999993</td>\n",
       "      <td>1.115700e-12</td>\n",
       "      <td>True</td>\n",
       "      <td>False</td>\n",
       "      <td>with annotation</td>\n",
       "    </tr>\n",
       "    <tr>\n",
       "      <th>3</th>\n",
       "      <td>NODE_4_length_61338_cov_317.585_g2_i0</td>\n",
       "      <td>61338</td>\n",
       "      <td>0.000056</td>\n",
       "      <td>0.0</td>\n",
       "      <td>0.0</td>\n",
       "      <td>0.0</td>\n",
       "      <td>0.0</td>\n",
       "      <td>0.0</td>\n",
       "      <td>0.000008</td>\n",
       "      <td>0.0</td>\n",
       "      <td>...</td>\n",
       "      <td>3.196500e-13</td>\n",
       "      <td>2.0</td>\n",
       "      <td>2.0</td>\n",
       "      <td>2.839570e-08</td>\n",
       "      <td>0.000024</td>\n",
       "      <td>0.999976</td>\n",
       "      <td>1.157360e-15</td>\n",
       "      <td>True</td>\n",
       "      <td>False</td>\n",
       "      <td>with annotation</td>\n",
       "    </tr>\n",
       "    <tr>\n",
       "      <th>4</th>\n",
       "      <td>NODE_5_length_59036_cov_197.701_g0_i1</td>\n",
       "      <td>59036</td>\n",
       "      <td>0.000040</td>\n",
       "      <td>0.0</td>\n",
       "      <td>0.0</td>\n",
       "      <td>0.0</td>\n",
       "      <td>0.0</td>\n",
       "      <td>0.0</td>\n",
       "      <td>0.000008</td>\n",
       "      <td>0.0</td>\n",
       "      <td>...</td>\n",
       "      <td>1.307740e-11</td>\n",
       "      <td>2.0</td>\n",
       "      <td>2.0</td>\n",
       "      <td>5.799570e-08</td>\n",
       "      <td>0.000002</td>\n",
       "      <td>0.999998</td>\n",
       "      <td>2.616740e-13</td>\n",
       "      <td>True</td>\n",
       "      <td>False</td>\n",
       "      <td>with annotation</td>\n",
       "    </tr>\n",
       "  </tbody>\n",
       "</table>\n",
       "<p>5 rows × 41 columns</p>\n",
       "</div>"
      ],
      "text/plain": [
       "                                    name  length  probability  prediction  \\\n",
       "0  NODE_1_length_91451_cov_163.114_g0_i0   91451     0.000375         0.0   \n",
       "1  NODE_2_length_74096_cov_303.895_g1_i0   74096     0.000088         0.0   \n",
       "2   NODE_3_length_66420_cov_268.59_g1_i1   66420     0.000041         0.0   \n",
       "3  NODE_4_length_61338_cov_317.585_g2_i0   61338     0.000056         0.0   \n",
       "4  NODE_5_length_59036_cov_197.701_g0_i1   59036     0.000040         0.0   \n",
       "\n",
       "   vfam  pfam  diamond  label  score_euk_non_euk  pred_euk_non_euk  \\\n",
       "0   0.0   0.0      0.0    0.0           0.000025               0.0   \n",
       "1   0.0   0.0      0.0    0.0           0.000012               0.0   \n",
       "2   0.0   0.0      0.0    0.0           0.000009               0.0   \n",
       "3   0.0   0.0      0.0    0.0           0.000008               0.0   \n",
       "4   0.0   0.0      0.0    0.0           0.000008               0.0   \n",
       "\n",
       "        ...         Prob_class_3_y  Class  Class_id  Prob_class_0  \\\n",
       "0       ...           7.056080e-13    2.0       2.0  1.060660e-07   \n",
       "1       ...           1.381120e-13    2.0       2.0  1.384510e-08   \n",
       "2       ...           8.154490e-11    2.0       2.0  1.072090e-07   \n",
       "3       ...           3.196500e-13    2.0       2.0  2.839570e-08   \n",
       "4       ...           1.307740e-11    2.0       2.0  5.799570e-08   \n",
       "\n",
       "   Prob_class_1_1M_combined Prob_class_2  Prob_class_3 non_euk_label  \\\n",
       "0                  0.000113     0.999887  4.107130e-15          True   \n",
       "1                  0.000006     0.999994  6.699520e-16          True   \n",
       "2                  0.000007     0.999993  1.115700e-12          True   \n",
       "3                  0.000024     0.999976  1.157360e-15          True   \n",
       "4                  0.000002     0.999998  2.616740e-13          True   \n",
       "\n",
       "  micromonas_label annotation_label  \n",
       "0            False  with annotation  \n",
       "1            False  with annotation  \n",
       "2            False  with annotation  \n",
       "3            False  with annotation  \n",
       "4            False  with annotation  \n",
       "\n",
       "[5 rows x 41 columns]"
      ]
     },
     "execution_count": 42,
     "metadata": {},
     "output_type": "execute_result"
    }
   ],
   "source": [
    "df_nonvirus.head()"
   ]
  },
  {
   "cell_type": "code",
   "execution_count": 43,
   "metadata": {
    "collapsed": false
   },
   "outputs": [
    {
     "data": {
      "text/plain": [
       "array([[<matplotlib.axes._subplots.AxesSubplot object at 0x122f22290>,\n",
       "        <matplotlib.axes._subplots.AxesSubplot object at 0x113a20590>],\n",
       "       [<matplotlib.axes._subplots.AxesSubplot object at 0x11d3d0fd0>,\n",
       "        <matplotlib.axes._subplots.AxesSubplot object at 0x11d464210>]], dtype=object)"
      ]
     },
     "execution_count": 43,
     "metadata": {},
     "output_type": "execute_result"
    },
    {
     "data": {
      "image/png": "[encoded data removed]",
      "text/plain": [
       "<matplotlib.figure.Figure at 0x122f22850>"
      ]
     },
     "metadata": {},
     "output_type": "display_data"
    }
   ],
   "source": [
    "df_euk.hist(figsize=(10,8),column=['Prob_class_1_300k_full', 'Prob_class_1_3M_train', 'Prob_class_1_1M_combined'],bins=50)"
   ]
  },
  {
   "cell_type": "code",
   "execution_count": 44,
   "metadata": {
    "collapsed": false
   },
   "outputs": [
    {
     "data": {
      "text/plain": [
       "array([[<matplotlib.axes._subplots.AxesSubplot object at 0x1245f0c50>,\n",
       "        <matplotlib.axes._subplots.AxesSubplot object at 0x1270b94d0>],\n",
       "       [<matplotlib.axes._subplots.AxesSubplot object at 0x127138a10>,\n",
       "        <matplotlib.axes._subplots.AxesSubplot object at 0x12719ce50>]], dtype=object)"
      ]
     },
     "execution_count": 44,
     "metadata": {},
     "output_type": "execute_result"
    },
    {
     "data": {
      "image/png": "[encoded data removed]",
      "text/plain": [
       "<matplotlib.figure.Figure at 0x12467f290>"
      ]
     },
     "metadata": {},
     "output_type": "display_data"
    }
   ],
   "source": [
    "df_micromonus.hist(figsize=(10,8),column=['Prob_class_1_300k_full', 'Prob_class_1_3M_train', 'Prob_class_1_1M_combined'],bins=50)"
   ]
  },
  {
   "cell_type": "code",
   "execution_count": 45,
   "metadata": {
    "collapsed": false
   },
   "outputs": [
    {
     "data": {
      "text/plain": [
       "array([[<matplotlib.axes._subplots.AxesSubplot object at 0x1272d7810>,\n",
       "        <matplotlib.axes._subplots.AxesSubplot object at 0x12e9738d0>],\n",
       "       [<matplotlib.axes._subplots.AxesSubplot object at 0x12e9f2d50>,\n",
       "        <matplotlib.axes._subplots.AxesSubplot object at 0x12ea37790>]], dtype=object)"
      ]
     },
     "execution_count": 45,
     "metadata": {},
     "output_type": "execute_result"
    },
    {
     "data": {
      "image/png": "[encoded data removed]",
      "text/plain": [
       "<matplotlib.figure.Figure at 0x1272568d0>"
      ]
     },
     "metadata": {},
     "output_type": "display_data"
    }
   ],
   "source": [
    "new_table_merge3.hist(figsize=(10,8),column=['Prob_class_1_300k_full', 'Prob_class_1_3M_train', 'Prob_class_1_1M_combined'],bins=50)"
   ]
  },
  {
   "cell_type": "code",
   "execution_count": 46,
   "metadata": {
    "collapsed": false
   },
   "outputs": [
    {
     "data": {
      "text/plain": [
       "array([[<matplotlib.axes._subplots.AxesSubplot object at 0x12f89c7d0>,\n",
       "        <matplotlib.axes._subplots.AxesSubplot object at 0x12fc7aa50>],\n",
       "       [<matplotlib.axes._subplots.AxesSubplot object at 0x12fcf8ed0>,\n",
       "        <matplotlib.axes._subplots.AxesSubplot object at 0x12fd6a410>]], dtype=object)"
      ]
     },
     "execution_count": 46,
     "metadata": {},
     "output_type": "execute_result"
    },
    {
     "data": {
      "image/png": "[encoded data removed]",
      "text/plain": [
       "<matplotlib.figure.Figure at 0x12f82af90>"
      ]
     },
     "metadata": {},
     "output_type": "display_data"
    }
   ],
   "source": [
    "df_nonvirus.hist(figsize=(10,8),column=['Prob_class_1_300k_full', 'Prob_class_1_3M_train', 'Prob_class_1_1M_combined'],bins=50)"
   ]
  },
  {
   "cell_type": "code",
   "execution_count": 47,
   "metadata": {
    "collapsed": false
   },
   "outputs": [
    {
     "data": {
      "text/plain": [
       "array([[<matplotlib.axes._subplots.AxesSubplot object at 0x12fe7fb50>,\n",
       "        <matplotlib.axes._subplots.AxesSubplot object at 0x130246110>],\n",
       "       [<matplotlib.axes._subplots.AxesSubplot object at 0x1302c6150>,\n",
       "        <matplotlib.axes._subplots.AxesSubplot object at 0x130329a90>]], dtype=object)"
      ]
     },
     "execution_count": 47,
     "metadata": {},
     "output_type": "execute_result"
    },
    {
     "data": {
      "image/png": "[encoded data removed]",
      "text/plain": [
       "<matplotlib.figure.Figure at 0x12fd78e90>"
      ]
     },
     "metadata": {},
     "output_type": "display_data"
    }
   ],
   "source": [
    "df_virus.hist(figsize=(10,8),column=['Prob_class_1_300k_full', 'Prob_class_1_3M_train', 'Prob_class_1_1M_combined'],bins=50)"
   ]
  },
  {
   "cell_type": "code",
   "execution_count": 51,
   "metadata": {
    "collapsed": false
   },
   "outputs": [
    {
     "data": {
      "text/plain": [
       "<matplotlib.legend.Legend at 0x1315cb710>"
      ]
     },
     "execution_count": 51,
     "metadata": {},
     "output_type": "execute_result"
    },
    {
     "data": {
      "image/png": "[encoded data removed]",
      "text/plain": [
       "<matplotlib.figure.Figure at 0x131291090>"
      ]
     },
     "metadata": {},
     "output_type": "display_data"
    }
   ],
   "source": [
    "fig = plt.figure(figsize=(16,9))\n",
    "ax0 = fig.add_subplot(111)\n",
    "n_bins = 10\n",
    "#colors = ['red', 'blue', 'grey']\n",
    "x_multi = [df_nonvirus.Prob_class_1_1M_combined,df_virus.Prob_class_1_1M_combined,\n",
    "           df_unknown.Prob_class_1_1M_combined]\n",
    "ax0.hist(x_multi, n_bins, histtype='bar',  label=['non-virus',\n",
    "                                                  'virus',\n",
    "                                                  'unknown'],\n",
    "         color=['grey', 'goldenrod', 'green'])\n",
    "ax0.set_title('All TARA contigs >2K bps, Tensorflow, updated model with 1M training-testing segments',fontsize=24)\n",
    "ax0.set_xlabel('score',fontsize=24)\n",
    "ax0.tick_params(labelsize=20)\n",
    "ax0.set_ylabel('number of contigs',fontsize=24)\n",
    "ax0.legend(prop={'size': 24})"
   ]
  },
  {
   "cell_type": "code",
   "execution_count": 52,
   "metadata": {
    "collapsed": false
   },
   "outputs": [
    {
     "ename": "AttributeError",
     "evalue": "'DataFrame' object has no attribute 'Prob_class_1'",
     "output_type": "error",
     "traceback": [
      "\u001b[0;31m---------------------------------------------------------------------------\u001b[0m",
      "\u001b[0;31mAttributeError\u001b[0m                            Traceback (most recent call last)",
      "\u001b[0;32m<ipython-input-52-f83b91e7b965>\u001b[0m in \u001b[0;36m<module>\u001b[0;34m()\u001b[0m\n\u001b[1;32m      3\u001b[0m \u001b[0mn_bins\u001b[0m \u001b[0;34m=\u001b[0m \u001b[0;36m100\u001b[0m\u001b[0;34m\u001b[0m\u001b[0m\n\u001b[1;32m      4\u001b[0m \u001b[0;31m#colors = ['red', 'blue', 'grey']\u001b[0m\u001b[0;34m\u001b[0m\u001b[0;34m\u001b[0m\u001b[0m\n\u001b[0;32m----> 5\u001b[0;31m \u001b[0mx_multi\u001b[0m \u001b[0;34m=\u001b[0m \u001b[0;34m[\u001b[0m\u001b[0mdf_nonvirus\u001b[0m\u001b[0;34m[\u001b[0m\u001b[0mdf_nonvirus\u001b[0m\u001b[0;34m.\u001b[0m\u001b[0mProb_class_1\u001b[0m\u001b[0;34m>\u001b[0m\u001b[0;36m0\u001b[0m\u001b[0;34m]\u001b[0m\u001b[0;34m.\u001b[0m\u001b[0mProb_class_1\u001b[0m\u001b[0;34m]\u001b[0m\u001b[0;34m\u001b[0m\u001b[0m\n\u001b[0m\u001b[1;32m      6\u001b[0m ax0.hist(x_multi, n_bins, histtype='bar',  label=[\n\u001b[1;32m      7\u001b[0m                                                   'non-virus'],\n",
      "\u001b[0;32m/Users/qingpeng/anaconda/lib/python2.7/site-packages/pandas/core/generic.pyc\u001b[0m in \u001b[0;36m__getattr__\u001b[0;34m(self, name)\u001b[0m\n\u001b[1;32m   2742\u001b[0m             \u001b[0;32mif\u001b[0m \u001b[0mname\u001b[0m \u001b[0;32min\u001b[0m \u001b[0mself\u001b[0m\u001b[0;34m.\u001b[0m\u001b[0m_info_axis\u001b[0m\u001b[0;34m:\u001b[0m\u001b[0;34m\u001b[0m\u001b[0m\n\u001b[1;32m   2743\u001b[0m                 \u001b[0;32mreturn\u001b[0m \u001b[0mself\u001b[0m\u001b[0;34m[\u001b[0m\u001b[0mname\u001b[0m\u001b[0;34m]\u001b[0m\u001b[0;34m\u001b[0m\u001b[0m\n\u001b[0;32m-> 2744\u001b[0;31m             \u001b[0;32mreturn\u001b[0m \u001b[0mobject\u001b[0m\u001b[0;34m.\u001b[0m\u001b[0m__getattribute__\u001b[0m\u001b[0;34m(\u001b[0m\u001b[0mself\u001b[0m\u001b[0;34m,\u001b[0m \u001b[0mname\u001b[0m\u001b[0;34m)\u001b[0m\u001b[0;34m\u001b[0m\u001b[0m\n\u001b[0m\u001b[1;32m   2745\u001b[0m \u001b[0;34m\u001b[0m\u001b[0m\n\u001b[1;32m   2746\u001b[0m     \u001b[0;32mdef\u001b[0m \u001b[0m__setattr__\u001b[0m\u001b[0;34m(\u001b[0m\u001b[0mself\u001b[0m\u001b[0;34m,\u001b[0m \u001b[0mname\u001b[0m\u001b[0;34m,\u001b[0m \u001b[0mvalue\u001b[0m\u001b[0;34m)\u001b[0m\u001b[0;34m:\u001b[0m\u001b[0;34m\u001b[0m\u001b[0m\n",
      "\u001b[0;31mAttributeError\u001b[0m: 'DataFrame' object has no attribute 'Prob_class_1'"
     ]
    },
    {
     "data": {
      "image/png": "[encoded data removed]",
      "text/plain": [
       "<matplotlib.figure.Figure at 0x139cb8f90>"
      ]
     },
     "metadata": {},
     "output_type": "display_data"
    }
   ],
   "source": [
    "fig = plt.figure(figsize=(16,9))\n",
    "ax0 = fig.add_subplot(111)\n",
    "n_bins = 100\n",
    "#colors = ['red', 'blue', 'grey']\n",
    "x_multi = [df_nonvirus[df_nonvirus.Prob_class_1>0].Prob_class_1]\n",
    "ax0.hist(x_multi, n_bins, histtype='bar',  label=[\n",
    "                                                  'non-virus'],\n",
    "         color=['grey'])\n",
    "ax0.set_title('\"nonvirus\" TARA contigs >2K bps, Tensorflow, updated model with 1M training-testing segments',fontsize=24)\n",
    "ax0.set_xlabel('score',fontsize=24)\n",
    "ax0.tick_params(labelsize=20)\n",
    "ax0.set_ylabel('number of contigs',fontsize=24)\n",
    "ax0.legend(prop={'size': 24})"
   ]
  },
  {
   "cell_type": "code",
   "execution_count": null,
   "metadata": {
    "collapsed": false
   },
   "outputs": [],
   "source": [
    "fig = plt.figure(figsize=(16,9))\n",
    "ax0 = fig.add_subplot(111)\n",
    "n_bins = 20\n",
    "#colors = ['red', 'blue', 'grey']\n",
    "x_multi = [df_virus[df_virus.Prob_class_1>0].Prob_class_1]\n",
    "ax0.hist(x_multi, n_bins, histtype='bar',  label=[\n",
    "                                                  'virus'],\n",
    "         color=['goldenrod'])\n",
    "ax0.set_title('\"virus\" TARA contigs >2K bps, Tensorflow, updated model with 1M training-testing segments',fontsize=24)\n",
    "ax0.set_xlabel('score',fontsize=24)\n",
    "ax0.tick_params(labelsize=20)\n",
    "ax0.set_ylabel('number of contigs',fontsize=24)\n",
    "ax0.legend(prop={'size': 24})"
   ]
  },
  {
   "cell_type": "markdown",
   "metadata": {},
   "source": [
    "### Check the Precision-recall curve of old model and hybrid model"
   ]
  },
  {
   "cell_type": "markdown",
   "metadata": {},
   "source": [
    "#### Check the distribution of probability of same number of \"virus\", \"non-virus\", 'unknown\" contigs"
   ]
  },
  {
   "cell_type": "markdown",
   "metadata": {},
   "source": [
    "#### Balanced data, same number of \"virus\" and \"non-virus\" contigs"
   ]
  },
  {
   "cell_type": "code",
   "execution_count": null,
   "metadata": {
    "collapsed": false
   },
   "outputs": [],
   "source": [
    "fig = plt.figure(figsize=(16,9))\n",
    "ax0 = fig.add_subplot(111)\n",
    "n_bins = 10\n",
    "#colors = ['red', 'blue', 'grey']\n",
    "x_multi = [df_nonvirus_subsample.hybrid_probability,df_virus.hybrid_probability, df_unknown_subsample.hybrid_probability ]\n",
    "ax0.hist(x_multi, n_bins, histtype='bar',  label=['non-virus','virus','unknown'],color=['grey', 'goldenrod', 'green'])\n",
    "ax0.set_title('On balanced subsets of TARA contigs, model v2.0',fontsize=24)\n",
    "ax0.set_xlabel('score',fontsize=24)\n",
    "ax0.tick_params(labelsize=20)\n",
    "ax0.set_ylabel('number of contigs',fontsize=24)\n",
    "ax0.legend(prop={'size': 24})"
   ]
  },
  {
   "cell_type": "code",
   "execution_count": null,
   "metadata": {
    "collapsed": false
   },
   "outputs": [],
   "source": [
    "fig = plt.figure(figsize=(16,9))\n",
    "ax0 = fig.add_subplot(111)\n",
    "n_bins = 10\n",
    "#colors = ['red', 'blue', 'grey']\n",
    "x_multi = [df_nonvirus_subsample.Prob_class_1_3M_train,df_virus.Prob_class_1_3M_train, df_unknown_subsample.Prob_class_1_3M_train ]\n",
    "ax0.hist(x_multi, n_bins, histtype='bar',  label=['non-virus','virus','unknown'],color=['grey', 'goldenrod', 'green'])\n",
    "ax0.set_title('On balanced subsets of TARA contigs, Tensorflow, updated model with 3M training-testing segments',fontsize=24)\n",
    "ax0.set_xlabel('score',fontsize=24)\n",
    "ax0.tick_params(labelsize=20)\n",
    "ax0.set_ylabel('number of contigs',fontsize=24)\n",
    "ax0.legend(prop={'size': 24})"
   ]
  },
  {
   "cell_type": "code",
   "execution_count": null,
   "metadata": {
    "collapsed": false
   },
   "outputs": [],
   "source": [
    "fig = plt.figure(figsize=(16,9))\n",
    "ax0 = fig.add_subplot(111)\n",
    "n_bins = 10\n",
    "#colors = ['red', 'blue', 'grey']\n",
    "x_multi = [df_nonvirus_subsample.probability,df_virus.probability,\n",
    "           df_unknown_subsample.probability]\n",
    "ax0.hist(x_multi, n_bins, histtype='bar',  label=['non-virus',\n",
    "                                                  'virus',\n",
    "                                                  'unknown'],\n",
    "         color=['grey', 'goldenrod', 'green'])\n",
    "ax0.set_title('On balanced subsets of TARA contigs, model v1.0',fontsize=24)\n",
    "ax0.set_xlabel('score',fontsize=24)\n",
    "ax0.tick_params(labelsize=20)\n",
    "ax0.set_ylabel('number of contigs',fontsize=24)\n",
    "ax0.legend(prop={'size': 24})"
   ]
  },
  {
   "cell_type": "code",
   "execution_count": null,
   "metadata": {
    "collapsed": false
   },
   "outputs": [],
   "source": [
    "fig = plt.figure(figsize=(16,9))\n",
    "ax0 = fig.add_subplot(111)\n",
    "n_bins = 10\n",
    "#colors = ['red', 'blue', 'grey']\n",
    "x_multi = [df_nonvirus.probability,df_nonvirus.hybrid_probability,df_virus.probability,\n",
    "           df_virus.hybrid_probability,df_unknown.probability,df_unknown.hybrid_probability ]\n",
    "ax0.hist(x_multi, n_bins, histtype='bar',  label=['non-virus-model_v1.0','non-virus-model_v2.0',\n",
    "                                                  'virus-model_v1.0','virus-model_v2.0',\n",
    "                                                  'unknown-model_v1.0','unknown-model_v2.0'],\n",
    "         color=['lightgrey','grey', 'wheat','goldenrod', 'lightgreen','green'])\n",
    "ax0.set_title('All TARA contigs >2K bps',fontsize=24)\n",
    "ax0.set_xlabel('score',fontsize=24)\n",
    "ax0.set_ylabel('number of contigs',fontsize=24)\n",
    "ax0.tick_params(labelsize=20)\n",
    "ax0.legend(prop={'size': 24})"
   ]
  },
  {
   "cell_type": "code",
   "execution_count": null,
   "metadata": {
    "collapsed": false
   },
   "outputs": [],
   "source": [
    "fig = plt.figure(figsize=(16,9))\n",
    "ax0 = fig.add_subplot(111)\n",
    "n_bins = 10\n",
    "#colors = ['red', 'blue', 'grey']\n",
    "x_multi = [df_nonvirus_subsample.probability,df_nonvirus_subsample.hybrid_probability,df_virus.probability,\n",
    "           df_virus.hybrid_probability,df_unknown_subsample.probability,df_unknown_subsample.hybrid_probability ]\n",
    "ax0.hist(x_multi, n_bins, histtype='bar',  label=['non-virus-model_v1.0','non-virus-model_v2.0',\n",
    "                                                  'virus-model_v1.0','virus-model_v2.0',\n",
    "                                                  'unknown-model_v1.0','unknown-model_v2.0'],\n",
    "         color=['lightgrey','grey', 'wheat','goldenrod', 'lightgreen','green'])\n",
    "ax0.set_title('On balanced subsets of TARA contigs',fontsize=24)\n",
    "ax0.set_xlabel('score',fontsize=24)\n",
    "ax0.set_ylabel('number of contigs',fontsize=24)\n",
    "ax0.tick_params(labelsize=20)\n",
    "ax0.legend(prop={'size': 24})"
   ]
  },
  {
   "cell_type": "code",
   "execution_count": null,
   "metadata": {
    "collapsed": false
   },
   "outputs": [],
   "source": [
    "fig = plt.figure(figsize=(16,9))\n",
    "ax0 = fig.add_subplot(111)\n",
    "n_bins = 10\n",
    "#colors = ['red', 'blue', 'grey']\n",
    "x_multi = [df_nonvirus_subsample.Prob_class_1_300k_full,df_nonvirus_subsample.Prob_class_1_1M_combined,df_nonvirus_subsample.Prob_class_1_3M_train,\n",
    "           df_virus.Prob_class_1_300k_full,\n",
    "           df_virus.Prob_class_1_1M_combined,df_virus.Prob_class_1_3M_train,\n",
    "           df_unknown_subsample.Prob_class_1_300k_full,df_unknown_subsample.Prob_class_1_1M_combined,df_unknown_subsample.Prob_class_1_3M_train ]\n",
    "ax0.hist(x_multi, n_bins, histtype='bar',  label=['non-virus-300k','non-virus-1M','non-virus-3M',\n",
    "                                                  'virus-300k','virus-1M','virus-3M',\n",
    "                                                  'unknown-300k','unknown-1M','unknown-3M'],\n",
    "         color=['lightgrey','grey', 'black','wheat','orange','goldenrod',  'lightgreen','green','darkgreen'])\n",
    "ax0.set_title('On balanced subsets of TARA contigs',fontsize=24)\n",
    "ax0.set_xlabel('score',fontsize=24)\n",
    "ax0.set_ylabel('number of contigs',fontsize=24)\n",
    "ax0.tick_params(labelsize=20)\n",
    "ax0.legend(prop={'size': 24})"
   ]
  },
  {
   "cell_type": "code",
   "execution_count": null,
   "metadata": {
    "collapsed": true
   },
   "outputs": [],
   "source": [
    "balaced_virus_nonvirus = pd.concat([df_virus,df_nonvirus_subsample])\n",
    "balaced_matrix_virus_nonvirus_hybrid = confusion_matrix(balaced_virus_nonvirus.label, balaced_virus_nonvirus.hybrid_prediction)\n",
    "auprc_balaced_virus_nonvirus_hybrid = average_precision_score(balaced_virus_nonvirus.label, balaced_virus_nonvirus.hybrid_probability)\n",
    "precision_balaced_virus_nonvirus_hybrid, recall_balaced_virus_nonvirus_hybrid, thresholds_balaced_virus_nonvirus_hybrid = precision_recall_curve(\n",
    "    balaced_virus_nonvirus.label, balaced_virus_nonvirus.hybrid_probability)\n",
    "\n",
    "balaced_matrix_virus_nonvirus_old = confusion_matrix(balaced_virus_nonvirus.label, balaced_virus_nonvirus.prediction)\n",
    "auprc_balaced_virus_nonvirus_old = average_precision_score(balaced_virus_nonvirus.label, balaced_virus_nonvirus.probability)\n",
    "precision_balaced_virus_nonvirus_old, recall_balaced_virus_nonvirus_old, thresholds_balaced_virus_nonvirus_old = precision_recall_curve(\n",
    "    balaced_virus_nonvirus.label, balaced_virus_nonvirus.probability)\n",
    "\n",
    "\n",
    "        "
   ]
  },
  {
   "cell_type": "code",
   "execution_count": null,
   "metadata": {
    "collapsed": true
   },
   "outputs": [],
   "source": [
    "#balaced_matrix_virus_nonvirus_dl = confusion_matrix(balaced_virus_nonvirus.label, balaced_virus_nonvirus.Prob_class_1)\n",
    "auprc_balaced_virus_nonvirus_dl = average_precision_score(balaced_virus_nonvirus[balaced_virus_nonvirus.Prob_class_1>0].label, balaced_virus_nonvirus[balaced_virus_nonvirus.Prob_class_1>0].Prob_class_1)\n",
    "precision_balaced_virus_nonvirus_dl, recall_balaced_virus_nonvirus_dl, thresholds_balaced_virus_nonvirus_dl = precision_recall_curve(\n",
    "    balaced_virus_nonvirus[balaced_virus_nonvirus.Prob_class_1>0].label, balaced_virus_nonvirus[balaced_virus_nonvirus.Prob_class_1>0].Prob_class_1)\n",
    "\n"
   ]
  },
  {
   "cell_type": "code",
   "execution_count": null,
   "metadata": {
    "collapsed": false
   },
   "outputs": [],
   "source": [
    "balaced_virus_nonvirus.head()"
   ]
  },
  {
   "cell_type": "code",
   "execution_count": null,
   "metadata": {
    "collapsed": false
   },
   "outputs": [],
   "source": [
    "balaced_matrix_virus_nonvirus_hybrid"
   ]
  },
  {
   "cell_type": "code",
   "execution_count": null,
   "metadata": {
    "collapsed": false
   },
   "outputs": [],
   "source": [
    "balaced_matrix_virus_nonvirus_old"
   ]
  },
  {
   "cell_type": "code",
   "execution_count": null,
   "metadata": {
    "collapsed": false
   },
   "outputs": [],
   "source": [
    "        lw = 2\n",
    "        plt.figure(figsize=(16, 9), dpi=80)\n",
    "        plt.clf()\n",
    "        plt.plot(recall_balaced_virus_nonvirus_hybrid, precision_balaced_virus_nonvirus_hybrid, lw=lw, \n",
    "                 label='model v2.0, AUC={0:0.4f}'.format(auprc_balaced_virus_nonvirus_hybrid))\n",
    "        plt.plot(recall_balaced_virus_nonvirus_old, precision_balaced_virus_nonvirus_old, lw=lw, \n",
    "                 label='model v1.0, AUC={0:0.4f}'.format(auprc_balaced_virus_nonvirus_old))\n",
    "        plt.plot(recall_balaced_virus_nonvirus_dl, precision_balaced_virus_nonvirus_dl, lw=lw, \n",
    "                 label='model tensorflow, AUC={0:0.4f}'.format(auprc_balaced_virus_nonvirus_dl))\n",
    "        plt.xlabel('Recall',fontsize=24)\n",
    "        plt.ylabel('Precision',fontsize=24)\n",
    "        plt.ylim([0.0, 1.05])\n",
    "        plt.xlim([0.0, 1.0])\n",
    "        plt.tick_params(labelsize=20)\n",
    "        plt.title('balanced virus/non-virus, 7041 contigs',fontsize=24)\n",
    "        plt.legend(loc=\"lower right\",fontsize=24)"
   ]
  },
  {
   "cell_type": "code",
   "execution_count": null,
   "metadata": {
    "collapsed": false
   },
   "outputs": [],
   "source": [
    "        lw = 2\n",
    "        plt.figure(figsize=(16, 9), dpi=80)\n",
    "        plt.clf()\n",
    "        plt.plot(recall_balaced_virus_nonvirus_hybrid, precision_balaced_virus_nonvirus_hybrid, lw=lw, \n",
    "                 label='model v2.0, AUC={0:0.4f}'.format(auprc_balaced_virus_nonvirus_hybrid))\n",
    "        plt.plot(recall_balaced_virus_nonvirus_old, precision_balaced_virus_nonvirus_old, lw=lw, \n",
    "                 label='model v1.0, AUC={0:0.4f}'.format(auprc_balaced_virus_nonvirus_old))\n",
    "        plt.plot(recall_balaced_virus_nonvirus_dl, precision_balaced_virus_nonvirus_dl, lw=lw, \n",
    "                 label='model tensorflow v2, AUC={0:0.4f}'.format(auprc_balaced_virus_nonvirus_dl))\n",
    "        plt.xlabel('Recall',fontsize=24)\n",
    "        plt.ylabel('Precision',fontsize=24)\n",
    "        plt.ylim([0.0, 1.05])\n",
    "        plt.xlim([0.0, 1.0])\n",
    "        plt.tick_params(labelsize=20)\n",
    "        plt.title('balanced virus/non-virus, 7041 contigs',fontsize=24)\n",
    "        plt.legend(loc=\"lower right\",fontsize=24)"
   ]
  },
  {
   "cell_type": "markdown",
   "metadata": {},
   "source": [
    "\n",
    "\n",
    "#### using all TARA contigs - imbalanced"
   ]
  },
  {
   "cell_type": "code",
   "execution_count": null,
   "metadata": {
    "collapsed": false
   },
   "outputs": [],
   "source": [
    "df_virus.head()"
   ]
  },
  {
   "cell_type": "code",
   "execution_count": null,
   "metadata": {
    "collapsed": true
   },
   "outputs": [],
   "source": [
    "\n",
    "imbalaced_virus_nonvirus = pd.concat([df_virus,df_nonvirus])\n",
    "imbalaced_matrix_virus_nonvirus_hybrid = confusion_matrix(imbalaced_virus_nonvirus.label, imbalaced_virus_nonvirus.hybrid_prediction)\n",
    "auprc_imbalaced_virus_nonvirus_hybrid = average_precision_score(imbalaced_virus_nonvirus.label, imbalaced_virus_nonvirus.hybrid_probability)\n",
    "precision_imbalaced_virus_nonvirus_hybrid, recall_imbalaced_virus_nonvirus_hybrid, thresholds_imbalaced_virus_nonvirus_hybrid = precision_recall_curve(\n",
    "    imbalaced_virus_nonvirus.label, imbalaced_virus_nonvirus.hybrid_probability)\n",
    "\n",
    "imbalaced_matrix_virus_nonvirus_old = confusion_matrix(imbalaced_virus_nonvirus.label, imbalaced_virus_nonvirus.prediction)\n",
    "auprc_imbalaced_virus_nonvirus_old = average_precision_score(imbalaced_virus_nonvirus.label, imbalaced_virus_nonvirus.probability)\n",
    "precision_imbalaced_virus_nonvirus_old, recall_imbalaced_virus_nonvirus_old, thresholds_imbalaced_virus_nonvirus_old = precision_recall_curve(\n",
    "    imbalaced_virus_nonvirus.label, imbalaced_virus_nonvirus.probability)\n",
    "\n",
    "\n",
    "        \n",
    "    "
   ]
  },
  {
   "cell_type": "code",
   "execution_count": null,
   "metadata": {
    "collapsed": false
   },
   "outputs": [],
   "source": [
    "imbalaced_virus_nonvirus.head()"
   ]
  },
  {
   "cell_type": "code",
   "execution_count": null,
   "metadata": {
    "collapsed": false
   },
   "outputs": [],
   "source": [
    "imbalaced_matrix_virus_nonvirus_hybrid"
   ]
  },
  {
   "cell_type": "code",
   "execution_count": null,
   "metadata": {
    "collapsed": false
   },
   "outputs": [],
   "source": [
    "imbalaced_matrix_virus_nonvirus_old"
   ]
  },
  {
   "cell_type": "code",
   "execution_count": null,
   "metadata": {
    "collapsed": false
   },
   "outputs": [],
   "source": [
    "        lw = 2\n",
    "        plt.figure(figsize=(6, 4), dpi=80)\n",
    "        plt.clf()\n",
    "        plt.plot(recall_imbalaced_virus_nonvirus_hybrid, precision_imbalaced_virus_nonvirus_hybrid, lw=lw, \n",
    "                 label='hybrid model, AUC={0:0.4f}'.format(auprc_imbalaced_virus_nonvirus_hybrid))\n",
    "        plt.plot(recall_imbalaced_virus_nonvirus_old, precision_imbalaced_virus_nonvirus_old, lw=lw, \n",
    "                 label='old model, AUC={0:0.4f}'.format(auprc_imbalaced_virus_nonvirus_old))\n",
    "\n",
    "        plt.xlabel('Recall')\n",
    "        plt.ylabel('Precision')\n",
    "        plt.ylim([0.0, 1.05])\n",
    "        plt.xlim([0.0, 1.0])\n",
    "        plt.title('imbalanced virus/non-virus, 7041:191023 contigs')\n",
    "        plt.legend(loc=\"upper right\")\n"
   ]
  },
  {
   "cell_type": "markdown",
   "metadata": {},
   "source": [
    "### Check the performance of the Euk/non-euk model"
   ]
  },
  {
   "cell_type": "code",
   "execution_count": null,
   "metadata": {
    "collapsed": true
   },
   "outputs": [],
   "source": [
    "imbalaced_euk_noneuk = pd.concat([df_euk,df_noneuk])"
   ]
  },
  {
   "cell_type": "code",
   "execution_count": null,
   "metadata": {
    "collapsed": true
   },
   "outputs": [],
   "source": [
    "balaced_euk_noneuk = pd.concat([df_euk,df_noneuk_subsample])"
   ]
  },
  {
   "cell_type": "code",
   "execution_count": null,
   "metadata": {
    "collapsed": true
   },
   "outputs": [],
   "source": [
    "matrix_euk_non_euk_imbalanced = confusion_matrix(imbalaced_euk_noneuk.non_euk_label, imbalaced_euk_noneuk.pred_euk_non_euk)"
   ]
  },
  {
   "cell_type": "code",
   "execution_count": null,
   "metadata": {
    "collapsed": false
   },
   "outputs": [],
   "source": [
    "matrix_euk_non_euk_imbalanced"
   ]
  },
  {
   "cell_type": "code",
   "execution_count": null,
   "metadata": {
    "collapsed": true
   },
   "outputs": [],
   "source": [
    "matrix_euk_non_euk_balanced = confusion_matrix(balaced_euk_noneuk.non_euk_label, balaced_euk_noneuk.pred_euk_non_euk)"
   ]
  },
  {
   "cell_type": "code",
   "execution_count": null,
   "metadata": {
    "collapsed": false
   },
   "outputs": [],
   "source": [
    "matrix_euk_non_euk_balanced"
   ]
  },
  {
   "cell_type": "code",
   "execution_count": null,
   "metadata": {
    "collapsed": true
   },
   "outputs": [],
   "source": [
    "auprc_euk_imbalanced = average_precision_score(imbalaced_euk_noneuk.non_euk_label, imbalaced_euk_noneuk.score_euk_non_euk)"
   ]
  },
  {
   "cell_type": "code",
   "execution_count": null,
   "metadata": {
    "collapsed": true
   },
   "outputs": [],
   "source": [
    "auprc_euk_balanced = average_precision_score(balaced_euk_noneuk.non_euk_label, balaced_euk_noneuk.score_euk_non_euk)"
   ]
  },
  {
   "cell_type": "code",
   "execution_count": null,
   "metadata": {
    "collapsed": false
   },
   "outputs": [],
   "source": [
    "auprc_euk_balanced"
   ]
  },
  {
   "cell_type": "code",
   "execution_count": null,
   "metadata": {
    "collapsed": false
   },
   "outputs": [],
   "source": [
    "auprc_euk_balanced"
   ]
  },
  {
   "cell_type": "code",
   "execution_count": null,
   "metadata": {
    "collapsed": true
   },
   "outputs": [],
   "source": [
    "precision_euk_imbalanced, recall_euk_imbalanced, thresholds_euk_imbalanced = precision_recall_curve(imbalaced_euk_noneuk.non_euk_label, imbalaced_euk_noneuk.score_euk_non_euk)"
   ]
  },
  {
   "cell_type": "code",
   "execution_count": null,
   "metadata": {
    "collapsed": true
   },
   "outputs": [],
   "source": [
    "precision_euk_balanced, recall_euk_balanced, thresholds_euk_balanced = precision_recall_curve(balaced_euk_noneuk.non_euk_label, balaced_euk_noneuk.score_euk_non_euk)"
   ]
  },
  {
   "cell_type": "code",
   "execution_count": null,
   "metadata": {
    "collapsed": false
   },
   "outputs": [],
   "source": [
    "        lw = 2\n",
    "        plt.figure(figsize=(6, 4), dpi=80)\n",
    "        plt.clf()\n",
    "        plt.plot(recall_euk_imbalanced, precision_euk_imbalanced, lw=lw, color='red',\n",
    "                 label='euk/non-euk model, AUC={0:0.4f}'.format(auprc_euk_imbalanced))\n",
    "\n",
    "        plt.xlabel('Recall')\n",
    "        plt.ylabel('Precision')\n",
    "        plt.ylim([0.0, 1.05])\n",
    "        plt.xlim([0.0, 1.0])\n",
    "        plt.title('euk/non-euk model, imbalanced data')\n",
    "        plt.legend(loc=\"upper right\")\n",
    "\n"
   ]
  },
  {
   "cell_type": "code",
   "execution_count": null,
   "metadata": {
    "collapsed": false
   },
   "outputs": [],
   "source": [
    "        lw = 2\n",
    "        plt.figure(figsize=(6, 4), dpi=80)\n",
    "        plt.clf()\n",
    "        plt.plot(recall_euk_balanced, precision_euk_balanced, lw=lw, color='red',\n",
    "                 label='euk/non-euk model, AUC={0:0.4f}'.format(auprc_euk_balanced))\n",
    "\n",
    "        plt.xlabel('Recall')\n",
    "        plt.ylabel('Precision')\n",
    "        plt.ylim([0.0, 1.05])\n",
    "        plt.xlim([0.0, 1.0])\n",
    "        plt.title('euk/non-euk model, balanced data')\n",
    "        plt.legend(loc=\"upper right\")\n",
    "\n"
   ]
  },
  {
   "cell_type": "markdown",
   "metadata": {},
   "source": [
    "#### Euk/non-Euk itself does not perform very well using the MEGA annotation as ground truth"
   ]
  },
  {
   "cell_type": "markdown",
   "metadata": {},
   "source": [
    "#### it's still possible, the euk/non-euk works for some family......"
   ]
  },
  {
   "cell_type": "code",
   "execution_count": null,
   "metadata": {
    "collapsed": false
   },
   "outputs": [],
   "source": [
    "new_table[new_table.top_label=='Eukaryota'].score_euk_non_euk.plot.hist(bins=50, title='euk/non-euk model, for Eukaryota related contigs')"
   ]
  },
  {
   "cell_type": "code",
   "execution_count": null,
   "metadata": {
    "collapsed": false
   },
   "outputs": [],
   "source": [
    "new_table2[new_table2.top_label=='Eukaryota'].Prob_class_1.plot.hist(bins=50, title='tensorflow v2, for Eukaryota related contigs')"
   ]
  },
  {
   "cell_type": "code",
   "execution_count": null,
   "metadata": {
    "collapsed": false
   },
   "outputs": [],
   "source": [
    "new_table[new_table.top_label!='Eukaryota'][new_table.annotation_label=='with annotation'].score_euk_non_euk.plot.hist(bins=50, title='euk/non-euk model, for non-Eukaryota related contigs')"
   ]
  },
  {
   "cell_type": "markdown",
   "metadata": {},
   "source": [
    "#### This means removing low euk/non-euk score contigs, will not remove many real virus"
   ]
  },
  {
   "cell_type": "code",
   "execution_count": null,
   "metadata": {
    "collapsed": false
   },
   "outputs": [],
   "source": [
    "new_table[new_table.label==1].score_euk_non_euk.plot.hist(bins=50, title='euk/non-euk model, for Virus related contigs')"
   ]
  },
  {
   "cell_type": "code",
   "execution_count": null,
   "metadata": {
    "collapsed": false
   },
   "outputs": [],
   "source": [
    "new_table[new_table.label==0][new_table.annotation_label=='with annotation'].score_euk_non_euk.plot.hist(bins=50, title='euk/non-euk model, for Non-Virus related contigs')"
   ]
  },
  {
   "cell_type": "code",
   "execution_count": null,
   "metadata": {
    "collapsed": false
   },
   "outputs": [],
   "source": [
    "len(new_table[new_table.probability>=0.9])"
   ]
  },
  {
   "cell_type": "code",
   "execution_count": null,
   "metadata": {
    "collapsed": false
   },
   "outputs": [],
   "source": [
    "len(new_table[new_table.probability>=0.9][new_table.label==1.0])"
   ]
  },
  {
   "cell_type": "code",
   "execution_count": null,
   "metadata": {
    "collapsed": false
   },
   "outputs": [],
   "source": [
    "len(new_table[new_table.probability>=0.9][new_table.label==0.0])"
   ]
  },
  {
   "cell_type": "code",
   "execution_count": null,
   "metadata": {
    "collapsed": false
   },
   "outputs": [],
   "source": [
    "len(new_table[new_table.probability<=0.1])"
   ]
  },
  {
   "cell_type": "code",
   "execution_count": null,
   "metadata": {
    "collapsed": false
   },
   "outputs": [],
   "source": [
    "len(new_table[new_table.probability<=0.1][new_table.label==1.0])"
   ]
  },
  {
   "cell_type": "code",
   "execution_count": null,
   "metadata": {
    "collapsed": false
   },
   "outputs": [],
   "source": [
    "len(new_table[new_table.probability<=0.1][new_table.label==0.0])"
   ]
  },
  {
   "cell_type": "code",
   "execution_count": null,
   "metadata": {
    "collapsed": false,
    "scrolled": false
   },
   "outputs": [],
   "source": [
    "new_table[new_table.label==1.0].probability.plot.hist(bins=50, title = 'old model, virus-related TARA contigs')"
   ]
  },
  {
   "cell_type": "code",
   "execution_count": null,
   "metadata": {
    "collapsed": false
   },
   "outputs": [],
   "source": [
    "ax = new_table[new_table.label==0.0][new_table.annotation_label=='with annotation'].probability.plot.hist(bins=50, title = 'old model, non-virus TARA contigs')\n",
    "ax.set_xlabel(\"probability\")"
   ]
  },
  {
   "cell_type": "code",
   "execution_count": null,
   "metadata": {
    "collapsed": false,
    "scrolled": true
   },
   "outputs": [],
   "source": [
    "new_table[new_table.label==0.0][new_table.annotation_label!='with annotation'].probability.plot.hist(bins=50, title = 'old model, unknown TARA contigs')"
   ]
  },
  {
   "cell_type": "code",
   "execution_count": null,
   "metadata": {
    "collapsed": false
   },
   "outputs": [],
   "source": [
    "new_table[new_table.label==1.0].hybrid_probability.plot.hist(bins=50, title = 'hybrid model, virus-related TARA contigs')"
   ]
  },
  {
   "cell_type": "code",
   "execution_count": null,
   "metadata": {
    "collapsed": false
   },
   "outputs": [],
   "source": [
    "new_table[new_table.label==0.0][new_table.annotation_label=='with annotation'].hybrid_probability.plot.hist(bins=50, title = 'hybrid model, non-virus-related TARA contigs')"
   ]
  },
  {
   "cell_type": "code",
   "execution_count": null,
   "metadata": {
    "collapsed": false
   },
   "outputs": [],
   "source": [
    "new_table[new_table.label==0.0][new_table.annotation_label!='with annotation'].hybrid_probability.plot.hist(bins=50, title = 'hybrid model, unknown TARA contigs')"
   ]
  },
  {
   "cell_type": "markdown",
   "metadata": {},
   "source": [
    "### Check the micromous -related contigs"
   ]
  },
  {
   "cell_type": "markdown",
   "metadata": {},
   "source": [
    "#### most of micromonas contigs has lower euk/non-euk score, prone to be euk...."
   ]
  },
  {
   "cell_type": "code",
   "execution_count": null,
   "metadata": {
    "collapsed": false
   },
   "outputs": [],
   "source": [
    "df_micromonus.score_euk_non_euk.plot.hist(bins=50, title = 'model euk/non-euk, Micromonas-related TARA contigs')"
   ]
  },
  {
   "cell_type": "code",
   "execution_count": null,
   "metadata": {
    "collapsed": false
   },
   "outputs": [],
   "source": [
    "df_micromonus.hybrid_probability.plot.hist(bins=50, title = 'model v2.0, Micromonas-related TARA contigs')"
   ]
  },
  {
   "cell_type": "code",
   "execution_count": null,
   "metadata": {
    "collapsed": false
   },
   "outputs": [],
   "source": [
    "df_micromonus.probability.plot.hist(bins=50, title = 'model v1.0, Micromonas-related TARA contigs')"
   ]
  },
  {
   "cell_type": "code",
   "execution_count": null,
   "metadata": {
    "collapsed": false
   },
   "outputs": [],
   "source": [
    "df_micromonus[df_micromonus.Prob_class_1>0].Prob_class_1.plot.hist(bins=50, title = 'updated Tensorflow model, Micromonas-related TARA contigs')"
   ]
  },
  {
   "cell_type": "code",
   "execution_count": null,
   "metadata": {
    "collapsed": false
   },
   "outputs": [],
   "source": [
    "df_micromonus[df_micromonus.Prob_class_1>0].Prob_class_1.plot.hist(bins=50, title = 'updated Tensorflow model, Micromonas-related TARA contigs')"
   ]
  },
  {
   "cell_type": "code",
   "execution_count": null,
   "metadata": {
    "collapsed": true
   },
   "outputs": [],
   "source": [
    "sub_table = new_table.loc[:,['probability','hybrid_probability','label','tax_id','rank','tax_name']]"
   ]
  },
  {
   "cell_type": "code",
   "execution_count": null,
   "metadata": {
    "collapsed": false
   },
   "outputs": [],
   "source": [
    "sub_table.head()"
   ]
  },
  {
   "cell_type": "code",
   "execution_count": null,
   "metadata": {
    "collapsed": true
   },
   "outputs": [],
   "source": [
    "grouped = sub_table.groupby(['label'])"
   ]
  },
  {
   "cell_type": "code",
   "execution_count": null,
   "metadata": {
    "collapsed": true
   },
   "outputs": [],
   "source": [
    "import pandas"
   ]
  },
  {
   "cell_type": "code",
   "execution_count": null,
   "metadata": {
    "collapsed": true
   },
   "outputs": [],
   "source": [
    "grouped_category = new_table.groupby('category')"
   ]
  },
  {
   "cell_type": "code",
   "execution_count": null,
   "metadata": {
    "collapsed": true
   },
   "outputs": [],
   "source": [
    "boxplot_data_old = [new_table[new_table.category=='virus'].probability,new_table[new_table.category=='nonvirus'].probability,\n",
    "               new_table[new_table.category=='unknown'].probability]"
   ]
  },
  {
   "cell_type": "code",
   "execution_count": null,
   "metadata": {
    "collapsed": false
   },
   "outputs": [],
   "source": [
    "plt.figure()\n",
    "label_list = ['virus','non-virus','unknown']\n",
    "plt.boxplot(boxplot_data_old,labels = label_list)\n",
    "plt.title('old model')\n",
    "plt.ylabel('probability')\n",
    "plt.show()"
   ]
  },
  {
   "cell_type": "code",
   "execution_count": null,
   "metadata": {
    "collapsed": false
   },
   "outputs": [],
   "source": [
    "boxplot_data_hybrid = [new_table[new_table.category=='virus'].Prob_class_1,new_table2[new_table2.category=='nonvirus'].Prob_class_1,\n",
    "               new_table2[new_table2.category=='unknown'].Prob_class_1]"
   ]
  },
  {
   "cell_type": "code",
   "execution_count": null,
   "metadata": {
    "collapsed": true
   },
   "outputs": [],
   "source": [
    "boxplot_data_dl = [new_table2[new_table2.category=='virus'].Prob_class_1.tolist(),new_table2[new_table2.category=='nonvirus'].Prob_class_1.tolist(),\n",
    "               new_table2[new_table2.category=='unknown'].Prob_class_1.tolist()]"
   ]
  },
  {
   "cell_type": "code",
   "execution_count": null,
   "metadata": {
    "collapsed": false
   },
   "outputs": [],
   "source": [
    "plt.figure()\n",
    "label_list = ['virus','non-virus','unknown']\n",
    "plt.boxplot(boxplot_data_dl,labels = label_list)\n",
    "plt.title('old model')\n",
    "plt.ylabel('probability')\n",
    "plt.show()"
   ]
  },
  {
   "cell_type": "code",
   "execution_count": null,
   "metadata": {
    "collapsed": false
   },
   "outputs": [],
   "source": [
    "boxplot_data_dl"
   ]
  },
  {
   "cell_type": "code",
   "execution_count": null,
   "metadata": {
    "collapsed": false
   },
   "outputs": [],
   "source": [
    "colors = ['goldenrod', 'grey', 'green']\n",
    "\n",
    "\n",
    "\n",
    "fig = plt.figure(figsize=(12,12))\n",
    "ax0 = fig.add_subplot(111)\n",
    "\n",
    "label_list = ['virus','non-virus','unknown']\n",
    "bplot1 = ax0.boxplot(boxplot_data_hybrid,labels = label_list,patch_artist=True)\n",
    "ax0.set_title('On balanced subsets of TARA transcriptome',fontsize=24)\n",
    "ax0.set_ylabel('Score',fontsize=24)\n",
    "\n",
    "\n",
    "\n",
    "for patch, color in zip(bplot1['boxes'], colors):\n",
    "    patch.set_facecolor(color)\n",
    "plt.show()"
   ]
  },
  {
   "cell_type": "code",
   "execution_count": null,
   "metadata": {
    "collapsed": false
   },
   "outputs": [],
   "source": [
    "colors = ['goldenrod', 'grey', 'green']\n",
    "\n",
    "\n",
    "\n",
    "fig = plt.figure(figsize=(12,12))\n",
    "ax0 = fig.add_subplot(111)\n",
    "\n",
    "label_list = ['virus','non-virus','unknown']\n",
    "bplot1 = ax0.boxplot(boxplot_data_dl,labels = label_list,patch_artist=True)\n",
    "ax0.set_title('On balanced subsets of TARA transcriptome, tensorflow model',fontsize=24)\n",
    "ax0.set_ylabel('Score',fontsize=24)\n",
    "\n",
    "\n",
    "\n",
    "for patch, color in zip(bplot1['boxes'], colors):\n",
    "    patch.set_facecolor(color)\n",
    "plt.show()"
   ]
  },
  {
   "cell_type": "code",
   "execution_count": null,
   "metadata": {
    "collapsed": true
   },
   "outputs": [],
   "source": [
    "predict_nonvirus = sub_table.groupby(['label']).get_group(0.0)"
   ]
  },
  {
   "cell_type": "code",
   "execution_count": null,
   "metadata": {
    "collapsed": false
   },
   "outputs": [],
   "source": [
    "predict_nonvirus.head()"
   ]
  },
  {
   "cell_type": "code",
   "execution_count": null,
   "metadata": {
    "collapsed": false
   },
   "outputs": [],
   "source": [
    "predict_nonvirus[predict_nonvirus.probability>0.99].describe()"
   ]
  },
  {
   "cell_type": "code",
   "execution_count": null,
   "metadata": {
    "collapsed": true
   },
   "outputs": [],
   "source": [
    "grouped = predict_nonvirus.loc[:,['probability','hybrid_probability','rank']].groupby(['rank'])"
   ]
  },
  {
   "cell_type": "code",
   "execution_count": null,
   "metadata": {
    "collapsed": true
   },
   "outputs": [],
   "source": [
    "predict_nonvirus_rank = predict_nonvirus.loc[:,['probability','hybrid_probability','rank']]"
   ]
  },
  {
   "cell_type": "code",
   "execution_count": null,
   "metadata": {
    "collapsed": true
   },
   "outputs": [],
   "source": [
    "def convert_rank(rank):\n",
    "    if rank == 'no rank':\n",
    "        return 'no rank'\n",
    "    else:\n",
    "        return 'rank'\n",
    "    "
   ]
  },
  {
   "cell_type": "code",
   "execution_count": null,
   "metadata": {
    "collapsed": true
   },
   "outputs": [],
   "source": []
  },
  {
   "cell_type": "code",
   "execution_count": null,
   "metadata": {
    "collapsed": true
   },
   "outputs": [],
   "source": [
    "predict_nonvirus_rank['no_rank'] = predict_nonvirus_rank['rank'].map(convert_rank)"
   ]
  },
  {
   "cell_type": "code",
   "execution_count": null,
   "metadata": {
    "collapsed": false
   },
   "outputs": [],
   "source": [
    "predict_nonvirus_rank.head()"
   ]
  },
  {
   "cell_type": "code",
   "execution_count": null,
   "metadata": {
    "collapsed": true
   },
   "outputs": [],
   "source": [
    "predict_nonvirus_rank_subset = predict_nonvirus_rank[(predict_nonvirus_rank['rank'] =='class') | (predict_nonvirus_rank['rank'] =='family') | (predict_nonvirus_rank['rank'] =='genus')\\\n",
    "                      | (predict_nonvirus_rank['rank'] =='kingdom')| (predict_nonvirus_rank['rank'] =='no rank')| (predict_nonvirus_rank['rank'] =='order')\\\n",
    "                      | (predict_nonvirus_rank['rank'] =='phylum')| (predict_nonvirus_rank['rank'] =='species')| (predict_nonvirus_rank['rank'] =='superkingdom')]\n"
   ]
  },
  {
   "cell_type": "code",
   "execution_count": null,
   "metadata": {
    "collapsed": true
   },
   "outputs": [],
   "source": [
    "predict_nonvirus_rank_grouped = predict_nonvirus_rank.groupby(['no_rank'])"
   ]
  },
  {
   "cell_type": "code",
   "execution_count": null,
   "metadata": {
    "collapsed": false
   },
   "outputs": [],
   "source": [
    "predict_nonvirus_rank_grouped.describe()"
   ]
  },
  {
   "cell_type": "code",
   "execution_count": null,
   "metadata": {
    "collapsed": false
   },
   "outputs": [],
   "source": [
    "predict_nonvirus_rank_grouped.boxplot(column=['hybrid_probability'])"
   ]
  },
  {
   "cell_type": "code",
   "execution_count": null,
   "metadata": {
    "collapsed": false
   },
   "outputs": [],
   "source": [
    "predict_nonvirus_rank_grouped.boxplot(column=['probability'])"
   ]
  },
  {
   "cell_type": "code",
   "execution_count": null,
   "metadata": {
    "collapsed": false
   },
   "outputs": [],
   "source": [
    "9169.0/111440"
   ]
  },
  {
   "cell_type": "code",
   "execution_count": null,
   "metadata": {
    "collapsed": true
   },
   "outputs": [],
   "source": [
    "tax_name_count_99 = predict_nonvirus[predict_nonvirus.probability>0.99].groupby('tax_name').size().reset_index()"
   ]
  },
  {
   "cell_type": "code",
   "execution_count": null,
   "metadata": {
    "collapsed": true
   },
   "outputs": [],
   "source": [
    "tax_name_count_99['percent_99'] = tax_name_count_99[0].apply(lambda x: 100*x/float(tax_name_count_99.sum()))"
   ]
  },
  {
   "cell_type": "code",
   "execution_count": null,
   "metadata": {
    "collapsed": false
   },
   "outputs": [],
   "source": [
    "tax_name_count_99.head()"
   ]
  },
  {
   "cell_type": "code",
   "execution_count": null,
   "metadata": {
    "collapsed": true
   },
   "outputs": [],
   "source": [
    "tax_name_count_01 = predict_nonvirus[predict_nonvirus.probability<0.01].groupby('tax_name').size().reset_index()"
   ]
  },
  {
   "cell_type": "code",
   "execution_count": null,
   "metadata": {
    "collapsed": true
   },
   "outputs": [],
   "source": [
    "tax_name_count_01['percent_01'] = tax_name_count_01[0].apply(lambda x: 100*x/float(tax_name_count_01.sum()))"
   ]
  },
  {
   "cell_type": "code",
   "execution_count": null,
   "metadata": {
    "collapsed": false
   },
   "outputs": [],
   "source": [
    "tax_name_count_01.head()\n"
   ]
  },
  {
   "cell_type": "code",
   "execution_count": null,
   "metadata": {
    "collapsed": true
   },
   "outputs": [],
   "source": [
    "tax_name = pd.merge(tax_name_count_99,tax_name_count_01,how='inner',on=['tax_name'])"
   ]
  },
  {
   "cell_type": "code",
   "execution_count": null,
   "metadata": {
    "collapsed": false
   },
   "outputs": [],
   "source": [
    "tax_name.head()"
   ]
  },
  {
   "cell_type": "code",
   "execution_count": null,
   "metadata": {
    "collapsed": true
   },
   "outputs": [],
   "source": [
    "tax_name['increase'] = tax_name.apply(lambda x:x['percent_99']/x['percent_01'], axis=1)"
   ]
  },
  {
   "cell_type": "code",
   "execution_count": null,
   "metadata": {
    "collapsed": false
   },
   "outputs": [],
   "source": [
    "tax_name.sort_values(by='increase')"
   ]
  },
  {
   "cell_type": "code",
   "execution_count": null,
   "metadata": {
    "collapsed": false
   },
   "outputs": [],
   "source": [
    "tax_name.sort_values(by='percent_99')"
   ]
  },
  {
   "cell_type": "code",
   "execution_count": null,
   "metadata": {
    "collapsed": false
   },
   "outputs": [],
   "source": [
    "1587.0/31057"
   ]
  },
  {
   "cell_type": "code",
   "execution_count": null,
   "metadata": {
    "collapsed": false
   },
   "outputs": [],
   "source": [
    "predict_nonvirus[predict_nonvirus.probability>0.9].groupby('tax_id').size()"
   ]
  },
  {
   "cell_type": "code",
   "execution_count": null,
   "metadata": {
    "collapsed": false
   },
   "outputs": [],
   "source": [
    "predict_nonvirus[predict_nonvirus.probability>0.9].groupby('rank').size()"
   ]
  },
  {
   "cell_type": "code",
   "execution_count": null,
   "metadata": {
    "collapsed": false
   },
   "outputs": [],
   "source": [
    "predict_nonvirus[predict_nonvirus.probability<0.1].groupby('rank').size()"
   ]
  },
  {
   "cell_type": "code",
   "execution_count": null,
   "metadata": {
    "collapsed": true
   },
   "outputs": [],
   "source": [
    "predict_virus = sub_table.groupby(['label']).get_group(1.0)"
   ]
  },
  {
   "cell_type": "code",
   "execution_count": null,
   "metadata": {
    "collapsed": false
   },
   "outputs": [],
   "source": [
    "result = pd.read_csv('/Users/qingpeng/shred.fa.score',sep=' ',header=None,names=['probability','prediction'])"
   ]
  },
  {
   "cell_type": "code",
   "execution_count": null,
   "metadata": {
    "collapsed": true
   },
   "outputs": [],
   "source": [
    "result"
   ]
  },
  {
   "cell_type": "code",
   "execution_count": null,
   "metadata": {
    "collapsed": true
   },
   "outputs": [],
   "source": [
    "result.probability.plot.hist(bins=100)"
   ]
  },
  {
   "cell_type": "code",
   "execution_count": null,
   "metadata": {
    "collapsed": true
   },
   "outputs": [],
   "source": []
  }
 ],
 "metadata": {
  "kernelspec": {
   "display_name": "Python 2",
   "language": "python",
   "name": "python2"
  },
  "language_info": {
   "codemirror_mode": {
    "name": "ipython",
    "version": 2
   },
   "file_extension": ".py",
   "mimetype": "text/x-python",
   "name": "python",
   "nbconvert_exporter": "python",
   "pygments_lexer": "ipython2",
   "version": "2.7.13"
  }
 },
 "nbformat": 4,
 "nbformat_minor": 1
}
