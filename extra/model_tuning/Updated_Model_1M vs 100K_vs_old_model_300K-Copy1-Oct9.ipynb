{
 "cells": [
  {
   "cell_type": "markdown",
   "metadata": {},
   "source": [
    "### Comparing the performance the updated model trained using 1M segments vs 100K segments by Adam with the older tensorflow model trained with 300K segments.\n"
   ]
  },
  {
   "cell_type": "code",
   "execution_count": 1,
   "metadata": {},
   "outputs": [],
   "source": [
    "%matplotlib inline"
   ]
  },
  {
   "cell_type": "code",
   "execution_count": 2,
   "metadata": {},
   "outputs": [],
   "source": [
    "import pandas as pd\n",
    "import numpy as np\n",
    "import matplotlib.pyplot as plt"
   ]
  },
  {
   "cell_type": "code",
   "execution_count": 3,
   "metadata": {},
   "outputs": [],
   "source": [
    "\n",
    "from sklearn.datasets import load_svmlight_file\n",
    "from sklearn.externals import joblib\n",
    "import argparse\n",
    "from sklearn.metrics import average_precision_score\n",
    "from sklearn.metrics import confusion_matrix, precision_recall_curve\n",
    "from sklearn.metrics import classification_report"
   ]
  },
  {
   "cell_type": "code",
   "execution_count": 4,
   "metadata": {},
   "outputs": [],
   "source": [
    "result = pd.read_csv('~/all_2k_prediction.out.label.prediction_combined',sep=' ',header=None,names=['name','length','probability','prediction','vfam','pfam','diamond','label',\n",
    "                                                                                      'score_euk_non_euk','pred_euk_non_euk','score_non_euk_virus','pred_non_euk_virus',\n",
    "                                                                                      'score_virus_non_virus','pred_virus_non_virus'])"
   ]
  },
  {
   "cell_type": "code",
   "execution_count": 5,
   "metadata": {},
   "outputs": [
    {
     "data": {
      "text/html": [
       "<div>\n",
       "<style scoped>\n",
       "    .dataframe tbody tr th:only-of-type {\n",
       "        vertical-align: middle;\n",
       "    }\n",
       "\n",
       "    .dataframe tbody tr th {\n",
       "        vertical-align: top;\n",
       "    }\n",
       "\n",
       "    .dataframe thead th {\n",
       "        text-align: right;\n",
       "    }\n",
       "</style>\n",
       "<table border=\"1\" class=\"dataframe\">\n",
       "  <thead>\n",
       "    <tr style=\"text-align: right;\">\n",
       "      <th></th>\n",
       "      <th>name</th>\n",
       "      <th>length</th>\n",
       "      <th>probability</th>\n",
       "      <th>prediction</th>\n",
       "      <th>vfam</th>\n",
       "      <th>pfam</th>\n",
       "      <th>diamond</th>\n",
       "      <th>label</th>\n",
       "      <th>score_euk_non_euk</th>\n",
       "      <th>pred_euk_non_euk</th>\n",
       "      <th>score_non_euk_virus</th>\n",
       "      <th>pred_non_euk_virus</th>\n",
       "      <th>score_virus_non_virus</th>\n",
       "      <th>pred_virus_non_virus</th>\n",
       "    </tr>\n",
       "  </thead>\n",
       "  <tbody>\n",
       "    <tr>\n",
       "      <th>0</th>\n",
       "      <td>NODE_1_length_91451_cov_163.114_g0_i0</td>\n",
       "      <td>91451</td>\n",
       "      <td>0.000375</td>\n",
       "      <td>0.0</td>\n",
       "      <td>0.0</td>\n",
       "      <td>0.0</td>\n",
       "      <td>0.0</td>\n",
       "      <td>0.0</td>\n",
       "      <td>0.000025</td>\n",
       "      <td>0.0</td>\n",
       "      <td>0.996004</td>\n",
       "      <td>1.0</td>\n",
       "      <td>0.001954</td>\n",
       "      <td>0.0</td>\n",
       "    </tr>\n",
       "    <tr>\n",
       "      <th>1</th>\n",
       "      <td>NODE_2_length_74096_cov_303.895_g1_i0</td>\n",
       "      <td>74096</td>\n",
       "      <td>0.000088</td>\n",
       "      <td>0.0</td>\n",
       "      <td>0.0</td>\n",
       "      <td>0.0</td>\n",
       "      <td>0.0</td>\n",
       "      <td>0.0</td>\n",
       "      <td>0.000012</td>\n",
       "      <td>0.0</td>\n",
       "      <td>0.995278</td>\n",
       "      <td>1.0</td>\n",
       "      <td>0.000529</td>\n",
       "      <td>0.0</td>\n",
       "    </tr>\n",
       "    <tr>\n",
       "      <th>2</th>\n",
       "      <td>NODE_3_length_66420_cov_268.59_g1_i1</td>\n",
       "      <td>66420</td>\n",
       "      <td>0.000041</td>\n",
       "      <td>0.0</td>\n",
       "      <td>0.0</td>\n",
       "      <td>0.0</td>\n",
       "      <td>0.0</td>\n",
       "      <td>0.0</td>\n",
       "      <td>0.000009</td>\n",
       "      <td>0.0</td>\n",
       "      <td>0.996629</td>\n",
       "      <td>1.0</td>\n",
       "      <td>0.000761</td>\n",
       "      <td>0.0</td>\n",
       "    </tr>\n",
       "    <tr>\n",
       "      <th>3</th>\n",
       "      <td>NODE_4_length_61338_cov_317.585_g2_i0</td>\n",
       "      <td>61338</td>\n",
       "      <td>0.000056</td>\n",
       "      <td>0.0</td>\n",
       "      <td>0.0</td>\n",
       "      <td>0.0</td>\n",
       "      <td>0.0</td>\n",
       "      <td>0.0</td>\n",
       "      <td>0.000008</td>\n",
       "      <td>0.0</td>\n",
       "      <td>0.991967</td>\n",
       "      <td>1.0</td>\n",
       "      <td>0.000477</td>\n",
       "      <td>0.0</td>\n",
       "    </tr>\n",
       "    <tr>\n",
       "      <th>4</th>\n",
       "      <td>NODE_5_length_59036_cov_197.701_g0_i1</td>\n",
       "      <td>59036</td>\n",
       "      <td>0.000040</td>\n",
       "      <td>0.0</td>\n",
       "      <td>0.0</td>\n",
       "      <td>0.0</td>\n",
       "      <td>0.0</td>\n",
       "      <td>0.0</td>\n",
       "      <td>0.000008</td>\n",
       "      <td>0.0</td>\n",
       "      <td>0.990354</td>\n",
       "      <td>1.0</td>\n",
       "      <td>0.000617</td>\n",
       "      <td>0.0</td>\n",
       "    </tr>\n",
       "  </tbody>\n",
       "</table>\n",
       "</div>"
      ],
      "text/plain": [
       "                                    name  length  probability  prediction  \\\n",
       "0  NODE_1_length_91451_cov_163.114_g0_i0   91451     0.000375         0.0   \n",
       "1  NODE_2_length_74096_cov_303.895_g1_i0   74096     0.000088         0.0   \n",
       "2   NODE_3_length_66420_cov_268.59_g1_i1   66420     0.000041         0.0   \n",
       "3  NODE_4_length_61338_cov_317.585_g2_i0   61338     0.000056         0.0   \n",
       "4  NODE_5_length_59036_cov_197.701_g0_i1   59036     0.000040         0.0   \n",
       "\n",
       "   vfam  pfam  diamond  label  score_euk_non_euk  pred_euk_non_euk  \\\n",
       "0   0.0   0.0      0.0    0.0           0.000025               0.0   \n",
       "1   0.0   0.0      0.0    0.0           0.000012               0.0   \n",
       "2   0.0   0.0      0.0    0.0           0.000009               0.0   \n",
       "3   0.0   0.0      0.0    0.0           0.000008               0.0   \n",
       "4   0.0   0.0      0.0    0.0           0.000008               0.0   \n",
       "\n",
       "   score_non_euk_virus  pred_non_euk_virus  score_virus_non_virus  \\\n",
       "0             0.996004                 1.0               0.001954   \n",
       "1             0.995278                 1.0               0.000529   \n",
       "2             0.996629                 1.0               0.000761   \n",
       "3             0.991967                 1.0               0.000477   \n",
       "4             0.990354                 1.0               0.000617   \n",
       "\n",
       "   pred_virus_non_virus  \n",
       "0                   0.0  \n",
       "1                   0.0  \n",
       "2                   0.0  \n",
       "3                   0.0  \n",
       "4                   0.0  "
      ]
     },
     "execution_count": 5,
     "metadata": {},
     "output_type": "execute_result"
    }
   ],
   "source": [
    "result.head()"
   ]
  },
  {
   "cell_type": "code",
   "execution_count": 6,
   "metadata": {},
   "outputs": [],
   "source": [
    "from ete3 import NCBITaxa\n",
    "ncbi = NCBITaxa()"
   ]
  },
  {
   "cell_type": "code",
   "execution_count": 7,
   "metadata": {},
   "outputs": [],
   "source": [
    "ncbi = NCBITaxa()\n"
   ]
  },
  {
   "cell_type": "code",
   "execution_count": 8,
   "metadata": {},
   "outputs": [],
   "source": [
    "# ncbi.update_taxonomy_database()"
   ]
  },
  {
   "cell_type": "code",
   "execution_count": 9,
   "metadata": {},
   "outputs": [
    {
     "data": {
      "text/plain": [
       "{}"
      ]
     },
     "execution_count": 9,
     "metadata": {},
     "output_type": "execute_result"
    }
   ],
   "source": [
    "ncbi.get_rank([-2])"
   ]
  },
  {
   "cell_type": "code",
   "execution_count": 10,
   "metadata": {},
   "outputs": [],
   "source": [
    "megan_annot = pd.read_csv('./Micromonas/all_2k_contigs.fa.diamond-ex-all_tax_ID.txt',sep='\\t',header=None,names=['name','tax_id'])\n",
    "\n"
   ]
  },
  {
   "cell_type": "code",
   "execution_count": 36,
   "metadata": {},
   "outputs": [],
   "source": [
    "### Using MEGAN annotation to check model performance \n",
    "\n",
    "def get_top_label(tax_id):\n",
    "    try:\n",
    "        lineage = ncbi.get_lineage(tax_id)\n",
    "    except:\n",
    "        return \"N/A\"\n",
    "    for i in lineage:\n",
    "        if i == 2759:\n",
    "            return \"Eukaryota\"\n",
    "        elif i == 10239:\n",
    "            return \"Virus\"\n",
    "        elif i == 2157:\n",
    "            return \"Archaea\"\n",
    "        elif i == 2:\n",
    "            return \"Bacteria\"\n",
    "        elif i == 12884:\n",
    "            return \"Viroids\"\n",
    "        elif i == 28384:\n",
    "            return \"other\"\n",
    "        elif i == 12908:\n",
    "            return \"unclassified\"\n",
    "    else:\n",
    "        return \"N/A\"\n",
    "\n",
    "def get_ranks(tax_id):\n",
    "    ranks = ncbi.get_rank([tax_id])\n",
    "    try:\n",
    "        return ranks[tax_id]\n",
    "    except:\n",
    "        return tax_id\n",
    "    \n",
    "def get_name(tax_id):\n",
    "    ranks = ncbi.get_taxid_translator([tax_id])\n",
    "    try:\n",
    "        return ranks[tax_id]\n",
    "    except:\n",
    "        return tax_id\n",
    "\n",
    "# get MEGAN annotation results\n",
    "\n",
    "megan_annot = pd.read_csv('./Micromonas/all_2k_contigs.fa.diamond-ex-all_tax_ID.txt',sep='\\t',header=None,names=['name','tax_id'])\n",
    "\n",
    "megan_annot['rank'] = megan_annot['tax_id'].apply(get_ranks)\n",
    "megan_annot['tax_name']= megan_annot['tax_id'].apply(get_name)\n",
    "megan_annot['top_label']= megan_annot['tax_id'].apply(get_top_label)\n"
   ]
  },
  {
   "cell_type": "code",
   "execution_count": 35,
   "metadata": {},
   "outputs": [
    {
     "data": {
      "text/plain": [
       "['no rank']"
      ]
     },
     "execution_count": 35,
     "metadata": {},
     "output_type": "execute_result"
    }
   ],
   "source": [
    "list(ncbi.get_rank([1]).values())"
   ]
  },
  {
   "cell_type": "code",
   "execution_count": 68,
   "metadata": {},
   "outputs": [],
   "source": [
    "megan_annot.to_csv('./Micromonas/all_2k_contigs.fa.diamond-ex-all_tax_ID.txt.annot',sep='\\t')"
   ]
  },
  {
   "cell_type": "code",
   "execution_count": 37,
   "metadata": {},
   "outputs": [
    {
     "data": {
      "text/html": [
       "<div>\n",
       "<style scoped>\n",
       "    .dataframe tbody tr th:only-of-type {\n",
       "        vertical-align: middle;\n",
       "    }\n",
       "\n",
       "    .dataframe tbody tr th {\n",
       "        vertical-align: top;\n",
       "    }\n",
       "\n",
       "    .dataframe thead th {\n",
       "        text-align: right;\n",
       "    }\n",
       "</style>\n",
       "<table border=\"1\" class=\"dataframe\">\n",
       "  <thead>\n",
       "    <tr style=\"text-align: right;\">\n",
       "      <th></th>\n",
       "      <th>name</th>\n",
       "      <th>tax_id</th>\n",
       "      <th>rank</th>\n",
       "      <th>tax_name</th>\n",
       "      <th>top_label</th>\n",
       "    </tr>\n",
       "  </thead>\n",
       "  <tbody>\n",
       "    <tr>\n",
       "      <th>0</th>\n",
       "      <td>NODE_646_length_5889_cov_28.079_g448_i0</td>\n",
       "      <td>1</td>\n",
       "      <td>no rank</td>\n",
       "      <td>root</td>\n",
       "      <td>N/A</td>\n",
       "    </tr>\n",
       "    <tr>\n",
       "      <th>1</th>\n",
       "      <td>NODE_667_length_5857_cov_28.2491_g448_i1</td>\n",
       "      <td>1</td>\n",
       "      <td>no rank</td>\n",
       "      <td>root</td>\n",
       "      <td>N/A</td>\n",
       "    </tr>\n",
       "    <tr>\n",
       "      <th>2</th>\n",
       "      <td>NODE_671_length_5843_cov_18.2623_g465_i0</td>\n",
       "      <td>1</td>\n",
       "      <td>no rank</td>\n",
       "      <td>root</td>\n",
       "      <td>N/A</td>\n",
       "    </tr>\n",
       "    <tr>\n",
       "      <th>3</th>\n",
       "      <td>NODE_806_length_5513_cov_46.199_g556_i0</td>\n",
       "      <td>1</td>\n",
       "      <td>no rank</td>\n",
       "      <td>root</td>\n",
       "      <td>N/A</td>\n",
       "    </tr>\n",
       "    <tr>\n",
       "      <th>4</th>\n",
       "      <td>NODE_807_length_5513_cov_37.6629_g556_i1</td>\n",
       "      <td>1</td>\n",
       "      <td>no rank</td>\n",
       "      <td>root</td>\n",
       "      <td>N/A</td>\n",
       "    </tr>\n",
       "  </tbody>\n",
       "</table>\n",
       "</div>"
      ],
      "text/plain": [
       "                                       name  tax_id     rank tax_name  \\\n",
       "0   NODE_646_length_5889_cov_28.079_g448_i0       1  no rank     root   \n",
       "1  NODE_667_length_5857_cov_28.2491_g448_i1       1  no rank     root   \n",
       "2  NODE_671_length_5843_cov_18.2623_g465_i0       1  no rank     root   \n",
       "3   NODE_806_length_5513_cov_46.199_g556_i0       1  no rank     root   \n",
       "4  NODE_807_length_5513_cov_37.6629_g556_i1       1  no rank     root   \n",
       "\n",
       "  top_label  \n",
       "0       N/A  \n",
       "1       N/A  \n",
       "2       N/A  \n",
       "3       N/A  \n",
       "4       N/A  "
      ]
     },
     "execution_count": 37,
     "metadata": {},
     "output_type": "execute_result"
    }
   ],
   "source": [
    "megan_annot.head()"
   ]
  },
  {
   "cell_type": "code",
   "execution_count": 38,
   "metadata": {},
   "outputs": [],
   "source": [
    "new_table = pd.merge(result,megan_annot, on=['name'])"
   ]
  },
  {
   "cell_type": "code",
   "execution_count": 39,
   "metadata": {},
   "outputs": [
    {
     "data": {
      "text/html": [
       "<div>\n",
       "<style scoped>\n",
       "    .dataframe tbody tr th:only-of-type {\n",
       "        vertical-align: middle;\n",
       "    }\n",
       "\n",
       "    .dataframe tbody tr th {\n",
       "        vertical-align: top;\n",
       "    }\n",
       "\n",
       "    .dataframe thead th {\n",
       "        text-align: right;\n",
       "    }\n",
       "</style>\n",
       "<table border=\"1\" class=\"dataframe\">\n",
       "  <thead>\n",
       "    <tr style=\"text-align: right;\">\n",
       "      <th></th>\n",
       "      <th>name</th>\n",
       "      <th>length</th>\n",
       "      <th>probability</th>\n",
       "      <th>prediction</th>\n",
       "      <th>vfam</th>\n",
       "      <th>pfam</th>\n",
       "      <th>diamond</th>\n",
       "      <th>label</th>\n",
       "      <th>score_euk_non_euk</th>\n",
       "      <th>pred_euk_non_euk</th>\n",
       "      <th>score_non_euk_virus</th>\n",
       "      <th>pred_non_euk_virus</th>\n",
       "      <th>score_virus_non_virus</th>\n",
       "      <th>pred_virus_non_virus</th>\n",
       "      <th>tax_id</th>\n",
       "      <th>rank</th>\n",
       "      <th>tax_name</th>\n",
       "      <th>top_label</th>\n",
       "    </tr>\n",
       "  </thead>\n",
       "  <tbody>\n",
       "    <tr>\n",
       "      <th>0</th>\n",
       "      <td>NODE_1_length_91451_cov_163.114_g0_i0</td>\n",
       "      <td>91451</td>\n",
       "      <td>0.000375</td>\n",
       "      <td>0.0</td>\n",
       "      <td>0.0</td>\n",
       "      <td>0.0</td>\n",
       "      <td>0.0</td>\n",
       "      <td>0.0</td>\n",
       "      <td>0.000025</td>\n",
       "      <td>0.0</td>\n",
       "      <td>0.996004</td>\n",
       "      <td>1.0</td>\n",
       "      <td>0.001954</td>\n",
       "      <td>0.0</td>\n",
       "      <td>1236</td>\n",
       "      <td>class</td>\n",
       "      <td>Gammaproteobacteria</td>\n",
       "      <td>Bacteria</td>\n",
       "    </tr>\n",
       "    <tr>\n",
       "      <th>1</th>\n",
       "      <td>NODE_2_length_74096_cov_303.895_g1_i0</td>\n",
       "      <td>74096</td>\n",
       "      <td>0.000088</td>\n",
       "      <td>0.0</td>\n",
       "      <td>0.0</td>\n",
       "      <td>0.0</td>\n",
       "      <td>0.0</td>\n",
       "      <td>0.0</td>\n",
       "      <td>0.000012</td>\n",
       "      <td>0.0</td>\n",
       "      <td>0.995278</td>\n",
       "      <td>1.0</td>\n",
       "      <td>0.000529</td>\n",
       "      <td>0.0</td>\n",
       "      <td>254161</td>\n",
       "      <td>species</td>\n",
       "      <td>Pseudomonas pachastrellae</td>\n",
       "      <td>Bacteria</td>\n",
       "    </tr>\n",
       "    <tr>\n",
       "      <th>2</th>\n",
       "      <td>NODE_3_length_66420_cov_268.59_g1_i1</td>\n",
       "      <td>66420</td>\n",
       "      <td>0.000041</td>\n",
       "      <td>0.0</td>\n",
       "      <td>0.0</td>\n",
       "      <td>0.0</td>\n",
       "      <td>0.0</td>\n",
       "      <td>0.0</td>\n",
       "      <td>0.000009</td>\n",
       "      <td>0.0</td>\n",
       "      <td>0.996629</td>\n",
       "      <td>1.0</td>\n",
       "      <td>0.000761</td>\n",
       "      <td>0.0</td>\n",
       "      <td>254161</td>\n",
       "      <td>species</td>\n",
       "      <td>Pseudomonas pachastrellae</td>\n",
       "      <td>Bacteria</td>\n",
       "    </tr>\n",
       "    <tr>\n",
       "      <th>3</th>\n",
       "      <td>NODE_4_length_61338_cov_317.585_g2_i0</td>\n",
       "      <td>61338</td>\n",
       "      <td>0.000056</td>\n",
       "      <td>0.0</td>\n",
       "      <td>0.0</td>\n",
       "      <td>0.0</td>\n",
       "      <td>0.0</td>\n",
       "      <td>0.0</td>\n",
       "      <td>0.000008</td>\n",
       "      <td>0.0</td>\n",
       "      <td>0.991967</td>\n",
       "      <td>1.0</td>\n",
       "      <td>0.000477</td>\n",
       "      <td>0.0</td>\n",
       "      <td>286</td>\n",
       "      <td>genus</td>\n",
       "      <td>Pseudomonas</td>\n",
       "      <td>Bacteria</td>\n",
       "    </tr>\n",
       "    <tr>\n",
       "      <th>4</th>\n",
       "      <td>NODE_5_length_59036_cov_197.701_g0_i1</td>\n",
       "      <td>59036</td>\n",
       "      <td>0.000040</td>\n",
       "      <td>0.0</td>\n",
       "      <td>0.0</td>\n",
       "      <td>0.0</td>\n",
       "      <td>0.0</td>\n",
       "      <td>0.0</td>\n",
       "      <td>0.000008</td>\n",
       "      <td>0.0</td>\n",
       "      <td>0.990354</td>\n",
       "      <td>1.0</td>\n",
       "      <td>0.000617</td>\n",
       "      <td>0.0</td>\n",
       "      <td>286</td>\n",
       "      <td>genus</td>\n",
       "      <td>Pseudomonas</td>\n",
       "      <td>Bacteria</td>\n",
       "    </tr>\n",
       "  </tbody>\n",
       "</table>\n",
       "</div>"
      ],
      "text/plain": [
       "                                    name  length  probability  prediction  \\\n",
       "0  NODE_1_length_91451_cov_163.114_g0_i0   91451     0.000375         0.0   \n",
       "1  NODE_2_length_74096_cov_303.895_g1_i0   74096     0.000088         0.0   \n",
       "2   NODE_3_length_66420_cov_268.59_g1_i1   66420     0.000041         0.0   \n",
       "3  NODE_4_length_61338_cov_317.585_g2_i0   61338     0.000056         0.0   \n",
       "4  NODE_5_length_59036_cov_197.701_g0_i1   59036     0.000040         0.0   \n",
       "\n",
       "   vfam  pfam  diamond  label  score_euk_non_euk  pred_euk_non_euk  \\\n",
       "0   0.0   0.0      0.0    0.0           0.000025               0.0   \n",
       "1   0.0   0.0      0.0    0.0           0.000012               0.0   \n",
       "2   0.0   0.0      0.0    0.0           0.000009               0.0   \n",
       "3   0.0   0.0      0.0    0.0           0.000008               0.0   \n",
       "4   0.0   0.0      0.0    0.0           0.000008               0.0   \n",
       "\n",
       "   score_non_euk_virus  pred_non_euk_virus  score_virus_non_virus  \\\n",
       "0             0.996004                 1.0               0.001954   \n",
       "1             0.995278                 1.0               0.000529   \n",
       "2             0.996629                 1.0               0.000761   \n",
       "3             0.991967                 1.0               0.000477   \n",
       "4             0.990354                 1.0               0.000617   \n",
       "\n",
       "   pred_virus_non_virus  tax_id     rank                   tax_name top_label  \n",
       "0                   0.0    1236    class        Gammaproteobacteria  Bacteria  \n",
       "1                   0.0  254161  species  Pseudomonas pachastrellae  Bacteria  \n",
       "2                   0.0  254161  species  Pseudomonas pachastrellae  Bacteria  \n",
       "3                   0.0     286    genus                Pseudomonas  Bacteria  \n",
       "4                   0.0     286    genus                Pseudomonas  Bacteria  "
      ]
     },
     "execution_count": 39,
     "metadata": {},
     "output_type": "execute_result"
    }
   ],
   "source": [
    "new_table.head()"
   ]
  },
  {
   "cell_type": "code",
   "execution_count": 40,
   "metadata": {},
   "outputs": [],
   "source": [
    "prediction_300k = pd.read_csv('/global/projectb/scratch/qpzhang/TARA/Libsvm/ViCA2/all_2k_contigs.fa.prediction.Adam')"
   ]
  },
  {
   "cell_type": "code",
   "execution_count": 41,
   "metadata": {},
   "outputs": [],
   "source": [
    "prediction_adam = pd.read_csv('/global/projectb/scratch/qpzhang/TARA/Libsvm/ViCA2/all_2k_contigs.fa.prediction.1M_new')"
   ]
  },
  {
   "cell_type": "code",
   "execution_count": 42,
   "metadata": {},
   "outputs": [
    {
     "data": {
      "text/html": [
       "<div>\n",
       "<style scoped>\n",
       "    .dataframe tbody tr th:only-of-type {\n",
       "        vertical-align: middle;\n",
       "    }\n",
       "\n",
       "    .dataframe tbody tr th {\n",
       "        vertical-align: top;\n",
       "    }\n",
       "\n",
       "    .dataframe thead th {\n",
       "        text-align: right;\n",
       "    }\n",
       "</style>\n",
       "<table border=\"1\" class=\"dataframe\">\n",
       "  <thead>\n",
       "    <tr style=\"text-align: right;\">\n",
       "      <th></th>\n",
       "      <th>ID</th>\n",
       "      <th>Class</th>\n",
       "      <th>Class_id</th>\n",
       "      <th>Prob_class_0</th>\n",
       "      <th>Prob_class_1</th>\n",
       "      <th>Prob_class_2</th>\n",
       "      <th>Prob_class_3</th>\n",
       "    </tr>\n",
       "  </thead>\n",
       "  <tbody>\n",
       "    <tr>\n",
       "      <th>0</th>\n",
       "      <td>NODE_10000_length_2000_cov_95.909_g6946_i0</td>\n",
       "      <td>3</td>\n",
       "      <td>3</td>\n",
       "      <td>0.021495</td>\n",
       "      <td>1.915236e-03</td>\n",
       "      <td>9.331824e-04</td>\n",
       "      <td>0.975657</td>\n",
       "    </tr>\n",
       "    <tr>\n",
       "      <th>1</th>\n",
       "      <td>NODE_10000_length_2048_cov_10.8329_g7692_i0</td>\n",
       "      <td>3</td>\n",
       "      <td>3</td>\n",
       "      <td>0.005805</td>\n",
       "      <td>5.705581e-05</td>\n",
       "      <td>1.474175e-04</td>\n",
       "      <td>0.993991</td>\n",
       "    </tr>\n",
       "    <tr>\n",
       "      <th>2</th>\n",
       "      <td>NODE_10000_length_2108_cov_40.585_g7688_i0</td>\n",
       "      <td>3</td>\n",
       "      <td>3</td>\n",
       "      <td>0.000002</td>\n",
       "      <td>1.378866e-09</td>\n",
       "      <td>1.581349e-08</td>\n",
       "      <td>0.999998</td>\n",
       "    </tr>\n",
       "    <tr>\n",
       "      <th>3</th>\n",
       "      <td>NODE_10000_length_2114_cov_17.7008_g7479_i0</td>\n",
       "      <td>3</td>\n",
       "      <td>3</td>\n",
       "      <td>0.000252</td>\n",
       "      <td>8.563400e-05</td>\n",
       "      <td>1.848443e-05</td>\n",
       "      <td>0.999644</td>\n",
       "    </tr>\n",
       "    <tr>\n",
       "      <th>4</th>\n",
       "      <td>NODE_10000_length_2132_cov_22.4521_g7241_i0</td>\n",
       "      <td>1</td>\n",
       "      <td>1</td>\n",
       "      <td>0.000017</td>\n",
       "      <td>9.539825e-01</td>\n",
       "      <td>7.859741e-08</td>\n",
       "      <td>0.046000</td>\n",
       "    </tr>\n",
       "  </tbody>\n",
       "</table>\n",
       "</div>"
      ],
      "text/plain": [
       "                                            ID  Class  Class_id  Prob_class_0  \\\n",
       "0   NODE_10000_length_2000_cov_95.909_g6946_i0      3         3      0.021495   \n",
       "1  NODE_10000_length_2048_cov_10.8329_g7692_i0      3         3      0.005805   \n",
       "2   NODE_10000_length_2108_cov_40.585_g7688_i0      3         3      0.000002   \n",
       "3  NODE_10000_length_2114_cov_17.7008_g7479_i0      3         3      0.000252   \n",
       "4  NODE_10000_length_2132_cov_22.4521_g7241_i0      1         1      0.000017   \n",
       "\n",
       "   Prob_class_1  Prob_class_2  Prob_class_3  \n",
       "0  1.915236e-03  9.331824e-04      0.975657  \n",
       "1  5.705581e-05  1.474175e-04      0.993991  \n",
       "2  1.378866e-09  1.581349e-08      0.999998  \n",
       "3  8.563400e-05  1.848443e-05      0.999644  \n",
       "4  9.539825e-01  7.859741e-08      0.046000  "
      ]
     },
     "execution_count": 42,
     "metadata": {},
     "output_type": "execute_result"
    }
   ],
   "source": [
    "prediction_adam.head()"
   ]
  },
  {
   "cell_type": "code",
   "execution_count": 43,
   "metadata": {},
   "outputs": [
    {
     "data": {
      "text/html": [
       "<div>\n",
       "<style scoped>\n",
       "    .dataframe tbody tr th:only-of-type {\n",
       "        vertical-align: middle;\n",
       "    }\n",
       "\n",
       "    .dataframe tbody tr th {\n",
       "        vertical-align: top;\n",
       "    }\n",
       "\n",
       "    .dataframe thead tr th {\n",
       "        text-align: left;\n",
       "    }\n",
       "\n",
       "    .dataframe thead tr:last-of-type th {\n",
       "        text-align: right;\n",
       "    }\n",
       "</style>\n",
       "<table border=\"1\" class=\"dataframe\">\n",
       "  <thead>\n",
       "    <tr>\n",
       "      <th></th>\n",
       "      <th colspan=\"8\" halign=\"left\">Class_id</th>\n",
       "      <th colspan=\"2\" halign=\"left\">Prob_class_0</th>\n",
       "      <th>...</th>\n",
       "      <th colspan=\"2\" halign=\"left\">Prob_class_2</th>\n",
       "      <th colspan=\"8\" halign=\"left\">Prob_class_3</th>\n",
       "    </tr>\n",
       "    <tr>\n",
       "      <th></th>\n",
       "      <th>count</th>\n",
       "      <th>mean</th>\n",
       "      <th>std</th>\n",
       "      <th>min</th>\n",
       "      <th>25%</th>\n",
       "      <th>50%</th>\n",
       "      <th>75%</th>\n",
       "      <th>max</th>\n",
       "      <th>count</th>\n",
       "      <th>mean</th>\n",
       "      <th>...</th>\n",
       "      <th>75%</th>\n",
       "      <th>max</th>\n",
       "      <th>count</th>\n",
       "      <th>mean</th>\n",
       "      <th>std</th>\n",
       "      <th>min</th>\n",
       "      <th>25%</th>\n",
       "      <th>50%</th>\n",
       "      <th>75%</th>\n",
       "      <th>max</th>\n",
       "    </tr>\n",
       "    <tr>\n",
       "      <th>Class</th>\n",
       "      <th></th>\n",
       "      <th></th>\n",
       "      <th></th>\n",
       "      <th></th>\n",
       "      <th></th>\n",
       "      <th></th>\n",
       "      <th></th>\n",
       "      <th></th>\n",
       "      <th></th>\n",
       "      <th></th>\n",
       "      <th></th>\n",
       "      <th></th>\n",
       "      <th></th>\n",
       "      <th></th>\n",
       "      <th></th>\n",
       "      <th></th>\n",
       "      <th></th>\n",
       "      <th></th>\n",
       "      <th></th>\n",
       "      <th></th>\n",
       "      <th></th>\n",
       "    </tr>\n",
       "  </thead>\n",
       "  <tbody>\n",
       "    <tr>\n",
       "      <th>0</th>\n",
       "      <td>25984.0</td>\n",
       "      <td>0.0</td>\n",
       "      <td>0.0</td>\n",
       "      <td>0.0</td>\n",
       "      <td>0.0</td>\n",
       "      <td>0.0</td>\n",
       "      <td>0.0</td>\n",
       "      <td>0.0</td>\n",
       "      <td>25984.0</td>\n",
       "      <td>0.724670</td>\n",
       "      <td>...</td>\n",
       "      <td>0.022200</td>\n",
       "      <td>0.157081</td>\n",
       "      <td>25984.0</td>\n",
       "      <td>0.175443</td>\n",
       "      <td>0.133476</td>\n",
       "      <td>6.935089e-05</td>\n",
       "      <td>5.727035e-02</td>\n",
       "      <td>0.147544</td>\n",
       "      <td>0.278886</td>\n",
       "      <td>0.497957</td>\n",
       "    </tr>\n",
       "    <tr>\n",
       "      <th>1</th>\n",
       "      <td>27221.0</td>\n",
       "      <td>1.0</td>\n",
       "      <td>0.0</td>\n",
       "      <td>1.0</td>\n",
       "      <td>1.0</td>\n",
       "      <td>1.0</td>\n",
       "      <td>1.0</td>\n",
       "      <td>1.0</td>\n",
       "      <td>27221.0</td>\n",
       "      <td>0.023249</td>\n",
       "      <td>...</td>\n",
       "      <td>0.000012</td>\n",
       "      <td>0.119974</td>\n",
       "      <td>27221.0</td>\n",
       "      <td>0.070493</td>\n",
       "      <td>0.119092</td>\n",
       "      <td>0.000000e+00</td>\n",
       "      <td>3.914311e-04</td>\n",
       "      <td>0.007034</td>\n",
       "      <td>0.082659</td>\n",
       "      <td>0.499408</td>\n",
       "    </tr>\n",
       "    <tr>\n",
       "      <th>2</th>\n",
       "      <td>21.0</td>\n",
       "      <td>2.0</td>\n",
       "      <td>0.0</td>\n",
       "      <td>2.0</td>\n",
       "      <td>2.0</td>\n",
       "      <td>2.0</td>\n",
       "      <td>2.0</td>\n",
       "      <td>2.0</td>\n",
       "      <td>21.0</td>\n",
       "      <td>0.019477</td>\n",
       "      <td>...</td>\n",
       "      <td>1.000000</td>\n",
       "      <td>1.000000</td>\n",
       "      <td>21.0</td>\n",
       "      <td>0.045909</td>\n",
       "      <td>0.088688</td>\n",
       "      <td>6.078228e-17</td>\n",
       "      <td>2.764050e-07</td>\n",
       "      <td>0.000036</td>\n",
       "      <td>0.019434</td>\n",
       "      <td>0.278858</td>\n",
       "    </tr>\n",
       "    <tr>\n",
       "      <th>3</th>\n",
       "      <td>160358.0</td>\n",
       "      <td>3.0</td>\n",
       "      <td>0.0</td>\n",
       "      <td>3.0</td>\n",
       "      <td>3.0</td>\n",
       "      <td>3.0</td>\n",
       "      <td>3.0</td>\n",
       "      <td>3.0</td>\n",
       "      <td>160358.0</td>\n",
       "      <td>0.038752</td>\n",
       "      <td>...</td>\n",
       "      <td>0.001210</td>\n",
       "      <td>0.243533</td>\n",
       "      <td>160358.0</td>\n",
       "      <td>0.937465</td>\n",
       "      <td>0.126815</td>\n",
       "      <td>3.230318e-01</td>\n",
       "      <td>9.555361e-01</td>\n",
       "      <td>0.997928</td>\n",
       "      <td>0.999885</td>\n",
       "      <td>1.000000</td>\n",
       "    </tr>\n",
       "  </tbody>\n",
       "</table>\n",
       "<p>4 rows × 40 columns</p>\n",
       "</div>"
      ],
      "text/plain": [
       "       Class_id                                    Prob_class_0            \\\n",
       "          count mean  std  min  25%  50%  75%  max        count      mean   \n",
       "Class                                                                       \n",
       "0       25984.0  0.0  0.0  0.0  0.0  0.0  0.0  0.0      25984.0  0.724670   \n",
       "1       27221.0  1.0  0.0  1.0  1.0  1.0  1.0  1.0      27221.0  0.023249   \n",
       "2          21.0  2.0  0.0  2.0  2.0  2.0  2.0  2.0         21.0  0.019477   \n",
       "3      160358.0  3.0  0.0  3.0  3.0  3.0  3.0  3.0     160358.0  0.038752   \n",
       "\n",
       "         ...    Prob_class_2           Prob_class_3                      \\\n",
       "         ...             75%       max        count      mean       std   \n",
       "Class    ...                                                              \n",
       "0        ...        0.022200  0.157081      25984.0  0.175443  0.133476   \n",
       "1        ...        0.000012  0.119974      27221.0  0.070493  0.119092   \n",
       "2        ...        1.000000  1.000000         21.0  0.045909  0.088688   \n",
       "3        ...        0.001210  0.243533     160358.0  0.937465  0.126815   \n",
       "\n",
       "                                                                 \n",
       "                min           25%       50%       75%       max  \n",
       "Class                                                            \n",
       "0      6.935089e-05  5.727035e-02  0.147544  0.278886  0.497957  \n",
       "1      0.000000e+00  3.914311e-04  0.007034  0.082659  0.499408  \n",
       "2      6.078228e-17  2.764050e-07  0.000036  0.019434  0.278858  \n",
       "3      3.230318e-01  9.555361e-01  0.997928  0.999885  1.000000  \n",
       "\n",
       "[4 rows x 40 columns]"
      ]
     },
     "execution_count": 43,
     "metadata": {},
     "output_type": "execute_result"
    }
   ],
   "source": [
    "prediction_adam.groupby('Class').describe()"
   ]
  },
  {
   "cell_type": "code",
   "execution_count": 44,
   "metadata": {},
   "outputs": [],
   "source": [
    "prediction_adam_subset = prediction_adam[['ID','Prob_class_0']]"
   ]
  },
  {
   "cell_type": "code",
   "execution_count": 45,
   "metadata": {},
   "outputs": [],
   "source": [
    "prediction_adam_subset.rename(index=str,columns={\"ID\": \"name\"},inplace=True)"
   ]
  },
  {
   "cell_type": "code",
   "execution_count": 46,
   "metadata": {},
   "outputs": [],
   "source": [
    "prediction_adam_subset.rename(index=str,columns={\"Prob_class_0\": \"1M_prediction\"},inplace=True)\n",
    "\n"
   ]
  },
  {
   "cell_type": "code",
   "execution_count": 47,
   "metadata": {},
   "outputs": [],
   "source": [
    "prediction_300k_subset = prediction_300k[['ID','Prob_class_0']]"
   ]
  },
  {
   "cell_type": "code",
   "execution_count": 48,
   "metadata": {},
   "outputs": [],
   "source": [
    "prediction_300k_subset.rename(index=str,columns={\"ID\": \"name\"},inplace=True)"
   ]
  },
  {
   "cell_type": "code",
   "execution_count": 49,
   "metadata": {},
   "outputs": [],
   "source": [
    "prediction_300k_subset.rename(index=str,columns={\"Prob_class_0\": \"100k_prediction\"},inplace=True)"
   ]
  },
  {
   "cell_type": "code",
   "execution_count": 50,
   "metadata": {},
   "outputs": [],
   "source": [
    "new_table_300k_joined = pd.merge(new_table,prediction_300k_subset, how='left',on=['name'])"
   ]
  },
  {
   "cell_type": "code",
   "execution_count": 51,
   "metadata": {},
   "outputs": [],
   "source": [
    "new_table_300k_adam_joined = pd.merge(new_table_300k_joined,prediction_adam_subset, how='left',on=['name'])"
   ]
  },
  {
   "cell_type": "markdown",
   "metadata": {},
   "source": [
    "### 7041 contigs as ground-truth virus-related, with hits to virus-related domains, or annotated as virus by MEGAN based on BlastX/Diamond alignment"
   ]
  },
  {
   "cell_type": "markdown",
   "metadata": {},
   "source": [
    "### 208302 contigs with length >=2k, in TARA\n"
   ]
  },
  {
   "cell_type": "code",
   "execution_count": 52,
   "metadata": {},
   "outputs": [],
   "source": [
    "new_table_300k_adam_joined[\"non_euk_label\"] = (new_table_300k_adam_joined.top_label!='Eukaryota')"
   ]
  },
  {
   "cell_type": "code",
   "execution_count": 53,
   "metadata": {},
   "outputs": [
    {
     "data": {
      "text/html": [
       "<div>\n",
       "<style scoped>\n",
       "    .dataframe tbody tr th:only-of-type {\n",
       "        vertical-align: middle;\n",
       "    }\n",
       "\n",
       "    .dataframe tbody tr th {\n",
       "        vertical-align: top;\n",
       "    }\n",
       "\n",
       "    .dataframe thead th {\n",
       "        text-align: right;\n",
       "    }\n",
       "</style>\n",
       "<table border=\"1\" class=\"dataframe\">\n",
       "  <thead>\n",
       "    <tr style=\"text-align: right;\">\n",
       "      <th></th>\n",
       "      <th>name</th>\n",
       "      <th>length</th>\n",
       "      <th>probability</th>\n",
       "      <th>prediction</th>\n",
       "      <th>vfam</th>\n",
       "      <th>pfam</th>\n",
       "      <th>diamond</th>\n",
       "      <th>label</th>\n",
       "      <th>score_euk_non_euk</th>\n",
       "      <th>pred_euk_non_euk</th>\n",
       "      <th>...</th>\n",
       "      <th>pred_non_euk_virus</th>\n",
       "      <th>score_virus_non_virus</th>\n",
       "      <th>pred_virus_non_virus</th>\n",
       "      <th>tax_id</th>\n",
       "      <th>rank</th>\n",
       "      <th>tax_name</th>\n",
       "      <th>top_label</th>\n",
       "      <th>100k_prediction</th>\n",
       "      <th>1M_prediction</th>\n",
       "      <th>non_euk_label</th>\n",
       "    </tr>\n",
       "  </thead>\n",
       "  <tbody>\n",
       "    <tr>\n",
       "      <th>0</th>\n",
       "      <td>NODE_1_length_91451_cov_163.114_g0_i0</td>\n",
       "      <td>91451</td>\n",
       "      <td>0.000375</td>\n",
       "      <td>0.0</td>\n",
       "      <td>0.0</td>\n",
       "      <td>0.0</td>\n",
       "      <td>0.0</td>\n",
       "      <td>0.0</td>\n",
       "      <td>0.000025</td>\n",
       "      <td>0.0</td>\n",
       "      <td>...</td>\n",
       "      <td>1.0</td>\n",
       "      <td>0.001954</td>\n",
       "      <td>0.0</td>\n",
       "      <td>1236</td>\n",
       "      <td>class</td>\n",
       "      <td>Gammaproteobacteria</td>\n",
       "      <td>Bacteria</td>\n",
       "      <td>0.000245</td>\n",
       "      <td>9.194513e-19</td>\n",
       "      <td>True</td>\n",
       "    </tr>\n",
       "    <tr>\n",
       "      <th>1</th>\n",
       "      <td>NODE_2_length_74096_cov_303.895_g1_i0</td>\n",
       "      <td>74096</td>\n",
       "      <td>0.000088</td>\n",
       "      <td>0.0</td>\n",
       "      <td>0.0</td>\n",
       "      <td>0.0</td>\n",
       "      <td>0.0</td>\n",
       "      <td>0.0</td>\n",
       "      <td>0.000012</td>\n",
       "      <td>0.0</td>\n",
       "      <td>...</td>\n",
       "      <td>1.0</td>\n",
       "      <td>0.000529</td>\n",
       "      <td>0.0</td>\n",
       "      <td>254161</td>\n",
       "      <td>species</td>\n",
       "      <td>Pseudomonas pachastrellae</td>\n",
       "      <td>Bacteria</td>\n",
       "      <td>0.000019</td>\n",
       "      <td>4.935380e-19</td>\n",
       "      <td>True</td>\n",
       "    </tr>\n",
       "    <tr>\n",
       "      <th>2</th>\n",
       "      <td>NODE_3_length_66420_cov_268.59_g1_i1</td>\n",
       "      <td>66420</td>\n",
       "      <td>0.000041</td>\n",
       "      <td>0.0</td>\n",
       "      <td>0.0</td>\n",
       "      <td>0.0</td>\n",
       "      <td>0.0</td>\n",
       "      <td>0.0</td>\n",
       "      <td>0.000009</td>\n",
       "      <td>0.0</td>\n",
       "      <td>...</td>\n",
       "      <td>1.0</td>\n",
       "      <td>0.000761</td>\n",
       "      <td>0.0</td>\n",
       "      <td>254161</td>\n",
       "      <td>species</td>\n",
       "      <td>Pseudomonas pachastrellae</td>\n",
       "      <td>Bacteria</td>\n",
       "      <td>0.000052</td>\n",
       "      <td>4.259754e-14</td>\n",
       "      <td>True</td>\n",
       "    </tr>\n",
       "    <tr>\n",
       "      <th>3</th>\n",
       "      <td>NODE_4_length_61338_cov_317.585_g2_i0</td>\n",
       "      <td>61338</td>\n",
       "      <td>0.000056</td>\n",
       "      <td>0.0</td>\n",
       "      <td>0.0</td>\n",
       "      <td>0.0</td>\n",
       "      <td>0.0</td>\n",
       "      <td>0.0</td>\n",
       "      <td>0.000008</td>\n",
       "      <td>0.0</td>\n",
       "      <td>...</td>\n",
       "      <td>1.0</td>\n",
       "      <td>0.000477</td>\n",
       "      <td>0.0</td>\n",
       "      <td>286</td>\n",
       "      <td>genus</td>\n",
       "      <td>Pseudomonas</td>\n",
       "      <td>Bacteria</td>\n",
       "      <td>0.000032</td>\n",
       "      <td>9.107938e-19</td>\n",
       "      <td>True</td>\n",
       "    </tr>\n",
       "    <tr>\n",
       "      <th>4</th>\n",
       "      <td>NODE_5_length_59036_cov_197.701_g0_i1</td>\n",
       "      <td>59036</td>\n",
       "      <td>0.000040</td>\n",
       "      <td>0.0</td>\n",
       "      <td>0.0</td>\n",
       "      <td>0.0</td>\n",
       "      <td>0.0</td>\n",
       "      <td>0.0</td>\n",
       "      <td>0.000008</td>\n",
       "      <td>0.0</td>\n",
       "      <td>...</td>\n",
       "      <td>1.0</td>\n",
       "      <td>0.000617</td>\n",
       "      <td>0.0</td>\n",
       "      <td>286</td>\n",
       "      <td>genus</td>\n",
       "      <td>Pseudomonas</td>\n",
       "      <td>Bacteria</td>\n",
       "      <td>0.000037</td>\n",
       "      <td>6.936213e-15</td>\n",
       "      <td>True</td>\n",
       "    </tr>\n",
       "  </tbody>\n",
       "</table>\n",
       "<p>5 rows × 21 columns</p>\n",
       "</div>"
      ],
      "text/plain": [
       "                                    name  length  probability  prediction  \\\n",
       "0  NODE_1_length_91451_cov_163.114_g0_i0   91451     0.000375         0.0   \n",
       "1  NODE_2_length_74096_cov_303.895_g1_i0   74096     0.000088         0.0   \n",
       "2   NODE_3_length_66420_cov_268.59_g1_i1   66420     0.000041         0.0   \n",
       "3  NODE_4_length_61338_cov_317.585_g2_i0   61338     0.000056         0.0   \n",
       "4  NODE_5_length_59036_cov_197.701_g0_i1   59036     0.000040         0.0   \n",
       "\n",
       "   vfam  pfam  diamond  label  score_euk_non_euk  pred_euk_non_euk  \\\n",
       "0   0.0   0.0      0.0    0.0           0.000025               0.0   \n",
       "1   0.0   0.0      0.0    0.0           0.000012               0.0   \n",
       "2   0.0   0.0      0.0    0.0           0.000009               0.0   \n",
       "3   0.0   0.0      0.0    0.0           0.000008               0.0   \n",
       "4   0.0   0.0      0.0    0.0           0.000008               0.0   \n",
       "\n",
       "       ...        pred_non_euk_virus  score_virus_non_virus  \\\n",
       "0      ...                       1.0               0.001954   \n",
       "1      ...                       1.0               0.000529   \n",
       "2      ...                       1.0               0.000761   \n",
       "3      ...                       1.0               0.000477   \n",
       "4      ...                       1.0               0.000617   \n",
       "\n",
       "   pred_virus_non_virus  tax_id     rank                   tax_name top_label  \\\n",
       "0                   0.0    1236    class        Gammaproteobacteria  Bacteria   \n",
       "1                   0.0  254161  species  Pseudomonas pachastrellae  Bacteria   \n",
       "2                   0.0  254161  species  Pseudomonas pachastrellae  Bacteria   \n",
       "3                   0.0     286    genus                Pseudomonas  Bacteria   \n",
       "4                   0.0     286    genus                Pseudomonas  Bacteria   \n",
       "\n",
       "  100k_prediction  1M_prediction  non_euk_label  \n",
       "0        0.000245   9.194513e-19           True  \n",
       "1        0.000019   4.935380e-19           True  \n",
       "2        0.000052   4.259754e-14           True  \n",
       "3        0.000032   9.107938e-19           True  \n",
       "4        0.000037   6.936213e-15           True  \n",
       "\n",
       "[5 rows x 21 columns]"
      ]
     },
     "execution_count": 53,
     "metadata": {},
     "output_type": "execute_result"
    }
   ],
   "source": [
    "new_table_300k_adam_joined.head()"
   ]
  },
  {
   "cell_type": "code",
   "execution_count": 54,
   "metadata": {},
   "outputs": [],
   "source": [
    "new_table_300k_adam_joined[\"micromonas_label\"] = (new_table_300k_adam_joined.tax_name=='Micromonas') |(new_table_300k_adam_joined.tax_name=='Micromonas pusilla CCMP1545')|(\n",
    "        new_table_300k_adam_joined.tax_name=='Micromonas commoda')\n"
   ]
  },
  {
   "cell_type": "markdown",
   "metadata": {},
   "source": [
    "#### \"no rank\" does not equal \"no annotation\""
   ]
  },
  {
   "cell_type": "code",
   "execution_count": 55,
   "metadata": {},
   "outputs": [],
   "source": [
    "def convert_top_label(top_label):\n",
    "    if top_label == 'N/A':\n",
    "        return 'no annotation'\n",
    "    else:\n",
    "        return 'with annotation'"
   ]
  },
  {
   "cell_type": "code",
   "execution_count": 56,
   "metadata": {},
   "outputs": [],
   "source": [
    "new_table_300k_adam_joined['annotation_label'] = new_table_300k_adam_joined['top_label'].map(convert_top_label)"
   ]
  },
  {
   "cell_type": "markdown",
   "metadata": {},
   "source": [
    "### Split the TARA contigs into 3 categories\n",
    "\n",
    "- \"Virus\" has virus-related domain hits or annotated as \"virus\" by MEGAN\n",
    "- \"Non-virus\" , no virus-related domain hits, annotated as some non-virus taxonomical group by MEGAN \n",
    "- \"Unknown\",  no virus-related domain hits, not annotated into any taxonomical group by MEGAN, top_label as \"N/A\""
   ]
  },
  {
   "cell_type": "markdown",
   "metadata": {},
   "source": [
    "#### subsample \"non-virus\" and \"unknown\" to have same number of \"Virus\" contigs - 6913"
   ]
  },
  {
   "cell_type": "code",
   "execution_count": 57,
   "metadata": {},
   "outputs": [
    {
     "name": "stderr",
     "output_type": "stream",
     "text": [
      "/global/homes/q/qpzhang/vica/miniconda/envs/vica/lib/python3.6/site-packages/ipykernel_launcher.py:2: UserWarning: Boolean Series key will be reindexed to match DataFrame index.\n",
      "  \n",
      "/global/homes/q/qpzhang/vica/miniconda/envs/vica/lib/python3.6/site-packages/ipykernel_launcher.py:8: UserWarning: Boolean Series key will be reindexed to match DataFrame index.\n",
      "  \n"
     ]
    }
   ],
   "source": [
    "# \"non-virus\" data frame... non-virus and with annotation by MEGAN\n",
    "df_nonvirus = new_table_300k_adam_joined[new_table_300k_adam_joined.label==0.0][new_table_300k_adam_joined['annotation_label']== 'with annotation']\n",
    "df_nonvirus_subsample = df_nonvirus.sample(n=7041, replace=False)\n",
    "#df_nonvirus_subsample.to_csv('df_nonvirus_subsample.csv')\n",
    "\n",
    "# \"Unknown\" data frame... and without annotation by MEGAN\n",
    "\n",
    "df_unknown = new_table_300k_adam_joined[new_table_300k_adam_joined.label==0.0][new_table_300k_adam_joined['annotation_label']== 'no annotation']\n",
    "df_unknown_subsample = df_unknown.sample(n=7041, replace=False)\n",
    "#df_unknown_subsample.to_csv('df_unknown_subsample.csv')\n",
    "\n",
    "### \"Virus\" contigs...  has pfam hits or annotated as \"virus\" by MEGAN\n",
    "df_virus = new_table_300k_adam_joined[new_table_300k_adam_joined.label==1.0]\n",
    "#df_virus.to_csv('df_virus.csv')\n",
    "\n"
   ]
  },
  {
   "cell_type": "code",
   "execution_count": 58,
   "metadata": {},
   "outputs": [],
   "source": [
    "def get_category(df):\n",
    "    if df.label == 0.0:\n",
    "        if df.annotation_label == 'with annotation':\n",
    "            return 'nonvirus'\n",
    "        else:\n",
    "            return 'unknown'\n",
    "    else:\n",
    "        return 'virus'"
   ]
  },
  {
   "cell_type": "code",
   "execution_count": 59,
   "metadata": {},
   "outputs": [],
   "source": [
    "new_table_300k_adam_joined['category'] = new_table_300k_adam_joined.apply(get_category, axis=1)"
   ]
  },
  {
   "cell_type": "code",
   "execution_count": 60,
   "metadata": {},
   "outputs": [
    {
     "data": {
      "text/html": [
       "<div>\n",
       "<style scoped>\n",
       "    .dataframe tbody tr th:only-of-type {\n",
       "        vertical-align: middle;\n",
       "    }\n",
       "\n",
       "    .dataframe tbody tr th {\n",
       "        vertical-align: top;\n",
       "    }\n",
       "\n",
       "    .dataframe thead tr th {\n",
       "        text-align: left;\n",
       "    }\n",
       "\n",
       "    .dataframe thead tr:last-of-type th {\n",
       "        text-align: right;\n",
       "    }\n",
       "</style>\n",
       "<table border=\"1\" class=\"dataframe\">\n",
       "  <thead>\n",
       "    <tr>\n",
       "      <th></th>\n",
       "      <th colspan=\"8\" halign=\"left\">100k_prediction</th>\n",
       "      <th colspan=\"2\" halign=\"left\">1M_prediction</th>\n",
       "      <th>...</th>\n",
       "      <th colspan=\"2\" halign=\"left\">tax_id</th>\n",
       "      <th colspan=\"8\" halign=\"left\">vfam</th>\n",
       "    </tr>\n",
       "    <tr>\n",
       "      <th></th>\n",
       "      <th>count</th>\n",
       "      <th>mean</th>\n",
       "      <th>std</th>\n",
       "      <th>min</th>\n",
       "      <th>25%</th>\n",
       "      <th>50%</th>\n",
       "      <th>75%</th>\n",
       "      <th>max</th>\n",
       "      <th>count</th>\n",
       "      <th>mean</th>\n",
       "      <th>...</th>\n",
       "      <th>75%</th>\n",
       "      <th>max</th>\n",
       "      <th>count</th>\n",
       "      <th>mean</th>\n",
       "      <th>std</th>\n",
       "      <th>min</th>\n",
       "      <th>25%</th>\n",
       "      <th>50%</th>\n",
       "      <th>75%</th>\n",
       "      <th>max</th>\n",
       "    </tr>\n",
       "    <tr>\n",
       "      <th>category</th>\n",
       "      <th></th>\n",
       "      <th></th>\n",
       "      <th></th>\n",
       "      <th></th>\n",
       "      <th></th>\n",
       "      <th></th>\n",
       "      <th></th>\n",
       "      <th></th>\n",
       "      <th></th>\n",
       "      <th></th>\n",
       "      <th></th>\n",
       "      <th></th>\n",
       "      <th></th>\n",
       "      <th></th>\n",
       "      <th></th>\n",
       "      <th></th>\n",
       "      <th></th>\n",
       "      <th></th>\n",
       "      <th></th>\n",
       "      <th></th>\n",
       "      <th></th>\n",
       "    </tr>\n",
       "  </thead>\n",
       "  <tbody>\n",
       "    <tr>\n",
       "      <th>nonvirus</th>\n",
       "      <td>190977.0</td>\n",
       "      <td>0.393467</td>\n",
       "      <td>0.360481</td>\n",
       "      <td>0.000000e+00</td>\n",
       "      <td>0.069311</td>\n",
       "      <td>0.257377</td>\n",
       "      <td>0.744047</td>\n",
       "      <td>1.0</td>\n",
       "      <td>190977.0</td>\n",
       "      <td>0.124575</td>\n",
       "      <td>...</td>\n",
       "      <td>296587.0</td>\n",
       "      <td>1904754.0</td>\n",
       "      <td>191044.0</td>\n",
       "      <td>0.000000</td>\n",
       "      <td>0.000000</td>\n",
       "      <td>0.0</td>\n",
       "      <td>0.0</td>\n",
       "      <td>0.0</td>\n",
       "      <td>0.0</td>\n",
       "      <td>0.0</td>\n",
       "    </tr>\n",
       "    <tr>\n",
       "      <th>unknown</th>\n",
       "      <td>10181.0</td>\n",
       "      <td>0.559653</td>\n",
       "      <td>0.388920</td>\n",
       "      <td>6.985453e-20</td>\n",
       "      <td>0.155678</td>\n",
       "      <td>0.584019</td>\n",
       "      <td>0.984957</td>\n",
       "      <td>1.0</td>\n",
       "      <td>10181.0</td>\n",
       "      <td>0.098457</td>\n",
       "      <td>...</td>\n",
       "      <td>131567.0</td>\n",
       "      <td>131567.0</td>\n",
       "      <td>10217.0</td>\n",
       "      <td>0.000000</td>\n",
       "      <td>0.000000</td>\n",
       "      <td>0.0</td>\n",
       "      <td>0.0</td>\n",
       "      <td>0.0</td>\n",
       "      <td>0.0</td>\n",
       "      <td>0.0</td>\n",
       "    </tr>\n",
       "    <tr>\n",
       "      <th>virus</th>\n",
       "      <td>7041.0</td>\n",
       "      <td>0.927982</td>\n",
       "      <td>0.172551</td>\n",
       "      <td>1.984175e-07</td>\n",
       "      <td>0.962652</td>\n",
       "      <td>0.996370</td>\n",
       "      <td>0.999693</td>\n",
       "      <td>1.0</td>\n",
       "      <td>7041.0</td>\n",
       "      <td>0.050660</td>\n",
       "      <td>...</td>\n",
       "      <td>1407671.0</td>\n",
       "      <td>1880590.0</td>\n",
       "      <td>7041.0</td>\n",
       "      <td>0.014771</td>\n",
       "      <td>0.120642</td>\n",
       "      <td>0.0</td>\n",
       "      <td>0.0</td>\n",
       "      <td>0.0</td>\n",
       "      <td>0.0</td>\n",
       "      <td>1.0</td>\n",
       "    </tr>\n",
       "  </tbody>\n",
       "</table>\n",
       "<p>3 rows × 128 columns</p>\n",
       "</div>"
      ],
      "text/plain": [
       "         100k_prediction                                              \\\n",
       "                   count      mean       std           min       25%   \n",
       "category                                                               \n",
       "nonvirus        190977.0  0.393467  0.360481  0.000000e+00  0.069311   \n",
       "unknown          10181.0  0.559653  0.388920  6.985453e-20  0.155678   \n",
       "virus             7041.0  0.927982  0.172551  1.984175e-07  0.962652   \n",
       "\n",
       "                                  1M_prediction           ...      tax_id  \\\n",
       "               50%       75%  max         count      mean ...         75%   \n",
       "category                                                  ...               \n",
       "nonvirus  0.257377  0.744047  1.0      190977.0  0.124575 ...    296587.0   \n",
       "unknown   0.584019  0.984957  1.0       10181.0  0.098457 ...    131567.0   \n",
       "virus     0.996370  0.999693  1.0        7041.0  0.050660 ...   1407671.0   \n",
       "\n",
       "                         vfam                                               \n",
       "                max     count      mean       std  min  25%  50%  75%  max  \n",
       "category                                                                    \n",
       "nonvirus  1904754.0  191044.0  0.000000  0.000000  0.0  0.0  0.0  0.0  0.0  \n",
       "unknown    131567.0   10217.0  0.000000  0.000000  0.0  0.0  0.0  0.0  0.0  \n",
       "virus     1880590.0    7041.0  0.014771  0.120642  0.0  0.0  0.0  0.0  1.0  \n",
       "\n",
       "[3 rows x 128 columns]"
      ]
     },
     "execution_count": 60,
     "metadata": {},
     "output_type": "execute_result"
    }
   ],
   "source": [
    "new_table_300k_adam_joined.groupby('category').describe()\n"
   ]
  },
  {
   "cell_type": "code",
   "execution_count": 61,
   "metadata": {},
   "outputs": [],
   "source": [
    "df_micromonus = new_table_300k_adam_joined[new_table_300k_adam_joined.micromonas_label==True]"
   ]
  },
  {
   "cell_type": "markdown",
   "metadata": {},
   "source": [
    "## Micromonus related contigs\n",
    "\n",
    "### updated model with 100K segments by Adam\n",
    "\n",
    "New model has better performance to label Micromonus as \"non-virus\" - lower score."
   ]
  },
  {
   "cell_type": "code",
   "execution_count": 62,
   "metadata": {},
   "outputs": [
    {
     "data": {
      "text/plain": [
       "<matplotlib.axes._subplots.AxesSubplot at 0x2ac70593b630>"
      ]
     },
     "execution_count": 62,
     "metadata": {},
     "output_type": "execute_result"
    },
    {
     "data": {
      "image/png": "[encoded data removed]",
      "text/plain": [
       "<Figure size 432x288 with 1 Axes>"
      ]
     },
     "metadata": {
      "needs_background": "light"
     },
     "output_type": "display_data"
    }
   ],
   "source": [
    "df_micromonus[\"1M_prediction\"].plot.hist(bins=50, title='adam model, for micromonus related contigs')"
   ]
  },
  {
   "cell_type": "markdown",
   "metadata": {},
   "source": [
    "### Older model with 300K segments by QP"
   ]
  },
  {
   "cell_type": "code",
   "execution_count": 63,
   "metadata": {},
   "outputs": [
    {
     "data": {
      "text/plain": [
       "<matplotlib.axes._subplots.AxesSubplot at 0x2ac6faa05da0>"
      ]
     },
     "execution_count": 63,
     "metadata": {},
     "output_type": "execute_result"
    },
    {
     "data": {
      "image/png": "[encoded data removed]",
      "text/plain": [
       "<Figure size 432x288 with 1 Axes>"
      ]
     },
     "metadata": {
      "needs_background": "light"
     },
     "output_type": "display_data"
    }
   ],
   "source": [
    "df_micromonus['100k_prediction'].plot.hist(bins=50, title='300k old model, for micromonus related contigs')"
   ]
  },
  {
   "cell_type": "markdown",
   "metadata": {},
   "source": [
    "## All TARA contigs, with updated model  using 100K training segments"
   ]
  },
  {
   "cell_type": "code",
   "execution_count": 64,
   "metadata": {},
   "outputs": [
    {
     "data": {
      "text/plain": [
       "Text(0, 0.5, 'number of contigs')"
      ]
     },
     "execution_count": 64,
     "metadata": {},
     "output_type": "execute_result"
    },
    {
     "data": {
      "image/png": "[encoded data removed]",
      "text/plain": [
       "<Figure size 1152x648 with 1 Axes>"
      ]
     },
     "metadata": {
      "needs_background": "light"
     },
     "output_type": "display_data"
    }
   ],
   "source": [
    "fig = plt.figure(figsize=(16,9))\n",
    "ax0 = fig.add_subplot(111)\n",
    "n_bins = 30\n",
    "#colors = ['red', 'blue', 'grey']\n",
    "x_multi = [new_table_300k_adam_joined[new_table_300k_adam_joined['1M_prediction']>0]['1M_prediction']]\n",
    "ax0.hist(x_multi, n_bins, histtype='bar')\n",
    "ax0.set_title('All TARA contigas, Tensorflow updated model with 100K training segments',fontsize=24)\n",
    "ax0.set_xlabel('score',fontsize=24)\n",
    "ax0.tick_params(labelsize=20)\n",
    "ax0.set_ylabel('number of contigs',fontsize=24)\n",
    "\n"
   ]
  },
  {
   "cell_type": "markdown",
   "metadata": {},
   "source": [
    "## \"nonvirus\" TARA contigs, with updated model using 100K training segments "
   ]
  },
  {
   "cell_type": "code",
   "execution_count": 65,
   "metadata": {},
   "outputs": [
    {
     "data": {
      "text/plain": [
       "<matplotlib.legend.Legend at 0x2ac713ee0278>"
      ]
     },
     "execution_count": 65,
     "metadata": {},
     "output_type": "execute_result"
    },
    {
     "data": {
      "image/png": "[encoded data removed]",
      "text/plain": [
       "<Figure size 1152x648 with 1 Axes>"
      ]
     },
     "metadata": {
      "needs_background": "light"
     },
     "output_type": "display_data"
    }
   ],
   "source": [
    "fig = plt.figure(figsize=(16,9))\n",
    "ax0 = fig.add_subplot(111)\n",
    "n_bins = 100\n",
    "#colors = ['red', 'blue', 'grey']\n",
    "x_multi = [df_nonvirus[df_nonvirus['1M_prediction']>0]['1M_prediction']]\n",
    "ax0.hist(x_multi, n_bins, histtype='bar',  label=[\n",
    "                                                  'non-virus'],\n",
    "         color=['grey'])\n",
    "ax0.set_title('\"nonvirus\" TARA contigs >2K bps, Tensorflow updated model with 100K training segments',fontsize=24)\n",
    "ax0.set_xlabel('score',fontsize=24)\n",
    "ax0.tick_params(labelsize=20)\n",
    "ax0.set_ylabel('number of contigs',fontsize=24)\n",
    "ax0.legend(prop={'size': 24})"
   ]
  },
  {
   "cell_type": "markdown",
   "metadata": {},
   "source": [
    "## \"virus\" TARA contigs, with updated model using 100K training segments "
   ]
  },
  {
   "cell_type": "code",
   "execution_count": 66,
   "metadata": {},
   "outputs": [
    {
     "data": {
      "text/plain": [
       "<matplotlib.legend.Legend at 0x2ac6fb367278>"
      ]
     },
     "execution_count": 66,
     "metadata": {},
     "output_type": "execute_result"
    },
    {
     "data": {
      "image/png": "[encoded data removed]",
      "text/plain": [
       "<Figure size 1152x648 with 1 Axes>"
      ]
     },
     "metadata": {
      "needs_background": "light"
     },
     "output_type": "display_data"
    }
   ],
   "source": [
    "fig = plt.figure(figsize=(16,9))\n",
    "ax0 = fig.add_subplot(111)\n",
    "n_bins = 20\n",
    "#colors = ['red', 'blue', 'grey']\n",
    "x_multi = [df_virus[df_virus[\"1M_prediction\"]>0][\"1M_prediction\"]]\n",
    "ax0.hist(x_multi, n_bins, histtype='bar',  label=[\n",
    "                                                  'virus'],\n",
    "         color=['goldenrod'])\n",
    "ax0.set_title('\"virus\" TARA contigs >2K bps, Tensorflow updated model with 100K training segments',fontsize=24)\n",
    "ax0.set_xlabel('score',fontsize=24)\n",
    "ax0.tick_params(labelsize=20)\n",
    "ax0.set_ylabel('number of contigs',fontsize=24)\n",
    "ax0.legend(prop={'size': 24})"
   ]
  },
  {
   "cell_type": "code",
   "execution_count": null,
   "metadata": {},
   "outputs": [],
   "source": []
  },
  {
   "cell_type": "markdown",
   "metadata": {},
   "source": [
    "## Check the distribution of probability of same number of \"virus\", \"non-virus\", 'unknown\" contigs"
   ]
  },
  {
   "cell_type": "markdown",
   "metadata": {},
   "source": [
    "### Balanced data, same number of \"virus\" and \"non-virus\" contigs\n",
    "\n"
   ]
  },
  {
   "cell_type": "code",
   "execution_count": 67,
   "metadata": {},
   "outputs": [
    {
     "ename": "AttributeError",
     "evalue": "'DataFrame' object has no attribute 'adam_prediction'",
     "output_type": "error",
     "traceback": [
      "\u001b[0;31m---------------------------------------------------------------------------\u001b[0m",
      "\u001b[0;31mAttributeError\u001b[0m                            Traceback (most recent call last)",
      "\u001b[0;32m<ipython-input-67-672fccdbdbe0>\u001b[0m in \u001b[0;36m<module>\u001b[0;34m\u001b[0m\n\u001b[1;32m      3\u001b[0m \u001b[0mn_bins\u001b[0m \u001b[0;34m=\u001b[0m \u001b[0;36m10\u001b[0m\u001b[0;34m\u001b[0m\u001b[0m\n\u001b[1;32m      4\u001b[0m \u001b[0;31m#colors = ['red', 'blue', 'grey']\u001b[0m\u001b[0;34m\u001b[0m\u001b[0;34m\u001b[0m\u001b[0m\n\u001b[0;32m----> 5\u001b[0;31m \u001b[0mx_multi\u001b[0m \u001b[0;34m=\u001b[0m \u001b[0;34m[\u001b[0m\u001b[0mdf_nonvirus_subsample\u001b[0m\u001b[0;34m.\u001b[0m\u001b[0madam_prediction\u001b[0m\u001b[0;34m,\u001b[0m\u001b[0mdf_virus\u001b[0m\u001b[0;34m.\u001b[0m\u001b[0madam_prediction\u001b[0m\u001b[0;34m,\u001b[0m \u001b[0mdf_unknown_subsample\u001b[0m\u001b[0;34m.\u001b[0m\u001b[0madam_prediction\u001b[0m \u001b[0;34m]\u001b[0m\u001b[0;34m\u001b[0m\u001b[0m\n\u001b[0m\u001b[1;32m      6\u001b[0m \u001b[0max0\u001b[0m\u001b[0;34m.\u001b[0m\u001b[0mhist\u001b[0m\u001b[0;34m(\u001b[0m\u001b[0mx_multi\u001b[0m\u001b[0;34m,\u001b[0m \u001b[0mn_bins\u001b[0m\u001b[0;34m,\u001b[0m \u001b[0mhisttype\u001b[0m\u001b[0;34m=\u001b[0m\u001b[0;34m'bar'\u001b[0m\u001b[0;34m,\u001b[0m  \u001b[0mlabel\u001b[0m\u001b[0;34m=\u001b[0m\u001b[0;34m[\u001b[0m\u001b[0;34m'non-virus'\u001b[0m\u001b[0;34m,\u001b[0m\u001b[0;34m'virus'\u001b[0m\u001b[0;34m,\u001b[0m\u001b[0;34m'unknown'\u001b[0m\u001b[0;34m]\u001b[0m\u001b[0;34m,\u001b[0m\u001b[0mcolor\u001b[0m\u001b[0;34m=\u001b[0m\u001b[0;34m[\u001b[0m\u001b[0;34m'grey'\u001b[0m\u001b[0;34m,\u001b[0m \u001b[0;34m'goldenrod'\u001b[0m\u001b[0;34m,\u001b[0m \u001b[0;34m'green'\u001b[0m\u001b[0;34m]\u001b[0m\u001b[0;34m)\u001b[0m\u001b[0;34m\u001b[0m\u001b[0m\n\u001b[1;32m      7\u001b[0m \u001b[0max0\u001b[0m\u001b[0;34m.\u001b[0m\u001b[0mset_title\u001b[0m\u001b[0;34m(\u001b[0m\u001b[0;34m'On balanced subsets of TARA contigs, Tensorflow updated model with 100K training segments'\u001b[0m\u001b[0;34m,\u001b[0m\u001b[0mfontsize\u001b[0m\u001b[0;34m=\u001b[0m\u001b[0;36m24\u001b[0m\u001b[0;34m)\u001b[0m\u001b[0;34m\u001b[0m\u001b[0m\n",
      "\u001b[0;32m~/vica/miniconda/envs/vica/lib/python3.6/site-packages/pandas/core/generic.py\u001b[0m in \u001b[0;36m__getattr__\u001b[0;34m(self, name)\u001b[0m\n\u001b[1;32m   4374\u001b[0m             \u001b[0;32mif\u001b[0m \u001b[0mself\u001b[0m\u001b[0;34m.\u001b[0m\u001b[0m_info_axis\u001b[0m\u001b[0;34m.\u001b[0m\u001b[0m_can_hold_identifiers_and_holds_name\u001b[0m\u001b[0;34m(\u001b[0m\u001b[0mname\u001b[0m\u001b[0;34m)\u001b[0m\u001b[0;34m:\u001b[0m\u001b[0;34m\u001b[0m\u001b[0m\n\u001b[1;32m   4375\u001b[0m                 \u001b[0;32mreturn\u001b[0m \u001b[0mself\u001b[0m\u001b[0;34m[\u001b[0m\u001b[0mname\u001b[0m\u001b[0;34m]\u001b[0m\u001b[0;34m\u001b[0m\u001b[0m\n\u001b[0;32m-> 4376\u001b[0;31m             \u001b[0;32mreturn\u001b[0m \u001b[0mobject\u001b[0m\u001b[0;34m.\u001b[0m\u001b[0m__getattribute__\u001b[0m\u001b[0;34m(\u001b[0m\u001b[0mself\u001b[0m\u001b[0;34m,\u001b[0m \u001b[0mname\u001b[0m\u001b[0;34m)\u001b[0m\u001b[0;34m\u001b[0m\u001b[0m\n\u001b[0m\u001b[1;32m   4377\u001b[0m \u001b[0;34m\u001b[0m\u001b[0m\n\u001b[1;32m   4378\u001b[0m     \u001b[0;32mdef\u001b[0m \u001b[0m__setattr__\u001b[0m\u001b[0;34m(\u001b[0m\u001b[0mself\u001b[0m\u001b[0;34m,\u001b[0m \u001b[0mname\u001b[0m\u001b[0;34m,\u001b[0m \u001b[0mvalue\u001b[0m\u001b[0;34m)\u001b[0m\u001b[0;34m:\u001b[0m\u001b[0;34m\u001b[0m\u001b[0m\n",
      "\u001b[0;31mAttributeError\u001b[0m: 'DataFrame' object has no attribute 'adam_prediction'"
     ]
    },
    {
     "data": {
      "image/png": "[encoded data removed]",
      "text/plain": [
       "<Figure size 1152x648 with 1 Axes>"
      ]
     },
     "metadata": {
      "needs_background": "light"
     },
     "output_type": "display_data"
    }
   ],
   "source": [
    "fig = plt.figure(figsize=(16,9))\n",
    "ax0 = fig.add_subplot(111)\n",
    "n_bins = 10\n",
    "#colors = ['red', 'blue', 'grey']\n",
    "x_multi = [df_nonvirus_subsample.adam_prediction,df_virus.adam_prediction, df_unknown_subsample.adam_prediction ]\n",
    "ax0.hist(x_multi, n_bins, histtype='bar',  label=['non-virus','virus','unknown'],color=['grey', 'goldenrod', 'green'])\n",
    "ax0.set_title('On balanced subsets of TARA contigs, Tensorflow updated model with 100K training segments',fontsize=24)\n",
    "ax0.set_xlabel('score',fontsize=24)\n",
    "ax0.tick_params(labelsize=20)\n",
    "ax0.set_ylabel('number of contigs',fontsize=24)\n",
    "ax0.legend(prop={'size': 24})"
   ]
  },
  {
   "cell_type": "markdown",
   "metadata": {},
   "source": [
    "## Balanced TARA contigs (same number of \"virus\" and \"non-virus\")\n",
    "\n",
    "### comparing the updated model with 100K training segments and old model with 300K training segments"
   ]
  },
  {
   "cell_type": "code",
   "execution_count": null,
   "metadata": {},
   "outputs": [],
   "source": [
    "fig = plt.figure(figsize=(16,9))\n",
    "ax0 = fig.add_subplot(111)\n",
    "n_bins = 10\n",
    "#colors = ['red', 'blue', 'grey']\n",
    "x_multi = [df_nonvirus_subsample['300k_prediction'],df_nonvirus_subsample.adam_prediction,df_virus['300k_prediction'],\n",
    "           df_virus.adam_prediction,df_unknown_subsample['300k_prediction'],df_unknown_subsample.adam_prediction ]\n",
    "ax0.hist(x_multi, n_bins, histtype='bar',  label=['non-virus_old_300k','non-virus-updated_100k',\n",
    "                                                  'virus_old_300k','virus_updated_100k',\n",
    "                                                  'unknown_old_300k','unknown_updated_100k'],\n",
    "         color=['lightgrey','grey', 'wheat','goldenrod', 'lightgreen','green'])\n",
    "ax0.set_title('On balanced subsets of TARA contigs',fontsize=24)\n",
    "ax0.set_xlabel('score',fontsize=24)\n",
    "ax0.set_ylabel('number of contigs',fontsize=24)\n",
    "ax0.tick_params(labelsize=20)\n",
    "ax0.legend(prop={'size': 24})"
   ]
  },
  {
   "cell_type": "code",
   "execution_count": null,
   "metadata": {},
   "outputs": [],
   "source": []
  }
 ],
 "metadata": {
  "kernelspec": {
   "display_name": "VICA",
   "language": "python",
   "name": "vica"
  },
  "language_info": {
   "codemirror_mode": {
    "name": "ipython",
    "version": 3
   },
   "file_extension": ".py",
   "mimetype": "text/x-python",
   "name": "python",
   "nbconvert_exporter": "python",
   "pygments_lexer": "ipython3",
   "version": "3.6.6"
  }
 },
 "nbformat": 4,
 "nbformat_minor": 2
}
