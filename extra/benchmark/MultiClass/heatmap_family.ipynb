{
 "cells": [
  {
   "cell_type": "markdown",
   "metadata": {},
   "source": [
    "### Steps:\n",
    "\n",
    "1. convert Newick format tree to distance matrix\n",
    "2. use scipy. . get linkage matrix... from distance matrix\n",
    "3. use DendroHeatMap package to generate the figure...\n",
    "https://github.com/themantalope/pydendroheatmap\n",
    "\n"
   ]
  },
  {
   "cell_type": "code",
   "execution_count": 229,
   "metadata": {
    "collapsed": true
   },
   "outputs": [],
   "source": [
    "%matplotlib inline\n",
    "from ete3 import Tree"
   ]
  },
  {
   "cell_type": "code",
   "execution_count": 230,
   "metadata": {
    "collapsed": true
   },
   "outputs": [],
   "source": [
    "import scipy.cluster.hierarchy as sch\n",
    "import scipy.spatial.distance\n",
    "import matplotlib.pyplot as plt\n",
    "import numpy as np\n",
    "from itertools import combinations"
   ]
  },
  {
   "cell_type": "code",
   "execution_count": 231,
   "metadata": {
    "collapsed": true
   },
   "outputs": [],
   "source": [
    "tree = Tree('/Users/qingpeng/GoogleDrive/Development/Bitbucket/genelearn_paper/Script/family_newick.txt',format=1)\n",
    "leaves = tree.get_leaf_names()"
   ]
  },
  {
   "cell_type": "code",
   "execution_count": 232,
   "metadata": {
    "collapsed": false
   },
   "outputs": [],
   "source": [
    "tax_list_file = open(\"/Users/qingpeng/GoogleDrive/Development/Bitbucket/genelearn_paper/Script/all.vect.family.index.tax_id\",'r')\n",
    "idx_dict = {}\n",
    "k = 0\n",
    "for line in tax_list_file:\n",
    "    line = line.rstrip()\n",
    "    idx_dict[line] = k\n",
    "    k += 1\n",
    "    \n",
    "    \n",
    "\n",
    "idx_labels = [idx_dict.keys()[idx_dict.values().index(i)] for i in range(0, len(idx_dict))]"
   ]
  },
  {
   "cell_type": "code",
   "execution_count": 233,
   "metadata": {
    "collapsed": false
   },
   "outputs": [
    {
     "data": {
      "text/plain": [
       "811"
      ]
     },
     "execution_count": 233,
     "metadata": {},
     "output_type": "execute_result"
    }
   ],
   "source": [
    "len(idx_labels)"
   ]
  },
  {
   "cell_type": "code",
   "execution_count": 17,
   "metadata": {
    "collapsed": false
   },
   "outputs": [
    {
     "data": {
      "text/plain": [
       "15.0"
      ]
     },
     "execution_count": 17,
     "metadata": {},
     "output_type": "execute_result"
    }
   ],
   "source": [
    "tree.get_distance('3173','4710')"
   ]
  },
  {
   "cell_type": "code",
   "execution_count": null,
   "metadata": {
    "collapsed": false
   },
   "outputs": [],
   "source": [
    "dmat = np.zeros((811,811))\n",
    "k = 0\n",
    "for l1 in leaves:\n",
    "    for l2 in leaves:\n",
    "        if l2 != l1:\n",
    "            \n",
    "\n",
    "            d = tree.get_distance(l1,l2)\n",
    "        #if l1 in idx_dict and l2 in idx_dict:\n",
    "            dmat[idx_dict[l1],idx_dict[l2]] = dmat[idx_dict[l2],idx_dict[l1]] = d\n",
    "     #   else:\n",
    "      #      print l1,l2\n",
    "    print l1,k\n",
    "    k += 1\n",
    "print 'Distance:'\n",
    "print dmat"
   ]
  },
  {
   "cell_type": "code",
   "execution_count": 21,
   "metadata": {
    "collapsed": false
   },
   "outputs": [
    {
     "data": {
      "text/plain": [
       "811"
      ]
     },
     "execution_count": 21,
     "metadata": {},
     "output_type": "execute_result"
    }
   ],
   "source": [
    "len(dmat)"
   ]
  },
  {
   "cell_type": "code",
   "execution_count": 39,
   "metadata": {
    "collapsed": true
   },
   "outputs": [],
   "source": [
    "np.savetxt(\"family_dmat.txt\",dmat)"
   ]
  },
  {
   "cell_type": "code",
   "execution_count": 120,
   "metadata": {
    "collapsed": false
   },
   "outputs": [
    {
     "name": "stdout",
     "output_type": "stream",
     "text": [
      "Linkage from scipy:\n",
      "[[    0.           477.             0.             2.        ]\n",
      " [    5.             7.             2.             2.        ]\n",
      " [    8.            11.             2.             2.        ]\n",
      " ..., \n",
      " [ 1616.          1617.            27.40509389   523.        ]\n",
      " [ 1609.          1615.            27.42231884   288.        ]\n",
      " [ 1618.          1619.            32.4539914    811.        ]]\n"
     ]
    }
   ],
   "source": [
    "schlink = sch.linkage(scipy.spatial.distance.squareform(dmat),method='average',metric='euclidean')\n",
    "\n",
    "print 'Linkage from scipy:'\n",
    "print schlink"
   ]
  },
  {
   "cell_type": "code",
   "execution_count": 234,
   "metadata": {
    "collapsed": true
   },
   "outputs": [],
   "source": [
    "import pydendroheatmap as pdh"
   ]
  },
  {
   "cell_type": "code",
   "execution_count": 235,
   "metadata": {
    "collapsed": true
   },
   "outputs": [],
   "source": [
    "import pandas as pd"
   ]
  },
  {
   "cell_type": "code",
   "execution_count": 236,
   "metadata": {
    "collapsed": true
   },
   "outputs": [],
   "source": [
    "matrix = pd.read_csv('../../Pipeline/MultiClass/Family/matrix.txt',sep = '\\s+',header=None)"
   ]
  },
  {
   "cell_type": "code",
   "execution_count": 237,
   "metadata": {
    "collapsed": true
   },
   "outputs": [],
   "source": [
    "df2 = matrix.div(matrix.sum(axis=1),axis=0)"
   ]
  },
  {
   "cell_type": "code",
   "execution_count": 238,
   "metadata": {
    "collapsed": true
   },
   "outputs": [],
   "source": [
    "data = df2.values"
   ]
  },
  {
   "cell_type": "code",
   "execution_count": 239,
   "metadata": {
    "collapsed": false
   },
   "outputs": [
    {
     "data": {
      "text/plain": [
       "811"
      ]
     },
     "execution_count": 239,
     "metadata": {},
     "output_type": "execute_result"
    }
   ],
   "source": [
    "len(data)"
   ]
  },
  {
   "cell_type": "code",
   "execution_count": 240,
   "metadata": {
    "collapsed": true
   },
   "outputs": [],
   "source": [
    "row_idxing = sch.leaves_list(schlink)\n",
    "col_idxing = sch.leaves_list(schlink)"
   ]
  },
  {
   "cell_type": "code",
   "execution_count": 126,
   "metadata": {
    "collapsed": true
   },
   "outputs": [],
   "source": [
    "s = pd.Series(col_idxing)"
   ]
  },
  {
   "cell_type": "code",
   "execution_count": 127,
   "metadata": {
    "collapsed": false
   },
   "outputs": [],
   "source": [
    "d = pd.DataFrame({'family':s})"
   ]
  },
  {
   "cell_type": "code",
   "execution_count": 164,
   "metadata": {
    "collapsed": false
   },
   "outputs": [],
   "source": [
    "leaves_np = np.array(leaves, dtype='i')"
   ]
  },
  {
   "cell_type": "code",
   "execution_count": 176,
   "metadata": {
    "collapsed": false
   },
   "outputs": [
    {
     "data": {
      "text/plain": [
       "810"
      ]
     },
     "execution_count": 176,
     "metadata": {},
     "output_type": "execute_result"
    }
   ],
   "source": [
    "len(leaves_np)"
   ]
  },
  {
   "cell_type": "code",
   "execution_count": 167,
   "metadata": {
    "collapsed": false
   },
   "outputs": [],
   "source": [
    "leaves_pd = pd.DataFrame({'real_tax_id':pd.Series(leaves_np)})"
   ]
  },
  {
   "cell_type": "code",
   "execution_count": 169,
   "metadata": {
    "collapsed": false
   },
   "outputs": [],
   "source": [
    "out = pd.merge(leaves_pd,group,how='left',on=['real_tax_id'])"
   ]
  },
  {
   "cell_type": "code",
   "execution_count": 191,
   "metadata": {
    "collapsed": false
   },
   "outputs": [],
   "source": []
  },
  {
   "cell_type": "code",
   "execution_count": 197,
   "metadata": {
    "collapsed": true
   },
   "outputs": [],
   "source": [
    "matrix = {'group':pd.Series(['euk','bact','arch','virus']),'family_group':pd.Series(['--------','-----','---','-'])}"
   ]
  },
  {
   "cell_type": "code",
   "execution_count": 198,
   "metadata": {
    "collapsed": true
   },
   "outputs": [],
   "source": [
    "matrix_df = pd.DataFrame(matrix)"
   ]
  },
  {
   "cell_type": "code",
   "execution_count": 199,
   "metadata": {
    "collapsed": false
   },
   "outputs": [
    {
     "data": {
      "text/html": [
       "<div>\n",
       "<table border=\"1\" class=\"dataframe\">\n",
       "  <thead>\n",
       "    <tr style=\"text-align: right;\">\n",
       "      <th></th>\n",
       "      <th>family_group</th>\n",
       "      <th>group</th>\n",
       "    </tr>\n",
       "  </thead>\n",
       "  <tbody>\n",
       "    <tr>\n",
       "      <th>0</th>\n",
       "      <td>--------</td>\n",
       "      <td>euk</td>\n",
       "    </tr>\n",
       "    <tr>\n",
       "      <th>1</th>\n",
       "      <td>-----</td>\n",
       "      <td>bact</td>\n",
       "    </tr>\n",
       "    <tr>\n",
       "      <th>2</th>\n",
       "      <td>---</td>\n",
       "      <td>arch</td>\n",
       "    </tr>\n",
       "    <tr>\n",
       "      <th>3</th>\n",
       "      <td>-</td>\n",
       "      <td>virus</td>\n",
       "    </tr>\n",
       "  </tbody>\n",
       "</table>\n",
       "</div>"
      ],
      "text/plain": [
       "  family_group  group\n",
       "0     --------    euk\n",
       "1        -----   bact\n",
       "2          ---   arch\n",
       "3            -  virus"
      ]
     },
     "execution_count": 199,
     "metadata": {},
     "output_type": "execute_result"
    }
   ],
   "source": [
    "matrix_df"
   ]
  },
  {
   "cell_type": "code",
   "execution_count": 178,
   "metadata": {
    "collapsed": true
   },
   "outputs": [],
   "source": [
    "out2= pd.merge(out,family,how='left',on=['real_tax_id'])"
   ]
  },
  {
   "cell_type": "code",
   "execution_count": 200,
   "metadata": {
    "collapsed": true
   },
   "outputs": [],
   "source": [
    "out3 = pd.merge(out2,matrix_df,how='left',on=['group'])"
   ]
  },
  {
   "cell_type": "code",
   "execution_count": 210,
   "metadata": {
    "collapsed": false
   },
   "outputs": [
    {
     "name": "stdout",
     "output_type": "stream",
     "text": [
      "height has been deprecated.\n",
      "\n"
     ]
    }
   ],
   "source": [
    "pd.set_option('display.height', 1000)\n",
    "pd.set_option('display.max_rows', 1000)"
   ]
  },
  {
   "cell_type": "code",
   "execution_count": 206,
   "metadata": {
    "collapsed": false
   },
   "outputs": [],
   "source": [
    "group_label = out3['family_group']"
   ]
  },
  {
   "cell_type": "code",
   "execution_count": 204,
   "metadata": {
    "collapsed": false
   },
   "outputs": [],
   "source": [
    "out2_family = out2['family']"
   ]
  },
  {
   "cell_type": "code",
   "execution_count": 129,
   "metadata": {
    "collapsed": true
   },
   "outputs": [],
   "source": [
    "family = pd.read_csv(\"../../Pipeline/MultiClass/all.vect.family.index\", sep=\" \",names = ['family','real_tax_id'])"
   ]
  },
  {
   "cell_type": "code",
   "execution_count": 131,
   "metadata": {
    "collapsed": false
   },
   "outputs": [],
   "source": [
    "new_leaf_order = pd.merge(d,family,how='left',on=['family'])"
   ]
  },
  {
   "cell_type": "code",
   "execution_count": 152,
   "metadata": {
    "collapsed": true
   },
   "outputs": [],
   "source": [
    "group = pd.read_csv(\"../../Pipeline/MultiClass/family_group.list\", sep=\" \",names = ['real_tax_id','group'])"
   ]
  },
  {
   "cell_type": "code",
   "execution_count": 135,
   "metadata": {
    "collapsed": true
   },
   "outputs": [],
   "source": [
    "tax_id_group = pd.merge(new_leaf_order,group,how='left',on=['real_tax_id'])"
   ]
  },
  {
   "cell_type": "code",
   "execution_count": 140,
   "metadata": {
    "collapsed": true
   },
   "outputs": [],
   "source": [
    "pd.set_option('display.max_rows', 100)"
   ]
  },
  {
   "cell_type": "code",
   "execution_count": 173,
   "metadata": {
    "collapsed": true
   },
   "outputs": [],
   "source": [
    "# from conversion\n",
    "\n",
    "data_scipy = data[:,col_idxing][row_idxing,:]"
   ]
  },
  {
   "cell_type": "code",
   "execution_count": 183,
   "metadata": {
    "collapsed": false
   },
   "outputs": [],
   "source": [
    "data_ete = data[:,out2_family][out2_family,:]\n"
   ]
  },
  {
   "cell_type": "code",
   "execution_count": 241,
   "metadata": {
    "collapsed": false
   },
   "outputs": [
    {
     "data": {
      "text/plain": [
       "array([[ 0.10404624,  0.        ,  0.        , ...,  0.        ,\n",
       "         0.        ,  0.        ],\n",
       "       [ 0.03571429,  0.        ,  0.00595238, ...,  0.        ,\n",
       "         0.        ,  0.        ],\n",
       "       [ 0.01038961,  0.0025974 ,  0.01818182, ...,  0.        ,\n",
       "         0.        ,  0.        ],\n",
       "       ..., \n",
       "       [ 0.        ,  0.        ,  0.        , ...,  0.91623037,\n",
       "         0.        ,  0.        ],\n",
       "       [ 0.        ,  0.        ,  0.        , ...,  0.        ,\n",
       "         1.        ,  0.        ],\n",
       "       [ 0.        ,  0.        ,  0.        , ...,  0.        ,\n",
       "         0.        ,  0.66896552]])"
      ]
     },
     "execution_count": 241,
     "metadata": {},
     "output_type": "execute_result"
    }
   ],
   "source": [
    "data_ete"
   ]
  },
  {
   "cell_type": "code",
   "execution_count": 293,
   "metadata": {
    "collapsed": true
   },
   "outputs": [],
   "source": [
    "data_ete_zoom = data_ete[520:,520:]"
   ]
  },
  {
   "cell_type": "code",
   "execution_count": 294,
   "metadata": {
    "collapsed": false
   },
   "outputs": [
    {
     "data": {
      "text/plain": [
       "array([[ 0.        ,  0.27      ,  0.        , ...,  0.        ,\n",
       "         0.        ,  0.        ],\n",
       "       [ 0.        ,  0.72151899,  0.0464135 , ...,  0.        ,\n",
       "         0.        ,  0.        ],\n",
       "       [ 0.        ,  0.02076677,  0.21405751, ...,  0.        ,\n",
       "         0.        ,  0.        ],\n",
       "       ..., \n",
       "       [ 0.        ,  0.        ,  0.        , ...,  0.91623037,\n",
       "         0.        ,  0.        ],\n",
       "       [ 0.        ,  0.        ,  0.        , ...,  0.        ,\n",
       "         1.        ,  0.        ],\n",
       "       [ 0.        ,  0.        ,  0.        , ...,  0.        ,\n",
       "         0.        ,  0.66896552]])"
      ]
     },
     "execution_count": 294,
     "metadata": {},
     "output_type": "execute_result"
    }
   ],
   "source": [
    "data_ete_zoom"
   ]
  },
  {
   "cell_type": "code",
   "execution_count": 251,
   "metadata": {
    "collapsed": false
   },
   "outputs": [],
   "source": [
    "row = [0] *(len(data_ete))"
   ]
  },
  {
   "cell_type": "code",
   "execution_count": 261,
   "metadata": {
    "collapsed": false
   },
   "outputs": [],
   "source": [
    "diag =np.array([row]*5,dtype=np.float)"
   ]
  },
  {
   "cell_type": "code",
   "execution_count": 262,
   "metadata": {
    "collapsed": false
   },
   "outputs": [
    {
     "data": {
      "text/plain": [
       "array([[ 0.,  0.,  0., ...,  0.,  0.,  0.],\n",
       "       [ 0.,  0.,  0., ...,  0.,  0.,  0.],\n",
       "       [ 0.,  0.,  0., ...,  0.,  0.,  0.],\n",
       "       [ 0.,  0.,  0., ...,  0.,  0.,  0.],\n",
       "       [ 0.,  0.,  0., ...,  0.,  0.,  0.]])"
      ]
     },
     "execution_count": 262,
     "metadata": {},
     "output_type": "execute_result"
    }
   ],
   "source": [
    "diag"
   ]
  },
  {
   "cell_type": "code",
   "execution_count": 263,
   "metadata": {
    "collapsed": true
   },
   "outputs": [],
   "source": [
    "for i in range(len(data_ete)):\n",
    "    for k in range(5):\n",
    "        diag[k][i] = data_ete[i][i]"
   ]
  },
  {
   "cell_type": "code",
   "execution_count": 264,
   "metadata": {
    "collapsed": false
   },
   "outputs": [
    {
     "data": {
      "text/plain": [
       "array([[ 0.10404624,  0.        ,  0.01818182, ...,  0.91623037,\n",
       "         1.        ,  0.66896552],\n",
       "       [ 0.10404624,  0.        ,  0.01818182, ...,  0.91623037,\n",
       "         1.        ,  0.66896552],\n",
       "       [ 0.10404624,  0.        ,  0.01818182, ...,  0.91623037,\n",
       "         1.        ,  0.66896552],\n",
       "       [ 0.10404624,  0.        ,  0.01818182, ...,  0.91623037,\n",
       "         1.        ,  0.66896552],\n",
       "       [ 0.10404624,  0.        ,  0.01818182, ...,  0.91623037,\n",
       "         1.        ,  0.66896552]])"
      ]
     },
     "execution_count": 264,
     "metadata": {},
     "output_type": "execute_result"
    }
   ],
   "source": [
    "diag"
   ]
  },
  {
   "cell_type": "code",
   "execution_count": 265,
   "metadata": {
    "collapsed": true
   },
   "outputs": [],
   "source": [
    "diag_df= pd.DataFrame(diag,columns=group_label)"
   ]
  },
  {
   "cell_type": "code",
   "execution_count": 266,
   "metadata": {
    "collapsed": false
   },
   "outputs": [
    {
     "data": {
      "text/html": [
       "<div>\n",
       "<table border=\"1\" class=\"dataframe\">\n",
       "  <thead>\n",
       "    <tr style=\"text-align: right;\">\n",
       "      <th>family_group</th>\n",
       "      <th>--------</th>\n",
       "      <th>--------</th>\n",
       "      <th>--------</th>\n",
       "      <th>--------</th>\n",
       "      <th>--------</th>\n",
       "      <th>--------</th>\n",
       "      <th>--------</th>\n",
       "      <th>--------</th>\n",
       "      <th>--------</th>\n",
       "      <th>--------</th>\n",
       "      <th>...</th>\n",
       "      <th>-</th>\n",
       "      <th>-</th>\n",
       "      <th>-</th>\n",
       "      <th>-</th>\n",
       "      <th>-</th>\n",
       "      <th>-</th>\n",
       "      <th>-</th>\n",
       "      <th>-</th>\n",
       "      <th>-</th>\n",
       "      <th>-</th>\n",
       "    </tr>\n",
       "  </thead>\n",
       "  <tbody>\n",
       "    <tr>\n",
       "      <th>0</th>\n",
       "      <td>0.104046</td>\n",
       "      <td>0.0</td>\n",
       "      <td>0.018182</td>\n",
       "      <td>0.0</td>\n",
       "      <td>0.16568</td>\n",
       "      <td>0.0</td>\n",
       "      <td>0.014493</td>\n",
       "      <td>0.0</td>\n",
       "      <td>0.0</td>\n",
       "      <td>0.015094</td>\n",
       "      <td>...</td>\n",
       "      <td>1.0</td>\n",
       "      <td>1.0</td>\n",
       "      <td>0.998951</td>\n",
       "      <td>0.947644</td>\n",
       "      <td>1.0</td>\n",
       "      <td>0.988685</td>\n",
       "      <td>0.927512</td>\n",
       "      <td>0.91623</td>\n",
       "      <td>1.0</td>\n",
       "      <td>0.668966</td>\n",
       "    </tr>\n",
       "    <tr>\n",
       "      <th>1</th>\n",
       "      <td>0.104046</td>\n",
       "      <td>0.0</td>\n",
       "      <td>0.018182</td>\n",
       "      <td>0.0</td>\n",
       "      <td>0.16568</td>\n",
       "      <td>0.0</td>\n",
       "      <td>0.014493</td>\n",
       "      <td>0.0</td>\n",
       "      <td>0.0</td>\n",
       "      <td>0.015094</td>\n",
       "      <td>...</td>\n",
       "      <td>1.0</td>\n",
       "      <td>1.0</td>\n",
       "      <td>0.998951</td>\n",
       "      <td>0.947644</td>\n",
       "      <td>1.0</td>\n",
       "      <td>0.988685</td>\n",
       "      <td>0.927512</td>\n",
       "      <td>0.91623</td>\n",
       "      <td>1.0</td>\n",
       "      <td>0.668966</td>\n",
       "    </tr>\n",
       "    <tr>\n",
       "      <th>2</th>\n",
       "      <td>0.104046</td>\n",
       "      <td>0.0</td>\n",
       "      <td>0.018182</td>\n",
       "      <td>0.0</td>\n",
       "      <td>0.16568</td>\n",
       "      <td>0.0</td>\n",
       "      <td>0.014493</td>\n",
       "      <td>0.0</td>\n",
       "      <td>0.0</td>\n",
       "      <td>0.015094</td>\n",
       "      <td>...</td>\n",
       "      <td>1.0</td>\n",
       "      <td>1.0</td>\n",
       "      <td>0.998951</td>\n",
       "      <td>0.947644</td>\n",
       "      <td>1.0</td>\n",
       "      <td>0.988685</td>\n",
       "      <td>0.927512</td>\n",
       "      <td>0.91623</td>\n",
       "      <td>1.0</td>\n",
       "      <td>0.668966</td>\n",
       "    </tr>\n",
       "    <tr>\n",
       "      <th>3</th>\n",
       "      <td>0.104046</td>\n",
       "      <td>0.0</td>\n",
       "      <td>0.018182</td>\n",
       "      <td>0.0</td>\n",
       "      <td>0.16568</td>\n",
       "      <td>0.0</td>\n",
       "      <td>0.014493</td>\n",
       "      <td>0.0</td>\n",
       "      <td>0.0</td>\n",
       "      <td>0.015094</td>\n",
       "      <td>...</td>\n",
       "      <td>1.0</td>\n",
       "      <td>1.0</td>\n",
       "      <td>0.998951</td>\n",
       "      <td>0.947644</td>\n",
       "      <td>1.0</td>\n",
       "      <td>0.988685</td>\n",
       "      <td>0.927512</td>\n",
       "      <td>0.91623</td>\n",
       "      <td>1.0</td>\n",
       "      <td>0.668966</td>\n",
       "    </tr>\n",
       "    <tr>\n",
       "      <th>4</th>\n",
       "      <td>0.104046</td>\n",
       "      <td>0.0</td>\n",
       "      <td>0.018182</td>\n",
       "      <td>0.0</td>\n",
       "      <td>0.16568</td>\n",
       "      <td>0.0</td>\n",
       "      <td>0.014493</td>\n",
       "      <td>0.0</td>\n",
       "      <td>0.0</td>\n",
       "      <td>0.015094</td>\n",
       "      <td>...</td>\n",
       "      <td>1.0</td>\n",
       "      <td>1.0</td>\n",
       "      <td>0.998951</td>\n",
       "      <td>0.947644</td>\n",
       "      <td>1.0</td>\n",
       "      <td>0.988685</td>\n",
       "      <td>0.927512</td>\n",
       "      <td>0.91623</td>\n",
       "      <td>1.0</td>\n",
       "      <td>0.668966</td>\n",
       "    </tr>\n",
       "  </tbody>\n",
       "</table>\n",
       "<p>5 rows × 810 columns</p>\n",
       "</div>"
      ],
      "text/plain": [
       "family_group  --------  --------  --------  --------  --------  --------  \\\n",
       "0             0.104046       0.0  0.018182       0.0   0.16568       0.0   \n",
       "1             0.104046       0.0  0.018182       0.0   0.16568       0.0   \n",
       "2             0.104046       0.0  0.018182       0.0   0.16568       0.0   \n",
       "3             0.104046       0.0  0.018182       0.0   0.16568       0.0   \n",
       "4             0.104046       0.0  0.018182       0.0   0.16568       0.0   \n",
       "\n",
       "family_group  --------  --------  --------  --------    ...       -    -  \\\n",
       "0             0.014493       0.0       0.0  0.015094    ...     1.0  1.0   \n",
       "1             0.014493       0.0       0.0  0.015094    ...     1.0  1.0   \n",
       "2             0.014493       0.0       0.0  0.015094    ...     1.0  1.0   \n",
       "3             0.014493       0.0       0.0  0.015094    ...     1.0  1.0   \n",
       "4             0.014493       0.0       0.0  0.015094    ...     1.0  1.0   \n",
       "\n",
       "family_group         -         -    -         -         -        -    -  \\\n",
       "0             0.998951  0.947644  1.0  0.988685  0.927512  0.91623  1.0   \n",
       "1             0.998951  0.947644  1.0  0.988685  0.927512  0.91623  1.0   \n",
       "2             0.998951  0.947644  1.0  0.988685  0.927512  0.91623  1.0   \n",
       "3             0.998951  0.947644  1.0  0.988685  0.927512  0.91623  1.0   \n",
       "4             0.998951  0.947644  1.0  0.988685  0.927512  0.91623  1.0   \n",
       "\n",
       "family_group         -  \n",
       "0             0.668966  \n",
       "1             0.668966  \n",
       "2             0.668966  \n",
       "3             0.668966  \n",
       "4             0.668966  \n",
       "\n",
       "[5 rows x 810 columns]"
      ]
     },
     "execution_count": 266,
     "metadata": {},
     "output_type": "execute_result"
    }
   ],
   "source": [
    "diag_df"
   ]
  },
  {
   "cell_type": "code",
   "execution_count": 275,
   "metadata": {
    "collapsed": false
   },
   "outputs": [
    {
     "data": {
      "image/png": "[encoded data removed]",
      "text/plain": [
       "<matplotlib.figure.Figure at 0x1b7814b50>"
      ]
     },
     "metadata": {},
     "output_type": "display_data"
    }
   ],
   "source": [
    "fig, ax = plt.subplots(figsize= (18,1))\n",
    "heat_plot = sns.heatmap(diag_df,xticklabels=True,yticklabels=False,cmap = plt.cm.viridis)"
   ]
  },
  {
   "cell_type": "code",
   "execution_count": 276,
   "metadata": {
    "collapsed": false
   },
   "outputs": [],
   "source": [
    "fig.savefig(\"heatmap_family_diagonal.png\")"
   ]
  },
  {
   "cell_type": "code",
   "execution_count": 296,
   "metadata": {
    "collapsed": false
   },
   "outputs": [],
   "source": [
    "data_ete_zoom_df = pd.DataFrame(data_ete_zoom,index=group_label[520:],columns=group_label[520:])"
   ]
  },
  {
   "cell_type": "code",
   "execution_count": 302,
   "metadata": {
    "collapsed": false
   },
   "outputs": [
    {
     "data": {
      "image/png": "[encoded data removed]",
      "text/plain": [
       "<matplotlib.figure.Figure at 0x1522e6d10>"
      ]
     },
     "metadata": {},
     "output_type": "display_data"
    }
   ],
   "source": [
    "fig, ax = plt.subplots(figsize= (18,16))\n",
    "heat_plot = sns.heatmap(data_ete_zoom_df,xticklabels=True,yticklabels=True,cmap = plt.cm.magma)"
   ]
  },
  {
   "cell_type": "code",
   "execution_count": 304,
   "metadata": {
    "collapsed": true
   },
   "outputs": [],
   "source": [
    "fig.savefig(\"heatmap_family_zoom_plant_cutoff_magma.pdf\")"
   ]
  },
  {
   "cell_type": "code",
   "execution_count": 207,
   "metadata": {
    "collapsed": true
   },
   "outputs": [],
   "source": [
    "ete_df = pd.DataFrame(data_ete,index=group_label,columns=group_label)"
   ]
  },
  {
   "cell_type": "code",
   "execution_count": 287,
   "metadata": {
    "collapsed": false
   },
   "outputs": [],
   "source": [
    "string=\"\"\"\"Lipothrixviridae Alloherpesviridae Herpesviridae\n",
    "Siphoviridae\n",
    "Myoviridae\n",
    "Podoviridae\n",
    "Rhabdoviridae Paramyxoviridae\n",
    "Filoviridae\n",
    "Coronaviridae\n",
    "Secoviridae\n",
    "Picornaviridae Dicistroviridae Alphaflexiviridae Betaflexiviridae Tymoviridae Nitrosopumilaceae Sulfolobaceae Thermoproteaceae Pyrodictiaceae Desulfurococcaceae Methanobacteriaceae Archaeoglobaceae Thermococcaceae Ferroplasmaceae Methanomassiliicoccaceae Methanococcaceae Methanocaldococcaceae Halobacteriaceae Haloferacaceae Natrialbaceae Methanosarcinaceae Methanomicrobiaceae Methanoregulaceae Nitrospiraceae Synergistaceae Deferribacteraceae Spirochaetaceae Chrysiogenaceae Thermodesulfobacteriaceae Fusobacteriaceae Leptotrichiaceae Holophagaceae Acidobacteriaceae Desulfurobacteriaceae Aquificaceae Hydrogenothermaceae Kosmotogaceae Thermotogaceae Fervidobacteriaceae Planctomycetaceae Verrucomicrobiaceae Opitutaceae Parachlamydiaceae Chlamydiaceae Chlorobiaceae Sphingobacteriaceae Rhodothermaceae Chitinophagaceae Saprospiraceae Flavobacteriaceae Cryomorphaceae Amoebophilaceae Cytophagaceae Flammeovirgaceae Cyclobacteriaceae Porphyromonadaceae Prolixibacteraceae Prevotellaceae Marinilabiliaceae Rikenellaceae\n",
    "Thermaceae\n",
    "Sphaerobacteraceae\n",
    "Rivulariaceae\n",
    "Nostocaceae\n",
    "Microchaetaceae\n",
    "Acholeplasmataceae\n",
    "Entomoplasmataceae\n",
    "Mycoplasmataceae\n",
    "Acidimicrobiaceae\n",
    "Eggerthellaceae\n",
    "Coriobacteriaceae\n",
    "Atopobiaceae\n",
    "Micromonosporaceae\n",
    "Pseudonocardiaceae\n",
    "Actinomycetaceae\n",
    "Glycomycetaceae\n",
    "Geodermatophilaceae\n",
    "Streptomycetaceae\n",
    "Bifidobacteriaceae\n",
    "Nocardioidaceae\n",
    "Propionibacteriaceae\n",
    "Nocardiopsaceae\n",
    "Streptosporangiaceae\n",
    "Thermomonosporaceae\n",
    "Nocardiaceae\n",
    "Corynebacteriaceae\n",
    "Mycobacteriaceae\n",
    "Promicromonosporaceae\n",
    "Dermacoccaceae\n",
    "Dermabacteraceae\n",
    "Micrococcaceae\n",
    "Dermatophilaceae\n",
    "Microbacteriaceae\n",
    "Intrasporangiaceae\n",
    "Cellulomonadaceae\n",
    "Peptoniphilaceae\n",
    "Erysipelotrichaceae\n",
    "Acidaminococcaceae\n",
    "Veillonellaceae\n",
    "Halanaerobiaceae\n",
    "Halobacteroidaceae\n",
    "Thermoanaerobacterales Family III Incertae Sedis Thermodesulfobiaceae Thermoanaerobacteraceae\n",
    "Clostridiaceae\n",
    "Lachnospiraceae\n",
    "Peptococcaceae Syntrophomonadaceae Peptostreptococcaceae Ruminococcaceae\n",
    "Eubacteriaceae\n",
    "Clostridiales Family XIII Incertae Sedis Clostridiales Family XVII Incertae Sedis Aerococcaceae\n",
    "Enterococcaceae Carnobacteriaceae Leuconostocaceae Streptococcaceae Lactobacillaceae Bacillaceae Paenibacillaceae Thermoactinomycetaceae Staphylococcaceae Alicyclobacillaceae Listeriaceae Planococcaceae Sporolactobacillaceae Gallionellaceae Hydrogenophilaceae Methylophilaceae Rhodocyclaceae Nitrosomonadaceae Chromobacteriaceae Neisseriaceae Alcaligenaceae Sutterellaceae Oxalobacteraceae Comamonadaceae Burkholderiaceae Nautiliaceae Campylobacteraceae Helicobacteraceae Geobacteraceae Syntrophaceae Desulfurellaceae Desulfobacteraceae Desulfobulbaceae Desulfovibrionaceae Desulfohalobiaceae Polyangiaceae Myxococcaceae Cystobacteraceae Caulobacteraceae Anaplasmataceae Rickettsiaceae Sphingomonadaceae Erythrobacteraceae Acetobacteraceae Rhodospirillaceae Hyphomonadaceae Rhodobacteraceae Rhodobiaceae Xanthobacteraceae Hyphomicrobiaceae Aurantimonadaceae Brucellaceae Phyllobacteriaceae Methylocystaceae Rhizobiaceae Methylobacteriaceae Beijerinckiaceae Bradyrhizobiaceae Methylococcaceae Sinobacteraceae Cardiobacteriaceae Xanthomonadaceae Enterobacteriaceae Pasteurellaceae Vibrionaceae\n",
    "Orbaceae\n",
    "Moraxellaceae Pseudomonadaceae Ectothiorhodospiraceae Chromatiaceae Piscirickettsiaceae Thiotrichaceae Coxiellaceae Legionellaceae Aeromonadaceae Succinivibrionaceae Colwelliaceae Pseudoalteromonadaceae Alteromonadaceae Alcanivoracaceae Oceanospirillaceae Halomonadaceae Hahellaceae\n",
    "Euglenaceae Trypanosomatidae Gracilariaceae Bangiaceae\n",
    "Cyanidiaceae Peridiniaceae Sarcocystidae Haemoproteidae Saprolegniaceae Chattonellaceae Sargassaceae Scytosiphonaceae Laminariaceae Thalassiosiraceae Fragilariaceae Bacillariaceae Bathycoccaceae Chlorellaceae Neochloridaceae Selenastraceae Chlamydomonadaceae Volvocaceae Klebsormidiaceae Characeae Zygnemataceae Mesotaeniaceae Orthotrichaceae Funariaceae Grimmiaceae Lycopodiaceae Pteridaceae Ophioglossaceae Cycadaceae\n",
    "Zamiaceae\n",
    "Pinaceae\n",
    "Cupressaceae\n",
    "Taxaceae\n",
    "Araucariaceae Podocarpaceae Nymphaeaceae Magnoliaceae\n",
    "Araceae Hydrocharitaceae Orchidaceae Zingiberaceae\n",
    "Poaceae\n",
    "Arecaceae\n",
    "Melanthiaceae\n",
    "Liliaceae Alstroemeriaceae Trochodendraceae Ranunculaceae Berberidaceae Amaranthaceae Caryophyllaceae Primulaceae Campanulaceae Asteraceae\n",
    "Apiaceae\n",
    "Araliaceae\n",
    "Apocynaceae Convolvulaceae Solanaceae Lentibulariaceae Lamiaceae\n",
    "Oleaceae\n",
    "Orobanchaceae Brassicaceae\n",
    "Malvaceae\n",
    "Myrtaceae\n",
    "Geraniaceae Melianthaceae\n",
    "Fabaceae\n",
    "Rosaceae\n",
    "Cucurbitaceae\n",
    "Fagaceae\n",
    "Salicaceae Euphorbiaceae Chrysobalanaceae Blastocladiaceae Gigasporaceae Glomeraceae Ustilaginaceae Tremellaceae\n",
    "Coriolaceae Polyporaceae Dipodascaceae Phaffomycetaceae Saccharomycetaceae Debaryomycetaceae Pichiaceae\n",
    "Orbiliaceae Pleosporaceae Mycosphaerellaceae Herpotrichiellaceae Aspergillaceae Ajellomycetaceae Arthrodermataceae Sclerotiniaceae Cordycipitaceae Clavicipitaceae Magnaporthaceae Sordariaceae Chaetomiaceae Plakinidae\n",
    "Spongiidae\n",
    "Axinellidae\n",
    "Spongillidae Lubomirskiidae Coralliidae\n",
    "Nephtheidae\n",
    "Alcyoniidae\n",
    "Actiniidae Corallimorphidae Discosomatidae Mussidae\n",
    "Caryophylliidae Dendrophylliidae Pocilloporidae Acroporidae\n",
    "Agariciidae\n",
    "Siderastreidae\n",
    "Poritidae\n",
    "Microcotylidae\n",
    "Dugesiidae Diphyllobothriidae Taeniidae Schistosomatidae Paramphistomidae Dicrocoeliidae Opisthorchiidae Heterophyidae Oligacanthorhynchidae Laqueidae\n",
    "Lineidae Emplectonematidae Prosorhochmidae Megascolecidae Hirudinidae\n",
    "Nereididae\n",
    "Siboglinidae\n",
    "Polyceridae\n",
    "Mopaliidae Lepidochitonidae Nautilidae\n",
    "Octopodidae\n",
    "Sepiidae\n",
    "Loliginidae Ommastrephidae Unionidae\n",
    "Ostreidae\n",
    "Pectinidae\n",
    "Arcidae\n",
    "Mytilidae\n",
    "Hiatellidae\n",
    "Lucinidae\n",
    "Cardiidae\n",
    "Veneridae\n",
    "Mactridae\n",
    "Solecurtidae Psammobiidae Mermithidae Aphelenchoididae Oxyuridae\n",
    "Anisakidae\n",
    "Ascarididae\n",
    "Thelaziidae Onchocercidae Ancylostomatidae Angiostrongylidae Strongylidae\n",
    "Cloacinidae Trichostrongylidae Haemonchidae Hypsibiidae\n",
    "Limulidae\n",
    "Ammotheidae\n",
    "Buthidae\n",
    "Phalangiidae\n",
    "Ricinoididae\n",
    "Acaridae\n",
    "Phytoseiidae\n",
    "Ixodidae\n",
    "Argasidae\n",
    "Liphistiidae\n",
    "Araneidae\n",
    "Salticidae\n",
    "Lycosidae\n",
    "Balanidae\n",
    "Chthamalidae\n",
    "Penaeidae\n",
    "Lithodidae\n",
    "Upogebiidae Callianassidae\n",
    "Scyllaridae\n",
    "Palinuridae\n",
    "Nephropidae Parastacidae\n",
    "Cambaridae Alvinocarididae Palaemonidae\n",
    "Atyidae\n",
    "Raninidae\n",
    "Varunidae\n",
    "Bythograeidae\n",
    "Portunidae Acerentomidae Campodeidae\n",
    "Japygidae\n",
    "Machilidae\n",
    "Libellulidae Calopterygidae\n",
    "Perlidae\n",
    "Phasmatidae\n",
    "Termitidae\n",
    "Termopsidae Rhinotermitidae Tettigoniidae\n",
    "Gryllidae\n",
    "Tetrigidae\n",
    "Pneumoridae Pyrgomorphidae Acrididae\n",
    "Pamphagidae Philopteridae\n",
    "Thripidae\n",
    "Psyllidae\n",
    "Aleyrodidae\n",
    "Aphididae\n",
    "Cercopidae\n",
    "Cicadellidae\n",
    "Fulgoridae\n",
    "Delphacidae\n",
    "Peloridiidae\n",
    "Reduviidae\n",
    "Tingidae\n",
    "Miridae\n",
    "Nabidae\n",
    "Rhopalidae\n",
    "Aradidae\n",
    "Malcidae\n",
    "Plataspidae\n",
    "Pentatomidae Corydalidae Myrmeleontidae Ascalaphidae Chrysopidae Tenthredinidae Braconidae\n",
    "Apidae\n",
    "Formicidae\n",
    "Vespidae\n",
    "Carabidae\n",
    "Scarabaeidae\n",
    "Lampyridae\n",
    "Buprestidae Tenebrionidae Curculionidae Cerambycidae Chrysomelidae Trichoceridae Cecidomyiidae\n",
    "Culicidae\n",
    "Tephritidae\n",
    "Muscidae\n",
    "Tachinidae\n",
    "Calliphoridae\n",
    "Oestridae\n",
    "Sarcophagidae Hepialidae\n",
    "Tortricidae\n",
    "Geometridae\n",
    "Hesperiidae\n",
    "Pyralidae\n",
    "Crambidae\n",
    "Bombycidae\n",
    "Sphingidae\n",
    "Saturniidae\n",
    "Noctuidae\n",
    "Lymantriidae\n",
    "Nolidae\n",
    "Erebidae\n",
    "Notodontidae\n",
    "Papilionidae\n",
    "Lycaenidae\n",
    "Nymphalidae\n",
    "Riodinidae\n",
    "Pieridae\n",
    "Sagittidae\n",
    "Spadellidae\n",
    "Antedonidae\n",
    "Asteriidae\n",
    "Stichopodidae\n",
    "Echinidae Strongylocentrotidae Ascidiidae\n",
    "Styelidae\n",
    "Pyuridae Petromyzontidae Myxinidae\n",
    "Chimaeridae Rhinochimaeridae Hexanchidae\n",
    "Squalidae\n",
    "Alopiidae\n",
    "Triakidae\n",
    "Carcharhinidae Rhinobatidae\n",
    "Pristidae\n",
    "Arhynchobatidae\n",
    "Rajidae\n",
    "Myliobatidae Potamotrygonidae Dasyatidae\n",
    "Polypteridae Acipenseridae Polyodontidae Lepisosteidae\n",
    "Albulidae\n",
    "Derichthyidae\n",
    "Chlopsidae Synaphobranchidae Serrivomeridae Muraenidae Nettastomatidae Ophichthidae Muraenesocidae Nemichthyidae\n",
    "Congridae\n",
    "Notopteridae\n",
    "Mormyridae Osteoglossidae Alepocephalidae Platytroctidae\n",
    "Engraulidae\n",
    "Clupeidae\n",
    "Pristigasteridae\n",
    "Kneriidae\n",
    "Cyprinidae\n",
    "Cobitidae\n",
    "Catostomidae\n",
    "Balitoridae\n",
    "Nemacheilidae Citharinidae Prochilodontidae Alestidae\n",
    "Bryconidae\n",
    "Characidae Serrasalmidae Loricariidae\n",
    "Sisoridae\n",
    "Pimelodidae\n",
    "Bagridae\n",
    "Doradidae Auchenipteridae Pangasiidae\n",
    "Siluridae\n",
    "Osmeridae\n",
    "Salangidae\n",
    "Salmonidae\n",
    "Umbridae\n",
    "Galaxiidae\n",
    "Ateleopodidae Synodontidae Neoscopelidae Myctophidae Trachipteridae\n",
    "Gadidae\n",
    "Macrouridae\n",
    "Zeidae\n",
    "Oreosomatidae Holocentridae Melamphaidae\n",
    "Diretmidae\n",
    "Cetomimidae\n",
    "Ophidiidae\n",
    "Bythitidae Mastacembelidae Osphronemidae Channidae\n",
    "Apogonidae\n",
    "Gobiidae\n",
    "Odontobutidae\n",
    "Eleotridae\n",
    "Callionymidae\n",
    "Mullidae\n",
    "Centriscidae\n",
    "Pegasidae\n",
    "Syngnathidae\n",
    "Nomeidae\n",
    "Bramidae\n",
    "Gempylidae\n",
    "Stromateidae Chiasmodontidae Centrolophidae Scombridae\n",
    "Trichiuridae\n",
    "Cichlidae\n",
    "Mugilidae\n",
    "Blenniidae\n",
    "Gobiesocidae Atherinopsidae\n",
    "Belonidae\n",
    "Exocoetidae\n",
    "Poeciliidae Cyprinodontidae Istiophoridae\n",
    "Carangidae Pleuronectidae\n",
    "Citharidae\n",
    "Achiridae\n",
    "Soleidae\n",
    "Bothidae\n",
    "Samaridae Rhombosoleidae Paralichthyidae Cynoglossidae Chaetodontidae Pentacerotidae\n",
    "Labridae\n",
    "Acanthuridae\n",
    "Sparidae\n",
    "Lethrinidae\n",
    "Lophiidae\n",
    "Gigantactinidae Ceratiidae\n",
    "Diceratiidae Percichthyidae\n",
    "Cirrhitidae\n",
    "Kyphosidae\n",
    "Terapontidae Centrarchidae Sinipercidae\n",
    "Molidae\n",
    "Triacanthidae Triacanthodidae Ostraciidae\n",
    "Aracanidae Tetraodontidae Diodontidae Monacanthidae\n",
    "Balistidae\n",
    "Serranidae\n",
    "Percidae\n",
    "Sebastidae Channichthyidae Nototheniidae Anoplopomatidae Cottidae\n",
    "Hexagrammidae Aulorhynchidae Gasterosteidae Herpelidae Typhlonectidae Indotyphlidae Scolecomorphidae Caeciliidae\n",
    "Siphonopidae Ichthyophiidae Dermophiidae\n",
    "Hynobiidae Plethodontidae Salamandridae\n",
    "Proteidae\n",
    "Megophryidae\n",
    "Pipidae\n",
    "Alytidae\n",
    "Bufonidae\n",
    "Microhylidae Calyptocephalellidae Rhacophoridae Dicroglossidae\n",
    "Ranidae\n",
    "Tachyglossidae Caenolestidae Didelphidae\n",
    "Dasyuridae\n",
    "Peramelidae Phalangeridae Macropodidae\n",
    "Petauridae Macroscelididae Procaviidae\n",
    "Elephantidae\n",
    "Leporidae\n",
    "Octodontidae Bathyergidae\n",
    "Echimyidae\n",
    "Sciuridae\n",
    "Cricetidae\n",
    "Muridae\n",
    "Spalacidae\n",
    "Galagidae\n",
    "Lorisidae\n",
    "Cheirogaleidae Lemuridae\n",
    "Lepilemuridae\n",
    "Indriidae\n",
    "Cercopithecidae Hylobatidae\n",
    "Hominidae\n",
    "Cebidae\n",
    "Pitheciidae\n",
    "Atelidae\n",
    "Rhinocerotidae Pteropodidae Vespertilionidae Phyllostomidae\n",
    "Talpidae\n",
    "Erinaceidae\n",
    "Soricidae\n",
    "Balaenidae Balaenopteridae Delphinidae\n",
    "Phocoenidae Physeteridae\n",
    "Ziphiidae\n",
    "Hyaenidae\n",
    "Felidae\n",
    "Viverridae\n",
    "Mustelidae\n",
    "Canidae\n",
    "Phocidae\n",
    "Ursidae\n",
    "Otariidae\n",
    "Procyonidae\n",
    "Mephitidae Phyllodactylidae Eublepharidae Gekkonidae Amphisbaenidae Lacertidae\n",
    "Anguidae\n",
    "Iguanidae\n",
    "Agamidae Chamaeleonidae Typhlopidae\n",
    "Colubridae\n",
    "Viperidae\n",
    "Elapidae\n",
    "Dipsadidae\n",
    "Chelidae\n",
    "Pelomedusidae Trionychidae\n",
    "Testudinidae\n",
    "Emydidae\n",
    "Geoemydidae Cheloniidae\n",
    "Chelydridae Kinosternidae Alligatoridae\n",
    "Gavialidae\n",
    "Crocodylidae\n",
    "Tinamidae\n",
    "Emeidae\n",
    "Rheidae\n",
    "Columbidae\n",
    "Trogonidae\n",
    "Podicipedidae Spheniscidae\n",
    "Apodidae\n",
    "Picidae\n",
    "Trochilidae\n",
    "Alcedinidae\n",
    "Bucerotidae\n",
    "Cuculidae\n",
    "Accipitridae\n",
    "Falconidae\n",
    "Cacatuidae\n",
    "Psittacidae\n",
    "Procellariidae Diomedeidae\n",
    "Strigidae\n",
    "Tytonidae\n",
    "Rallidae\n",
    "Otididae\n",
    "Gruidae\n",
    "Ardeidae Phalacrocoracidae Threskiornithidae Charadriidae Scolopacidae\n",
    "Laridae\n",
    "Anatidae\n",
    "Phasianidae\n",
    "Numididae\n",
    "Thraupidae\n",
    "Tyrannidae\n",
    "Turdidae\n",
    "Sturnidae\n",
    "Leiothrichidae Hirundinidae\n",
    "Corvidae\n",
    "Petroicidae\n",
    "Muscicapidae\n",
    "Paridae\n",
    "Sylviidae\n",
    "Certhiidae\n",
    "Fringillidae\n",
    "Passeridae\n",
    "Icteridae\n",
    "Estrildidae\n",
    "￼\"\"\""
   ]
  },
  {
   "cell_type": "code",
   "execution_count": 289,
   "metadata": {
    "collapsed": false
   },
   "outputs": [],
   "source": [
    "list = string.split()"
   ]
  },
  {
   "cell_type": "code",
   "execution_count": 290,
   "metadata": {
    "collapsed": false
   },
   "outputs": [
    {
     "data": {
      "text/plain": [
       "298"
      ]
     },
     "execution_count": 290,
     "metadata": {},
     "output_type": "execute_result"
    }
   ],
   "source": [
    "list.index(\"Chrysobalanaceae\")"
   ]
  },
  {
   "cell_type": "code",
   "execution_count": 291,
   "metadata": {
    "collapsed": false
   },
   "outputs": [
    {
     "data": {
      "text/plain": [
       "'Chrysobalanaceae'"
      ]
     },
     "execution_count": 291,
     "metadata": {},
     "output_type": "execute_result"
    }
   ],
   "source": [
    "list[298]"
   ]
  },
  {
   "cell_type": "code",
   "execution_count": 292,
   "metadata": {
    "collapsed": false
   },
   "outputs": [
    {
     "data": {
      "text/plain": [
       "823"
      ]
     },
     "execution_count": 292,
     "metadata": {},
     "output_type": "execute_result"
    }
   ],
   "source": [
    "len(list)"
   ]
  },
  {
   "cell_type": "markdown",
   "metadata": {},
   "source": [
    "### Group families together\n",
    "\n",
    "0-601  -  'euk'  '--------'\n",
    "\n",
    "602-775   'bact'   '-----'\n",
    "\n",
    "776-793   'arch'   '---'\n",
    "\n",
    "794-809   'virus'   '-'\n"
   ]
  },
  {
   "cell_type": "code",
   "execution_count": 300,
   "metadata": {
    "collapsed": false
   },
   "outputs": [
    {
     "data": {
      "image/png": "[encoded data removed]",
      "text/plain": [
       "<matplotlib.figure.Figure at 0x151749750>"
      ]
     },
     "metadata": {},
     "output_type": "display_data"
    }
   ],
   "source": [
    "import seaborn as sns\n",
    "fig, ax = plt.subplots(figsize= (18,16))\n",
    "heat_plot = sns.heatmap(ete_df,xticklabels=False,yticklabels=False,cmap = plt.cm.magma)"
   ]
  },
  {
   "cell_type": "code",
   "execution_count": 228,
   "metadata": {
    "collapsed": false
   },
   "outputs": [],
   "source": [
    "fig.savefig(\"heatmap_family_only.pdf\")"
   ]
  },
  {
   "cell_type": "markdown",
   "metadata": {},
   "source": [
    "#### Align the heatmap to taxonomic tree\n",
    "\n",
    "\n",
    "\n",
    "0-165: euk\n",
    "\n",
    "166-339:bact\n",
    "\n",
    "340-355 virus\n",
    "\n",
    "356-373: arch\n",
    "\n",
    "374-810: euk\n",
    "\n"
   ]
  },
  {
   "cell_type": "code",
   "execution_count": 214,
   "metadata": {
    "collapsed": false,
    "scrolled": false
   },
   "outputs": [
    {
     "data": {
      "image/png": "[encoded data removed]",
      "text/plain": [
       "<matplotlib.figure.Figure at 0x124131a50>"
      ]
     },
     "metadata": {},
     "output_type": "display_data"
    }
   ],
   "source": [
    "    heatmap = pdh.DendroHeatMap(heat_map_data=data, left_dendrogram=schlink, top_dendrogram=schlink)\n",
    "    #heatmap.row_labels = row_labels\n",
    "    #heatmap.col_labels = col_labels\n",
    " #   heatmap.title = 'An example heatmap'\n",
    "    heatmap.colormap = plt.cm.cool\n",
    " #   heatmap.colormap = plt.cm.Blues\n",
    " #   heatmap.colormap = heatmap.yellowBlackBlue\n",
    "    heatmap.show()"
   ]
  },
  {
   "cell_type": "code",
   "execution_count": 38,
   "metadata": {
    "collapsed": false
   },
   "outputs": [
    {
     "data": {
      "image/png": "[encoded data removed]",
      "text/plain": [
       "<matplotlib.figure.Figure at 0x11b1b8710>"
      ]
     },
     "metadata": {},
     "output_type": "display_data"
    }
   ],
   "source": [
    " #   heatmap.colormap = plt.cm.viridis\n",
    "#heatmap.colormap = plt.cm.Blues\n",
    "heatmap.colormap = heatmap.yellowBlackBlue\n",
    "heatmap.show()"
   ]
  },
  {
   "cell_type": "markdown",
   "metadata": {},
   "source": [
    "### Original heatmap"
   ]
  },
  {
   "cell_type": "code",
   "execution_count": 33,
   "metadata": {
    "collapsed": false
   },
   "outputs": [
    {
     "data": {
      "image/png": "[encoded data removed]",
      "text/plain": [
       "<matplotlib.figure.Figure at 0x11b7d9850>"
      ]
     },
     "metadata": {},
     "output_type": "display_data"
    }
   ],
   "source": [
    "    heatmap = pdh.DendroHeatMap(heat_map_data=df2.values, left_dendrogram=schlink, top_dendrogram=schlink)\n",
    "    #heatmap.row_labels = row_labels\n",
    "    #heatmap.col_labels = col_labels\n",
    "    heatmap.title = 'An example heatmap'\n",
    " #   heatmap.colormap = plt.cm.Blues\n",
    "    heatmap.colormap = heatmap.yellowBlackBlue\n",
    "    heatmap.show()"
   ]
  },
  {
   "cell_type": "code",
   "execution_count": null,
   "metadata": {
    "collapsed": true
   },
   "outputs": [],
   "source": []
  }
 ],
 "metadata": {
  "kernelspec": {
   "display_name": "Python 2",
   "language": "python",
   "name": "python2"
  },
  "language_info": {
   "codemirror_mode": {
    "name": "ipython",
    "version": 2
   },
   "file_extension": ".py",
   "mimetype": "text/x-python",
   "name": "python",
   "nbconvert_exporter": "python",
   "pygments_lexer": "ipython2",
   "version": "2.7.12"
  }
 },
 "nbformat": 4,
 "nbformat_minor": 0
}
