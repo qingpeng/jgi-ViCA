{
 "cells": [
  {
   "cell_type": "markdown",
   "metadata": {},
   "source": [
    "# Compare the performance of multi-class classification\n",
    "\n",
    "## 1. on different level ( Order, Family, Genus0\n",
    "\n",
    "## 2. using different features ( pvFam only, 4mer, only, codon only, all)\n",
    "\n",
    "## 3. predicting order using prediction results on family level"
   ]
  },
  {
   "cell_type": "code",
   "execution_count": 1,
   "metadata": {
    "collapsed": false
   },
   "outputs": [],
   "source": [
    "%matplotlib inline\n",
    "import pandas as pd\n",
    "import matplotlib.pyplot as plt\n",
    "import matplotlib\n",
    "matplotlib.style.use('ggplot')"
   ]
  },
  {
   "cell_type": "code",
   "execution_count": 2,
   "metadata": {
    "collapsed": true
   },
   "outputs": [],
   "source": [
    "work_dir = \"../../Pipeline/MultiClass/\""
   ]
  },
  {
   "cell_type": "code",
   "execution_count": 69,
   "metadata": {
    "collapsed": false
   },
   "outputs": [],
   "source": [
    "stat_family = pd.read_csv(work_dir+'/Family/statistics.txt',sep = ' = ',header=None,names=['item','family'],engine='python')\n",
    "stat_order = pd.read_csv(work_dir+'/Order/statistics.txt',sep = ' = ',header=None,names=['item','order'],engine='python')\n",
    "stat_genus = pd.read_csv(work_dir+'/Genus/statistics.txt',sep = ' = ',header=None,names=['item','genus'],engine='python')\n",
    "stat_order_by_family = pd.read_csv(work_dir+'/Family_on_order/statistics.txt',sep = ' = ',header=None,names=['item','order_by_family'],engine='python')"
   ]
  },
  {
   "cell_type": "code",
   "execution_count": 70,
   "metadata": {
    "collapsed": false
   },
   "outputs": [],
   "source": [
    "stat_order_4mer = pd.read_csv(work_dir+'/order_4mers/statistics.txt',sep = ' = ',header=None,names=['item','order_4mer'],engine='python')\n",
    "stat_order_codon = pd.read_csv(work_dir+'/order_codon/statistics.txt',sep = ' = ',header=None,names=['item','order_codon'],engine='python')\n",
    "stat_order_pvfam = pd.read_csv(work_dir+'/order_pvfam/statistics.txt',sep = ' = ',header=None,names=['item','order_pvfam'],engine='python')"
   ]
  },
  {
   "cell_type": "code",
   "execution_count": 71,
   "metadata": {
    "collapsed": false
   },
   "outputs": [],
   "source": [
    "stat_family_4mer = pd.read_csv(work_dir+'/family_4mers/statistics.txt',sep = ' = ',header=None,names=['item','family_4mer'],engine='python')\n",
    "stat_family_codon = pd.read_csv(work_dir+'/family_codon/statistics.txt',sep = ' = ',header=None,names=['item','family_codon'],engine='python')\n",
    "stat_family_pvfam = pd.read_csv(work_dir+'/family_pvfam/statistics.txt',sep = ' = ',header=None,names=['item','family_pvfam'],engine='python')"
   ]
  },
  {
   "cell_type": "code",
   "execution_count": 72,
   "metadata": {
    "collapsed": false
   },
   "outputs": [],
   "source": [
    "result = pd.merge(stat_order,stat_family, on=\"item\")\n",
    "result = pd.merge(result,stat_genus, on=\"item\")\n",
    "result = pd.merge(result,stat_order_by_family, on=\"item\")\n",
    "result = pd.merge(result,stat_order_4mer, on=\"item\")\n",
    "result = pd.merge(result,stat_order_codon, on=\"item\")\n",
    "result = pd.merge(result,stat_order_pvfam, on=\"item\")\n",
    "result = pd.merge(result,stat_family_4mer, on=\"item\")\n",
    "result = pd.merge(result,stat_family_codon, on=\"item\")\n",
    "result = pd.merge(result,stat_family_pvfam, on=\"item\")\n"
   ]
  },
  {
   "cell_type": "code",
   "execution_count": 73,
   "metadata": {
    "collapsed": false
   },
   "outputs": [],
   "source": [
    "result.index = result['item']"
   ]
  },
  {
   "cell_type": "code",
   "execution_count": 75,
   "metadata": {
    "collapsed": false
   },
   "outputs": [],
   "source": [
    "# remove first column\n",
    "result2 = result.iloc[0:8, 1:11]"
   ]
  },
  {
   "cell_type": "code",
   "execution_count": 76,
   "metadata": {
    "collapsed": false
   },
   "outputs": [
    {
     "data": {
      "text/html": [
       "<div>\n",
       "<table border=\"1\" class=\"dataframe\">\n",
       "  <thead>\n",
       "    <tr style=\"text-align: right;\">\n",
       "      <th></th>\n",
       "      <th>order</th>\n",
       "      <th>family</th>\n",
       "      <th>genus</th>\n",
       "      <th>order_by_family</th>\n",
       "      <th>order_4mer</th>\n",
       "      <th>order_codon</th>\n",
       "      <th>order_pvfam</th>\n",
       "      <th>family_4mer</th>\n",
       "      <th>family_codon</th>\n",
       "      <th>family_pvfam</th>\n",
       "    </tr>\n",
       "    <tr>\n",
       "      <th>item</th>\n",
       "      <th></th>\n",
       "      <th></th>\n",
       "      <th></th>\n",
       "      <th></th>\n",
       "      <th></th>\n",
       "      <th></th>\n",
       "      <th></th>\n",
       "      <th></th>\n",
       "      <th></th>\n",
       "      <th></th>\n",
       "    </tr>\n",
       "  </thead>\n",
       "  <tbody>\n",
       "    <tr>\n",
       "      <th>Precision</th>\n",
       "      <td>0.344479</td>\n",
       "      <td>0.425740</td>\n",
       "      <td>0.701005</td>\n",
       "      <td>0.565036</td>\n",
       "      <td>0.260492</td>\n",
       "      <td>0.256116</td>\n",
       "      <td>0.203340</td>\n",
       "      <td>0.261301</td>\n",
       "      <td>0.307959</td>\n",
       "      <td>0.104744</td>\n",
       "    </tr>\n",
       "    <tr>\n",
       "      <th>Recall</th>\n",
       "      <td>0.344479</td>\n",
       "      <td>0.425740</td>\n",
       "      <td>0.701005</td>\n",
       "      <td>0.565036</td>\n",
       "      <td>0.260492</td>\n",
       "      <td>0.256116</td>\n",
       "      <td>0.203340</td>\n",
       "      <td>0.261301</td>\n",
       "      <td>0.307959</td>\n",
       "      <td>0.104744</td>\n",
       "    </tr>\n",
       "    <tr>\n",
       "      <th>F1 Score</th>\n",
       "      <td>0.344479</td>\n",
       "      <td>0.425740</td>\n",
       "      <td>0.701005</td>\n",
       "      <td>0.565036</td>\n",
       "      <td>0.260492</td>\n",
       "      <td>0.256116</td>\n",
       "      <td>0.203340</td>\n",
       "      <td>0.261301</td>\n",
       "      <td>0.307959</td>\n",
       "      <td>0.104744</td>\n",
       "    </tr>\n",
       "    <tr>\n",
       "      <th>Weighted precision</th>\n",
       "      <td>0.499281</td>\n",
       "      <td>0.698851</td>\n",
       "      <td>0.788186</td>\n",
       "      <td>0.713655</td>\n",
       "      <td>0.360898</td>\n",
       "      <td>0.371819</td>\n",
       "      <td>0.348036</td>\n",
       "      <td>0.623009</td>\n",
       "      <td>0.627092</td>\n",
       "      <td>0.440904</td>\n",
       "    </tr>\n",
       "    <tr>\n",
       "      <th>Weighted recall</th>\n",
       "      <td>0.344479</td>\n",
       "      <td>0.425740</td>\n",
       "      <td>0.701005</td>\n",
       "      <td>0.565036</td>\n",
       "      <td>0.260492</td>\n",
       "      <td>0.256116</td>\n",
       "      <td>0.203340</td>\n",
       "      <td>0.261301</td>\n",
       "      <td>0.307959</td>\n",
       "      <td>0.104744</td>\n",
       "    </tr>\n",
       "    <tr>\n",
       "      <th>Weighted F1 score</th>\n",
       "      <td>0.333963</td>\n",
       "      <td>0.466781</td>\n",
       "      <td>0.721689</td>\n",
       "      <td>0.594495</td>\n",
       "      <td>0.239188</td>\n",
       "      <td>0.241641</td>\n",
       "      <td>0.215066</td>\n",
       "      <td>0.280568</td>\n",
       "      <td>0.331630</td>\n",
       "      <td>0.101354</td>\n",
       "    </tr>\n",
       "    <tr>\n",
       "      <th>Weighted false positive rate</th>\n",
       "      <td>0.010436</td>\n",
       "      <td>0.003675</td>\n",
       "      <td>0.001191</td>\n",
       "      <td>0.007019</td>\n",
       "      <td>0.014927</td>\n",
       "      <td>0.013639</td>\n",
       "      <td>0.026535</td>\n",
       "      <td>0.004435</td>\n",
       "      <td>0.005105</td>\n",
       "      <td>0.010272</td>\n",
       "    </tr>\n",
       "  </tbody>\n",
       "</table>\n",
       "</div>"
      ],
      "text/plain": [
       "                                 order    family     genus  order_by_family  \\\n",
       "item                                                                          \n",
       "Precision                     0.344479  0.425740  0.701005         0.565036   \n",
       "Recall                        0.344479  0.425740  0.701005         0.565036   \n",
       "F1 Score                      0.344479  0.425740  0.701005         0.565036   \n",
       "Weighted precision            0.499281  0.698851  0.788186         0.713655   \n",
       "Weighted recall               0.344479  0.425740  0.701005         0.565036   \n",
       "Weighted F1 score             0.333963  0.466781  0.721689         0.594495   \n",
       "Weighted false positive rate  0.010436  0.003675  0.001191         0.007019   \n",
       "\n",
       "                              order_4mer  order_codon  order_pvfam  \\\n",
       "item                                                                 \n",
       "Precision                       0.260492     0.256116     0.203340   \n",
       "Recall                          0.260492     0.256116     0.203340   \n",
       "F1 Score                        0.260492     0.256116     0.203340   \n",
       "Weighted precision              0.360898     0.371819     0.348036   \n",
       "Weighted recall                 0.260492     0.256116     0.203340   \n",
       "Weighted F1 score               0.239188     0.241641     0.215066   \n",
       "Weighted false positive rate    0.014927     0.013639     0.026535   \n",
       "\n",
       "                              family_4mer  family_codon  family_pvfam  \n",
       "item                                                                   \n",
       "Precision                        0.261301      0.307959      0.104744  \n",
       "Recall                           0.261301      0.307959      0.104744  \n",
       "F1 Score                         0.261301      0.307959      0.104744  \n",
       "Weighted precision               0.623009      0.627092      0.440904  \n",
       "Weighted recall                  0.261301      0.307959      0.104744  \n",
       "Weighted F1 score                0.280568      0.331630      0.101354  \n",
       "Weighted false positive rate     0.004435      0.005105      0.010272  "
      ]
     },
     "execution_count": 76,
     "metadata": {},
     "output_type": "execute_result"
    }
   ],
   "source": [
    "result2"
   ]
  },
  {
   "cell_type": "code",
   "execution_count": 77,
   "metadata": {
    "collapsed": false
   },
   "outputs": [],
   "source": [
    "# get sub table for plotting\n",
    "\n",
    "w_f1_level = result2.loc['Weighted F1 score',['order','family','genus']]\n",
    "w_f1_order_by_family = result2.loc['Weighted F1 score',['order','order_by_family']]\n",
    "w_f1_feature = result2.loc['Weighted F1 score',['order','order_4mer','order_codon','order_pvfam','family','family_4mer','family_codon','family_pvfam']]\n",
    "w_f1_all = result2.iloc[5]"
   ]
  },
  {
   "cell_type": "markdown",
   "metadata": {},
   "source": [
    "## Draw figures for all information"
   ]
  },
  {
   "cell_type": "code",
   "execution_count": 78,
   "metadata": {
    "collapsed": false
   },
   "outputs": [
    {
     "data": {
      "text/plain": [
       "<matplotlib.axes._subplots.AxesSubplot at 0x11730cfd0>"
      ]
     },
     "execution_count": 78,
     "metadata": {},
     "output_type": "execute_result"
    },
    {
     "data": {
      "image/png": "[encoded data removed]",
      "text/plain": [
       "<matplotlib.figure.Figure at 0x116722c90>"
      ]
     },
     "metadata": {},
     "output_type": "display_data"
    }
   ],
   "source": [
    "fig, ax = plt.subplots(figsize= (14,12))\n",
    "ax.set_title('weighted f1 score')\n",
    "plt.subplot(2, 2, 1)\n",
    "w_f1_level.plot.bar(title='different levels',ylim=[0,1])\n",
    "plt.subplot(2, 2, 2)\n",
    "w_f1_order_by_family.plot.bar(title='order classificaion from family classification',ylim=[0,1])\n",
    "plt.subplot(2, 2, 3)\n",
    "w_f1_feature.plot.bar(title='different features',ylim=[0,1])\n",
    "plt.subplot(2, 2, 4)\n",
    "w_f1_all.plot.bar(title='everything',ylim=[0,1])\n"
   ]
  },
  {
   "cell_type": "markdown",
   "metadata": {},
   "source": [
    "## Box plots for F1 score using individual F1 scores for each taxonomic groups (order, family, genus)"
   ]
  },
  {
   "cell_type": "code",
   "execution_count": 79,
   "metadata": {
    "collapsed": false
   },
   "outputs": [],
   "source": [
    "f1_family = pd.read_csv(work_dir+'/Family/f1_by_label.txt',sep = ' = ',header=None,names=['item','family'],engine='python')\n",
    "f1_order = pd.read_csv(work_dir+'/Order/f1_by_label.txt',sep = ' = ',header=None,names=['item','order'],engine='python')\n",
    "f1_genus = pd.read_csv(work_dir+'/Genus/f1_by_label.txt',sep = ' = ',header=None,names=['item','genus'],engine='python')\n"
   ]
  },
  {
   "cell_type": "code",
   "execution_count": 80,
   "metadata": {
    "collapsed": false
   },
   "outputs": [],
   "source": [
    "f1_family_4mer = pd.read_csv(work_dir+'/family_4mers/f1_by_label.txt',sep = ' = ',header=None,names=['item','family_4mer'],engine='python')\n",
    "f1_family_codon = pd.read_csv(work_dir+'/family_codon/f1_by_label.txt',sep = ' = ',header=None,names=['item','family_codon'],engine='python')\n",
    "f1_family_pvfam = pd.read_csv(work_dir+'/family_pvfam/f1_by_label.txt',sep = ' = ',header=None,names=['item','family_pvfam'],engine='python')"
   ]
  },
  {
   "cell_type": "code",
   "execution_count": 81,
   "metadata": {
    "collapsed": true
   },
   "outputs": [],
   "source": [
    "# modify df to be concated for box plotting\n",
    "\n",
    "f1_family['item'] = 'family'\n",
    "f1_order['item'] = 'order'\n",
    "f1_genus['item'] = 'genus'\n",
    "f1_family.columns=['level','F1']\n",
    "f1_order.columns=['level','F1']\n",
    "f1_genus.columns=['level','F1']\n",
    "f1_level = pd.concat([f1_order,f1_family,f1_genus])"
   ]
  },
  {
   "cell_type": "code",
   "execution_count": 87,
   "metadata": {
    "collapsed": false
   },
   "outputs": [
    {
     "data": {
      "text/html": [
       "<div>\n",
       "<table border=\"1\" class=\"dataframe\">\n",
       "  <thead>\n",
       "    <tr style=\"text-align: right;\">\n",
       "      <th></th>\n",
       "      <th></th>\n",
       "      <th>F1</th>\n",
       "    </tr>\n",
       "    <tr>\n",
       "      <th>level</th>\n",
       "      <th></th>\n",
       "      <th></th>\n",
       "    </tr>\n",
       "  </thead>\n",
       "  <tbody>\n",
       "    <tr>\n",
       "      <th rowspan=\"8\" valign=\"top\">family</th>\n",
       "      <th>count</th>\n",
       "      <td>811.000000</td>\n",
       "    </tr>\n",
       "    <tr>\n",
       "      <th>mean</th>\n",
       "      <td>0.200256</td>\n",
       "    </tr>\n",
       "    <tr>\n",
       "      <th>std</th>\n",
       "      <td>0.260069</td>\n",
       "    </tr>\n",
       "    <tr>\n",
       "      <th>min</th>\n",
       "      <td>0.000000</td>\n",
       "    </tr>\n",
       "    <tr>\n",
       "      <th>25%</th>\n",
       "      <td>0.000000</td>\n",
       "    </tr>\n",
       "    <tr>\n",
       "      <th>50%</th>\n",
       "      <td>0.065041</td>\n",
       "    </tr>\n",
       "    <tr>\n",
       "      <th>75%</th>\n",
       "      <td>0.339484</td>\n",
       "    </tr>\n",
       "    <tr>\n",
       "      <th>max</th>\n",
       "      <td>1.000000</td>\n",
       "    </tr>\n",
       "    <tr>\n",
       "      <th rowspan=\"8\" valign=\"top\">genus</th>\n",
       "      <th>count</th>\n",
       "      <td>1769.000000</td>\n",
       "    </tr>\n",
       "    <tr>\n",
       "      <th>mean</th>\n",
       "      <td>0.247566</td>\n",
       "    </tr>\n",
       "    <tr>\n",
       "      <th>std</th>\n",
       "      <td>0.289999</td>\n",
       "    </tr>\n",
       "    <tr>\n",
       "      <th>min</th>\n",
       "      <td>0.000000</td>\n",
       "    </tr>\n",
       "    <tr>\n",
       "      <th>25%</th>\n",
       "      <td>0.000000</td>\n",
       "    </tr>\n",
       "    <tr>\n",
       "      <th>50%</th>\n",
       "      <td>0.109859</td>\n",
       "    </tr>\n",
       "    <tr>\n",
       "      <th>75%</th>\n",
       "      <td>0.446809</td>\n",
       "    </tr>\n",
       "    <tr>\n",
       "      <th>max</th>\n",
       "      <td>1.000000</td>\n",
       "    </tr>\n",
       "    <tr>\n",
       "      <th rowspan=\"8\" valign=\"top\">order</th>\n",
       "      <th>count</th>\n",
       "      <td>322.000000</td>\n",
       "    </tr>\n",
       "    <tr>\n",
       "      <th>mean</th>\n",
       "      <td>0.170028</td>\n",
       "    </tr>\n",
       "    <tr>\n",
       "      <th>std</th>\n",
       "      <td>0.236742</td>\n",
       "    </tr>\n",
       "    <tr>\n",
       "      <th>min</th>\n",
       "      <td>0.000000</td>\n",
       "    </tr>\n",
       "    <tr>\n",
       "      <th>25%</th>\n",
       "      <td>0.000000</td>\n",
       "    </tr>\n",
       "    <tr>\n",
       "      <th>50%</th>\n",
       "      <td>0.039562</td>\n",
       "    </tr>\n",
       "    <tr>\n",
       "      <th>75%</th>\n",
       "      <td>0.283885</td>\n",
       "    </tr>\n",
       "    <tr>\n",
       "      <th>max</th>\n",
       "      <td>0.948466</td>\n",
       "    </tr>\n",
       "  </tbody>\n",
       "</table>\n",
       "</div>"
      ],
      "text/plain": [
       "                       F1\n",
       "level                    \n",
       "family count   811.000000\n",
       "       mean      0.200256\n",
       "       std       0.260069\n",
       "       min       0.000000\n",
       "       25%       0.000000\n",
       "       50%       0.065041\n",
       "       75%       0.339484\n",
       "       max       1.000000\n",
       "genus  count  1769.000000\n",
       "       mean      0.247566\n",
       "       std       0.289999\n",
       "       min       0.000000\n",
       "       25%       0.000000\n",
       "       50%       0.109859\n",
       "       75%       0.446809\n",
       "       max       1.000000\n",
       "order  count   322.000000\n",
       "       mean      0.170028\n",
       "       std       0.236742\n",
       "       min       0.000000\n",
       "       25%       0.000000\n",
       "       50%       0.039562\n",
       "       75%       0.283885\n",
       "       max       0.948466"
      ]
     },
     "execution_count": 87,
     "metadata": {},
     "output_type": "execute_result"
    }
   ],
   "source": [
    "f1_level.groupby(['level']).describe()"
   ]
  },
  {
   "cell_type": "code",
   "execution_count": 63,
   "metadata": {
    "collapsed": false
   },
   "outputs": [
    {
     "data": {
      "text/plain": [
       "OrderedDict([('F1', <matplotlib.axes._subplots.AxesSubplot at 0x115df6e90>)])"
      ]
     },
     "execution_count": 63,
     "metadata": {},
     "output_type": "execute_result"
    },
    {
     "data": {
      "image/png": "[encoded data removed]",
      "text/plain": [
       "<matplotlib.figure.Figure at 0x115bba4d0>"
      ]
     },
     "metadata": {},
     "output_type": "display_data"
    }
   ],
   "source": [
    "f1_level.boxplot(column=['F1'],by='level',return_type='axes',showmeans=True,positions=[1,2,3])"
   ]
  },
  {
   "cell_type": "code",
   "execution_count": 68,
   "metadata": {
    "collapsed": false
   },
   "outputs": [
    {
     "data": {
      "text/plain": [
       "OrderedDict([('F1', <matplotlib.axes._subplots.AxesSubplot at 0x116234150>)])"
      ]
     },
     "execution_count": 68,
     "metadata": {},
     "output_type": "execute_result"
    },
    {
     "data": {
      "image/png": "[encoded data removed]",
      "text/plain": [
       "<matplotlib.figure.Figure at 0x1160a7fd0>"
      ]
     },
     "metadata": {},
     "output_type": "display_data"
    }
   ],
   "source": [
    "f1_level.boxplot(column=['F1'],by='level',return_type='axes',showmeans=True,positions=[2,3,1])"
   ]
  },
  {
   "cell_type": "markdown",
   "metadata": {},
   "source": [
    "## Simple figure plotting"
   ]
  },
  {
   "cell_type": "code",
   "execution_count": 88,
   "metadata": {
    "collapsed": true
   },
   "outputs": [],
   "source": [
    "w_f1_level_only = result2.loc['Weighted F1 score',['order','family','genus']]\n",
    "\n",
    "w_f1_feature_only_family = result2.loc['Weighted F1 score',['family','family_4mer','family_codon','family_pvfam']]\n"
   ]
  },
  {
   "cell_type": "code",
   "execution_count": 117,
   "metadata": {
    "collapsed": false
   },
   "outputs": [
    {
     "data": {
      "image/png": "[encoded data removed]",
      "text/plain": [
       "<matplotlib.figure.Figure at 0x116551d90>"
      ]
     },
     "metadata": {},
     "output_type": "display_data"
    }
   ],
   "source": [
    "fig = w_f1_level_only.plot.bar()"
   ]
  },
  {
   "cell_type": "code",
   "execution_count": 118,
   "metadata": {
    "collapsed": false
   },
   "outputs": [],
   "source": [
    "fig.get_figure().savefig('level.pdf')"
   ]
  },
  {
   "cell_type": "code",
   "execution_count": 119,
   "metadata": {
    "collapsed": false
   },
   "outputs": [
    {
     "data": {
      "image/png": "[encoded data removed]",
      "text/plain": [
       "<matplotlib.figure.Figure at 0x119390fd0>"
      ]
     },
     "metadata": {},
     "output_type": "display_data"
    }
   ],
   "source": [
    "fig = w_f1_feature_only_family.plot.bar()"
   ]
  },
  {
   "cell_type": "code",
   "execution_count": 120,
   "metadata": {
    "collapsed": true
   },
   "outputs": [],
   "source": [
    "fig.get_figure().savefig('feature.pdf')"
   ]
  },
  {
   "cell_type": "code",
   "execution_count": 121,
   "metadata": {
    "collapsed": false
   },
   "outputs": [
    {
     "data": {
      "image/png": "[encoded data removed]",
      "text/plain": [
       "<matplotlib.figure.Figure at 0x11852f910>"
      ]
     },
     "metadata": {},
     "output_type": "display_data"
    }
   ],
   "source": [
    "fig = w_f1_feature_only_family.plot.bar(ylim=[0,1])"
   ]
  },
  {
   "cell_type": "code",
   "execution_count": 122,
   "metadata": {
    "collapsed": true
   },
   "outputs": [],
   "source": [
    "fig.get_figure().savefig('feature_100.pdf')"
   ]
  },
  {
   "cell_type": "code",
   "execution_count": 123,
   "metadata": {
    "collapsed": false
   },
   "outputs": [
    {
     "data": {
      "image/png": "[encoded data removed]",
      "text/plain": [
       "<matplotlib.figure.Figure at 0x11832f0d0>"
      ]
     },
     "metadata": {},
     "output_type": "display_data"
    }
   ],
   "source": [
    "fig = w_f1_level_only.plot.bar(ylim=[0,1])"
   ]
  },
  {
   "cell_type": "code",
   "execution_count": 124,
   "metadata": {
    "collapsed": true
   },
   "outputs": [],
   "source": [
    "fig.get_figure().savefig('level_100.pdf')"
   ]
  },
  {
   "cell_type": "code",
   "execution_count": null,
   "metadata": {
    "collapsed": true
   },
   "outputs": [],
   "source": []
  }
 ],
 "metadata": {
  "kernelspec": {
   "display_name": "Python 2",
   "language": "python",
   "name": "python2"
  },
  "language_info": {
   "codemirror_mode": {
    "name": "ipython",
    "version": 2
   },
   "file_extension": ".py",
   "mimetype": "text/x-python",
   "name": "python",
   "nbconvert_exporter": "python",
   "pygments_lexer": "ipython2",
   "version": "2.7.12"
  }
 },
 "nbformat": 4,
 "nbformat_minor": 0
}
