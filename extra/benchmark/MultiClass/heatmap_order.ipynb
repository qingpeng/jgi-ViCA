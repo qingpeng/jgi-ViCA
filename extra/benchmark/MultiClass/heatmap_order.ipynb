{
 "cells": [
  {
   "cell_type": "markdown",
   "metadata": {},
   "source": [
    "### Steps:\n",
    "\n",
    "1. convert Newick format tree to distance matrix\n",
    "2. use scipy. . get linkage matrix... from distance matrix\n",
    "3. use DendroHeatMap package to generate the figure...\n",
    "https://github.com/themantalope/pydendroheatmap\n",
    "\n"
   ]
  },
  {
   "cell_type": "code",
   "execution_count": 4,
   "metadata": {
    "collapsed": true
   },
   "outputs": [],
   "source": [
    "%matplotlib inline\n",
    "from ete3 import Tree"
   ]
  },
  {
   "cell_type": "code",
   "execution_count": 5,
   "metadata": {
    "collapsed": true
   },
   "outputs": [],
   "source": [
    "import scipy.cluster.hierarchy as sch\n",
    "import scipy.spatial.distance\n",
    "import matplotlib.pyplot as plt\n",
    "import numpy as np\n",
    "from itertools import combinations"
   ]
  },
  {
   "cell_type": "code",
   "execution_count": 45,
   "metadata": {
    "collapsed": true
   },
   "outputs": [],
   "source": [
    "tree = Tree('/Users/qingpeng/GoogleDrive/Development/Bitbucket/genelearn_paper/Script/CvLJBVIL0CYlkaloyJbPww_newick.txt',format=1)\n",
    "leaves = tree.get_leaf_names()"
   ]
  },
  {
   "cell_type": "code",
   "execution_count": 46,
   "metadata": {
    "collapsed": false
   },
   "outputs": [],
   "source": [
    "tax_list_file = open(\"/Users/qingpeng/GoogleDrive/Development/Bitbucket/genelearn_paper/Script/all.vect.order.index.tax_id\",'r')\n",
    "idx_dict = {}\n",
    "k = 0\n",
    "for line in tax_list_file:\n",
    "    line = line.rstrip()\n",
    "    idx_dict[line] = k\n",
    "    k += 1\n",
    "    \n",
    "    \n",
    "\n",
    "idx_labels = [idx_dict.keys()[idx_dict.values().index(i)] for i in range(0, len(idx_dict))]"
   ]
  },
  {
   "cell_type": "code",
   "execution_count": 47,
   "metadata": {
    "collapsed": false
   },
   "outputs": [
    {
     "data": {
      "text/plain": [
       "319"
      ]
     },
     "execution_count": 47,
     "metadata": {},
     "output_type": "execute_result"
    }
   ],
   "source": [
    "len(idx_labels)"
   ]
  },
  {
   "cell_type": "code",
   "execution_count": 51,
   "metadata": {
    "collapsed": false
   },
   "outputs": [
    {
     "ename": "KeyError",
     "evalue": "'1779168'",
     "output_type": "error",
     "traceback": [
      "\u001b[0;31m---------------------------------------------------------------------------\u001b[0m",
      "\u001b[0;31mKeyError\u001b[0m                                  Traceback (most recent call last)",
      "\u001b[0;32m<ipython-input-51-639e7dc0ef65>\u001b[0m in \u001b[0;36m<module>\u001b[0;34m()\u001b[0m\n\u001b[0;32m----> 1\u001b[0;31m \u001b[0midx_dict\u001b[0m\u001b[0;34m[\u001b[0m\u001b[0;34m'1779168'\u001b[0m\u001b[0;34m]\u001b[0m\u001b[0;34m\u001b[0m\u001b[0m\n\u001b[0m",
      "\u001b[0;31mKeyError\u001b[0m: '1779168'"
     ]
    }
   ],
   "source": [
    "idx_dict['1779168']"
   ]
  },
  {
   "cell_type": "code",
   "execution_count": 52,
   "metadata": {
    "collapsed": false
   },
   "outputs": [
    {
     "name": "stdout",
     "output_type": "stream",
     "text": [
      "464095 1779168\n",
      "675063 1779168\n",
      "76804 1779168\n",
      "11157 1779168\n",
      "28883 1779168\n",
      "548681 1779168\n",
      "1511857 1779168\n",
      "171549 1779168\n",
      "200644 1779168\n",
      "200666 1779168\n",
      "768507 1779168\n",
      "795748 1779168\n",
      "48461 1779168\n",
      "51291 1779168\n",
      "2419 1779168\n",
      "136 1779168\n",
      "118964 1779168\n",
      "84999 1779168\n",
      "85009 1779168\n",
      "85006 1779168\n",
      "85012 1779168\n",
      "85007 1779168\n",
      "414714 1779168\n",
      "85013 1779168\n",
      "588673 1779168\n",
      "909929 1779168\n",
      "186826 1779168\n",
      "1385 1779168\n",
      "186802 1779168\n",
      "68295 1779168\n",
      "53433 1779168\n",
      "1161 1779168\n",
      "1212 1779168\n",
      "186328 1779168\n",
      "32064 1779168\n",
      "32069 1779168\n",
      "204457 1779168\n",
      "356 1779168\n",
      "766 1779168\n",
      "204441 1779168\n",
      "204455 1779168\n",
      "213849 1779168\n",
      "213115 1779168\n",
      "213481 1779168\n",
      "29 1779168\n",
      "213462 1779168\n",
      "213118 1779168\n",
      "69541 1779168\n",
      "225057 1779168\n",
      "80840 1779168\n",
      "206351 1779168\n",
      "135622 1779168\n",
      "118969 1779168\n",
      "72273 1779168\n",
      "135624 1779168\n",
      "72274 1779168\n",
      "135614 1779168\n",
      "135619 1779168\n",
      "135618 1779168\n",
      "135613 1779168\n",
      "203491 1779168\n",
      "28017 1779168\n",
      "31395 1779168\n",
      "75739 1779168\n",
      "5819 1779168\n",
      "41165 1779168\n",
      "2877 1779168\n",
      "3009 1779168\n",
      "2886 1779168\n",
      "38748 1779168\n",
      "35491 1779168\n",
      "3042 1779168\n",
      "13792 1779168\n",
      "33104 1779168\n",
      "13798 1779168\n",
      "261007 1779168\n",
      "16360 1779168\n",
      "4667 1779168\n",
      "4618 1779168\n",
      "38820 1779168\n",
      "73496 1779168\n",
      "41946 1779168\n",
      "3524 1779168\n",
      "41944 1779168\n",
      "41937 1779168\n",
      "41943 1779168\n",
      "3699 1779168\n",
      "3744 1779168\n",
      "3646 1779168\n",
      "71239 1779168\n",
      "4209 1779168\n",
      "4036 1779168\n",
      "4069 1779168\n",
      "4143 1779168\n",
      "4055 1779168\n",
      "41945 1779168\n",
      "41768 1779168\n",
      "232378 1779168\n",
      "3297 1779168\n",
      "1446379 1779168\n",
      "1446378 1779168\n",
      "3268 1779168\n",
      "131210 1779168\n",
      "3176 1779168\n",
      "589342 1779168\n",
      "589350 1779168\n",
      "28009 1779168\n",
      "79272 1779168\n",
      "4827 1779168\n",
      "33183 1779168\n",
      "5042 1779168\n",
      "34395 1779168\n",
      "5178 1779168\n",
      "37989 1779168\n",
      "5125 1779168\n",
      "1028384 1779168\n",
      "5139 1779168\n",
      "92860 1779168\n",
      "134362 1779168\n",
      "4892 1779168\n",
      "5258 1779168\n",
      "452338 1779168\n",
      "452342 1779168\n",
      "36064 1779168\n",
      "5303 1779168\n",
      "5338 1779168\n",
      "68889 1779168\n",
      "1779168 27925\n",
      "1779168 6049\n",
      "1779168 119424\n",
      "1779168 119428\n",
      "1779168 128122\n",
      "1779168 406427\n",
      "1779168 6143\n",
      "1779168 6133\n",
      "1779168 40677\n",
      "1779168 6103\n",
      "1779168 44168\n",
      "1779168 44295\n",
      "1779168 6125\n",
      "1779168 7581\n",
      "1779168 7675\n",
      "1779168 41317\n",
      "1779168 7682\n",
      "1779168 7619\n",
      "1779168 55648\n",
      "1779168 41166\n",
      "1779168 117887\n",
      "1779168 7858\n",
      "1779168 117851\n",
      "1779168 30495\n",
      "1779168 282414\n",
      "1779168 30496\n",
      "1779168 30483\n",
      "1779168 30503\n",
      "1779168 7864\n",
      "1779168 8293\n",
      "1779168 8342\n",
      "1779168 8445\n",
      "1779168 8784\n",
      "1779168 8808\n",
      "1779168 30458\n",
      "1779168 9205\n",
      "1779168 30449\n",
      "1779168 8948\n",
      "1779168 8940\n",
      "1779168 8920\n",
      "1779168 8936\n",
      "1779168 9108\n",
      "1779168 57379\n",
      "1779168 8826\n",
      "1779168 8976\n",
      "1779168 9126\n",
      "1779168 8906\n",
      "1779168 9219\n",
      "1779168 9223\n",
      "1779168 8902\n",
      "1779168 1294634\n",
      "1779168 8459\n",
      "1779168 8509\n",
      "1779168 9774\n",
      "1779168 948950\n",
      "1779168 33554\n",
      "1779168 9397\n",
      "1779168 9721\n",
      "1779168 9362\n",
      "1779168 9787\n",
      "1779168 9975\n",
      "1779168 9989\n",
      "1779168 9443\n",
      "1779168 38608\n",
      "1779168 38611\n",
      "1779168 38609\n",
      "1779168 9255\n",
      "1779168 7879\n",
      "1779168 7925\n",
      "1779168 143896\n",
      "1779168 7933\n",
      "1779168 32446\n",
      "1779168 7995\n",
      "1779168 8002\n",
      "1779168 7991\n",
      "1779168 7952\n",
      "1779168 29140\n",
      "1779168 1489486\n",
      "1779168 48438\n",
      "1779168 41711\n",
      "1779168 68510\n",
      "1779168 81386\n",
      "1779168 8277\n",
      "1779168 1489878\n",
      "1779168 1489876\n",
      "1779168 1489894\n",
      "1779168 129912\n",
      "1779168 94929\n",
      "1779168 43697\n",
      "1779168 1489900\n",
      "1779168 1489921\n",
      "1779168 8075\n",
      "1779168 76071\n",
      "1779168 28738\n",
      "1779168 1489931\n",
      "1779168 1489928\n",
      "1779168 1489940\n",
      "1779168 8070\n",
      "1779168 1545895\n",
      "1779168 1489939\n",
      "1779168 1489930\n",
      "1779168 8111\n",
      "1779168 31022\n",
      "1779168 1489937\n",
      "1779168 1489906\n",
      "1779168 8252\n",
      "1779168 1489907\n",
      "1779168 31097\n",
      "1779168 8043\n",
      "1779168 81377\n",
      "1779168 68514\n",
      "1779168 8007\n",
      "1779168 134613\n",
      "1779168 41712\n",
      "1779168 7899\n",
      "1779168 183770\n",
      "1779168 7720\n",
      "1779168 47521\n",
      "1779168 44598\n",
      "1779168 278205\n",
      "1779168 6580\n",
      "1779168 70849\n",
      "1779168 6651\n",
      "1779168 551290\n",
      "1779168 7578\n",
      "1779168 57283\n",
      "1779168 6227\n",
      "1779168 6373\n",
      "1779168 6348\n",
      "1779168 27386\n",
      "1779168 10207\n",
      "1779168 6659\n",
      "1779168 116167\n",
      "1779168 116166\n",
      "1779168 72033\n",
      "1779168 84308\n",
      "1779168 41212\n",
      "1779168 6683\n",
      "1779168 29979\n",
      "1779168 6821\n",
      "1779168 1652079\n",
      "1779168 50553\n",
      "1779168 7516\n",
      "1779168 7088\n",
      "1779168 7147\n",
      "1779168 7399\n",
      "1779168 7041\n",
      "1779168 27420\n",
      "1779168 7020\n",
      "1779168 6993\n",
      "1779168 7499\n",
      "1779168 85823\n",
      "1779168 7504\n",
      "1779168 30259\n",
      "1779168 7524\n",
      "1779168 85819\n",
      "1779168 50622\n",
      "1779168 30073\n",
      "1779168 6961\n",
      "1779168 29994\n",
      "1779168 1652078\n",
      "1779168 61986\n",
      "1779168 41362\n",
      "1779168 373319\n",
      "1779168 41356\n",
      "1779168 6951\n",
      "1779168 34634\n",
      "1779168 6935\n",
      "1779168 61977\n",
      "1779168 6855\n",
      "1779168 6893\n",
      "1779168 51799\n",
      "1779168 6329\n",
      "1779168 6274\n",
      "1779168 6249\n",
      "1779168 6300\n",
      "1779168 6236\n",
      "1779168 6159\n",
      "1779168 40163\n",
      "1779168 6201\n",
      "1779168 6193\n",
      "1779168 6180\n",
      "1779168 27871\n",
      "1779168 114380\n",
      "1779168 871006\n",
      "1779168 2266\n",
      "1779168 2191\n",
      "1779168 94695\n",
      "1779168 2158\n",
      "1779168 2301\n",
      "1779168 2182\n",
      "Distance:\n",
      "[[  0.   5.   8. ...,  11.  11.  11.]\n",
      " [  5.   0.   7. ...,  10.  10.  10.]\n",
      " [  8.   7.   0. ...,   9.   9.   9.]\n",
      " ..., \n",
      " [ 11.  10.   9. ...,   0.   4.   6.]\n",
      " [ 11.  10.   9. ...,   4.   0.   6.]\n",
      " [ 11.  10.   9. ...,   6.   6.   0.]]\n"
     ]
    }
   ],
   "source": [
    "dmat = np.zeros((319,319))\n",
    "\n",
    "for l1,l2 in combinations(leaves,2):\n",
    "    d = tree.get_distance(l1,l2)\n",
    "    if l1 in idx_dict and l2 in idx_dict:\n",
    "        dmat[idx_dict[l1],idx_dict[l2]] = dmat[idx_dict[l2],idx_dict[l1]] = d\n",
    "    else:\n",
    "        print l1,l2\n",
    "print 'Distance:'\n",
    "print dmat"
   ]
  },
  {
   "cell_type": "code",
   "execution_count": 53,
   "metadata": {
    "collapsed": false
   },
   "outputs": [
    {
     "data": {
      "text/plain": [
       "319"
      ]
     },
     "execution_count": 53,
     "metadata": {},
     "output_type": "execute_result"
    }
   ],
   "source": [
    "len(dmat)"
   ]
  },
  {
   "cell_type": "code",
   "execution_count": 54,
   "metadata": {
    "collapsed": false
   },
   "outputs": [
    {
     "name": "stdout",
     "output_type": "stream",
     "text": [
      "Linkage from scipy:\n",
      "[[   0.           36.            0.            2.        ]\n",
      " [   4.          195.            2.            2.        ]\n",
      " [   7.            8.            2.            2.        ]\n",
      " ..., \n",
      " [ 630.          633.           21.61463415  233.        ]\n",
      " [ 626.          631.           24.3726132    86.        ]\n",
      " [ 634.          635.           28.58219383  319.        ]]\n"
     ]
    }
   ],
   "source": [
    "schlink = sch.linkage(scipy.spatial.distance.squareform(dmat),method='average',metric='euclidean')\n",
    "\n",
    "print 'Linkage from scipy:'\n",
    "print schlink"
   ]
  },
  {
   "cell_type": "code",
   "execution_count": 14,
   "metadata": {
    "collapsed": true
   },
   "outputs": [],
   "source": [
    "import pydendroheatmap as pdh"
   ]
  },
  {
   "cell_type": "code",
   "execution_count": 25,
   "metadata": {
    "collapsed": true
   },
   "outputs": [],
   "source": [
    "import pandas as pd"
   ]
  },
  {
   "cell_type": "code",
   "execution_count": 26,
   "metadata": {
    "collapsed": true
   },
   "outputs": [],
   "source": [
    "matrix = pd.read_csv('../../Pipeline/MultiClass/Order/matrix.txt',sep = '\\s+',header=None)"
   ]
  },
  {
   "cell_type": "code",
   "execution_count": 27,
   "metadata": {
    "collapsed": true
   },
   "outputs": [],
   "source": [
    "df2 = matrix.div(matrix.sum(axis=1),axis=0)"
   ]
  },
  {
   "cell_type": "code",
   "execution_count": 28,
   "metadata": {
    "collapsed": false
   },
   "outputs": [],
   "source": [
    "df3 = df2.drop([33,35,41])"
   ]
  },
  {
   "cell_type": "code",
   "execution_count": 29,
   "metadata": {
    "collapsed": false
   },
   "outputs": [],
   "source": [
    "df4 = df3.drop([33,35,41],axis=1)"
   ]
  },
  {
   "cell_type": "code",
   "execution_count": 35,
   "metadata": {
    "collapsed": true
   },
   "outputs": [],
   "source": [
    "data = df4.values"
   ]
  },
  {
   "cell_type": "code",
   "execution_count": 36,
   "metadata": {
    "collapsed": false
   },
   "outputs": [
    {
     "data": {
      "text/plain": [
       "array([[ 0.        ,  0.04897959,  0.00408163, ...,  0.        ,\n",
       "         0.        ,  0.        ],\n",
       "       [ 0.        ,  0.83437892,  0.        , ...,  0.        ,\n",
       "         0.        ,  0.        ],\n",
       "       [ 0.        ,  0.        ,  0.        , ...,  0.        ,\n",
       "         0.        ,  0.        ],\n",
       "       ..., \n",
       "       [ 0.        ,  0.        ,  0.        , ...,  0.26917952,\n",
       "         0.        ,  0.        ],\n",
       "       [ 0.        ,  0.        ,  0.        , ...,  0.        ,\n",
       "         0.65468194,  0.        ],\n",
       "       [ 0.        ,  0.        ,  0.        , ...,  0.        ,\n",
       "         0.        ,  0.0418251 ]])"
      ]
     },
     "execution_count": 36,
     "metadata": {},
     "output_type": "execute_result"
    }
   ],
   "source": [
    "data"
   ]
  },
  {
   "cell_type": "code",
   "execution_count": 58,
   "metadata": {
    "collapsed": true
   },
   "outputs": [],
   "source": [
    "row_idxing = sch.leaves_list(schlink)\n",
    "col_idxing = sch.leaves_list(schlink)"
   ]
  },
  {
   "cell_type": "code",
   "execution_count": 65,
   "metadata": {
    "collapsed": false
   },
   "outputs": [
    {
     "data": {
      "text/plain": [
       "array([193,  17, 201, 200,  14,  16,  15,  13, 196, 197,  11,  12, 199,\n",
       "       198,   9,  10,   4, 195,  18, 205, 202, 203, 204, 194,   6,   5,\n",
       "         7,   8, 228, 230,  62,  63,  66,  64,  65, 226,  54,  52,  53,\n",
       "        57,  55,  56,  61,  60,  58,  59, 248, 249,  70,  68,  69, 233,\n",
       "        51, 234, 224, 239, 238, 237, 235, 236, 240, 241, 244, 242, 243,\n",
       "       247,  67, 245, 246, 231, 232, 229, 225, 227,  93,  91,  92,  96,\n",
       "        90,  88,  89,  94,  95, 211,  20,  21, 213, 212,  22,  23,  24,\n",
       "        31, 216,  30,  29, 215,  25,  27, 214,  26,  28, 143, 314, 176,\n",
       "       174, 175, 318, 186, 187, 185, 177, 182, 317, 178, 316, 184, 183,\n",
       "       181, 179, 180, 315, 146, 306, 147, 148, 145, 304, 149, 308, 154,\n",
       "       153, 152, 150, 151, 310, 309, 167, 166, 165, 164, 163, 160, 161,\n",
       "       172, 173, 162, 159, 158, 157, 155, 156, 307, 305, 142, 144, 313,\n",
       "       169, 171, 312, 311, 168, 170, 141, 139, 140, 302, 303, 301, 138,\n",
       "       300,  19, 210, 299, 189, 190, 209, 206, 207, 208, 298, 296, 297,\n",
       "         2,   3,   1,   0,  36, 295, 188, 191, 192,  77,  75,  78,  79,\n",
       "        80,  81,  76,  82,  83,  32,  34,  33,  35, 137,  38,  41,  40,\n",
       "        37,  39,  49,  50,  48,  44,  47,  46,  45,  42,  43, 250, 218,\n",
       "       222, 251, 252, 217,  73,  74,  71,  72, 221, 219, 220, 223, 261,\n",
       "       262, 263, 101, 104, 102, 103, 273, 268, 269, 271, 272, 270, 267,\n",
       "       266, 114, 113, 112, 111, 110, 109, 108, 107, 105, 106, 264, 265,\n",
       "       259, 260,  87,  86,  84,  85, 115, 276, 274, 275,  97,  98,  99,\n",
       "       100, 253, 254, 255, 256, 257, 258, 281, 282, 291, 294, 293, 292,\n",
       "       290, 289, 288, 287, 286, 285, 284, 134, 133, 132, 130, 131, 123,\n",
       "       121, 122, 126, 128, 127, 124, 125, 279, 120, 118, 119, 117, 129,\n",
       "       136, 135, 283, 277, 278, 116, 280], dtype=int32)"
      ]
     },
     "execution_count": 65,
     "metadata": {},
     "output_type": "execute_result"
    }
   ],
   "source": [
    "col_idxing"
   ]
  },
  {
   "cell_type": "markdown",
   "metadata": {},
   "source": [
    "193: 589350: first : Cryptomonadales Eukaryota\n",
    "\n",
    "\n",
    "280:8293: Caudata: \n",
    "\n",
    "\n",
    "Lineage i\t› cellular organisms\n",
    "   › Eukaryota\n",
    "     › Opisthokonta\n",
    "       › Metazoa\n",
    "         › Eumetazoa\n",
    "           › Bilateria\n",
    "             › Deuterostomia\n",
    "               › Chordata\n",
    "                 › Craniata\n",
    "                   › Vertebrata\n",
    "                     › Gnathostomata\n",
    "                       › Teleostomi\n",
    "                         › Euteleostomi\n",
    "                           › Sarcopterygii\n",
    "                             › Dipnotetrapodomorpha\n",
    "                               › Tetrapoda\n",
    "                                 › Amphibia\n",
    "                                   › Batrachia\n",
    "                                   "
   ]
  },
  {
   "cell_type": "code",
   "execution_count": 59,
   "metadata": {
    "collapsed": true
   },
   "outputs": [],
   "source": [
    "data = data[:,col_idxing][row_idxing,:]"
   ]
  },
  {
   "cell_type": "markdown",
   "metadata": {},
   "source": [
    "#### Align the heatmap to taxonomic tree\n",
    "\n"
   ]
  },
  {
   "cell_type": "code",
   "execution_count": 68,
   "metadata": {
    "collapsed": false
   },
   "outputs": [
    {
     "data": {
      "image/png": "[encoded data removed]",
      "text/plain": [
       "<matplotlib.figure.Figure at 0x10dc19d50>"
      ]
     },
     "metadata": {},
     "output_type": "display_data"
    }
   ],
   "source": [
    "    heatmap = pdh.DendroHeatMap(heat_map_data=data, left_dendrogram=schlink, top_dendrogram=schlink)\n",
    "    #heatmap.row_labels = row_labels\n",
    "    #heatmap.col_labels = col_labels\n",
    " #   heatmap.title = 'An example heatmap'\n",
    "    heatmap.colormap = plt.cm.viridis\n",
    " #   heatmap.colormap = plt.cm.Blues\n",
    " #   heatmap.colormap = heatmap.yellowBlackBlue\n",
    "    heatmap.show()"
   ]
  },
  {
   "cell_type": "markdown",
   "metadata": {},
   "source": [
    "### Original heatmap"
   ]
  },
  {
   "cell_type": "code",
   "execution_count": 63,
   "metadata": {
    "collapsed": false
   },
   "outputs": [
    {
     "data": {
      "image/png": "[encoded data removed]",
      "text/plain": [
       "<matplotlib.figure.Figure at 0x110c1ee50>"
      ]
     },
     "metadata": {},
     "output_type": "display_data"
    }
   ],
   "source": [
    "    heatmap = pdh.DendroHeatMap(heat_map_data=df4.values, left_dendrogram=schlink, top_dendrogram=schlink)\n",
    "    #heatmap.row_labels = row_labels\n",
    "    #heatmap.col_labels = col_labels\n",
    "    heatmap.title = 'An example heatmap'\n",
    " #   heatmap.colormap = plt.cm.Blues\n",
    "    heatmap.colormap = heatmap.yellowBlackBlue\n",
    "    heatmap.show()"
   ]
  },
  {
   "cell_type": "code",
   "execution_count": null,
   "metadata": {
    "collapsed": true
   },
   "outputs": [],
   "source": []
  }
 ],
 "metadata": {
  "kernelspec": {
   "display_name": "Python 2",
   "language": "python",
   "name": "python2"
  },
  "language_info": {
   "codemirror_mode": {
    "name": "ipython",
    "version": 2
   },
   "file_extension": ".py",
   "mimetype": "text/x-python",
   "name": "python",
   "nbconvert_exporter": "python",
   "pygments_lexer": "ipython2",
   "version": "2.7.12"
  }
 },
 "nbformat": 4,
 "nbformat_minor": 0
}
