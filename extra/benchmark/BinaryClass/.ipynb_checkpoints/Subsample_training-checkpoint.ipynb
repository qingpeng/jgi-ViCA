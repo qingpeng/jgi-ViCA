{
 "cells": [
  {
   "cell_type": "code",
   "execution_count": 1,
   "metadata": {
    "collapsed": true
   },
   "outputs": [],
   "source": [
    "def load_PRC_data(file_in,spark):\n",
    "    # spark is output from spark pipeline or not(old dato)\n",
    "    file_in_obj = open(file_in,'r')\n",
    "    x = []\n",
    "    y = []\n",
    "    for line in file_in_obj:\n",
    "        line = line.rstrip()\n",
    "        if spark == \"Y\":\n",
    "            line = line[1:-1]\n",
    "            fields = line.split(',')\n",
    "\n",
    "        else:\n",
    "            fields = line.split()\n",
    "        x.append(fields[0])\n",
    "        y.append(fields[1])\n",
    "    return x,y"
   ]
  },
  {
   "cell_type": "code",
   "execution_count": 3,
   "metadata": {
    "collapsed": true
   },
   "outputs": [],
   "source": [
    "recall,precision = load_PRC_data\n",
    "(\"/Users/qingpeng/Downloads/Test_Genelearn/PRC_logistic/all.txt\",\"Y\")\n"
   ]
  },
  {
   "cell_type": "code",
   "execution_count": null,
   "metadata": {
    "collapsed": true
   },
   "outputs": [],
   "source": [
    "plt.figure(figsize=(8, 6), dpi=80)\n",
    "\n",
    "\n",
    "plt.plot(recall,precision,label = 'logistics')\n",
    "\n",
    "plt.legend(loc='lower left')\n",
    "\n",
    "plt.xlabel('Recall')\n",
    "plt.ylabel('Precision')\n",
    "plt.ylim([0.0, 1.05])\n",
    "plt.xlim([0.0, 1.0])\n",
    "plt.title('logistic, segment on segment, all data')"
   ]
  }
 ],
 "metadata": {
  "kernelspec": {
   "display_name": "Python 2",
   "language": "python",
   "name": "python2"
  },
  "language_info": {
   "codemirror_mode": {
    "name": "ipython",
    "version": 2
   },
   "file_extension": ".py",
   "mimetype": "text/x-python",
   "name": "python",
   "nbconvert_exporter": "python",
   "pygments_lexer": "ipython2",
   "version": "2.7.12"
  }
 },
 "nbformat": 4,
 "nbformat_minor": 0
}
