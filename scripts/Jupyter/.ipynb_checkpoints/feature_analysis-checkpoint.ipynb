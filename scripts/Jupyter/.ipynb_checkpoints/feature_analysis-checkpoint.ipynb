{
 "cells": [
  {
   "cell_type": "code",
   "execution_count": 1,
   "metadata": {
    "collapsed": false
   },
   "outputs": [
    {
     "name": "stdout",
     "output_type": "stream",
     "text": [
      "['', '//anaconda/lib/python27.zip', '//anaconda/lib/python2.7', '//anaconda/lib/python2.7/plat-linux2', '//anaconda/lib/python2.7/lib-tk', '//anaconda/lib/python2.7/lib-old', '//anaconda/lib/python2.7/lib-dynload', '//anaconda/lib/python2.7/site-packages', '//anaconda/lib/python2.7/site-packages/Sphinx-1.3.1-py2.7.egg', '//anaconda/lib/python2.7/site-packages/cryptography-0.9.1-py2.7-linux-x86_64.egg', '//anaconda/lib/python2.7/site-packages/rpy2-2.5.6-py2.7-linux-x86_64.egg', '//anaconda/lib/python2.7/site-packages/setuptools-20.3-py2.7.egg', '//anaconda/lib/python2.7/site-packages/singledispatch-3.4.0.3-py2.7.egg', '//anaconda/lib/python2.7/site-packages/IPython/extensions']\n"
     ]
    }
   ],
   "source": [
    "import sys\n",
    "print sys.path"
   ]
  },
  {
   "cell_type": "code",
   "execution_count": 2,
   "metadata": {
    "collapsed": false
   },
   "outputs": [],
   "source": [
    "sys.path.remove('//anaconda/lib/python2.7/site-packages')\n",
    "\n",
    "sys.path.insert(0,'/global/homes/q/qpzhang/anaconda/lib/python2.7/site-packages')"
   ]
  },
  {
   "cell_type": "code",
   "execution_count": 3,
   "metadata": {
    "collapsed": false
   },
   "outputs": [
    {
     "name": "stdout",
     "output_type": "stream",
     "text": [
      "['/global/homes/q/qpzhang/anaconda/lib/python2.7/site-packages', '', '//anaconda/lib/python27.zip', '//anaconda/lib/python2.7', '//anaconda/lib/python2.7/plat-linux2', '//anaconda/lib/python2.7/lib-tk', '//anaconda/lib/python2.7/lib-old', '//anaconda/lib/python2.7/lib-dynload', '//anaconda/lib/python2.7/site-packages/Sphinx-1.3.1-py2.7.egg', '//anaconda/lib/python2.7/site-packages/cryptography-0.9.1-py2.7-linux-x86_64.egg', '//anaconda/lib/python2.7/site-packages/rpy2-2.5.6-py2.7-linux-x86_64.egg', '//anaconda/lib/python2.7/site-packages/setuptools-20.3-py2.7.egg', '//anaconda/lib/python2.7/site-packages/singledispatch-3.4.0.3-py2.7.egg', '//anaconda/lib/python2.7/site-packages/IPython/extensions']\n"
     ]
    }
   ],
   "source": [
    "print sys.path"
   ]
  },
  {
   "cell_type": "code",
   "execution_count": 47,
   "metadata": {
    "collapsed": false
   },
   "outputs": [],
   "source": [
    "%matplotlib inline\n",
    "import numpy as np\n",
    "import matplotlib.pyplot as plt\n",
    "import re\n",
    "import matplotlib\n",
    "matplotlib.style.use('ggplot')"
   ]
  },
  {
   "cell_type": "code",
   "execution_count": 5,
   "metadata": {
    "collapsed": false
   },
   "outputs": [
    {
     "name": "stdout",
     "output_type": "stream",
     "text": [
      "0.18.1\n"
     ]
    }
   ],
   "source": [
    "import pandas as pd\n",
    "print pd.__version__"
   ]
  },
  {
   "cell_type": "code",
   "execution_count": null,
   "metadata": {
    "collapsed": false
   },
   "outputs": [],
   "source": []
  },
  {
   "cell_type": "code",
   "execution_count": 6,
   "metadata": {
    "collapsed": false
   },
   "outputs": [],
   "source": [
    "file_xml_obj = open(\"/global/projectb/scratch/qpzhang/Full_Training/Pfam/Vfam_run/logistics_report/model.xml\", 'r')\n",
    "p = re.compile(r'name=\"(field_\\d+)\" coefficient=\"(.+)\"')\n",
    "\n",
    "coefficient = {}\n",
    "for line in file_xml_obj.readlines():\n",
    "    line = line.rstrip()\n",
    "    #print line\n",
    "    if \"NumericPredictor name=\" in line:\n",
    "        #print line\n",
    "        g = p.search(line).groups()\n",
    "        coefficient[g[0]] = g[1]\n",
    "\n",
    "series_coefficient = pd.Series(coefficient)\n",
    "    "
   ]
  },
  {
   "cell_type": "code",
   "execution_count": 8,
   "metadata": {
    "collapsed": true
   },
   "outputs": [],
   "source": [
    "df_coefficient = pd.DataFrame(series_coefficient)"
   ]
  },
  {
   "cell_type": "code",
   "execution_count": 9,
   "metadata": {
    "collapsed": false
   },
   "outputs": [],
   "source": [
    "df_coefficient.columns = ['coefficient']"
   ]
  },
  {
   "cell_type": "code",
   "execution_count": 10,
   "metadata": {
    "collapsed": true
   },
   "outputs": [],
   "source": [
    "df_coefficient['feature_id'] = df_coefficient.index"
   ]
  },
  {
   "cell_type": "code",
   "execution_count": 11,
   "metadata": {
    "collapsed": false
   },
   "outputs": [],
   "source": [
    "df_coefficient.index = [int(x.split(\"_\")[1])+1 for x in df_coefficient['feature_id']]"
   ]
  },
  {
   "cell_type": "code",
   "execution_count": 12,
   "metadata": {
    "collapsed": false
   },
   "outputs": [
    {
     "data": {
      "text/plain": [
       "array([ True,  True,  True, ...,  True,  True,  True], dtype=bool)"
      ]
     },
     "execution_count": 12,
     "metadata": {},
     "output_type": "execute_result"
    }
   ],
   "source": [
    "(df_coefficient.index <=21880) | (df_coefficient.index >=30000)"
   ]
  },
  {
   "cell_type": "code",
   "execution_count": 13,
   "metadata": {
    "collapsed": false
   },
   "outputs": [
    {
     "data": {
      "text/plain": [
       "array([ True,  True, False, False,  True], dtype=bool)"
      ]
     },
     "execution_count": 13,
     "metadata": {},
     "output_type": "execute_result"
    }
   ],
   "source": [
    "s=np.array([1,2,3,4,5])\n",
    "(s<3) | (s>4)\n"
   ]
  },
  {
   "cell_type": "code",
   "execution_count": 14,
   "metadata": {
    "collapsed": false
   },
   "outputs": [
    {
     "data": {
      "text/plain": [
       "array([False, False, False, False,  True], dtype=bool)"
      ]
     },
     "execution_count": 14,
     "metadata": {},
     "output_type": "execute_result"
    }
   ],
   "source": [
    "s>4"
   ]
  },
  {
   "cell_type": "code",
   "execution_count": 15,
   "metadata": {
    "collapsed": false
   },
   "outputs": [],
   "source": [
    "df_coefficient_clean = df_coefficient[(df_coefficient.index <=21880) | (df_coefficient.index >=30000)]"
   ]
  },
  {
   "cell_type": "code",
   "execution_count": 17,
   "metadata": {
    "collapsed": false
   },
   "outputs": [],
   "source": [
    "df_xFam_name = pd.read_csv('/global/projectb/scratch/qpzhang/Full_Training/Pfam/vFam_Pfam.name',sep = ' ',header=None)"
   ]
  },
  {
   "cell_type": "code",
   "execution_count": 18,
   "metadata": {
    "collapsed": false
   },
   "outputs": [],
   "source": [
    "df_xFam = pd.DataFrame(pd.Series(df_xFam_name[2])) "
   ]
  },
  {
   "cell_type": "code",
   "execution_count": 19,
   "metadata": {
    "collapsed": false
   },
   "outputs": [],
   "source": [
    "df_xFam.index = [x+1 for x in df_xFam.index]\n",
    "df_xFam.columns = ['feature_name']"
   ]
  },
  {
   "cell_type": "code",
   "execution_count": 21,
   "metadata": {
    "collapsed": false
   },
   "outputs": [],
   "source": [
    "import itertools\n",
    "from Bio.Seq import Seq\n",
    "def iterate_kmer(k):\n",
    "    \"\"\" get the list of tetramers\"\"\"\n",
    "    bases = ['A','C','T','G']\n",
    "    kmers = [''.join(p) for p in itertools.product(bases, repeat=k)]\n",
    "#    print kmers\n",
    "    core_kmer = []\n",
    "    for kmer in kmers:\n",
    "        if not str(Seq(kmer).reverse_complement()) in core_kmer:\n",
    "            core_kmer.append(kmer)\n",
    "#    print core_kmer\n",
    "#    print len(core_kmer)\n",
    "    return core_kmer\n",
    "\n",
    "core_kmer = iterate_kmer(4)"
   ]
  },
  {
   "cell_type": "code",
   "execution_count": 22,
   "metadata": {
    "collapsed": false
   },
   "outputs": [],
   "source": [
    "df_kmers = pd.DataFrame(core_kmer)"
   ]
  },
  {
   "cell_type": "code",
   "execution_count": 23,
   "metadata": {
    "collapsed": true
   },
   "outputs": [],
   "source": [
    "df_kmers.index = [x+30000 for x in df_kmers.index]"
   ]
  },
  {
   "cell_type": "code",
   "execution_count": 24,
   "metadata": {
    "collapsed": false
   },
   "outputs": [],
   "source": [
    "df_kmers.columns = ['feature_name']\n",
    "df_kmers['type'] = 'kmers'"
   ]
  },
  {
   "cell_type": "code",
   "execution_count": 26,
   "metadata": {
    "collapsed": false
   },
   "outputs": [],
   "source": [
    "bases = ['A','C','T','G']\n",
    "kmers = [''.join(p) for p in itertools.product(bases, repeat=3)]\n"
   ]
  },
  {
   "cell_type": "code",
   "execution_count": 27,
   "metadata": {
    "collapsed": false
   },
   "outputs": [],
   "source": [
    "hmm_dict = {}\n",
    "for i in range(30136,30136+64):\n",
    "    hmm_dict[i] = 'COD1_1'+kmers[i-30136]\n",
    "for i in range(30136+64,30136+128):\n",
    "    hmm_dict[i] = 'COD1_2'+kmers[i-30136-64]\n",
    "for i in range(30136+128,30136+192):\n",
    "    hmm_dict[i] = 'COD1_3'+kmers[i-30136-128] \n",
    "for i in range(30136+192, 30136+256):\n",
    "    hmm_dict[i] = 'NONC_'+kmers[i-(30136+192)]\n",
    "df_hmm = pd.DataFrame(pd.Series(hmm_dict))\n",
    "df_hmm.columns = ['feature_name']\n",
    "df_hmm['type'] = 'HMM'"
   ]
  },
  {
   "cell_type": "code",
   "execution_count": 29,
   "metadata": {
    "collapsed": false
   },
   "outputs": [],
   "source": [
    "frames = [df_kmers,df_hmm,df_xFam]"
   ]
  },
  {
   "cell_type": "code",
   "execution_count": 30,
   "metadata": {
    "collapsed": false
   },
   "outputs": [],
   "source": [
    "feature_pd = pd.concat(frames)"
   ]
  },
  {
   "cell_type": "code",
   "execution_count": 31,
   "metadata": {
    "collapsed": false
   },
   "outputs": [],
   "source": [
    "df_full = df_coefficient_clean.join(feature_pd, how='outer')"
   ]
  },
  {
   "cell_type": "code",
   "execution_count": 32,
   "metadata": {
    "collapsed": false
   },
   "outputs": [],
   "source": [
    "df_full['coefficient'] = pd.to_numeric(df_full['coefficient'])"
   ]
  },
  {
   "cell_type": "code",
   "execution_count": 48,
   "metadata": {
    "collapsed": false
   },
   "outputs": [
    {
     "data": {
      "text/plain": [
       "<matplotlib.figure.Figure at 0x7f72c3fc97d0>"
      ]
     },
     "execution_count": 48,
     "metadata": {},
     "output_type": "execute_result"
    },
    {
     "data": {
      "text/plain": [
       "<matplotlib.figure.Figure at 0x7f72c3fc97d0>"
      ]
     },
     "metadata": {},
     "output_type": "display_data"
    }
   ],
   "source": [
    "plt.figure()"
   ]
  },
  {
   "cell_type": "code",
   "execution_count": 72,
   "metadata": {
    "collapsed": false
   },
   "outputs": [
    {
     "data": {
      "text/plain": [
       "<matplotlib.text.Text at 0x7f721c4871d0>"
      ]
     },
     "execution_count": 72,
     "metadata": {},
     "output_type": "execute_result"
    },
    {
     "data": {
      "image/png": "[encoded data removed]",
      "text/plain": [
       "<matplotlib.figure.Figure at 0x7f721cd53650>"
      ]
     },
     "metadata": {},
     "output_type": "display_data"
    }
   ],
   "source": [
    "df_full.plot.hist(bins=100)\n",
    "plt.title('feature coefficient: everything')"
   ]
  },
  {
   "cell_type": "code",
   "execution_count": 71,
   "metadata": {
    "collapsed": false
   },
   "outputs": [
    {
     "data": {
      "text/plain": [
       "<matplotlib.text.Text at 0x7f721c71ba90>"
      ]
     },
     "execution_count": 71,
     "metadata": {},
     "output_type": "execute_result"
    },
    {
     "data": {
      "image/png": "[encoded data removed]",
      "text/plain": [
       "<matplotlib.figure.Figure at 0x7f721c79bed0>"
      ]
     },
     "metadata": {},
     "output_type": "display_data"
    }
   ],
   "source": [
    "df_full[(df_full.type==\"HMM\")].hist(bins=100)\n",
    "plt.title('feature coefficient: HMM/codon')"
   ]
  },
  {
   "cell_type": "code",
   "execution_count": 69,
   "metadata": {
    "collapsed": false
   },
   "outputs": [
    {
     "data": {
      "text/plain": [
       "<matplotlib.text.Text at 0x7f721cd4dfd0>"
      ]
     },
     "execution_count": 69,
     "metadata": {},
     "output_type": "execute_result"
    },
    {
     "data": {
      "image/png": "[encoded data removed]",
      "text/plain": [
       "<matplotlib.figure.Figure at 0x7f721cdc7bd0>"
      ]
     },
     "metadata": {},
     "output_type": "display_data"
    }
   ],
   "source": [
    "df_full[(df_full.type==\"xFam\")].hist(bins=100)\n",
    "plt.title('feature coefficient: pFam/vFam')"
   ]
  },
  {
   "cell_type": "code",
   "execution_count": 68,
   "metadata": {
    "collapsed": false
   },
   "outputs": [
    {
     "data": {
      "text/plain": [
       "<matplotlib.text.Text at 0x7f721cfe2a10>"
      ]
     },
     "execution_count": 68,
     "metadata": {},
     "output_type": "execute_result"
    },
    {
     "data": {
      "image/png": "[encoded data removed]",
      "text/plain": [
       "<matplotlib.figure.Figure at 0x7f721d056550>"
      ]
     },
     "metadata": {},
     "output_type": "display_data"
    }
   ],
   "source": [
    "df_full[(df_full.type==\"kmers\")].hist(bins=100,label='kmers')\n",
    "plt.title('feature coefficient: kmers')"
   ]
  },
  {
   "cell_type": "code",
   "execution_count": 42,
   "metadata": {
    "collapsed": false
   },
   "outputs": [],
   "source": [
    "result_sort = df_full.sort_values(by='coefficient')"
   ]
  },
  {
   "cell_type": "code",
   "execution_count": 43,
   "metadata": {
    "collapsed": false
   },
   "outputs": [
    {
     "data": {
      "text/html": [
       "<div>\n",
       "<table border=\"1\" class=\"dataframe\">\n",
       "  <thead>\n",
       "    <tr style=\"text-align: right;\">\n",
       "      <th></th>\n",
       "      <th>coefficient</th>\n",
       "      <th>feature_id</th>\n",
       "      <th>feature_name</th>\n",
       "      <th>type</th>\n",
       "    </tr>\n",
       "  </thead>\n",
       "  <tbody>\n",
       "    <tr>\n",
       "      <th>1799</th>\n",
       "      <td>-0.801489</td>\n",
       "      <td>field_1798</td>\n",
       "      <td>vFam_21</td>\n",
       "      <td>xFam</td>\n",
       "    </tr>\n",
       "    <tr>\n",
       "      <th>30330</th>\n",
       "      <td>-0.556631</td>\n",
       "      <td>field_30329</td>\n",
       "      <td>NONC_AAT</td>\n",
       "      <td>HMM</td>\n",
       "    </tr>\n",
       "    <tr>\n",
       "      <th>18412</th>\n",
       "      <td>-0.541658</td>\n",
       "      <td>field_18411</td>\n",
       "      <td>RdRP_4</td>\n",
       "      <td>xFam</td>\n",
       "    </tr>\n",
       "    <tr>\n",
       "      <th>18410</th>\n",
       "      <td>-0.503262</td>\n",
       "      <td>field_18409</td>\n",
       "      <td>RdRP_2</td>\n",
       "      <td>xFam</td>\n",
       "    </tr>\n",
       "    <tr>\n",
       "      <th>30332</th>\n",
       "      <td>-0.481411</td>\n",
       "      <td>field_30331</td>\n",
       "      <td>NONC_ACA</td>\n",
       "      <td>HMM</td>\n",
       "    </tr>\n",
       "    <tr>\n",
       "      <th>30256</th>\n",
       "      <td>-0.472777</td>\n",
       "      <td>field_30255</td>\n",
       "      <td>COD1_2GTA</td>\n",
       "      <td>HMM</td>\n",
       "    </tr>\n",
       "    <tr>\n",
       "      <th>549</th>\n",
       "      <td>-0.450071</td>\n",
       "      <td>field_548</td>\n",
       "      <td>vFam_112</td>\n",
       "      <td>xFam</td>\n",
       "    </tr>\n",
       "    <tr>\n",
       "      <th>4949</th>\n",
       "      <td>-0.406189</td>\n",
       "      <td>field_4948</td>\n",
       "      <td>vFam_3479</td>\n",
       "      <td>xFam</td>\n",
       "    </tr>\n",
       "    <tr>\n",
       "      <th>21213</th>\n",
       "      <td>-0.398519</td>\n",
       "      <td>field_21212</td>\n",
       "      <td>Viral_helicase1</td>\n",
       "      <td>xFam</td>\n",
       "    </tr>\n",
       "    <tr>\n",
       "      <th>453</th>\n",
       "      <td>-0.391459</td>\n",
       "      <td>field_452</td>\n",
       "      <td>vFam_29</td>\n",
       "      <td>xFam</td>\n",
       "    </tr>\n",
       "    <tr>\n",
       "      <th>13451</th>\n",
       "      <td>-0.388695</td>\n",
       "      <td>field_13450</td>\n",
       "      <td>Gemini_coat</td>\n",
       "      <td>xFam</td>\n",
       "    </tr>\n",
       "    <tr>\n",
       "      <th>2922</th>\n",
       "      <td>-0.377235</td>\n",
       "      <td>field_2921</td>\n",
       "      <td>vFam_722</td>\n",
       "      <td>xFam</td>\n",
       "    </tr>\n",
       "    <tr>\n",
       "      <th>3808</th>\n",
       "      <td>-0.368987</td>\n",
       "      <td>field_3807</td>\n",
       "      <td>vFam_2</td>\n",
       "      <td>xFam</td>\n",
       "    </tr>\n",
       "    <tr>\n",
       "      <th>13446</th>\n",
       "      <td>-0.362972</td>\n",
       "      <td>field_13445</td>\n",
       "      <td>Gemini_AL1_M</td>\n",
       "      <td>xFam</td>\n",
       "    </tr>\n",
       "    <tr>\n",
       "      <th>18411</th>\n",
       "      <td>-0.359466</td>\n",
       "      <td>field_18410</td>\n",
       "      <td>RdRP_3</td>\n",
       "      <td>xFam</td>\n",
       "    </tr>\n",
       "    <tr>\n",
       "      <th>30119</th>\n",
       "      <td>-0.348059</td>\n",
       "      <td>field_30118</td>\n",
       "      <td>TTTC</td>\n",
       "      <td>kmers</td>\n",
       "    </tr>\n",
       "    <tr>\n",
       "      <th>20857</th>\n",
       "      <td>-0.332101</td>\n",
       "      <td>field_20856</td>\n",
       "      <td>TT_ORF1</td>\n",
       "      <td>xFam</td>\n",
       "    </tr>\n",
       "    <tr>\n",
       "      <th>18865</th>\n",
       "      <td>-0.329489</td>\n",
       "      <td>field_18864</td>\n",
       "      <td>RNA_replicase_B</td>\n",
       "      <td>xFam</td>\n",
       "    </tr>\n",
       "    <tr>\n",
       "      <th>13445</th>\n",
       "      <td>-0.327515</td>\n",
       "      <td>field_13444</td>\n",
       "      <td>Gemini_AL1</td>\n",
       "      <td>xFam</td>\n",
       "    </tr>\n",
       "    <tr>\n",
       "      <th>18409</th>\n",
       "      <td>-0.326113</td>\n",
       "      <td>field_18408</td>\n",
       "      <td>RdRP_1</td>\n",
       "      <td>xFam</td>\n",
       "    </tr>\n",
       "    <tr>\n",
       "      <th>1273</th>\n",
       "      <td>-0.311790</td>\n",
       "      <td>field_1272</td>\n",
       "      <td>vFam_24</td>\n",
       "      <td>xFam</td>\n",
       "    </tr>\n",
       "    <tr>\n",
       "      <th>30172</th>\n",
       "      <td>-0.305258</td>\n",
       "      <td>field_30171</td>\n",
       "      <td>COD1_1TCA</td>\n",
       "      <td>HMM</td>\n",
       "    </tr>\n",
       "    <tr>\n",
       "      <th>117</th>\n",
       "      <td>-0.284231</td>\n",
       "      <td>field_116</td>\n",
       "      <td>vFam_42</td>\n",
       "      <td>xFam</td>\n",
       "    </tr>\n",
       "    <tr>\n",
       "      <th>30152</th>\n",
       "      <td>-0.277810</td>\n",
       "      <td>field_30151</td>\n",
       "      <td>COD1_1CAA</td>\n",
       "      <td>HMM</td>\n",
       "    </tr>\n",
       "    <tr>\n",
       "      <th>30314</th>\n",
       "      <td>-0.277670</td>\n",
       "      <td>field_30313</td>\n",
       "      <td>COD1_3GAT</td>\n",
       "      <td>HMM</td>\n",
       "    </tr>\n",
       "    <tr>\n",
       "      <th>3340</th>\n",
       "      <td>-0.276253</td>\n",
       "      <td>field_3339</td>\n",
       "      <td>vFam_103</td>\n",
       "      <td>xFam</td>\n",
       "    </tr>\n",
       "    <tr>\n",
       "      <th>14729</th>\n",
       "      <td>-0.276119</td>\n",
       "      <td>field_14728</td>\n",
       "      <td>IN_DBD_C</td>\n",
       "      <td>xFam</td>\n",
       "    </tr>\n",
       "    <tr>\n",
       "      <th>30354</th>\n",
       "      <td>-0.274138</td>\n",
       "      <td>field_30353</td>\n",
       "      <td>NONC_CTT</td>\n",
       "      <td>HMM</td>\n",
       "    </tr>\n",
       "    <tr>\n",
       "      <th>13449</th>\n",
       "      <td>-0.271157</td>\n",
       "      <td>field_13448</td>\n",
       "      <td>Gemini_BL1</td>\n",
       "      <td>xFam</td>\n",
       "    </tr>\n",
       "    <tr>\n",
       "      <th>2839</th>\n",
       "      <td>-0.270437</td>\n",
       "      <td>field_2838</td>\n",
       "      <td>vFam_32</td>\n",
       "      <td>xFam</td>\n",
       "    </tr>\n",
       "    <tr>\n",
       "      <th>...</th>\n",
       "      <td>...</td>\n",
       "      <td>...</td>\n",
       "      <td>...</td>\n",
       "      <td>...</td>\n",
       "    </tr>\n",
       "    <tr>\n",
       "      <th>30383</th>\n",
       "      <td>0.273131</td>\n",
       "      <td>field_30382</td>\n",
       "      <td>NONC_GCG</td>\n",
       "      <td>HMM</td>\n",
       "    </tr>\n",
       "    <tr>\n",
       "      <th>30267</th>\n",
       "      <td>0.277442</td>\n",
       "      <td>field_30266</td>\n",
       "      <td>COD1_3AAG</td>\n",
       "      <td>HMM</td>\n",
       "    </tr>\n",
       "    <tr>\n",
       "      <th>5837</th>\n",
       "      <td>0.286837</td>\n",
       "      <td>field_5836</td>\n",
       "      <td>ACR_tran</td>\n",
       "      <td>xFam</td>\n",
       "    </tr>\n",
       "    <tr>\n",
       "      <th>7183</th>\n",
       "      <td>0.287760</td>\n",
       "      <td>field_7182</td>\n",
       "      <td>CBM_48</td>\n",
       "      <td>xFam</td>\n",
       "    </tr>\n",
       "    <tr>\n",
       "      <th>18475</th>\n",
       "      <td>0.293333</td>\n",
       "      <td>field_18474</td>\n",
       "      <td>Replicase</td>\n",
       "      <td>xFam</td>\n",
       "    </tr>\n",
       "    <tr>\n",
       "      <th>30388</th>\n",
       "      <td>0.294010</td>\n",
       "      <td>field_30387</td>\n",
       "      <td>NONC_GGA</td>\n",
       "      <td>HMM</td>\n",
       "    </tr>\n",
       "    <tr>\n",
       "      <th>6109</th>\n",
       "      <td>0.294399</td>\n",
       "      <td>field_6108</td>\n",
       "      <td>Aminotran_1_2</td>\n",
       "      <td>xFam</td>\n",
       "    </tr>\n",
       "    <tr>\n",
       "      <th>30391</th>\n",
       "      <td>0.301081</td>\n",
       "      <td>field_30390</td>\n",
       "      <td>NONC_GGG</td>\n",
       "      <td>HMM</td>\n",
       "    </tr>\n",
       "    <tr>\n",
       "      <th>30334</th>\n",
       "      <td>0.307931</td>\n",
       "      <td>field_30333</td>\n",
       "      <td>NONC_ACT</td>\n",
       "      <td>HMM</td>\n",
       "    </tr>\n",
       "    <tr>\n",
       "      <th>18484</th>\n",
       "      <td>0.310032</td>\n",
       "      <td>field_18483</td>\n",
       "      <td>Rep_2</td>\n",
       "      <td>xFam</td>\n",
       "    </tr>\n",
       "    <tr>\n",
       "      <th>8806</th>\n",
       "      <td>0.310616</td>\n",
       "      <td>field_8805</td>\n",
       "      <td>DUF1424</td>\n",
       "      <td>xFam</td>\n",
       "    </tr>\n",
       "    <tr>\n",
       "      <th>18335</th>\n",
       "      <td>0.321107</td>\n",
       "      <td>field_18334</td>\n",
       "      <td>Radical_SAM</td>\n",
       "      <td>xFam</td>\n",
       "    </tr>\n",
       "    <tr>\n",
       "      <th>15627</th>\n",
       "      <td>0.322178</td>\n",
       "      <td>field_15626</td>\n",
       "      <td>MFS_1</td>\n",
       "      <td>xFam</td>\n",
       "    </tr>\n",
       "    <tr>\n",
       "      <th>16987</th>\n",
       "      <td>0.327694</td>\n",
       "      <td>field_16986</td>\n",
       "      <td>PE</td>\n",
       "      <td>xFam</td>\n",
       "    </tr>\n",
       "    <tr>\n",
       "      <th>6028</th>\n",
       "      <td>0.329844</td>\n",
       "      <td>field_6027</td>\n",
       "      <td>Aldedh</td>\n",
       "      <td>xFam</td>\n",
       "    </tr>\n",
       "    <tr>\n",
       "      <th>20479</th>\n",
       "      <td>0.334234</td>\n",
       "      <td>field_20478</td>\n",
       "      <td>TonB_dep_Rec</td>\n",
       "      <td>xFam</td>\n",
       "    </tr>\n",
       "    <tr>\n",
       "      <th>7753</th>\n",
       "      <td>0.339194</td>\n",
       "      <td>field_7752</td>\n",
       "      <td>COX2_TM</td>\n",
       "      <td>xFam</td>\n",
       "    </tr>\n",
       "    <tr>\n",
       "      <th>6124</th>\n",
       "      <td>0.354619</td>\n",
       "      <td>field_6123</td>\n",
       "      <td>AMP-binding</td>\n",
       "      <td>xFam</td>\n",
       "    </tr>\n",
       "    <tr>\n",
       "      <th>7746</th>\n",
       "      <td>0.359590</td>\n",
       "      <td>field_7745</td>\n",
       "      <td>COX1</td>\n",
       "      <td>xFam</td>\n",
       "    </tr>\n",
       "    <tr>\n",
       "      <th>18483</th>\n",
       "      <td>0.364799</td>\n",
       "      <td>field_18482</td>\n",
       "      <td>Rep_1</td>\n",
       "      <td>xFam</td>\n",
       "    </tr>\n",
       "    <tr>\n",
       "      <th>17723</th>\n",
       "      <td>0.366852</td>\n",
       "      <td>field_17722</td>\n",
       "      <td>Plug</td>\n",
       "      <td>xFam</td>\n",
       "    </tr>\n",
       "    <tr>\n",
       "      <th>15740</th>\n",
       "      <td>0.374212</td>\n",
       "      <td>field_15739</td>\n",
       "      <td>MlaD</td>\n",
       "      <td>xFam</td>\n",
       "    </tr>\n",
       "    <tr>\n",
       "      <th>30277</th>\n",
       "      <td>0.378319</td>\n",
       "      <td>field_30276</td>\n",
       "      <td>COD1_3AGC</td>\n",
       "      <td>HMM</td>\n",
       "    </tr>\n",
       "    <tr>\n",
       "      <th>30328</th>\n",
       "      <td>0.383310</td>\n",
       "      <td>field_30327</td>\n",
       "      <td>NONC_AAA</td>\n",
       "      <td>HMM</td>\n",
       "    </tr>\n",
       "    <tr>\n",
       "      <th>6828</th>\n",
       "      <td>0.393506</td>\n",
       "      <td>field_6827</td>\n",
       "      <td>BPD_transp_1</td>\n",
       "      <td>xFam</td>\n",
       "    </tr>\n",
       "    <tr>\n",
       "      <th>16077</th>\n",
       "      <td>0.409947</td>\n",
       "      <td>field_16076</td>\n",
       "      <td>NADHdh</td>\n",
       "      <td>xFam</td>\n",
       "    </tr>\n",
       "    <tr>\n",
       "      <th>5752</th>\n",
       "      <td>0.434032</td>\n",
       "      <td>field_5751</td>\n",
       "      <td>ABC_tran</td>\n",
       "      <td>xFam</td>\n",
       "    </tr>\n",
       "    <tr>\n",
       "      <th>19166</th>\n",
       "      <td>0.437545</td>\n",
       "      <td>field_19165</td>\n",
       "      <td>SBP_bac_5</td>\n",
       "      <td>xFam</td>\n",
       "    </tr>\n",
       "    <tr>\n",
       "      <th>16714</th>\n",
       "      <td>0.543653</td>\n",
       "      <td>field_16713</td>\n",
       "      <td>Oxidored_q3</td>\n",
       "      <td>xFam</td>\n",
       "    </tr>\n",
       "    <tr>\n",
       "      <th>18074</th>\n",
       "      <td>0.564074</td>\n",
       "      <td>field_18073</td>\n",
       "      <td>Proton_antipo_M</td>\n",
       "      <td>xFam</td>\n",
       "    </tr>\n",
       "  </tbody>\n",
       "</table>\n",
       "<p>22272 rows × 4 columns</p>\n",
       "</div>"
      ],
      "text/plain": [
       "       coefficient   feature_id     feature_name   type\n",
       "1799     -0.801489   field_1798          vFam_21   xFam\n",
       "30330    -0.556631  field_30329         NONC_AAT    HMM\n",
       "18412    -0.541658  field_18411           RdRP_4   xFam\n",
       "18410    -0.503262  field_18409           RdRP_2   xFam\n",
       "30332    -0.481411  field_30331         NONC_ACA    HMM\n",
       "30256    -0.472777  field_30255        COD1_2GTA    HMM\n",
       "549      -0.450071    field_548         vFam_112   xFam\n",
       "4949     -0.406189   field_4948        vFam_3479   xFam\n",
       "21213    -0.398519  field_21212  Viral_helicase1   xFam\n",
       "453      -0.391459    field_452          vFam_29   xFam\n",
       "13451    -0.388695  field_13450      Gemini_coat   xFam\n",
       "2922     -0.377235   field_2921         vFam_722   xFam\n",
       "3808     -0.368987   field_3807           vFam_2   xFam\n",
       "13446    -0.362972  field_13445     Gemini_AL1_M   xFam\n",
       "18411    -0.359466  field_18410           RdRP_3   xFam\n",
       "30119    -0.348059  field_30118             TTTC  kmers\n",
       "20857    -0.332101  field_20856          TT_ORF1   xFam\n",
       "18865    -0.329489  field_18864  RNA_replicase_B   xFam\n",
       "13445    -0.327515  field_13444       Gemini_AL1   xFam\n",
       "18409    -0.326113  field_18408           RdRP_1   xFam\n",
       "1273     -0.311790   field_1272          vFam_24   xFam\n",
       "30172    -0.305258  field_30171        COD1_1TCA    HMM\n",
       "117      -0.284231    field_116          vFam_42   xFam\n",
       "30152    -0.277810  field_30151        COD1_1CAA    HMM\n",
       "30314    -0.277670  field_30313        COD1_3GAT    HMM\n",
       "3340     -0.276253   field_3339         vFam_103   xFam\n",
       "14729    -0.276119  field_14728         IN_DBD_C   xFam\n",
       "30354    -0.274138  field_30353         NONC_CTT    HMM\n",
       "13449    -0.271157  field_13448       Gemini_BL1   xFam\n",
       "2839     -0.270437   field_2838          vFam_32   xFam\n",
       "...            ...          ...              ...    ...\n",
       "30383     0.273131  field_30382         NONC_GCG    HMM\n",
       "30267     0.277442  field_30266        COD1_3AAG    HMM\n",
       "5837      0.286837   field_5836         ACR_tran   xFam\n",
       "7183      0.287760   field_7182           CBM_48   xFam\n",
       "18475     0.293333  field_18474        Replicase   xFam\n",
       "30388     0.294010  field_30387         NONC_GGA    HMM\n",
       "6109      0.294399   field_6108    Aminotran_1_2   xFam\n",
       "30391     0.301081  field_30390         NONC_GGG    HMM\n",
       "30334     0.307931  field_30333         NONC_ACT    HMM\n",
       "18484     0.310032  field_18483            Rep_2   xFam\n",
       "8806      0.310616   field_8805          DUF1424   xFam\n",
       "18335     0.321107  field_18334      Radical_SAM   xFam\n",
       "15627     0.322178  field_15626            MFS_1   xFam\n",
       "16987     0.327694  field_16986               PE   xFam\n",
       "6028      0.329844   field_6027           Aldedh   xFam\n",
       "20479     0.334234  field_20478     TonB_dep_Rec   xFam\n",
       "7753      0.339194   field_7752          COX2_TM   xFam\n",
       "6124      0.354619   field_6123      AMP-binding   xFam\n",
       "7746      0.359590   field_7745             COX1   xFam\n",
       "18483     0.364799  field_18482            Rep_1   xFam\n",
       "17723     0.366852  field_17722             Plug   xFam\n",
       "15740     0.374212  field_15739             MlaD   xFam\n",
       "30277     0.378319  field_30276        COD1_3AGC    HMM\n",
       "30328     0.383310  field_30327         NONC_AAA    HMM\n",
       "6828      0.393506   field_6827     BPD_transp_1   xFam\n",
       "16077     0.409947  field_16076           NADHdh   xFam\n",
       "5752      0.434032   field_5751         ABC_tran   xFam\n",
       "19166     0.437545  field_19165        SBP_bac_5   xFam\n",
       "16714     0.543653  field_16713      Oxidored_q3   xFam\n",
       "18074     0.564074  field_18073  Proton_antipo_M   xFam\n",
       "\n",
       "[22272 rows x 4 columns]"
      ]
     },
     "execution_count": 43,
     "metadata": {},
     "output_type": "execute_result"
    }
   ],
   "source": [
    "result_sort"
   ]
  },
  {
   "cell_type": "code",
   "execution_count": 74,
   "metadata": {
    "collapsed": false
   },
   "outputs": [],
   "source": [
    "result_sort.to_csv(\"sort_coefficient.csv\")"
   ]
  },
  {
   "cell_type": "code",
   "execution_count": null,
   "metadata": {
    "collapsed": true
   },
   "outputs": [],
   "source": []
  }
 ],
 "metadata": {
  "kernelspec": {
   "display_name": "Python 2",
   "language": "python",
   "name": "python2"
  },
  "language_info": {
   "codemirror_mode": {
    "name": "ipython",
    "version": 2
   },
   "file_extension": ".py",
   "mimetype": "text/x-python",
   "name": "python",
   "nbconvert_exporter": "python",
   "pygments_lexer": "ipython2",
   "version": "2.7.11"
  }
 },
 "nbformat": 4,
 "nbformat_minor": 0
}
