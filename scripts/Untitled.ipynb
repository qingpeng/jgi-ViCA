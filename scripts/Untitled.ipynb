{
 "cells": [
  {
   "cell_type": "code",
   "execution_count": 14,
   "metadata": {
    "collapsed": true
   },
   "outputs": [],
   "source": [
    "import matplotlib.pyplot as plt"
   ]
  },
  {
   "cell_type": "code",
   "execution_count": 15,
   "metadata": {
    "collapsed": false
   },
   "outputs": [],
   "source": [
    "file_in = open(\"all_metric.out\",'r')"
   ]
  },
  {
   "cell_type": "code",
   "execution_count": 16,
   "metadata": {
    "collapsed": false
   },
   "outputs": [
    {
     "data": {
      "text/plain": [
       "'file\\taccuracy\\tprecision\\trecall\\tf1_score\\tauc\\tlog_loss\\n'"
      ]
     },
     "execution_count": 16,
     "metadata": {},
     "output_type": "execute_result"
    }
   ],
   "source": [
    "file_in.readline()"
   ]
  },
  {
   "cell_type": "code",
   "execution_count": 23,
   "metadata": {
    "collapsed": false
   },
   "outputs": [],
   "source": [
    "plt.plot(4,5,label='1')\n",
    "plt.plot(10,3,label = '2')\n",
    "for line in file_in:\n",
    "    line = line.rstrip()\n",
    "    if \"logistic\" in line:\n",
    "        method = \"logistic\"\n",
    "        c = 'r'\n",
    "    elif \"boosted\" in line:\n",
    "        method = \"boosted\"\n",
    "        c = 'b' \n",
    "    elif \"SVM\" in line:\n",
    "        method = \"SVM\"\n",
    "        c = 'g'\n",
    "        \n",
    "    fields = line.split('\\t')\n",
    "    if len(fields)<4:\n",
    "        continue\n",
    "    plt.plot(float(fields[4]),float(fields[3]),label=method,color=c)\n",
    "    \n",
    "    \n"
   ]
  },
  {
   "cell_type": "code",
   "execution_count": 24,
   "metadata": {
    "collapsed": true
   },
   "outputs": [],
   "source": [
    "plt.savefig('new.pdf')"
   ]
  },
  {
   "cell_type": "code",
   "execution_count": null,
   "metadata": {
    "collapsed": true
   },
   "outputs": [],
   "source": []
  }
 ],
 "metadata": {
  "kernelspec": {
   "display_name": "Python 2",
   "language": "python",
   "name": "python2"
  },
  "language_info": {
   "codemirror_mode": {
    "name": "ipython",
    "version": 2
   },
   "file_extension": ".py",
   "mimetype": "text/x-python",
   "name": "python",
   "nbconvert_exporter": "python",
   "pygments_lexer": "ipython2",
   "version": "2.7.10"
  }
 },
 "nbformat": 4,
 "nbformat_minor": 0
}
